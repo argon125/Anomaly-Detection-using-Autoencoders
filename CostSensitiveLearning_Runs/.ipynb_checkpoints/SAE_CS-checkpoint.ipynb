{
 "cells": [
  {
   "cell_type": "code",
   "execution_count": 1,
   "id": "26514747-fc86-47ff-a5f5-66b4e87d015c",
   "metadata": {},
   "outputs": [],
   "source": [
    "import numpy as np\n",
    "import pandas as pd\n",
    "import matplotlib.pyplot as plt\n",
    "import os\n",
    "import tensorflow as tf"
   ]
  },
  {
   "cell_type": "code",
   "execution_count": 2,
   "id": "1f147c9a-2442-48ad-b9fa-072496906038",
   "metadata": {},
   "outputs": [],
   "source": [
    "feature = [\"duration\",\"protocol_type\",\"service\",\"flag\",\"src_bytes\",\n",
    "    \"dst_bytes\",\"land\",\"wrong_fragment\",\"urgent\",\"hot\",\"num_failed_logins\",\n",
    "    \"logged_in\",\"num_compromised\",\"root_shell\",\"su_attempted\",\"num_root\",\n",
    "    \"num_file_creations\",\"num_shells\",\"num_access_files\",\"num_outbound_cmds\",\n",
    "    \"is_host_login\",\"is_guest_login\",\"count\",\"srv_count\",\"serror_rate\",\n",
    "    \"srv_serror_rate\",\"rerror_rate\",\"srv_rerror_rate\",\"same_srv_rate\",\n",
    "    \"diff_srv_rate\",\"srv_diff_host_rate\",\"dst_host_count\",\"dst_host_srv_count\",\n",
    "    \"dst_host_same_srv_rate\",\"dst_host_diff_srv_rate\",\"dst_host_same_src_port_rate\",\n",
    "    \"dst_host_srv_diff_host_rate\",\"dst_host_serror_rate\",\"dst_host_srv_serror_rate\",\n",
    "    \"dst_host_rerror_rate\",\"dst_host_srv_rerror_rate\",\"target\",\"junk\"]"
   ]
  },
  {
   "cell_type": "code",
   "execution_count": 3,
   "id": "cb0da254-4668-443a-bf18-ab1ae941ba99",
   "metadata": {},
   "outputs": [],
   "source": [
    "os.chdir(\"C:/Users/ArrunPersonal/Codes/Semester7/IDS/NSL-KDD\")"
   ]
  },
  {
   "cell_type": "code",
   "execution_count": 4,
   "id": "83324749-e38a-403c-a67b-1944a45d27b9",
   "metadata": {},
   "outputs": [],
   "source": [
    "df1 = pd.read_csv(\"KDDTrain+.csv\", names = feature)\n",
    "df2 = pd.read_csv(\"KDDTest+.csv\", names = feature)\n",
    "df = pd.concat([df1, df2], axis=0)\n",
    "df.drop([\"junk\"],axis = 1,inplace = True)"
   ]
  },
  {
   "cell_type": "code",
   "execution_count": 5,
   "id": "8b2f2637-6daf-4c35-a85d-7bc9cb3a1bb3",
   "metadata": {},
   "outputs": [
    {
     "data": {
      "text/plain": [
       "False"
      ]
     },
     "execution_count": 5,
     "metadata": {},
     "output_type": "execute_result"
    }
   ],
   "source": [
    "df2.isnull().values.any()"
   ]
  },
  {
   "cell_type": "code",
   "execution_count": 6,
   "id": "83a5fecd-d59c-4b45-ad0f-e5dc091e8902",
   "metadata": {},
   "outputs": [
    {
     "data": {
      "text/html": [
       "<div>\n",
       "<style scoped>\n",
       "    .dataframe tbody tr th:only-of-type {\n",
       "        vertical-align: middle;\n",
       "    }\n",
       "\n",
       "    .dataframe tbody tr th {\n",
       "        vertical-align: top;\n",
       "    }\n",
       "\n",
       "    .dataframe thead th {\n",
       "        text-align: right;\n",
       "    }\n",
       "</style>\n",
       "<table border=\"1\" class=\"dataframe\">\n",
       "  <thead>\n",
       "    <tr style=\"text-align: right;\">\n",
       "      <th></th>\n",
       "      <th>duration</th>\n",
       "      <th>protocol_type</th>\n",
       "      <th>service</th>\n",
       "      <th>flag</th>\n",
       "      <th>src_bytes</th>\n",
       "      <th>dst_bytes</th>\n",
       "      <th>land</th>\n",
       "      <th>wrong_fragment</th>\n",
       "      <th>urgent</th>\n",
       "      <th>hot</th>\n",
       "      <th>...</th>\n",
       "      <th>dst_host_srv_count</th>\n",
       "      <th>dst_host_same_srv_rate</th>\n",
       "      <th>dst_host_diff_srv_rate</th>\n",
       "      <th>dst_host_same_src_port_rate</th>\n",
       "      <th>dst_host_srv_diff_host_rate</th>\n",
       "      <th>dst_host_serror_rate</th>\n",
       "      <th>dst_host_srv_serror_rate</th>\n",
       "      <th>dst_host_rerror_rate</th>\n",
       "      <th>dst_host_srv_rerror_rate</th>\n",
       "      <th>target</th>\n",
       "    </tr>\n",
       "  </thead>\n",
       "  <tbody>\n",
       "    <tr>\n",
       "      <th>0</th>\n",
       "      <td>0</td>\n",
       "      <td>tcp</td>\n",
       "      <td>ftp_data</td>\n",
       "      <td>SF</td>\n",
       "      <td>491</td>\n",
       "      <td>0</td>\n",
       "      <td>0</td>\n",
       "      <td>0</td>\n",
       "      <td>0</td>\n",
       "      <td>0</td>\n",
       "      <td>...</td>\n",
       "      <td>25</td>\n",
       "      <td>0.17</td>\n",
       "      <td>0.03</td>\n",
       "      <td>0.17</td>\n",
       "      <td>0.00</td>\n",
       "      <td>0.00</td>\n",
       "      <td>0.00</td>\n",
       "      <td>0.05</td>\n",
       "      <td>0.00</td>\n",
       "      <td>normal</td>\n",
       "    </tr>\n",
       "    <tr>\n",
       "      <th>1</th>\n",
       "      <td>0</td>\n",
       "      <td>udp</td>\n",
       "      <td>other</td>\n",
       "      <td>SF</td>\n",
       "      <td>146</td>\n",
       "      <td>0</td>\n",
       "      <td>0</td>\n",
       "      <td>0</td>\n",
       "      <td>0</td>\n",
       "      <td>0</td>\n",
       "      <td>...</td>\n",
       "      <td>1</td>\n",
       "      <td>0.00</td>\n",
       "      <td>0.60</td>\n",
       "      <td>0.88</td>\n",
       "      <td>0.00</td>\n",
       "      <td>0.00</td>\n",
       "      <td>0.00</td>\n",
       "      <td>0.00</td>\n",
       "      <td>0.00</td>\n",
       "      <td>normal</td>\n",
       "    </tr>\n",
       "    <tr>\n",
       "      <th>2</th>\n",
       "      <td>0</td>\n",
       "      <td>tcp</td>\n",
       "      <td>private</td>\n",
       "      <td>S0</td>\n",
       "      <td>0</td>\n",
       "      <td>0</td>\n",
       "      <td>0</td>\n",
       "      <td>0</td>\n",
       "      <td>0</td>\n",
       "      <td>0</td>\n",
       "      <td>...</td>\n",
       "      <td>26</td>\n",
       "      <td>0.10</td>\n",
       "      <td>0.05</td>\n",
       "      <td>0.00</td>\n",
       "      <td>0.00</td>\n",
       "      <td>1.00</td>\n",
       "      <td>1.00</td>\n",
       "      <td>0.00</td>\n",
       "      <td>0.00</td>\n",
       "      <td>neptune</td>\n",
       "    </tr>\n",
       "    <tr>\n",
       "      <th>3</th>\n",
       "      <td>0</td>\n",
       "      <td>tcp</td>\n",
       "      <td>http</td>\n",
       "      <td>SF</td>\n",
       "      <td>232</td>\n",
       "      <td>8153</td>\n",
       "      <td>0</td>\n",
       "      <td>0</td>\n",
       "      <td>0</td>\n",
       "      <td>0</td>\n",
       "      <td>...</td>\n",
       "      <td>255</td>\n",
       "      <td>1.00</td>\n",
       "      <td>0.00</td>\n",
       "      <td>0.03</td>\n",
       "      <td>0.04</td>\n",
       "      <td>0.03</td>\n",
       "      <td>0.01</td>\n",
       "      <td>0.00</td>\n",
       "      <td>0.01</td>\n",
       "      <td>normal</td>\n",
       "    </tr>\n",
       "    <tr>\n",
       "      <th>4</th>\n",
       "      <td>0</td>\n",
       "      <td>tcp</td>\n",
       "      <td>http</td>\n",
       "      <td>SF</td>\n",
       "      <td>199</td>\n",
       "      <td>420</td>\n",
       "      <td>0</td>\n",
       "      <td>0</td>\n",
       "      <td>0</td>\n",
       "      <td>0</td>\n",
       "      <td>...</td>\n",
       "      <td>255</td>\n",
       "      <td>1.00</td>\n",
       "      <td>0.00</td>\n",
       "      <td>0.00</td>\n",
       "      <td>0.00</td>\n",
       "      <td>0.00</td>\n",
       "      <td>0.00</td>\n",
       "      <td>0.00</td>\n",
       "      <td>0.00</td>\n",
       "      <td>normal</td>\n",
       "    </tr>\n",
       "  </tbody>\n",
       "</table>\n",
       "<p>5 rows × 42 columns</p>\n",
       "</div>"
      ],
      "text/plain": [
       "   duration protocol_type   service flag  src_bytes  dst_bytes  land  \\\n",
       "0         0           tcp  ftp_data   SF        491          0     0   \n",
       "1         0           udp     other   SF        146          0     0   \n",
       "2         0           tcp   private   S0          0          0     0   \n",
       "3         0           tcp      http   SF        232       8153     0   \n",
       "4         0           tcp      http   SF        199        420     0   \n",
       "\n",
       "   wrong_fragment  urgent  hot  ...  dst_host_srv_count  \\\n",
       "0               0       0    0  ...                  25   \n",
       "1               0       0    0  ...                   1   \n",
       "2               0       0    0  ...                  26   \n",
       "3               0       0    0  ...                 255   \n",
       "4               0       0    0  ...                 255   \n",
       "\n",
       "   dst_host_same_srv_rate  dst_host_diff_srv_rate  \\\n",
       "0                    0.17                    0.03   \n",
       "1                    0.00                    0.60   \n",
       "2                    0.10                    0.05   \n",
       "3                    1.00                    0.00   \n",
       "4                    1.00                    0.00   \n",
       "\n",
       "   dst_host_same_src_port_rate  dst_host_srv_diff_host_rate  \\\n",
       "0                         0.17                         0.00   \n",
       "1                         0.88                         0.00   \n",
       "2                         0.00                         0.00   \n",
       "3                         0.03                         0.04   \n",
       "4                         0.00                         0.00   \n",
       "\n",
       "   dst_host_serror_rate  dst_host_srv_serror_rate  dst_host_rerror_rate  \\\n",
       "0                  0.00                      0.00                  0.05   \n",
       "1                  0.00                      0.00                  0.00   \n",
       "2                  1.00                      1.00                  0.00   \n",
       "3                  0.03                      0.01                  0.00   \n",
       "4                  0.00                      0.00                  0.00   \n",
       "\n",
       "   dst_host_srv_rerror_rate   target  \n",
       "0                      0.00   normal  \n",
       "1                      0.00   normal  \n",
       "2                      0.00  neptune  \n",
       "3                      0.01   normal  \n",
       "4                      0.00   normal  \n",
       "\n",
       "[5 rows x 42 columns]"
      ]
     },
     "execution_count": 6,
     "metadata": {},
     "output_type": "execute_result"
    }
   ],
   "source": [
    "df.head()"
   ]
  },
  {
   "cell_type": "code",
   "execution_count": 7,
   "id": "a18b515a-ddb5-4080-b34f-7f1f27a0bf63",
   "metadata": {},
   "outputs": [],
   "source": [
    "protocol_dict = dict(zip(set(df['protocol_type']),np.arange(len(set(df['protocol_type'])))))\n",
    "service_dict = dict(zip(set(df['service']),np.arange(len(set(df['service'])))))\n",
    "flag_dict = dict(zip(set(df['flag']),np.arange(len(set(df['flag'])))))"
   ]
  },
  {
   "cell_type": "code",
   "execution_count": 8,
   "id": "d936db9e-d515-4632-9ccb-e839214b4898",
   "metadata": {},
   "outputs": [],
   "source": [
    "# changing attack labels to their respective attack class\n",
    "def change_feature(df):\n",
    "    df.target.replace(['apache2','back','land','neptune','mailbomb','pod','processtable','smurf','teardrop','udpstorm','worm'],'Dos',inplace=True)\n",
    "    df.target.replace(['ftp_write','guess_passwd','httptunnel','imap','multihop','named','phf','sendmail','snmpgetattack','snmpguess','spy'\n",
    "                       ,'warezclient','warezmaster','xlock','xsnoop'],'R2L',inplace=True)      \n",
    "    df.target.replace(['ipsweep','mscan','nmap','portsweep','saint','satan'],'Probe',inplace=True)\n",
    "    df.target.replace(['buffer_overflow','loadmodule','perl','ps','rootkit','sqlattack','xterm'],'U2R',inplace=True)\n",
    "    \n",
    "    df.protocol_type.replace(protocol_dict.keys(),protocol_dict.values(),inplace=True)\n",
    "    df.service.replace(service_dict.keys(),service_dict.values(),inplace=True)\n",
    "    df.flag.replace(flag_dict.keys(),flag_dict.values(),inplace=True)"
   ]
  },
  {
   "cell_type": "code",
   "execution_count": 9,
   "id": "8ccbc07a-197d-4605-8326-5e525a72a93a",
   "metadata": {},
   "outputs": [],
   "source": [
    "change_feature(df)"
   ]
  },
  {
   "cell_type": "code",
   "execution_count": 10,
   "id": "1e26cc37-042f-4e38-b806-87f98d0d7933",
   "metadata": {},
   "outputs": [],
   "source": [
    "target_dict = dict(zip(set(df['target']),np.arange(len(set(df['target'])))))"
   ]
  },
  {
   "cell_type": "code",
   "execution_count": 11,
   "id": "b196459f-91c1-417a-a020-2f1fc2f39215",
   "metadata": {},
   "outputs": [],
   "source": [
    "def change_target(df):\n",
    "    df.target.replace(target_dict.keys(),target_dict.values(),inplace=True)"
   ]
  },
  {
   "cell_type": "code",
   "execution_count": 12,
   "id": "8501a05e-a96c-4124-9fe9-c13131b8a59b",
   "metadata": {},
   "outputs": [],
   "source": [
    "change_target(df)"
   ]
  },
  {
   "cell_type": "code",
   "execution_count": 13,
   "id": "4a017340-3b4a-49ed-aa1b-1abcd93feade",
   "metadata": {},
   "outputs": [
    {
     "data": {
      "text/html": [
       "<div>\n",
       "<style scoped>\n",
       "    .dataframe tbody tr th:only-of-type {\n",
       "        vertical-align: middle;\n",
       "    }\n",
       "\n",
       "    .dataframe tbody tr th {\n",
       "        vertical-align: top;\n",
       "    }\n",
       "\n",
       "    .dataframe thead th {\n",
       "        text-align: right;\n",
       "    }\n",
       "</style>\n",
       "<table border=\"1\" class=\"dataframe\">\n",
       "  <thead>\n",
       "    <tr style=\"text-align: right;\">\n",
       "      <th></th>\n",
       "      <th>duration</th>\n",
       "      <th>protocol_type</th>\n",
       "      <th>service</th>\n",
       "      <th>flag</th>\n",
       "      <th>src_bytes</th>\n",
       "      <th>dst_bytes</th>\n",
       "      <th>land</th>\n",
       "      <th>wrong_fragment</th>\n",
       "      <th>urgent</th>\n",
       "      <th>hot</th>\n",
       "      <th>...</th>\n",
       "      <th>dst_host_srv_count</th>\n",
       "      <th>dst_host_same_srv_rate</th>\n",
       "      <th>dst_host_diff_srv_rate</th>\n",
       "      <th>dst_host_same_src_port_rate</th>\n",
       "      <th>dst_host_srv_diff_host_rate</th>\n",
       "      <th>dst_host_serror_rate</th>\n",
       "      <th>dst_host_srv_serror_rate</th>\n",
       "      <th>dst_host_rerror_rate</th>\n",
       "      <th>dst_host_srv_rerror_rate</th>\n",
       "      <th>target</th>\n",
       "    </tr>\n",
       "  </thead>\n",
       "  <tbody>\n",
       "    <tr>\n",
       "      <th>0</th>\n",
       "      <td>0</td>\n",
       "      <td>2</td>\n",
       "      <td>63</td>\n",
       "      <td>3</td>\n",
       "      <td>491</td>\n",
       "      <td>0</td>\n",
       "      <td>0</td>\n",
       "      <td>0</td>\n",
       "      <td>0</td>\n",
       "      <td>0</td>\n",
       "      <td>...</td>\n",
       "      <td>25</td>\n",
       "      <td>0.17</td>\n",
       "      <td>0.03</td>\n",
       "      <td>0.17</td>\n",
       "      <td>0.00</td>\n",
       "      <td>0.00</td>\n",
       "      <td>0.00</td>\n",
       "      <td>0.05</td>\n",
       "      <td>0.00</td>\n",
       "      <td>3</td>\n",
       "    </tr>\n",
       "    <tr>\n",
       "      <th>1</th>\n",
       "      <td>0</td>\n",
       "      <td>0</td>\n",
       "      <td>67</td>\n",
       "      <td>3</td>\n",
       "      <td>146</td>\n",
       "      <td>0</td>\n",
       "      <td>0</td>\n",
       "      <td>0</td>\n",
       "      <td>0</td>\n",
       "      <td>0</td>\n",
       "      <td>...</td>\n",
       "      <td>1</td>\n",
       "      <td>0.00</td>\n",
       "      <td>0.60</td>\n",
       "      <td>0.88</td>\n",
       "      <td>0.00</td>\n",
       "      <td>0.00</td>\n",
       "      <td>0.00</td>\n",
       "      <td>0.00</td>\n",
       "      <td>0.00</td>\n",
       "      <td>3</td>\n",
       "    </tr>\n",
       "    <tr>\n",
       "      <th>2</th>\n",
       "      <td>0</td>\n",
       "      <td>2</td>\n",
       "      <td>59</td>\n",
       "      <td>10</td>\n",
       "      <td>0</td>\n",
       "      <td>0</td>\n",
       "      <td>0</td>\n",
       "      <td>0</td>\n",
       "      <td>0</td>\n",
       "      <td>0</td>\n",
       "      <td>...</td>\n",
       "      <td>26</td>\n",
       "      <td>0.10</td>\n",
       "      <td>0.05</td>\n",
       "      <td>0.00</td>\n",
       "      <td>0.00</td>\n",
       "      <td>1.00</td>\n",
       "      <td>1.00</td>\n",
       "      <td>0.00</td>\n",
       "      <td>0.00</td>\n",
       "      <td>4</td>\n",
       "    </tr>\n",
       "    <tr>\n",
       "      <th>3</th>\n",
       "      <td>0</td>\n",
       "      <td>2</td>\n",
       "      <td>54</td>\n",
       "      <td>3</td>\n",
       "      <td>232</td>\n",
       "      <td>8153</td>\n",
       "      <td>0</td>\n",
       "      <td>0</td>\n",
       "      <td>0</td>\n",
       "      <td>0</td>\n",
       "      <td>...</td>\n",
       "      <td>255</td>\n",
       "      <td>1.00</td>\n",
       "      <td>0.00</td>\n",
       "      <td>0.03</td>\n",
       "      <td>0.04</td>\n",
       "      <td>0.03</td>\n",
       "      <td>0.01</td>\n",
       "      <td>0.00</td>\n",
       "      <td>0.01</td>\n",
       "      <td>3</td>\n",
       "    </tr>\n",
       "    <tr>\n",
       "      <th>4</th>\n",
       "      <td>0</td>\n",
       "      <td>2</td>\n",
       "      <td>54</td>\n",
       "      <td>3</td>\n",
       "      <td>199</td>\n",
       "      <td>420</td>\n",
       "      <td>0</td>\n",
       "      <td>0</td>\n",
       "      <td>0</td>\n",
       "      <td>0</td>\n",
       "      <td>...</td>\n",
       "      <td>255</td>\n",
       "      <td>1.00</td>\n",
       "      <td>0.00</td>\n",
       "      <td>0.00</td>\n",
       "      <td>0.00</td>\n",
       "      <td>0.00</td>\n",
       "      <td>0.00</td>\n",
       "      <td>0.00</td>\n",
       "      <td>0.00</td>\n",
       "      <td>3</td>\n",
       "    </tr>\n",
       "  </tbody>\n",
       "</table>\n",
       "<p>5 rows × 42 columns</p>\n",
       "</div>"
      ],
      "text/plain": [
       "   duration  protocol_type  service  flag  src_bytes  dst_bytes  land  \\\n",
       "0         0              2       63     3        491          0     0   \n",
       "1         0              0       67     3        146          0     0   \n",
       "2         0              2       59    10          0          0     0   \n",
       "3         0              2       54     3        232       8153     0   \n",
       "4         0              2       54     3        199        420     0   \n",
       "\n",
       "   wrong_fragment  urgent  hot  ...  dst_host_srv_count  \\\n",
       "0               0       0    0  ...                  25   \n",
       "1               0       0    0  ...                   1   \n",
       "2               0       0    0  ...                  26   \n",
       "3               0       0    0  ...                 255   \n",
       "4               0       0    0  ...                 255   \n",
       "\n",
       "   dst_host_same_srv_rate  dst_host_diff_srv_rate  \\\n",
       "0                    0.17                    0.03   \n",
       "1                    0.00                    0.60   \n",
       "2                    0.10                    0.05   \n",
       "3                    1.00                    0.00   \n",
       "4                    1.00                    0.00   \n",
       "\n",
       "   dst_host_same_src_port_rate  dst_host_srv_diff_host_rate  \\\n",
       "0                         0.17                         0.00   \n",
       "1                         0.88                         0.00   \n",
       "2                         0.00                         0.00   \n",
       "3                         0.03                         0.04   \n",
       "4                         0.00                         0.00   \n",
       "\n",
       "   dst_host_serror_rate  dst_host_srv_serror_rate  dst_host_rerror_rate  \\\n",
       "0                  0.00                      0.00                  0.05   \n",
       "1                  0.00                      0.00                  0.00   \n",
       "2                  1.00                      1.00                  0.00   \n",
       "3                  0.03                      0.01                  0.00   \n",
       "4                  0.00                      0.00                  0.00   \n",
       "\n",
       "   dst_host_srv_rerror_rate  target  \n",
       "0                      0.00       3  \n",
       "1                      0.00       3  \n",
       "2                      0.00       4  \n",
       "3                      0.01       3  \n",
       "4                      0.00       3  \n",
       "\n",
       "[5 rows x 42 columns]"
      ]
     },
     "execution_count": 13,
     "metadata": {},
     "output_type": "execute_result"
    }
   ],
   "source": [
    "df.head()"
   ]
  },
  {
   "cell_type": "code",
   "execution_count": 14,
   "id": "53501637-c91d-4739-9e6e-e56aa2379d8f",
   "metadata": {},
   "outputs": [],
   "source": [
    "df_lis = np.array(df.values.tolist())"
   ]
  },
  {
   "cell_type": "code",
   "execution_count": 15,
   "id": "51ee24eb-5eaa-4850-b098-b897563b3941",
   "metadata": {},
   "outputs": [],
   "source": [
    "from scipy.stats import pearsonr"
   ]
  },
  {
   "cell_type": "code",
   "execution_count": 66,
   "id": "bf732d62-eda1-4612-9fe7-5a6b2ebda6e4",
   "metadata": {},
   "outputs": [],
   "source": [
    "features = np.array(df_lis[:,:-1])\n",
    "labels = np.array(df_lis[:,-1])"
   ]
  },
  {
   "cell_type": "code",
   "execution_count": 17,
   "id": "a78df2e4-1fad-4a52-bae0-8a55e8725c74",
   "metadata": {},
   "outputs": [
    {
     "name": "stderr",
     "output_type": "stream",
     "text": [
      "C:\\Users\\ArrunPersonal\\anaconda3\\lib\\site-packages\\scipy\\stats\\stats.py:4023: PearsonRConstantInputWarning: An input array is constant; the correlation coefficient is not defined.\n",
      "  warnings.warn(PearsonRConstantInputWarning())\n"
     ]
    }
   ],
   "source": [
    "scores = [abs(pearsonr(features[:,i],labels)[0]) for i in range(np.shape(features)[1])]"
   ]
  },
  {
   "cell_type": "code",
   "execution_count": 18,
   "id": "3baaaebc-a968-4c3c-8a9e-2c806aa5327e",
   "metadata": {},
   "outputs": [
    {
     "data": {
      "text/plain": [
       "[0.10243556536999131,\n",
       " 0.17756801073581238,\n",
       " 0.13895222995003323,\n",
       " 0.5507549556227544,\n",
       " 0.010574500987830497,\n",
       " 0.006321086747598061,\n",
       " 0.010792199664782773,\n",
       " 0.0815368263581411,\n",
       " 0.021171014390362414,\n",
       " 0.1287263408162082,\n",
       " 0.19760920855414443,\n",
       " 0.2698340826443819,\n",
       " 0.0027246264102762778,\n",
       " 0.041561202852320726,\n",
       " 0.00641720522235807,\n",
       " 0.0033692851462348724,\n",
       " 0.011763744678130046,\n",
       " 0.028878879569840515,\n",
       " 0.017951884375725344,\n",
       " 0,\n",
       " 0.02881751741047537,\n",
       " 0.2309369117832766,\n",
       " 0.4087050884946263,\n",
       " 0.0932379622859521,\n",
       " 0.545875469226975,\n",
       " 0.545679283443248,\n",
       " 0.005094853766245994,\n",
       " 0.005699410623425605,\n",
       " 0.520763108384391,\n",
       " 0.1407086128134609,\n",
       " 0.22042933812078175,\n",
       " 0.33825616950594717,\n",
       " 0.23797874460703733,\n",
       " 0.36382698589427853,\n",
       " 0.21943413832398792,\n",
       " 0.33583777546420646,\n",
       " 0.2734651680707565,\n",
       " 0.5449841232866856,\n",
       " 0.5478366827928801,\n",
       " 0.02065593111334558,\n",
       " 0.010495363062409273]"
      ]
     },
     "execution_count": 18,
     "metadata": {},
     "output_type": "execute_result"
    }
   ],
   "source": [
    "scores[19] = 0\n",
    "scores"
   ]
  },
  {
   "cell_type": "code",
   "execution_count": 19,
   "id": "6bf510ee-760c-44b0-be38-0e1a82e6c193",
   "metadata": {},
   "outputs": [],
   "source": [
    "act_features = []\n",
    "act_indices = []\n",
    "for i in range(len(scores)):\n",
    "    if(scores[i]> 0.1):\n",
    "        act_indices.append(i)\n",
    "        act_features.append(features[:,i])"
   ]
  },
  {
   "cell_type": "code",
   "execution_count": 20,
   "id": "400de698-ff4c-4c34-a9f9-312d7b9f7093",
   "metadata": {},
   "outputs": [],
   "source": [
    "act_features = np.array(act_features).T"
   ]
  },
  {
   "cell_type": "code",
   "execution_count": 21,
   "id": "5c79fe7f-778f-409f-972e-b60f0f85f61c",
   "metadata": {},
   "outputs": [
    {
     "data": {
      "text/plain": [
       "(148517, 22)"
      ]
     },
     "execution_count": 21,
     "metadata": {},
     "output_type": "execute_result"
    }
   ],
   "source": [
    "for i in range(np.shape(act_features)[1]):\n",
    "    if(np.std(act_features[:,i])!=0):\n",
    "        act_features[:,i] = (act_features[:,i]-np.mean(act_features[:,i]))/np.std(act_features[:,i]) \n",
    "    else:\n",
    "        act_features[:,i] = (act_features[:,i]-np.mean(act_features[:,i]))\n",
    "np.shape(act_features)"
   ]
  },
  {
   "cell_type": "code",
   "execution_count": 22,
   "id": "b743a87a-727f-470e-bfd3-aa9b883aff23",
   "metadata": {},
   "outputs": [],
   "source": [
    "train_X = act_features[:len(df1)]\n",
    "test_X = act_features[len(df1):]\n",
    "train_Y = labels[:len(df1)]\n",
    "test_Y = labels[len(df1):]"
   ]
  },
  {
   "cell_type": "code",
   "execution_count": 23,
   "id": "4145ab65-0dce-4ba1-9295-4cbcd01999ec",
   "metadata": {},
   "outputs": [],
   "source": [
    "from sklearn.model_selection import train_test_split "
   ]
  },
  {
   "cell_type": "code",
   "execution_count": 24,
   "id": "575c9e10-9c7b-4b15-a88b-c7a6ff2cd1d2",
   "metadata": {},
   "outputs": [],
   "source": [
    "test_X, val_X , test_Y ,val_Y = train_test_split(test_X,test_Y,random_state = 42,test_size = 0.1)"
   ]
  },
  {
   "cell_type": "code",
   "execution_count": 25,
   "id": "fb812803-ce18-4323-bd39-5bcb3cb26668",
   "metadata": {},
   "outputs": [
    {
     "name": "stdout",
     "output_type": "stream",
     "text": [
      "(125973, 22) (20289, 22) (2255, 22) (125973,) (20289,) (2255,)\n"
     ]
    }
   ],
   "source": [
    "print(np.shape(train_X),np.shape(test_X),np.shape(val_X),np.shape(train_Y),np.shape(test_Y),np.shape(val_Y))"
   ]
  },
  {
   "cell_type": "code",
   "execution_count": 26,
   "id": "63c85006-ecce-42ca-bd9e-5972343b823a",
   "metadata": {},
   "outputs": [],
   "source": [
    "val,counts = np.unique(np.array(labels,dtype = 'int16'),return_counts = True)\n",
    "counts = 1 - counts/np.linalg.norm(counts)\n",
    "new_counts = np.exp(counts)/np.sum(np.exp(counts))\n",
    "label_dict = dict(zip(val,new_counts))"
   ]
  },
  {
   "cell_type": "code",
   "execution_count": 27,
   "id": "d00a8657-fb1c-45df-96e8-7631f69d4608",
   "metadata": {},
   "outputs": [
    {
     "data": {
      "text/plain": [
       "{0: 0.25035159544907976,\n",
       " 1: 0.2604755878915367,\n",
       " 2: 0.22483904713398783,\n",
       " 3: 0.1157665343328575,\n",
       " 4: 0.14856723519253837}"
      ]
     },
     "execution_count": 27,
     "metadata": {},
     "output_type": "execute_result"
    }
   ],
   "source": [
    "label_dict"
   ]
  },
  {
   "cell_type": "code",
   "execution_count": 28,
   "id": "146b1600-49e3-4749-9258-319a59d8f16a",
   "metadata": {},
   "outputs": [],
   "source": [
    "from keras.layers import *\n",
    "from keras.models import Model\n",
    "from keras_self_attention import SeqSelfAttention"
   ]
  },
  {
   "cell_type": "code",
   "execution_count": 29,
   "id": "043da004-ae33-46ea-ab4d-f798fae18c0a",
   "metadata": {},
   "outputs": [
    {
     "name": "stderr",
     "output_type": "stream",
     "text": [
      "C:\\Users\\ArrunPersonal\\anaconda3\\lib\\site-packages\\keras\\initializers\\initializers_v2.py:120: UserWarning: The initializer GlorotNormal is unseeded and being called multiple times, which will return identical values  each time (even if the initializer is unseeded). Please update your code to provide a seed to the initializer, or avoid using the same initalizer instance more than once.\n",
      "  warnings.warn(\n"
     ]
    }
   ],
   "source": [
    "batch_size = 128\n",
    "input_dim = np.shape(train_X)[1]\n",
    "#Input Layer\n",
    "\n",
    "input_layer = Input(shape=(input_dim,1), name='input')\n",
    "#Attention Mechanism\n",
    "LSTM_layer = LSTM(units=128,return_sequences=True)(input_layer)\n",
    "attention = SeqSelfAttention(attention_activation='sigmoid')(LSTM_layer)\n",
    "flatten = Flatten()(attention)\n",
    "#Encoder’s first dense layer\n",
    "encoder = Dense (128, activation='relu')(flatten)\n",
    "#Encoder’s second dense layer\n",
    "encoder = Dense (64, activation='relu')(encoder)\n",
    "# Code layer\n",
    "latent_layer = Dense (32, activation='relu',name = 'latent_1')(encoder)\n",
    "# Decoder’s first dense layer\n",
    "decoder = Dense(64, activation='relu')(latent_layer)\n",
    "# Decoder’s second dense layer\n",
    "decoder = Dense(128, activation='relu')(decoder)\n",
    "# Decoder’s Third dense layer\n",
    "decoder = Dense(256, activation='relu')(decoder)\n",
    "# Output Layer\n",
    "decoder = Dense(input_dim, activation='relu')(decoder)"
   ]
  },
  {
   "cell_type": "code",
   "execution_count": 30,
   "id": "a9f6d1b0-af83-4277-abe6-ed602e0e84f4",
   "metadata": {},
   "outputs": [],
   "source": [
    "autoencoder_1 = Model(inputs=input_layer, outputs=decoder)\n",
    "autoencoder_1.compile(metrics=['accuracy'],loss='mse',optimizer='adam')"
   ]
  },
  {
   "cell_type": "code",
   "execution_count": 31,
   "id": "862b0400-d477-41b6-8e6f-85a1fa8dcecc",
   "metadata": {},
   "outputs": [
    {
     "name": "stdout",
     "output_type": "stream",
     "text": [
      "Model: \"model\"\n",
      "_________________________________________________________________\n",
      " Layer (type)                Output Shape              Param #   \n",
      "=================================================================\n",
      " input (InputLayer)          [(None, 22, 1)]           0         \n",
      "                                                                 \n",
      " lstm (LSTM)                 (None, 22, 128)           66560     \n",
      "                                                                 \n",
      " seq_self_attention (SeqSelf  (None, 22, 128)          8257      \n",
      " Attention)                                                      \n",
      "                                                                 \n",
      " flatten (Flatten)           (None, 2816)              0         \n",
      "                                                                 \n",
      " dense (Dense)               (None, 128)               360576    \n",
      "                                                                 \n",
      " dense_1 (Dense)             (None, 64)                8256      \n",
      "                                                                 \n",
      " latent_1 (Dense)            (None, 32)                2080      \n",
      "                                                                 \n",
      " dense_2 (Dense)             (None, 64)                2112      \n",
      "                                                                 \n",
      " dense_3 (Dense)             (None, 128)               8320      \n",
      "                                                                 \n",
      " dense_4 (Dense)             (None, 256)               33024     \n",
      "                                                                 \n",
      " dense_5 (Dense)             (None, 22)                5654      \n",
      "                                                                 \n",
      "=================================================================\n",
      "Total params: 494,839\n",
      "Trainable params: 494,839\n",
      "Non-trainable params: 0\n",
      "_________________________________________________________________\n"
     ]
    }
   ],
   "source": [
    "autoencoder_1.summary()"
   ]
  },
  {
   "cell_type": "code",
   "execution_count": 32,
   "id": "4183643c-f2b2-4653-b738-3bc23a84e48e",
   "metadata": {},
   "outputs": [],
   "source": [
    "callback = tf.keras.callbacks.EarlyStopping(monitor='val_loss', patience=8,restore_best_weights=True)"
   ]
  },
  {
   "cell_type": "code",
   "execution_count": 33,
   "id": "889aa3c7-1154-496e-971c-3b9ec931adc1",
   "metadata": {},
   "outputs": [
    {
     "name": "stdout",
     "output_type": "stream",
     "text": [
      "Epoch 1/100\n",
      "985/985 [==============================] - 38s 37ms/step - loss: 0.6208 - accuracy: 0.4346 - val_loss: 0.7213 - val_accuracy: 0.5370\n",
      "Epoch 2/100\n",
      "985/985 [==============================] - 35s 36ms/step - loss: 0.5542 - accuracy: 0.5191 - val_loss: 0.7252 - val_accuracy: 0.5153\n",
      "Epoch 3/100\n",
      "985/985 [==============================] - 34s 34ms/step - loss: 0.5481 - accuracy: 0.5510 - val_loss: 0.6903 - val_accuracy: 0.5729\n",
      "Epoch 4/100\n",
      "985/985 [==============================] - 35s 36ms/step - loss: 0.5449 - accuracy: 0.5555 - val_loss: 0.6871 - val_accuracy: 0.5357\n",
      "Epoch 5/100\n",
      "985/985 [==============================] - 35s 36ms/step - loss: 0.5447 - accuracy: 0.5613 - val_loss: 0.6857 - val_accuracy: 0.5796\n",
      "Epoch 6/100\n",
      "985/985 [==============================] - 36s 36ms/step - loss: 0.5440 - accuracy: 0.5758 - val_loss: 0.6857 - val_accuracy: 0.5619\n",
      "Epoch 7/100\n",
      "985/985 [==============================] - 36s 37ms/step - loss: 0.5438 - accuracy: 0.5783 - val_loss: 0.6843 - val_accuracy: 0.5543\n",
      "Epoch 8/100\n",
      "985/985 [==============================] - 36s 36ms/step - loss: 0.5440 - accuracy: 0.5728 - val_loss: 0.6840 - val_accuracy: 0.6000\n",
      "Epoch 9/100\n",
      "985/985 [==============================] - 38s 38ms/step - loss: 0.5432 - accuracy: 0.5925 - val_loss: 0.6836 - val_accuracy: 0.5317\n",
      "Epoch 10/100\n",
      "985/985 [==============================] - 36s 36ms/step - loss: 0.5429 - accuracy: 0.5946 - val_loss: 0.6865 - val_accuracy: 0.5707\n",
      "Epoch 11/100\n",
      "985/985 [==============================] - 36s 36ms/step - loss: 0.5428 - accuracy: 0.6001 - val_loss: 0.6817 - val_accuracy: 0.5978\n",
      "Epoch 12/100\n",
      "985/985 [==============================] - 37s 37ms/step - loss: 0.5426 - accuracy: 0.6033 - val_loss: 0.6927 - val_accuracy: 0.5308\n",
      "Epoch 13/100\n",
      "985/985 [==============================] - 36s 36ms/step - loss: 0.5429 - accuracy: 0.5937 - val_loss: 0.6813 - val_accuracy: 0.5596\n",
      "Epoch 14/100\n",
      "985/985 [==============================] - 36s 36ms/step - loss: 0.5424 - accuracy: 0.6065 - val_loss: 0.6812 - val_accuracy: 0.5424\n",
      "Epoch 15/100\n",
      "985/985 [==============================] - 38s 39ms/step - loss: 0.5431 - accuracy: 0.5909 - val_loss: 0.6845 - val_accuracy: 0.5619\n",
      "Epoch 16/100\n",
      "985/985 [==============================] - 37s 38ms/step - loss: 0.5425 - accuracy: 0.6207 - val_loss: 0.6832 - val_accuracy: 0.6004\n",
      "Epoch 17/100\n",
      "985/985 [==============================] - 38s 38ms/step - loss: 0.5422 - accuracy: 0.6230 - val_loss: 0.6813 - val_accuracy: 0.6031\n",
      "Epoch 18/100\n",
      "985/985 [==============================] - 37s 38ms/step - loss: 0.5424 - accuracy: 0.6085 - val_loss: 0.6803 - val_accuracy: 0.6040\n",
      "Epoch 19/100\n",
      "985/985 [==============================] - 38s 39ms/step - loss: 0.5422 - accuracy: 0.6136 - val_loss: 0.6817 - val_accuracy: 0.6031\n",
      "Epoch 20/100\n",
      "985/985 [==============================] - 37s 38ms/step - loss: 0.5422 - accuracy: 0.6128 - val_loss: 0.6810 - val_accuracy: 0.5929\n",
      "Epoch 21/100\n",
      "985/985 [==============================] - 38s 38ms/step - loss: 0.5424 - accuracy: 0.6175 - val_loss: 0.6810 - val_accuracy: 0.6022\n",
      "Epoch 22/100\n",
      "985/985 [==============================] - 37s 38ms/step - loss: 0.5421 - accuracy: 0.6220 - val_loss: 0.6805 - val_accuracy: 0.5978\n",
      "Epoch 23/100\n",
      "985/985 [==============================] - 37s 38ms/step - loss: 0.5422 - accuracy: 0.6188 - val_loss: 0.6802 - val_accuracy: 0.5792\n",
      "Epoch 24/100\n",
      "985/985 [==============================] - 38s 38ms/step - loss: 0.5422 - accuracy: 0.6280 - val_loss: 0.6804 - val_accuracy: 0.5987\n",
      "Epoch 25/100\n",
      "985/985 [==============================] - 38s 38ms/step - loss: 0.5421 - accuracy: 0.6261 - val_loss: 0.6801 - val_accuracy: 0.5313\n",
      "Epoch 26/100\n",
      "985/985 [==============================] - 37s 38ms/step - loss: 0.5421 - accuracy: 0.6282 - val_loss: 0.6799 - val_accuracy: 0.6053\n",
      "Epoch 27/100\n",
      "985/985 [==============================] - 37s 38ms/step - loss: 0.5424 - accuracy: 0.6216 - val_loss: 0.6802 - val_accuracy: 0.5996\n",
      "Epoch 28/100\n",
      "985/985 [==============================] - 37s 38ms/step - loss: 0.5420 - accuracy: 0.6393 - val_loss: 0.6805 - val_accuracy: 0.5481\n",
      "Epoch 29/100\n",
      "985/985 [==============================] - 38s 39ms/step - loss: 0.5420 - accuracy: 0.6330 - val_loss: 0.6793 - val_accuracy: 0.6009\n",
      "Epoch 30/100\n",
      "985/985 [==============================] - 39s 39ms/step - loss: 0.5421 - accuracy: 0.6247 - val_loss: 0.6799 - val_accuracy: 0.6022\n",
      "Epoch 31/100\n",
      "985/985 [==============================] - 41s 41ms/step - loss: 0.5421 - accuracy: 0.6364 - val_loss: 0.6795 - val_accuracy: 0.6040\n",
      "Epoch 32/100\n",
      "985/985 [==============================] - 52s 53ms/step - loss: 0.5423 - accuracy: 0.6316 - val_loss: 0.6804 - val_accuracy: 0.5539\n",
      "Epoch 33/100\n",
      "985/985 [==============================] - 56s 57ms/step - loss: 0.5418 - accuracy: 0.6376 - val_loss: 0.6759 - val_accuracy: 0.6044\n",
      "Epoch 34/100\n",
      "985/985 [==============================] - 56s 56ms/step - loss: 0.5417 - accuracy: 0.6574 - val_loss: 0.6754 - val_accuracy: 0.5632\n",
      "Epoch 35/100\n",
      "985/985 [==============================] - 55s 56ms/step - loss: 0.5418 - accuracy: 0.6397 - val_loss: 0.6762 - val_accuracy: 0.6035\n",
      "Epoch 36/100\n",
      "985/985 [==============================] - 57s 58ms/step - loss: 0.5417 - accuracy: 0.6414 - val_loss: 0.6753 - val_accuracy: 0.6031\n",
      "Epoch 37/100\n",
      "985/985 [==============================] - 59s 60ms/step - loss: 0.5420 - accuracy: 0.6348 - val_loss: 0.6754 - val_accuracy: 0.5463\n",
      "Epoch 38/100\n",
      "985/985 [==============================] - 57s 57ms/step - loss: 0.5417 - accuracy: 0.6473 - val_loss: 0.6759 - val_accuracy: 0.5792\n",
      "Epoch 39/100\n",
      "985/985 [==============================] - 57s 58ms/step - loss: 0.5417 - accuracy: 0.6420 - val_loss: 0.6751 - val_accuracy: 0.5902\n",
      "Epoch 40/100\n",
      "985/985 [==============================] - 56s 57ms/step - loss: 0.5422 - accuracy: 0.6316 - val_loss: 0.6777 - val_accuracy: 0.6004\n",
      "Epoch 41/100\n",
      "985/985 [==============================] - 57s 57ms/step - loss: 0.5417 - accuracy: 0.6493 - val_loss: 0.6751 - val_accuracy: 0.6053\n",
      "Epoch 42/100\n",
      "985/985 [==============================] - 59s 60ms/step - loss: 0.5416 - accuracy: 0.6596 - val_loss: 0.6750 - val_accuracy: 0.6058\n",
      "Epoch 43/100\n",
      "985/985 [==============================] - 59s 60ms/step - loss: 0.5416 - accuracy: 0.6538 - val_loss: 0.6757 - val_accuracy: 0.6058\n",
      "Epoch 44/100\n",
      "985/985 [==============================] - 58s 59ms/step - loss: 0.5418 - accuracy: 0.6399 - val_loss: 0.6760 - val_accuracy: 0.5982\n",
      "Epoch 45/100\n",
      "985/985 [==============================] - 59s 60ms/step - loss: 0.5417 - accuracy: 0.6394 - val_loss: 0.6762 - val_accuracy: 0.5588\n",
      "Epoch 46/100\n",
      "985/985 [==============================] - 56s 57ms/step - loss: 0.5418 - accuracy: 0.6396 - val_loss: 0.6752 - val_accuracy: 0.5933\n",
      "Epoch 47/100\n",
      "985/985 [==============================] - 57s 57ms/step - loss: 0.5417 - accuracy: 0.6450 - val_loss: 0.6787 - val_accuracy: 0.5996\n",
      "Epoch 48/100\n",
      "985/985 [==============================] - 55s 56ms/step - loss: 0.5418 - accuracy: 0.6350 - val_loss: 0.6754 - val_accuracy: 0.6022\n",
      "Epoch 49/100\n",
      "985/985 [==============================] - 54s 55ms/step - loss: 0.5416 - accuracy: 0.6481 - val_loss: 0.6760 - val_accuracy: 0.5996\n",
      "Epoch 50/100\n",
      "985/985 [==============================] - 55s 56ms/step - loss: 0.5417 - accuracy: 0.6507 - val_loss: 0.6750 - val_accuracy: 0.5494\n"
     ]
    }
   ],
   "source": [
    "stack_1 = autoencoder_1.fit(train_X, train_X, epochs=100, batch_size=batch_size,validation_data = (val_X,val_X),callbacks = [callback])"
   ]
  },
  {
   "cell_type": "code",
   "execution_count": 34,
   "id": "9e512a5a-4e60-43fe-bc44-971cf02a5671",
   "metadata": {},
   "outputs": [
    {
     "name": "stdout",
     "output_type": "stream",
     "text": [
      "4642/4642 [==============================] - 38s 8ms/step\n"
     ]
    }
   ],
   "source": [
    "pred = autoencoder_1.predict(act_features)"
   ]
  },
  {
   "cell_type": "code",
   "execution_count": 35,
   "id": "3151c34b-3134-4857-9325-5ec6bb053bc3",
   "metadata": {},
   "outputs": [],
   "source": [
    "from sklearn.metrics import *\n",
    "import keras"
   ]
  },
  {
   "cell_type": "code",
   "execution_count": 36,
   "id": "1120b179-6f54-4400-8d09-7ab3b73abc40",
   "metadata": {},
   "outputs": [
    {
     "data": {
      "text/plain": [
       "0.5561560174202012"
      ]
     },
     "execution_count": 36,
     "metadata": {},
     "output_type": "execute_result"
    }
   ],
   "source": [
    "np.sum(keras.losses.mean_squared_error(pred,act_features))/len(act_features)"
   ]
  },
  {
   "cell_type": "code",
   "execution_count": 37,
   "id": "10907211-7577-48d1-a54e-d52b4d3efece",
   "metadata": {},
   "outputs": [
    {
     "name": "stdout",
     "output_type": "stream",
     "text": [
      "4642/4642 [==============================] - 39s 8ms/step\n"
     ]
    }
   ],
   "source": [
    "layer_name = 'latent_1'\n",
    "intermediate_layer_model = Model(inputs=autoencoder_1.input,\n",
    "                                 outputs=autoencoder_1.get_layer(layer_name).output)\n",
    "intermediate_output_1 = intermediate_layer_model.predict(act_features)"
   ]
  },
  {
   "cell_type": "code",
   "execution_count": 38,
   "id": "62043773-16ec-479b-9e40-9365b74cc3a7",
   "metadata": {},
   "outputs": [],
   "source": [
    "batch_size = 128\n",
    "input_dim = np.shape(intermediate_output_1)[1]\n",
    "#Input Layer\n",
    "\n",
    "input_layer = Input(shape=(input_dim,1), name='input')\n",
    "#Attention Mechanism\n",
    "LSTM_layer = LSTM(units=64,return_sequences=True)(input_layer)\n",
    "attention = SeqSelfAttention(attention_activation='sigmoid')(LSTM_layer)\n",
    "flatten = Flatten()(attention)\n",
    "#Encoder’s first dense layer\n",
    "encoder = Dense (64, activation='relu')(flatten)\n",
    "#Encoder’s second dense layer\n",
    "encoder = Dense (32, activation='relu')(encoder)\n",
    "# Code layer\n",
    "latent_layer = Dense (16, activation='relu',name = 'latent_2')(encoder)\n",
    "# Decoder’s first dense layer\n",
    "decoder = Dense(32, activation='relu')(latent_layer)\n",
    "# Decoder’s second dense layer\n",
    "decoder = Dense(64, activation='relu')(decoder)\n",
    "# Decoder’s Third dense layer\n",
    "decoder = Dense(128, activation='relu')(decoder)\n",
    "# Output Layer\n",
    "decoder = Dense(input_dim, activation='relu')(decoder)"
   ]
  },
  {
   "cell_type": "code",
   "execution_count": 39,
   "id": "2af449ca-a863-46b1-94c7-c75f78c6cb51",
   "metadata": {},
   "outputs": [],
   "source": [
    "autoencoder_2 = Model(inputs=input_layer, outputs=decoder)\n",
    "autoencoder_2.compile(metrics=['accuracy'],loss='mse',optimizer='adam')"
   ]
  },
  {
   "cell_type": "code",
   "execution_count": 41,
   "id": "9fad83e0-65f7-496e-ac65-ea1714d37269",
   "metadata": {},
   "outputs": [
    {
     "name": "stdout",
     "output_type": "stream",
     "text": [
      "Model: \"model_2\"\n",
      "_________________________________________________________________\n",
      " Layer (type)                Output Shape              Param #   \n",
      "=================================================================\n",
      " input (InputLayer)          [(None, 32, 1)]           0         \n",
      "                                                                 \n",
      " lstm_1 (LSTM)               (None, 32, 64)            16896     \n",
      "                                                                 \n",
      " seq_self_attention_1 (SeqSe  (None, 32, 64)           4161      \n",
      " lfAttention)                                                    \n",
      "                                                                 \n",
      " flatten_1 (Flatten)         (None, 2048)              0         \n",
      "                                                                 \n",
      " dense_6 (Dense)             (None, 64)                131136    \n",
      "                                                                 \n",
      " dense_7 (Dense)             (None, 32)                2080      \n",
      "                                                                 \n",
      " latent_2 (Dense)            (None, 16)                528       \n",
      "                                                                 \n",
      " dense_8 (Dense)             (None, 32)                544       \n",
      "                                                                 \n",
      " dense_9 (Dense)             (None, 64)                2112      \n",
      "                                                                 \n",
      " dense_10 (Dense)            (None, 128)               8320      \n",
      "                                                                 \n",
      " dense_11 (Dense)            (None, 32)                4128      \n",
      "                                                                 \n",
      "=================================================================\n",
      "Total params: 169,905\n",
      "Trainable params: 169,905\n",
      "Non-trainable params: 0\n",
      "_________________________________________________________________\n"
     ]
    }
   ],
   "source": [
    "autoencoder_2.summary()"
   ]
  },
  {
   "cell_type": "code",
   "execution_count": 42,
   "id": "191a9e82-79e8-4bf2-a23d-166390a67d29",
   "metadata": {},
   "outputs": [],
   "source": [
    "callback = tf.keras.callbacks.EarlyStopping(monitor='val_loss', patience=8,restore_best_weights=True)"
   ]
  },
  {
   "cell_type": "code",
   "execution_count": 43,
   "id": "7bf00d2c-b522-45db-baf7-64e0dd8576bc",
   "metadata": {},
   "outputs": [],
   "source": [
    "train_intX = intermediate_output_1[:len(df1)]\n",
    "test_intX = intermediate_output_1[len(df1):]\n",
    "train_intY = labels[:len(df1)]\n",
    "test_intY = labels[len(df1):]"
   ]
  },
  {
   "cell_type": "code",
   "execution_count": 44,
   "id": "af44b3ce-8be9-483d-abb2-82737b067ae2",
   "metadata": {},
   "outputs": [],
   "source": [
    "test_intX, val_intX , test_intY ,val_intY = train_test_split(test_intX,test_intY,random_state = 42,test_size = 0.1)"
   ]
  },
  {
   "cell_type": "code",
   "execution_count": 45,
   "id": "1f0a2227-ecde-47cc-b9b4-4f5aabf7f308",
   "metadata": {},
   "outputs": [
    {
     "name": "stdout",
     "output_type": "stream",
     "text": [
      "Epoch 1/100\n",
      "985/985 [==============================] - 62s 59ms/step - loss: 0.0407 - accuracy: 0.6401 - val_loss: 0.0313 - val_accuracy: 0.5885\n",
      "Epoch 2/100\n",
      "985/985 [==============================] - 56s 56ms/step - loss: 0.0265 - accuracy: 0.7684 - val_loss: 0.0245 - val_accuracy: 0.6869\n",
      "Epoch 3/100\n",
      "985/985 [==============================] - 55s 56ms/step - loss: 0.0178 - accuracy: 0.8314 - val_loss: 0.0206 - val_accuracy: 0.7898\n",
      "Epoch 4/100\n",
      "985/985 [==============================] - 55s 56ms/step - loss: 0.0132 - accuracy: 0.8491 - val_loss: 0.0167 - val_accuracy: 0.7867\n",
      "Epoch 5/100\n",
      "985/985 [==============================] - 57s 57ms/step - loss: 0.0119 - accuracy: 0.8682 - val_loss: 0.0149 - val_accuracy: 0.8040\n",
      "Epoch 6/100\n",
      "985/985 [==============================] - 42s 43ms/step - loss: 0.0110 - accuracy: 0.8832 - val_loss: 0.0138 - val_accuracy: 0.8483\n",
      "Epoch 7/100\n",
      "985/985 [==============================] - 34s 34ms/step - loss: 0.0105 - accuracy: 0.8959 - val_loss: 0.0129 - val_accuracy: 0.8137\n",
      "Epoch 8/100\n",
      "985/985 [==============================] - 53s 54ms/step - loss: 0.0101 - accuracy: 0.9037 - val_loss: 0.0127 - val_accuracy: 0.8696\n",
      "Epoch 9/100\n",
      "985/985 [==============================] - 57s 58ms/step - loss: 0.0098 - accuracy: 0.9104 - val_loss: 0.0121 - val_accuracy: 0.8616\n",
      "Epoch 10/100\n",
      "985/985 [==============================] - 58s 59ms/step - loss: 0.0096 - accuracy: 0.9149 - val_loss: 0.0116 - val_accuracy: 0.8390\n",
      "Epoch 11/100\n",
      "985/985 [==============================] - 57s 58ms/step - loss: 0.0094 - accuracy: 0.9197 - val_loss: 0.0113 - val_accuracy: 0.8732\n",
      "Epoch 12/100\n",
      "985/985 [==============================] - 56s 57ms/step - loss: 0.0093 - accuracy: 0.9232 - val_loss: 0.0110 - val_accuracy: 0.8710\n",
      "Epoch 13/100\n",
      "985/985 [==============================] - 56s 57ms/step - loss: 0.0091 - accuracy: 0.9307 - val_loss: 0.0111 - val_accuracy: 0.9113\n",
      "Epoch 14/100\n",
      "985/985 [==============================] - 57s 58ms/step - loss: 0.0090 - accuracy: 0.9340 - val_loss: 0.0107 - val_accuracy: 0.8816\n",
      "Epoch 15/100\n",
      "985/985 [==============================] - 55s 56ms/step - loss: 0.0087 - accuracy: 0.9380 - val_loss: 0.0107 - val_accuracy: 0.9175\n",
      "Epoch 16/100\n",
      "985/985 [==============================] - 54s 55ms/step - loss: 0.0086 - accuracy: 0.9411 - val_loss: 0.0108 - val_accuracy: 0.9211\n",
      "Epoch 17/100\n",
      "985/985 [==============================] - 55s 55ms/step - loss: 0.0085 - accuracy: 0.9417 - val_loss: 0.0103 - val_accuracy: 0.8820\n",
      "Epoch 18/100\n",
      "985/985 [==============================] - 56s 57ms/step - loss: 0.0085 - accuracy: 0.9446 - val_loss: 0.0102 - val_accuracy: 0.8962\n",
      "Epoch 19/100\n",
      "985/985 [==============================] - 54s 55ms/step - loss: 0.0084 - accuracy: 0.9464 - val_loss: 0.0102 - val_accuracy: 0.8922\n",
      "Epoch 20/100\n",
      "985/985 [==============================] - 54s 55ms/step - loss: 0.0084 - accuracy: 0.9470 - val_loss: 0.0102 - val_accuracy: 0.9220\n",
      "Epoch 21/100\n",
      "985/985 [==============================] - 55s 56ms/step - loss: 0.0083 - accuracy: 0.9484 - val_loss: 0.0100 - val_accuracy: 0.9135\n",
      "Epoch 22/100\n",
      "985/985 [==============================] - 58s 58ms/step - loss: 0.0083 - accuracy: 0.9499 - val_loss: 0.0099 - val_accuracy: 0.9290\n",
      "Epoch 23/100\n",
      "985/985 [==============================] - 60s 61ms/step - loss: 0.0083 - accuracy: 0.9504 - val_loss: 0.0098 - val_accuracy: 0.8927\n",
      "Epoch 24/100\n",
      "985/985 [==============================] - 56s 57ms/step - loss: 0.0082 - accuracy: 0.9516 - val_loss: 0.0096 - val_accuracy: 0.9259\n",
      "Epoch 25/100\n",
      "985/985 [==============================] - 56s 57ms/step - loss: 0.0082 - accuracy: 0.9524 - val_loss: 0.0096 - val_accuracy: 0.9206\n",
      "Epoch 26/100\n",
      "985/985 [==============================] - 57s 58ms/step - loss: 0.0082 - accuracy: 0.9536 - val_loss: 0.0095 - val_accuracy: 0.9353\n",
      "Epoch 27/100\n",
      "985/985 [==============================] - 57s 58ms/step - loss: 0.0082 - accuracy: 0.9547 - val_loss: 0.0097 - val_accuracy: 0.9255\n",
      "Epoch 28/100\n",
      "985/985 [==============================] - 35s 36ms/step - loss: 0.0082 - accuracy: 0.9544 - val_loss: 0.0095 - val_accuracy: 0.9104\n",
      "Epoch 29/100\n",
      "985/985 [==============================] - 35s 35ms/step - loss: 0.0082 - accuracy: 0.9540 - val_loss: 0.0095 - val_accuracy: 0.9171\n",
      "Epoch 30/100\n",
      "985/985 [==============================] - 35s 35ms/step - loss: 0.0081 - accuracy: 0.9550 - val_loss: 0.0094 - val_accuracy: 0.9202\n",
      "Epoch 31/100\n",
      "985/985 [==============================] - 51s 51ms/step - loss: 0.0081 - accuracy: 0.9561 - val_loss: 0.0093 - val_accuracy: 0.9304\n",
      "Epoch 32/100\n",
      "985/985 [==============================] - 58s 59ms/step - loss: 0.0081 - accuracy: 0.9562 - val_loss: 0.0093 - val_accuracy: 0.9251\n",
      "Epoch 33/100\n",
      "985/985 [==============================] - 63s 64ms/step - loss: 0.0081 - accuracy: 0.9561 - val_loss: 0.0095 - val_accuracy: 0.9255\n",
      "Epoch 34/100\n",
      "985/985 [==============================] - 60s 61ms/step - loss: 0.0081 - accuracy: 0.9553 - val_loss: 0.0092 - val_accuracy: 0.9228\n",
      "Epoch 35/100\n",
      "985/985 [==============================] - 62s 63ms/step - loss: 0.0081 - accuracy: 0.9564 - val_loss: 0.0094 - val_accuracy: 0.9344\n",
      "Epoch 36/100\n",
      "985/985 [==============================] - 61s 62ms/step - loss: 0.0081 - accuracy: 0.9571 - val_loss: 0.0091 - val_accuracy: 0.9197\n",
      "Epoch 37/100\n",
      "985/985 [==============================] - 60s 61ms/step - loss: 0.0081 - accuracy: 0.9578 - val_loss: 0.0091 - val_accuracy: 0.9215\n",
      "Epoch 38/100\n",
      "985/985 [==============================] - 61s 62ms/step - loss: 0.0080 - accuracy: 0.9584 - val_loss: 0.0094 - val_accuracy: 0.9135\n",
      "Epoch 39/100\n",
      "985/985 [==============================] - 59s 60ms/step - loss: 0.0081 - accuracy: 0.9579 - val_loss: 0.0093 - val_accuracy: 0.9060\n",
      "Epoch 40/100\n",
      "985/985 [==============================] - 60s 61ms/step - loss: 0.0080 - accuracy: 0.9587 - val_loss: 0.0091 - val_accuracy: 0.9295\n",
      "Epoch 41/100\n",
      "985/985 [==============================] - 59s 60ms/step - loss: 0.0080 - accuracy: 0.9585 - val_loss: 0.0092 - val_accuracy: 0.9122\n",
      "Epoch 42/100\n",
      "985/985 [==============================] - 60s 61ms/step - loss: 0.0080 - accuracy: 0.9594 - val_loss: 0.0091 - val_accuracy: 0.9282\n",
      "Epoch 43/100\n",
      "985/985 [==============================] - 61s 62ms/step - loss: 0.0079 - accuracy: 0.9597 - val_loss: 0.0069 - val_accuracy: 0.9224\n",
      "Epoch 44/100\n",
      "985/985 [==============================] - 62s 63ms/step - loss: 0.0058 - accuracy: 0.9576 - val_loss: 0.0065 - val_accuracy: 0.9264\n",
      "Epoch 45/100\n",
      "985/985 [==============================] - 61s 62ms/step - loss: 0.0057 - accuracy: 0.9596 - val_loss: 0.0066 - val_accuracy: 0.9215\n",
      "Epoch 46/100\n",
      "985/985 [==============================] - 60s 61ms/step - loss: 0.0057 - accuracy: 0.9600 - val_loss: 0.0065 - val_accuracy: 0.9197\n",
      "Epoch 47/100\n",
      "985/985 [==============================] - 61s 62ms/step - loss: 0.0057 - accuracy: 0.9614 - val_loss: 0.0065 - val_accuracy: 0.9188\n",
      "Epoch 48/100\n",
      "985/985 [==============================] - 65s 66ms/step - loss: 0.0057 - accuracy: 0.9616 - val_loss: 0.0064 - val_accuracy: 0.9282\n",
      "Epoch 49/100\n",
      "985/985 [==============================] - 51s 52ms/step - loss: 0.0057 - accuracy: 0.9610 - val_loss: 0.0064 - val_accuracy: 0.9264\n",
      "Epoch 50/100\n",
      "985/985 [==============================] - 36s 36ms/step - loss: 0.0057 - accuracy: 0.9614 - val_loss: 0.0064 - val_accuracy: 0.9157\n",
      "Epoch 51/100\n",
      "985/985 [==============================] - 55s 56ms/step - loss: 0.0057 - accuracy: 0.9618 - val_loss: 0.0063 - val_accuracy: 0.9348\n",
      "Epoch 52/100\n",
      "985/985 [==============================] - 57s 58ms/step - loss: 0.0057 - accuracy: 0.9626 - val_loss: 0.0064 - val_accuracy: 0.9308\n",
      "Epoch 53/100\n",
      "985/985 [==============================] - 62s 63ms/step - loss: 0.0057 - accuracy: 0.9625 - val_loss: 0.0064 - val_accuracy: 0.9299\n",
      "Epoch 54/100\n",
      "985/985 [==============================] - 57s 57ms/step - loss: 0.0057 - accuracy: 0.9628 - val_loss: 0.0064 - val_accuracy: 0.9255\n",
      "Epoch 55/100\n",
      "985/985 [==============================] - 61s 62ms/step - loss: 0.0057 - accuracy: 0.9638 - val_loss: 0.0064 - val_accuracy: 0.9188\n",
      "Epoch 56/100\n",
      "985/985 [==============================] - 60s 61ms/step - loss: 0.0057 - accuracy: 0.9639 - val_loss: 0.0064 - val_accuracy: 0.9126\n",
      "Epoch 57/100\n",
      "985/985 [==============================] - 61s 62ms/step - loss: 0.0057 - accuracy: 0.9636 - val_loss: 0.0064 - val_accuracy: 0.9259\n",
      "Epoch 58/100\n",
      "985/985 [==============================] - 63s 64ms/step - loss: 0.0057 - accuracy: 0.9639 - val_loss: 0.0065 - val_accuracy: 0.9344\n",
      "Epoch 59/100\n",
      "985/985 [==============================] - 63s 64ms/step - loss: 0.0057 - accuracy: 0.9642 - val_loss: 0.0064 - val_accuracy: 0.9233\n"
     ]
    }
   ],
   "source": [
    "stack_2 = autoencoder_2.fit(train_intX, train_intX, epochs=100, batch_size=batch_size,callbacks = [callback],validation_data = (val_intX, val_intX))"
   ]
  },
  {
   "cell_type": "code",
   "execution_count": 46,
   "id": "067dfb68-f255-48a2-ac8e-08f0e7a85a04",
   "metadata": {},
   "outputs": [
    {
     "name": "stdout",
     "output_type": "stream",
     "text": [
      "4642/4642 [==============================] - 43s 9ms/step\n"
     ]
    }
   ],
   "source": [
    "pred = autoencoder_2.predict(intermediate_output_1)"
   ]
  },
  {
   "cell_type": "code",
   "execution_count": 47,
   "id": "8b85e439-c76d-4868-bb4b-8f10bcc06c11",
   "metadata": {},
   "outputs": [
    {
     "name": "stdout",
     "output_type": "stream",
     "text": [
      "4642/4642 [==============================] - 39s 8ms/step\n"
     ]
    }
   ],
   "source": [
    "layer_name = 'latent_2'\n",
    "intermediate_layer_model = Model(inputs=autoencoder_2.input,\n",
    "                                 outputs=autoencoder_2.get_layer(layer_name).output)\n",
    "intermediate_output_2 = intermediate_layer_model.predict(intermediate_output_1)"
   ]
  },
  {
   "cell_type": "code",
   "execution_count": 48,
   "id": "ce8f869b-dbf7-436a-a04c-9dd506e86d34",
   "metadata": {},
   "outputs": [],
   "source": [
    "batch_size = 128\n",
    "input_dim = np.shape(intermediate_output_2)[1]\n",
    "input_layer = Input(shape=(input_dim), name='input')\n",
    "#Input Layer\n",
    "dense1 = Dense (128, activation='relu')(input_layer)\n",
    "dense2 = Dense (64, activation='relu')(dense1)\n",
    "dense3 = Dense (8, activation='relu')(dense2)\n",
    "# Output Layer\n",
    "classifier = Dense(len(set(train_Y)), activation='softmax')(dense3)"
   ]
  },
  {
   "cell_type": "code",
   "execution_count": 49,
   "id": "107a545e-d7aa-46d1-b98e-7bc54d0faf8e",
   "metadata": {},
   "outputs": [],
   "source": [
    "classify = Model(inputs=input_layer, outputs=classifier)\n",
    "classify.compile(metrics=['accuracy'],loss='sparse_categorical_crossentropy',optimizer='adam')"
   ]
  },
  {
   "cell_type": "code",
   "execution_count": 50,
   "id": "ab3e5d9a-a290-4fe5-9317-65fd58c96fb4",
   "metadata": {},
   "outputs": [],
   "source": [
    "train_intX = intermediate_output_2[:len(df1)]\n",
    "test_intX = intermediate_output_2[len(df1):]\n",
    "train_intY = labels[:len(df1)]\n",
    "test_intY = labels[len(df1):]"
   ]
  },
  {
   "cell_type": "code",
   "execution_count": 51,
   "id": "6821f48a-642e-41a5-815a-3ae70fc72430",
   "metadata": {},
   "outputs": [],
   "source": [
    "test_intX, val_intX , test_intY ,val_intY = train_test_split(test_intX,test_intY,random_state = 42,test_size = 0.1)"
   ]
  },
  {
   "cell_type": "code",
   "execution_count": 53,
   "id": "3f463f9c-c641-4572-af3e-34447a2182b6",
   "metadata": {},
   "outputs": [
    {
     "name": "stdout",
     "output_type": "stream",
     "text": [
      "Epoch 1/100\n",
      "3937/3937 [==============================] - 8s 2ms/step - loss: 0.0266 - accuracy: 0.9437 - val_loss: 1.4886 - val_accuracy: 0.7397\n",
      "Epoch 2/100\n",
      "3937/3937 [==============================] - 7s 2ms/step - loss: 0.0153 - accuracy: 0.9662 - val_loss: 1.4694 - val_accuracy: 0.7344\n",
      "Epoch 3/100\n",
      "3937/3937 [==============================] - 7s 2ms/step - loss: 0.0126 - accuracy: 0.9724 - val_loss: 1.5620 - val_accuracy: 0.7242\n",
      "Epoch 4/100\n",
      "3937/3937 [==============================] - 7s 2ms/step - loss: 0.0111 - accuracy: 0.9761 - val_loss: 1.4414 - val_accuracy: 0.7295\n",
      "Epoch 5/100\n",
      "3937/3937 [==============================] - 7s 2ms/step - loss: 0.0101 - accuracy: 0.9786 - val_loss: 1.5917 - val_accuracy: 0.7228\n",
      "Epoch 6/100\n",
      "3937/3937 [==============================] - 8s 2ms/step - loss: 0.0094 - accuracy: 0.9797 - val_loss: 1.6259 - val_accuracy: 0.7326\n",
      "Epoch 7/100\n",
      "3937/3937 [==============================] - 8s 2ms/step - loss: 0.0088 - accuracy: 0.9813 - val_loss: 1.8506 - val_accuracy: 0.7290\n",
      "Epoch 8/100\n",
      "3937/3937 [==============================] - 8s 2ms/step - loss: 0.0083 - accuracy: 0.9822 - val_loss: 1.8976 - val_accuracy: 0.7273\n",
      "Epoch 9/100\n",
      "3937/3937 [==============================] - 8s 2ms/step - loss: 0.0079 - accuracy: 0.9825 - val_loss: 2.0991 - val_accuracy: 0.7228\n",
      "Epoch 10/100\n",
      "3937/3937 [==============================] - 7s 2ms/step - loss: 0.0078 - accuracy: 0.9834 - val_loss: 2.0646 - val_accuracy: 0.7322\n",
      "Epoch 11/100\n",
      "3937/3937 [==============================] - 7s 2ms/step - loss: 0.0075 - accuracy: 0.9840 - val_loss: 2.1334 - val_accuracy: 0.7353\n",
      "Epoch 12/100\n",
      "3937/3937 [==============================] - 8s 2ms/step - loss: 0.0072 - accuracy: 0.9846 - val_loss: 2.0718 - val_accuracy: 0.7255\n"
     ]
    }
   ],
   "source": [
    "history = classify.fit(train_intX, train_intY, epochs=100, batch_size=32,class_weight = label_dict,callbacks = [callback],validation_data = (val_intX, val_intY))"
   ]
  },
  {
   "cell_type": "markdown",
   "id": "09567141-c3b2-42b8-805f-257140b4cadc",
   "metadata": {},
   "source": [
    "# Testing on KDD Test"
   ]
  },
  {
   "cell_type": "code",
   "execution_count": 67,
   "id": "6f997b4f-0e2c-4f2c-9e4f-4fe3c8171cba",
   "metadata": {},
   "outputs": [],
   "source": [
    "features = act_features[len(df1):]\n",
    "labels = labels[len(df1):]"
   ]
  },
  {
   "cell_type": "code",
   "execution_count": null,
   "id": "f4244675-b85d-4821-8e2f-77e7b1160293",
   "metadata": {},
   "outputs": [],
   "source": []
  },
  {
   "cell_type": "code",
   "execution_count": 57,
   "id": "0ed0bf64-ec18-487b-afc0-a4cbb0b4deb8",
   "metadata": {},
   "outputs": [
    {
     "name": "stdout",
     "output_type": "stream",
     "text": [
      "705/705 [==============================] - 8s 10ms/step\n"
     ]
    }
   ],
   "source": [
    "layer_name = 'latent_1'\n",
    "intermediate_layer_model = Model(inputs=autoencoder_1.input,\n",
    "                                 outputs=autoencoder_1.get_layer(layer_name).output)\n",
    "intermediate_output_1 = intermediate_layer_model.predict(features)"
   ]
  },
  {
   "cell_type": "code",
   "execution_count": 58,
   "id": "7a9f8f15-944a-40b7-8ab8-3d0678490a86",
   "metadata": {},
   "outputs": [
    {
     "data": {
      "text/plain": [
       "(22544, 32)"
      ]
     },
     "execution_count": 58,
     "metadata": {},
     "output_type": "execute_result"
    }
   ],
   "source": [
    "np.shape(intermediate_output_1)"
   ]
  },
  {
   "cell_type": "code",
   "execution_count": 59,
   "id": "4e6191a3-d8da-4744-a495-a928357954e5",
   "metadata": {},
   "outputs": [
    {
     "name": "stdout",
     "output_type": "stream",
     "text": [
      "705/705 [==============================] - 7s 9ms/step\n"
     ]
    }
   ],
   "source": [
    "layer_name = 'latent_2'\n",
    "intermediate_layer_model = Model(inputs=autoencoder_2.input,\n",
    "                                 outputs=autoencoder_2.get_layer(layer_name).output)\n",
    "intermediate_output_2 = intermediate_layer_model.predict(intermediate_output_1)"
   ]
  },
  {
   "cell_type": "code",
   "execution_count": 60,
   "id": "cdeb4ebb-5cb5-44d9-b13a-7b722da3967a",
   "metadata": {},
   "outputs": [
    {
     "name": "stdout",
     "output_type": "stream",
     "text": [
      "705/705 [==============================] - 1s 1ms/step\n"
     ]
    }
   ],
   "source": [
    "final_prediction = classify.predict(intermediate_output_2)"
   ]
  },
  {
   "cell_type": "code",
   "execution_count": 69,
   "id": "70cca6d4-9130-41a1-9df9-1030c508193c",
   "metadata": {},
   "outputs": [
    {
     "data": {
      "text/plain": [
       "((22544, 5), (22544,))"
      ]
     },
     "execution_count": 69,
     "metadata": {},
     "output_type": "execute_result"
    }
   ],
   "source": [
    "np.shape(final_prediction),np.shape(labels)"
   ]
  },
  {
   "cell_type": "code",
   "execution_count": 68,
   "id": "75e0d5dc-d2b6-48ca-be03-f4e446623b1b",
   "metadata": {},
   "outputs": [],
   "source": [
    "from sklearn.metrics import confusion_matrix\n",
    "conf_mat = confusion_matrix(np.argmax(final_prediction,axis = 1), labels)"
   ]
  },
  {
   "cell_type": "code",
   "execution_count": 71,
   "id": "884ad50f-0202-46ea-8903-676747e6ebcd",
   "metadata": {},
   "outputs": [],
   "source": [
    "import seaborn as sns"
   ]
  },
  {
   "cell_type": "code",
   "execution_count": 72,
   "id": "cc825123-a4f3-44ce-baf0-a0410e9aca5f",
   "metadata": {},
   "outputs": [
    {
     "data": {
      "text/plain": [
       "<AxesSubplot:>"
      ]
     },
     "execution_count": 72,
     "metadata": {},
     "output_type": "execute_result"
    },
    {
     "data": {
      "image/png": "[encoded data removed]",
      "text/plain": [
       "<Figure size 432x288 with 2 Axes>"
      ]
     },
     "metadata": {
      "needs_background": "light"
     },
     "output_type": "display_data"
    }
   ],
   "source": [
    "sns.heatmap(conf_mat, annot=True)"
   ]
  },
  {
   "cell_type": "code",
   "execution_count": 73,
   "id": "172358a6-159c-4af4-bc99-08676d1e59d5",
   "metadata": {},
   "outputs": [
    {
     "name": "stdout",
     "output_type": "stream",
     "text": [
      "0.7251596877217885\n",
      "0.4704966548504414\n",
      "0.6599648371026487\n",
      "0.4863010614007142\n"
     ]
    },
    {
     "name": "stderr",
     "output_type": "stream",
     "text": [
      "C:\\Users\\ArrunPersonal\\anaconda3\\lib\\site-packages\\sklearn\\metrics\\_classification.py:1344: UndefinedMetricWarning: Recall is ill-defined and being set to 0.0 in labels with no true samples. Use `zero_division` parameter to control this behavior.\n",
      "  _warn_prf(average, modifier, msg_start, len(result))\n"
     ]
    }
   ],
   "source": [
    "print(accuracy_score(np.argmax(final_prediction,axis = 1),labels))\n",
    "print(precision_score(np.argmax(final_prediction,axis = 1),labels,average = 'macro'))\n",
    "print(recall_score(np.argmax(final_prediction,axis = 1),labels,average = 'macro'))\n",
    "print(f1_score(np.argmax(final_prediction,axis = 1),labels,average = 'macro'))"
   ]
  },
  {
   "cell_type": "code",
   "execution_count": null,
   "id": "3d86483c-3030-4302-8356-d5f2764318c6",
   "metadata": {},
   "outputs": [],
   "source": []
  }
 ],
 "metadata": {
  "kernelspec": {
   "display_name": "Python 3 (ipykernel)",
   "language": "python",
   "name": "python3"
  },
  "language_info": {
   "codemirror_mode": {
    "name": "ipython",
    "version": 3
   },
   "file_extension": ".py",
   "mimetype": "text/x-python",
   "name": "python",
   "nbconvert_exporter": "python",
   "pygments_lexer": "ipython3",
   "version": "3.9.7"
  }
 },
 "nbformat": 4,
 "nbformat_minor": 5
}
