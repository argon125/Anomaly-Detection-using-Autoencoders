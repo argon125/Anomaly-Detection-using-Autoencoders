{
 "cells": [
  {
   "cell_type": "code",
   "execution_count": 1,
   "id": "26514747-fc86-47ff-a5f5-66b4e87d015c",
   "metadata": {},
   "outputs": [],
   "source": [
    "import numpy as np\n",
    "import pandas as pd\n",
    "import matplotlib.pyplot as plt\n",
    "import os\n",
    "import tensorflow as tf"
   ]
  },
  {
   "cell_type": "code",
   "execution_count": 2,
   "id": "1f147c9a-2442-48ad-b9fa-072496906038",
   "metadata": {},
   "outputs": [],
   "source": [
    "feature = [\"duration\",\"protocol_type\",\"service\",\"flag\",\"src_bytes\",\n",
    "    \"dst_bytes\",\"land\",\"wrong_fragment\",\"urgent\",\"hot\",\"num_failed_logins\",\n",
    "    \"logged_in\",\"num_compromised\",\"root_shell\",\"su_attempted\",\"num_root\",\n",
    "    \"num_file_creations\",\"num_shells\",\"num_access_files\",\"num_outbound_cmds\",\n",
    "    \"is_host_login\",\"is_guest_login\",\"count\",\"srv_count\",\"serror_rate\",\n",
    "    \"srv_serror_rate\",\"rerror_rate\",\"srv_rerror_rate\",\"same_srv_rate\",\n",
    "    \"diff_srv_rate\",\"srv_diff_host_rate\",\"dst_host_count\",\"dst_host_srv_count\",\n",
    "    \"dst_host_same_srv_rate\",\"dst_host_diff_srv_rate\",\"dst_host_same_src_port_rate\",\n",
    "    \"dst_host_srv_diff_host_rate\",\"dst_host_serror_rate\",\"dst_host_srv_serror_rate\",\n",
    "    \"dst_host_rerror_rate\",\"dst_host_srv_rerror_rate\",\"target\",\"junk\"]"
   ]
  },
  {
   "cell_type": "code",
   "execution_count": 3,
   "id": "cb0da254-4668-443a-bf18-ab1ae941ba99",
   "metadata": {},
   "outputs": [],
   "source": [
    "os.chdir(\"C:/Users/ArrunPersonal/Codes/Semester7/IDS/NSL-KDD\")"
   ]
  },
  {
   "cell_type": "code",
   "execution_count": 4,
   "id": "83324749-e38a-403c-a67b-1944a45d27b9",
   "metadata": {},
   "outputs": [],
   "source": [
    "df1 = pd.read_csv(\"KDDTrain+.csv\", names = feature)\n",
    "df2 = pd.read_csv(\"KDDTest+.csv\", names = feature)\n",
    "df = pd.concat([df1, df2], axis=0)\n",
    "df.drop([\"junk\"],axis = 1,inplace = True)"
   ]
  },
  {
   "cell_type": "code",
   "execution_count": 5,
   "id": "8b2f2637-6daf-4c35-a85d-7bc9cb3a1bb3",
   "metadata": {},
   "outputs": [
    {
     "data": {
      "text/plain": [
       "False"
      ]
     },
     "execution_count": 5,
     "metadata": {},
     "output_type": "execute_result"
    }
   ],
   "source": [
    "df2.isnull().values.any()"
   ]
  },
  {
   "cell_type": "code",
   "execution_count": 6,
   "id": "83a5fecd-d59c-4b45-ad0f-e5dc091e8902",
   "metadata": {},
   "outputs": [
    {
     "data": {
      "text/html": [
       "<div>\n",
       "<style scoped>\n",
       "    .dataframe tbody tr th:only-of-type {\n",
       "        vertical-align: middle;\n",
       "    }\n",
       "\n",
       "    .dataframe tbody tr th {\n",
       "        vertical-align: top;\n",
       "    }\n",
       "\n",
       "    .dataframe thead th {\n",
       "        text-align: right;\n",
       "    }\n",
       "</style>\n",
       "<table border=\"1\" class=\"dataframe\">\n",
       "  <thead>\n",
       "    <tr style=\"text-align: right;\">\n",
       "      <th></th>\n",
       "      <th>duration</th>\n",
       "      <th>protocol_type</th>\n",
       "      <th>service</th>\n",
       "      <th>flag</th>\n",
       "      <th>src_bytes</th>\n",
       "      <th>dst_bytes</th>\n",
       "      <th>land</th>\n",
       "      <th>wrong_fragment</th>\n",
       "      <th>urgent</th>\n",
       "      <th>hot</th>\n",
       "      <th>...</th>\n",
       "      <th>dst_host_srv_count</th>\n",
       "      <th>dst_host_same_srv_rate</th>\n",
       "      <th>dst_host_diff_srv_rate</th>\n",
       "      <th>dst_host_same_src_port_rate</th>\n",
       "      <th>dst_host_srv_diff_host_rate</th>\n",
       "      <th>dst_host_serror_rate</th>\n",
       "      <th>dst_host_srv_serror_rate</th>\n",
       "      <th>dst_host_rerror_rate</th>\n",
       "      <th>dst_host_srv_rerror_rate</th>\n",
       "      <th>target</th>\n",
       "    </tr>\n",
       "  </thead>\n",
       "  <tbody>\n",
       "    <tr>\n",
       "      <th>0</th>\n",
       "      <td>0</td>\n",
       "      <td>tcp</td>\n",
       "      <td>ftp_data</td>\n",
       "      <td>SF</td>\n",
       "      <td>491</td>\n",
       "      <td>0</td>\n",
       "      <td>0</td>\n",
       "      <td>0</td>\n",
       "      <td>0</td>\n",
       "      <td>0</td>\n",
       "      <td>...</td>\n",
       "      <td>25</td>\n",
       "      <td>0.17</td>\n",
       "      <td>0.03</td>\n",
       "      <td>0.17</td>\n",
       "      <td>0.00</td>\n",
       "      <td>0.00</td>\n",
       "      <td>0.00</td>\n",
       "      <td>0.05</td>\n",
       "      <td>0.00</td>\n",
       "      <td>normal</td>\n",
       "    </tr>\n",
       "    <tr>\n",
       "      <th>1</th>\n",
       "      <td>0</td>\n",
       "      <td>udp</td>\n",
       "      <td>other</td>\n",
       "      <td>SF</td>\n",
       "      <td>146</td>\n",
       "      <td>0</td>\n",
       "      <td>0</td>\n",
       "      <td>0</td>\n",
       "      <td>0</td>\n",
       "      <td>0</td>\n",
       "      <td>...</td>\n",
       "      <td>1</td>\n",
       "      <td>0.00</td>\n",
       "      <td>0.60</td>\n",
       "      <td>0.88</td>\n",
       "      <td>0.00</td>\n",
       "      <td>0.00</td>\n",
       "      <td>0.00</td>\n",
       "      <td>0.00</td>\n",
       "      <td>0.00</td>\n",
       "      <td>normal</td>\n",
       "    </tr>\n",
       "    <tr>\n",
       "      <th>2</th>\n",
       "      <td>0</td>\n",
       "      <td>tcp</td>\n",
       "      <td>private</td>\n",
       "      <td>S0</td>\n",
       "      <td>0</td>\n",
       "      <td>0</td>\n",
       "      <td>0</td>\n",
       "      <td>0</td>\n",
       "      <td>0</td>\n",
       "      <td>0</td>\n",
       "      <td>...</td>\n",
       "      <td>26</td>\n",
       "      <td>0.10</td>\n",
       "      <td>0.05</td>\n",
       "      <td>0.00</td>\n",
       "      <td>0.00</td>\n",
       "      <td>1.00</td>\n",
       "      <td>1.00</td>\n",
       "      <td>0.00</td>\n",
       "      <td>0.00</td>\n",
       "      <td>neptune</td>\n",
       "    </tr>\n",
       "    <tr>\n",
       "      <th>3</th>\n",
       "      <td>0</td>\n",
       "      <td>tcp</td>\n",
       "      <td>http</td>\n",
       "      <td>SF</td>\n",
       "      <td>232</td>\n",
       "      <td>8153</td>\n",
       "      <td>0</td>\n",
       "      <td>0</td>\n",
       "      <td>0</td>\n",
       "      <td>0</td>\n",
       "      <td>...</td>\n",
       "      <td>255</td>\n",
       "      <td>1.00</td>\n",
       "      <td>0.00</td>\n",
       "      <td>0.03</td>\n",
       "      <td>0.04</td>\n",
       "      <td>0.03</td>\n",
       "      <td>0.01</td>\n",
       "      <td>0.00</td>\n",
       "      <td>0.01</td>\n",
       "      <td>normal</td>\n",
       "    </tr>\n",
       "    <tr>\n",
       "      <th>4</th>\n",
       "      <td>0</td>\n",
       "      <td>tcp</td>\n",
       "      <td>http</td>\n",
       "      <td>SF</td>\n",
       "      <td>199</td>\n",
       "      <td>420</td>\n",
       "      <td>0</td>\n",
       "      <td>0</td>\n",
       "      <td>0</td>\n",
       "      <td>0</td>\n",
       "      <td>...</td>\n",
       "      <td>255</td>\n",
       "      <td>1.00</td>\n",
       "      <td>0.00</td>\n",
       "      <td>0.00</td>\n",
       "      <td>0.00</td>\n",
       "      <td>0.00</td>\n",
       "      <td>0.00</td>\n",
       "      <td>0.00</td>\n",
       "      <td>0.00</td>\n",
       "      <td>normal</td>\n",
       "    </tr>\n",
       "  </tbody>\n",
       "</table>\n",
       "<p>5 rows × 42 columns</p>\n",
       "</div>"
      ],
      "text/plain": [
       "   duration protocol_type   service flag  src_bytes  dst_bytes  land  \\\n",
       "0         0           tcp  ftp_data   SF        491          0     0   \n",
       "1         0           udp     other   SF        146          0     0   \n",
       "2         0           tcp   private   S0          0          0     0   \n",
       "3         0           tcp      http   SF        232       8153     0   \n",
       "4         0           tcp      http   SF        199        420     0   \n",
       "\n",
       "   wrong_fragment  urgent  hot  ...  dst_host_srv_count  \\\n",
       "0               0       0    0  ...                  25   \n",
       "1               0       0    0  ...                   1   \n",
       "2               0       0    0  ...                  26   \n",
       "3               0       0    0  ...                 255   \n",
       "4               0       0    0  ...                 255   \n",
       "\n",
       "   dst_host_same_srv_rate  dst_host_diff_srv_rate  \\\n",
       "0                    0.17                    0.03   \n",
       "1                    0.00                    0.60   \n",
       "2                    0.10                    0.05   \n",
       "3                    1.00                    0.00   \n",
       "4                    1.00                    0.00   \n",
       "\n",
       "   dst_host_same_src_port_rate  dst_host_srv_diff_host_rate  \\\n",
       "0                         0.17                         0.00   \n",
       "1                         0.88                         0.00   \n",
       "2                         0.00                         0.00   \n",
       "3                         0.03                         0.04   \n",
       "4                         0.00                         0.00   \n",
       "\n",
       "   dst_host_serror_rate  dst_host_srv_serror_rate  dst_host_rerror_rate  \\\n",
       "0                  0.00                      0.00                  0.05   \n",
       "1                  0.00                      0.00                  0.00   \n",
       "2                  1.00                      1.00                  0.00   \n",
       "3                  0.03                      0.01                  0.00   \n",
       "4                  0.00                      0.00                  0.00   \n",
       "\n",
       "   dst_host_srv_rerror_rate   target  \n",
       "0                      0.00   normal  \n",
       "1                      0.00   normal  \n",
       "2                      0.00  neptune  \n",
       "3                      0.01   normal  \n",
       "4                      0.00   normal  \n",
       "\n",
       "[5 rows x 42 columns]"
      ]
     },
     "execution_count": 6,
     "metadata": {},
     "output_type": "execute_result"
    }
   ],
   "source": [
    "df.head()"
   ]
  },
  {
   "cell_type": "code",
   "execution_count": 7,
   "id": "a18b515a-ddb5-4080-b34f-7f1f27a0bf63",
   "metadata": {},
   "outputs": [],
   "source": [
    "protocol_dict = dict(zip(set(df['protocol_type']),np.arange(len(set(df['protocol_type'])))))\n",
    "service_dict = dict(zip(set(df['service']),np.arange(len(set(df['service'])))))\n",
    "flag_dict = dict(zip(set(df['flag']),np.arange(len(set(df['flag'])))))"
   ]
  },
  {
   "cell_type": "code",
   "execution_count": 8,
   "id": "d936db9e-d515-4632-9ccb-e839214b4898",
   "metadata": {},
   "outputs": [],
   "source": [
    "# changing attack labels to their respective attack class\n",
    "def change_feature(df):\n",
    "    df.target.replace(['apache2','back','land','neptune','mailbomb','pod','processtable','smurf','teardrop','udpstorm','worm'],'Dos',inplace=True)\n",
    "    df.target.replace(['ftp_write','guess_passwd','httptunnel','imap','multihop','named','phf','sendmail','snmpgetattack','snmpguess','spy'\n",
    "                       ,'warezclient','warezmaster','xlock','xsnoop'],'R2L',inplace=True)      \n",
    "    df.target.replace(['ipsweep','mscan','nmap','portsweep','saint','satan'],'Probe',inplace=True)\n",
    "    df.target.replace(['buffer_overflow','loadmodule','perl','ps','rootkit','sqlattack','xterm'],'U2R',inplace=True)\n",
    "    \n",
    "    df.protocol_type.replace(protocol_dict.keys(),protocol_dict.values(),inplace=True)\n",
    "    df.service.replace(service_dict.keys(),service_dict.values(),inplace=True)\n",
    "    df.flag.replace(flag_dict.keys(),flag_dict.values(),inplace=True)"
   ]
  },
  {
   "cell_type": "code",
   "execution_count": 9,
   "id": "8ccbc07a-197d-4605-8326-5e525a72a93a",
   "metadata": {},
   "outputs": [],
   "source": [
    "change_feature(df)"
   ]
  },
  {
   "cell_type": "code",
   "execution_count": 10,
   "id": "1e26cc37-042f-4e38-b806-87f98d0d7933",
   "metadata": {},
   "outputs": [],
   "source": [
    "target_dict = dict(zip(set(df['target']),np.arange(len(set(df['target'])))))"
   ]
  },
  {
   "cell_type": "code",
   "execution_count": 11,
   "id": "b196459f-91c1-417a-a020-2f1fc2f39215",
   "metadata": {},
   "outputs": [],
   "source": [
    "def change_target(df):\n",
    "    df.target.replace(target_dict.keys(),target_dict.values(),inplace=True)"
   ]
  },
  {
   "cell_type": "code",
   "execution_count": 12,
   "id": "8501a05e-a96c-4124-9fe9-c13131b8a59b",
   "metadata": {},
   "outputs": [],
   "source": [
    "change_target(df)"
   ]
  },
  {
   "cell_type": "code",
   "execution_count": 13,
   "id": "4a017340-3b4a-49ed-aa1b-1abcd93feade",
   "metadata": {},
   "outputs": [
    {
     "data": {
      "text/html": [
       "<div>\n",
       "<style scoped>\n",
       "    .dataframe tbody tr th:only-of-type {\n",
       "        vertical-align: middle;\n",
       "    }\n",
       "\n",
       "    .dataframe tbody tr th {\n",
       "        vertical-align: top;\n",
       "    }\n",
       "\n",
       "    .dataframe thead th {\n",
       "        text-align: right;\n",
       "    }\n",
       "</style>\n",
       "<table border=\"1\" class=\"dataframe\">\n",
       "  <thead>\n",
       "    <tr style=\"text-align: right;\">\n",
       "      <th></th>\n",
       "      <th>duration</th>\n",
       "      <th>protocol_type</th>\n",
       "      <th>service</th>\n",
       "      <th>flag</th>\n",
       "      <th>src_bytes</th>\n",
       "      <th>dst_bytes</th>\n",
       "      <th>land</th>\n",
       "      <th>wrong_fragment</th>\n",
       "      <th>urgent</th>\n",
       "      <th>hot</th>\n",
       "      <th>...</th>\n",
       "      <th>dst_host_srv_count</th>\n",
       "      <th>dst_host_same_srv_rate</th>\n",
       "      <th>dst_host_diff_srv_rate</th>\n",
       "      <th>dst_host_same_src_port_rate</th>\n",
       "      <th>dst_host_srv_diff_host_rate</th>\n",
       "      <th>dst_host_serror_rate</th>\n",
       "      <th>dst_host_srv_serror_rate</th>\n",
       "      <th>dst_host_rerror_rate</th>\n",
       "      <th>dst_host_srv_rerror_rate</th>\n",
       "      <th>target</th>\n",
       "    </tr>\n",
       "  </thead>\n",
       "  <tbody>\n",
       "    <tr>\n",
       "      <th>0</th>\n",
       "      <td>0</td>\n",
       "      <td>0</td>\n",
       "      <td>11</td>\n",
       "      <td>9</td>\n",
       "      <td>491</td>\n",
       "      <td>0</td>\n",
       "      <td>0</td>\n",
       "      <td>0</td>\n",
       "      <td>0</td>\n",
       "      <td>0</td>\n",
       "      <td>...</td>\n",
       "      <td>25</td>\n",
       "      <td>0.17</td>\n",
       "      <td>0.03</td>\n",
       "      <td>0.17</td>\n",
       "      <td>0.00</td>\n",
       "      <td>0.00</td>\n",
       "      <td>0.00</td>\n",
       "      <td>0.05</td>\n",
       "      <td>0.00</td>\n",
       "      <td>3</td>\n",
       "    </tr>\n",
       "    <tr>\n",
       "      <th>1</th>\n",
       "      <td>0</td>\n",
       "      <td>1</td>\n",
       "      <td>48</td>\n",
       "      <td>9</td>\n",
       "      <td>146</td>\n",
       "      <td>0</td>\n",
       "      <td>0</td>\n",
       "      <td>0</td>\n",
       "      <td>0</td>\n",
       "      <td>0</td>\n",
       "      <td>...</td>\n",
       "      <td>1</td>\n",
       "      <td>0.00</td>\n",
       "      <td>0.60</td>\n",
       "      <td>0.88</td>\n",
       "      <td>0.00</td>\n",
       "      <td>0.00</td>\n",
       "      <td>0.00</td>\n",
       "      <td>0.00</td>\n",
       "      <td>0.00</td>\n",
       "      <td>3</td>\n",
       "    </tr>\n",
       "    <tr>\n",
       "      <th>2</th>\n",
       "      <td>0</td>\n",
       "      <td>0</td>\n",
       "      <td>32</td>\n",
       "      <td>10</td>\n",
       "      <td>0</td>\n",
       "      <td>0</td>\n",
       "      <td>0</td>\n",
       "      <td>0</td>\n",
       "      <td>0</td>\n",
       "      <td>0</td>\n",
       "      <td>...</td>\n",
       "      <td>26</td>\n",
       "      <td>0.10</td>\n",
       "      <td>0.05</td>\n",
       "      <td>0.00</td>\n",
       "      <td>0.00</td>\n",
       "      <td>1.00</td>\n",
       "      <td>1.00</td>\n",
       "      <td>0.00</td>\n",
       "      <td>0.00</td>\n",
       "      <td>0</td>\n",
       "    </tr>\n",
       "    <tr>\n",
       "      <th>3</th>\n",
       "      <td>0</td>\n",
       "      <td>0</td>\n",
       "      <td>51</td>\n",
       "      <td>9</td>\n",
       "      <td>232</td>\n",
       "      <td>8153</td>\n",
       "      <td>0</td>\n",
       "      <td>0</td>\n",
       "      <td>0</td>\n",
       "      <td>0</td>\n",
       "      <td>...</td>\n",
       "      <td>255</td>\n",
       "      <td>1.00</td>\n",
       "      <td>0.00</td>\n",
       "      <td>0.03</td>\n",
       "      <td>0.04</td>\n",
       "      <td>0.03</td>\n",
       "      <td>0.01</td>\n",
       "      <td>0.00</td>\n",
       "      <td>0.01</td>\n",
       "      <td>3</td>\n",
       "    </tr>\n",
       "    <tr>\n",
       "      <th>4</th>\n",
       "      <td>0</td>\n",
       "      <td>0</td>\n",
       "      <td>51</td>\n",
       "      <td>9</td>\n",
       "      <td>199</td>\n",
       "      <td>420</td>\n",
       "      <td>0</td>\n",
       "      <td>0</td>\n",
       "      <td>0</td>\n",
       "      <td>0</td>\n",
       "      <td>...</td>\n",
       "      <td>255</td>\n",
       "      <td>1.00</td>\n",
       "      <td>0.00</td>\n",
       "      <td>0.00</td>\n",
       "      <td>0.00</td>\n",
       "      <td>0.00</td>\n",
       "      <td>0.00</td>\n",
       "      <td>0.00</td>\n",
       "      <td>0.00</td>\n",
       "      <td>3</td>\n",
       "    </tr>\n",
       "  </tbody>\n",
       "</table>\n",
       "<p>5 rows × 42 columns</p>\n",
       "</div>"
      ],
      "text/plain": [
       "   duration  protocol_type  service  flag  src_bytes  dst_bytes  land  \\\n",
       "0         0              0       11     9        491          0     0   \n",
       "1         0              1       48     9        146          0     0   \n",
       "2         0              0       32    10          0          0     0   \n",
       "3         0              0       51     9        232       8153     0   \n",
       "4         0              0       51     9        199        420     0   \n",
       "\n",
       "   wrong_fragment  urgent  hot  ...  dst_host_srv_count  \\\n",
       "0               0       0    0  ...                  25   \n",
       "1               0       0    0  ...                   1   \n",
       "2               0       0    0  ...                  26   \n",
       "3               0       0    0  ...                 255   \n",
       "4               0       0    0  ...                 255   \n",
       "\n",
       "   dst_host_same_srv_rate  dst_host_diff_srv_rate  \\\n",
       "0                    0.17                    0.03   \n",
       "1                    0.00                    0.60   \n",
       "2                    0.10                    0.05   \n",
       "3                    1.00                    0.00   \n",
       "4                    1.00                    0.00   \n",
       "\n",
       "   dst_host_same_src_port_rate  dst_host_srv_diff_host_rate  \\\n",
       "0                         0.17                         0.00   \n",
       "1                         0.88                         0.00   \n",
       "2                         0.00                         0.00   \n",
       "3                         0.03                         0.04   \n",
       "4                         0.00                         0.00   \n",
       "\n",
       "   dst_host_serror_rate  dst_host_srv_serror_rate  dst_host_rerror_rate  \\\n",
       "0                  0.00                      0.00                  0.05   \n",
       "1                  0.00                      0.00                  0.00   \n",
       "2                  1.00                      1.00                  0.00   \n",
       "3                  0.03                      0.01                  0.00   \n",
       "4                  0.00                      0.00                  0.00   \n",
       "\n",
       "   dst_host_srv_rerror_rate  target  \n",
       "0                      0.00       3  \n",
       "1                      0.00       3  \n",
       "2                      0.00       0  \n",
       "3                      0.01       3  \n",
       "4                      0.00       3  \n",
       "\n",
       "[5 rows x 42 columns]"
      ]
     },
     "execution_count": 13,
     "metadata": {},
     "output_type": "execute_result"
    }
   ],
   "source": [
    "df.head()"
   ]
  },
  {
   "cell_type": "code",
   "execution_count": 14,
   "id": "53501637-c91d-4739-9e6e-e56aa2379d8f",
   "metadata": {},
   "outputs": [],
   "source": [
    "df_lis = np.array(df.values.tolist())"
   ]
  },
  {
   "cell_type": "code",
   "execution_count": 15,
   "id": "51ee24eb-5eaa-4850-b098-b897563b3941",
   "metadata": {},
   "outputs": [],
   "source": [
    "from scipy.stats import pearsonr"
   ]
  },
  {
   "cell_type": "code",
   "execution_count": 16,
   "id": "bf732d62-eda1-4612-9fe7-5a6b2ebda6e4",
   "metadata": {},
   "outputs": [],
   "source": [
    "features = np.array(df_lis[:,:-1])\n",
    "labels = np.array(df_lis[:,-1])"
   ]
  },
  {
   "cell_type": "code",
   "execution_count": 17,
   "id": "a78df2e4-1fad-4a52-bae0-8a55e8725c74",
   "metadata": {},
   "outputs": [
    {
     "name": "stderr",
     "output_type": "stream",
     "text": [
      "C:\\Users\\ArrunPersonal\\anaconda3\\lib\\site-packages\\scipy\\stats\\stats.py:4023: PearsonRConstantInputWarning: An input array is constant; the correlation coefficient is not defined.\n",
      "  warnings.warn(PearsonRConstantInputWarning())\n"
     ]
    }
   ],
   "source": [
    "scores = [abs(pearsonr(features[:,i],labels)[0]) for i in range(np.shape(features)[1])]"
   ]
  },
  {
   "cell_type": "code",
   "execution_count": 18,
   "id": "3baaaebc-a968-4c3c-8a9e-2c806aa5327e",
   "metadata": {},
   "outputs": [
    {
     "data": {
      "text/plain": [
       "[0.01686814728669215,\n",
       " 0.0008903318415672777,\n",
       " 0.2297422927796742,\n",
       " 0.10701307653563152,\n",
       " 0.0012141388333351704,\n",
       " 0.0012770730419773397,\n",
       " 0.011162276352596678,\n",
       " 0.09642082940869305,\n",
       " 0.006053383795186608,\n",
       " 0.0844752868794143,\n",
       " 0.0846781678549625,\n",
       " 0.660688205015685,\n",
       " 0.008993833945926441,\n",
       " 0.028677707720451886,\n",
       " 0.019983490565798342,\n",
       " 0.010269378860652595,\n",
       " 0.019025884784639218,\n",
       " 0.012744438040788529,\n",
       " 0.03673622898213086,\n",
       " 0,\n",
       " 0.009265468432136038,\n",
       " 0.13408191988598217,\n",
       " 0.5920518067630516,\n",
       " 0.025936664492478386,\n",
       " 0.6817167490901206,\n",
       " 0.6799499561330806,\n",
       " 0.26735589027610057,\n",
       " 0.26577034800130456,\n",
       " 0.7833685135471095,\n",
       " 0.1545054952530892,\n",
       " 0.1471083215375158,\n",
       " 0.4252036322403124,\n",
       " 0.6580151407302548,\n",
       " 0.6903593469555097,\n",
       " 0.1555246044441042,\n",
       " 0.037210074078096025,\n",
       " 0.03442751095901751,\n",
       " 0.6819161268096257,\n",
       " 0.6863693812079862,\n",
       " 0.27430736943867096,\n",
       " 0.2636032552782233]"
      ]
     },
     "execution_count": 18,
     "metadata": {},
     "output_type": "execute_result"
    }
   ],
   "source": [
    "scores[19] = 0\n",
    "scores"
   ]
  },
  {
   "cell_type": "code",
   "execution_count": 19,
   "id": "6bf510ee-760c-44b0-be38-0e1a82e6c193",
   "metadata": {},
   "outputs": [],
   "source": [
    "act_features = []\n",
    "act_indices = []\n",
    "for i in range(len(scores)):\n",
    "    if(scores[i]> 0.1):\n",
    "        act_indices.append(i)\n",
    "        act_features.append(features[:,i])"
   ]
  },
  {
   "cell_type": "code",
   "execution_count": 20,
   "id": "400de698-ff4c-4c34-a9f9-312d7b9f7093",
   "metadata": {},
   "outputs": [],
   "source": [
    "act_features = np.array(act_features).T"
   ]
  },
  {
   "cell_type": "code",
   "execution_count": 21,
   "id": "5c79fe7f-778f-409f-972e-b60f0f85f61c",
   "metadata": {},
   "outputs": [
    {
     "data": {
      "text/plain": [
       "(148517, 20)"
      ]
     },
     "execution_count": 21,
     "metadata": {},
     "output_type": "execute_result"
    }
   ],
   "source": [
    "for i in range(np.shape(act_features)[1]):\n",
    "    if(np.std(act_features[:,i])!=0):\n",
    "        act_features[:,i] = (act_features[:,i]-np.mean(act_features[:,i]))/np.std(act_features[:,i]) \n",
    "    else:\n",
    "        act_features[:,i] = (act_features[:,i]-np.mean(act_features[:,i]))\n",
    "np.shape(act_features)"
   ]
  },
  {
   "cell_type": "code",
   "execution_count": 22,
   "id": "b743a87a-727f-470e-bfd3-aa9b883aff23",
   "metadata": {},
   "outputs": [],
   "source": [
    "train_X = act_features[:len(df1)]\n",
    "test_X = act_features[len(df1):]\n",
    "train_Y = labels[:len(df1)]\n",
    "test_Y = labels[len(df1):]"
   ]
  },
  {
   "cell_type": "code",
   "execution_count": 23,
   "id": "4145ab65-0dce-4ba1-9295-4cbcd01999ec",
   "metadata": {},
   "outputs": [],
   "source": [
    "from sklearn.model_selection import train_test_split "
   ]
  },
  {
   "cell_type": "code",
   "execution_count": 24,
   "id": "575c9e10-9c7b-4b15-a88b-c7a6ff2cd1d2",
   "metadata": {},
   "outputs": [],
   "source": [
    "test_X, val_X , test_Y ,val_Y = train_test_split(test_X,test_Y,random_state = 42,test_size = 0.1)"
   ]
  },
  {
   "cell_type": "code",
   "execution_count": 25,
   "id": "fb812803-ce18-4323-bd39-5bcb3cb26668",
   "metadata": {},
   "outputs": [
    {
     "name": "stdout",
     "output_type": "stream",
     "text": [
      "(125973, 20) (20289, 20) (2255, 20) (125973,) (20289,) (2255,)\n"
     ]
    }
   ],
   "source": [
    "print(np.shape(train_X),np.shape(test_X),np.shape(val_X),np.shape(train_Y),np.shape(test_Y),np.shape(val_Y))"
   ]
  },
  {
   "cell_type": "code",
   "execution_count": 26,
   "id": "63c85006-ecce-42ca-bd9e-5972343b823a",
   "metadata": {},
   "outputs": [],
   "source": [
    "val,counts = np.unique(np.array(labels,dtype = 'int16'),return_counts = True)\n",
    "counts = 1 - counts/np.linalg.norm(counts)\n",
    "new_counts = np.exp(counts)/np.sum(np.exp(counts))\n",
    "label_dict = dict(zip(val,new_counts))"
   ]
  },
  {
   "cell_type": "code",
   "execution_count": 27,
   "id": "d00a8657-fb1c-45df-96e8-7631f69d4608",
   "metadata": {},
   "outputs": [
    {
     "data": {
      "text/plain": [
       "{0: 0.14856723519253834,\n",
       " 1: 0.2248390471339878,\n",
       " 2: 0.26047558789153663,\n",
       " 3: 0.11576653433285747,\n",
       " 4: 0.2503515954490797}"
      ]
     },
     "execution_count": 27,
     "metadata": {},
     "output_type": "execute_result"
    }
   ],
   "source": [
    "label_dict"
   ]
  },
  {
   "cell_type": "code",
   "execution_count": 28,
   "id": "146b1600-49e3-4749-9258-319a59d8f16a",
   "metadata": {},
   "outputs": [],
   "source": [
    "from keras.layers import *\n",
    "from keras.models import Model\n",
    "from keras_self_attention import SeqSelfAttention"
   ]
  },
  {
   "cell_type": "code",
   "execution_count": 35,
   "id": "043da004-ae33-46ea-ab4d-f798fae18c0a",
   "metadata": {},
   "outputs": [],
   "source": [
    "batch_size = 128\n",
    "input_dim = np.shape(train_X)[1]\n",
    "#Input Layer\n",
    "\n",
    "input_layer = Input(shape=input_dim, name='input')\n",
    "#Encoder’s first dense layer\n",
    "encoder = Dense (128, activation='relu')(input_layer)\n",
    "#Encoder’s second dense layer\n",
    "encoder = Dense (64, activation='relu')(encoder)\n",
    "# Code layer\n",
    "latent_layer = Dense (32, activation='relu',name = 'latent_1')(encoder)\n",
    "# Decoder’s first dense layer\n",
    "decoder = Dense(64, activation='relu')(latent_layer)\n",
    "# Decoder’s second dense layer\n",
    "decoder = Dense(128, activation='relu')(decoder)\n",
    "# Decoder’s Third dense layer\n",
    "decoder = Dense(256, activation='relu')(decoder)\n",
    "# Output Layer\n",
    "decoder = Dense(input_dim, activation='relu')(decoder)"
   ]
  },
  {
   "cell_type": "code",
   "execution_count": 36,
   "id": "a9f6d1b0-af83-4277-abe6-ed602e0e84f4",
   "metadata": {},
   "outputs": [],
   "source": [
    "autoencoder_1 = Model(inputs=input_layer, outputs=decoder)\n",
    "autoencoder_1.compile(metrics=['accuracy'],loss='mse',optimizer='adam')"
   ]
  },
  {
   "cell_type": "code",
   "execution_count": 37,
   "id": "862b0400-d477-41b6-8e6f-85a1fa8dcecc",
   "metadata": {},
   "outputs": [
    {
     "name": "stdout",
     "output_type": "stream",
     "text": [
      "Model: \"model_1\"\n",
      "_________________________________________________________________\n",
      " Layer (type)                Output Shape              Param #   \n",
      "=================================================================\n",
      " input (InputLayer)          [(None, 20)]              0         \n",
      "                                                                 \n",
      " dense_7 (Dense)             (None, 128)               2688      \n",
      "                                                                 \n",
      " dense_8 (Dense)             (None, 64)                8256      \n",
      "                                                                 \n",
      " latent_1 (Dense)            (None, 32)                2080      \n",
      "                                                                 \n",
      " dense_9 (Dense)             (None, 64)                2112      \n",
      "                                                                 \n",
      " dense_10 (Dense)            (None, 128)               8320      \n",
      "                                                                 \n",
      " dense_11 (Dense)            (None, 256)               33024     \n",
      "                                                                 \n",
      " dense_12 (Dense)            (None, 20)                5140      \n",
      "                                                                 \n",
      "=================================================================\n",
      "Total params: 61,620\n",
      "Trainable params: 61,620\n",
      "Non-trainable params: 0\n",
      "_________________________________________________________________\n"
     ]
    }
   ],
   "source": [
    "autoencoder_1.summary()"
   ]
  },
  {
   "cell_type": "code",
   "execution_count": 38,
   "id": "4183643c-f2b2-4653-b738-3bc23a84e48e",
   "metadata": {},
   "outputs": [],
   "source": [
    "callback = tf.keras.callbacks.EarlyStopping(monitor='val_loss', patience=8,restore_best_weights=True)"
   ]
  },
  {
   "cell_type": "code",
   "execution_count": 39,
   "id": "889aa3c7-1154-496e-971c-3b9ec931adc1",
   "metadata": {},
   "outputs": [
    {
     "name": "stdout",
     "output_type": "stream",
     "text": [
      "Epoch 1/100\n",
      "985/985 [==============================] - 4s 3ms/step - loss: 0.3950 - accuracy: 0.4862 - val_loss: 0.4983 - val_accuracy: 0.5002\n",
      "Epoch 2/100\n",
      "985/985 [==============================] - 3s 3ms/step - loss: 0.3763 - accuracy: 0.5356 - val_loss: 0.4950 - val_accuracy: 0.5805\n",
      "Epoch 3/100\n",
      "985/985 [==============================] - 3s 3ms/step - loss: 0.3759 - accuracy: 0.5517 - val_loss: 0.4939 - val_accuracy: 0.5415\n",
      "Epoch 4/100\n",
      "985/985 [==============================] - 3s 3ms/step - loss: 0.3758 - accuracy: 0.5614 - val_loss: 0.4929 - val_accuracy: 0.5796\n",
      "Epoch 5/100\n",
      "985/985 [==============================] - 3s 3ms/step - loss: 0.3757 - accuracy: 0.5663 - val_loss: 0.4926 - val_accuracy: 0.5663\n",
      "Epoch 6/100\n",
      "985/985 [==============================] - 3s 3ms/step - loss: 0.3756 - accuracy: 0.5719 - val_loss: 0.4917 - val_accuracy: 0.5450\n",
      "Epoch 7/100\n",
      "985/985 [==============================] - 3s 3ms/step - loss: 0.3756 - accuracy: 0.5772 - val_loss: 0.4919 - val_accuracy: 0.5894\n",
      "Epoch 8/100\n",
      "985/985 [==============================] - 3s 3ms/step - loss: 0.3755 - accuracy: 0.5833 - val_loss: 0.4913 - val_accuracy: 0.6031\n",
      "Epoch 9/100\n",
      "985/985 [==============================] - 3s 3ms/step - loss: 0.3755 - accuracy: 0.5882 - val_loss: 0.4919 - val_accuracy: 0.6106\n",
      "Epoch 10/100\n",
      "985/985 [==============================] - 3s 3ms/step - loss: 0.3755 - accuracy: 0.5893 - val_loss: 0.4914 - val_accuracy: 0.5809\n",
      "Epoch 11/100\n",
      "985/985 [==============================] - 3s 3ms/step - loss: 0.3755 - accuracy: 0.5877 - val_loss: 0.4916 - val_accuracy: 0.5871\n",
      "Epoch 12/100\n",
      "985/985 [==============================] - 3s 3ms/step - loss: 0.3754 - accuracy: 0.5964 - val_loss: 0.4906 - val_accuracy: 0.5326\n",
      "Epoch 13/100\n",
      "985/985 [==============================] - 3s 3ms/step - loss: 0.3755 - accuracy: 0.5964 - val_loss: 0.4910 - val_accuracy: 0.5641\n",
      "Epoch 14/100\n",
      "985/985 [==============================] - 3s 3ms/step - loss: 0.3754 - accuracy: 0.5980 - val_loss: 0.4910 - val_accuracy: 0.5543\n",
      "Epoch 15/100\n",
      "985/985 [==============================] - 3s 3ms/step - loss: 0.3754 - accuracy: 0.6001 - val_loss: 0.4910 - val_accuracy: 0.6089\n",
      "Epoch 16/100\n",
      "985/985 [==============================] - 3s 3ms/step - loss: 0.3754 - accuracy: 0.6066 - val_loss: 0.4909 - val_accuracy: 0.5330\n",
      "Epoch 17/100\n",
      "985/985 [==============================] - 3s 3ms/step - loss: 0.3754 - accuracy: 0.6057 - val_loss: 0.4903 - val_accuracy: 0.5769\n",
      "Epoch 18/100\n",
      "985/985 [==============================] - 3s 3ms/step - loss: 0.3754 - accuracy: 0.6103 - val_loss: 0.4907 - val_accuracy: 0.5472\n",
      "Epoch 19/100\n",
      "985/985 [==============================] - 3s 3ms/step - loss: 0.3754 - accuracy: 0.6031 - val_loss: 0.4906 - val_accuracy: 0.6084\n",
      "Epoch 20/100\n",
      "985/985 [==============================] - 3s 3ms/step - loss: 0.3754 - accuracy: 0.6164 - val_loss: 0.4911 - val_accuracy: 0.5463\n",
      "Epoch 21/100\n",
      "985/985 [==============================] - 3s 3ms/step - loss: 0.3754 - accuracy: 0.6067 - val_loss: 0.4900 - val_accuracy: 0.5898\n",
      "Epoch 22/100\n",
      "985/985 [==============================] - 3s 3ms/step - loss: 0.3754 - accuracy: 0.6198 - val_loss: 0.4903 - val_accuracy: 0.6151\n",
      "Epoch 23/100\n",
      "985/985 [==============================] - 3s 3ms/step - loss: 0.3754 - accuracy: 0.6122 - val_loss: 0.4903 - val_accuracy: 0.6235\n",
      "Epoch 24/100\n",
      "985/985 [==============================] - 3s 3ms/step - loss: 0.3754 - accuracy: 0.6139 - val_loss: 0.4898 - val_accuracy: 0.6089\n",
      "Epoch 25/100\n",
      "985/985 [==============================] - 3s 3ms/step - loss: 0.3754 - accuracy: 0.6155 - val_loss: 0.4905 - val_accuracy: 0.5938\n",
      "Epoch 26/100\n",
      "985/985 [==============================] - 3s 3ms/step - loss: 0.3754 - accuracy: 0.6113 - val_loss: 0.4900 - val_accuracy: 0.6093\n",
      "Epoch 27/100\n",
      "985/985 [==============================] - 3s 3ms/step - loss: 0.3754 - accuracy: 0.6233 - val_loss: 0.4897 - val_accuracy: 0.5419\n",
      "Epoch 28/100\n",
      "985/985 [==============================] - 3s 3ms/step - loss: 0.3754 - accuracy: 0.6182 - val_loss: 0.4911 - val_accuracy: 0.6022\n",
      "Epoch 29/100\n",
      "985/985 [==============================] - 3s 3ms/step - loss: 0.3754 - accuracy: 0.6193 - val_loss: 0.4895 - val_accuracy: 0.6040\n",
      "Epoch 30/100\n",
      "985/985 [==============================] - 3s 3ms/step - loss: 0.3754 - accuracy: 0.6179 - val_loss: 0.4896 - val_accuracy: 0.6204\n",
      "Epoch 31/100\n",
      "985/985 [==============================] - 3s 3ms/step - loss: 0.3753 - accuracy: 0.6266 - val_loss: 0.4901 - val_accuracy: 0.5769\n",
      "Epoch 32/100\n",
      "985/985 [==============================] - 3s 3ms/step - loss: 0.3754 - accuracy: 0.6120 - val_loss: 0.4902 - val_accuracy: 0.5911\n",
      "Epoch 33/100\n",
      "985/985 [==============================] - 3s 3ms/step - loss: 0.3753 - accuracy: 0.6288 - val_loss: 0.4899 - val_accuracy: 0.5565\n",
      "Epoch 34/100\n",
      "985/985 [==============================] - 3s 3ms/step - loss: 0.3754 - accuracy: 0.6224 - val_loss: 0.4901 - val_accuracy: 0.5690\n",
      "Epoch 35/100\n",
      "985/985 [==============================] - 3s 3ms/step - loss: 0.3754 - accuracy: 0.6200 - val_loss: 0.4897 - val_accuracy: 0.6137\n",
      "Epoch 36/100\n",
      "985/985 [==============================] - 3s 3ms/step - loss: 0.3754 - accuracy: 0.6200 - val_loss: 0.4902 - val_accuracy: 0.5902\n",
      "Epoch 37/100\n",
      "985/985 [==============================] - 3s 3ms/step - loss: 0.3755 - accuracy: 0.6169 - val_loss: 0.4896 - val_accuracy: 0.5610\n"
     ]
    }
   ],
   "source": [
    "stack_1 = autoencoder_1.fit(train_X, train_X, epochs=100, batch_size=batch_size,validation_data = (val_X,val_X),callbacks = [callback])"
   ]
  },
  {
   "cell_type": "code",
   "execution_count": 40,
   "id": "9e512a5a-4e60-43fe-bc44-971cf02a5671",
   "metadata": {},
   "outputs": [
    {
     "name": "stdout",
     "output_type": "stream",
     "text": [
      "4642/4642 [==============================] - 5s 955us/step\n"
     ]
    }
   ],
   "source": [
    "pred = autoencoder_1.predict(act_features)"
   ]
  },
  {
   "cell_type": "code",
   "execution_count": 41,
   "id": "3151c34b-3134-4857-9325-5ec6bb053bc3",
   "metadata": {},
   "outputs": [],
   "source": [
    "from sklearn.metrics import *\n",
    "import keras"
   ]
  },
  {
   "cell_type": "code",
   "execution_count": 42,
   "id": "1120b179-6f54-4400-8d09-7ab3b73abc40",
   "metadata": {},
   "outputs": [
    {
     "data": {
      "text/plain": [
       "0.39038719137370603"
      ]
     },
     "execution_count": 42,
     "metadata": {},
     "output_type": "execute_result"
    }
   ],
   "source": [
    "np.sum(keras.losses.mean_squared_error(pred,act_features))/len(act_features)"
   ]
  },
  {
   "cell_type": "code",
   "execution_count": 43,
   "id": "10907211-7577-48d1-a54e-d52b4d3efece",
   "metadata": {},
   "outputs": [
    {
     "name": "stdout",
     "output_type": "stream",
     "text": [
      "4642/4642 [==============================] - 4s 786us/step\n"
     ]
    }
   ],
   "source": [
    "layer_name = 'latent_1'\n",
    "intermediate_layer_model = Model(inputs=autoencoder_1.input,\n",
    "                                 outputs=autoencoder_1.get_layer(layer_name).output)\n",
    "intermediate_output_1 = intermediate_layer_model.predict(act_features)"
   ]
  },
  {
   "cell_type": "code",
   "execution_count": 45,
   "id": "62043773-16ec-479b-9e40-9365b74cc3a7",
   "metadata": {},
   "outputs": [],
   "source": [
    "batch_size = 128\n",
    "input_dim = np.shape(intermediate_output_1)[1]\n",
    "#Input Layer\n",
    "\n",
    "input_layer = Input(shape=input_dim, name='input')\n",
    "#Encoder’s first dense layer\n",
    "encoder = Dense (64, activation='relu')(input_layer)\n",
    "#Encoder’s second dense layer\n",
    "encoder = Dense (32, activation='relu')(encoder)\n",
    "# Code layer\n",
    "latent_layer = Dense (16, activation='relu',name = 'latent_2')(encoder)\n",
    "# Decoder’s first dense layer\n",
    "decoder = Dense(32, activation='relu')(latent_layer)\n",
    "# Decoder’s second dense layer\n",
    "decoder = Dense(64, activation='relu')(decoder)\n",
    "# Decoder’s Third dense layer\n",
    "decoder = Dense(128, activation='relu')(decoder)\n",
    "# Output Layer\n",
    "decoder = Dense(input_dim, activation='relu')(decoder)"
   ]
  },
  {
   "cell_type": "code",
   "execution_count": 46,
   "id": "2af449ca-a863-46b1-94c7-c75f78c6cb51",
   "metadata": {},
   "outputs": [],
   "source": [
    "autoencoder_2 = Model(inputs=input_layer, outputs=decoder)\n",
    "autoencoder_2.compile(metrics=['accuracy'],loss='mse',optimizer='adam')"
   ]
  },
  {
   "cell_type": "code",
   "execution_count": 47,
   "id": "9fad83e0-65f7-496e-ac65-ea1714d37269",
   "metadata": {},
   "outputs": [
    {
     "name": "stdout",
     "output_type": "stream",
     "text": [
      "Model: \"model_3\"\n",
      "_________________________________________________________________\n",
      " Layer (type)                Output Shape              Param #   \n",
      "=================================================================\n",
      " input (InputLayer)          [(None, 32)]              0         \n",
      "                                                                 \n",
      " dense_14 (Dense)            (None, 64)                2112      \n",
      "                                                                 \n",
      " dense_15 (Dense)            (None, 32)                2080      \n",
      "                                                                 \n",
      " latent_2 (Dense)            (None, 16)                528       \n",
      "                                                                 \n",
      " dense_16 (Dense)            (None, 32)                544       \n",
      "                                                                 \n",
      " dense_17 (Dense)            (None, 64)                2112      \n",
      "                                                                 \n",
      " dense_18 (Dense)            (None, 128)               8320      \n",
      "                                                                 \n",
      " dense_19 (Dense)            (None, 32)                4128      \n",
      "                                                                 \n",
      "=================================================================\n",
      "Total params: 19,824\n",
      "Trainable params: 19,824\n",
      "Non-trainable params: 0\n",
      "_________________________________________________________________\n"
     ]
    }
   ],
   "source": [
    "autoencoder_2.summary()"
   ]
  },
  {
   "cell_type": "code",
   "execution_count": 48,
   "id": "191a9e82-79e8-4bf2-a23d-166390a67d29",
   "metadata": {},
   "outputs": [],
   "source": [
    "callback = tf.keras.callbacks.EarlyStopping(monitor='val_loss', patience=8,restore_best_weights=True)"
   ]
  },
  {
   "cell_type": "code",
   "execution_count": 49,
   "id": "7bf00d2c-b522-45db-baf7-64e0dd8576bc",
   "metadata": {},
   "outputs": [],
   "source": [
    "train_intX = intermediate_output_1[:len(df1)]\n",
    "test_intX = intermediate_output_1[len(df1):]\n",
    "train_intY = labels[:len(df1)]\n",
    "test_intY = labels[len(df1):]"
   ]
  },
  {
   "cell_type": "code",
   "execution_count": 50,
   "id": "af44b3ce-8be9-483d-abb2-82737b067ae2",
   "metadata": {},
   "outputs": [],
   "source": [
    "test_intX, val_intX , test_intY ,val_intY = train_test_split(test_intX,test_intY,random_state = 42,test_size = 0.1)"
   ]
  },
  {
   "cell_type": "code",
   "execution_count": 51,
   "id": "1f0a2227-ecde-47cc-b9b4-4f5aabf7f308",
   "metadata": {},
   "outputs": [
    {
     "name": "stdout",
     "output_type": "stream",
     "text": [
      "Epoch 1/100\n",
      "985/985 [==============================] - 4s 3ms/step - loss: 0.0500 - accuracy: 0.7279 - val_loss: 0.0371 - val_accuracy: 0.8186\n",
      "Epoch 2/100\n",
      "985/985 [==============================] - 2s 2ms/step - loss: 0.0286 - accuracy: 0.8689 - val_loss: 0.0323 - val_accuracy: 0.8506\n",
      "Epoch 3/100\n",
      "985/985 [==============================] - 3s 3ms/step - loss: 0.0274 - accuracy: 0.8826 - val_loss: 0.0299 - val_accuracy: 0.8767\n",
      "Epoch 4/100\n",
      "985/985 [==============================] - 2s 2ms/step - loss: 0.0270 - accuracy: 0.8950 - val_loss: 0.0294 - val_accuracy: 0.8891\n",
      "Epoch 5/100\n",
      "985/985 [==============================] - 2s 2ms/step - loss: 0.0268 - accuracy: 0.8994 - val_loss: 0.0284 - val_accuracy: 0.8896\n",
      "Epoch 6/100\n",
      "985/985 [==============================] - 3s 3ms/step - loss: 0.0267 - accuracy: 0.9012 - val_loss: 0.0276 - val_accuracy: 0.8984\n",
      "Epoch 7/100\n",
      "985/985 [==============================] - 3s 3ms/step - loss: 0.0266 - accuracy: 0.9048 - val_loss: 0.0270 - val_accuracy: 0.8927\n",
      "Epoch 8/100\n",
      "985/985 [==============================] - 2s 3ms/step - loss: 0.0265 - accuracy: 0.9079 - val_loss: 0.0273 - val_accuracy: 0.8758\n",
      "Epoch 9/100\n",
      "985/985 [==============================] - 2s 2ms/step - loss: 0.0264 - accuracy: 0.9099 - val_loss: 0.0265 - val_accuracy: 0.9002\n",
      "Epoch 10/100\n",
      "985/985 [==============================] - 3s 3ms/step - loss: 0.0264 - accuracy: 0.9132 - val_loss: 0.0263 - val_accuracy: 0.8794\n",
      "Epoch 11/100\n",
      "985/985 [==============================] - 3s 3ms/step - loss: 0.0263 - accuracy: 0.9134 - val_loss: 0.0266 - val_accuracy: 0.8976\n",
      "Epoch 12/100\n",
      "985/985 [==============================] - 3s 3ms/step - loss: 0.0263 - accuracy: 0.9152 - val_loss: 0.0260 - val_accuracy: 0.9069\n",
      "Epoch 13/100\n",
      "985/985 [==============================] - 3s 3ms/step - loss: 0.0263 - accuracy: 0.9164 - val_loss: 0.0258 - val_accuracy: 0.8865\n",
      "Epoch 14/100\n",
      "985/985 [==============================] - 3s 3ms/step - loss: 0.0263 - accuracy: 0.9179 - val_loss: 0.0257 - val_accuracy: 0.9188\n",
      "Epoch 15/100\n",
      "985/985 [==============================] - 3s 3ms/step - loss: 0.0262 - accuracy: 0.9188 - val_loss: 0.0257 - val_accuracy: 0.8958\n",
      "Epoch 16/100\n",
      "985/985 [==============================] - 3s 3ms/step - loss: 0.0262 - accuracy: 0.9193 - val_loss: 0.0256 - val_accuracy: 0.8829\n",
      "Epoch 17/100\n",
      "985/985 [==============================] - 1s 2ms/step - loss: 0.0262 - accuracy: 0.9200 - val_loss: 0.0258 - val_accuracy: 0.8918\n",
      "Epoch 18/100\n",
      "985/985 [==============================] - 1s 985us/step - loss: 0.0262 - accuracy: 0.9202 - val_loss: 0.0256 - val_accuracy: 0.8909\n",
      "Epoch 19/100\n",
      "985/985 [==============================] - 1s 1ms/step - loss: 0.0262 - accuracy: 0.9210 - val_loss: 0.0253 - val_accuracy: 0.9047\n",
      "Epoch 20/100\n",
      "985/985 [==============================] - 1s 944us/step - loss: 0.0262 - accuracy: 0.9223 - val_loss: 0.0252 - val_accuracy: 0.8958\n",
      "Epoch 21/100\n",
      "985/985 [==============================] - 1s 940us/step - loss: 0.0262 - accuracy: 0.9216 - val_loss: 0.0253 - val_accuracy: 0.8971\n",
      "Epoch 22/100\n",
      "985/985 [==============================] - 1s 966us/step - loss: 0.0262 - accuracy: 0.9226 - val_loss: 0.0254 - val_accuracy: 0.8936\n",
      "Epoch 23/100\n",
      "985/985 [==============================] - 1s 984us/step - loss: 0.0261 - accuracy: 0.9231 - val_loss: 0.0251 - val_accuracy: 0.9175\n",
      "Epoch 24/100\n",
      "985/985 [==============================] - 1s 1ms/step - loss: 0.0261 - accuracy: 0.9239 - val_loss: 0.0250 - val_accuracy: 0.8958\n",
      "Epoch 25/100\n",
      "985/985 [==============================] - 1s 1ms/step - loss: 0.0261 - accuracy: 0.9232 - val_loss: 0.0252 - val_accuracy: 0.8940\n",
      "Epoch 26/100\n",
      "985/985 [==============================] - 1s 1ms/step - loss: 0.0261 - accuracy: 0.9245 - val_loss: 0.0250 - val_accuracy: 0.9162\n",
      "Epoch 27/100\n",
      "985/985 [==============================] - 1s 953us/step - loss: 0.0261 - accuracy: 0.9255 - val_loss: 0.0251 - val_accuracy: 0.8918\n",
      "Epoch 28/100\n",
      "985/985 [==============================] - 1s 976us/step - loss: 0.0261 - accuracy: 0.9272 - val_loss: 0.0252 - val_accuracy: 0.9171\n",
      "Epoch 29/100\n",
      "985/985 [==============================] - 1s 1ms/step - loss: 0.0261 - accuracy: 0.9263 - val_loss: 0.0250 - val_accuracy: 0.9069\n",
      "Epoch 30/100\n",
      "985/985 [==============================] - 1s 990us/step - loss: 0.0261 - accuracy: 0.9269 - val_loss: 0.0250 - val_accuracy: 0.9024\n",
      "Epoch 31/100\n",
      "985/985 [==============================] - 1s 1ms/step - loss: 0.0261 - accuracy: 0.9268 - val_loss: 0.0251 - val_accuracy: 0.9109\n",
      "Epoch 32/100\n",
      "985/985 [==============================] - 1s 981us/step - loss: 0.0261 - accuracy: 0.9270 - val_loss: 0.0252 - val_accuracy: 0.9016\n",
      "Epoch 33/100\n",
      "985/985 [==============================] - 1s 960us/step - loss: 0.0261 - accuracy: 0.9268 - val_loss: 0.0250 - val_accuracy: 0.9135\n",
      "Epoch 34/100\n",
      "985/985 [==============================] - 1s 970us/step - loss: 0.0261 - accuracy: 0.9272 - val_loss: 0.0251 - val_accuracy: 0.9042\n",
      "Epoch 35/100\n",
      "985/985 [==============================] - 1s 954us/step - loss: 0.0261 - accuracy: 0.9281 - val_loss: 0.0249 - val_accuracy: 0.9157\n",
      "Epoch 36/100\n",
      "985/985 [==============================] - 1s 952us/step - loss: 0.0261 - accuracy: 0.9277 - val_loss: 0.0249 - val_accuracy: 0.9038\n",
      "Epoch 37/100\n",
      "985/985 [==============================] - 1s 970us/step - loss: 0.0261 - accuracy: 0.9279 - val_loss: 0.0250 - val_accuracy: 0.9064\n",
      "Epoch 38/100\n",
      "985/985 [==============================] - 1s 1ms/step - loss: 0.0261 - accuracy: 0.9290 - val_loss: 0.0250 - val_accuracy: 0.8976\n",
      "Epoch 39/100\n",
      "985/985 [==============================] - 1s 966us/step - loss: 0.0261 - accuracy: 0.9292 - val_loss: 0.0250 - val_accuracy: 0.8998\n",
      "Epoch 40/100\n",
      "985/985 [==============================] - 1s 990us/step - loss: 0.0261 - accuracy: 0.9288 - val_loss: 0.0249 - val_accuracy: 0.8936\n",
      "Epoch 41/100\n",
      "985/985 [==============================] - 1s 966us/step - loss: 0.0261 - accuracy: 0.9288 - val_loss: 0.0251 - val_accuracy: 0.9140\n",
      "Epoch 42/100\n",
      "985/985 [==============================] - 1s 959us/step - loss: 0.0261 - accuracy: 0.9295 - val_loss: 0.0252 - val_accuracy: 0.9131\n",
      "Epoch 43/100\n",
      "985/985 [==============================] - 1s 938us/step - loss: 0.0261 - accuracy: 0.9296 - val_loss: 0.0250 - val_accuracy: 0.9162\n",
      "Epoch 44/100\n",
      "985/985 [==============================] - 1s 963us/step - loss: 0.0261 - accuracy: 0.9289 - val_loss: 0.0249 - val_accuracy: 0.9095\n"
     ]
    }
   ],
   "source": [
    "stack_2 = autoencoder_2.fit(train_intX, train_intX, epochs=100, batch_size=batch_size,callbacks = [callback],validation_data = (val_intX, val_intX))"
   ]
  },
  {
   "cell_type": "code",
   "execution_count": 52,
   "id": "067dfb68-f255-48a2-ac8e-08f0e7a85a04",
   "metadata": {},
   "outputs": [
    {
     "name": "stdout",
     "output_type": "stream",
     "text": [
      "4642/4642 [==============================] - 2s 526us/step\n"
     ]
    }
   ],
   "source": [
    "pred = autoencoder_2.predict(intermediate_output_1)"
   ]
  },
  {
   "cell_type": "code",
   "execution_count": 53,
   "id": "8b85e439-c76d-4868-bb4b-8f10bcc06c11",
   "metadata": {},
   "outputs": [
    {
     "name": "stdout",
     "output_type": "stream",
     "text": [
      "4642/4642 [==============================] - 2s 443us/step\n"
     ]
    }
   ],
   "source": [
    "layer_name = 'latent_2'\n",
    "intermediate_layer_model = Model(inputs=autoencoder_2.input,\n",
    "                                 outputs=autoencoder_2.get_layer(layer_name).output)\n",
    "intermediate_output_2 = intermediate_layer_model.predict(intermediate_output_1)"
   ]
  },
  {
   "cell_type": "code",
   "execution_count": 54,
   "id": "ce8f869b-dbf7-436a-a04c-9dd506e86d34",
   "metadata": {},
   "outputs": [],
   "source": [
    "batch_size = 128\n",
    "input_dim = np.shape(intermediate_output_2)[1]\n",
    "input_layer = Input(shape=(input_dim), name='input')\n",
    "#Input Layer\n",
    "dense1 = Dense (128, activation='relu')(input_layer)\n",
    "dense2 = Dense (64, activation='relu')(dense1)\n",
    "dense3 = Dense (8, activation='relu')(dense2)\n",
    "# Output Layer\n",
    "classifier = Dense(len(set(train_Y)), activation='softmax')(dense3)"
   ]
  },
  {
   "cell_type": "code",
   "execution_count": 55,
   "id": "107a545e-d7aa-46d1-b98e-7bc54d0faf8e",
   "metadata": {},
   "outputs": [],
   "source": [
    "classify = Model(inputs=input_layer, outputs=classifier)\n",
    "classify.compile(metrics=['accuracy'],loss='sparse_categorical_crossentropy',optimizer='adam')"
   ]
  },
  {
   "cell_type": "code",
   "execution_count": 56,
   "id": "ab3e5d9a-a290-4fe5-9317-65fd58c96fb4",
   "metadata": {},
   "outputs": [],
   "source": [
    "train_intX = intermediate_output_2[:len(df1)]\n",
    "test_intX = intermediate_output_2[len(df1):]\n",
    "train_intY = labels[:len(df1)]\n",
    "test_intY = labels[len(df1):]"
   ]
  },
  {
   "cell_type": "code",
   "execution_count": 57,
   "id": "6821f48a-642e-41a5-815a-3ae70fc72430",
   "metadata": {},
   "outputs": [],
   "source": [
    "test_intX, val_intX , test_intY ,val_intY = train_test_split(test_intX,test_intY,random_state = 42,test_size = 0.1)"
   ]
  },
  {
   "cell_type": "code",
   "execution_count": 58,
   "id": "3f463f9c-c641-4572-af3e-34447a2182b6",
   "metadata": {},
   "outputs": [
    {
     "name": "stdout",
     "output_type": "stream",
     "text": [
      "Epoch 1/100\n",
      "3937/3937 [==============================] - 4s 781us/step - loss: 0.0269 - accuracy: 0.9499 - val_loss: 1.1714 - val_accuracy: 0.7290\n",
      "Epoch 2/100\n",
      "3937/3937 [==============================] - 3s 734us/step - loss: 0.0144 - accuracy: 0.9685 - val_loss: 1.1637 - val_accuracy: 0.7388\n",
      "Epoch 3/100\n",
      "3937/3937 [==============================] - 3s 718us/step - loss: 0.0117 - accuracy: 0.9741 - val_loss: 1.2580 - val_accuracy: 0.7583\n",
      "Epoch 4/100\n",
      "3937/3937 [==============================] - 3s 716us/step - loss: 0.0106 - accuracy: 0.9758 - val_loss: 1.4271 - val_accuracy: 0.7392\n",
      "Epoch 5/100\n",
      "3937/3937 [==============================] - 3s 718us/step - loss: 0.0099 - accuracy: 0.9771 - val_loss: 1.2799 - val_accuracy: 0.7517\n",
      "Epoch 6/100\n",
      "3937/3937 [==============================] - 3s 713us/step - loss: 0.0094 - accuracy: 0.9784 - val_loss: 1.3029 - val_accuracy: 0.7419\n",
      "Epoch 7/100\n",
      "3937/3937 [==============================] - 3s 713us/step - loss: 0.0090 - accuracy: 0.9786 - val_loss: 1.4309 - val_accuracy: 0.7627\n",
      "Epoch 8/100\n",
      "3937/3937 [==============================] - 3s 711us/step - loss: 0.0088 - accuracy: 0.9797 - val_loss: 1.5753 - val_accuracy: 0.7623\n",
      "Epoch 9/100\n",
      "3937/3937 [==============================] - 3s 701us/step - loss: 0.0084 - accuracy: 0.9802 - val_loss: 1.6093 - val_accuracy: 0.7494\n",
      "Epoch 10/100\n",
      "3937/3937 [==============================] - 3s 706us/step - loss: 0.0083 - accuracy: 0.9805 - val_loss: 1.5114 - val_accuracy: 0.7654\n"
     ]
    }
   ],
   "source": [
    "history = classify.fit(train_intX, train_intY, epochs=100, batch_size=32,class_weight = label_dict,callbacks = [callback],validation_data = (val_intX, val_intY))"
   ]
  },
  {
   "cell_type": "markdown",
   "id": "09567141-c3b2-42b8-805f-257140b4cadc",
   "metadata": {},
   "source": [
    "# Testing on KDD Test"
   ]
  },
  {
   "cell_type": "code",
   "execution_count": 70,
   "id": "11a23f3e-f391-4429-b49b-de8a4580af18",
   "metadata": {},
   "outputs": [],
   "source": [
    "features = act_features[len(df1):]\n",
    "labels = labels[len(df1):]"
   ]
  },
  {
   "cell_type": "code",
   "execution_count": 71,
   "id": "0ed0bf64-ec18-487b-afc0-a4cbb0b4deb8",
   "metadata": {},
   "outputs": [
    {
     "name": "stdout",
     "output_type": "stream",
     "text": [
      "705/705 [==============================] - 0s 449us/step\n"
     ]
    }
   ],
   "source": [
    "layer_name = 'latent_1'\n",
    "intermediate_layer_model = Model(inputs=autoencoder_1.input,\n",
    "                                 outputs=autoencoder_1.get_layer(layer_name).output)\n",
    "intermediate_output_1 = intermediate_layer_model.predict(features)"
   ]
  },
  {
   "cell_type": "code",
   "execution_count": 72,
   "id": "7a9f8f15-944a-40b7-8ab8-3d0678490a86",
   "metadata": {},
   "outputs": [
    {
     "data": {
      "text/plain": [
       "(22544, 32)"
      ]
     },
     "execution_count": 72,
     "metadata": {},
     "output_type": "execute_result"
    }
   ],
   "source": [
    "np.shape(intermediate_output_1)"
   ]
  },
  {
   "cell_type": "code",
   "execution_count": 73,
   "id": "4e6191a3-d8da-4744-a495-a928357954e5",
   "metadata": {},
   "outputs": [
    {
     "name": "stdout",
     "output_type": "stream",
     "text": [
      "705/705 [==============================] - 0s 419us/step\n"
     ]
    }
   ],
   "source": [
    "layer_name = 'latent_2'\n",
    "intermediate_layer_model = Model(inputs=autoencoder_2.input,\n",
    "                                 outputs=autoencoder_2.get_layer(layer_name).output)\n",
    "intermediate_output_2 = intermediate_layer_model.predict(intermediate_output_1)"
   ]
  },
  {
   "cell_type": "code",
   "execution_count": 74,
   "id": "cdeb4ebb-5cb5-44d9-b13a-7b722da3967a",
   "metadata": {},
   "outputs": [
    {
     "name": "stdout",
     "output_type": "stream",
     "text": [
      "705/705 [==============================] - 0s 442us/step\n"
     ]
    }
   ],
   "source": [
    "final_prediction = classify.predict(intermediate_output_2)"
   ]
  },
  {
   "cell_type": "code",
   "execution_count": 75,
   "id": "70cca6d4-9130-41a1-9df9-1030c508193c",
   "metadata": {},
   "outputs": [
    {
     "data": {
      "text/plain": [
       "((22544, 5), (22544,))"
      ]
     },
     "execution_count": 75,
     "metadata": {},
     "output_type": "execute_result"
    }
   ],
   "source": [
    "np.shape(final_prediction),np.shape(labels)"
   ]
  },
  {
   "cell_type": "code",
   "execution_count": 76,
   "id": "75e0d5dc-d2b6-48ca-be03-f4e446623b1b",
   "metadata": {},
   "outputs": [],
   "source": [
    "from sklearn.metrics import confusion_matrix\n",
    "conf_mat = confusion_matrix(np.argmax(final_prediction,axis = 1), labels)"
   ]
  },
  {
   "cell_type": "code",
   "execution_count": 77,
   "id": "884ad50f-0202-46ea-8903-676747e6ebcd",
   "metadata": {},
   "outputs": [],
   "source": [
    "import seaborn as sns"
   ]
  },
  {
   "cell_type": "code",
   "execution_count": 78,
   "id": "cc825123-a4f3-44ce-baf0-a0410e9aca5f",
   "metadata": {},
   "outputs": [
    {
     "data": {
      "text/plain": [
       "<AxesSubplot:>"
      ]
     },
     "execution_count": 78,
     "metadata": {},
     "output_type": "execute_result"
    },
    {
     "data": {
      "image/png": "[encoded data removed]",
      "text/plain": [
       "<Figure size 432x288 with 2 Axes>"
      ]
     },
     "metadata": {
      "needs_background": "light"
     },
     "output_type": "display_data"
    }
   ],
   "source": [
    "sns.heatmap(conf_mat, annot=True)"
   ]
  },
  {
   "cell_type": "code",
   "execution_count": 79,
   "id": "172358a6-159c-4af4-bc99-08676d1e59d5",
   "metadata": {},
   "outputs": [
    {
     "name": "stdout",
     "output_type": "stream",
     "text": [
      "0.7347853087295955\n",
      "0.48507381810614525\n",
      "0.6261277727026616\n",
      "0.4802327394243767\n"
     ]
    },
    {
     "name": "stderr",
     "output_type": "stream",
     "text": [
      "C:\\Users\\ArrunPersonal\\anaconda3\\lib\\site-packages\\sklearn\\metrics\\_classification.py:1344: UndefinedMetricWarning: Recall is ill-defined and being set to 0.0 in labels with no true samples. Use `zero_division` parameter to control this behavior.\n",
      "  _warn_prf(average, modifier, msg_start, len(result))\n"
     ]
    }
   ],
   "source": [
    "print(accuracy_score(np.argmax(final_prediction,axis = 1),labels))\n",
    "print(precision_score(np.argmax(final_prediction,axis = 1),labels,average = 'macro'))\n",
    "print(recall_score(np.argmax(final_prediction,axis = 1),labels,average = 'macro'))\n",
    "print(f1_score(np.argmax(final_prediction,axis = 1),labels,average = 'macro'))"
   ]
  },
  {
   "cell_type": "code",
   "execution_count": null,
   "id": "259ec5ab-0515-4c64-888e-35e537d61df1",
   "metadata": {},
   "outputs": [],
   "source": []
  }
 ],
 "metadata": {
  "kernelspec": {
   "display_name": "Python 3 (ipykernel)",
   "language": "python",
   "name": "python3"
  },
  "language_info": {
   "codemirror_mode": {
    "name": "ipython",
    "version": 3
   },
   "file_extension": ".py",
   "mimetype": "text/x-python",
   "name": "python",
   "nbconvert_exporter": "python",
   "pygments_lexer": "ipython3",
   "version": "3.9.7"
  }
 },
 "nbformat": 4,
 "nbformat_minor": 5
}
