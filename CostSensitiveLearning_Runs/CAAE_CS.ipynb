{
 "cells": [
  {
   "cell_type": "code",
   "execution_count": 1,
   "id": "1bf0b868-c909-466a-8382-431edfb1ca3c",
   "metadata": {},
   "outputs": [],
   "source": [
    "import numpy as np\n",
    "import pandas as pd\n",
    "import matplotlib.pyplot as plt\n",
    "import os\n",
    "import tensorflow as tf"
   ]
  },
  {
   "cell_type": "code",
   "execution_count": 2,
   "id": "c01bb8b3-930c-4bd9-9a3f-5d07ce77b4ac",
   "metadata": {},
   "outputs": [],
   "source": [
    "feature = [\"duration\",\"protocol_type\",\"service\",\"flag\",\"src_bytes\",\n",
    "    \"dst_bytes\",\"land\",\"wrong_fragment\",\"urgent\",\"hot\",\"num_failed_logins\",\n",
    "    \"logged_in\",\"num_compromised\",\"root_shell\",\"su_attempted\",\"num_root\",\n",
    "    \"num_file_creations\",\"num_shells\",\"num_access_files\",\"num_outbound_cmds\",\n",
    "    \"is_host_login\",\"is_guest_login\",\"count\",\"srv_count\",\"serror_rate\",\n",
    "    \"srv_serror_rate\",\"rerror_rate\",\"srv_rerror_rate\",\"same_srv_rate\",\n",
    "    \"diff_srv_rate\",\"srv_diff_host_rate\",\"dst_host_count\",\"dst_host_srv_count\",\n",
    "    \"dst_host_same_srv_rate\",\"dst_host_diff_srv_rate\",\"dst_host_same_src_port_rate\",\n",
    "    \"dst_host_srv_diff_host_rate\",\"dst_host_serror_rate\",\"dst_host_srv_serror_rate\",\n",
    "    \"dst_host_rerror_rate\",\"dst_host_srv_rerror_rate\",\"target\",\"junk\"]"
   ]
  },
  {
   "cell_type": "code",
   "execution_count": 3,
   "id": "40536131-3ade-4777-9ac3-c1f2e6025ac7",
   "metadata": {},
   "outputs": [],
   "source": [
    "os.chdir(\"C:/Users/ArrunPersonal/Codes/Semester7/IDS/NSL-KDD\")"
   ]
  },
  {
   "cell_type": "code",
   "execution_count": 4,
   "id": "84364c10-8b89-45fa-8a3a-881de73b44aa",
   "metadata": {},
   "outputs": [],
   "source": [
    "df1 = pd.read_csv(\"KDDTrain+.csv\", names = feature)\n",
    "df2 = pd.read_csv(\"KDDTest+.csv\", names = feature)\n",
    "df = pd.concat([df1, df2], axis=0)\n",
    "df.drop([\"junk\"],axis = 1,inplace = True)"
   ]
  },
  {
   "cell_type": "code",
   "execution_count": 5,
   "id": "3fbe8575-19ab-460a-ad78-e5cff17205a5",
   "metadata": {},
   "outputs": [
    {
     "data": {
      "text/plain": [
       "False"
      ]
     },
     "execution_count": 5,
     "metadata": {},
     "output_type": "execute_result"
    }
   ],
   "source": [
    "df2.isnull().values.any()"
   ]
  },
  {
   "cell_type": "code",
   "execution_count": 6,
   "id": "5156c38d-0cd4-4fe0-b633-eaa3f29769a5",
   "metadata": {},
   "outputs": [
    {
     "data": {
      "text/html": [
       "<div>\n",
       "<style scoped>\n",
       "    .dataframe tbody tr th:only-of-type {\n",
       "        vertical-align: middle;\n",
       "    }\n",
       "\n",
       "    .dataframe tbody tr th {\n",
       "        vertical-align: top;\n",
       "    }\n",
       "\n",
       "    .dataframe thead th {\n",
       "        text-align: right;\n",
       "    }\n",
       "</style>\n",
       "<table border=\"1\" class=\"dataframe\">\n",
       "  <thead>\n",
       "    <tr style=\"text-align: right;\">\n",
       "      <th></th>\n",
       "      <th>duration</th>\n",
       "      <th>protocol_type</th>\n",
       "      <th>service</th>\n",
       "      <th>flag</th>\n",
       "      <th>src_bytes</th>\n",
       "      <th>dst_bytes</th>\n",
       "      <th>land</th>\n",
       "      <th>wrong_fragment</th>\n",
       "      <th>urgent</th>\n",
       "      <th>hot</th>\n",
       "      <th>...</th>\n",
       "      <th>dst_host_srv_count</th>\n",
       "      <th>dst_host_same_srv_rate</th>\n",
       "      <th>dst_host_diff_srv_rate</th>\n",
       "      <th>dst_host_same_src_port_rate</th>\n",
       "      <th>dst_host_srv_diff_host_rate</th>\n",
       "      <th>dst_host_serror_rate</th>\n",
       "      <th>dst_host_srv_serror_rate</th>\n",
       "      <th>dst_host_rerror_rate</th>\n",
       "      <th>dst_host_srv_rerror_rate</th>\n",
       "      <th>target</th>\n",
       "    </tr>\n",
       "  </thead>\n",
       "  <tbody>\n",
       "    <tr>\n",
       "      <th>0</th>\n",
       "      <td>0</td>\n",
       "      <td>tcp</td>\n",
       "      <td>ftp_data</td>\n",
       "      <td>SF</td>\n",
       "      <td>491</td>\n",
       "      <td>0</td>\n",
       "      <td>0</td>\n",
       "      <td>0</td>\n",
       "      <td>0</td>\n",
       "      <td>0</td>\n",
       "      <td>...</td>\n",
       "      <td>25</td>\n",
       "      <td>0.17</td>\n",
       "      <td>0.03</td>\n",
       "      <td>0.17</td>\n",
       "      <td>0.00</td>\n",
       "      <td>0.00</td>\n",
       "      <td>0.00</td>\n",
       "      <td>0.05</td>\n",
       "      <td>0.00</td>\n",
       "      <td>normal</td>\n",
       "    </tr>\n",
       "    <tr>\n",
       "      <th>1</th>\n",
       "      <td>0</td>\n",
       "      <td>udp</td>\n",
       "      <td>other</td>\n",
       "      <td>SF</td>\n",
       "      <td>146</td>\n",
       "      <td>0</td>\n",
       "      <td>0</td>\n",
       "      <td>0</td>\n",
       "      <td>0</td>\n",
       "      <td>0</td>\n",
       "      <td>...</td>\n",
       "      <td>1</td>\n",
       "      <td>0.00</td>\n",
       "      <td>0.60</td>\n",
       "      <td>0.88</td>\n",
       "      <td>0.00</td>\n",
       "      <td>0.00</td>\n",
       "      <td>0.00</td>\n",
       "      <td>0.00</td>\n",
       "      <td>0.00</td>\n",
       "      <td>normal</td>\n",
       "    </tr>\n",
       "    <tr>\n",
       "      <th>2</th>\n",
       "      <td>0</td>\n",
       "      <td>tcp</td>\n",
       "      <td>private</td>\n",
       "      <td>S0</td>\n",
       "      <td>0</td>\n",
       "      <td>0</td>\n",
       "      <td>0</td>\n",
       "      <td>0</td>\n",
       "      <td>0</td>\n",
       "      <td>0</td>\n",
       "      <td>...</td>\n",
       "      <td>26</td>\n",
       "      <td>0.10</td>\n",
       "      <td>0.05</td>\n",
       "      <td>0.00</td>\n",
       "      <td>0.00</td>\n",
       "      <td>1.00</td>\n",
       "      <td>1.00</td>\n",
       "      <td>0.00</td>\n",
       "      <td>0.00</td>\n",
       "      <td>neptune</td>\n",
       "    </tr>\n",
       "    <tr>\n",
       "      <th>3</th>\n",
       "      <td>0</td>\n",
       "      <td>tcp</td>\n",
       "      <td>http</td>\n",
       "      <td>SF</td>\n",
       "      <td>232</td>\n",
       "      <td>8153</td>\n",
       "      <td>0</td>\n",
       "      <td>0</td>\n",
       "      <td>0</td>\n",
       "      <td>0</td>\n",
       "      <td>...</td>\n",
       "      <td>255</td>\n",
       "      <td>1.00</td>\n",
       "      <td>0.00</td>\n",
       "      <td>0.03</td>\n",
       "      <td>0.04</td>\n",
       "      <td>0.03</td>\n",
       "      <td>0.01</td>\n",
       "      <td>0.00</td>\n",
       "      <td>0.01</td>\n",
       "      <td>normal</td>\n",
       "    </tr>\n",
       "    <tr>\n",
       "      <th>4</th>\n",
       "      <td>0</td>\n",
       "      <td>tcp</td>\n",
       "      <td>http</td>\n",
       "      <td>SF</td>\n",
       "      <td>199</td>\n",
       "      <td>420</td>\n",
       "      <td>0</td>\n",
       "      <td>0</td>\n",
       "      <td>0</td>\n",
       "      <td>0</td>\n",
       "      <td>...</td>\n",
       "      <td>255</td>\n",
       "      <td>1.00</td>\n",
       "      <td>0.00</td>\n",
       "      <td>0.00</td>\n",
       "      <td>0.00</td>\n",
       "      <td>0.00</td>\n",
       "      <td>0.00</td>\n",
       "      <td>0.00</td>\n",
       "      <td>0.00</td>\n",
       "      <td>normal</td>\n",
       "    </tr>\n",
       "  </tbody>\n",
       "</table>\n",
       "<p>5 rows × 42 columns</p>\n",
       "</div>"
      ],
      "text/plain": [
       "   duration protocol_type   service flag  src_bytes  dst_bytes  land  \\\n",
       "0         0           tcp  ftp_data   SF        491          0     0   \n",
       "1         0           udp     other   SF        146          0     0   \n",
       "2         0           tcp   private   S0          0          0     0   \n",
       "3         0           tcp      http   SF        232       8153     0   \n",
       "4         0           tcp      http   SF        199        420     0   \n",
       "\n",
       "   wrong_fragment  urgent  hot  ...  dst_host_srv_count  \\\n",
       "0               0       0    0  ...                  25   \n",
       "1               0       0    0  ...                   1   \n",
       "2               0       0    0  ...                  26   \n",
       "3               0       0    0  ...                 255   \n",
       "4               0       0    0  ...                 255   \n",
       "\n",
       "   dst_host_same_srv_rate  dst_host_diff_srv_rate  \\\n",
       "0                    0.17                    0.03   \n",
       "1                    0.00                    0.60   \n",
       "2                    0.10                    0.05   \n",
       "3                    1.00                    0.00   \n",
       "4                    1.00                    0.00   \n",
       "\n",
       "   dst_host_same_src_port_rate  dst_host_srv_diff_host_rate  \\\n",
       "0                         0.17                         0.00   \n",
       "1                         0.88                         0.00   \n",
       "2                         0.00                         0.00   \n",
       "3                         0.03                         0.04   \n",
       "4                         0.00                         0.00   \n",
       "\n",
       "   dst_host_serror_rate  dst_host_srv_serror_rate  dst_host_rerror_rate  \\\n",
       "0                  0.00                      0.00                  0.05   \n",
       "1                  0.00                      0.00                  0.00   \n",
       "2                  1.00                      1.00                  0.00   \n",
       "3                  0.03                      0.01                  0.00   \n",
       "4                  0.00                      0.00                  0.00   \n",
       "\n",
       "   dst_host_srv_rerror_rate   target  \n",
       "0                      0.00   normal  \n",
       "1                      0.00   normal  \n",
       "2                      0.00  neptune  \n",
       "3                      0.01   normal  \n",
       "4                      0.00   normal  \n",
       "\n",
       "[5 rows x 42 columns]"
      ]
     },
     "execution_count": 6,
     "metadata": {},
     "output_type": "execute_result"
    }
   ],
   "source": [
    "df.head()"
   ]
  },
  {
   "cell_type": "code",
   "execution_count": 7,
   "id": "55dab8da-b0ab-40d7-a7b8-72fb965459cc",
   "metadata": {},
   "outputs": [],
   "source": [
    "protocol_dict = dict(zip(set(df['protocol_type']),np.arange(len(set(df['protocol_type'])))))\n",
    "service_dict = dict(zip(set(df['service']),np.arange(len(set(df['service'])))))\n",
    "flag_dict = dict(zip(set(df['flag']),np.arange(len(set(df['flag'])))))"
   ]
  },
  {
   "cell_type": "code",
   "execution_count": 8,
   "id": "0bdb4b00-8c4d-41eb-aefc-88c49de6ac8c",
   "metadata": {},
   "outputs": [],
   "source": [
    "# changing attack labels to their respective attack class\n",
    "def change_feature(df):\n",
    "    df.target.replace(['apache2','back','land','neptune','mailbomb','pod','processtable','smurf','teardrop','udpstorm','worm'],'Dos',inplace=True)\n",
    "    df.target.replace(['ftp_write','guess_passwd','httptunnel','imap','multihop','named','phf','sendmail','snmpgetattack','snmpguess','spy','warezclient','warezmaster','xlock','xsnoop'],'R2L',inplace=True)      \n",
    "    df.target.replace(['ipsweep','mscan','nmap','portsweep','saint','satan'],'Probe',inplace=True)\n",
    "    df.target.replace(['buffer_overflow','loadmodule','perl','ps','rootkit','sqlattack','xterm'],'U2R',inplace=True)\n",
    "    \n",
    "    df.protocol_type.replace(protocol_dict.keys(),protocol_dict.values(),inplace=True)\n",
    "    df.service.replace(service_dict.keys(),service_dict.values(),inplace=True)\n",
    "    df.flag.replace(flag_dict.keys(),flag_dict.values(),inplace=True)"
   ]
  },
  {
   "cell_type": "code",
   "execution_count": 9,
   "id": "d7967ffd-6d6d-4ab3-b30e-f42ed7f96d5f",
   "metadata": {},
   "outputs": [],
   "source": [
    "change_feature(df)"
   ]
  },
  {
   "cell_type": "code",
   "execution_count": 10,
   "id": "8b26c684-a757-4180-8e33-82979a2e216a",
   "metadata": {},
   "outputs": [],
   "source": [
    "target_dict = dict(zip(set(df['target']),np.arange(len(set(df['target'])))))"
   ]
  },
  {
   "cell_type": "code",
   "execution_count": 11,
   "id": "410c0811-b1dd-4b02-a3f5-2000c64e7000",
   "metadata": {},
   "outputs": [],
   "source": [
    "def change_target(df):\n",
    "    df.target.replace(target_dict.keys(),target_dict.values(),inplace=True)"
   ]
  },
  {
   "cell_type": "code",
   "execution_count": 12,
   "id": "34dd9a32-72fc-4ff2-a215-ce6bb0fb8086",
   "metadata": {},
   "outputs": [],
   "source": [
    "change_target(df)"
   ]
  },
  {
   "cell_type": "code",
   "execution_count": 13,
   "id": "f15b3693-fd32-4536-9fcd-9cbe1a6c1ec6",
   "metadata": {},
   "outputs": [
    {
     "data": {
      "text/html": [
       "<div>\n",
       "<style scoped>\n",
       "    .dataframe tbody tr th:only-of-type {\n",
       "        vertical-align: middle;\n",
       "    }\n",
       "\n",
       "    .dataframe tbody tr th {\n",
       "        vertical-align: top;\n",
       "    }\n",
       "\n",
       "    .dataframe thead th {\n",
       "        text-align: right;\n",
       "    }\n",
       "</style>\n",
       "<table border=\"1\" class=\"dataframe\">\n",
       "  <thead>\n",
       "    <tr style=\"text-align: right;\">\n",
       "      <th></th>\n",
       "      <th>duration</th>\n",
       "      <th>protocol_type</th>\n",
       "      <th>service</th>\n",
       "      <th>flag</th>\n",
       "      <th>src_bytes</th>\n",
       "      <th>dst_bytes</th>\n",
       "      <th>land</th>\n",
       "      <th>wrong_fragment</th>\n",
       "      <th>urgent</th>\n",
       "      <th>hot</th>\n",
       "      <th>...</th>\n",
       "      <th>dst_host_srv_count</th>\n",
       "      <th>dst_host_same_srv_rate</th>\n",
       "      <th>dst_host_diff_srv_rate</th>\n",
       "      <th>dst_host_same_src_port_rate</th>\n",
       "      <th>dst_host_srv_diff_host_rate</th>\n",
       "      <th>dst_host_serror_rate</th>\n",
       "      <th>dst_host_srv_serror_rate</th>\n",
       "      <th>dst_host_rerror_rate</th>\n",
       "      <th>dst_host_srv_rerror_rate</th>\n",
       "      <th>target</th>\n",
       "    </tr>\n",
       "  </thead>\n",
       "  <tbody>\n",
       "    <tr>\n",
       "      <th>0</th>\n",
       "      <td>0</td>\n",
       "      <td>2</td>\n",
       "      <td>56</td>\n",
       "      <td>9</td>\n",
       "      <td>491</td>\n",
       "      <td>0</td>\n",
       "      <td>0</td>\n",
       "      <td>0</td>\n",
       "      <td>0</td>\n",
       "      <td>0</td>\n",
       "      <td>...</td>\n",
       "      <td>25</td>\n",
       "      <td>0.17</td>\n",
       "      <td>0.03</td>\n",
       "      <td>0.17</td>\n",
       "      <td>0.00</td>\n",
       "      <td>0.00</td>\n",
       "      <td>0.00</td>\n",
       "      <td>0.05</td>\n",
       "      <td>0.00</td>\n",
       "      <td>0</td>\n",
       "    </tr>\n",
       "    <tr>\n",
       "      <th>1</th>\n",
       "      <td>0</td>\n",
       "      <td>0</td>\n",
       "      <td>50</td>\n",
       "      <td>9</td>\n",
       "      <td>146</td>\n",
       "      <td>0</td>\n",
       "      <td>0</td>\n",
       "      <td>0</td>\n",
       "      <td>0</td>\n",
       "      <td>0</td>\n",
       "      <td>...</td>\n",
       "      <td>1</td>\n",
       "      <td>0.00</td>\n",
       "      <td>0.60</td>\n",
       "      <td>0.88</td>\n",
       "      <td>0.00</td>\n",
       "      <td>0.00</td>\n",
       "      <td>0.00</td>\n",
       "      <td>0.00</td>\n",
       "      <td>0.00</td>\n",
       "      <td>0</td>\n",
       "    </tr>\n",
       "    <tr>\n",
       "      <th>2</th>\n",
       "      <td>0</td>\n",
       "      <td>2</td>\n",
       "      <td>4</td>\n",
       "      <td>3</td>\n",
       "      <td>0</td>\n",
       "      <td>0</td>\n",
       "      <td>0</td>\n",
       "      <td>0</td>\n",
       "      <td>0</td>\n",
       "      <td>0</td>\n",
       "      <td>...</td>\n",
       "      <td>26</td>\n",
       "      <td>0.10</td>\n",
       "      <td>0.05</td>\n",
       "      <td>0.00</td>\n",
       "      <td>0.00</td>\n",
       "      <td>1.00</td>\n",
       "      <td>1.00</td>\n",
       "      <td>0.00</td>\n",
       "      <td>0.00</td>\n",
       "      <td>2</td>\n",
       "    </tr>\n",
       "    <tr>\n",
       "      <th>3</th>\n",
       "      <td>0</td>\n",
       "      <td>2</td>\n",
       "      <td>60</td>\n",
       "      <td>9</td>\n",
       "      <td>232</td>\n",
       "      <td>8153</td>\n",
       "      <td>0</td>\n",
       "      <td>0</td>\n",
       "      <td>0</td>\n",
       "      <td>0</td>\n",
       "      <td>...</td>\n",
       "      <td>255</td>\n",
       "      <td>1.00</td>\n",
       "      <td>0.00</td>\n",
       "      <td>0.03</td>\n",
       "      <td>0.04</td>\n",
       "      <td>0.03</td>\n",
       "      <td>0.01</td>\n",
       "      <td>0.00</td>\n",
       "      <td>0.01</td>\n",
       "      <td>0</td>\n",
       "    </tr>\n",
       "    <tr>\n",
       "      <th>4</th>\n",
       "      <td>0</td>\n",
       "      <td>2</td>\n",
       "      <td>60</td>\n",
       "      <td>9</td>\n",
       "      <td>199</td>\n",
       "      <td>420</td>\n",
       "      <td>0</td>\n",
       "      <td>0</td>\n",
       "      <td>0</td>\n",
       "      <td>0</td>\n",
       "      <td>...</td>\n",
       "      <td>255</td>\n",
       "      <td>1.00</td>\n",
       "      <td>0.00</td>\n",
       "      <td>0.00</td>\n",
       "      <td>0.00</td>\n",
       "      <td>0.00</td>\n",
       "      <td>0.00</td>\n",
       "      <td>0.00</td>\n",
       "      <td>0.00</td>\n",
       "      <td>0</td>\n",
       "    </tr>\n",
       "  </tbody>\n",
       "</table>\n",
       "<p>5 rows × 42 columns</p>\n",
       "</div>"
      ],
      "text/plain": [
       "   duration  protocol_type  service  flag  src_bytes  dst_bytes  land  \\\n",
       "0         0              2       56     9        491          0     0   \n",
       "1         0              0       50     9        146          0     0   \n",
       "2         0              2        4     3          0          0     0   \n",
       "3         0              2       60     9        232       8153     0   \n",
       "4         0              2       60     9        199        420     0   \n",
       "\n",
       "   wrong_fragment  urgent  hot  ...  dst_host_srv_count  \\\n",
       "0               0       0    0  ...                  25   \n",
       "1               0       0    0  ...                   1   \n",
       "2               0       0    0  ...                  26   \n",
       "3               0       0    0  ...                 255   \n",
       "4               0       0    0  ...                 255   \n",
       "\n",
       "   dst_host_same_srv_rate  dst_host_diff_srv_rate  \\\n",
       "0                    0.17                    0.03   \n",
       "1                    0.00                    0.60   \n",
       "2                    0.10                    0.05   \n",
       "3                    1.00                    0.00   \n",
       "4                    1.00                    0.00   \n",
       "\n",
       "   dst_host_same_src_port_rate  dst_host_srv_diff_host_rate  \\\n",
       "0                         0.17                         0.00   \n",
       "1                         0.88                         0.00   \n",
       "2                         0.00                         0.00   \n",
       "3                         0.03                         0.04   \n",
       "4                         0.00                         0.00   \n",
       "\n",
       "   dst_host_serror_rate  dst_host_srv_serror_rate  dst_host_rerror_rate  \\\n",
       "0                  0.00                      0.00                  0.05   \n",
       "1                  0.00                      0.00                  0.00   \n",
       "2                  1.00                      1.00                  0.00   \n",
       "3                  0.03                      0.01                  0.00   \n",
       "4                  0.00                      0.00                  0.00   \n",
       "\n",
       "   dst_host_srv_rerror_rate  target  \n",
       "0                      0.00       0  \n",
       "1                      0.00       0  \n",
       "2                      0.00       2  \n",
       "3                      0.01       0  \n",
       "4                      0.00       0  \n",
       "\n",
       "[5 rows x 42 columns]"
      ]
     },
     "execution_count": 13,
     "metadata": {},
     "output_type": "execute_result"
    }
   ],
   "source": [
    "df.head()"
   ]
  },
  {
   "cell_type": "code",
   "execution_count": 14,
   "id": "ab5c5615-fa58-4c6d-8df5-73bcc9d24fa1",
   "metadata": {},
   "outputs": [],
   "source": [
    "df_lis = np.array(df.values.tolist())"
   ]
  },
  {
   "cell_type": "code",
   "execution_count": 15,
   "id": "a707a55d-2191-4b28-853c-a40ebb4f7bb5",
   "metadata": {},
   "outputs": [],
   "source": [
    "from scipy.stats import pearsonr"
   ]
  },
  {
   "cell_type": "code",
   "execution_count": 16,
   "id": "e96b6b0e-e8fb-4d08-a3a9-fe6aaf185ef3",
   "metadata": {},
   "outputs": [],
   "source": [
    "features = np.array(df_lis[:,:-1])\n",
    "labels = np.array(df_lis[:,-1])"
   ]
  },
  {
   "cell_type": "code",
   "execution_count": 17,
   "id": "9a3040b2-73dc-4f35-84be-ea0dd7421534",
   "metadata": {},
   "outputs": [
    {
     "name": "stderr",
     "output_type": "stream",
     "text": [
      "C:\\Users\\ArrunPersonal\\anaconda3\\lib\\site-packages\\scipy\\stats\\stats.py:4023: PearsonRConstantInputWarning: An input array is constant; the correlation coefficient is not defined.\n",
      "  warnings.warn(PearsonRConstantInputWarning())\n"
     ]
    }
   ],
   "source": [
    "scores = [abs(pearsonr(features[:,i],labels)[0]) for i in range(np.shape(features)[1])]"
   ]
  },
  {
   "cell_type": "code",
   "execution_count": 18,
   "id": "7a15f2be-6ab2-4d38-8aaa-4247757c8a9c",
   "metadata": {},
   "outputs": [
    {
     "data": {
      "text/plain": [
       "[0.08775643671995977,\n",
       " 0.07881815239084643,\n",
       " 0.5426400492912812,\n",
       " 0.5424903235038371,\n",
       " 0.009138275249077064,\n",
       " 0.005789746611526592,\n",
       " 0.005476010752776506,\n",
       " 0.05681573933221903,\n",
       " 0.000358380340789848,\n",
       " 0.03178125977674937,\n",
       " 0.10908211142510266,\n",
       " 0.5931615342216647,\n",
       " 0.009593767290877553,\n",
       " 0.019152497945590236,\n",
       " 0.01993868950900589,\n",
       " 0.010667188036681556,\n",
       " 0.017242092269547697,\n",
       " 0.005087689116325897,\n",
       " 0.03210638454588307,\n",
       " 0,\n",
       " 0.011509796575013364,\n",
       " 0.08112366458845485,\n",
       " 0.40285740473804754,\n",
       " 0.045898970542846015,\n",
       " 0.4229794374742941,\n",
       " 0.42121364589439797,\n",
       " 0.31097926123901976,\n",
       " 0.30958358096718375,\n",
       " 0.555184873922076,\n",
       " 0.2687742893297809,\n",
       " 0.04212001818358101,\n",
       " 0.2720363010917916,\n",
       " 0.6301248624045985,\n",
       " 0.5640202537767519,\n",
       " 0.3241081570536706,\n",
       " 0.19450897491535854,\n",
       " 0.14510002173052397,\n",
       " 0.42466769857085374,\n",
       " 0.4275714330600857,\n",
       " 0.30222380417423295,\n",
       " 0.3098381383256992]"
      ]
     },
     "execution_count": 18,
     "metadata": {},
     "output_type": "execute_result"
    }
   ],
   "source": [
    "scores[19] = 0\n",
    "scores"
   ]
  },
  {
   "cell_type": "code",
   "execution_count": 19,
   "id": "41c1ec72-0258-494c-96c4-ca229b9bbf0c",
   "metadata": {},
   "outputs": [],
   "source": [
    "act_features = []\n",
    "act_indices = []\n",
    "for i in range(len(scores)):\n",
    "    if(scores[i]> 0.1):\n",
    "        act_indices.append(i)\n",
    "        act_features.append(features[:,i])"
   ]
  },
  {
   "cell_type": "code",
   "execution_count": 20,
   "id": "8c323560-d3bb-44a0-9767-2d2dfab4abd9",
   "metadata": {},
   "outputs": [],
   "source": [
    "act_features = np.array(act_features).T"
   ]
  },
  {
   "cell_type": "code",
   "execution_count": 21,
   "id": "0327c182-992c-471d-9ba8-2f3a403f68bc",
   "metadata": {},
   "outputs": [
    {
     "data": {
      "text/plain": [
       "(148517, 21)"
      ]
     },
     "execution_count": 21,
     "metadata": {},
     "output_type": "execute_result"
    }
   ],
   "source": [
    "for i in range(np.shape(act_features)[1]):\n",
    "    if(np.std(act_features[:,i])!=0):\n",
    "        act_features[:,i] = (act_features[:,i]-np.mean(act_features[:,i]))/np.std(act_features[:,i]) \n",
    "    else:\n",
    "        act_features[:,i] = (act_features[:,i]-np.mean(act_features[:,i]))\n",
    "np.shape(act_features)"
   ]
  },
  {
   "cell_type": "code",
   "execution_count": 22,
   "id": "630656a7-3b1e-4940-a8ce-45c6c0b6b89c",
   "metadata": {},
   "outputs": [
    {
     "data": {
      "text/plain": [
       "((148517, 41), (148517,))"
      ]
     },
     "execution_count": 22,
     "metadata": {},
     "output_type": "execute_result"
    }
   ],
   "source": [
    "np.shape(features),np.shape(labels)"
   ]
  },
  {
   "cell_type": "code",
   "execution_count": 23,
   "id": "e714b21b-68ca-4606-9f87-c13ff5a0bd13",
   "metadata": {},
   "outputs": [],
   "source": [
    "train_X = np.array(act_features[:len(df1)])\n",
    "test_X = np.array(act_features[len(df1):])\n",
    "train_Y = labels[:len(df1)]\n",
    "test_Y = labels[len(df1):]"
   ]
  },
  {
   "cell_type": "code",
   "execution_count": 24,
   "id": "bfb31786-9b36-4e57-a2a3-c976c1b67aba",
   "metadata": {},
   "outputs": [],
   "source": [
    "from sklearn.model_selection import train_test_split "
   ]
  },
  {
   "cell_type": "code",
   "execution_count": 25,
   "id": "cb8fe055-378f-4de0-9175-d60f11884caa",
   "metadata": {},
   "outputs": [],
   "source": [
    "train_X, val_X , train_Y ,val_Y = train_test_split(train_X,train_Y,random_state = 42,test_size = 0.1)"
   ]
  },
  {
   "cell_type": "code",
   "execution_count": 26,
   "id": "47ba8e9a-7891-4de2-a9ab-b1efa262291a",
   "metadata": {},
   "outputs": [
    {
     "name": "stdout",
     "output_type": "stream",
     "text": [
      "(113375, 21) (22544, 21) (12598, 21) (113375,) (22544,) (12598,)\n"
     ]
    }
   ],
   "source": [
    "print(np.shape(train_X),np.shape(test_X),np.shape(val_X),np.shape(train_Y),np.shape(test_Y),np.shape(val_Y))"
   ]
  },
  {
   "cell_type": "markdown",
   "id": "a7ca5b2f-40a8-4f6f-9d4d-885632699f7e",
   "metadata": {},
   "source": [
    "# Stacked Convolutional Auto Encoder"
   ]
  },
  {
   "cell_type": "markdown",
   "id": "22de135a-8483-476f-bf21-29658e15e464",
   "metadata": {},
   "source": [
    "### First Stack"
   ]
  },
  {
   "cell_type": "code",
   "execution_count": 27,
   "id": "5cbdc2d6-0d68-43c5-b86d-8789714290ac",
   "metadata": {},
   "outputs": [],
   "source": [
    "from keras.layers import *\n",
    "from keras.models import Model\n",
    "from keras_self_attention import SeqSelfAttention"
   ]
  },
  {
   "cell_type": "code",
   "execution_count": 28,
   "id": "d86da138-a431-47fe-90cf-085690cfafce",
   "metadata": {},
   "outputs": [
    {
     "name": "stderr",
     "output_type": "stream",
     "text": [
      "C:\\Users\\ArrunPersonal\\anaconda3\\lib\\site-packages\\keras\\initializers\\initializers_v2.py:120: UserWarning: The initializer GlorotNormal is unseeded and being called multiple times, which will return identical values  each time (even if the initializer is unseeded). Please update your code to provide a seed to the initializer, or avoid using the same initalizer instance more than once.\n",
      "  warnings.warn(\n"
     ]
    }
   ],
   "source": [
    "batch_size = 128\n",
    "input_dim = (np.shape(train_X)[1],1)\n",
    "input_layer = Input(shape=input_dim, name='input')\n",
    "#Input Layer\n",
    "LSTM_layer = LSTM(units=64,return_sequences=True)(input_layer)\n",
    "attention = SeqSelfAttention(attention_activation='sigmoid')(LSTM_layer)\n",
    "encoder1 = Conv1D (64,3)(attention)\n",
    "encoder1 = MaxPooling1D(2)(encoder1)\n",
    "#Encoder’s first dense layer\n",
    "encoder2 = Conv1D (32,3)(encoder1)\n",
    "encoder2 = MaxPooling1D(2)(encoder2)\n",
    "# Code layer\n",
    "latent_layer = Dense (32, name = 'latent_1')(encoder2)\n",
    "# Decoder’s first dense layer\n",
    "decoder1 = Conv1DTranspose (32,3)(latent_layer)\n",
    "decoder1 = UpSampling1D(2)(decoder1)\n",
    "# Decoder’s Third dense layer\n",
    "decoder2 = Conv1DTranspose (64,3)(decoder1)\n",
    "decoder2 = UpSampling1D(2)(decoder2)\n",
    "flatten = Flatten()(decoder2)\n",
    "# Output Layer\n",
    "output_layer = Dense(input_dim[0])(flatten)\n",
    "output_layer = Reshape((np.shape(train_X)[1],1), input_shape=(np.shape(train_X)[1],))(output_layer)"
   ]
  },
  {
   "cell_type": "code",
   "execution_count": 29,
   "id": "44e82ea0-c414-4c62-b6b7-b264d2a8d50d",
   "metadata": {},
   "outputs": [],
   "source": [
    "autoencoder_1 = Model(inputs=input_layer, outputs=output_layer)\n",
    "autoencoder_1.compile(metrics=tf.keras.metrics.RootMeanSquaredError(),loss='mse',optimizer='adam')"
   ]
  },
  {
   "cell_type": "code",
   "execution_count": 30,
   "id": "b2dc9457-16b6-4196-a168-1a68bf872132",
   "metadata": {},
   "outputs": [
    {
     "name": "stdout",
     "output_type": "stream",
     "text": [
      "Model: \"model\"\n",
      "_________________________________________________________________\n",
      " Layer (type)                Output Shape              Param #   \n",
      "=================================================================\n",
      " input (InputLayer)          [(None, 21, 1)]           0         \n",
      "                                                                 \n",
      " lstm (LSTM)                 (None, 21, 64)            16896     \n",
      "                                                                 \n",
      " seq_self_attention (SeqSelf  (None, 21, 64)           4161      \n",
      " Attention)                                                      \n",
      "                                                                 \n",
      " conv1d (Conv1D)             (None, 19, 64)            12352     \n",
      "                                                                 \n",
      " max_pooling1d (MaxPooling1D  (None, 9, 64)            0         \n",
      " )                                                               \n",
      "                                                                 \n",
      " conv1d_1 (Conv1D)           (None, 7, 32)             6176      \n",
      "                                                                 \n",
      " max_pooling1d_1 (MaxPooling  (None, 3, 32)            0         \n",
      " 1D)                                                             \n",
      "                                                                 \n",
      " latent_1 (Dense)            (None, 3, 32)             1056      \n",
      "                                                                 \n",
      " conv1d_transpose (Conv1DTra  (None, 5, 32)            3104      \n",
      " nspose)                                                         \n",
      "                                                                 \n",
      " up_sampling1d (UpSampling1D  (None, 10, 32)           0         \n",
      " )                                                               \n",
      "                                                                 \n",
      " conv1d_transpose_1 (Conv1DT  (None, 12, 64)           6208      \n",
      " ranspose)                                                       \n",
      "                                                                 \n",
      " up_sampling1d_1 (UpSampling  (None, 24, 64)           0         \n",
      " 1D)                                                             \n",
      "                                                                 \n",
      " flatten (Flatten)           (None, 1536)              0         \n",
      "                                                                 \n",
      " dense (Dense)               (None, 21)                32277     \n",
      "                                                                 \n",
      " reshape (Reshape)           (None, 21, 1)             0         \n",
      "                                                                 \n",
      "=================================================================\n",
      "Total params: 82,230\n",
      "Trainable params: 82,230\n",
      "Non-trainable params: 0\n",
      "_________________________________________________________________\n"
     ]
    }
   ],
   "source": [
    "autoencoder_1.summary()"
   ]
  },
  {
   "cell_type": "code",
   "execution_count": 31,
   "id": "6cc6c2f4-c05d-48eb-b44f-76fcf2b1127a",
   "metadata": {},
   "outputs": [],
   "source": [
    "callback = tf.keras.callbacks.EarlyStopping(monitor='val_loss', patience=8,restore_best_weights=True)"
   ]
  },
  {
   "cell_type": "code",
   "execution_count": 32,
   "id": "dde3c41f-4399-4fec-9193-bff83779be18",
   "metadata": {
    "tags": []
   },
   "outputs": [
    {
     "name": "stdout",
     "output_type": "stream",
     "text": [
      "Epoch 1/100\n",
      "886/886 [==============================] - 39s 39ms/step - loss: 0.2441 - root_mean_squared_error: 0.4940 - val_loss: 0.2170 - val_root_mean_squared_error: 0.4658\n",
      "Epoch 2/100\n",
      "886/886 [==============================] - 37s 42ms/step - loss: 0.0669 - root_mean_squared_error: 0.2586 - val_loss: 0.1323 - val_root_mean_squared_error: 0.3638\n",
      "Epoch 3/100\n",
      "886/886 [==============================] - 34s 39ms/step - loss: 0.0372 - root_mean_squared_error: 0.1929 - val_loss: 0.0822 - val_root_mean_squared_error: 0.2867\n",
      "Epoch 4/100\n",
      "886/886 [==============================] - 36s 41ms/step - loss: 0.0242 - root_mean_squared_error: 0.1555 - val_loss: 0.0690 - val_root_mean_squared_error: 0.2626\n",
      "Epoch 5/100\n",
      "886/886 [==============================] - 33s 37ms/step - loss: 0.0186 - root_mean_squared_error: 0.1364 - val_loss: 0.0627 - val_root_mean_squared_error: 0.2503\n",
      "Epoch 6/100\n",
      "886/886 [==============================] - 33s 37ms/step - loss: 0.0138 - root_mean_squared_error: 0.1176 - val_loss: 0.0469 - val_root_mean_squared_error: 0.2166\n",
      "Epoch 7/100\n",
      "886/886 [==============================] - 20s 22ms/step - loss: 0.0107 - root_mean_squared_error: 0.1036 - val_loss: 0.0329 - val_root_mean_squared_error: 0.1814\n",
      "Epoch 8/100\n",
      "886/886 [==============================] - 20s 22ms/step - loss: 0.0098 - root_mean_squared_error: 0.0989 - val_loss: 0.0241 - val_root_mean_squared_error: 0.1553\n",
      "Epoch 9/100\n",
      "886/886 [==============================] - 30s 33ms/step - loss: 0.0077 - root_mean_squared_error: 0.0879 - val_loss: 0.0324 - val_root_mean_squared_error: 0.1801\n",
      "Epoch 10/100\n",
      "886/886 [==============================] - 33s 37ms/step - loss: 0.0076 - root_mean_squared_error: 0.0873 - val_loss: 0.0243 - val_root_mean_squared_error: 0.1559\n",
      "Epoch 11/100\n",
      "886/886 [==============================] - 33s 37ms/step - loss: 0.0110 - root_mean_squared_error: 0.1050 - val_loss: 0.0332 - val_root_mean_squared_error: 0.1823\n",
      "Epoch 12/100\n",
      "886/886 [==============================] - 33s 37ms/step - loss: 0.0099 - root_mean_squared_error: 0.0995 - val_loss: 0.0227 - val_root_mean_squared_error: 0.1508\n",
      "Epoch 13/100\n",
      "886/886 [==============================] - 33s 37ms/step - loss: 0.0057 - root_mean_squared_error: 0.0758 - val_loss: 0.0216 - val_root_mean_squared_error: 0.1468\n",
      "Epoch 14/100\n",
      "886/886 [==============================] - 33s 37ms/step - loss: 0.0051 - root_mean_squared_error: 0.0711 - val_loss: 0.0179 - val_root_mean_squared_error: 0.1339\n",
      "Epoch 15/100\n",
      "886/886 [==============================] - 33s 37ms/step - loss: 0.0059 - root_mean_squared_error: 0.0769 - val_loss: 0.0293 - val_root_mean_squared_error: 0.1711\n",
      "Epoch 16/100\n",
      "886/886 [==============================] - 33s 37ms/step - loss: 0.0111 - root_mean_squared_error: 0.1055 - val_loss: 0.0688 - val_root_mean_squared_error: 0.2623\n",
      "Epoch 17/100\n",
      "886/886 [==============================] - 33s 37ms/step - loss: 0.0061 - root_mean_squared_error: 0.0783 - val_loss: 0.0173 - val_root_mean_squared_error: 0.1315\n",
      "Epoch 18/100\n",
      "886/886 [==============================] - 33s 37ms/step - loss: 0.0066 - root_mean_squared_error: 0.0810 - val_loss: 0.0199 - val_root_mean_squared_error: 0.1410\n",
      "Epoch 19/100\n",
      "886/886 [==============================] - 33s 37ms/step - loss: 0.0040 - root_mean_squared_error: 0.0629 - val_loss: 0.0167 - val_root_mean_squared_error: 0.1293\n",
      "Epoch 20/100\n",
      "886/886 [==============================] - 34s 39ms/step - loss: 0.0062 - root_mean_squared_error: 0.0789 - val_loss: 0.0256 - val_root_mean_squared_error: 0.1599\n",
      "Epoch 21/100\n",
      "886/886 [==============================] - 34s 38ms/step - loss: 0.0030 - root_mean_squared_error: 0.0552 - val_loss: 0.0134 - val_root_mean_squared_error: 0.1157\n",
      "Epoch 22/100\n",
      "886/886 [==============================] - 34s 39ms/step - loss: 0.0056 - root_mean_squared_error: 0.0746 - val_loss: 0.0286 - val_root_mean_squared_error: 0.1692\n",
      "Epoch 23/100\n",
      "886/886 [==============================] - 33s 37ms/step - loss: 0.0049 - root_mean_squared_error: 0.0701 - val_loss: 0.0263 - val_root_mean_squared_error: 0.1621\n",
      "Epoch 24/100\n",
      "886/886 [==============================] - 33s 37ms/step - loss: 0.0036 - root_mean_squared_error: 0.0601 - val_loss: 0.0113 - val_root_mean_squared_error: 0.1062\n",
      "Epoch 25/100\n",
      "886/886 [==============================] - 33s 37ms/step - loss: 0.0026 - root_mean_squared_error: 0.0515 - val_loss: 0.0303 - val_root_mean_squared_error: 0.1741\n",
      "Epoch 26/100\n",
      "886/886 [==============================] - 33s 37ms/step - loss: 0.0029 - root_mean_squared_error: 0.0541 - val_loss: 0.0122 - val_root_mean_squared_error: 0.1106\n",
      "Epoch 27/100\n",
      "886/886 [==============================] - 33s 37ms/step - loss: 0.0027 - root_mean_squared_error: 0.0515 - val_loss: 0.0127 - val_root_mean_squared_error: 0.1128\n",
      "Epoch 28/100\n",
      "886/886 [==============================] - 33s 38ms/step - loss: 0.0021 - root_mean_squared_error: 0.0454 - val_loss: 0.0078 - val_root_mean_squared_error: 0.0881\n",
      "Epoch 29/100\n",
      "886/886 [==============================] - 34s 38ms/step - loss: 0.0024 - root_mean_squared_error: 0.0494 - val_loss: 0.0101 - val_root_mean_squared_error: 0.1003\n",
      "Epoch 30/100\n",
      "886/886 [==============================] - 33s 38ms/step - loss: 0.0026 - root_mean_squared_error: 0.0509 - val_loss: 0.0206 - val_root_mean_squared_error: 0.1435\n",
      "Epoch 31/100\n",
      "886/886 [==============================] - 34s 38ms/step - loss: 0.0027 - root_mean_squared_error: 0.0523 - val_loss: 0.0211 - val_root_mean_squared_error: 0.1454\n",
      "Epoch 32/100\n",
      "886/886 [==============================] - 33s 38ms/step - loss: 0.0028 - root_mean_squared_error: 0.0529 - val_loss: 0.0093 - val_root_mean_squared_error: 0.0963\n",
      "Epoch 33/100\n",
      "886/886 [==============================] - 33s 38ms/step - loss: 0.0026 - root_mean_squared_error: 0.0513 - val_loss: 0.0208 - val_root_mean_squared_error: 0.1441\n",
      "Epoch 34/100\n",
      "886/886 [==============================] - 33s 38ms/step - loss: 0.0019 - root_mean_squared_error: 0.0432 - val_loss: 0.0069 - val_root_mean_squared_error: 0.0832\n",
      "Epoch 35/100\n",
      "886/886 [==============================] - 34s 38ms/step - loss: 0.0039 - root_mean_squared_error: 0.0624 - val_loss: 0.0065 - val_root_mean_squared_error: 0.0804\n",
      "Epoch 36/100\n",
      "886/886 [==============================] - 34s 38ms/step - loss: 0.0018 - root_mean_squared_error: 0.0419 - val_loss: 0.0045 - val_root_mean_squared_error: 0.0672\n",
      "Epoch 37/100\n",
      "886/886 [==============================] - 34s 38ms/step - loss: 0.0047 - root_mean_squared_error: 0.0684 - val_loss: 0.0076 - val_root_mean_squared_error: 0.0871\n",
      "Epoch 38/100\n",
      "886/886 [==============================] - 34s 38ms/step - loss: 0.0021 - root_mean_squared_error: 0.0457 - val_loss: 0.0052 - val_root_mean_squared_error: 0.0723\n",
      "Epoch 39/100\n",
      "886/886 [==============================] - 34s 38ms/step - loss: 0.0026 - root_mean_squared_error: 0.0508 - val_loss: 0.0220 - val_root_mean_squared_error: 0.1484\n",
      "Epoch 40/100\n",
      "886/886 [==============================] - 34s 38ms/step - loss: 0.0018 - root_mean_squared_error: 0.0425 - val_loss: 0.0144 - val_root_mean_squared_error: 0.1202\n",
      "Epoch 41/100\n",
      "886/886 [==============================] - 34s 38ms/step - loss: 0.0016 - root_mean_squared_error: 0.0396 - val_loss: 0.0035 - val_root_mean_squared_error: 0.0589\n",
      "Epoch 42/100\n",
      "886/886 [==============================] - 34s 38ms/step - loss: 0.0014 - root_mean_squared_error: 0.0379 - val_loss: 0.0126 - val_root_mean_squared_error: 0.1124\n",
      "Epoch 43/100\n",
      "886/886 [==============================] - 30s 33ms/step - loss: 0.0017 - root_mean_squared_error: 0.0413 - val_loss: 0.0033 - val_root_mean_squared_error: 0.0576\n",
      "Epoch 44/100\n",
      "886/886 [==============================] - 19s 22ms/step - loss: 0.0020 - root_mean_squared_error: 0.0450 - val_loss: 0.0033 - val_root_mean_squared_error: 0.0572\n",
      "Epoch 45/100\n",
      "886/886 [==============================] - 22s 25ms/step - loss: 0.0012 - root_mean_squared_error: 0.0352 - val_loss: 0.0031 - val_root_mean_squared_error: 0.0556\n",
      "Epoch 46/100\n",
      "886/886 [==============================] - 34s 39ms/step - loss: 0.0022 - root_mean_squared_error: 0.0469 - val_loss: 0.0107 - val_root_mean_squared_error: 0.1036\n",
      "Epoch 47/100\n",
      "886/886 [==============================] - 34s 38ms/step - loss: 0.0013 - root_mean_squared_error: 0.0357 - val_loss: 0.0028 - val_root_mean_squared_error: 0.0524\n",
      "Epoch 48/100\n",
      "886/886 [==============================] - 34s 38ms/step - loss: 6.5688e-04 - root_mean_squared_error: 0.0256 - val_loss: 0.0024 - val_root_mean_squared_error: 0.0492\n",
      "Epoch 49/100\n",
      "886/886 [==============================] - 35s 39ms/step - loss: 0.0010 - root_mean_squared_error: 0.0320 - val_loss: 0.0130 - val_root_mean_squared_error: 0.1141\n",
      "Epoch 50/100\n",
      "886/886 [==============================] - 35s 40ms/step - loss: 0.0012 - root_mean_squared_error: 0.0351 - val_loss: 0.0026 - val_root_mean_squared_error: 0.0507\n",
      "Epoch 51/100\n",
      "886/886 [==============================] - 36s 40ms/step - loss: 0.0017 - root_mean_squared_error: 0.0411 - val_loss: 0.0188 - val_root_mean_squared_error: 0.1370\n",
      "Epoch 52/100\n",
      "886/886 [==============================] - 37s 41ms/step - loss: 0.0014 - root_mean_squared_error: 0.0379 - val_loss: 0.0181 - val_root_mean_squared_error: 0.1346\n",
      "Epoch 53/100\n",
      "886/886 [==============================] - 34s 38ms/step - loss: 0.0015 - root_mean_squared_error: 0.0393 - val_loss: 0.0032 - val_root_mean_squared_error: 0.0567\n",
      "Epoch 54/100\n",
      "886/886 [==============================] - 35s 39ms/step - loss: 7.2447e-04 - root_mean_squared_error: 0.0269 - val_loss: 0.0072 - val_root_mean_squared_error: 0.0850\n",
      "Epoch 55/100\n",
      "886/886 [==============================] - 35s 39ms/step - loss: 0.0015 - root_mean_squared_error: 0.0383 - val_loss: 0.0146 - val_root_mean_squared_error: 0.1209\n",
      "Epoch 56/100\n",
      "886/886 [==============================] - 34s 39ms/step - loss: 0.0018 - root_mean_squared_error: 0.0429 - val_loss: 0.0022 - val_root_mean_squared_error: 0.0469\n",
      "Epoch 57/100\n",
      "886/886 [==============================] - 35s 39ms/step - loss: 5.6582e-04 - root_mean_squared_error: 0.0238 - val_loss: 0.0021 - val_root_mean_squared_error: 0.0455\n",
      "Epoch 58/100\n",
      "886/886 [==============================] - 35s 39ms/step - loss: 7.9463e-04 - root_mean_squared_error: 0.0282 - val_loss: 0.0038 - val_root_mean_squared_error: 0.0617\n",
      "Epoch 59/100\n",
      "886/886 [==============================] - 35s 39ms/step - loss: 0.0012 - root_mean_squared_error: 0.0347 - val_loss: 0.0022 - val_root_mean_squared_error: 0.0466\n",
      "Epoch 60/100\n",
      "886/886 [==============================] - 35s 39ms/step - loss: 0.0014 - root_mean_squared_error: 0.0369 - val_loss: 0.0035 - val_root_mean_squared_error: 0.0589\n",
      "Epoch 61/100\n",
      "886/886 [==============================] - 35s 39ms/step - loss: 0.0021 - root_mean_squared_error: 0.0455 - val_loss: 0.0052 - val_root_mean_squared_error: 0.0723\n",
      "Epoch 62/100\n",
      "886/886 [==============================] - 35s 39ms/step - loss: 8.5237e-04 - root_mean_squared_error: 0.0292 - val_loss: 0.0019 - val_root_mean_squared_error: 0.0440\n",
      "Epoch 63/100\n",
      "886/886 [==============================] - 35s 40ms/step - loss: 9.6814e-04 - root_mean_squared_error: 0.0311 - val_loss: 0.0167 - val_root_mean_squared_error: 0.1291\n",
      "Epoch 64/100\n",
      "886/886 [==============================] - 35s 40ms/step - loss: 0.0015 - root_mean_squared_error: 0.0385 - val_loss: 0.0037 - val_root_mean_squared_error: 0.0607\n",
      "Epoch 65/100\n",
      "886/886 [==============================] - 35s 40ms/step - loss: 6.6562e-04 - root_mean_squared_error: 0.0258 - val_loss: 0.0181 - val_root_mean_squared_error: 0.1346\n",
      "Epoch 66/100\n",
      "886/886 [==============================] - 35s 39ms/step - loss: 9.4895e-04 - root_mean_squared_error: 0.0308 - val_loss: 0.0018 - val_root_mean_squared_error: 0.0424\n",
      "Epoch 67/100\n",
      "886/886 [==============================] - 35s 40ms/step - loss: 6.7654e-04 - root_mean_squared_error: 0.0260 - val_loss: 0.0013 - val_root_mean_squared_error: 0.0367\n",
      "Epoch 68/100\n",
      "886/886 [==============================] - 35s 40ms/step - loss: 6.0574e-04 - root_mean_squared_error: 0.0246 - val_loss: 0.0190 - val_root_mean_squared_error: 0.1378\n",
      "Epoch 69/100\n",
      "886/886 [==============================] - 35s 40ms/step - loss: 0.0012 - root_mean_squared_error: 0.0352 - val_loss: 0.0018 - val_root_mean_squared_error: 0.0429\n",
      "Epoch 70/100\n",
      "886/886 [==============================] - 36s 40ms/step - loss: 3.6237e-04 - root_mean_squared_error: 0.0190 - val_loss: 0.0015 - val_root_mean_squared_error: 0.0391\n",
      "Epoch 71/100\n",
      "886/886 [==============================] - 36s 40ms/step - loss: 0.0017 - root_mean_squared_error: 0.0413 - val_loss: 0.0020 - val_root_mean_squared_error: 0.0448\n",
      "Epoch 72/100\n",
      "886/886 [==============================] - 35s 40ms/step - loss: 0.0018 - root_mean_squared_error: 0.0423 - val_loss: 0.0115 - val_root_mean_squared_error: 0.1074\n",
      "Epoch 73/100\n",
      "886/886 [==============================] - 35s 40ms/step - loss: 8.5949e-04 - root_mean_squared_error: 0.0293 - val_loss: 0.0018 - val_root_mean_squared_error: 0.0422\n",
      "Epoch 74/100\n",
      "886/886 [==============================] - 36s 40ms/step - loss: 5.1692e-04 - root_mean_squared_error: 0.0227 - val_loss: 0.0142 - val_root_mean_squared_error: 0.1193\n",
      "Epoch 75/100\n",
      "886/886 [==============================] - 36s 40ms/step - loss: 7.7399e-04 - root_mean_squared_error: 0.0278 - val_loss: 0.0017 - val_root_mean_squared_error: 0.0418\n"
     ]
    }
   ],
   "source": [
    "stack_1 = autoencoder_1.fit(train_X, train_X, epochs=100, batch_size=batch_size,validation_data = (test_X,test_X),callbacks = [callback])"
   ]
  },
  {
   "cell_type": "code",
   "execution_count": 33,
   "id": "e1649f9d-8bad-4b97-869f-e36ad74dec74",
   "metadata": {},
   "outputs": [
    {
     "name": "stdout",
     "output_type": "stream",
     "text": [
      "4642/4642 [==============================] - 33s 7ms/step\n"
     ]
    }
   ],
   "source": [
    "pred = autoencoder_1.predict(act_features)"
   ]
  },
  {
   "cell_type": "code",
   "execution_count": 34,
   "id": "a1c91552-2916-4a81-933c-6c060358fdfc",
   "metadata": {},
   "outputs": [
    {
     "data": {
      "text/plain": [
       "(148517, 21, 1)"
      ]
     },
     "execution_count": 34,
     "metadata": {},
     "output_type": "execute_result"
    }
   ],
   "source": [
    "np.shape(pred)"
   ]
  },
  {
   "cell_type": "code",
   "execution_count": 35,
   "id": "7120ddc2-e9b4-4b5e-96a7-b349dcc06716",
   "metadata": {},
   "outputs": [],
   "source": [
    "from sklearn.metrics import *\n",
    "import keras"
   ]
  },
  {
   "cell_type": "code",
   "execution_count": 36,
   "id": "68e44617-4d08-4b58-8846-6269ccd65304",
   "metadata": {},
   "outputs": [
    {
     "name": "stdout",
     "output_type": "stream",
     "text": [
      "4642/4642 [==============================] - 31s 7ms/step\n"
     ]
    }
   ],
   "source": [
    "layer_name = 'latent_1'\n",
    "intermediate_layer_model = Model(inputs=autoencoder_1.input,\n",
    "                                 outputs=autoencoder_1.get_layer(layer_name).output)\n",
    "intermediate_output_1 = intermediate_layer_model.predict(act_features)"
   ]
  },
  {
   "cell_type": "markdown",
   "id": "705f51ae-5b72-44fe-9347-a5bc95afe895",
   "metadata": {},
   "source": [
    "### Classifier Model"
   ]
  },
  {
   "cell_type": "code",
   "execution_count": 37,
   "id": "e42990d5-e983-41a8-b543-7de9b750ab74",
   "metadata": {},
   "outputs": [],
   "source": [
    "batch_size = 128\n",
    "input_dim = np.shape(intermediate_output_1)[1:]\n",
    "input_layer = Input(shape=(input_dim), name='input')\n",
    "flatten = Flatten()(input_layer)\n",
    "#Input Layer\n",
    "dense1 = Dense (128, activation='relu')(flatten)\n",
    "dense2 = Dense (64, activation='relu')(dense1)\n",
    "dense3 = Dense (8, activation='relu')(dense2)\n",
    "# Output Layer\n",
    "classifier = Dense(len(set(train_Y)), activation='softmax')(dense3)"
   ]
  },
  {
   "cell_type": "code",
   "execution_count": 38,
   "id": "61b5f89c-da19-4c1d-aeac-6480742079d1",
   "metadata": {},
   "outputs": [],
   "source": [
    "classify = Model(inputs=input_layer, outputs=classifier)\n",
    "classify.compile(metrics=['accuracy'],loss='sparse_categorical_crossentropy',optimizer='adam')"
   ]
  },
  {
   "cell_type": "code",
   "execution_count": 39,
   "id": "3f3d1399-8759-4b4d-a867-f1f0ce3c902d",
   "metadata": {},
   "outputs": [
    {
     "name": "stdout",
     "output_type": "stream",
     "text": [
      "Model: \"model_2\"\n",
      "_________________________________________________________________\n",
      " Layer (type)                Output Shape              Param #   \n",
      "=================================================================\n",
      " input (InputLayer)          [(None, 3, 32)]           0         \n",
      "                                                                 \n",
      " flatten_1 (Flatten)         (None, 96)                0         \n",
      "                                                                 \n",
      " dense_1 (Dense)             (None, 128)               12416     \n",
      "                                                                 \n",
      " dense_2 (Dense)             (None, 64)                8256      \n",
      "                                                                 \n",
      " dense_3 (Dense)             (None, 8)                 520       \n",
      "                                                                 \n",
      " dense_4 (Dense)             (None, 5)                 45        \n",
      "                                                                 \n",
      "=================================================================\n",
      "Total params: 21,237\n",
      "Trainable params: 21,237\n",
      "Non-trainable params: 0\n",
      "_________________________________________________________________\n"
     ]
    }
   ],
   "source": [
    "classify.summary()"
   ]
  },
  {
   "cell_type": "code",
   "execution_count": 40,
   "id": "5f16222d-bbaf-41ca-a946-3878215bbb03",
   "metadata": {},
   "outputs": [],
   "source": [
    "train_X = intermediate_output_1[:len(df1)]\n",
    "test_X = intermediate_output_1[len(df1):]\n",
    "train_Y = labels[:len(df1)]\n",
    "test_Y = labels[len(df1):]"
   ]
  },
  {
   "cell_type": "code",
   "execution_count": 41,
   "id": "ebe223a4-35ef-49bf-9196-4f186f3e9fc3",
   "metadata": {},
   "outputs": [],
   "source": [
    "train_X, val_X , train_Y ,val_Y = train_test_split(train_X,train_Y,random_state = 42,test_size = 0.1)"
   ]
  },
  {
   "cell_type": "code",
   "execution_count": 42,
   "id": "02e46978-028b-403f-8be6-c196632bdbbd",
   "metadata": {},
   "outputs": [],
   "source": [
    "val,counts = np.unique(np.array(labels,dtype = 'int16'),return_counts = True)\n",
    "counts = 1 - counts/np.linalg.norm(counts)\n",
    "new_counts = np.exp(counts)/np.sum(np.exp(counts))\n",
    "label_dict = dict(zip(val,new_counts))"
   ]
  },
  {
   "cell_type": "code",
   "execution_count": 43,
   "id": "71cf3ace-09d9-4346-abfc-1e90ded2bf9b",
   "metadata": {},
   "outputs": [
    {
     "name": "stdout",
     "output_type": "stream",
     "text": [
      "{0: 0.1157665343328575, 1: 0.2604755878915367, 2: 0.14856723519253837, 3: 0.22483904713398783, 4: 0.25035159544907976}\n"
     ]
    }
   ],
   "source": [
    "print(label_dict)"
   ]
  },
  {
   "cell_type": "code",
   "execution_count": 44,
   "id": "58791707-7c1c-4974-9244-fb445b644ccc",
   "metadata": {
    "tags": []
   },
   "outputs": [
    {
     "name": "stdout",
     "output_type": "stream",
     "text": [
      "Epoch 1/100\n",
      "3543/3543 [==============================] - 9s 2ms/step - loss: 0.0190 - accuracy: 0.9701 - val_loss: 0.0730 - val_accuracy: 0.9786\n",
      "Epoch 2/100\n",
      "3543/3543 [==============================] - 3s 882us/step - loss: 0.0094 - accuracy: 0.9808 - val_loss: 0.0577 - val_accuracy: 0.9823\n",
      "Epoch 3/100\n",
      "3543/3543 [==============================] - 3s 820us/step - loss: 0.0079 - accuracy: 0.9833 - val_loss: 0.0524 - val_accuracy: 0.9841\n",
      "Epoch 4/100\n",
      "3543/3543 [==============================] - 3s 818us/step - loss: 0.0070 - accuracy: 0.9845 - val_loss: 0.0488 - val_accuracy: 0.9835\n",
      "Epoch 5/100\n",
      "3543/3543 [==============================] - 3s 824us/step - loss: 0.0065 - accuracy: 0.9852 - val_loss: 0.0471 - val_accuracy: 0.9843\n",
      "Epoch 6/100\n",
      "3543/3543 [==============================] - 3s 839us/step - loss: 0.0062 - accuracy: 0.9859 - val_loss: 0.0436 - val_accuracy: 0.9857\n",
      "Epoch 7/100\n",
      "3543/3543 [==============================] - 3s 834us/step - loss: 0.0057 - accuracy: 0.9867 - val_loss: 0.0394 - val_accuracy: 0.9869\n",
      "Epoch 8/100\n",
      "3543/3543 [==============================] - 3s 846us/step - loss: 0.0054 - accuracy: 0.9873 - val_loss: 0.0472 - val_accuracy: 0.9844\n",
      "Epoch 9/100\n",
      "3543/3543 [==============================] - 3s 858us/step - loss: 0.0052 - accuracy: 0.9883 - val_loss: 0.0414 - val_accuracy: 0.9878\n",
      "Epoch 10/100\n",
      "3543/3543 [==============================] - 3s 868us/step - loss: 0.0051 - accuracy: 0.9882 - val_loss: 0.0378 - val_accuracy: 0.9879\n",
      "Epoch 11/100\n",
      "3543/3543 [==============================] - 3s 905us/step - loss: 0.0048 - accuracy: 0.9891 - val_loss: 0.0418 - val_accuracy: 0.9853\n",
      "Epoch 12/100\n",
      "3543/3543 [==============================] - 7s 2ms/step - loss: 0.0046 - accuracy: 0.9892 - val_loss: 0.0447 - val_accuracy: 0.9860\n",
      "Epoch 13/100\n",
      "3543/3543 [==============================] - 8s 2ms/step - loss: 0.0045 - accuracy: 0.9894 - val_loss: 0.0350 - val_accuracy: 0.9907\n",
      "Epoch 14/100\n",
      "3543/3543 [==============================] - 8s 2ms/step - loss: 0.0044 - accuracy: 0.9895 - val_loss: 0.0404 - val_accuracy: 0.9855\n",
      "Epoch 15/100\n",
      "3543/3543 [==============================] - 8s 2ms/step - loss: 0.0044 - accuracy: 0.9894 - val_loss: 0.0422 - val_accuracy: 0.9860\n",
      "Epoch 16/100\n",
      "3543/3543 [==============================] - 8s 2ms/step - loss: 0.0042 - accuracy: 0.9901 - val_loss: 0.0340 - val_accuracy: 0.9891\n",
      "Epoch 17/100\n",
      "3543/3543 [==============================] - 8s 2ms/step - loss: 0.0041 - accuracy: 0.9905 - val_loss: 0.0312 - val_accuracy: 0.9901\n",
      "Epoch 18/100\n",
      "3543/3543 [==============================] - 8s 2ms/step - loss: 0.0040 - accuracy: 0.9903 - val_loss: 0.0330 - val_accuracy: 0.9902\n",
      "Epoch 19/100\n",
      "3543/3543 [==============================] - 8s 2ms/step - loss: 0.0040 - accuracy: 0.9906 - val_loss: 0.0332 - val_accuracy: 0.9881\n",
      "Epoch 20/100\n",
      "3543/3543 [==============================] - 8s 2ms/step - loss: 0.0039 - accuracy: 0.9907 - val_loss: 0.0355 - val_accuracy: 0.9897\n",
      "Epoch 21/100\n",
      "3543/3543 [==============================] - 8s 2ms/step - loss: 0.0039 - accuracy: 0.9905 - val_loss: 0.0331 - val_accuracy: 0.9890\n",
      "Epoch 22/100\n",
      "3543/3543 [==============================] - 8s 2ms/step - loss: 0.0038 - accuracy: 0.9907 - val_loss: 0.0293 - val_accuracy: 0.9902\n",
      "Epoch 23/100\n",
      "3543/3543 [==============================] - 8s 2ms/step - loss: 0.0037 - accuracy: 0.9908 - val_loss: 0.0365 - val_accuracy: 0.9869\n",
      "Epoch 24/100\n",
      "3543/3543 [==============================] - 8s 2ms/step - loss: 0.0036 - accuracy: 0.9912 - val_loss: 0.0351 - val_accuracy: 0.9875\n",
      "Epoch 25/100\n",
      "3543/3543 [==============================] - 8s 2ms/step - loss: 0.0036 - accuracy: 0.9915 - val_loss: 0.0302 - val_accuracy: 0.9904\n",
      "Epoch 26/100\n",
      "3543/3543 [==============================] - 8s 2ms/step - loss: 0.0036 - accuracy: 0.9913 - val_loss: 0.0345 - val_accuracy: 0.9882\n",
      "Epoch 27/100\n",
      "3543/3543 [==============================] - 8s 2ms/step - loss: 0.0035 - accuracy: 0.9915 - val_loss: 0.0293 - val_accuracy: 0.9917\n",
      "Epoch 28/100\n",
      "3543/3543 [==============================] - 8s 2ms/step - loss: 0.0034 - accuracy: 0.9918 - val_loss: 0.0358 - val_accuracy: 0.9882\n",
      "Epoch 29/100\n",
      "3543/3543 [==============================] - 8s 2ms/step - loss: 0.0034 - accuracy: 0.9914 - val_loss: 0.0336 - val_accuracy: 0.9887\n",
      "Epoch 30/100\n",
      "3543/3543 [==============================] - 8s 2ms/step - loss: 0.0034 - accuracy: 0.9916 - val_loss: 0.0317 - val_accuracy: 0.9883\n",
      "Epoch 31/100\n",
      "3543/3543 [==============================] - 8s 2ms/step - loss: 0.0034 - accuracy: 0.9916 - val_loss: 0.0260 - val_accuracy: 0.9918\n",
      "Epoch 32/100\n",
      "3543/3543 [==============================] - 8s 2ms/step - loss: 0.0033 - accuracy: 0.9921 - val_loss: 0.0296 - val_accuracy: 0.9913\n",
      "Epoch 33/100\n",
      "3543/3543 [==============================] - 8s 2ms/step - loss: 0.0032 - accuracy: 0.9920 - val_loss: 0.0292 - val_accuracy: 0.9912\n",
      "Epoch 34/100\n",
      "3543/3543 [==============================] - 8s 2ms/step - loss: 0.0032 - accuracy: 0.9922 - val_loss: 0.0310 - val_accuracy: 0.9893\n",
      "Epoch 35/100\n",
      "3543/3543 [==============================] - 8s 2ms/step - loss: 0.0031 - accuracy: 0.9926 - val_loss: 0.0266 - val_accuracy: 0.9912\n",
      "Epoch 36/100\n",
      "3543/3543 [==============================] - 8s 2ms/step - loss: 0.0031 - accuracy: 0.9922 - val_loss: 0.0276 - val_accuracy: 0.9914\n",
      "Epoch 37/100\n",
      "3543/3543 [==============================] - 8s 2ms/step - loss: 0.0030 - accuracy: 0.9927 - val_loss: 0.0248 - val_accuracy: 0.9921\n",
      "Epoch 38/100\n",
      "3543/3543 [==============================] - 8s 2ms/step - loss: 0.0031 - accuracy: 0.9923 - val_loss: 0.0263 - val_accuracy: 0.9915\n",
      "Epoch 39/100\n",
      "3543/3543 [==============================] - 8s 2ms/step - loss: 0.0029 - accuracy: 0.9928 - val_loss: 0.0320 - val_accuracy: 0.9890\n",
      "Epoch 40/100\n",
      "3543/3543 [==============================] - 8s 2ms/step - loss: 0.0031 - accuracy: 0.9925 - val_loss: 0.0268 - val_accuracy: 0.9909\n",
      "Epoch 41/100\n",
      "3543/3543 [==============================] - 8s 2ms/step - loss: 0.0030 - accuracy: 0.9928 - val_loss: 0.0268 - val_accuracy: 0.9905\n",
      "Epoch 42/100\n",
      "3543/3543 [==============================] - 9s 3ms/step - loss: 0.0029 - accuracy: 0.9927 - val_loss: 0.0251 - val_accuracy: 0.9925\n",
      "Epoch 43/100\n",
      "3543/3543 [==============================] - 8s 2ms/step - loss: 0.0029 - accuracy: 0.9928 - val_loss: 0.0281 - val_accuracy: 0.9910\n",
      "Epoch 44/100\n",
      "3543/3543 [==============================] - 8s 2ms/step - loss: 0.0029 - accuracy: 0.9930 - val_loss: 0.0260 - val_accuracy: 0.9926\n",
      "Epoch 45/100\n",
      "3543/3543 [==============================] - 8s 2ms/step - loss: 0.0028 - accuracy: 0.9930 - val_loss: 0.0257 - val_accuracy: 0.9908\n"
     ]
    }
   ],
   "source": [
    "history = classify.fit(train_X, train_Y, epochs=100, batch_size=32,class_weight = label_dict, callbacks = [callback],validation_data = (val_X, val_Y))"
   ]
  },
  {
   "cell_type": "code",
   "execution_count": 45,
   "id": "3835f939-1e47-4ed9-9e94-41a990119a5a",
   "metadata": {},
   "outputs": [
    {
     "name": "stdout",
     "output_type": "stream",
     "text": [
      "4642/4642 [==============================] - 5s 978us/step\n"
     ]
    }
   ],
   "source": [
    "preds = classify.predict(intermediate_output_1)"
   ]
  },
  {
   "cell_type": "code",
   "execution_count": 46,
   "id": "2d90d8aa-687a-437a-ba87-33e74ed2e502",
   "metadata": {},
   "outputs": [
    {
     "data": {
      "text/plain": [
       "((148517, 5), (148517,))"
      ]
     },
     "execution_count": 46,
     "metadata": {},
     "output_type": "execute_result"
    }
   ],
   "source": [
    "np.shape(preds),np.shape(labels)"
   ]
  },
  {
   "cell_type": "code",
   "execution_count": 47,
   "id": "827db2ea-1075-4822-a90e-db2b000a51e3",
   "metadata": {},
   "outputs": [
    {
     "data": {
      "text/plain": [
       "{0.0, 1.0, 2.0, 3.0, 4.0}"
      ]
     },
     "execution_count": 47,
     "metadata": {},
     "output_type": "execute_result"
    }
   ],
   "source": [
    "set(labels)"
   ]
  },
  {
   "cell_type": "code",
   "execution_count": 48,
   "id": "66420e44-e3ac-49a0-b475-7ac3892e68a6",
   "metadata": {},
   "outputs": [],
   "source": [
    "from sklearn.metrics import confusion_matrix\n",
    "conf_mat = confusion_matrix(np.argmax(preds,axis = 1), labels)"
   ]
  },
  {
   "cell_type": "code",
   "execution_count": 49,
   "id": "80596a4f-2000-4f04-bb7b-0815b7ced17d",
   "metadata": {},
   "outputs": [
    {
     "name": "stdout",
     "output_type": "stream",
     "text": [
      "0.9563686312004687\n",
      "0.6882481455624527\n",
      "0.8597009474783471\n",
      "0.7344413084689982\n"
     ]
    }
   ],
   "source": [
    "print(accuracy_score(np.argmax(preds,axis = 1),labels))\n",
    "print(precision_score(np.argmax(preds,axis = 1),labels,average = 'macro'))\n",
    "print(recall_score(np.argmax(preds,axis = 1),labels,average = 'macro'))\n",
    "print(f1_score(np.argmax(preds,axis = 1),labels,average = 'macro'))"
   ]
  },
  {
   "cell_type": "code",
   "execution_count": 50,
   "id": "5582266a-40c3-49cf-bf08-81fef2e5ec2f",
   "metadata": {},
   "outputs": [],
   "source": [
    "import seaborn as sns"
   ]
  },
  {
   "cell_type": "code",
   "execution_count": 51,
   "id": "f8fd906d-887d-4ad9-ab88-c4350bb4b179",
   "metadata": {},
   "outputs": [
    {
     "data": {
      "text/plain": [
       "<AxesSubplot:>"
      ]
     },
     "execution_count": 51,
     "metadata": {},
     "output_type": "execute_result"
    },
    {
     "data": {
      "image/png": "[encoded data removed]",
      "text/plain": [
       "<Figure size 432x288 with 2 Axes>"
      ]
     },
     "metadata": {
      "needs_background": "light"
     },
     "output_type": "display_data"
    }
   ],
   "source": [
    "sns.heatmap(conf_mat, annot=True)"
   ]
  },
  {
   "cell_type": "markdown",
   "id": "8bf93326-3c79-4868-8be2-a6ad6f8b126f",
   "metadata": {},
   "source": [
    "# Testing on KDD Test"
   ]
  },
  {
   "cell_type": "code",
   "execution_count": 52,
   "id": "c2b492f7-7c3c-49f0-86a8-1e6658fc6900",
   "metadata": {},
   "outputs": [],
   "source": [
    "features = act_features[len(df1):]\n",
    "labels = labels[len(df1):]"
   ]
  },
  {
   "cell_type": "code",
   "execution_count": 53,
   "id": "4f9e069f-4f24-4f43-997a-7dc349f27d52",
   "metadata": {},
   "outputs": [
    {
     "name": "stdout",
     "output_type": "stream",
     "text": [
      "(22544, 21) (22544,)\n"
     ]
    }
   ],
   "source": [
    "print(np.shape(features),np.shape(labels))"
   ]
  },
  {
   "cell_type": "code",
   "execution_count": 54,
   "id": "1bdfdb2d-4bd5-4c50-82c6-9a464782005a",
   "metadata": {},
   "outputs": [
    {
     "name": "stdout",
     "output_type": "stream",
     "text": [
      "705/705 [==============================] - 5s 6ms/step\n"
     ]
    }
   ],
   "source": [
    "layer_name = 'latent_1'\n",
    "intermediate_layer_model = Model(inputs=autoencoder_1.input,\n",
    "                                 outputs=autoencoder_1.get_layer(layer_name).output)\n",
    "intermediate_output_1 = intermediate_layer_model.predict(features)"
   ]
  },
  {
   "cell_type": "code",
   "execution_count": 55,
   "id": "8d88ece9-a881-4c81-b376-efe5a03ae4b8",
   "metadata": {},
   "outputs": [
    {
     "data": {
      "text/plain": [
       "(22544, 3, 32)"
      ]
     },
     "execution_count": 55,
     "metadata": {},
     "output_type": "execute_result"
    }
   ],
   "source": [
    "np.shape(intermediate_output_1)"
   ]
  },
  {
   "cell_type": "code",
   "execution_count": 56,
   "id": "e57a1baf-8941-4675-8aff-6ba685c7f031",
   "metadata": {},
   "outputs": [
    {
     "name": "stdout",
     "output_type": "stream",
     "text": [
      "705/705 [==============================] - 1s 1ms/step\n"
     ]
    }
   ],
   "source": [
    "final_prediction = classify.predict(intermediate_output_1)"
   ]
  },
  {
   "cell_type": "code",
   "execution_count": 57,
   "id": "f3dd30b1-882b-44bb-a6ae-1c80156dd70c",
   "metadata": {},
   "outputs": [
    {
     "data": {
      "text/plain": [
       "((22544, 5), (22544,))"
      ]
     },
     "execution_count": 57,
     "metadata": {},
     "output_type": "execute_result"
    }
   ],
   "source": [
    "np.shape(final_prediction),np.shape(labels)"
   ]
  },
  {
   "cell_type": "code",
   "execution_count": 58,
   "id": "e7841f76-54d1-4b0a-8687-6b61a5ee2879",
   "metadata": {},
   "outputs": [],
   "source": [
    "from sklearn.metrics import confusion_matrix\n",
    "conf_mat = confusion_matrix(np.argmax(final_prediction,axis = 1), labels)"
   ]
  },
  {
   "cell_type": "code",
   "execution_count": 59,
   "id": "abe67e02-fc48-4bc2-b4bd-b09638e70d30",
   "metadata": {},
   "outputs": [
    {
     "data": {
      "text/plain": [
       "<AxesSubplot:>"
      ]
     },
     "execution_count": 59,
     "metadata": {},
     "output_type": "execute_result"
    },
    {
     "data": {
      "image/png": "[encoded data removed]",
      "text/plain": [
       "<Figure size 432x288 with 2 Axes>"
      ]
     },
     "metadata": {
      "needs_background": "light"
     },
     "output_type": "display_data"
    }
   ],
   "source": [
    "sns.heatmap(conf_mat, annot=True)"
   ]
  },
  {
   "cell_type": "code",
   "execution_count": 60,
   "id": "77938fb2-dfdf-4412-b264-d7b777f83cc7",
   "metadata": {},
   "outputs": [
    {
     "name": "stdout",
     "output_type": "stream",
     "text": [
      "0.7480926188786373\n",
      "0.505921670966418\n",
      "0.7032998169568699\n",
      "0.5162093966746049\n"
     ]
    }
   ],
   "source": [
    "print(accuracy_score(np.argmax(final_prediction,axis = 1),labels))\n",
    "print(precision_score(np.argmax(final_prediction,axis = 1),labels,average = 'macro'))\n",
    "print(recall_score(np.argmax(final_prediction,axis = 1),labels,average = 'macro'))\n",
    "print(f1_score(np.argmax(final_prediction,axis = 1),labels,average = 'macro'))"
   ]
  },
  {
   "cell_type": "code",
   "execution_count": 61,
   "id": "2067c540-6150-4aa3-bd15-757daed0c413",
   "metadata": {},
   "outputs": [],
   "source": [
    "from sklearn.metrics import classification_report"
   ]
  },
  {
   "cell_type": "code",
   "execution_count": 62,
   "id": "8715377a-c8c3-4cc6-8471-147a6d9ee21f",
   "metadata": {},
   "outputs": [
    {
     "name": "stdout",
     "output_type": "stream",
     "text": [
      "              precision    recall  f1-score   support\n",
      "\n",
      "           0       0.91      0.66      0.77     13366\n",
      "           1       0.06      0.24      0.10        17\n",
      "           2       0.83      0.89      0.86      6953\n",
      "           3       0.65      0.80      0.72      1971\n",
      "           4       0.08      0.93      0.14       237\n",
      "\n",
      "    accuracy                           0.75     22544\n",
      "   macro avg       0.51      0.70      0.52     22544\n",
      "weighted avg       0.86      0.75      0.79     22544\n",
      "\n"
     ]
    }
   ],
   "source": [
    "print(classification_report(np.argmax(final_prediction,axis = 1),labels))"
   ]
  }
 ],
 "metadata": {
  "kernelspec": {
   "display_name": "Python 3 (ipykernel)",
   "language": "python",
   "name": "python3"
  },
  "language_info": {
   "codemirror_mode": {
    "name": "ipython",
    "version": 3
   },
   "file_extension": ".py",
   "mimetype": "text/x-python",
   "name": "python",
   "nbconvert_exporter": "python",
   "pygments_lexer": "ipython3",
   "version": "3.9.7"
  }
 },
 "nbformat": 4,
 "nbformat_minor": 5
}
