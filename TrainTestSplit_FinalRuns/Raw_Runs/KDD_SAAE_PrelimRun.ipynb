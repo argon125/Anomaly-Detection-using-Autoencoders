{
 "cells": [
  {
   "cell_type": "code",
   "execution_count": 1,
   "id": "1bf0b868-c909-466a-8382-431edfb1ca3c",
   "metadata": {},
   "outputs": [],
   "source": [
    "import numpy as np\n",
    "import pandas as pd\n",
    "import matplotlib.pyplot as plt\n",
    "import os\n",
    "import tensorflow as tf"
   ]
  },
  {
   "cell_type": "code",
   "execution_count": 2,
   "id": "c01bb8b3-930c-4bd9-9a3f-5d07ce77b4ac",
   "metadata": {},
   "outputs": [],
   "source": [
    "feature = [\"duration\",\"protocol_type\",\"service\",\"flag\",\"src_bytes\",\n",
    "    \"dst_bytes\",\"land\",\"wrong_fragment\",\"urgent\",\"hot\",\"num_failed_logins\",\n",
    "    \"logged_in\",\"num_compromised\",\"root_shell\",\"su_attempted\",\"num_root\",\n",
    "    \"num_file_creations\",\"num_shells\",\"num_access_files\",\"num_outbound_cmds\",\n",
    "    \"is_host_login\",\"is_guest_login\",\"count\",\"srv_count\",\"serror_rate\",\n",
    "    \"srv_serror_rate\",\"rerror_rate\",\"srv_rerror_rate\",\"same_srv_rate\",\n",
    "    \"diff_srv_rate\",\"srv_diff_host_rate\",\"dst_host_count\",\"dst_host_srv_count\",\n",
    "    \"dst_host_same_srv_rate\",\"dst_host_diff_srv_rate\",\"dst_host_same_src_port_rate\",\n",
    "    \"dst_host_srv_diff_host_rate\",\"dst_host_serror_rate\",\"dst_host_srv_serror_rate\",\n",
    "    \"dst_host_rerror_rate\",\"dst_host_srv_rerror_rate\",\"target\",\"junk\"]"
   ]
  },
  {
   "cell_type": "code",
   "execution_count": 3,
   "id": "40536131-3ade-4777-9ac3-c1f2e6025ac7",
   "metadata": {},
   "outputs": [],
   "source": [
    "os.chdir(\"C:/Users/ArrunPersonal/Codes/Semester7/IDS/NSL-KDD\")"
   ]
  },
  {
   "cell_type": "code",
   "execution_count": 5,
   "id": "84364c10-8b89-45fa-8a3a-881de73b44aa",
   "metadata": {},
   "outputs": [],
   "source": [
    "df = pd.read_csv(\"KDDTrain+.csv\", names = feature)\n",
    "df.drop([\"junk\"],axis = 1,inplace = True)"
   ]
  },
  {
   "cell_type": "code",
   "execution_count": 6,
   "id": "3fbe8575-19ab-460a-ad78-e5cff17205a5",
   "metadata": {},
   "outputs": [
    {
     "data": {
      "text/plain": [
       "False"
      ]
     },
     "execution_count": 6,
     "metadata": {},
     "output_type": "execute_result"
    }
   ],
   "source": [
    "df.isnull().values.any()"
   ]
  },
  {
   "cell_type": "code",
   "execution_count": 7,
   "id": "5156c38d-0cd4-4fe0-b633-eaa3f29769a5",
   "metadata": {},
   "outputs": [
    {
     "data": {
      "text/html": [
       "<div>\n",
       "<style scoped>\n",
       "    .dataframe tbody tr th:only-of-type {\n",
       "        vertical-align: middle;\n",
       "    }\n",
       "\n",
       "    .dataframe tbody tr th {\n",
       "        vertical-align: top;\n",
       "    }\n",
       "\n",
       "    .dataframe thead th {\n",
       "        text-align: right;\n",
       "    }\n",
       "</style>\n",
       "<table border=\"1\" class=\"dataframe\">\n",
       "  <thead>\n",
       "    <tr style=\"text-align: right;\">\n",
       "      <th></th>\n",
       "      <th>duration</th>\n",
       "      <th>protocol_type</th>\n",
       "      <th>service</th>\n",
       "      <th>flag</th>\n",
       "      <th>src_bytes</th>\n",
       "      <th>dst_bytes</th>\n",
       "      <th>land</th>\n",
       "      <th>wrong_fragment</th>\n",
       "      <th>urgent</th>\n",
       "      <th>hot</th>\n",
       "      <th>...</th>\n",
       "      <th>dst_host_srv_count</th>\n",
       "      <th>dst_host_same_srv_rate</th>\n",
       "      <th>dst_host_diff_srv_rate</th>\n",
       "      <th>dst_host_same_src_port_rate</th>\n",
       "      <th>dst_host_srv_diff_host_rate</th>\n",
       "      <th>dst_host_serror_rate</th>\n",
       "      <th>dst_host_srv_serror_rate</th>\n",
       "      <th>dst_host_rerror_rate</th>\n",
       "      <th>dst_host_srv_rerror_rate</th>\n",
       "      <th>target</th>\n",
       "    </tr>\n",
       "  </thead>\n",
       "  <tbody>\n",
       "    <tr>\n",
       "      <th>0</th>\n",
       "      <td>0</td>\n",
       "      <td>tcp</td>\n",
       "      <td>ftp_data</td>\n",
       "      <td>SF</td>\n",
       "      <td>491</td>\n",
       "      <td>0</td>\n",
       "      <td>0</td>\n",
       "      <td>0</td>\n",
       "      <td>0</td>\n",
       "      <td>0</td>\n",
       "      <td>...</td>\n",
       "      <td>25</td>\n",
       "      <td>0.17</td>\n",
       "      <td>0.03</td>\n",
       "      <td>0.17</td>\n",
       "      <td>0.00</td>\n",
       "      <td>0.00</td>\n",
       "      <td>0.00</td>\n",
       "      <td>0.05</td>\n",
       "      <td>0.00</td>\n",
       "      <td>normal</td>\n",
       "    </tr>\n",
       "    <tr>\n",
       "      <th>1</th>\n",
       "      <td>0</td>\n",
       "      <td>udp</td>\n",
       "      <td>other</td>\n",
       "      <td>SF</td>\n",
       "      <td>146</td>\n",
       "      <td>0</td>\n",
       "      <td>0</td>\n",
       "      <td>0</td>\n",
       "      <td>0</td>\n",
       "      <td>0</td>\n",
       "      <td>...</td>\n",
       "      <td>1</td>\n",
       "      <td>0.00</td>\n",
       "      <td>0.60</td>\n",
       "      <td>0.88</td>\n",
       "      <td>0.00</td>\n",
       "      <td>0.00</td>\n",
       "      <td>0.00</td>\n",
       "      <td>0.00</td>\n",
       "      <td>0.00</td>\n",
       "      <td>normal</td>\n",
       "    </tr>\n",
       "    <tr>\n",
       "      <th>2</th>\n",
       "      <td>0</td>\n",
       "      <td>tcp</td>\n",
       "      <td>private</td>\n",
       "      <td>S0</td>\n",
       "      <td>0</td>\n",
       "      <td>0</td>\n",
       "      <td>0</td>\n",
       "      <td>0</td>\n",
       "      <td>0</td>\n",
       "      <td>0</td>\n",
       "      <td>...</td>\n",
       "      <td>26</td>\n",
       "      <td>0.10</td>\n",
       "      <td>0.05</td>\n",
       "      <td>0.00</td>\n",
       "      <td>0.00</td>\n",
       "      <td>1.00</td>\n",
       "      <td>1.00</td>\n",
       "      <td>0.00</td>\n",
       "      <td>0.00</td>\n",
       "      <td>neptune</td>\n",
       "    </tr>\n",
       "    <tr>\n",
       "      <th>3</th>\n",
       "      <td>0</td>\n",
       "      <td>tcp</td>\n",
       "      <td>http</td>\n",
       "      <td>SF</td>\n",
       "      <td>232</td>\n",
       "      <td>8153</td>\n",
       "      <td>0</td>\n",
       "      <td>0</td>\n",
       "      <td>0</td>\n",
       "      <td>0</td>\n",
       "      <td>...</td>\n",
       "      <td>255</td>\n",
       "      <td>1.00</td>\n",
       "      <td>0.00</td>\n",
       "      <td>0.03</td>\n",
       "      <td>0.04</td>\n",
       "      <td>0.03</td>\n",
       "      <td>0.01</td>\n",
       "      <td>0.00</td>\n",
       "      <td>0.01</td>\n",
       "      <td>normal</td>\n",
       "    </tr>\n",
       "    <tr>\n",
       "      <th>4</th>\n",
       "      <td>0</td>\n",
       "      <td>tcp</td>\n",
       "      <td>http</td>\n",
       "      <td>SF</td>\n",
       "      <td>199</td>\n",
       "      <td>420</td>\n",
       "      <td>0</td>\n",
       "      <td>0</td>\n",
       "      <td>0</td>\n",
       "      <td>0</td>\n",
       "      <td>...</td>\n",
       "      <td>255</td>\n",
       "      <td>1.00</td>\n",
       "      <td>0.00</td>\n",
       "      <td>0.00</td>\n",
       "      <td>0.00</td>\n",
       "      <td>0.00</td>\n",
       "      <td>0.00</td>\n",
       "      <td>0.00</td>\n",
       "      <td>0.00</td>\n",
       "      <td>normal</td>\n",
       "    </tr>\n",
       "  </tbody>\n",
       "</table>\n",
       "<p>5 rows × 42 columns</p>\n",
       "</div>"
      ],
      "text/plain": [
       "   duration protocol_type   service flag  src_bytes  dst_bytes  land  \\\n",
       "0         0           tcp  ftp_data   SF        491          0     0   \n",
       "1         0           udp     other   SF        146          0     0   \n",
       "2         0           tcp   private   S0          0          0     0   \n",
       "3         0           tcp      http   SF        232       8153     0   \n",
       "4         0           tcp      http   SF        199        420     0   \n",
       "\n",
       "   wrong_fragment  urgent  hot  ...  dst_host_srv_count  \\\n",
       "0               0       0    0  ...                  25   \n",
       "1               0       0    0  ...                   1   \n",
       "2               0       0    0  ...                  26   \n",
       "3               0       0    0  ...                 255   \n",
       "4               0       0    0  ...                 255   \n",
       "\n",
       "   dst_host_same_srv_rate  dst_host_diff_srv_rate  \\\n",
       "0                    0.17                    0.03   \n",
       "1                    0.00                    0.60   \n",
       "2                    0.10                    0.05   \n",
       "3                    1.00                    0.00   \n",
       "4                    1.00                    0.00   \n",
       "\n",
       "   dst_host_same_src_port_rate  dst_host_srv_diff_host_rate  \\\n",
       "0                         0.17                         0.00   \n",
       "1                         0.88                         0.00   \n",
       "2                         0.00                         0.00   \n",
       "3                         0.03                         0.04   \n",
       "4                         0.00                         0.00   \n",
       "\n",
       "   dst_host_serror_rate  dst_host_srv_serror_rate  dst_host_rerror_rate  \\\n",
       "0                  0.00                      0.00                  0.05   \n",
       "1                  0.00                      0.00                  0.00   \n",
       "2                  1.00                      1.00                  0.00   \n",
       "3                  0.03                      0.01                  0.00   \n",
       "4                  0.00                      0.00                  0.00   \n",
       "\n",
       "   dst_host_srv_rerror_rate   target  \n",
       "0                      0.00   normal  \n",
       "1                      0.00   normal  \n",
       "2                      0.00  neptune  \n",
       "3                      0.01   normal  \n",
       "4                      0.00   normal  \n",
       "\n",
       "[5 rows x 42 columns]"
      ]
     },
     "execution_count": 7,
     "metadata": {},
     "output_type": "execute_result"
    }
   ],
   "source": [
    "df.head()"
   ]
  },
  {
   "cell_type": "code",
   "execution_count": 8,
   "id": "55dab8da-b0ab-40d7-a7b8-72fb965459cc",
   "metadata": {},
   "outputs": [],
   "source": [
    "protocol_dict = dict(zip(set(df['protocol_type']),np.arange(len(set(df['protocol_type'])))))\n",
    "service_dict = dict(zip(set(df['service']),np.arange(len(set(df['service'])))))\n",
    "flag_dict = dict(zip(set(df['flag']),np.arange(len(set(df['flag'])))))"
   ]
  },
  {
   "cell_type": "code",
   "execution_count": 9,
   "id": "0bdb4b00-8c4d-41eb-aefc-88c49de6ac8c",
   "metadata": {},
   "outputs": [],
   "source": [
    "# changing attack labels to their respective attack class\n",
    "def change_feature(df):\n",
    "    df.target.replace(['apache2','back','land','neptune','mailbomb','pod','processtable','smurf','teardrop','udpstorm','worm'],'Dos',inplace=True)\n",
    "    df.target.replace(['ftp_write','guess_passwd','httptunnel','imap','multihop','named','phf','sendmail','snmpgetattack','snmpguess','spy','warezclient','warezmaster','xlock','xsnoop'],'R2L',inplace=True)      \n",
    "    df.target.replace(['ipsweep','mscan','nmap','portsweep','saint','satan'],'Probe',inplace=True)\n",
    "    df.target.replace(['buffer_overflow','loadmodule','perl','ps','rootkit','sqlattack','xterm'],'U2R',inplace=True)\n",
    "    \n",
    "    df.protocol_type.replace(protocol_dict.keys(),protocol_dict.values(),inplace=True)\n",
    "    df.service.replace(service_dict.keys(),service_dict.values(),inplace=True)\n",
    "    df.flag.replace(flag_dict.keys(),flag_dict.values(),inplace=True)"
   ]
  },
  {
   "cell_type": "code",
   "execution_count": 10,
   "id": "d7967ffd-6d6d-4ab3-b30e-f42ed7f96d5f",
   "metadata": {},
   "outputs": [],
   "source": [
    "change_feature(df)"
   ]
  },
  {
   "cell_type": "code",
   "execution_count": 11,
   "id": "8b26c684-a757-4180-8e33-82979a2e216a",
   "metadata": {},
   "outputs": [],
   "source": [
    "target_dict = dict(zip(set(df['target']),np.arange(len(set(df['target'])))))"
   ]
  },
  {
   "cell_type": "code",
   "execution_count": 12,
   "id": "410c0811-b1dd-4b02-a3f5-2000c64e7000",
   "metadata": {},
   "outputs": [],
   "source": [
    "def change_target(df):\n",
    "    df.target.replace(target_dict.keys(),target_dict.values(),inplace=True)"
   ]
  },
  {
   "cell_type": "code",
   "execution_count": 13,
   "id": "34dd9a32-72fc-4ff2-a215-ce6bb0fb8086",
   "metadata": {},
   "outputs": [],
   "source": [
    "change_target(df)"
   ]
  },
  {
   "cell_type": "code",
   "execution_count": 14,
   "id": "f15b3693-fd32-4536-9fcd-9cbe1a6c1ec6",
   "metadata": {},
   "outputs": [
    {
     "data": {
      "text/html": [
       "<div>\n",
       "<style scoped>\n",
       "    .dataframe tbody tr th:only-of-type {\n",
       "        vertical-align: middle;\n",
       "    }\n",
       "\n",
       "    .dataframe tbody tr th {\n",
       "        vertical-align: top;\n",
       "    }\n",
       "\n",
       "    .dataframe thead th {\n",
       "        text-align: right;\n",
       "    }\n",
       "</style>\n",
       "<table border=\"1\" class=\"dataframe\">\n",
       "  <thead>\n",
       "    <tr style=\"text-align: right;\">\n",
       "      <th></th>\n",
       "      <th>duration</th>\n",
       "      <th>protocol_type</th>\n",
       "      <th>service</th>\n",
       "      <th>flag</th>\n",
       "      <th>src_bytes</th>\n",
       "      <th>dst_bytes</th>\n",
       "      <th>land</th>\n",
       "      <th>wrong_fragment</th>\n",
       "      <th>urgent</th>\n",
       "      <th>hot</th>\n",
       "      <th>...</th>\n",
       "      <th>dst_host_srv_count</th>\n",
       "      <th>dst_host_same_srv_rate</th>\n",
       "      <th>dst_host_diff_srv_rate</th>\n",
       "      <th>dst_host_same_src_port_rate</th>\n",
       "      <th>dst_host_srv_diff_host_rate</th>\n",
       "      <th>dst_host_serror_rate</th>\n",
       "      <th>dst_host_srv_serror_rate</th>\n",
       "      <th>dst_host_rerror_rate</th>\n",
       "      <th>dst_host_srv_rerror_rate</th>\n",
       "      <th>target</th>\n",
       "    </tr>\n",
       "  </thead>\n",
       "  <tbody>\n",
       "    <tr>\n",
       "      <th>0</th>\n",
       "      <td>0</td>\n",
       "      <td>2</td>\n",
       "      <td>67</td>\n",
       "      <td>6</td>\n",
       "      <td>491</td>\n",
       "      <td>0</td>\n",
       "      <td>0</td>\n",
       "      <td>0</td>\n",
       "      <td>0</td>\n",
       "      <td>0</td>\n",
       "      <td>...</td>\n",
       "      <td>25</td>\n",
       "      <td>0.17</td>\n",
       "      <td>0.03</td>\n",
       "      <td>0.17</td>\n",
       "      <td>0.00</td>\n",
       "      <td>0.00</td>\n",
       "      <td>0.00</td>\n",
       "      <td>0.05</td>\n",
       "      <td>0.00</td>\n",
       "      <td>3</td>\n",
       "    </tr>\n",
       "    <tr>\n",
       "      <th>1</th>\n",
       "      <td>0</td>\n",
       "      <td>0</td>\n",
       "      <td>61</td>\n",
       "      <td>6</td>\n",
       "      <td>146</td>\n",
       "      <td>0</td>\n",
       "      <td>0</td>\n",
       "      <td>0</td>\n",
       "      <td>0</td>\n",
       "      <td>0</td>\n",
       "      <td>...</td>\n",
       "      <td>1</td>\n",
       "      <td>0.00</td>\n",
       "      <td>0.60</td>\n",
       "      <td>0.88</td>\n",
       "      <td>0.00</td>\n",
       "      <td>0.00</td>\n",
       "      <td>0.00</td>\n",
       "      <td>0.00</td>\n",
       "      <td>0.00</td>\n",
       "      <td>3</td>\n",
       "    </tr>\n",
       "    <tr>\n",
       "      <th>2</th>\n",
       "      <td>0</td>\n",
       "      <td>2</td>\n",
       "      <td>41</td>\n",
       "      <td>10</td>\n",
       "      <td>0</td>\n",
       "      <td>0</td>\n",
       "      <td>0</td>\n",
       "      <td>0</td>\n",
       "      <td>0</td>\n",
       "      <td>0</td>\n",
       "      <td>...</td>\n",
       "      <td>26</td>\n",
       "      <td>0.10</td>\n",
       "      <td>0.05</td>\n",
       "      <td>0.00</td>\n",
       "      <td>0.00</td>\n",
       "      <td>1.00</td>\n",
       "      <td>1.00</td>\n",
       "      <td>0.00</td>\n",
       "      <td>0.00</td>\n",
       "      <td>1</td>\n",
       "    </tr>\n",
       "    <tr>\n",
       "      <th>3</th>\n",
       "      <td>0</td>\n",
       "      <td>2</td>\n",
       "      <td>21</td>\n",
       "      <td>6</td>\n",
       "      <td>232</td>\n",
       "      <td>8153</td>\n",
       "      <td>0</td>\n",
       "      <td>0</td>\n",
       "      <td>0</td>\n",
       "      <td>0</td>\n",
       "      <td>...</td>\n",
       "      <td>255</td>\n",
       "      <td>1.00</td>\n",
       "      <td>0.00</td>\n",
       "      <td>0.03</td>\n",
       "      <td>0.04</td>\n",
       "      <td>0.03</td>\n",
       "      <td>0.01</td>\n",
       "      <td>0.00</td>\n",
       "      <td>0.01</td>\n",
       "      <td>3</td>\n",
       "    </tr>\n",
       "    <tr>\n",
       "      <th>4</th>\n",
       "      <td>0</td>\n",
       "      <td>2</td>\n",
       "      <td>21</td>\n",
       "      <td>6</td>\n",
       "      <td>199</td>\n",
       "      <td>420</td>\n",
       "      <td>0</td>\n",
       "      <td>0</td>\n",
       "      <td>0</td>\n",
       "      <td>0</td>\n",
       "      <td>...</td>\n",
       "      <td>255</td>\n",
       "      <td>1.00</td>\n",
       "      <td>0.00</td>\n",
       "      <td>0.00</td>\n",
       "      <td>0.00</td>\n",
       "      <td>0.00</td>\n",
       "      <td>0.00</td>\n",
       "      <td>0.00</td>\n",
       "      <td>0.00</td>\n",
       "      <td>3</td>\n",
       "    </tr>\n",
       "  </tbody>\n",
       "</table>\n",
       "<p>5 rows × 42 columns</p>\n",
       "</div>"
      ],
      "text/plain": [
       "   duration  protocol_type  service  flag  src_bytes  dst_bytes  land  \\\n",
       "0         0              2       67     6        491          0     0   \n",
       "1         0              0       61     6        146          0     0   \n",
       "2         0              2       41    10          0          0     0   \n",
       "3         0              2       21     6        232       8153     0   \n",
       "4         0              2       21     6        199        420     0   \n",
       "\n",
       "   wrong_fragment  urgent  hot  ...  dst_host_srv_count  \\\n",
       "0               0       0    0  ...                  25   \n",
       "1               0       0    0  ...                   1   \n",
       "2               0       0    0  ...                  26   \n",
       "3               0       0    0  ...                 255   \n",
       "4               0       0    0  ...                 255   \n",
       "\n",
       "   dst_host_same_srv_rate  dst_host_diff_srv_rate  \\\n",
       "0                    0.17                    0.03   \n",
       "1                    0.00                    0.60   \n",
       "2                    0.10                    0.05   \n",
       "3                    1.00                    0.00   \n",
       "4                    1.00                    0.00   \n",
       "\n",
       "   dst_host_same_src_port_rate  dst_host_srv_diff_host_rate  \\\n",
       "0                         0.17                         0.00   \n",
       "1                         0.88                         0.00   \n",
       "2                         0.00                         0.00   \n",
       "3                         0.03                         0.04   \n",
       "4                         0.00                         0.00   \n",
       "\n",
       "   dst_host_serror_rate  dst_host_srv_serror_rate  dst_host_rerror_rate  \\\n",
       "0                  0.00                      0.00                  0.05   \n",
       "1                  0.00                      0.00                  0.00   \n",
       "2                  1.00                      1.00                  0.00   \n",
       "3                  0.03                      0.01                  0.00   \n",
       "4                  0.00                      0.00                  0.00   \n",
       "\n",
       "   dst_host_srv_rerror_rate  target  \n",
       "0                      0.00       3  \n",
       "1                      0.00       3  \n",
       "2                      0.00       1  \n",
       "3                      0.01       3  \n",
       "4                      0.00       3  \n",
       "\n",
       "[5 rows x 42 columns]"
      ]
     },
     "execution_count": 14,
     "metadata": {},
     "output_type": "execute_result"
    }
   ],
   "source": [
    "df.head()"
   ]
  },
  {
   "cell_type": "code",
   "execution_count": 15,
   "id": "ab5c5615-fa58-4c6d-8df5-73bcc9d24fa1",
   "metadata": {},
   "outputs": [],
   "source": [
    "df_lis = np.array(df.values.tolist())"
   ]
  },
  {
   "cell_type": "code",
   "execution_count": 16,
   "id": "a707a55d-2191-4b28-853c-a40ebb4f7bb5",
   "metadata": {},
   "outputs": [],
   "source": [
    "from scipy.stats import pearsonr"
   ]
  },
  {
   "cell_type": "code",
   "execution_count": 17,
   "id": "e96b6b0e-e8fb-4d08-a3a9-fe6aaf185ef3",
   "metadata": {},
   "outputs": [],
   "source": [
    "features = np.array(df_lis[:,:-1])\n",
    "labels = np.array(df_lis[:,-1])"
   ]
  },
  {
   "cell_type": "code",
   "execution_count": 18,
   "id": "0327c182-992c-471d-9ba8-2f3a403f68bc",
   "metadata": {},
   "outputs": [
    {
     "data": {
      "text/plain": [
       "(125973, 41)"
      ]
     },
     "execution_count": 18,
     "metadata": {},
     "output_type": "execute_result"
    }
   ],
   "source": [
    "for i in range(np.shape(features)[1]):\n",
    "    if(np.std(features[:,i])!=0):\n",
    "        features[:,i] = (features[:,i]-np.mean(features[:,i]))/np.std(features[:,i]) \n",
    "    else:\n",
    "        features[:,i] = (features[:,i]-np.mean(features[:,i]))\n",
    "np.shape(features)"
   ]
  },
  {
   "cell_type": "code",
   "execution_count": 19,
   "id": "630656a7-3b1e-4940-a8ce-45c6c0b6b89c",
   "metadata": {},
   "outputs": [
    {
     "data": {
      "text/plain": [
       "((125973, 41), (125973,))"
      ]
     },
     "execution_count": 19,
     "metadata": {},
     "output_type": "execute_result"
    }
   ],
   "source": [
    "np.shape(features),np.shape(labels)"
   ]
  },
  {
   "cell_type": "code",
   "execution_count": 20,
   "id": "d78baa13-62d0-44f9-9d21-6aa62fc80008",
   "metadata": {},
   "outputs": [],
   "source": [
    "from sklearn.model_selection import train_test_split "
   ]
  },
  {
   "cell_type": "code",
   "execution_count": 21,
   "id": "f8b46c82-300e-4cc2-ae5c-f1c485578633",
   "metadata": {},
   "outputs": [],
   "source": [
    "train_X, test_X , train_Y ,test_Y = train_test_split(features,labels,random_state = 42,test_size = 0.1)"
   ]
  },
  {
   "cell_type": "code",
   "execution_count": 22,
   "id": "cb8fe055-378f-4de0-9175-d60f11884caa",
   "metadata": {},
   "outputs": [
    {
     "data": {
      "text/plain": [
       "{0.0, 1.0, 2.0, 3.0, 4.0}"
      ]
     },
     "execution_count": 22,
     "metadata": {},
     "output_type": "execute_result"
    }
   ],
   "source": [
    "set(train_Y)"
   ]
  },
  {
   "cell_type": "code",
   "execution_count": 24,
   "id": "47ba8e9a-7891-4de2-a9ab-b1efa262291a",
   "metadata": {},
   "outputs": [
    {
     "name": "stdout",
     "output_type": "stream",
     "text": [
      "(113375, 41) (12598, 41) (113375,) (12598,)\n"
     ]
    }
   ],
   "source": [
    "print(np.shape(train_X),np.shape(test_X),np.shape(train_Y),np.shape(test_Y))"
   ]
  },
  {
   "cell_type": "markdown",
   "id": "a7ca5b2f-40a8-4f6f-9d4d-885632699f7e",
   "metadata": {},
   "source": [
    "# Stacked Attention Auto Encoder"
   ]
  },
  {
   "cell_type": "markdown",
   "id": "22de135a-8483-476f-bf21-29658e15e464",
   "metadata": {},
   "source": [
    "### First Stack"
   ]
  },
  {
   "cell_type": "code",
   "execution_count": 25,
   "id": "5cbdc2d6-0d68-43c5-b86d-8789714290ac",
   "metadata": {},
   "outputs": [],
   "source": [
    "from keras.layers import *\n",
    "from keras.models import Model\n",
    "from keras_self_attention import SeqSelfAttention"
   ]
  },
  {
   "cell_type": "code",
   "execution_count": 26,
   "id": "d86da138-a431-47fe-90cf-085690cfafce",
   "metadata": {},
   "outputs": [
    {
     "name": "stderr",
     "output_type": "stream",
     "text": [
      "C:\\Users\\ArrunPersonal\\anaconda3\\lib\\site-packages\\keras\\initializers\\initializers_v2.py:120: UserWarning: The initializer GlorotNormal is unseeded and being called multiple times, which will return identical values  each time (even if the initializer is unseeded). Please update your code to provide a seed to the initializer, or avoid using the same initalizer instance more than once.\n",
      "  warnings.warn(\n"
     ]
    }
   ],
   "source": [
    "batch_size = 128\n",
    "input_dim = np.shape(train_X)[1]\n",
    "#Input Layer\n",
    "\n",
    "input_layer = Input(shape=(input_dim,1), name='input')\n",
    "#Attention Mechanism\n",
    "embedding = Embedding(input_dim=input_dim, output_dim=256)(input_layer)\n",
    "LSTM_layer = LSTM(units=128,return_sequences=True)(input_layer)\n",
    "attention = SeqSelfAttention(attention_activation='sigmoid')(input_layer)\n",
    "flatten = Flatten()(attention)\n",
    "#Encoder’s first dense layer\n",
    "encoder = Dense (128, activation='relu')(flatten)\n",
    "#Encoder’s second dense layer\n",
    "encoder = Dense (64, activation='relu')(encoder)\n",
    "# Code layer\n",
    "latent_layer = Dense (32, activation='relu',name = 'latent_1')(encoder)\n",
    "# Decoder’s first dense layer\n",
    "decoder = Dense(64, activation='relu')(latent_layer)\n",
    "# Decoder’s second dense layer\n",
    "decoder = Dense(128, activation='relu')(decoder)\n",
    "# Decoder’s Third dense layer\n",
    "decoder = Dense(256, activation='relu')(decoder)\n",
    "# Output Layer\n",
    "decoder = Dense(input_dim, activation='relu')(decoder)"
   ]
  },
  {
   "cell_type": "code",
   "execution_count": 27,
   "id": "44e82ea0-c414-4c62-b6b7-b264d2a8d50d",
   "metadata": {},
   "outputs": [],
   "source": [
    "autoencoder_1 = Model(inputs=input_layer, outputs=decoder)\n",
    "autoencoder_1.compile(metrics=['accuracy'],loss='mse',optimizer='adam')"
   ]
  },
  {
   "cell_type": "code",
   "execution_count": 28,
   "id": "b2dc9457-16b6-4196-a168-1a68bf872132",
   "metadata": {},
   "outputs": [
    {
     "name": "stdout",
     "output_type": "stream",
     "text": [
      "Model: \"model\"\n",
      "_________________________________________________________________\n",
      " Layer (type)                Output Shape              Param #   \n",
      "=================================================================\n",
      " input (InputLayer)          [(None, 41, 1)]           0         \n",
      "                                                                 \n",
      " seq_self_attention (SeqSelf  (None, 41, 1)            129       \n",
      " Attention)                                                      \n",
      "                                                                 \n",
      " flatten (Flatten)           (None, 41)                0         \n",
      "                                                                 \n",
      " dense (Dense)               (None, 128)               5376      \n",
      "                                                                 \n",
      " dense_1 (Dense)             (None, 64)                8256      \n",
      "                                                                 \n",
      " latent_1 (Dense)            (None, 32)                2080      \n",
      "                                                                 \n",
      " dense_2 (Dense)             (None, 64)                2112      \n",
      "                                                                 \n",
      " dense_3 (Dense)             (None, 128)               8320      \n",
      "                                                                 \n",
      " dense_4 (Dense)             (None, 256)               33024     \n",
      "                                                                 \n",
      " dense_5 (Dense)             (None, 41)                10537     \n",
      "                                                                 \n",
      "=================================================================\n",
      "Total params: 69,834\n",
      "Trainable params: 69,834\n",
      "Non-trainable params: 0\n",
      "_________________________________________________________________\n"
     ]
    }
   ],
   "source": [
    "autoencoder_1.summary()"
   ]
  },
  {
   "cell_type": "code",
   "execution_count": 29,
   "id": "6cc6c2f4-c05d-48eb-b44f-76fcf2b1127a",
   "metadata": {},
   "outputs": [],
   "source": [
    "callback = tf.keras.callbacks.EarlyStopping(monitor='val_loss', patience=8,restore_best_weights=True)"
   ]
  },
  {
   "cell_type": "code",
   "execution_count": 31,
   "id": "e417685c-9443-49e3-8a06-cad73ce75718",
   "metadata": {
    "tags": []
   },
   "outputs": [
    {
     "name": "stdout",
     "output_type": "stream",
     "text": [
      "Epoch 1/100\n",
      "886/886 [==============================] - 7s 8ms/step - loss: 0.6403 - accuracy: 0.5328 - val_loss: 0.5164 - val_accuracy: 0.4774\n",
      "Epoch 2/100\n",
      "886/886 [==============================] - 7s 8ms/step - loss: 0.6407 - accuracy: 0.5270 - val_loss: 0.5164 - val_accuracy: 0.5598\n",
      "Epoch 3/100\n",
      "886/886 [==============================] - 7s 8ms/step - loss: 0.6406 - accuracy: 0.5295 - val_loss: 0.5169 - val_accuracy: 0.5696\n",
      "Epoch 4/100\n",
      "886/886 [==============================] - 7s 8ms/step - loss: 0.6410 - accuracy: 0.5344 - val_loss: 0.5172 - val_accuracy: 0.5369\n",
      "Epoch 5/100\n",
      "886/886 [==============================] - 7s 8ms/step - loss: 0.6413 - accuracy: 0.5313 - val_loss: 0.5181 - val_accuracy: 0.4530\n",
      "Epoch 6/100\n",
      "886/886 [==============================] - 7s 8ms/step - loss: 0.6409 - accuracy: 0.5202 - val_loss: 0.5161 - val_accuracy: 0.5643\n",
      "Epoch 7/100\n",
      "886/886 [==============================] - 7s 8ms/step - loss: 0.6409 - accuracy: 0.5297 - val_loss: 0.5166 - val_accuracy: 0.5510\n",
      "Epoch 8/100\n",
      "886/886 [==============================] - 7s 7ms/step - loss: 0.6406 - accuracy: 0.5307 - val_loss: 0.5173 - val_accuracy: 0.5247\n",
      "Epoch 9/100\n",
      "886/886 [==============================] - 7s 8ms/step - loss: 0.6773 - accuracy: 0.5252 - val_loss: 0.5608 - val_accuracy: 0.5606\n",
      "Epoch 10/100\n",
      "886/886 [==============================] - 7s 8ms/step - loss: 0.6789 - accuracy: 0.5350 - val_loss: 0.5217 - val_accuracy: 0.4195\n",
      "Epoch 11/100\n",
      "886/886 [==============================] - 7s 8ms/step - loss: 0.6410 - accuracy: 0.5303 - val_loss: 0.5167 - val_accuracy: 0.5716\n",
      "Epoch 12/100\n",
      "886/886 [==============================] - 7s 8ms/step - loss: 0.6421 - accuracy: 0.5096 - val_loss: 0.4992 - val_accuracy: 0.4944\n",
      "Epoch 13/100\n",
      "886/886 [==============================] - 7s 8ms/step - loss: 0.6198 - accuracy: 0.5527 - val_loss: 0.4947 - val_accuracy: 0.5988\n",
      "Epoch 14/100\n",
      "886/886 [==============================] - 7s 8ms/step - loss: 0.6199 - accuracy: 0.5508 - val_loss: 0.4944 - val_accuracy: 0.5370\n",
      "Epoch 15/100\n",
      "886/886 [==============================] - 7s 8ms/step - loss: 0.6177 - accuracy: 0.5726 - val_loss: 0.4943 - val_accuracy: 0.5667\n",
      "Epoch 16/100\n",
      "886/886 [==============================] - 7s 8ms/step - loss: 0.6175 - accuracy: 0.5741 - val_loss: 0.5029 - val_accuracy: 0.4221\n",
      "Epoch 17/100\n",
      "886/886 [==============================] - 7s 8ms/step - loss: 0.6189 - accuracy: 0.5587 - val_loss: 0.4960 - val_accuracy: 0.5464\n",
      "Epoch 18/100\n",
      "886/886 [==============================] - 7s 8ms/step - loss: 0.6177 - accuracy: 0.5712 - val_loss: 0.4942 - val_accuracy: 0.5968\n",
      "Epoch 19/100\n",
      "886/886 [==============================] - 7s 8ms/step - loss: 0.6181 - accuracy: 0.5663 - val_loss: 0.4943 - val_accuracy: 0.5977\n",
      "Epoch 20/100\n",
      "886/886 [==============================] - 7s 8ms/step - loss: 0.6192 - accuracy: 0.5595 - val_loss: 0.4943 - val_accuracy: 0.5981\n",
      "Epoch 21/100\n",
      "886/886 [==============================] - 7s 8ms/step - loss: 0.6175 - accuracy: 0.5761 - val_loss: 0.4944 - val_accuracy: 0.6066\n",
      "Epoch 22/100\n",
      "886/886 [==============================] - 7s 8ms/step - loss: 0.6182 - accuracy: 0.5676 - val_loss: 0.4940 - val_accuracy: 0.5996\n",
      "Epoch 23/100\n",
      "886/886 [==============================] - 6s 6ms/step - loss: 0.6174 - accuracy: 0.5831 - val_loss: 0.4946 - val_accuracy: 0.5954\n",
      "Epoch 24/100\n",
      "886/886 [==============================] - 5s 5ms/step - loss: 0.6184 - accuracy: 0.5688 - val_loss: 0.4946 - val_accuracy: 0.6021\n",
      "Epoch 25/100\n",
      "886/886 [==============================] - 5s 5ms/step - loss: 0.6172 - accuracy: 0.5849 - val_loss: 0.4955 - val_accuracy: 0.4946\n",
      "Epoch 26/100\n",
      "886/886 [==============================] - 5s 5ms/step - loss: 0.6178 - accuracy: 0.5816 - val_loss: 0.4948 - val_accuracy: 0.5999\n",
      "Epoch 27/100\n",
      "886/886 [==============================] - 5s 5ms/step - loss: 0.6173 - accuracy: 0.5773 - val_loss: 0.4937 - val_accuracy: 0.6072\n",
      "Epoch 28/100\n",
      "886/886 [==============================] - 5s 5ms/step - loss: 0.6170 - accuracy: 0.5783 - val_loss: 0.4951 - val_accuracy: 0.5826\n",
      "Epoch 29/100\n",
      "886/886 [==============================] - 5s 6ms/step - loss: 0.6179 - accuracy: 0.5633 - val_loss: 0.4965 - val_accuracy: 0.4804\n",
      "Epoch 30/100\n",
      "886/886 [==============================] - 6s 6ms/step - loss: 0.6179 - accuracy: 0.5706 - val_loss: 0.4944 - val_accuracy: 0.5485\n",
      "Epoch 31/100\n",
      "886/886 [==============================] - 7s 8ms/step - loss: 0.6167 - accuracy: 0.5786 - val_loss: 0.4993 - val_accuracy: 0.4468\n",
      "Epoch 32/100\n",
      "886/886 [==============================] - 7s 8ms/step - loss: 0.6177 - accuracy: 0.5728 - val_loss: 0.4936 - val_accuracy: 0.6024\n",
      "Epoch 33/100\n",
      "886/886 [==============================] - 7s 8ms/step - loss: 0.6168 - accuracy: 0.5915 - val_loss: 0.5033 - val_accuracy: 0.2657\n",
      "Epoch 34/100\n",
      "886/886 [==============================] - 7s 8ms/step - loss: 0.6178 - accuracy: 0.5692 - val_loss: 0.4956 - val_accuracy: 0.5046\n",
      "Epoch 35/100\n",
      "886/886 [==============================] - 7s 8ms/step - loss: 0.6194 - accuracy: 0.5559 - val_loss: 0.4964 - val_accuracy: 0.5710\n",
      "Epoch 36/100\n",
      "886/886 [==============================] - 7s 8ms/step - loss: 0.6172 - accuracy: 0.5778 - val_loss: 0.4937 - val_accuracy: 0.5717\n",
      "Epoch 37/100\n",
      "886/886 [==============================] - 7s 8ms/step - loss: 0.6186 - accuracy: 0.5624 - val_loss: 0.4941 - val_accuracy: 0.6050\n",
      "Epoch 38/100\n",
      "886/886 [==============================] - 7s 8ms/step - loss: 0.6167 - accuracy: 0.5888 - val_loss: 0.4939 - val_accuracy: 0.5963\n",
      "Epoch 39/100\n",
      "886/886 [==============================] - 7s 8ms/step - loss: 0.6174 - accuracy: 0.5786 - val_loss: 0.4947 - val_accuracy: 0.5675\n",
      "Epoch 40/100\n",
      "886/886 [==============================] - 8s 9ms/step - loss: 0.6169 - accuracy: 0.5825 - val_loss: 0.4938 - val_accuracy: 0.6009\n"
     ]
    }
   ],
   "source": [
    "stack_1 = autoencoder_1.fit(train_X, train_X, epochs=100, batch_size=batch_size,validation_data = (test_X,test_X),callbacks = [callback])"
   ]
  },
  {
   "cell_type": "code",
   "execution_count": 33,
   "id": "73c733cc-fe54-4304-963d-ab2302b5bd81",
   "metadata": {},
   "outputs": [
    {
     "data": {
      "text/plain": [
       "dict_keys(['loss', 'accuracy', 'val_loss', 'val_accuracy'])"
      ]
     },
     "execution_count": 33,
     "metadata": {},
     "output_type": "execute_result"
    }
   ],
   "source": [
    "stack_1.history.keys()"
   ]
  },
  {
   "cell_type": "code",
   "execution_count": 34,
   "id": "e1649f9d-8bad-4b97-869f-e36ad74dec74",
   "metadata": {},
   "outputs": [
    {
     "name": "stdout",
     "output_type": "stream",
     "text": [
      "3937/3937 [==============================] - 12s 3ms/step\n"
     ]
    }
   ],
   "source": [
    "pred = autoencoder_1.predict(features)"
   ]
  },
  {
   "cell_type": "code",
   "execution_count": 35,
   "id": "7120ddc2-e9b4-4b5e-96a7-b349dcc06716",
   "metadata": {},
   "outputs": [],
   "source": [
    "from sklearn.metrics import *\n",
    "import keras"
   ]
  },
  {
   "cell_type": "code",
   "execution_count": 36,
   "id": "17b7ee1c-a309-40c0-ae0d-e23f39a29744",
   "metadata": {},
   "outputs": [
    {
     "data": {
      "text/plain": [
       "0.6041104356798558"
      ]
     },
     "execution_count": 36,
     "metadata": {},
     "output_type": "execute_result"
    }
   ],
   "source": [
    "np.sum(keras.losses.mean_squared_error(pred,features))/len(features)"
   ]
  },
  {
   "cell_type": "code",
   "execution_count": 37,
   "id": "68e44617-4d08-4b58-8846-6269ccd65304",
   "metadata": {},
   "outputs": [
    {
     "name": "stdout",
     "output_type": "stream",
     "text": [
      "3937/3937 [==============================] - 10s 3ms/step\n"
     ]
    }
   ],
   "source": [
    "layer_name = 'latent_1'\n",
    "intermediate_layer_model = Model(inputs=autoencoder_1.input,\n",
    "                                 outputs=autoencoder_1.get_layer(layer_name).output)\n",
    "intermediate_output_1 = intermediate_layer_model.predict(features)"
   ]
  },
  {
   "cell_type": "markdown",
   "id": "51066f18-39f8-4893-b3bc-04e17551dfff",
   "metadata": {},
   "source": [
    "### Second Stack"
   ]
  },
  {
   "cell_type": "code",
   "execution_count": 38,
   "id": "abdc2508-a574-4e06-bd97-8ba907761bc4",
   "metadata": {},
   "outputs": [],
   "source": [
    "batch_size = 128\n",
    "input_dim = np.shape(intermediate_output_1)[1]\n",
    "input_layer = Input(shape=(input_dim), name='input')\n",
    "#Input Layer\n",
    "encoder = Dense (128, activation='relu')(input_layer)\n",
    "#Encoder’s first dense layer\n",
    "encoder = Dense (64, activation='relu')(encoder)\n",
    "#Encoder’s second dense layer\n",
    "encoder = Dense (32, activation='relu')(encoder)\n",
    "# Code layer\n",
    "latent_layer = Dense (16, activation='relu',name = 'latent_2')(encoder)\n",
    "# Decoder’s first dense layer\n",
    "decoder = Dense(32, activation='relu')(latent_layer)\n",
    "# Decoder’s second dense layer\n",
    "decoder = Dense(64, activation='relu')(decoder)\n",
    "# Decoder’s Third dense layer\n",
    "decoder = Dense(128, activation='relu')(decoder)\n",
    "# Output Layer\n",
    "decoder = Dense(input_dim, activation='relu')(decoder)"
   ]
  },
  {
   "cell_type": "code",
   "execution_count": 39,
   "id": "703f25f3-52e9-40e7-b309-c949994785e1",
   "metadata": {},
   "outputs": [],
   "source": [
    "autoencoder_2 = Model(inputs=input_layer, outputs=decoder)\n",
    "autoencoder_2.compile(metrics=['accuracy'],loss='mse',optimizer='adam')"
   ]
  },
  {
   "cell_type": "code",
   "execution_count": 40,
   "id": "ecf05aa1-441f-4d6e-a1d4-1ac548d99d34",
   "metadata": {},
   "outputs": [
    {
     "name": "stdout",
     "output_type": "stream",
     "text": [
      "Model: \"model_2\"\n",
      "_________________________________________________________________\n",
      " Layer (type)                Output Shape              Param #   \n",
      "=================================================================\n",
      " input (InputLayer)          [(None, 32)]              0         \n",
      "                                                                 \n",
      " dense_6 (Dense)             (None, 128)               4224      \n",
      "                                                                 \n",
      " dense_7 (Dense)             (None, 64)                8256      \n",
      "                                                                 \n",
      " dense_8 (Dense)             (None, 32)                2080      \n",
      "                                                                 \n",
      " latent_2 (Dense)            (None, 16)                528       \n",
      "                                                                 \n",
      " dense_9 (Dense)             (None, 32)                544       \n",
      "                                                                 \n",
      " dense_10 (Dense)            (None, 64)                2112      \n",
      "                                                                 \n",
      " dense_11 (Dense)            (None, 128)               8320      \n",
      "                                                                 \n",
      " dense_12 (Dense)            (None, 32)                4128      \n",
      "                                                                 \n",
      "=================================================================\n",
      "Total params: 30,192\n",
      "Trainable params: 30,192\n",
      "Non-trainable params: 0\n",
      "_________________________________________________________________\n"
     ]
    }
   ],
   "source": [
    "autoencoder_2.summary()"
   ]
  },
  {
   "cell_type": "code",
   "execution_count": 41,
   "id": "c4e67d55-9610-437c-b8ef-a2bbf58d3091",
   "metadata": {},
   "outputs": [],
   "source": [
    "callback = tf.keras.callbacks.EarlyStopping(monitor='val_loss', patience=8,restore_best_weights=True)"
   ]
  },
  {
   "cell_type": "code",
   "execution_count": 42,
   "id": "33ea8da0-7bc1-4089-9d5e-11baadae5f6d",
   "metadata": {},
   "outputs": [],
   "source": [
    "train_intX, test_intX , train_intY ,test_intY = train_test_split(intermediate_output_1,labels,random_state = 42,test_size = 0.1)"
   ]
  },
  {
   "cell_type": "code",
   "execution_count": 43,
   "id": "b6519236-ab54-4bdb-be55-5cbb3a5a1fc6",
   "metadata": {
    "tags": []
   },
   "outputs": [
    {
     "name": "stdout",
     "output_type": "stream",
     "text": [
      "Epoch 1/100\n",
      "3543/3543 [==============================] - 24s 6ms/step - loss: 0.0256 - accuracy: 0.7814 - val_loss: 0.0101 - val_accuracy: 0.8768\n",
      "Epoch 2/100\n",
      "3543/3543 [==============================] - 23s 6ms/step - loss: 0.0154 - accuracy: 0.8703 - val_loss: 0.0179 - val_accuracy: 0.9043\n",
      "Epoch 3/100\n",
      "3543/3543 [==============================] - 23s 6ms/step - loss: 0.0158 - accuracy: 0.8782 - val_loss: 0.0124 - val_accuracy: 0.8942\n",
      "Epoch 4/100\n",
      "3543/3543 [==============================] - 23s 6ms/step - loss: 0.0171 - accuracy: 0.8618 - val_loss: 0.0140 - val_accuracy: 0.8562\n",
      "Epoch 5/100\n",
      "3543/3543 [==============================] - 23s 7ms/step - loss: 0.0143 - accuracy: 0.8741 - val_loss: 0.0077 - val_accuracy: 0.9094\n",
      "Epoch 6/100\n",
      "3543/3543 [==============================] - 23s 6ms/step - loss: 0.0146 - accuracy: 0.8820 - val_loss: 0.0142 - val_accuracy: 0.8488\n",
      "Epoch 7/100\n",
      "3543/3543 [==============================] - 22s 6ms/step - loss: 0.0152 - accuracy: 0.8770 - val_loss: 0.0197 - val_accuracy: 0.7624\n",
      "Epoch 8/100\n",
      "3543/3543 [==============================] - 22s 6ms/step - loss: 0.0154 - accuracy: 0.8822 - val_loss: 0.0128 - val_accuracy: 0.8705\n",
      "Epoch 9/100\n",
      "3543/3543 [==============================] - 24s 7ms/step - loss: 0.0097 - accuracy: 0.8953 - val_loss: 0.0051 - val_accuracy: 0.9190\n",
      "Epoch 10/100\n",
      "3543/3543 [==============================] - 24s 7ms/step - loss: 0.0138 - accuracy: 0.8721 - val_loss: 0.0084 - val_accuracy: 0.7638\n",
      "Epoch 11/100\n",
      "3543/3543 [==============================] - 24s 7ms/step - loss: 0.0120 - accuracy: 0.8800 - val_loss: 0.0068 - val_accuracy: 0.9133\n",
      "Epoch 12/100\n",
      "3543/3543 [==============================] - 23s 7ms/step - loss: 0.0121 - accuracy: 0.8890 - val_loss: 0.0155 - val_accuracy: 0.8647\n",
      "Epoch 13/100\n",
      "3543/3543 [==============================] - 24s 7ms/step - loss: 0.0133 - accuracy: 0.8833 - val_loss: 0.0091 - val_accuracy: 0.9197\n",
      "Epoch 14/100\n",
      "3543/3543 [==============================] - 23s 7ms/step - loss: 0.0117 - accuracy: 0.8798 - val_loss: 0.0163 - val_accuracy: 0.8433\n",
      "Epoch 15/100\n",
      "3543/3543 [==============================] - 23s 7ms/step - loss: 0.0112 - accuracy: 0.8862 - val_loss: 0.0078 - val_accuracy: 0.9014\n",
      "Epoch 16/100\n",
      "3543/3543 [==============================] - 23s 7ms/step - loss: 0.0087 - accuracy: 0.8939 - val_loss: 0.0105 - val_accuracy: 0.8353\n",
      "Epoch 17/100\n",
      "3543/3543 [==============================] - 23s 7ms/step - loss: 0.0108 - accuracy: 0.8869 - val_loss: 0.0089 - val_accuracy: 0.8903\n"
     ]
    }
   ],
   "source": [
    "stack_2 = autoencoder_2.fit(train_intX, train_intX, epochs=100, batch_size=32,callbacks = [callback],validation_data = (test_intX, test_intX))"
   ]
  },
  {
   "cell_type": "code",
   "execution_count": 44,
   "id": "4f2309d5-91d1-4c0a-b6ee-971076df0011",
   "metadata": {},
   "outputs": [
    {
     "name": "stdout",
     "output_type": "stream",
     "text": [
      "3937/3937 [==============================] - 9s 2ms/step\n"
     ]
    }
   ],
   "source": [
    "pred = autoencoder_2.predict(intermediate_output_1)"
   ]
  },
  {
   "cell_type": "code",
   "execution_count": 45,
   "id": "67886a6b-8950-4fdf-9258-974ed368a4f0",
   "metadata": {},
   "outputs": [
    {
     "data": {
      "text/plain": [
       "0.005782001687923702"
      ]
     },
     "execution_count": 45,
     "metadata": {},
     "output_type": "execute_result"
    }
   ],
   "source": [
    "np.sum(keras.losses.mean_squared_error(pred,intermediate_output_1))/len(intermediate_output_1)"
   ]
  },
  {
   "cell_type": "code",
   "execution_count": 46,
   "id": "82f9cf66-1bbc-4188-9ab3-e4a6fc8eeefc",
   "metadata": {},
   "outputs": [
    {
     "name": "stdout",
     "output_type": "stream",
     "text": [
      "3937/3937 [==============================] - 7s 2ms/step\n"
     ]
    }
   ],
   "source": [
    "layer_name = 'latent_2'\n",
    "intermediate_layer_model = Model(inputs=autoencoder_2.input,\n",
    "                                 outputs=autoencoder_2.get_layer(layer_name).output)\n",
    "intermediate_output_2 = intermediate_layer_model.predict(intermediate_output_1)"
   ]
  },
  {
   "cell_type": "markdown",
   "id": "705f51ae-5b72-44fe-9347-a5bc95afe895",
   "metadata": {},
   "source": [
    "### Classifier Model"
   ]
  },
  {
   "cell_type": "code",
   "execution_count": 47,
   "id": "e42990d5-e983-41a8-b543-7de9b750ab74",
   "metadata": {},
   "outputs": [],
   "source": [
    "batch_size = 32\n",
    "input_dim = np.shape(intermediate_output_2)[1]\n",
    "input_layer = Input(shape=(input_dim), name='input')\n",
    "#Input Layer\n",
    "dense1 = Dense (128, activation='relu')(input_layer)\n",
    "dense2 = Dense (64, activation='relu')(dense1)\n",
    "dense3 = Dense (8, activation='relu')(dense2)\n",
    "# Output Layer\n",
    "classifier = Dense(len(set(train_Y)), activation='softmax')(dense3)"
   ]
  },
  {
   "cell_type": "code",
   "execution_count": 49,
   "id": "61b5f89c-da19-4c1d-aeac-6480742079d1",
   "metadata": {},
   "outputs": [],
   "source": [
    "classify = Model(inputs=input_layer, outputs=classifier)\n",
    "classify.compile(metrics=['accuracy'],loss='sparse_categorical_crossentropy',optimizer='adam')"
   ]
  },
  {
   "cell_type": "code",
   "execution_count": 50,
   "id": "6fa99d49-fcff-4da8-baa3-81b120677889",
   "metadata": {},
   "outputs": [],
   "source": [
    "train_intX, test_intX , train_intY ,test_intY = train_test_split(intermediate_output_2,labels,random_state = 42,test_size = 0.1)"
   ]
  },
  {
   "cell_type": "code",
   "execution_count": 51,
   "id": "58791707-7c1c-4974-9244-fb445b644ccc",
   "metadata": {
    "tags": []
   },
   "outputs": [
    {
     "name": "stdout",
     "output_type": "stream",
     "text": [
      "Epoch 1/100\n",
      "3543/3543 [==============================] - 20s 5ms/step - loss: 0.1495 - accuracy: 0.9553 - val_loss: 0.0744 - val_accuracy: 0.9767\n",
      "Epoch 2/100\n",
      "3543/3543 [==============================] - 19s 5ms/step - loss: 0.0614 - accuracy: 0.9804 - val_loss: 0.0593 - val_accuracy: 0.9826\n",
      "Epoch 3/100\n",
      "3543/3543 [==============================] - 19s 5ms/step - loss: 0.0515 - accuracy: 0.9832 - val_loss: 0.0641 - val_accuracy: 0.9770\n",
      "Epoch 4/100\n",
      "3543/3543 [==============================] - 19s 5ms/step - loss: 0.0465 - accuracy: 0.9852 - val_loss: 0.0538 - val_accuracy: 0.9834\n",
      "Epoch 5/100\n",
      "3543/3543 [==============================] - 19s 5ms/step - loss: 0.0432 - accuracy: 0.9854 - val_loss: 0.0474 - val_accuracy: 0.9861\n",
      "Epoch 6/100\n",
      "3543/3543 [==============================] - 19s 5ms/step - loss: 0.0404 - accuracy: 0.9867 - val_loss: 0.0610 - val_accuracy: 0.9812\n",
      "Epoch 7/100\n",
      "3543/3543 [==============================] - 9s 3ms/step - loss: 0.0382 - accuracy: 0.9873 - val_loss: 0.0472 - val_accuracy: 0.9860\n",
      "Epoch 8/100\n",
      "3543/3543 [==============================] - 8s 2ms/step - loss: 0.0366 - accuracy: 0.9877 - val_loss: 0.0530 - val_accuracy: 0.9836\n",
      "Epoch 9/100\n",
      "3543/3543 [==============================] - 8s 2ms/step - loss: 0.0344 - accuracy: 0.9887 - val_loss: 0.0421 - val_accuracy: 0.9868\n",
      "Epoch 10/100\n",
      "3543/3543 [==============================] - 9s 3ms/step - loss: 0.0339 - accuracy: 0.9888 - val_loss: 0.0482 - val_accuracy: 0.9851\n",
      "Epoch 11/100\n",
      "3543/3543 [==============================] - 9s 2ms/step - loss: 0.0333 - accuracy: 0.9892 - val_loss: 0.0416 - val_accuracy: 0.9853\n",
      "Epoch 12/100\n",
      "3543/3543 [==============================] - 8s 2ms/step - loss: 0.0316 - accuracy: 0.9894 - val_loss: 0.0368 - val_accuracy: 0.9883\n",
      "Epoch 13/100\n",
      "3543/3543 [==============================] - 8s 2ms/step - loss: 0.0313 - accuracy: 0.9895 - val_loss: 0.0408 - val_accuracy: 0.9871\n",
      "Epoch 14/100\n",
      "3543/3543 [==============================] - 12s 4ms/step - loss: 0.0302 - accuracy: 0.9899 - val_loss: 0.0381 - val_accuracy: 0.9867\n",
      "Epoch 15/100\n",
      "3543/3543 [==============================] - 19s 5ms/step - loss: 0.0294 - accuracy: 0.9901 - val_loss: 0.0417 - val_accuracy: 0.9871\n",
      "Epoch 16/100\n",
      "3543/3543 [==============================] - 20s 6ms/step - loss: 0.0299 - accuracy: 0.9899 - val_loss: 0.0381 - val_accuracy: 0.9886\n",
      "Epoch 17/100\n",
      "3543/3543 [==============================] - 20s 6ms/step - loss: 0.0281 - accuracy: 0.9901 - val_loss: 0.0352 - val_accuracy: 0.9894\n",
      "Epoch 18/100\n",
      "3543/3543 [==============================] - 20s 6ms/step - loss: 0.0284 - accuracy: 0.9904 - val_loss: 0.0506 - val_accuracy: 0.9856\n",
      "Epoch 19/100\n",
      "3543/3543 [==============================] - 19s 5ms/step - loss: 0.0271 - accuracy: 0.9909 - val_loss: 0.0380 - val_accuracy: 0.9890\n",
      "Epoch 20/100\n",
      "3543/3543 [==============================] - 20s 6ms/step - loss: 0.0266 - accuracy: 0.9908 - val_loss: 0.0411 - val_accuracy: 0.9863\n",
      "Epoch 21/100\n",
      "3543/3543 [==============================] - 19s 6ms/step - loss: 0.0265 - accuracy: 0.9910 - val_loss: 0.0347 - val_accuracy: 0.9882\n",
      "Epoch 22/100\n",
      "3543/3543 [==============================] - 19s 5ms/step - loss: 0.0259 - accuracy: 0.9912 - val_loss: 0.0329 - val_accuracy: 0.9890\n",
      "Epoch 23/100\n",
      "3543/3543 [==============================] - 18s 5ms/step - loss: 0.0259 - accuracy: 0.9911 - val_loss: 0.0379 - val_accuracy: 0.9883\n",
      "Epoch 24/100\n",
      "3543/3543 [==============================] - 17s 5ms/step - loss: 0.0251 - accuracy: 0.9917 - val_loss: 0.0311 - val_accuracy: 0.9915\n",
      "Epoch 25/100\n",
      "3543/3543 [==============================] - 17s 5ms/step - loss: 0.0250 - accuracy: 0.9913 - val_loss: 0.0341 - val_accuracy: 0.9887\n",
      "Epoch 26/100\n",
      "3543/3543 [==============================] - 17s 5ms/step - loss: 0.0250 - accuracy: 0.9914 - val_loss: 0.0382 - val_accuracy: 0.9883\n",
      "Epoch 27/100\n",
      "3543/3543 [==============================] - 17s 5ms/step - loss: 0.0241 - accuracy: 0.9914 - val_loss: 0.0301 - val_accuracy: 0.9904\n",
      "Epoch 28/100\n",
      "3543/3543 [==============================] - 18s 5ms/step - loss: 0.0239 - accuracy: 0.9917 - val_loss: 0.0314 - val_accuracy: 0.9906\n",
      "Epoch 29/100\n",
      "3543/3543 [==============================] - 20s 6ms/step - loss: 0.0238 - accuracy: 0.9918 - val_loss: 0.0315 - val_accuracy: 0.9902\n",
      "Epoch 30/100\n",
      "3543/3543 [==============================] - 20s 6ms/step - loss: 0.0242 - accuracy: 0.9918 - val_loss: 0.0343 - val_accuracy: 0.9895\n",
      "Epoch 31/100\n",
      "3543/3543 [==============================] - 10s 3ms/step - loss: 0.0230 - accuracy: 0.9919 - val_loss: 0.0339 - val_accuracy: 0.9886\n",
      "Epoch 32/100\n",
      "3543/3543 [==============================] - 8s 2ms/step - loss: 0.0227 - accuracy: 0.9922 - val_loss: 0.0299 - val_accuracy: 0.9908\n",
      "Epoch 33/100\n",
      "3543/3543 [==============================] - 8s 2ms/step - loss: 0.0227 - accuracy: 0.9923 - val_loss: 0.0310 - val_accuracy: 0.9913\n",
      "Epoch 34/100\n",
      "3543/3543 [==============================] - 8s 2ms/step - loss: 0.0223 - accuracy: 0.9922 - val_loss: 0.0312 - val_accuracy: 0.9898\n",
      "Epoch 35/100\n",
      "3543/3543 [==============================] - 8s 2ms/step - loss: 0.0223 - accuracy: 0.9922 - val_loss: 0.0288 - val_accuracy: 0.9917\n",
      "Epoch 36/100\n",
      "3543/3543 [==============================] - 8s 2ms/step - loss: 0.0224 - accuracy: 0.9920 - val_loss: 0.0297 - val_accuracy: 0.9906\n",
      "Epoch 37/100\n",
      "3543/3543 [==============================] - 8s 2ms/step - loss: 0.0223 - accuracy: 0.9923 - val_loss: 0.0296 - val_accuracy: 0.9912\n",
      "Epoch 38/100\n",
      "3543/3543 [==============================] - 8s 2ms/step - loss: 0.0217 - accuracy: 0.9924 - val_loss: 0.0289 - val_accuracy: 0.9914\n",
      "Epoch 39/100\n",
      "3543/3543 [==============================] - 8s 2ms/step - loss: 0.0213 - accuracy: 0.9923 - val_loss: 0.0324 - val_accuracy: 0.9909\n",
      "Epoch 40/100\n",
      "3543/3543 [==============================] - 8s 2ms/step - loss: 0.0209 - accuracy: 0.9926 - val_loss: 0.0314 - val_accuracy: 0.9890\n",
      "Epoch 41/100\n",
      "3543/3543 [==============================] - 8s 2ms/step - loss: 0.0216 - accuracy: 0.9925 - val_loss: 0.0266 - val_accuracy: 0.9917\n",
      "Epoch 42/100\n",
      "3543/3543 [==============================] - 8s 2ms/step - loss: 0.0210 - accuracy: 0.9928 - val_loss: 0.0291 - val_accuracy: 0.9902\n",
      "Epoch 43/100\n",
      "3543/3543 [==============================] - 8s 2ms/step - loss: 0.0201 - accuracy: 0.9928 - val_loss: 0.0323 - val_accuracy: 0.9900\n",
      "Epoch 44/100\n",
      "3543/3543 [==============================] - 8s 2ms/step - loss: 0.0203 - accuracy: 0.9932 - val_loss: 0.0324 - val_accuracy: 0.9901\n",
      "Epoch 45/100\n",
      "3543/3543 [==============================] - 8s 2ms/step - loss: 0.0201 - accuracy: 0.9931 - val_loss: 0.0324 - val_accuracy: 0.9907\n",
      "Epoch 46/100\n",
      "3543/3543 [==============================] - 8s 2ms/step - loss: 0.0205 - accuracy: 0.9928 - val_loss: 0.0286 - val_accuracy: 0.9922\n",
      "Epoch 47/100\n",
      "3543/3543 [==============================] - 8s 2ms/step - loss: 0.0195 - accuracy: 0.9931 - val_loss: 0.0282 - val_accuracy: 0.9912\n",
      "Epoch 48/100\n",
      "3543/3543 [==============================] - 7s 2ms/step - loss: 0.0203 - accuracy: 0.9927 - val_loss: 0.0278 - val_accuracy: 0.9914\n",
      "Epoch 49/100\n",
      "3543/3543 [==============================] - 8s 2ms/step - loss: 0.0197 - accuracy: 0.9929 - val_loss: 0.0336 - val_accuracy: 0.9887\n"
     ]
    }
   ],
   "source": [
    "history = classify.fit(train_intX, train_intY, epochs=100, batch_size=32,callbacks = [callback],validation_data = (test_intX, test_intY))"
   ]
  },
  {
   "cell_type": "code",
   "execution_count": 52,
   "id": "3835f939-1e47-4ed9-9e94-41a990119a5a",
   "metadata": {},
   "outputs": [
    {
     "name": "stdout",
     "output_type": "stream",
     "text": [
      "394/394 [==============================] - 0s 1ms/step\n"
     ]
    }
   ],
   "source": [
    "preds = classify.predict(test_intX)"
   ]
  },
  {
   "cell_type": "code",
   "execution_count": 53,
   "id": "2d90d8aa-687a-437a-ba87-33e74ed2e502",
   "metadata": {},
   "outputs": [
    {
     "data": {
      "text/plain": [
       "((12598, 5), (12598,))"
      ]
     },
     "execution_count": 53,
     "metadata": {},
     "output_type": "execute_result"
    }
   ],
   "source": [
    "np.shape(preds),np.shape(test_intY)"
   ]
  },
  {
   "cell_type": "code",
   "execution_count": 54,
   "id": "827db2ea-1075-4822-a90e-db2b000a51e3",
   "metadata": {},
   "outputs": [
    {
     "data": {
      "text/plain": [
       "{0.0, 1.0, 2.0, 3.0, 4.0}"
      ]
     },
     "execution_count": 54,
     "metadata": {},
     "output_type": "execute_result"
    }
   ],
   "source": [
    "set(labels)"
   ]
  },
  {
   "cell_type": "code",
   "execution_count": 55,
   "id": "66420e44-e3ac-49a0-b475-7ac3892e68a6",
   "metadata": {},
   "outputs": [],
   "source": [
    "from sklearn.metrics import confusion_matrix\n",
    "conf_mat = confusion_matrix(np.argmax(preds,axis = 1), test_intY)"
   ]
  },
  {
   "cell_type": "code",
   "execution_count": 56,
   "id": "80596a4f-2000-4f04-bb7b-0815b7ced17d",
   "metadata": {},
   "outputs": [
    {
     "name": "stdout",
     "output_type": "stream",
     "text": [
      "0.9917447213843468\n",
      "0.7454787987469624\n",
      "0.7861249074744339\n",
      "0.7636205437423936\n"
     ]
    }
   ],
   "source": [
    "print(accuracy_score(np.argmax(preds,axis = 1),test_intY))\n",
    "print(precision_score(np.argmax(preds,axis = 1),test_intY,average = 'macro'))\n",
    "print(recall_score(np.argmax(preds,axis = 1),test_intY,average = 'macro'))\n",
    "print(f1_score(np.argmax(preds,axis = 1),test_intY,average = 'macro'))"
   ]
  },
  {
   "cell_type": "code",
   "execution_count": 57,
   "id": "5582266a-40c3-49cf-bf08-81fef2e5ec2f",
   "metadata": {},
   "outputs": [],
   "source": [
    "import seaborn as sns"
   ]
  },
  {
   "cell_type": "code",
   "execution_count": 58,
   "id": "f8fd906d-887d-4ad9-ab88-c4350bb4b179",
   "metadata": {},
   "outputs": [
    {
     "data": {
      "text/plain": [
       "<AxesSubplot:>"
      ]
     },
     "execution_count": 58,
     "metadata": {},
     "output_type": "execute_result"
    },
    {
     "data": {
      "image/png": "[encoded data removed]",
      "text/plain": [
       "<Figure size 432x288 with 2 Axes>"
      ]
     },
     "metadata": {
      "needs_background": "light"
     },
     "output_type": "display_data"
    }
   ],
   "source": [
    "sns.heatmap(conf_mat, annot=True)"
   ]
  }
 ],
 "metadata": {
  "kernelspec": {
   "display_name": "Python 3 (ipykernel)",
   "language": "python",
   "name": "python3"
  },
  "language_info": {
   "codemirror_mode": {
    "name": "ipython",
    "version": 3
   },
   "file_extension": ".py",
   "mimetype": "text/x-python",
   "name": "python",
   "nbconvert_exporter": "python",
   "pygments_lexer": "ipython3",
   "version": "3.9.7"
  }
 },
 "nbformat": 4,
 "nbformat_minor": 5
}
