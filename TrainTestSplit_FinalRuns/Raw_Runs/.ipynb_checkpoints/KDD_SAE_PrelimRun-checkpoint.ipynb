{
 "cells": [
  {
   "cell_type": "code",
   "execution_count": 1,
   "id": "1bf0b868-c909-466a-8382-431edfb1ca3c",
   "metadata": {},
   "outputs": [
    {
     "name": "stderr",
     "output_type": "stream",
     "text": [
      "C:\\Users\\ArrunPersonal\\anaconda3\\lib\\site-packages\\scipy\\__init__.py:146: UserWarning: A NumPy version >=1.16.5 and <1.23.0 is required for this version of SciPy (detected version 1.24.0\n",
      "  warnings.warn(f\"A NumPy version >={np_minversion} and <{np_maxversion}\"\n"
     ]
    }
   ],
   "source": [
    "import numpy as np\n",
    "import pandas as pd\n",
    "import matplotlib.pyplot as plt\n",
    "import os\n",
    "import tensorflow as tf"
   ]
  },
  {
   "cell_type": "code",
   "execution_count": null,
   "id": "c01bb8b3-930c-4bd9-9a3f-5d07ce77b4ac",
   "metadata": {},
   "outputs": [],
   "source": [
    "feature = [\"duration\",\"protocol_type\",\"service\",\"flag\",\"src_bytes\",\n",
    "    \"dst_bytes\",\"land\",\"wrong_fragment\",\"urgent\",\"hot\",\"num_failed_logins\",\n",
    "    \"logged_in\",\"num_compromised\",\"root_shell\",\"su_attempted\",\"num_root\",\n",
    "    \"num_file_creations\",\"num_shells\",\"num_access_files\",\"num_outbound_cmds\",\n",
    "    \"is_host_login\",\"is_guest_login\",\"count\",\"srv_count\",\"serror_rate\",\n",
    "    \"srv_serror_rate\",\"rerror_rate\",\"srv_rerror_rate\",\"same_srv_rate\",\n",
    "    \"diff_srv_rate\",\"srv_diff_host_rate\",\"dst_host_count\",\"dst_host_srv_count\",\n",
    "    \"dst_host_same_srv_rate\",\"dst_host_diff_srv_rate\",\"dst_host_same_src_port_rate\",\n",
    "    \"dst_host_srv_diff_host_rate\",\"dst_host_serror_rate\",\"dst_host_srv_serror_rate\",\n",
    "    \"dst_host_rerror_rate\",\"dst_host_srv_rerror_rate\",\"target\",\"junk\"]"
   ]
  },
  {
   "cell_type": "code",
   "execution_count": 3,
   "id": "40536131-3ade-4777-9ac3-c1f2e6025ac7",
   "metadata": {},
   "outputs": [],
   "source": [
    "os.chdir(\"C:/Users/ArrunPersonal/Codes/Semester7/IDS/NSL-KDD\")"
   ]
  },
  {
   "cell_type": "code",
   "execution_count": 4,
   "id": "84364c10-8b89-45fa-8a3a-881de73b44aa",
   "metadata": {},
   "outputs": [],
   "source": [
    "df1 = pd.read_csv(\"KDDTrain+.csv\", names = feature)\n",
    "df2 = pd.read_csv(\"KDDTest+.csv\", names = feature)\n",
    "df = pd.concat([df1, df2], axis=0)\n",
    "df.drop([\"junk\"],axis = 1,inplace = True)"
   ]
  },
  {
   "cell_type": "code",
   "execution_count": 5,
   "id": "3fbe8575-19ab-460a-ad78-e5cff17205a5",
   "metadata": {},
   "outputs": [
    {
     "data": {
      "text/plain": [
       "False"
      ]
     },
     "execution_count": 5,
     "metadata": {},
     "output_type": "execute_result"
    }
   ],
   "source": [
    "df2.isnull().values.any()"
   ]
  },
  {
   "cell_type": "code",
   "execution_count": 6,
   "id": "5156c38d-0cd4-4fe0-b633-eaa3f29769a5",
   "metadata": {},
   "outputs": [
    {
     "data": {
      "text/html": [
       "<div>\n",
       "<style scoped>\n",
       "    .dataframe tbody tr th:only-of-type {\n",
       "        vertical-align: middle;\n",
       "    }\n",
       "\n",
       "    .dataframe tbody tr th {\n",
       "        vertical-align: top;\n",
       "    }\n",
       "\n",
       "    .dataframe thead th {\n",
       "        text-align: right;\n",
       "    }\n",
       "</style>\n",
       "<table border=\"1\" class=\"dataframe\">\n",
       "  <thead>\n",
       "    <tr style=\"text-align: right;\">\n",
       "      <th></th>\n",
       "      <th>duration</th>\n",
       "      <th>protocol_type</th>\n",
       "      <th>service</th>\n",
       "      <th>flag</th>\n",
       "      <th>src_bytes</th>\n",
       "      <th>dst_bytes</th>\n",
       "      <th>land</th>\n",
       "      <th>wrong_fragment</th>\n",
       "      <th>urgent</th>\n",
       "      <th>hot</th>\n",
       "      <th>...</th>\n",
       "      <th>dst_host_srv_count</th>\n",
       "      <th>dst_host_same_srv_rate</th>\n",
       "      <th>dst_host_diff_srv_rate</th>\n",
       "      <th>dst_host_same_src_port_rate</th>\n",
       "      <th>dst_host_srv_diff_host_rate</th>\n",
       "      <th>dst_host_serror_rate</th>\n",
       "      <th>dst_host_srv_serror_rate</th>\n",
       "      <th>dst_host_rerror_rate</th>\n",
       "      <th>dst_host_srv_rerror_rate</th>\n",
       "      <th>target</th>\n",
       "    </tr>\n",
       "  </thead>\n",
       "  <tbody>\n",
       "    <tr>\n",
       "      <th>0</th>\n",
       "      <td>0</td>\n",
       "      <td>tcp</td>\n",
       "      <td>ftp_data</td>\n",
       "      <td>SF</td>\n",
       "      <td>491</td>\n",
       "      <td>0</td>\n",
       "      <td>0</td>\n",
       "      <td>0</td>\n",
       "      <td>0</td>\n",
       "      <td>0</td>\n",
       "      <td>...</td>\n",
       "      <td>25</td>\n",
       "      <td>0.17</td>\n",
       "      <td>0.03</td>\n",
       "      <td>0.17</td>\n",
       "      <td>0.00</td>\n",
       "      <td>0.00</td>\n",
       "      <td>0.00</td>\n",
       "      <td>0.05</td>\n",
       "      <td>0.00</td>\n",
       "      <td>normal</td>\n",
       "    </tr>\n",
       "    <tr>\n",
       "      <th>1</th>\n",
       "      <td>0</td>\n",
       "      <td>udp</td>\n",
       "      <td>other</td>\n",
       "      <td>SF</td>\n",
       "      <td>146</td>\n",
       "      <td>0</td>\n",
       "      <td>0</td>\n",
       "      <td>0</td>\n",
       "      <td>0</td>\n",
       "      <td>0</td>\n",
       "      <td>...</td>\n",
       "      <td>1</td>\n",
       "      <td>0.00</td>\n",
       "      <td>0.60</td>\n",
       "      <td>0.88</td>\n",
       "      <td>0.00</td>\n",
       "      <td>0.00</td>\n",
       "      <td>0.00</td>\n",
       "      <td>0.00</td>\n",
       "      <td>0.00</td>\n",
       "      <td>normal</td>\n",
       "    </tr>\n",
       "    <tr>\n",
       "      <th>2</th>\n",
       "      <td>0</td>\n",
       "      <td>tcp</td>\n",
       "      <td>private</td>\n",
       "      <td>S0</td>\n",
       "      <td>0</td>\n",
       "      <td>0</td>\n",
       "      <td>0</td>\n",
       "      <td>0</td>\n",
       "      <td>0</td>\n",
       "      <td>0</td>\n",
       "      <td>...</td>\n",
       "      <td>26</td>\n",
       "      <td>0.10</td>\n",
       "      <td>0.05</td>\n",
       "      <td>0.00</td>\n",
       "      <td>0.00</td>\n",
       "      <td>1.00</td>\n",
       "      <td>1.00</td>\n",
       "      <td>0.00</td>\n",
       "      <td>0.00</td>\n",
       "      <td>neptune</td>\n",
       "    </tr>\n",
       "    <tr>\n",
       "      <th>3</th>\n",
       "      <td>0</td>\n",
       "      <td>tcp</td>\n",
       "      <td>http</td>\n",
       "      <td>SF</td>\n",
       "      <td>232</td>\n",
       "      <td>8153</td>\n",
       "      <td>0</td>\n",
       "      <td>0</td>\n",
       "      <td>0</td>\n",
       "      <td>0</td>\n",
       "      <td>...</td>\n",
       "      <td>255</td>\n",
       "      <td>1.00</td>\n",
       "      <td>0.00</td>\n",
       "      <td>0.03</td>\n",
       "      <td>0.04</td>\n",
       "      <td>0.03</td>\n",
       "      <td>0.01</td>\n",
       "      <td>0.00</td>\n",
       "      <td>0.01</td>\n",
       "      <td>normal</td>\n",
       "    </tr>\n",
       "    <tr>\n",
       "      <th>4</th>\n",
       "      <td>0</td>\n",
       "      <td>tcp</td>\n",
       "      <td>http</td>\n",
       "      <td>SF</td>\n",
       "      <td>199</td>\n",
       "      <td>420</td>\n",
       "      <td>0</td>\n",
       "      <td>0</td>\n",
       "      <td>0</td>\n",
       "      <td>0</td>\n",
       "      <td>...</td>\n",
       "      <td>255</td>\n",
       "      <td>1.00</td>\n",
       "      <td>0.00</td>\n",
       "      <td>0.00</td>\n",
       "      <td>0.00</td>\n",
       "      <td>0.00</td>\n",
       "      <td>0.00</td>\n",
       "      <td>0.00</td>\n",
       "      <td>0.00</td>\n",
       "      <td>normal</td>\n",
       "    </tr>\n",
       "  </tbody>\n",
       "</table>\n",
       "<p>5 rows × 42 columns</p>\n",
       "</div>"
      ],
      "text/plain": [
       "   duration protocol_type   service flag  src_bytes  dst_bytes  land  \\\n",
       "0         0           tcp  ftp_data   SF        491          0     0   \n",
       "1         0           udp     other   SF        146          0     0   \n",
       "2         0           tcp   private   S0          0          0     0   \n",
       "3         0           tcp      http   SF        232       8153     0   \n",
       "4         0           tcp      http   SF        199        420     0   \n",
       "\n",
       "   wrong_fragment  urgent  hot  ...  dst_host_srv_count  \\\n",
       "0               0       0    0  ...                  25   \n",
       "1               0       0    0  ...                   1   \n",
       "2               0       0    0  ...                  26   \n",
       "3               0       0    0  ...                 255   \n",
       "4               0       0    0  ...                 255   \n",
       "\n",
       "   dst_host_same_srv_rate  dst_host_diff_srv_rate  \\\n",
       "0                    0.17                    0.03   \n",
       "1                    0.00                    0.60   \n",
       "2                    0.10                    0.05   \n",
       "3                    1.00                    0.00   \n",
       "4                    1.00                    0.00   \n",
       "\n",
       "   dst_host_same_src_port_rate  dst_host_srv_diff_host_rate  \\\n",
       "0                         0.17                         0.00   \n",
       "1                         0.88                         0.00   \n",
       "2                         0.00                         0.00   \n",
       "3                         0.03                         0.04   \n",
       "4                         0.00                         0.00   \n",
       "\n",
       "   dst_host_serror_rate  dst_host_srv_serror_rate  dst_host_rerror_rate  \\\n",
       "0                  0.00                      0.00                  0.05   \n",
       "1                  0.00                      0.00                  0.00   \n",
       "2                  1.00                      1.00                  0.00   \n",
       "3                  0.03                      0.01                  0.00   \n",
       "4                  0.00                      0.00                  0.00   \n",
       "\n",
       "   dst_host_srv_rerror_rate   target  \n",
       "0                      0.00   normal  \n",
       "1                      0.00   normal  \n",
       "2                      0.00  neptune  \n",
       "3                      0.01   normal  \n",
       "4                      0.00   normal  \n",
       "\n",
       "[5 rows x 42 columns]"
      ]
     },
     "execution_count": 6,
     "metadata": {},
     "output_type": "execute_result"
    }
   ],
   "source": [
    "df.head()"
   ]
  },
  {
   "cell_type": "code",
   "execution_count": 7,
   "id": "55dab8da-b0ab-40d7-a7b8-72fb965459cc",
   "metadata": {},
   "outputs": [],
   "source": [
    "protocol_dict = dict(zip(set(df['protocol_type']),np.arange(len(set(df['protocol_type'])))))\n",
    "service_dict = dict(zip(set(df['service']),np.arange(len(set(df['service'])))))\n",
    "flag_dict = dict(zip(set(df['flag']),np.arange(len(set(df['flag'])))))"
   ]
  },
  {
   "cell_type": "code",
   "execution_count": 8,
   "id": "0bdb4b00-8c4d-41eb-aefc-88c49de6ac8c",
   "metadata": {},
   "outputs": [],
   "source": [
    "# changing attack labels to their respective attack class\n",
    "def change_feature(df):\n",
    "    df.target.replace(['apache2','back','land','neptune','mailbomb','pod','processtable','smurf','teardrop','udpstorm','worm'],'Dos',inplace=True)\n",
    "    df.target.replace(['ftp_write','guess_passwd','httptunnel','imap','multihop','named','phf','sendmail','snmpgetattack','snmpguess','spy','warezclient','warezmaster','xlock','xsnoop'],'R2L',inplace=True)      \n",
    "    df.target.replace(['ipsweep','mscan','nmap','portsweep','saint','satan'],'Probe',inplace=True)\n",
    "    df.target.replace(['buffer_overflow','loadmodule','perl','ps','rootkit','sqlattack','xterm'],'U2R',inplace=True)\n",
    "    \n",
    "    df.protocol_type.replace(protocol_dict.keys(),protocol_dict.values(),inplace=True)\n",
    "    df.service.replace(service_dict.keys(),service_dict.values(),inplace=True)\n",
    "    df.flag.replace(flag_dict.keys(),flag_dict.values(),inplace=True)"
   ]
  },
  {
   "cell_type": "code",
   "execution_count": 9,
   "id": "d7967ffd-6d6d-4ab3-b30e-f42ed7f96d5f",
   "metadata": {},
   "outputs": [],
   "source": [
    "change_feature(df)"
   ]
  },
  {
   "cell_type": "code",
   "execution_count": 10,
   "id": "8b26c684-a757-4180-8e33-82979a2e216a",
   "metadata": {},
   "outputs": [],
   "source": [
    "target_dict = dict(zip(set(df['target']),np.arange(len(set(df['target'])))))"
   ]
  },
  {
   "cell_type": "code",
   "execution_count": 11,
   "id": "410c0811-b1dd-4b02-a3f5-2000c64e7000",
   "metadata": {},
   "outputs": [],
   "source": [
    "def change_target(df):\n",
    "    df.target.replace(target_dict.keys(),target_dict.values(),inplace=True)"
   ]
  },
  {
   "cell_type": "code",
   "execution_count": 12,
   "id": "34dd9a32-72fc-4ff2-a215-ce6bb0fb8086",
   "metadata": {},
   "outputs": [],
   "source": [
    "change_target(df)"
   ]
  },
  {
   "cell_type": "code",
   "execution_count": 13,
   "id": "f15b3693-fd32-4536-9fcd-9cbe1a6c1ec6",
   "metadata": {},
   "outputs": [
    {
     "data": {
      "text/html": [
       "<div>\n",
       "<style scoped>\n",
       "    .dataframe tbody tr th:only-of-type {\n",
       "        vertical-align: middle;\n",
       "    }\n",
       "\n",
       "    .dataframe tbody tr th {\n",
       "        vertical-align: top;\n",
       "    }\n",
       "\n",
       "    .dataframe thead th {\n",
       "        text-align: right;\n",
       "    }\n",
       "</style>\n",
       "<table border=\"1\" class=\"dataframe\">\n",
       "  <thead>\n",
       "    <tr style=\"text-align: right;\">\n",
       "      <th></th>\n",
       "      <th>duration</th>\n",
       "      <th>protocol_type</th>\n",
       "      <th>service</th>\n",
       "      <th>flag</th>\n",
       "      <th>src_bytes</th>\n",
       "      <th>dst_bytes</th>\n",
       "      <th>land</th>\n",
       "      <th>wrong_fragment</th>\n",
       "      <th>urgent</th>\n",
       "      <th>hot</th>\n",
       "      <th>...</th>\n",
       "      <th>dst_host_srv_count</th>\n",
       "      <th>dst_host_same_srv_rate</th>\n",
       "      <th>dst_host_diff_srv_rate</th>\n",
       "      <th>dst_host_same_src_port_rate</th>\n",
       "      <th>dst_host_srv_diff_host_rate</th>\n",
       "      <th>dst_host_serror_rate</th>\n",
       "      <th>dst_host_srv_serror_rate</th>\n",
       "      <th>dst_host_rerror_rate</th>\n",
       "      <th>dst_host_srv_rerror_rate</th>\n",
       "      <th>target</th>\n",
       "    </tr>\n",
       "  </thead>\n",
       "  <tbody>\n",
       "    <tr>\n",
       "      <th>0</th>\n",
       "      <td>0</td>\n",
       "      <td>2</td>\n",
       "      <td>26</td>\n",
       "      <td>8</td>\n",
       "      <td>491</td>\n",
       "      <td>0</td>\n",
       "      <td>0</td>\n",
       "      <td>0</td>\n",
       "      <td>0</td>\n",
       "      <td>0</td>\n",
       "      <td>...</td>\n",
       "      <td>25</td>\n",
       "      <td>0.17</td>\n",
       "      <td>0.03</td>\n",
       "      <td>0.17</td>\n",
       "      <td>0.00</td>\n",
       "      <td>0.00</td>\n",
       "      <td>0.00</td>\n",
       "      <td>0.05</td>\n",
       "      <td>0.00</td>\n",
       "      <td>1</td>\n",
       "    </tr>\n",
       "    <tr>\n",
       "      <th>1</th>\n",
       "      <td>0</td>\n",
       "      <td>1</td>\n",
       "      <td>50</td>\n",
       "      <td>8</td>\n",
       "      <td>146</td>\n",
       "      <td>0</td>\n",
       "      <td>0</td>\n",
       "      <td>0</td>\n",
       "      <td>0</td>\n",
       "      <td>0</td>\n",
       "      <td>...</td>\n",
       "      <td>1</td>\n",
       "      <td>0.00</td>\n",
       "      <td>0.60</td>\n",
       "      <td>0.88</td>\n",
       "      <td>0.00</td>\n",
       "      <td>0.00</td>\n",
       "      <td>0.00</td>\n",
       "      <td>0.00</td>\n",
       "      <td>0.00</td>\n",
       "      <td>1</td>\n",
       "    </tr>\n",
       "    <tr>\n",
       "      <th>2</th>\n",
       "      <td>0</td>\n",
       "      <td>2</td>\n",
       "      <td>67</td>\n",
       "      <td>0</td>\n",
       "      <td>0</td>\n",
       "      <td>0</td>\n",
       "      <td>0</td>\n",
       "      <td>0</td>\n",
       "      <td>0</td>\n",
       "      <td>0</td>\n",
       "      <td>...</td>\n",
       "      <td>26</td>\n",
       "      <td>0.10</td>\n",
       "      <td>0.05</td>\n",
       "      <td>0.00</td>\n",
       "      <td>0.00</td>\n",
       "      <td>1.00</td>\n",
       "      <td>1.00</td>\n",
       "      <td>0.00</td>\n",
       "      <td>0.00</td>\n",
       "      <td>0</td>\n",
       "    </tr>\n",
       "    <tr>\n",
       "      <th>3</th>\n",
       "      <td>0</td>\n",
       "      <td>2</td>\n",
       "      <td>37</td>\n",
       "      <td>8</td>\n",
       "      <td>232</td>\n",
       "      <td>8153</td>\n",
       "      <td>0</td>\n",
       "      <td>0</td>\n",
       "      <td>0</td>\n",
       "      <td>0</td>\n",
       "      <td>...</td>\n",
       "      <td>255</td>\n",
       "      <td>1.00</td>\n",
       "      <td>0.00</td>\n",
       "      <td>0.03</td>\n",
       "      <td>0.04</td>\n",
       "      <td>0.03</td>\n",
       "      <td>0.01</td>\n",
       "      <td>0.00</td>\n",
       "      <td>0.01</td>\n",
       "      <td>1</td>\n",
       "    </tr>\n",
       "    <tr>\n",
       "      <th>4</th>\n",
       "      <td>0</td>\n",
       "      <td>2</td>\n",
       "      <td>37</td>\n",
       "      <td>8</td>\n",
       "      <td>199</td>\n",
       "      <td>420</td>\n",
       "      <td>0</td>\n",
       "      <td>0</td>\n",
       "      <td>0</td>\n",
       "      <td>0</td>\n",
       "      <td>...</td>\n",
       "      <td>255</td>\n",
       "      <td>1.00</td>\n",
       "      <td>0.00</td>\n",
       "      <td>0.00</td>\n",
       "      <td>0.00</td>\n",
       "      <td>0.00</td>\n",
       "      <td>0.00</td>\n",
       "      <td>0.00</td>\n",
       "      <td>0.00</td>\n",
       "      <td>1</td>\n",
       "    </tr>\n",
       "  </tbody>\n",
       "</table>\n",
       "<p>5 rows × 42 columns</p>\n",
       "</div>"
      ],
      "text/plain": [
       "   duration  protocol_type  service  flag  src_bytes  dst_bytes  land  \\\n",
       "0         0              2       26     8        491          0     0   \n",
       "1         0              1       50     8        146          0     0   \n",
       "2         0              2       67     0          0          0     0   \n",
       "3         0              2       37     8        232       8153     0   \n",
       "4         0              2       37     8        199        420     0   \n",
       "\n",
       "   wrong_fragment  urgent  hot  ...  dst_host_srv_count  \\\n",
       "0               0       0    0  ...                  25   \n",
       "1               0       0    0  ...                   1   \n",
       "2               0       0    0  ...                  26   \n",
       "3               0       0    0  ...                 255   \n",
       "4               0       0    0  ...                 255   \n",
       "\n",
       "   dst_host_same_srv_rate  dst_host_diff_srv_rate  \\\n",
       "0                    0.17                    0.03   \n",
       "1                    0.00                    0.60   \n",
       "2                    0.10                    0.05   \n",
       "3                    1.00                    0.00   \n",
       "4                    1.00                    0.00   \n",
       "\n",
       "   dst_host_same_src_port_rate  dst_host_srv_diff_host_rate  \\\n",
       "0                         0.17                         0.00   \n",
       "1                         0.88                         0.00   \n",
       "2                         0.00                         0.00   \n",
       "3                         0.03                         0.04   \n",
       "4                         0.00                         0.00   \n",
       "\n",
       "   dst_host_serror_rate  dst_host_srv_serror_rate  dst_host_rerror_rate  \\\n",
       "0                  0.00                      0.00                  0.05   \n",
       "1                  0.00                      0.00                  0.00   \n",
       "2                  1.00                      1.00                  0.00   \n",
       "3                  0.03                      0.01                  0.00   \n",
       "4                  0.00                      0.00                  0.00   \n",
       "\n",
       "   dst_host_srv_rerror_rate  target  \n",
       "0                      0.00       1  \n",
       "1                      0.00       1  \n",
       "2                      0.00       0  \n",
       "3                      0.01       1  \n",
       "4                      0.00       1  \n",
       "\n",
       "[5 rows x 42 columns]"
      ]
     },
     "execution_count": 13,
     "metadata": {},
     "output_type": "execute_result"
    }
   ],
   "source": [
    "df.head()"
   ]
  },
  {
   "cell_type": "code",
   "execution_count": 14,
   "id": "ab5c5615-fa58-4c6d-8df5-73bcc9d24fa1",
   "metadata": {},
   "outputs": [],
   "source": [
    "df_lis = np.array(df.values.tolist())"
   ]
  },
  {
   "cell_type": "code",
   "execution_count": 15,
   "id": "a707a55d-2191-4b28-853c-a40ebb4f7bb5",
   "metadata": {},
   "outputs": [],
   "source": [
    "from scipy.stats import pearsonr"
   ]
  },
  {
   "cell_type": "code",
   "execution_count": 16,
   "id": "e96b6b0e-e8fb-4d08-a3a9-fe6aaf185ef3",
   "metadata": {},
   "outputs": [],
   "source": [
    "features = np.array(df_lis[:,:-1])\n",
    "labels = np.array(df_lis[:,-1])"
   ]
  },
  {
   "cell_type": "code",
   "execution_count": 17,
   "id": "0327c182-992c-471d-9ba8-2f3a403f68bc",
   "metadata": {},
   "outputs": [
    {
     "data": {
      "text/plain": [
       "(148517, 41)"
      ]
     },
     "execution_count": 17,
     "metadata": {},
     "output_type": "execute_result"
    }
   ],
   "source": [
    "for i in range(np.shape(features)[1]):\n",
    "    if(np.std(features[:,i])!=0):\n",
    "        features[:,i] = (features[:,i]-np.mean(features[:,i]))/np.std(features[:,i]) \n",
    "    else:\n",
    "        features[:,i] = (features[:,i]-np.mean(features[:,i]))\n",
    "np.shape(features)"
   ]
  },
  {
   "cell_type": "code",
   "execution_count": 18,
   "id": "630656a7-3b1e-4940-a8ce-45c6c0b6b89c",
   "metadata": {},
   "outputs": [
    {
     "data": {
      "text/plain": [
       "((148517, 41), (148517,))"
      ]
     },
     "execution_count": 18,
     "metadata": {},
     "output_type": "execute_result"
    }
   ],
   "source": [
    "np.shape(features),np.shape(labels)"
   ]
  },
  {
   "cell_type": "code",
   "execution_count": 19,
   "id": "e714b21b-68ca-4606-9f87-c13ff5a0bd13",
   "metadata": {},
   "outputs": [],
   "source": [
    "train_X = features[:len(df1)]\n",
    "test_X = features[len(df1):]\n",
    "train_Y = labels[:len(df1)]\n",
    "test_Y = labels[len(df1):]"
   ]
  },
  {
   "cell_type": "code",
   "execution_count": 20,
   "id": "d78baa13-62d0-44f9-9d21-6aa62fc80008",
   "metadata": {},
   "outputs": [],
   "source": [
    "from sklearn.model_selection import train_test_split "
   ]
  },
  {
   "cell_type": "code",
   "execution_count": 21,
   "id": "f8b46c82-300e-4cc2-ae5c-f1c485578633",
   "metadata": {},
   "outputs": [],
   "source": [
    "train_X, val_X , train_Y ,val_Y = train_test_split(train_X,train_Y,random_state = 42,test_size = 0.1)"
   ]
  },
  {
   "cell_type": "code",
   "execution_count": 22,
   "id": "cb8fe055-378f-4de0-9175-d60f11884caa",
   "metadata": {},
   "outputs": [
    {
     "data": {
      "text/plain": [
       "{0.0, 1.0, 2.0, 3.0, 4.0}"
      ]
     },
     "execution_count": 22,
     "metadata": {},
     "output_type": "execute_result"
    }
   ],
   "source": [
    "set(train_Y)"
   ]
  },
  {
   "cell_type": "code",
   "execution_count": 23,
   "id": "47ba8e9a-7891-4de2-a9ab-b1efa262291a",
   "metadata": {},
   "outputs": [
    {
     "name": "stdout",
     "output_type": "stream",
     "text": [
      "(113375, 41) (22544, 41) (12598, 41) (113375,) (22544,) (12598,)\n"
     ]
    }
   ],
   "source": [
    "print(np.shape(train_X),np.shape(test_X),np.shape(val_X),np.shape(train_Y),np.shape(test_Y),np.shape(val_Y))"
   ]
  },
  {
   "cell_type": "markdown",
   "id": "a7ca5b2f-40a8-4f6f-9d4d-885632699f7e",
   "metadata": {},
   "source": [
    "# Stacked Attention Auto Encoder"
   ]
  },
  {
   "cell_type": "markdown",
   "id": "22de135a-8483-476f-bf21-29658e15e464",
   "metadata": {},
   "source": [
    "### First Stack"
   ]
  },
  {
   "cell_type": "code",
   "execution_count": 24,
   "id": "5cbdc2d6-0d68-43c5-b86d-8789714290ac",
   "metadata": {},
   "outputs": [],
   "source": [
    "from keras.layers import *\n",
    "from keras.models import Model\n",
    "from keras_self_attention import SeqSelfAttention"
   ]
  },
  {
   "cell_type": "code",
   "execution_count": 31,
   "id": "d86da138-a431-47fe-90cf-085690cfafce",
   "metadata": {},
   "outputs": [],
   "source": [
    "batch_size = 128\n",
    "input_dim = np.shape(train_X)[1]\n",
    "#Input Layer\n",
    "\n",
    "input_layer = Input(shape=(input_dim), name='input')\n",
    "#Encoder’s first dense layer\n",
    "encoder = Dense (128, activation='relu')(input_layer)\n",
    "#Encoder’s second dense layer\n",
    "encoder = Dense (64, activation='relu')(encoder)\n",
    "# Code layer\n",
    "latent_layer = Dense (32, activation='relu',name = 'latent_1')(encoder)\n",
    "# Decoder’s first dense layer\n",
    "decoder = Dense(64, activation='relu')(latent_layer)\n",
    "# Decoder’s second dense layer\n",
    "decoder = Dense(128, activation='relu')(decoder)\n",
    "# Decoder’s Third dense layer\n",
    "decoder = Dense(256, activation='relu')(decoder)\n",
    "# Output Layer\n",
    "decoder = Dense(input_dim, activation='relu')(decoder)"
   ]
  },
  {
   "cell_type": "code",
   "execution_count": 32,
   "id": "44e82ea0-c414-4c62-b6b7-b264d2a8d50d",
   "metadata": {},
   "outputs": [],
   "source": [
    "autoencoder_1 = Model(inputs=input_layer, outputs=decoder)\n",
    "autoencoder_1.compile(metrics=['accuracy'],loss='mse',optimizer='adam')"
   ]
  },
  {
   "cell_type": "code",
   "execution_count": 33,
   "id": "b2dc9457-16b6-4196-a168-1a68bf872132",
   "metadata": {},
   "outputs": [
    {
     "name": "stdout",
     "output_type": "stream",
     "text": [
      "Model: \"model_1\"\n",
      "_________________________________________________________________\n",
      " Layer (type)                Output Shape              Param #   \n",
      "=================================================================\n",
      " input (InputLayer)          [(None, 41)]              0         \n",
      "                                                                 \n",
      " dense_7 (Dense)             (None, 128)               5376      \n",
      "                                                                 \n",
      " dense_8 (Dense)             (None, 64)                8256      \n",
      "                                                                 \n",
      " latent_1 (Dense)            (None, 32)                2080      \n",
      "                                                                 \n",
      " dense_9 (Dense)             (None, 64)                2112      \n",
      "                                                                 \n",
      " dense_10 (Dense)            (None, 128)               8320      \n",
      "                                                                 \n",
      " dense_11 (Dense)            (None, 256)               33024     \n",
      "                                                                 \n",
      " dense_12 (Dense)            (None, 41)                10537     \n",
      "                                                                 \n",
      "=================================================================\n",
      "Total params: 69,705\n",
      "Trainable params: 69,705\n",
      "Non-trainable params: 0\n",
      "_________________________________________________________________\n"
     ]
    }
   ],
   "source": [
    "autoencoder_1.summary()"
   ]
  },
  {
   "cell_type": "code",
   "execution_count": 34,
   "id": "6cc6c2f4-c05d-48eb-b44f-76fcf2b1127a",
   "metadata": {},
   "outputs": [],
   "source": [
    "callback = tf.keras.callbacks.EarlyStopping(monitor='val_loss', patience=8,restore_best_weights=True)"
   ]
  },
  {
   "cell_type": "code",
   "execution_count": 35,
   "id": "e417685c-9443-49e3-8a06-cad73ce75718",
   "metadata": {
    "tags": []
   },
   "outputs": [
    {
     "name": "stdout",
     "output_type": "stream",
     "text": [
      "Epoch 1/100\n",
      "886/886 [==============================] - 3s 3ms/step - loss: 0.6773 - accuracy: 0.2633 - val_loss: 0.5190 - val_accuracy: 0.3731\n",
      "Epoch 2/100\n",
      "886/886 [==============================] - 2s 3ms/step - loss: 0.6373 - accuracy: 0.3656 - val_loss: 0.5043 - val_accuracy: 0.3536\n",
      "Epoch 3/100\n",
      "886/886 [==============================] - 2s 3ms/step - loss: 0.6275 - accuracy: 0.3772 - val_loss: 0.5037 - val_accuracy: 0.3922\n",
      "Epoch 4/100\n",
      "886/886 [==============================] - 2s 3ms/step - loss: 0.6271 - accuracy: 0.3815 - val_loss: 0.5035 - val_accuracy: 0.3890\n",
      "Epoch 5/100\n",
      "886/886 [==============================] - 2s 3ms/step - loss: 0.6270 - accuracy: 0.3818 - val_loss: 0.5030 - val_accuracy: 0.3978\n",
      "Epoch 6/100\n",
      "886/886 [==============================] - 2s 3ms/step - loss: 0.6328 - accuracy: 0.3702 - val_loss: 0.5255 - val_accuracy: 0.3646\n",
      "Epoch 7/100\n",
      "886/886 [==============================] - 2s 3ms/step - loss: 0.6481 - accuracy: 0.3588 - val_loss: 0.5249 - val_accuracy: 0.3452\n",
      "Epoch 8/100\n",
      "886/886 [==============================] - 3s 3ms/step - loss: 0.6478 - accuracy: 0.3632 - val_loss: 0.5249 - val_accuracy: 0.3728\n",
      "Epoch 9/100\n",
      "886/886 [==============================] - 2s 3ms/step - loss: 0.6477 - accuracy: 0.3649 - val_loss: 0.5247 - val_accuracy: 0.3730\n",
      "Epoch 10/100\n",
      "886/886 [==============================] - 2s 3ms/step - loss: 0.6459 - accuracy: 0.3593 - val_loss: 0.5201 - val_accuracy: 0.3712\n",
      "Epoch 11/100\n",
      "886/886 [==============================] - 2s 3ms/step - loss: 0.6430 - accuracy: 0.3622 - val_loss: 0.5203 - val_accuracy: 0.3705\n",
      "Epoch 12/100\n",
      "886/886 [==============================] - 2s 3ms/step - loss: 0.6410 - accuracy: 0.3638 - val_loss: 0.4995 - val_accuracy: 0.3707\n",
      "Epoch 13/100\n",
      "886/886 [==============================] - 2s 3ms/step - loss: 0.6425 - accuracy: 0.3650 - val_loss: 0.5197 - val_accuracy: 0.3704\n",
      "Epoch 14/100\n",
      "886/886 [==============================] - 3s 3ms/step - loss: 0.6456 - accuracy: 0.3648 - val_loss: 0.4970 - val_accuracy: 0.3700\n",
      "Epoch 15/100\n",
      "886/886 [==============================] - 3s 3ms/step - loss: 0.6137 - accuracy: 0.3686 - val_loss: 0.4760 - val_accuracy: 0.3976\n",
      "Epoch 16/100\n",
      "886/886 [==============================] - 3s 3ms/step - loss: 0.5972 - accuracy: 0.3868 - val_loss: 0.4736 - val_accuracy: 0.3940\n",
      "Epoch 17/100\n",
      "886/886 [==============================] - 3s 3ms/step - loss: 0.5937 - accuracy: 0.3884 - val_loss: 0.4718 - val_accuracy: 0.3926\n",
      "Epoch 18/100\n",
      "886/886 [==============================] - 3s 3ms/step - loss: 0.5926 - accuracy: 0.3905 - val_loss: 0.4718 - val_accuracy: 0.3887\n",
      "Epoch 19/100\n",
      "886/886 [==============================] - 3s 3ms/step - loss: 0.5784 - accuracy: 0.3776 - val_loss: 0.4380 - val_accuracy: 0.3801\n",
      "Epoch 20/100\n",
      "886/886 [==============================] - 2s 3ms/step - loss: 0.5555 - accuracy: 0.3891 - val_loss: 0.4321 - val_accuracy: 0.4029\n",
      "Epoch 21/100\n",
      "886/886 [==============================] - 3s 3ms/step - loss: 0.5562 - accuracy: 0.3886 - val_loss: 0.4407 - val_accuracy: 0.3990\n",
      "Epoch 22/100\n",
      "886/886 [==============================] - 3s 3ms/step - loss: 0.5644 - accuracy: 0.3849 - val_loss: 0.4331 - val_accuracy: 0.3967\n",
      "Epoch 23/100\n",
      "886/886 [==============================] - 3s 3ms/step - loss: 0.5541 - accuracy: 0.3912 - val_loss: 0.4322 - val_accuracy: 0.4012\n",
      "Epoch 24/100\n",
      "886/886 [==============================] - 3s 3ms/step - loss: 0.5552 - accuracy: 0.3938 - val_loss: 0.4319 - val_accuracy: 0.3973\n",
      "Epoch 25/100\n",
      "886/886 [==============================] - 3s 3ms/step - loss: 0.5535 - accuracy: 0.3943 - val_loss: 0.4325 - val_accuracy: 0.4027\n",
      "Epoch 26/100\n",
      "886/886 [==============================] - 3s 3ms/step - loss: 0.5535 - accuracy: 0.3947 - val_loss: 0.4316 - val_accuracy: 0.4036\n",
      "Epoch 27/100\n",
      "886/886 [==============================] - 3s 3ms/step - loss: 0.5535 - accuracy: 0.3931 - val_loss: 0.4329 - val_accuracy: 0.4028\n",
      "Epoch 28/100\n",
      "886/886 [==============================] - 3s 3ms/step - loss: 0.5544 - accuracy: 0.3946 - val_loss: 0.4328 - val_accuracy: 0.4005\n",
      "Epoch 29/100\n",
      "886/886 [==============================] - 3s 3ms/step - loss: 0.5529 - accuracy: 0.3947 - val_loss: 0.4337 - val_accuracy: 0.4024\n",
      "Epoch 30/100\n",
      "886/886 [==============================] - 3s 3ms/step - loss: 0.5525 - accuracy: 0.3955 - val_loss: 0.4316 - val_accuracy: 0.4040\n",
      "Epoch 31/100\n",
      "886/886 [==============================] - 3s 3ms/step - loss: 0.5549 - accuracy: 0.3908 - val_loss: 0.4325 - val_accuracy: 0.3956\n",
      "Epoch 32/100\n",
      "886/886 [==============================] - 2s 3ms/step - loss: 0.5534 - accuracy: 0.3937 - val_loss: 0.4333 - val_accuracy: 0.4011\n",
      "Epoch 33/100\n",
      "886/886 [==============================] - 3s 3ms/step - loss: 0.5541 - accuracy: 0.3946 - val_loss: 0.4318 - val_accuracy: 0.3971\n",
      "Epoch 34/100\n",
      "886/886 [==============================] - 3s 3ms/step - loss: 0.5521 - accuracy: 0.3966 - val_loss: 0.4314 - val_accuracy: 0.4069\n",
      "Epoch 35/100\n",
      "886/886 [==============================] - 3s 3ms/step - loss: 0.5537 - accuracy: 0.3944 - val_loss: 0.4316 - val_accuracy: 0.4033\n",
      "Epoch 36/100\n",
      "886/886 [==============================] - 3s 3ms/step - loss: 0.5531 - accuracy: 0.3962 - val_loss: 0.4321 - val_accuracy: 0.3996\n",
      "Epoch 37/100\n",
      "886/886 [==============================] - 3s 3ms/step - loss: 0.5533 - accuracy: 0.3944 - val_loss: 0.4318 - val_accuracy: 0.3997\n",
      "Epoch 38/100\n",
      "886/886 [==============================] - 3s 3ms/step - loss: 0.5526 - accuracy: 0.3967 - val_loss: 0.4318 - val_accuracy: 0.3906\n",
      "Epoch 39/100\n",
      "886/886 [==============================] - 3s 3ms/step - loss: 0.5529 - accuracy: 0.3961 - val_loss: 0.4314 - val_accuracy: 0.4028\n",
      "Epoch 40/100\n",
      "886/886 [==============================] - 3s 3ms/step - loss: 0.5522 - accuracy: 0.3961 - val_loss: 0.4316 - val_accuracy: 0.4053\n",
      "Epoch 41/100\n",
      "886/886 [==============================] - 3s 3ms/step - loss: 0.5526 - accuracy: 0.3950 - val_loss: 0.4320 - val_accuracy: 0.4020\n",
      "Epoch 42/100\n",
      "886/886 [==============================] - 3s 3ms/step - loss: 0.5530 - accuracy: 0.3946 - val_loss: 0.4364 - val_accuracy: 0.3651\n"
     ]
    }
   ],
   "source": [
    "stack_1 = autoencoder_1.fit(train_X, train_X, epochs=100, batch_size=batch_size,validation_data = (val_X,val_X),callbacks = [callback])"
   ]
  },
  {
   "cell_type": "code",
   "execution_count": 36,
   "id": "e1649f9d-8bad-4b97-869f-e36ad74dec74",
   "metadata": {},
   "outputs": [
    {
     "name": "stdout",
     "output_type": "stream",
     "text": [
      "4642/4642 [==============================] - 4s 905us/step\n"
     ]
    }
   ],
   "source": [
    "pred = autoencoder_1.predict(features)"
   ]
  },
  {
   "cell_type": "code",
   "execution_count": 37,
   "id": "7120ddc2-e9b4-4b5e-96a7-b349dcc06716",
   "metadata": {},
   "outputs": [],
   "source": [
    "from sklearn.metrics import *\n",
    "import keras"
   ]
  },
  {
   "cell_type": "code",
   "execution_count": 38,
   "id": "17b7ee1c-a309-40c0-ae0d-e23f39a29744",
   "metadata": {},
   "outputs": [
    {
     "data": {
      "text/plain": [
       "0.5857734376864099"
      ]
     },
     "execution_count": 38,
     "metadata": {},
     "output_type": "execute_result"
    }
   ],
   "source": [
    "np.sum(keras.losses.mean_squared_error(pred,features))/len(features)"
   ]
  },
  {
   "cell_type": "code",
   "execution_count": 39,
   "id": "68e44617-4d08-4b58-8846-6269ccd65304",
   "metadata": {},
   "outputs": [
    {
     "name": "stdout",
     "output_type": "stream",
     "text": [
      "4642/4642 [==============================] - 3s 616us/step\n"
     ]
    }
   ],
   "source": [
    "layer_name = 'latent_1'\n",
    "intermediate_layer_model = Model(inputs=autoencoder_1.input,\n",
    "                                 outputs=autoencoder_1.get_layer(layer_name).output)\n",
    "intermediate_output_1 = intermediate_layer_model.predict(features)"
   ]
  },
  {
   "cell_type": "markdown",
   "id": "51066f18-39f8-4893-b3bc-04e17551dfff",
   "metadata": {},
   "source": [
    "### Second Stack"
   ]
  },
  {
   "cell_type": "code",
   "execution_count": 40,
   "id": "abdc2508-a574-4e06-bd97-8ba907761bc4",
   "metadata": {},
   "outputs": [],
   "source": [
    "batch_size = 128\n",
    "input_dim = np.shape(intermediate_output_1)[1]\n",
    "input_layer = Input(shape=(input_dim), name='input')\n",
    "#Input Layer\n",
    "encoder = Dense (128, activation='relu')(input_layer)\n",
    "#Encoder’s first dense layer\n",
    "encoder = Dense (64, activation='relu')(encoder)\n",
    "#Encoder’s second dense layer\n",
    "encoder = Dense (32, activation='relu')(encoder)\n",
    "# Code layer\n",
    "latent_layer = Dense (16, activation='relu',name = 'latent_2')(encoder)\n",
    "# Decoder’s first dense layer\n",
    "decoder = Dense(32, activation='relu')(latent_layer)\n",
    "# Decoder’s second dense layer\n",
    "decoder = Dense(64, activation='relu')(decoder)\n",
    "# Decoder’s Third dense layer\n",
    "decoder = Dense(128, activation='relu')(decoder)\n",
    "# Output Layer\n",
    "decoder = Dense(input_dim, activation='relu')(decoder)"
   ]
  },
  {
   "cell_type": "code",
   "execution_count": 41,
   "id": "703f25f3-52e9-40e7-b309-c949994785e1",
   "metadata": {},
   "outputs": [],
   "source": [
    "autoencoder_2 = Model(inputs=input_layer, outputs=decoder)\n",
    "autoencoder_2.compile(metrics=['accuracy'],loss='mse',optimizer='adam')"
   ]
  },
  {
   "cell_type": "code",
   "execution_count": 42,
   "id": "ecf05aa1-441f-4d6e-a1d4-1ac548d99d34",
   "metadata": {},
   "outputs": [
    {
     "name": "stdout",
     "output_type": "stream",
     "text": [
      "Model: \"model_3\"\n",
      "_________________________________________________________________\n",
      " Layer (type)                Output Shape              Param #   \n",
      "=================================================================\n",
      " input (InputLayer)          [(None, 32)]              0         \n",
      "                                                                 \n",
      " dense_13 (Dense)            (None, 128)               4224      \n",
      "                                                                 \n",
      " dense_14 (Dense)            (None, 64)                8256      \n",
      "                                                                 \n",
      " dense_15 (Dense)            (None, 32)                2080      \n",
      "                                                                 \n",
      " latent_2 (Dense)            (None, 16)                528       \n",
      "                                                                 \n",
      " dense_16 (Dense)            (None, 32)                544       \n",
      "                                                                 \n",
      " dense_17 (Dense)            (None, 64)                2112      \n",
      "                                                                 \n",
      " dense_18 (Dense)            (None, 128)               8320      \n",
      "                                                                 \n",
      " dense_19 (Dense)            (None, 32)                4128      \n",
      "                                                                 \n",
      "=================================================================\n",
      "Total params: 30,192\n",
      "Trainable params: 30,192\n",
      "Non-trainable params: 0\n",
      "_________________________________________________________________\n"
     ]
    }
   ],
   "source": [
    "autoencoder_2.summary()"
   ]
  },
  {
   "cell_type": "code",
   "execution_count": 43,
   "id": "c4e67d55-9610-437c-b8ef-a2bbf58d3091",
   "metadata": {},
   "outputs": [],
   "source": [
    "callback = tf.keras.callbacks.EarlyStopping(monitor='val_loss', patience=8,restore_best_weights=True)"
   ]
  },
  {
   "cell_type": "code",
   "execution_count": 44,
   "id": "fe7aeaa6-e26b-4844-84ab-d26473ebe51d",
   "metadata": {},
   "outputs": [],
   "source": [
    "train_intX = intermediate_output_1[:len(df1)]\n",
    "test_intX = intermediate_output_1[len(df1):]\n",
    "train_intY = labels[:len(df1)]\n",
    "test_intY = labels[len(df1):]"
   ]
  },
  {
   "cell_type": "code",
   "execution_count": 45,
   "id": "33ea8da0-7bc1-4089-9d5e-11baadae5f6d",
   "metadata": {},
   "outputs": [],
   "source": [
    "train_intX, val_intX , train_intY ,val_intY = train_test_split(train_intX,train_intY,random_state = 42,test_size = 0.1)"
   ]
  },
  {
   "cell_type": "code",
   "execution_count": 46,
   "id": "b6519236-ab54-4bdb-be55-5cbb3a5a1fc6",
   "metadata": {
    "tags": []
   },
   "outputs": [
    {
     "name": "stdout",
     "output_type": "stream",
     "text": [
      "Epoch 1/100\n",
      "3543/3543 [==============================] - 12s 3ms/step - loss: 0.3502 - accuracy: 0.7707 - val_loss: 0.2399 - val_accuracy: 0.8307\n",
      "Epoch 2/100\n",
      "3543/3543 [==============================] - 12s 3ms/step - loss: 0.2668 - accuracy: 0.8416 - val_loss: 0.2335 - val_accuracy: 0.8802\n",
      "Epoch 3/100\n",
      "3543/3543 [==============================] - 10s 3ms/step - loss: 0.2628 - accuracy: 0.8528 - val_loss: 0.2309 - val_accuracy: 0.8652\n",
      "Epoch 4/100\n",
      "3543/3543 [==============================] - 12s 3ms/step - loss: 0.2466 - accuracy: 0.8549 - val_loss: 0.1956 - val_accuracy: 0.8520\n",
      "Epoch 5/100\n",
      "3543/3543 [==============================] - 12s 3ms/step - loss: 0.2086 - accuracy: 0.8726 - val_loss: 0.1900 - val_accuracy: 0.8386\n",
      "Epoch 6/100\n",
      "3543/3543 [==============================] - 11s 3ms/step - loss: 0.2183 - accuracy: 0.8787 - val_loss: 0.1669 - val_accuracy: 0.9146\n",
      "Epoch 7/100\n",
      "3543/3543 [==============================] - 12s 3ms/step - loss: 0.1979 - accuracy: 0.8863 - val_loss: 0.1692 - val_accuracy: 0.8219\n",
      "Epoch 8/100\n",
      "3543/3543 [==============================] - 10s 3ms/step - loss: 0.2000 - accuracy: 0.8769 - val_loss: 0.1641 - val_accuracy: 0.8906\n",
      "Epoch 9/100\n",
      "3543/3543 [==============================] - 12s 3ms/step - loss: 0.1922 - accuracy: 0.8845 - val_loss: 0.1626 - val_accuracy: 0.9011\n",
      "Epoch 10/100\n",
      "3543/3543 [==============================] - 10s 3ms/step - loss: 0.1890 - accuracy: 0.8892 - val_loss: 0.1810 - val_accuracy: 0.8109\n",
      "Epoch 11/100\n",
      "3543/3543 [==============================] - 12s 3ms/step - loss: 0.1985 - accuracy: 0.8707 - val_loss: 0.1650 - val_accuracy: 0.8830\n",
      "Epoch 12/100\n",
      "3543/3543 [==============================] - 12s 3ms/step - loss: 0.2027 - accuracy: 0.8643 - val_loss: 0.1649 - val_accuracy: 0.9063\n",
      "Epoch 13/100\n",
      "3543/3543 [==============================] - 12s 3ms/step - loss: 0.1862 - accuracy: 0.8774 - val_loss: 0.1845 - val_accuracy: 0.8545\n",
      "Epoch 14/100\n",
      "3543/3543 [==============================] - 12s 3ms/step - loss: 0.1865 - accuracy: 0.8796 - val_loss: 0.1657 - val_accuracy: 0.8837\n",
      "Epoch 15/100\n",
      "3543/3543 [==============================] - 11s 3ms/step - loss: 0.1900 - accuracy: 0.8795 - val_loss: 0.1644 - val_accuracy: 0.8839\n",
      "Epoch 16/100\n",
      "3543/3543 [==============================] - 12s 3ms/step - loss: 0.1965 - accuracy: 0.8943 - val_loss: 0.1635 - val_accuracy: 0.9277\n",
      "Epoch 17/100\n",
      "3543/3543 [==============================] - 10s 3ms/step - loss: 0.1903 - accuracy: 0.8978 - val_loss: 0.1628 - val_accuracy: 0.8975\n"
     ]
    }
   ],
   "source": [
    "stack_2 = autoencoder_2.fit(train_intX, train_intX, epochs=100, batch_size=32,callbacks = [callback],validation_data = (val_intX, val_intX))"
   ]
  },
  {
   "cell_type": "code",
   "execution_count": 47,
   "id": "4f2309d5-91d1-4c0a-b6ee-971076df0011",
   "metadata": {},
   "outputs": [
    {
     "name": "stdout",
     "output_type": "stream",
     "text": [
      "4642/4642 [==============================] - 4s 882us/step\n"
     ]
    }
   ],
   "source": [
    "pred = autoencoder_2.predict(intermediate_output_1)"
   ]
  },
  {
   "cell_type": "code",
   "execution_count": 48,
   "id": "67886a6b-8950-4fdf-9258-974ed368a4f0",
   "metadata": {},
   "outputs": [
    {
     "data": {
      "text/plain": [
       "0.17865831436805213"
      ]
     },
     "execution_count": 48,
     "metadata": {},
     "output_type": "execute_result"
    }
   ],
   "source": [
    "np.sum(keras.losses.mean_squared_error(pred,intermediate_output_1))/len(intermediate_output_1)"
   ]
  },
  {
   "cell_type": "code",
   "execution_count": 49,
   "id": "82f9cf66-1bbc-4188-9ab3-e4a6fc8eeefc",
   "metadata": {},
   "outputs": [
    {
     "name": "stdout",
     "output_type": "stream",
     "text": [
      "4642/4642 [==============================] - 3s 624us/step\n"
     ]
    }
   ],
   "source": [
    "layer_name = 'latent_2'\n",
    "intermediate_layer_model = Model(inputs=autoencoder_2.input,\n",
    "                                 outputs=autoencoder_2.get_layer(layer_name).output)\n",
    "intermediate_output_2 = intermediate_layer_model.predict(intermediate_output_1)"
   ]
  },
  {
   "cell_type": "markdown",
   "id": "705f51ae-5b72-44fe-9347-a5bc95afe895",
   "metadata": {},
   "source": [
    "### Classifier Model"
   ]
  },
  {
   "cell_type": "code",
   "execution_count": 50,
   "id": "e42990d5-e983-41a8-b543-7de9b750ab74",
   "metadata": {},
   "outputs": [],
   "source": [
    "batch_size = 32\n",
    "input_dim = np.shape(intermediate_output_2)[1]\n",
    "input_layer = Input(shape=(input_dim), name='input')\n",
    "#Input Layer\n",
    "dense1 = Dense (128, activation='relu')(input_layer)\n",
    "dense2 = Dense (64, activation='relu')(dense1)\n",
    "dense3 = Dense (8, activation='relu')(dense2)\n",
    "# Output Layer\n",
    "classifier = Dense(len(set(train_Y)), activation='softmax')(dense3)"
   ]
  },
  {
   "cell_type": "code",
   "execution_count": 51,
   "id": "61b5f89c-da19-4c1d-aeac-6480742079d1",
   "metadata": {},
   "outputs": [],
   "source": [
    "classify = Model(inputs=input_layer, outputs=classifier)\n",
    "classify.compile(metrics=['accuracy'],loss='sparse_categorical_crossentropy',optimizer='adam')"
   ]
  },
  {
   "cell_type": "code",
   "execution_count": 52,
   "id": "5f16222d-bbaf-41ca-a946-3878215bbb03",
   "metadata": {},
   "outputs": [],
   "source": [
    "train_intX = intermediate_output_2[:len(df1)]\n",
    "test_intX = intermediate_output_2[len(df1):]\n",
    "train_intY = labels[:len(df1)]\n",
    "test_intY = labels[len(df1):]"
   ]
  },
  {
   "cell_type": "code",
   "execution_count": 53,
   "id": "6fa99d49-fcff-4da8-baa3-81b120677889",
   "metadata": {},
   "outputs": [],
   "source": [
    "train_intX, val_intX , train_intY ,val_intY = train_test_split(train_intX,train_intY,random_state = 42,test_size = 0.1)"
   ]
  },
  {
   "cell_type": "code",
   "execution_count": 54,
   "id": "58791707-7c1c-4974-9244-fb445b644ccc",
   "metadata": {
    "tags": []
   },
   "outputs": [
    {
     "name": "stdout",
     "output_type": "stream",
     "text": [
      "Epoch 1/100\n",
      "3543/3543 [==============================] - 8s 2ms/step - loss: 0.1459 - accuracy: 0.9565 - val_loss: 0.0746 - val_accuracy: 0.9733\n",
      "Epoch 2/100\n",
      "3543/3543 [==============================] - 7s 2ms/step - loss: 0.0597 - accuracy: 0.9799 - val_loss: 0.0709 - val_accuracy: 0.9731\n",
      "Epoch 3/100\n",
      "3543/3543 [==============================] - 7s 2ms/step - loss: 0.0519 - accuracy: 0.9827 - val_loss: 0.0525 - val_accuracy: 0.9862\n",
      "Epoch 4/100\n",
      "3543/3543 [==============================] - 7s 2ms/step - loss: 0.0445 - accuracy: 0.9857 - val_loss: 0.0495 - val_accuracy: 0.9864\n",
      "Epoch 5/100\n",
      "3543/3543 [==============================] - 7s 2ms/step - loss: 0.0418 - accuracy: 0.9860 - val_loss: 0.0448 - val_accuracy: 0.9879\n",
      "Epoch 6/100\n",
      "3543/3543 [==============================] - 8s 2ms/step - loss: 0.0392 - accuracy: 0.9866 - val_loss: 0.0435 - val_accuracy: 0.9875\n",
      "Epoch 7/100\n",
      "3543/3543 [==============================] - 7s 2ms/step - loss: 0.0370 - accuracy: 0.9875 - val_loss: 0.0432 - val_accuracy: 0.9865\n",
      "Epoch 8/100\n",
      "3543/3543 [==============================] - 7s 2ms/step - loss: 0.0347 - accuracy: 0.9881 - val_loss: 0.0429 - val_accuracy: 0.9875\n",
      "Epoch 9/100\n",
      "3543/3543 [==============================] - 7s 2ms/step - loss: 0.0349 - accuracy: 0.9883 - val_loss: 0.0460 - val_accuracy: 0.9867\n",
      "Epoch 10/100\n",
      "3543/3543 [==============================] - 7s 2ms/step - loss: 0.0330 - accuracy: 0.9887 - val_loss: 0.0404 - val_accuracy: 0.9880\n",
      "Epoch 11/100\n",
      "3543/3543 [==============================] - 7s 2ms/step - loss: 0.0317 - accuracy: 0.9892 - val_loss: 0.0409 - val_accuracy: 0.9885\n",
      "Epoch 12/100\n",
      "3543/3543 [==============================] - 7s 2ms/step - loss: 0.0310 - accuracy: 0.9893 - val_loss: 0.0406 - val_accuracy: 0.9890\n",
      "Epoch 13/100\n",
      "3543/3543 [==============================] - 7s 2ms/step - loss: 0.0312 - accuracy: 0.9892 - val_loss: 0.0395 - val_accuracy: 0.9888\n",
      "Epoch 14/100\n",
      "3543/3543 [==============================] - 7s 2ms/step - loss: 0.0302 - accuracy: 0.9900 - val_loss: 0.0422 - val_accuracy: 0.9874\n",
      "Epoch 15/100\n",
      "3543/3543 [==============================] - 7s 2ms/step - loss: 0.0300 - accuracy: 0.9898 - val_loss: 0.0376 - val_accuracy: 0.9895\n",
      "Epoch 16/100\n",
      "3543/3543 [==============================] - 7s 2ms/step - loss: 0.0295 - accuracy: 0.9895 - val_loss: 0.0390 - val_accuracy: 0.9890\n",
      "Epoch 17/100\n",
      "3543/3543 [==============================] - 7s 2ms/step - loss: 0.0287 - accuracy: 0.9902 - val_loss: 0.0384 - val_accuracy: 0.9889\n",
      "Epoch 18/100\n",
      "3543/3543 [==============================] - 7s 2ms/step - loss: 0.0280 - accuracy: 0.9904 - val_loss: 0.0385 - val_accuracy: 0.9895\n",
      "Epoch 19/100\n",
      "3543/3543 [==============================] - 7s 2ms/step - loss: 0.0275 - accuracy: 0.9909 - val_loss: 0.0379 - val_accuracy: 0.9894\n",
      "Epoch 20/100\n",
      "3543/3543 [==============================] - 7s 2ms/step - loss: 0.0278 - accuracy: 0.9904 - val_loss: 0.0408 - val_accuracy: 0.9885\n",
      "Epoch 21/100\n",
      "3543/3543 [==============================] - 7s 2ms/step - loss: 0.0267 - accuracy: 0.9906 - val_loss: 0.0328 - val_accuracy: 0.9910\n",
      "Epoch 22/100\n",
      "3543/3543 [==============================] - 7s 2ms/step - loss: 0.0269 - accuracy: 0.9906 - val_loss: 0.0354 - val_accuracy: 0.9898\n",
      "Epoch 23/100\n",
      "3543/3543 [==============================] - 7s 2ms/step - loss: 0.0262 - accuracy: 0.9909 - val_loss: 0.0362 - val_accuracy: 0.9902\n",
      "Epoch 24/100\n",
      "3543/3543 [==============================] - 7s 2ms/step - loss: 0.0260 - accuracy: 0.9909 - val_loss: 0.0331 - val_accuracy: 0.9906\n",
      "Epoch 25/100\n",
      "3543/3543 [==============================] - 7s 2ms/step - loss: 0.0260 - accuracy: 0.9912 - val_loss: 0.0330 - val_accuracy: 0.9913\n",
      "Epoch 26/100\n",
      "3543/3543 [==============================] - 7s 2ms/step - loss: 0.0257 - accuracy: 0.9913 - val_loss: 0.0376 - val_accuracy: 0.9877\n",
      "Epoch 27/100\n",
      "3543/3543 [==============================] - 7s 2ms/step - loss: 0.0259 - accuracy: 0.9910 - val_loss: 0.0337 - val_accuracy: 0.9905\n",
      "Epoch 28/100\n",
      "3543/3543 [==============================] - 7s 2ms/step - loss: 0.0251 - accuracy: 0.9914 - val_loss: 0.0361 - val_accuracy: 0.9879\n",
      "Epoch 29/100\n",
      "3543/3543 [==============================] - 7s 2ms/step - loss: 0.0250 - accuracy: 0.9913 - val_loss: 0.0323 - val_accuracy: 0.9913\n",
      "Epoch 30/100\n",
      "3543/3543 [==============================] - 7s 2ms/step - loss: 0.0254 - accuracy: 0.9909 - val_loss: 0.0342 - val_accuracy: 0.9903\n",
      "Epoch 31/100\n",
      "3543/3543 [==============================] - 7s 2ms/step - loss: 0.0244 - accuracy: 0.9915 - val_loss: 0.0386 - val_accuracy: 0.9902\n",
      "Epoch 32/100\n",
      "3543/3543 [==============================] - 7s 2ms/step - loss: 0.0246 - accuracy: 0.9914 - val_loss: 0.0360 - val_accuracy: 0.9902\n",
      "Epoch 33/100\n",
      "3543/3543 [==============================] - 7s 2ms/step - loss: 0.0243 - accuracy: 0.9915 - val_loss: 0.0314 - val_accuracy: 0.9921\n",
      "Epoch 34/100\n",
      "3543/3543 [==============================] - 7s 2ms/step - loss: 0.0235 - accuracy: 0.9918 - val_loss: 0.0402 - val_accuracy: 0.9877\n",
      "Epoch 35/100\n",
      "3543/3543 [==============================] - 7s 2ms/step - loss: 0.0240 - accuracy: 0.9916 - val_loss: 0.0324 - val_accuracy: 0.9906\n",
      "Epoch 36/100\n",
      "3543/3543 [==============================] - 7s 2ms/step - loss: 0.0240 - accuracy: 0.9916 - val_loss: 0.0339 - val_accuracy: 0.9891\n",
      "Epoch 37/100\n",
      "3543/3543 [==============================] - 7s 2ms/step - loss: 0.0237 - accuracy: 0.9919 - val_loss: 0.0337 - val_accuracy: 0.9894\n",
      "Epoch 38/100\n",
      "3543/3543 [==============================] - 7s 2ms/step - loss: 0.0236 - accuracy: 0.9916 - val_loss: 0.0340 - val_accuracy: 0.9906\n",
      "Epoch 39/100\n",
      "3543/3543 [==============================] - 7s 2ms/step - loss: 0.0234 - accuracy: 0.9920 - val_loss: 0.0389 - val_accuracy: 0.9882\n",
      "Epoch 40/100\n",
      "3543/3543 [==============================] - 7s 2ms/step - loss: 0.0240 - accuracy: 0.9917 - val_loss: 0.0375 - val_accuracy: 0.9888\n",
      "Epoch 41/100\n",
      "3543/3543 [==============================] - 7s 2ms/step - loss: 0.0231 - accuracy: 0.9921 - val_loss: 0.0307 - val_accuracy: 0.9918\n",
      "Epoch 42/100\n",
      "3543/3543 [==============================] - 7s 2ms/step - loss: 0.0226 - accuracy: 0.9921 - val_loss: 0.0318 - val_accuracy: 0.9913\n",
      "Epoch 43/100\n",
      "3543/3543 [==============================] - 7s 2ms/step - loss: 0.0219 - accuracy: 0.9922 - val_loss: 0.0314 - val_accuracy: 0.9924\n",
      "Epoch 44/100\n",
      "3543/3543 [==============================] - 7s 2ms/step - loss: 0.0221 - accuracy: 0.9921 - val_loss: 0.0329 - val_accuracy: 0.9912\n",
      "Epoch 45/100\n",
      "3543/3543 [==============================] - 7s 2ms/step - loss: 0.0219 - accuracy: 0.9922 - val_loss: 0.0339 - val_accuracy: 0.9903\n",
      "Epoch 46/100\n",
      "3543/3543 [==============================] - 7s 2ms/step - loss: 0.0220 - accuracy: 0.9923 - val_loss: 0.0332 - val_accuracy: 0.9911\n",
      "Epoch 47/100\n",
      "3543/3543 [==============================] - 7s 2ms/step - loss: 0.0223 - accuracy: 0.9923 - val_loss: 0.0340 - val_accuracy: 0.9917\n",
      "Epoch 48/100\n",
      "3543/3543 [==============================] - 7s 2ms/step - loss: 0.0218 - accuracy: 0.9923 - val_loss: 0.0361 - val_accuracy: 0.9913\n",
      "Epoch 49/100\n",
      "3543/3543 [==============================] - 7s 2ms/step - loss: 0.0216 - accuracy: 0.9923 - val_loss: 0.0356 - val_accuracy: 0.9916\n"
     ]
    }
   ],
   "source": [
    "history = classify.fit(train_intX, train_intY, epochs=100, batch_size=32,callbacks = [callback],validation_data = (val_intX, val_intY))"
   ]
  },
  {
   "cell_type": "code",
   "execution_count": 55,
   "id": "3835f939-1e47-4ed9-9e94-41a990119a5a",
   "metadata": {},
   "outputs": [
    {
     "name": "stdout",
     "output_type": "stream",
     "text": [
      "4642/4642 [==============================] - 4s 795us/step\n"
     ]
    }
   ],
   "source": [
    "preds = classify.predict(intermediate_output_2)"
   ]
  },
  {
   "cell_type": "code",
   "execution_count": 56,
   "id": "2d90d8aa-687a-437a-ba87-33e74ed2e502",
   "metadata": {},
   "outputs": [
    {
     "data": {
      "text/plain": [
       "((148517, 5), (148517,))"
      ]
     },
     "execution_count": 56,
     "metadata": {},
     "output_type": "execute_result"
    }
   ],
   "source": [
    "np.shape(preds),np.shape(labels)"
   ]
  },
  {
   "cell_type": "code",
   "execution_count": 57,
   "id": "827db2ea-1075-4822-a90e-db2b000a51e3",
   "metadata": {},
   "outputs": [
    {
     "data": {
      "text/plain": [
       "{0.0, 1.0, 2.0, 3.0, 4.0}"
      ]
     },
     "execution_count": 57,
     "metadata": {},
     "output_type": "execute_result"
    }
   ],
   "source": [
    "set(labels)"
   ]
  },
  {
   "cell_type": "code",
   "execution_count": 58,
   "id": "66420e44-e3ac-49a0-b475-7ac3892e68a6",
   "metadata": {},
   "outputs": [],
   "source": [
    "from sklearn.metrics import confusion_matrix\n",
    "conf_mat = confusion_matrix(np.argmax(preds,axis = 1), labels)"
   ]
  },
  {
   "cell_type": "code",
   "execution_count": 59,
   "id": "80596a4f-2000-4f04-bb7b-0815b7ced17d",
   "metadata": {},
   "outputs": [
    {
     "name": "stdout",
     "output_type": "stream",
     "text": [
      "0.9504905162371985\n",
      "0.6098765794624522\n",
      "0.9558646586558301\n",
      "0.6358998019171022\n"
     ]
    }
   ],
   "source": [
    "print(accuracy_score(np.argmax(preds,axis = 1),labels))\n",
    "print(precision_score(np.argmax(preds,axis = 1),labels,average = 'macro'))\n",
    "print(recall_score(np.argmax(preds,axis = 1),labels,average = 'macro'))\n",
    "print(f1_score(np.argmax(preds,axis = 1),labels,average = 'macro'))"
   ]
  },
  {
   "cell_type": "code",
   "execution_count": 60,
   "id": "5582266a-40c3-49cf-bf08-81fef2e5ec2f",
   "metadata": {},
   "outputs": [],
   "source": [
    "import seaborn as sns"
   ]
  },
  {
   "cell_type": "code",
   "execution_count": 61,
   "id": "f8fd906d-887d-4ad9-ab88-c4350bb4b179",
   "metadata": {},
   "outputs": [
    {
     "data": {
      "text/plain": [
       "<AxesSubplot:>"
      ]
     },
     "execution_count": 61,
     "metadata": {},
     "output_type": "execute_result"
    },
    {
     "data": {
      "image/png": "[encoded data removed]",
      "text/plain": [
       "<Figure size 432x288 with 2 Axes>"
      ]
     },
     "metadata": {
      "needs_background": "light"
     },
     "output_type": "display_data"
    }
   ],
   "source": [
    "sns.heatmap(conf_mat, annot=True)"
   ]
  },
  {
   "cell_type": "markdown",
   "id": "8bf93326-3c79-4868-8be2-a6ad6f8b126f",
   "metadata": {},
   "source": [
    "# Testing on KDD Test"
   ]
  },
  {
   "cell_type": "code",
   "execution_count": 62,
   "id": "c2b492f7-7c3c-49f0-86a8-1e6658fc6900",
   "metadata": {},
   "outputs": [],
   "source": [
    "features = features[len(df1):]\n",
    "labels = labels[len(df1):]"
   ]
  },
  {
   "cell_type": "code",
   "execution_count": 63,
   "id": "4f9e069f-4f24-4f43-997a-7dc349f27d52",
   "metadata": {},
   "outputs": [
    {
     "name": "stdout",
     "output_type": "stream",
     "text": [
      "(22544, 41) (22544,)\n"
     ]
    }
   ],
   "source": [
    "print(np.shape(features),np.shape(labels))"
   ]
  },
  {
   "cell_type": "code",
   "execution_count": 64,
   "id": "1bdfdb2d-4bd5-4c50-82c6-9a464782005a",
   "metadata": {},
   "outputs": [
    {
     "name": "stdout",
     "output_type": "stream",
     "text": [
      "705/705 [==============================] - 1s 709us/step\n"
     ]
    }
   ],
   "source": [
    "layer_name = 'latent_1'\n",
    "intermediate_layer_model = Model(inputs=autoencoder_1.input,\n",
    "                                 outputs=autoencoder_1.get_layer(layer_name).output)\n",
    "intermediate_output_1 = intermediate_layer_model.predict(features)"
   ]
  },
  {
   "cell_type": "code",
   "execution_count": 65,
   "id": "8d88ece9-a881-4c81-b376-efe5a03ae4b8",
   "metadata": {},
   "outputs": [
    {
     "data": {
      "text/plain": [
       "(22544, 32)"
      ]
     },
     "execution_count": 65,
     "metadata": {},
     "output_type": "execute_result"
    }
   ],
   "source": [
    "np.shape(intermediate_output_1)"
   ]
  },
  {
   "cell_type": "code",
   "execution_count": 66,
   "id": "83be1f62-bb01-4878-bdde-be3af1fb9d50",
   "metadata": {},
   "outputs": [
    {
     "name": "stdout",
     "output_type": "stream",
     "text": [
      "705/705 [==============================] - 1s 656us/step\n"
     ]
    }
   ],
   "source": [
    "layer_name = 'latent_2'\n",
    "intermediate_layer_model = Model(inputs=autoencoder_2.input,\n",
    "                                 outputs=autoencoder_2.get_layer(layer_name).output)\n",
    "intermediate_output_2 = intermediate_layer_model.predict(intermediate_output_1)"
   ]
  },
  {
   "cell_type": "code",
   "execution_count": 67,
   "id": "576c3c81-3dc5-45be-8a56-6acbe0c0c7e5",
   "metadata": {},
   "outputs": [
    {
     "data": {
      "text/plain": [
       "(22544, 16)"
      ]
     },
     "execution_count": 67,
     "metadata": {},
     "output_type": "execute_result"
    }
   ],
   "source": [
    "np.shape(intermediate_output_2)"
   ]
  },
  {
   "cell_type": "code",
   "execution_count": 68,
   "id": "e57a1baf-8941-4675-8aff-6ba685c7f031",
   "metadata": {},
   "outputs": [
    {
     "name": "stdout",
     "output_type": "stream",
     "text": [
      "705/705 [==============================] - 1s 746us/step\n"
     ]
    }
   ],
   "source": [
    "final_prediction = classify.predict(intermediate_output_2)"
   ]
  },
  {
   "cell_type": "code",
   "execution_count": 69,
   "id": "f3dd30b1-882b-44bb-a6ae-1c80156dd70c",
   "metadata": {},
   "outputs": [
    {
     "data": {
      "text/plain": [
       "((22544, 5), (22544,))"
      ]
     },
     "execution_count": 69,
     "metadata": {},
     "output_type": "execute_result"
    }
   ],
   "source": [
    "np.shape(final_prediction),np.shape(labels)"
   ]
  },
  {
   "cell_type": "code",
   "execution_count": 70,
   "id": "e7841f76-54d1-4b0a-8687-6b61a5ee2879",
   "metadata": {},
   "outputs": [],
   "source": [
    "from sklearn.metrics import confusion_matrix\n",
    "conf_mat = confusion_matrix(np.argmax(final_prediction,axis = 1), labels)"
   ]
  },
  {
   "cell_type": "code",
   "execution_count": 71,
   "id": "abe67e02-fc48-4bc2-b4bd-b09638e70d30",
   "metadata": {},
   "outputs": [
    {
     "data": {
      "text/plain": [
       "<AxesSubplot:>"
      ]
     },
     "execution_count": 71,
     "metadata": {},
     "output_type": "execute_result"
    },
    {
     "data": {
      "image/png": "[encoded data removed]",
      "text/plain": [
       "<Figure size 432x288 with 2 Axes>"
      ]
     },
     "metadata": {
      "needs_background": "light"
     },
     "output_type": "display_data"
    }
   ],
   "source": [
    "sns.heatmap(conf_mat, annot=True)"
   ]
  },
  {
   "cell_type": "code",
   "execution_count": 72,
   "id": "77938fb2-dfdf-4412-b264-d7b777f83cc7",
   "metadata": {},
   "outputs": [
    {
     "name": "stdout",
     "output_type": "stream",
     "text": [
      "0.7114531582682754\n",
      "0.44396391799830875\n",
      "0.8113210253239007\n",
      "0.44033797343929565\n"
     ]
    }
   ],
   "source": [
    "print(accuracy_score(np.argmax(final_prediction,axis = 1),labels))\n",
    "print(precision_score(np.argmax(final_prediction,axis = 1),labels,average = 'macro'))\n",
    "print(recall_score(np.argmax(final_prediction,axis = 1),labels,average = 'macro'))\n",
    "print(f1_score(np.argmax(final_prediction,axis = 1),labels,average = 'macro'))"
   ]
  },
  {
   "cell_type": "code",
   "execution_count": null,
   "id": "443201a2-7c4b-4cf6-a843-627d82418fe1",
   "metadata": {},
   "outputs": [],
   "source": []
  }
 ],
 "metadata": {
  "kernelspec": {
   "display_name": "Python 3 (ipykernel)",
   "language": "python",
   "name": "python3"
  },
  "language_info": {
   "codemirror_mode": {
    "name": "ipython",
    "version": 3
   },
   "file_extension": ".py",
   "mimetype": "text/x-python",
   "name": "python",
   "nbconvert_exporter": "python",
   "pygments_lexer": "ipython3",
   "version": "3.9.7"
  }
 },
 "nbformat": 4,
 "nbformat_minor": 5
}
