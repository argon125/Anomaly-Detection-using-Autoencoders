{
 "cells": [
  {
   "cell_type": "code",
   "execution_count": 1,
   "id": "1bf0b868-c909-466a-8382-431edfb1ca3c",
   "metadata": {},
   "outputs": [],
   "source": [
    "import numpy as np\n",
    "import pandas as pd\n",
    "import matplotlib.pyplot as plt\n",
    "import os\n",
    "import tensorflow as tf"
   ]
  },
  {
   "cell_type": "code",
   "execution_count": 2,
   "id": "c01bb8b3-930c-4bd9-9a3f-5d07ce77b4ac",
   "metadata": {},
   "outputs": [],
   "source": [
    "feature = [\"duration\",\"protocol_type\",\"service\",\"flag\",\"src_bytes\",\n",
    "    \"dst_bytes\",\"land\",\"wrong_fragment\",\"urgent\",\"hot\",\"num_failed_logins\",\n",
    "    \"logged_in\",\"num_compromised\",\"root_shell\",\"su_attempted\",\"num_root\",\n",
    "    \"num_file_creations\",\"num_shells\",\"num_access_files\",\"num_outbound_cmds\",\n",
    "    \"is_host_login\",\"is_guest_login\",\"count\",\"srv_count\",\"serror_rate\",\n",
    "    \"srv_serror_rate\",\"rerror_rate\",\"srv_rerror_rate\",\"same_srv_rate\",\n",
    "    \"diff_srv_rate\",\"srv_diff_host_rate\",\"dst_host_count\",\"dst_host_srv_count\",\n",
    "    \"dst_host_same_srv_rate\",\"dst_host_diff_srv_rate\",\"dst_host_same_src_port_rate\",\n",
    "    \"dst_host_srv_diff_host_rate\",\"dst_host_serror_rate\",\"dst_host_srv_serror_rate\",\n",
    "    \"dst_host_rerror_rate\",\"dst_host_srv_rerror_rate\",\"target\",\"junk\"]"
   ]
  },
  {
   "cell_type": "code",
   "execution_count": 3,
   "id": "40536131-3ade-4777-9ac3-c1f2e6025ac7",
   "metadata": {},
   "outputs": [],
   "source": [
    "os.chdir(\"C:/Users/ArrunPersonal/Codes/Semester7/IDS/NSL-KDD\")"
   ]
  },
  {
   "cell_type": "code",
   "execution_count": 4,
   "id": "84364c10-8b89-45fa-8a3a-881de73b44aa",
   "metadata": {},
   "outputs": [],
   "source": [
    "df = pd.read_csv(\"KDDTrain+.csv\", names = feature)\n",
    "df.drop([\"junk\"],axis = 1,inplace = True)"
   ]
  },
  {
   "cell_type": "code",
   "execution_count": 5,
   "id": "3fbe8575-19ab-460a-ad78-e5cff17205a5",
   "metadata": {},
   "outputs": [
    {
     "data": {
      "text/plain": [
       "False"
      ]
     },
     "execution_count": 5,
     "metadata": {},
     "output_type": "execute_result"
    }
   ],
   "source": [
    "df.isnull().values.any()"
   ]
  },
  {
   "cell_type": "code",
   "execution_count": 6,
   "id": "5156c38d-0cd4-4fe0-b633-eaa3f29769a5",
   "metadata": {},
   "outputs": [
    {
     "data": {
      "text/html": [
       "<div>\n",
       "<style scoped>\n",
       "    .dataframe tbody tr th:only-of-type {\n",
       "        vertical-align: middle;\n",
       "    }\n",
       "\n",
       "    .dataframe tbody tr th {\n",
       "        vertical-align: top;\n",
       "    }\n",
       "\n",
       "    .dataframe thead th {\n",
       "        text-align: right;\n",
       "    }\n",
       "</style>\n",
       "<table border=\"1\" class=\"dataframe\">\n",
       "  <thead>\n",
       "    <tr style=\"text-align: right;\">\n",
       "      <th></th>\n",
       "      <th>duration</th>\n",
       "      <th>protocol_type</th>\n",
       "      <th>service</th>\n",
       "      <th>flag</th>\n",
       "      <th>src_bytes</th>\n",
       "      <th>dst_bytes</th>\n",
       "      <th>land</th>\n",
       "      <th>wrong_fragment</th>\n",
       "      <th>urgent</th>\n",
       "      <th>hot</th>\n",
       "      <th>...</th>\n",
       "      <th>dst_host_srv_count</th>\n",
       "      <th>dst_host_same_srv_rate</th>\n",
       "      <th>dst_host_diff_srv_rate</th>\n",
       "      <th>dst_host_same_src_port_rate</th>\n",
       "      <th>dst_host_srv_diff_host_rate</th>\n",
       "      <th>dst_host_serror_rate</th>\n",
       "      <th>dst_host_srv_serror_rate</th>\n",
       "      <th>dst_host_rerror_rate</th>\n",
       "      <th>dst_host_srv_rerror_rate</th>\n",
       "      <th>target</th>\n",
       "    </tr>\n",
       "  </thead>\n",
       "  <tbody>\n",
       "    <tr>\n",
       "      <th>0</th>\n",
       "      <td>0</td>\n",
       "      <td>tcp</td>\n",
       "      <td>ftp_data</td>\n",
       "      <td>SF</td>\n",
       "      <td>491</td>\n",
       "      <td>0</td>\n",
       "      <td>0</td>\n",
       "      <td>0</td>\n",
       "      <td>0</td>\n",
       "      <td>0</td>\n",
       "      <td>...</td>\n",
       "      <td>25</td>\n",
       "      <td>0.17</td>\n",
       "      <td>0.03</td>\n",
       "      <td>0.17</td>\n",
       "      <td>0.00</td>\n",
       "      <td>0.00</td>\n",
       "      <td>0.00</td>\n",
       "      <td>0.05</td>\n",
       "      <td>0.00</td>\n",
       "      <td>normal</td>\n",
       "    </tr>\n",
       "    <tr>\n",
       "      <th>1</th>\n",
       "      <td>0</td>\n",
       "      <td>udp</td>\n",
       "      <td>other</td>\n",
       "      <td>SF</td>\n",
       "      <td>146</td>\n",
       "      <td>0</td>\n",
       "      <td>0</td>\n",
       "      <td>0</td>\n",
       "      <td>0</td>\n",
       "      <td>0</td>\n",
       "      <td>...</td>\n",
       "      <td>1</td>\n",
       "      <td>0.00</td>\n",
       "      <td>0.60</td>\n",
       "      <td>0.88</td>\n",
       "      <td>0.00</td>\n",
       "      <td>0.00</td>\n",
       "      <td>0.00</td>\n",
       "      <td>0.00</td>\n",
       "      <td>0.00</td>\n",
       "      <td>normal</td>\n",
       "    </tr>\n",
       "    <tr>\n",
       "      <th>2</th>\n",
       "      <td>0</td>\n",
       "      <td>tcp</td>\n",
       "      <td>private</td>\n",
       "      <td>S0</td>\n",
       "      <td>0</td>\n",
       "      <td>0</td>\n",
       "      <td>0</td>\n",
       "      <td>0</td>\n",
       "      <td>0</td>\n",
       "      <td>0</td>\n",
       "      <td>...</td>\n",
       "      <td>26</td>\n",
       "      <td>0.10</td>\n",
       "      <td>0.05</td>\n",
       "      <td>0.00</td>\n",
       "      <td>0.00</td>\n",
       "      <td>1.00</td>\n",
       "      <td>1.00</td>\n",
       "      <td>0.00</td>\n",
       "      <td>0.00</td>\n",
       "      <td>neptune</td>\n",
       "    </tr>\n",
       "    <tr>\n",
       "      <th>3</th>\n",
       "      <td>0</td>\n",
       "      <td>tcp</td>\n",
       "      <td>http</td>\n",
       "      <td>SF</td>\n",
       "      <td>232</td>\n",
       "      <td>8153</td>\n",
       "      <td>0</td>\n",
       "      <td>0</td>\n",
       "      <td>0</td>\n",
       "      <td>0</td>\n",
       "      <td>...</td>\n",
       "      <td>255</td>\n",
       "      <td>1.00</td>\n",
       "      <td>0.00</td>\n",
       "      <td>0.03</td>\n",
       "      <td>0.04</td>\n",
       "      <td>0.03</td>\n",
       "      <td>0.01</td>\n",
       "      <td>0.00</td>\n",
       "      <td>0.01</td>\n",
       "      <td>normal</td>\n",
       "    </tr>\n",
       "    <tr>\n",
       "      <th>4</th>\n",
       "      <td>0</td>\n",
       "      <td>tcp</td>\n",
       "      <td>http</td>\n",
       "      <td>SF</td>\n",
       "      <td>199</td>\n",
       "      <td>420</td>\n",
       "      <td>0</td>\n",
       "      <td>0</td>\n",
       "      <td>0</td>\n",
       "      <td>0</td>\n",
       "      <td>...</td>\n",
       "      <td>255</td>\n",
       "      <td>1.00</td>\n",
       "      <td>0.00</td>\n",
       "      <td>0.00</td>\n",
       "      <td>0.00</td>\n",
       "      <td>0.00</td>\n",
       "      <td>0.00</td>\n",
       "      <td>0.00</td>\n",
       "      <td>0.00</td>\n",
       "      <td>normal</td>\n",
       "    </tr>\n",
       "  </tbody>\n",
       "</table>\n",
       "<p>5 rows × 42 columns</p>\n",
       "</div>"
      ],
      "text/plain": [
       "   duration protocol_type   service flag  src_bytes  dst_bytes  land  \\\n",
       "0         0           tcp  ftp_data   SF        491          0     0   \n",
       "1         0           udp     other   SF        146          0     0   \n",
       "2         0           tcp   private   S0          0          0     0   \n",
       "3         0           tcp      http   SF        232       8153     0   \n",
       "4         0           tcp      http   SF        199        420     0   \n",
       "\n",
       "   wrong_fragment  urgent  hot  ...  dst_host_srv_count  \\\n",
       "0               0       0    0  ...                  25   \n",
       "1               0       0    0  ...                   1   \n",
       "2               0       0    0  ...                  26   \n",
       "3               0       0    0  ...                 255   \n",
       "4               0       0    0  ...                 255   \n",
       "\n",
       "   dst_host_same_srv_rate  dst_host_diff_srv_rate  \\\n",
       "0                    0.17                    0.03   \n",
       "1                    0.00                    0.60   \n",
       "2                    0.10                    0.05   \n",
       "3                    1.00                    0.00   \n",
       "4                    1.00                    0.00   \n",
       "\n",
       "   dst_host_same_src_port_rate  dst_host_srv_diff_host_rate  \\\n",
       "0                         0.17                         0.00   \n",
       "1                         0.88                         0.00   \n",
       "2                         0.00                         0.00   \n",
       "3                         0.03                         0.04   \n",
       "4                         0.00                         0.00   \n",
       "\n",
       "   dst_host_serror_rate  dst_host_srv_serror_rate  dst_host_rerror_rate  \\\n",
       "0                  0.00                      0.00                  0.05   \n",
       "1                  0.00                      0.00                  0.00   \n",
       "2                  1.00                      1.00                  0.00   \n",
       "3                  0.03                      0.01                  0.00   \n",
       "4                  0.00                      0.00                  0.00   \n",
       "\n",
       "   dst_host_srv_rerror_rate   target  \n",
       "0                      0.00   normal  \n",
       "1                      0.00   normal  \n",
       "2                      0.00  neptune  \n",
       "3                      0.01   normal  \n",
       "4                      0.00   normal  \n",
       "\n",
       "[5 rows x 42 columns]"
      ]
     },
     "execution_count": 6,
     "metadata": {},
     "output_type": "execute_result"
    }
   ],
   "source": [
    "df.head()"
   ]
  },
  {
   "cell_type": "code",
   "execution_count": 7,
   "id": "55dab8da-b0ab-40d7-a7b8-72fb965459cc",
   "metadata": {},
   "outputs": [],
   "source": [
    "protocol_dict = dict(zip(set(df['protocol_type']),np.arange(len(set(df['protocol_type'])))))\n",
    "service_dict = dict(zip(set(df['service']),np.arange(len(set(df['service'])))))\n",
    "flag_dict = dict(zip(set(df['flag']),np.arange(len(set(df['flag'])))))"
   ]
  },
  {
   "cell_type": "code",
   "execution_count": 8,
   "id": "0bdb4b00-8c4d-41eb-aefc-88c49de6ac8c",
   "metadata": {},
   "outputs": [],
   "source": [
    "# changing attack labels to their respective attack class\n",
    "def change_feature(df):\n",
    "    df.target.replace(['apache2','back','land','neptune','mailbomb','pod','processtable','smurf','teardrop','udpstorm','worm'],'Dos',inplace=True)\n",
    "    df.target.replace(['ftp_write','guess_passwd','httptunnel','imap','multihop','named','phf','sendmail','snmpgetattack','snmpguess','spy','warezclient','warezmaster','xlock','xsnoop'],'R2L',inplace=True)      \n",
    "    df.target.replace(['ipsweep','mscan','nmap','portsweep','saint','satan'],'Probe',inplace=True)\n",
    "    df.target.replace(['buffer_overflow','loadmodule','perl','ps','rootkit','sqlattack','xterm'],'U2R',inplace=True)\n",
    "    \n",
    "    df.protocol_type.replace(protocol_dict.keys(),protocol_dict.values(),inplace=True)\n",
    "    df.service.replace(service_dict.keys(),service_dict.values(),inplace=True)\n",
    "    df.flag.replace(flag_dict.keys(),flag_dict.values(),inplace=True)"
   ]
  },
  {
   "cell_type": "code",
   "execution_count": 9,
   "id": "d7967ffd-6d6d-4ab3-b30e-f42ed7f96d5f",
   "metadata": {},
   "outputs": [],
   "source": [
    "change_feature(df)"
   ]
  },
  {
   "cell_type": "code",
   "execution_count": 10,
   "id": "8b26c684-a757-4180-8e33-82979a2e216a",
   "metadata": {},
   "outputs": [],
   "source": [
    "target_dict = dict(zip(set(df['target']),np.arange(len(set(df['target'])))))"
   ]
  },
  {
   "cell_type": "code",
   "execution_count": 11,
   "id": "410c0811-b1dd-4b02-a3f5-2000c64e7000",
   "metadata": {},
   "outputs": [],
   "source": [
    "def change_target(df):\n",
    "    df.target.replace(target_dict.keys(),target_dict.values(),inplace=True)"
   ]
  },
  {
   "cell_type": "code",
   "execution_count": 12,
   "id": "34dd9a32-72fc-4ff2-a215-ce6bb0fb8086",
   "metadata": {},
   "outputs": [],
   "source": [
    "change_target(df)"
   ]
  },
  {
   "cell_type": "code",
   "execution_count": 13,
   "id": "f15b3693-fd32-4536-9fcd-9cbe1a6c1ec6",
   "metadata": {},
   "outputs": [
    {
     "data": {
      "text/html": [
       "<div>\n",
       "<style scoped>\n",
       "    .dataframe tbody tr th:only-of-type {\n",
       "        vertical-align: middle;\n",
       "    }\n",
       "\n",
       "    .dataframe tbody tr th {\n",
       "        vertical-align: top;\n",
       "    }\n",
       "\n",
       "    .dataframe thead th {\n",
       "        text-align: right;\n",
       "    }\n",
       "</style>\n",
       "<table border=\"1\" class=\"dataframe\">\n",
       "  <thead>\n",
       "    <tr style=\"text-align: right;\">\n",
       "      <th></th>\n",
       "      <th>duration</th>\n",
       "      <th>protocol_type</th>\n",
       "      <th>service</th>\n",
       "      <th>flag</th>\n",
       "      <th>src_bytes</th>\n",
       "      <th>dst_bytes</th>\n",
       "      <th>land</th>\n",
       "      <th>wrong_fragment</th>\n",
       "      <th>urgent</th>\n",
       "      <th>hot</th>\n",
       "      <th>...</th>\n",
       "      <th>dst_host_srv_count</th>\n",
       "      <th>dst_host_same_srv_rate</th>\n",
       "      <th>dst_host_diff_srv_rate</th>\n",
       "      <th>dst_host_same_src_port_rate</th>\n",
       "      <th>dst_host_srv_diff_host_rate</th>\n",
       "      <th>dst_host_serror_rate</th>\n",
       "      <th>dst_host_srv_serror_rate</th>\n",
       "      <th>dst_host_rerror_rate</th>\n",
       "      <th>dst_host_srv_rerror_rate</th>\n",
       "      <th>target</th>\n",
       "    </tr>\n",
       "  </thead>\n",
       "  <tbody>\n",
       "    <tr>\n",
       "      <th>0</th>\n",
       "      <td>0</td>\n",
       "      <td>2</td>\n",
       "      <td>31</td>\n",
       "      <td>0</td>\n",
       "      <td>491</td>\n",
       "      <td>0</td>\n",
       "      <td>0</td>\n",
       "      <td>0</td>\n",
       "      <td>0</td>\n",
       "      <td>0</td>\n",
       "      <td>...</td>\n",
       "      <td>25</td>\n",
       "      <td>0.17</td>\n",
       "      <td>0.03</td>\n",
       "      <td>0.17</td>\n",
       "      <td>0.00</td>\n",
       "      <td>0.00</td>\n",
       "      <td>0.00</td>\n",
       "      <td>0.05</td>\n",
       "      <td>0.00</td>\n",
       "      <td>0</td>\n",
       "    </tr>\n",
       "    <tr>\n",
       "      <th>1</th>\n",
       "      <td>0</td>\n",
       "      <td>1</td>\n",
       "      <td>61</td>\n",
       "      <td>0</td>\n",
       "      <td>146</td>\n",
       "      <td>0</td>\n",
       "      <td>0</td>\n",
       "      <td>0</td>\n",
       "      <td>0</td>\n",
       "      <td>0</td>\n",
       "      <td>...</td>\n",
       "      <td>1</td>\n",
       "      <td>0.00</td>\n",
       "      <td>0.60</td>\n",
       "      <td>0.88</td>\n",
       "      <td>0.00</td>\n",
       "      <td>0.00</td>\n",
       "      <td>0.00</td>\n",
       "      <td>0.00</td>\n",
       "      <td>0.00</td>\n",
       "      <td>0</td>\n",
       "    </tr>\n",
       "    <tr>\n",
       "      <th>2</th>\n",
       "      <td>0</td>\n",
       "      <td>2</td>\n",
       "      <td>8</td>\n",
       "      <td>8</td>\n",
       "      <td>0</td>\n",
       "      <td>0</td>\n",
       "      <td>0</td>\n",
       "      <td>0</td>\n",
       "      <td>0</td>\n",
       "      <td>0</td>\n",
       "      <td>...</td>\n",
       "      <td>26</td>\n",
       "      <td>0.10</td>\n",
       "      <td>0.05</td>\n",
       "      <td>0.00</td>\n",
       "      <td>0.00</td>\n",
       "      <td>1.00</td>\n",
       "      <td>1.00</td>\n",
       "      <td>0.00</td>\n",
       "      <td>0.00</td>\n",
       "      <td>4</td>\n",
       "    </tr>\n",
       "    <tr>\n",
       "      <th>3</th>\n",
       "      <td>0</td>\n",
       "      <td>2</td>\n",
       "      <td>38</td>\n",
       "      <td>0</td>\n",
       "      <td>232</td>\n",
       "      <td>8153</td>\n",
       "      <td>0</td>\n",
       "      <td>0</td>\n",
       "      <td>0</td>\n",
       "      <td>0</td>\n",
       "      <td>...</td>\n",
       "      <td>255</td>\n",
       "      <td>1.00</td>\n",
       "      <td>0.00</td>\n",
       "      <td>0.03</td>\n",
       "      <td>0.04</td>\n",
       "      <td>0.03</td>\n",
       "      <td>0.01</td>\n",
       "      <td>0.00</td>\n",
       "      <td>0.01</td>\n",
       "      <td>0</td>\n",
       "    </tr>\n",
       "    <tr>\n",
       "      <th>4</th>\n",
       "      <td>0</td>\n",
       "      <td>2</td>\n",
       "      <td>38</td>\n",
       "      <td>0</td>\n",
       "      <td>199</td>\n",
       "      <td>420</td>\n",
       "      <td>0</td>\n",
       "      <td>0</td>\n",
       "      <td>0</td>\n",
       "      <td>0</td>\n",
       "      <td>...</td>\n",
       "      <td>255</td>\n",
       "      <td>1.00</td>\n",
       "      <td>0.00</td>\n",
       "      <td>0.00</td>\n",
       "      <td>0.00</td>\n",
       "      <td>0.00</td>\n",
       "      <td>0.00</td>\n",
       "      <td>0.00</td>\n",
       "      <td>0.00</td>\n",
       "      <td>0</td>\n",
       "    </tr>\n",
       "  </tbody>\n",
       "</table>\n",
       "<p>5 rows × 42 columns</p>\n",
       "</div>"
      ],
      "text/plain": [
       "   duration  protocol_type  service  flag  src_bytes  dst_bytes  land  \\\n",
       "0         0              2       31     0        491          0     0   \n",
       "1         0              1       61     0        146          0     0   \n",
       "2         0              2        8     8          0          0     0   \n",
       "3         0              2       38     0        232       8153     0   \n",
       "4         0              2       38     0        199        420     0   \n",
       "\n",
       "   wrong_fragment  urgent  hot  ...  dst_host_srv_count  \\\n",
       "0               0       0    0  ...                  25   \n",
       "1               0       0    0  ...                   1   \n",
       "2               0       0    0  ...                  26   \n",
       "3               0       0    0  ...                 255   \n",
       "4               0       0    0  ...                 255   \n",
       "\n",
       "   dst_host_same_srv_rate  dst_host_diff_srv_rate  \\\n",
       "0                    0.17                    0.03   \n",
       "1                    0.00                    0.60   \n",
       "2                    0.10                    0.05   \n",
       "3                    1.00                    0.00   \n",
       "4                    1.00                    0.00   \n",
       "\n",
       "   dst_host_same_src_port_rate  dst_host_srv_diff_host_rate  \\\n",
       "0                         0.17                         0.00   \n",
       "1                         0.88                         0.00   \n",
       "2                         0.00                         0.00   \n",
       "3                         0.03                         0.04   \n",
       "4                         0.00                         0.00   \n",
       "\n",
       "   dst_host_serror_rate  dst_host_srv_serror_rate  dst_host_rerror_rate  \\\n",
       "0                  0.00                      0.00                  0.05   \n",
       "1                  0.00                      0.00                  0.00   \n",
       "2                  1.00                      1.00                  0.00   \n",
       "3                  0.03                      0.01                  0.00   \n",
       "4                  0.00                      0.00                  0.00   \n",
       "\n",
       "   dst_host_srv_rerror_rate  target  \n",
       "0                      0.00       0  \n",
       "1                      0.00       0  \n",
       "2                      0.00       4  \n",
       "3                      0.01       0  \n",
       "4                      0.00       0  \n",
       "\n",
       "[5 rows x 42 columns]"
      ]
     },
     "execution_count": 13,
     "metadata": {},
     "output_type": "execute_result"
    }
   ],
   "source": [
    "df.head()"
   ]
  },
  {
   "cell_type": "code",
   "execution_count": 14,
   "id": "ab5c5615-fa58-4c6d-8df5-73bcc9d24fa1",
   "metadata": {},
   "outputs": [],
   "source": [
    "df_lis = np.array(df.values.tolist())"
   ]
  },
  {
   "cell_type": "code",
   "execution_count": 15,
   "id": "e96b6b0e-e8fb-4d08-a3a9-fe6aaf185ef3",
   "metadata": {},
   "outputs": [],
   "source": [
    "features = np.array(df_lis[:,:-1])\n",
    "labels = np.array(df_lis[:,-1])"
   ]
  },
  {
   "cell_type": "code",
   "execution_count": 16,
   "id": "0327c182-992c-471d-9ba8-2f3a403f68bc",
   "metadata": {},
   "outputs": [
    {
     "data": {
      "text/plain": [
       "(125973, 41)"
      ]
     },
     "execution_count": 16,
     "metadata": {},
     "output_type": "execute_result"
    }
   ],
   "source": [
    "for i in range(np.shape(features)[1]):\n",
    "    if(np.std(features[:,i])!=0):\n",
    "        features[:,i] = (features[:,i]-np.mean(features[:,i]))/np.std(features[:,i]) \n",
    "    else:\n",
    "        features[:,i] = (features[:,i]-np.mean(features[:,i]))\n",
    "np.shape(features)"
   ]
  },
  {
   "cell_type": "code",
   "execution_count": 17,
   "id": "630656a7-3b1e-4940-a8ce-45c6c0b6b89c",
   "metadata": {},
   "outputs": [
    {
     "data": {
      "text/plain": [
       "((125973, 41), (125973,))"
      ]
     },
     "execution_count": 17,
     "metadata": {},
     "output_type": "execute_result"
    }
   ],
   "source": [
    "np.shape(features),np.shape(labels)"
   ]
  },
  {
   "cell_type": "code",
   "execution_count": 18,
   "id": "bfb31786-9b36-4e57-a2a3-c976c1b67aba",
   "metadata": {},
   "outputs": [],
   "source": [
    "from sklearn.model_selection import train_test_split "
   ]
  },
  {
   "cell_type": "code",
   "execution_count": 19,
   "id": "cb8fe055-378f-4de0-9175-d60f11884caa",
   "metadata": {},
   "outputs": [],
   "source": [
    "train_X, test_X , train_Y ,test_Y = train_test_split(features,labels,random_state = 42,test_size = 0.1)"
   ]
  },
  {
   "cell_type": "code",
   "execution_count": 20,
   "id": "47ba8e9a-7891-4de2-a9ab-b1efa262291a",
   "metadata": {},
   "outputs": [
    {
     "name": "stdout",
     "output_type": "stream",
     "text": [
      "(113375, 41) (12598, 41) (113375,) (12598,)\n"
     ]
    }
   ],
   "source": [
    "print(np.shape(train_X),np.shape(test_X),np.shape(train_Y),np.shape(test_Y))"
   ]
  },
  {
   "cell_type": "markdown",
   "id": "a7ca5b2f-40a8-4f6f-9d4d-885632699f7e",
   "metadata": {},
   "source": [
    "# Stacked Convolutional Auto Encoder"
   ]
  },
  {
   "cell_type": "markdown",
   "id": "22de135a-8483-476f-bf21-29658e15e464",
   "metadata": {},
   "source": [
    "### First Stack"
   ]
  },
  {
   "cell_type": "code",
   "execution_count": 21,
   "id": "5cbdc2d6-0d68-43c5-b86d-8789714290ac",
   "metadata": {},
   "outputs": [],
   "source": [
    "from keras.layers import *\n",
    "from keras.models import Model\n",
    "from keras_self_attention import SeqSelfAttention"
   ]
  },
  {
   "cell_type": "code",
   "execution_count": 22,
   "id": "d86da138-a431-47fe-90cf-085690cfafce",
   "metadata": {},
   "outputs": [
    {
     "name": "stderr",
     "output_type": "stream",
     "text": [
      "C:\\Users\\ArrunPersonal\\anaconda3\\lib\\site-packages\\keras\\initializers\\initializers_v2.py:120: UserWarning: The initializer GlorotNormal is unseeded and being called multiple times, which will return identical values  each time (even if the initializer is unseeded). Please update your code to provide a seed to the initializer, or avoid using the same initalizer instance more than once.\n",
      "  warnings.warn(\n"
     ]
    }
   ],
   "source": [
    "batch_size = 128\n",
    "input_dim = (np.shape(train_X)[1],1)\n",
    "input_layer = Input(shape=input_dim, name='input')\n",
    "#Input Layer\n",
    "LSTM_layer = LSTM(units=64,return_sequences=True)(input_layer)\n",
    "attention = SeqSelfAttention(attention_activation='sigmoid')(LSTM_layer)\n",
    "encoder1 = Conv1D (64,3)(attention)\n",
    "encoder1 = MaxPooling1D(2)(encoder1)\n",
    "#Encoder’s first dense layer\n",
    "encoder2 = Conv1D (32,3)(encoder1)\n",
    "encoder2 = MaxPooling1D(2)(encoder2)\n",
    "# Code layer\n",
    "latent_layer = Dense (32, name = 'latent_1')(encoder2)\n",
    "# Decoder’s first dense layer\n",
    "decoder1 = Conv1DTranspose (32,3)(latent_layer)\n",
    "decoder1 = UpSampling1D(2)(decoder1)\n",
    "# Decoder’s Third dense layer\n",
    "decoder2 = Conv1DTranspose (64,3)(decoder1)\n",
    "decoder2 = UpSampling1D(2)(decoder2)\n",
    "flatten = Flatten()(decoder2)\n",
    "# Output Layer\n",
    "output_layer = Dense(input_dim[0])(flatten)\n",
    "output_layer = Reshape((np.shape(train_X)[1],1), input_shape=(np.shape(train_X)[1],))(output_layer)"
   ]
  },
  {
   "cell_type": "code",
   "execution_count": 23,
   "id": "44e82ea0-c414-4c62-b6b7-b264d2a8d50d",
   "metadata": {},
   "outputs": [],
   "source": [
    "autoencoder_1 = Model(inputs=input_layer, outputs=output_layer)\n",
    "autoencoder_1.compile(metrics=tf.keras.metrics.RootMeanSquaredError(),loss='mse',optimizer='adam')"
   ]
  },
  {
   "cell_type": "code",
   "execution_count": 24,
   "id": "b2dc9457-16b6-4196-a168-1a68bf872132",
   "metadata": {},
   "outputs": [
    {
     "name": "stdout",
     "output_type": "stream",
     "text": [
      "Model: \"model\"\n",
      "_________________________________________________________________\n",
      " Layer (type)                Output Shape              Param #   \n",
      "=================================================================\n",
      " input (InputLayer)          [(None, 41, 1)]           0         \n",
      "                                                                 \n",
      " lstm (LSTM)                 (None, 41, 64)            16896     \n",
      "                                                                 \n",
      " seq_self_attention (SeqSelf  (None, 41, 64)           4161      \n",
      " Attention)                                                      \n",
      "                                                                 \n",
      " conv1d (Conv1D)             (None, 39, 64)            12352     \n",
      "                                                                 \n",
      " max_pooling1d (MaxPooling1D  (None, 19, 64)           0         \n",
      " )                                                               \n",
      "                                                                 \n",
      " conv1d_1 (Conv1D)           (None, 17, 32)            6176      \n",
      "                                                                 \n",
      " max_pooling1d_1 (MaxPooling  (None, 8, 32)            0         \n",
      " 1D)                                                             \n",
      "                                                                 \n",
      " latent_1 (Dense)            (None, 8, 32)             1056      \n",
      "                                                                 \n",
      " conv1d_transpose (Conv1DTra  (None, 10, 32)           3104      \n",
      " nspose)                                                         \n",
      "                                                                 \n",
      " up_sampling1d (UpSampling1D  (None, 20, 32)           0         \n",
      " )                                                               \n",
      "                                                                 \n",
      " conv1d_transpose_1 (Conv1DT  (None, 22, 64)           6208      \n",
      " ranspose)                                                       \n",
      "                                                                 \n",
      " up_sampling1d_1 (UpSampling  (None, 44, 64)           0         \n",
      " 1D)                                                             \n",
      "                                                                 \n",
      " flatten (Flatten)           (None, 2816)              0         \n",
      "                                                                 \n",
      " dense (Dense)               (None, 41)                115497    \n",
      "                                                                 \n",
      " reshape (Reshape)           (None, 41, 1)             0         \n",
      "                                                                 \n",
      "=================================================================\n",
      "Total params: 165,450\n",
      "Trainable params: 165,450\n",
      "Non-trainable params: 0\n",
      "_________________________________________________________________\n"
     ]
    }
   ],
   "source": [
    "autoencoder_1.summary()"
   ]
  },
  {
   "cell_type": "code",
   "execution_count": 25,
   "id": "6cc6c2f4-c05d-48eb-b44f-76fcf2b1127a",
   "metadata": {},
   "outputs": [],
   "source": [
    "callback = tf.keras.callbacks.EarlyStopping(monitor='val_loss', patience=8,restore_best_weights=True)"
   ]
  },
  {
   "cell_type": "code",
   "execution_count": 26,
   "id": "dde3c41f-4399-4fec-9193-bff83779be18",
   "metadata": {
    "tags": []
   },
   "outputs": [
    {
     "name": "stdout",
     "output_type": "stream",
     "text": [
      "Epoch 1/100\n",
      "886/886 [==============================] - 24s 19ms/step - loss: 0.5385 - root_mean_squared_error: 0.7339 - val_loss: 0.2986 - val_root_mean_squared_error: 0.5464\n",
      "Epoch 2/100\n",
      "886/886 [==============================] - 16s 18ms/step - loss: 0.3397 - root_mean_squared_error: 0.5828 - val_loss: 0.2104 - val_root_mean_squared_error: 0.4587\n",
      "Epoch 3/100\n",
      "886/886 [==============================] - 16s 18ms/step - loss: 0.2637 - root_mean_squared_error: 0.5135 - val_loss: 0.1199 - val_root_mean_squared_error: 0.3463\n",
      "Epoch 4/100\n",
      "886/886 [==============================] - 15s 17ms/step - loss: 0.2301 - root_mean_squared_error: 0.4797 - val_loss: 0.1155 - val_root_mean_squared_error: 0.3398\n",
      "Epoch 5/100\n",
      "886/886 [==============================] - 16s 18ms/step - loss: 0.1822 - root_mean_squared_error: 0.4268 - val_loss: 0.0539 - val_root_mean_squared_error: 0.2321\n",
      "Epoch 6/100\n",
      "886/886 [==============================] - 16s 18ms/step - loss: 0.2075 - root_mean_squared_error: 0.4555 - val_loss: 0.0696 - val_root_mean_squared_error: 0.2638\n",
      "Epoch 7/100\n",
      "886/886 [==============================] - 17s 19ms/step - loss: 0.1738 - root_mean_squared_error: 0.4169 - val_loss: 0.1288 - val_root_mean_squared_error: 0.3589\n",
      "Epoch 8/100\n",
      "886/886 [==============================] - 17s 19ms/step - loss: 0.1837 - root_mean_squared_error: 0.4286 - val_loss: 0.1028 - val_root_mean_squared_error: 0.3206\n",
      "Epoch 9/100\n",
      "886/886 [==============================] - 16s 18ms/step - loss: 0.1437 - root_mean_squared_error: 0.3790 - val_loss: 0.0538 - val_root_mean_squared_error: 0.2320\n",
      "Epoch 10/100\n",
      "886/886 [==============================] - 16s 19ms/step - loss: 0.1638 - root_mean_squared_error: 0.4047 - val_loss: 0.0606 - val_root_mean_squared_error: 0.2462\n",
      "Epoch 11/100\n",
      "886/886 [==============================] - 16s 18ms/step - loss: 0.1364 - root_mean_squared_error: 0.3694 - val_loss: 0.0408 - val_root_mean_squared_error: 0.2020\n",
      "Epoch 12/100\n",
      "886/886 [==============================] - 16s 18ms/step - loss: 0.1611 - root_mean_squared_error: 0.4013 - val_loss: 0.0472 - val_root_mean_squared_error: 0.2173\n",
      "Epoch 13/100\n",
      "886/886 [==============================] - 17s 19ms/step - loss: 0.1464 - root_mean_squared_error: 0.3826 - val_loss: 0.0404 - val_root_mean_squared_error: 0.2009\n",
      "Epoch 14/100\n",
      "886/886 [==============================] - 17s 19ms/step - loss: 0.1100 - root_mean_squared_error: 0.3317 - val_loss: 0.0377 - val_root_mean_squared_error: 0.1941\n",
      "Epoch 15/100\n",
      "886/886 [==============================] - 16s 18ms/step - loss: 0.1061 - root_mean_squared_error: 0.3258 - val_loss: 0.1045 - val_root_mean_squared_error: 0.3233\n",
      "Epoch 16/100\n",
      "886/886 [==============================] - 16s 19ms/step - loss: 0.1059 - root_mean_squared_error: 0.3254 - val_loss: 0.0300 - val_root_mean_squared_error: 0.1733\n",
      "Epoch 17/100\n",
      "886/886 [==============================] - 16s 18ms/step - loss: 0.1118 - root_mean_squared_error: 0.3343 - val_loss: 0.0268 - val_root_mean_squared_error: 0.1637\n",
      "Epoch 18/100\n",
      "886/886 [==============================] - 16s 18ms/step - loss: 0.1062 - root_mean_squared_error: 0.3258 - val_loss: 0.0509 - val_root_mean_squared_error: 0.2256\n",
      "Epoch 19/100\n",
      "886/886 [==============================] - 16s 18ms/step - loss: 0.0860 - root_mean_squared_error: 0.2933 - val_loss: 0.0968 - val_root_mean_squared_error: 0.3111\n",
      "Epoch 20/100\n",
      "886/886 [==============================] - 17s 19ms/step - loss: 0.1247 - root_mean_squared_error: 0.3532 - val_loss: 0.0373 - val_root_mean_squared_error: 0.1930\n",
      "Epoch 21/100\n",
      "886/886 [==============================] - 17s 19ms/step - loss: 0.0847 - root_mean_squared_error: 0.2911 - val_loss: 0.0395 - val_root_mean_squared_error: 0.1988\n",
      "Epoch 22/100\n",
      "886/886 [==============================] - 17s 19ms/step - loss: 0.0763 - root_mean_squared_error: 0.2762 - val_loss: 0.0721 - val_root_mean_squared_error: 0.2684\n",
      "Epoch 23/100\n",
      "886/886 [==============================] - 17s 19ms/step - loss: 0.0599 - root_mean_squared_error: 0.2447 - val_loss: 0.0588 - val_root_mean_squared_error: 0.2425\n",
      "Epoch 24/100\n",
      "886/886 [==============================] - 17s 19ms/step - loss: 0.0581 - root_mean_squared_error: 0.2410 - val_loss: 0.0960 - val_root_mean_squared_error: 0.3098\n",
      "Epoch 25/100\n",
      "886/886 [==============================] - 17s 19ms/step - loss: 0.0665 - root_mean_squared_error: 0.2579 - val_loss: 0.0280 - val_root_mean_squared_error: 0.1674\n"
     ]
    }
   ],
   "source": [
    "stack_1 = autoencoder_1.fit(train_X, train_X, epochs=100, batch_size=batch_size,validation_data = (test_X,test_X),callbacks = [callback])"
   ]
  },
  {
   "cell_type": "code",
   "execution_count": 28,
   "id": "e1649f9d-8bad-4b97-869f-e36ad74dec74",
   "metadata": {},
   "outputs": [
    {
     "name": "stdout",
     "output_type": "stream",
     "text": [
      "3937/3937 [==============================] - 22s 6ms/step\n"
     ]
    }
   ],
   "source": [
    "pred = autoencoder_1.predict(features)"
   ]
  },
  {
   "cell_type": "code",
   "execution_count": 29,
   "id": "906e81f4-3db0-4f24-8432-591f7117fa90",
   "metadata": {},
   "outputs": [
    {
     "data": {
      "text/plain": [
       "(125973, 41, 1)"
      ]
     },
     "execution_count": 29,
     "metadata": {},
     "output_type": "execute_result"
    }
   ],
   "source": [
    "np.shape(pred)"
   ]
  },
  {
   "cell_type": "code",
   "execution_count": 30,
   "id": "7120ddc2-e9b4-4b5e-96a7-b349dcc06716",
   "metadata": {},
   "outputs": [],
   "source": [
    "from sklearn.metrics import *\n",
    "import keras"
   ]
  },
  {
   "cell_type": "code",
   "execution_count": 31,
   "id": "68e44617-4d08-4b58-8846-6269ccd65304",
   "metadata": {},
   "outputs": [
    {
     "name": "stdout",
     "output_type": "stream",
     "text": [
      "3937/3937 [==============================] - 18s 5ms/step\n"
     ]
    }
   ],
   "source": [
    "layer_name = 'latent_1'\n",
    "intermediate_layer_model = Model(inputs=autoencoder_1.input,\n",
    "                                 outputs=autoencoder_1.get_layer(layer_name).output)\n",
    "intermediate_output_1 = intermediate_layer_model.predict(features)"
   ]
  },
  {
   "cell_type": "markdown",
   "id": "705f51ae-5b72-44fe-9347-a5bc95afe895",
   "metadata": {},
   "source": [
    "### Classifier Model"
   ]
  },
  {
   "cell_type": "code",
   "execution_count": 37,
   "id": "e42990d5-e983-41a8-b543-7de9b750ab74",
   "metadata": {},
   "outputs": [],
   "source": [
    "batch_size = 128\n",
    "input_dim = np.shape(intermediate_output_1)[1:]\n",
    "input_layer = Input(shape=(input_dim), name='input')\n",
    "flatten = Flatten()(input_layer)\n",
    "#Input Layer\n",
    "dense1 = Dense (128, activation='relu')(flatten)\n",
    "dense2 = Dense (64, activation='relu')(dense1)\n",
    "dense3 = Dense (8, activation='relu')(dense2)\n",
    "# Output Layer\n",
    "classifier = Dense(len(set(train_Y)), activation='softmax')(dense3)"
   ]
  },
  {
   "cell_type": "code",
   "execution_count": 38,
   "id": "61b5f89c-da19-4c1d-aeac-6480742079d1",
   "metadata": {},
   "outputs": [],
   "source": [
    "classify = Model(inputs=input_layer, outputs=classifier)\n",
    "classify.compile(metrics=['accuracy'],loss='sparse_categorical_crossentropy',optimizer='adam')"
   ]
  },
  {
   "cell_type": "code",
   "execution_count": 39,
   "id": "3f3d1399-8759-4b4d-a867-f1f0ce3c902d",
   "metadata": {},
   "outputs": [
    {
     "name": "stdout",
     "output_type": "stream",
     "text": [
      "Model: \"model_3\"\n",
      "_________________________________________________________________\n",
      " Layer (type)                Output Shape              Param #   \n",
      "=================================================================\n",
      " input (InputLayer)          [(None, 8, 32)]           0         \n",
      "                                                                 \n",
      " flatten_2 (Flatten)         (None, 256)               0         \n",
      "                                                                 \n",
      " dense_5 (Dense)             (None, 128)               32896     \n",
      "                                                                 \n",
      " dense_6 (Dense)             (None, 64)                8256      \n",
      "                                                                 \n",
      " dense_7 (Dense)             (None, 8)                 520       \n",
      "                                                                 \n",
      " dense_8 (Dense)             (None, 5)                 45        \n",
      "                                                                 \n",
      "=================================================================\n",
      "Total params: 41,717\n",
      "Trainable params: 41,717\n",
      "Non-trainable params: 0\n",
      "_________________________________________________________________\n"
     ]
    }
   ],
   "source": [
    "classify.summary()"
   ]
  },
  {
   "cell_type": "code",
   "execution_count": 40,
   "id": "ebe223a4-35ef-49bf-9196-4f186f3e9fc3",
   "metadata": {},
   "outputs": [],
   "source": [
    "train_X, test_X , train_Y ,test_Y = train_test_split(intermediate_output_1,labels,random_state = 42,test_size = 0.1)"
   ]
  },
  {
   "cell_type": "code",
   "execution_count": 41,
   "id": "1fb36109-9660-402c-8b93-a6d7f2e0dabb",
   "metadata": {},
   "outputs": [
    {
     "data": {
      "text/plain": [
       "((113375, 8, 32), (12598, 8, 32), (113375,), (12598,))"
      ]
     },
     "execution_count": 41,
     "metadata": {},
     "output_type": "execute_result"
    }
   ],
   "source": [
    "np.shape(train_X), np.shape(test_X) , np.shape(train_Y) ,np.shape(test_Y)"
   ]
  },
  {
   "cell_type": "code",
   "execution_count": 42,
   "id": "58791707-7c1c-4974-9244-fb445b644ccc",
   "metadata": {
    "tags": []
   },
   "outputs": [
    {
     "name": "stdout",
     "output_type": "stream",
     "text": [
      "Epoch 1/100\n",
      "3543/3543 [==============================] - 13s 4ms/step - loss: 0.0971 - accuracy: 0.9719 - val_loss: 0.0546 - val_accuracy: 0.9835\n",
      "Epoch 2/100\n",
      "3543/3543 [==============================] - 13s 4ms/step - loss: 0.0379 - accuracy: 0.9880 - val_loss: 0.0386 - val_accuracy: 0.9891\n",
      "Epoch 3/100\n",
      "3543/3543 [==============================] - 12s 3ms/step - loss: 0.0307 - accuracy: 0.9901 - val_loss: 0.0339 - val_accuracy: 0.9891\n",
      "Epoch 4/100\n",
      "3543/3543 [==============================] - 12s 3ms/step - loss: 0.0273 - accuracy: 0.9913 - val_loss: 0.0313 - val_accuracy: 0.9918\n",
      "Epoch 5/100\n",
      "3543/3543 [==============================] - 12s 4ms/step - loss: 0.0257 - accuracy: 0.9917 - val_loss: 0.0362 - val_accuracy: 0.9881\n",
      "Epoch 6/100\n",
      "3543/3543 [==============================] - 12s 3ms/step - loss: 0.0240 - accuracy: 0.9922 - val_loss: 0.0274 - val_accuracy: 0.9924\n",
      "Epoch 7/100\n",
      "3543/3543 [==============================] - 12s 3ms/step - loss: 0.0225 - accuracy: 0.9928 - val_loss: 0.0264 - val_accuracy: 0.9938\n",
      "Epoch 8/100\n",
      "3543/3543 [==============================] - 12s 4ms/step - loss: 0.0211 - accuracy: 0.9931 - val_loss: 0.0280 - val_accuracy: 0.9915\n",
      "Epoch 9/100\n",
      "3543/3543 [==============================] - 11s 3ms/step - loss: 0.0200 - accuracy: 0.9935 - val_loss: 0.0274 - val_accuracy: 0.9921\n",
      "Epoch 10/100\n",
      "3543/3543 [==============================] - 14s 4ms/step - loss: 0.0192 - accuracy: 0.9936 - val_loss: 0.0269 - val_accuracy: 0.9928\n",
      "Epoch 11/100\n",
      "3543/3543 [==============================] - 13s 4ms/step - loss: 0.0190 - accuracy: 0.9939 - val_loss: 0.0219 - val_accuracy: 0.9944\n",
      "Epoch 12/100\n",
      "3543/3543 [==============================] - 12s 3ms/step - loss: 0.0180 - accuracy: 0.9940 - val_loss: 0.0234 - val_accuracy: 0.9933\n",
      "Epoch 13/100\n",
      "3543/3543 [==============================] - 12s 3ms/step - loss: 0.0169 - accuracy: 0.9944 - val_loss: 0.0257 - val_accuracy: 0.9925\n",
      "Epoch 14/100\n",
      "3543/3543 [==============================] - 12s 3ms/step - loss: 0.0168 - accuracy: 0.9945 - val_loss: 0.0304 - val_accuracy: 0.9917\n",
      "Epoch 15/100\n",
      "3543/3543 [==============================] - 12s 3ms/step - loss: 0.0163 - accuracy: 0.9946 - val_loss: 0.0234 - val_accuracy: 0.9944\n",
      "Epoch 16/100\n",
      "3543/3543 [==============================] - 12s 3ms/step - loss: 0.0161 - accuracy: 0.9946 - val_loss: 0.0242 - val_accuracy: 0.9939\n",
      "Epoch 17/100\n",
      "3543/3543 [==============================] - 12s 3ms/step - loss: 0.0154 - accuracy: 0.9947 - val_loss: 0.0247 - val_accuracy: 0.9938\n",
      "Epoch 18/100\n",
      "3543/3543 [==============================] - 12s 3ms/step - loss: 0.0151 - accuracy: 0.9948 - val_loss: 0.0211 - val_accuracy: 0.9949\n",
      "Epoch 19/100\n",
      "3543/3543 [==============================] - 12s 3ms/step - loss: 0.0143 - accuracy: 0.9952 - val_loss: 0.0244 - val_accuracy: 0.9939\n",
      "Epoch 20/100\n",
      "3543/3543 [==============================] - 12s 3ms/step - loss: 0.0140 - accuracy: 0.9952 - val_loss: 0.0218 - val_accuracy: 0.9953\n",
      "Epoch 21/100\n",
      "3543/3543 [==============================] - 13s 4ms/step - loss: 0.0133 - accuracy: 0.9955 - val_loss: 0.0220 - val_accuracy: 0.9945\n",
      "Epoch 22/100\n",
      "3543/3543 [==============================] - 14s 4ms/step - loss: 0.0133 - accuracy: 0.9955 - val_loss: 0.0247 - val_accuracy: 0.9950\n",
      "Epoch 23/100\n",
      "3543/3543 [==============================] - 13s 4ms/step - loss: 0.0131 - accuracy: 0.9956 - val_loss: 0.0204 - val_accuracy: 0.9956\n",
      "Epoch 24/100\n",
      "3543/3543 [==============================] - 12s 3ms/step - loss: 0.0124 - accuracy: 0.9960 - val_loss: 0.0208 - val_accuracy: 0.9948\n",
      "Epoch 25/100\n",
      "3543/3543 [==============================] - 12s 3ms/step - loss: 0.0123 - accuracy: 0.9957 - val_loss: 0.0189 - val_accuracy: 0.9956\n",
      "Epoch 26/100\n",
      "3543/3543 [==============================] - 11s 3ms/step - loss: 0.0122 - accuracy: 0.9958 - val_loss: 0.0220 - val_accuracy: 0.9952\n",
      "Epoch 27/100\n",
      "3543/3543 [==============================] - 12s 3ms/step - loss: 0.0115 - accuracy: 0.9960 - val_loss: 0.0223 - val_accuracy: 0.9946\n",
      "Epoch 28/100\n",
      "3543/3543 [==============================] - 12s 3ms/step - loss: 0.0112 - accuracy: 0.9962 - val_loss: 0.0275 - val_accuracy: 0.9940\n",
      "Epoch 29/100\n",
      "3543/3543 [==============================] - 13s 4ms/step - loss: 0.0109 - accuracy: 0.9963 - val_loss: 0.0238 - val_accuracy: 0.9950\n",
      "Epoch 30/100\n",
      "3543/3543 [==============================] - 14s 4ms/step - loss: 0.0114 - accuracy: 0.9961 - val_loss: 0.0223 - val_accuracy: 0.9955\n",
      "Epoch 31/100\n",
      "3543/3543 [==============================] - 13s 4ms/step - loss: 0.0107 - accuracy: 0.9962 - val_loss: 0.0281 - val_accuracy: 0.9940\n",
      "Epoch 32/100\n",
      "3543/3543 [==============================] - 14s 4ms/step - loss: 0.0112 - accuracy: 0.9962 - val_loss: 0.0242 - val_accuracy: 0.9953\n",
      "Epoch 33/100\n",
      "3543/3543 [==============================] - 14s 4ms/step - loss: 0.0107 - accuracy: 0.9962 - val_loss: 0.0207 - val_accuracy: 0.9952\n"
     ]
    }
   ],
   "source": [
    "history = classify.fit(train_X, train_Y, epochs=100, batch_size=32,callbacks = [callback],validation_data = (test_X, test_Y))"
   ]
  },
  {
   "cell_type": "code",
   "execution_count": 43,
   "id": "3835f939-1e47-4ed9-9e94-41a990119a5a",
   "metadata": {},
   "outputs": [
    {
     "name": "stdout",
     "output_type": "stream",
     "text": [
      "394/394 [==============================] - 1s 1ms/step\n"
     ]
    }
   ],
   "source": [
    "preds = classify.predict(test_X)"
   ]
  },
  {
   "cell_type": "code",
   "execution_count": 44,
   "id": "2d90d8aa-687a-437a-ba87-33e74ed2e502",
   "metadata": {},
   "outputs": [
    {
     "data": {
      "text/plain": [
       "((12598, 5), (12598,))"
      ]
     },
     "execution_count": 44,
     "metadata": {},
     "output_type": "execute_result"
    }
   ],
   "source": [
    "np.shape(preds),np.shape(test_Y)"
   ]
  },
  {
   "cell_type": "code",
   "execution_count": 45,
   "id": "827db2ea-1075-4822-a90e-db2b000a51e3",
   "metadata": {},
   "outputs": [
    {
     "data": {
      "text/plain": [
       "{0.0, 1.0, 2.0, 3.0, 4.0}"
      ]
     },
     "execution_count": 45,
     "metadata": {},
     "output_type": "execute_result"
    }
   ],
   "source": [
    "set(labels)"
   ]
  },
  {
   "cell_type": "code",
   "execution_count": 46,
   "id": "66420e44-e3ac-49a0-b475-7ac3892e68a6",
   "metadata": {},
   "outputs": [],
   "source": [
    "from sklearn.metrics import confusion_matrix\n",
    "conf_mat = confusion_matrix(np.argmax(preds,axis = 1), test_Y)"
   ]
  },
  {
   "cell_type": "code",
   "execution_count": 47,
   "id": "80596a4f-2000-4f04-bb7b-0815b7ced17d",
   "metadata": {},
   "outputs": [
    {
     "name": "stdout",
     "output_type": "stream",
     "text": [
      "0.9956342276551834\n",
      "0.8185937312749678\n",
      "0.8914536885865267\n",
      "0.8460180110461119\n"
     ]
    }
   ],
   "source": [
    "print(accuracy_score(np.argmax(preds,axis = 1),test_Y))\n",
    "print(precision_score(np.argmax(preds,axis = 1),test_Y,average = 'macro'))\n",
    "print(recall_score(np.argmax(preds,axis = 1),test_Y,average = 'macro'))\n",
    "print(f1_score(np.argmax(preds,axis = 1),test_Y,average = 'macro'))"
   ]
  },
  {
   "cell_type": "code",
   "execution_count": 48,
   "id": "5582266a-40c3-49cf-bf08-81fef2e5ec2f",
   "metadata": {},
   "outputs": [],
   "source": [
    "import seaborn as sns"
   ]
  },
  {
   "cell_type": "code",
   "execution_count": 49,
   "id": "f8fd906d-887d-4ad9-ab88-c4350bb4b179",
   "metadata": {},
   "outputs": [
    {
     "data": {
      "text/plain": [
       "<AxesSubplot:>"
      ]
     },
     "execution_count": 49,
     "metadata": {},
     "output_type": "execute_result"
    },
    {
     "data": {
      "image/png": "[encoded data removed]",
      "text/plain": [
       "<Figure size 432x288 with 2 Axes>"
      ]
     },
     "metadata": {
      "needs_background": "light"
     },
     "output_type": "display_data"
    }
   ],
   "source": [
    "sns.heatmap(conf_mat, annot=True)"
   ]
  }
 ],
 "metadata": {
  "kernelspec": {
   "display_name": "Python 3 (ipykernel)",
   "language": "python",
   "name": "python3"
  },
  "language_info": {
   "codemirror_mode": {
    "name": "ipython",
    "version": 3
   },
   "file_extension": ".py",
   "mimetype": "text/x-python",
   "name": "python",
   "nbconvert_exporter": "python",
   "pygments_lexer": "ipython3",
   "version": "3.9.7"
  }
 },
 "nbformat": 4,
 "nbformat_minor": 5
}
