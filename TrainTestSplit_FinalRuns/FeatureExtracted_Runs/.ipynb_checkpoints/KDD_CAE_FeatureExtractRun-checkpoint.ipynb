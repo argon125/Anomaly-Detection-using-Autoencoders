{
 "cells": [
  {
   "cell_type": "code",
   "execution_count": 1,
   "id": "1bf0b868-c909-466a-8382-431edfb1ca3c",
   "metadata": {},
   "outputs": [],
   "source": [
    "import numpy as np\n",
    "import pandas as pd\n",
    "import matplotlib.pyplot as plt\n",
    "import os\n",
    "import tensorflow as tf"
   ]
  },
  {
   "cell_type": "code",
   "execution_count": 2,
   "id": "c01bb8b3-930c-4bd9-9a3f-5d07ce77b4ac",
   "metadata": {},
   "outputs": [],
   "source": [
    "feature = [\"duration\",\"protocol_type\",\"service\",\"flag\",\"src_bytes\",\n",
    "    \"dst_bytes\",\"land\",\"wrong_fragment\",\"urgent\",\"hot\",\"num_failed_logins\",\n",
    "    \"logged_in\",\"num_compromised\",\"root_shell\",\"su_attempted\",\"num_root\",\n",
    "    \"num_file_creations\",\"num_shells\",\"num_access_files\",\"num_outbound_cmds\",\n",
    "    \"is_host_login\",\"is_guest_login\",\"count\",\"srv_count\",\"serror_rate\",\n",
    "    \"srv_serror_rate\",\"rerror_rate\",\"srv_rerror_rate\",\"same_srv_rate\",\n",
    "    \"diff_srv_rate\",\"srv_diff_host_rate\",\"dst_host_count\",\"dst_host_srv_count\",\n",
    "    \"dst_host_same_srv_rate\",\"dst_host_diff_srv_rate\",\"dst_host_same_src_port_rate\",\n",
    "    \"dst_host_srv_diff_host_rate\",\"dst_host_serror_rate\",\"dst_host_srv_serror_rate\",\n",
    "    \"dst_host_rerror_rate\",\"dst_host_srv_rerror_rate\",\"target\",\"junk\"]"
   ]
  },
  {
   "cell_type": "code",
   "execution_count": 3,
   "id": "40536131-3ade-4777-9ac3-c1f2e6025ac7",
   "metadata": {},
   "outputs": [],
   "source": [
    "os.chdir(\"C:/Users/ArrunPersonal/Codes/Semester7/IDS/NSL-KDD\")"
   ]
  },
  {
   "cell_type": "code",
   "execution_count": 4,
   "id": "84364c10-8b89-45fa-8a3a-881de73b44aa",
   "metadata": {},
   "outputs": [],
   "source": [
    "df = pd.read_csv(\"KDDTrain+.csv\", names = feature)\n",
    "df.drop([\"junk\"],axis = 1,inplace = True)"
   ]
  },
  {
   "cell_type": "code",
   "execution_count": 5,
   "id": "3fbe8575-19ab-460a-ad78-e5cff17205a5",
   "metadata": {},
   "outputs": [
    {
     "data": {
      "text/plain": [
       "False"
      ]
     },
     "execution_count": 5,
     "metadata": {},
     "output_type": "execute_result"
    }
   ],
   "source": [
    "df.isnull().values.any()"
   ]
  },
  {
   "cell_type": "code",
   "execution_count": 6,
   "id": "5156c38d-0cd4-4fe0-b633-eaa3f29769a5",
   "metadata": {},
   "outputs": [
    {
     "data": {
      "text/html": [
       "<div>\n",
       "<style scoped>\n",
       "    .dataframe tbody tr th:only-of-type {\n",
       "        vertical-align: middle;\n",
       "    }\n",
       "\n",
       "    .dataframe tbody tr th {\n",
       "        vertical-align: top;\n",
       "    }\n",
       "\n",
       "    .dataframe thead th {\n",
       "        text-align: right;\n",
       "    }\n",
       "</style>\n",
       "<table border=\"1\" class=\"dataframe\">\n",
       "  <thead>\n",
       "    <tr style=\"text-align: right;\">\n",
       "      <th></th>\n",
       "      <th>duration</th>\n",
       "      <th>protocol_type</th>\n",
       "      <th>service</th>\n",
       "      <th>flag</th>\n",
       "      <th>src_bytes</th>\n",
       "      <th>dst_bytes</th>\n",
       "      <th>land</th>\n",
       "      <th>wrong_fragment</th>\n",
       "      <th>urgent</th>\n",
       "      <th>hot</th>\n",
       "      <th>...</th>\n",
       "      <th>dst_host_srv_count</th>\n",
       "      <th>dst_host_same_srv_rate</th>\n",
       "      <th>dst_host_diff_srv_rate</th>\n",
       "      <th>dst_host_same_src_port_rate</th>\n",
       "      <th>dst_host_srv_diff_host_rate</th>\n",
       "      <th>dst_host_serror_rate</th>\n",
       "      <th>dst_host_srv_serror_rate</th>\n",
       "      <th>dst_host_rerror_rate</th>\n",
       "      <th>dst_host_srv_rerror_rate</th>\n",
       "      <th>target</th>\n",
       "    </tr>\n",
       "  </thead>\n",
       "  <tbody>\n",
       "    <tr>\n",
       "      <th>0</th>\n",
       "      <td>0</td>\n",
       "      <td>tcp</td>\n",
       "      <td>ftp_data</td>\n",
       "      <td>SF</td>\n",
       "      <td>491</td>\n",
       "      <td>0</td>\n",
       "      <td>0</td>\n",
       "      <td>0</td>\n",
       "      <td>0</td>\n",
       "      <td>0</td>\n",
       "      <td>...</td>\n",
       "      <td>25</td>\n",
       "      <td>0.17</td>\n",
       "      <td>0.03</td>\n",
       "      <td>0.17</td>\n",
       "      <td>0.00</td>\n",
       "      <td>0.00</td>\n",
       "      <td>0.00</td>\n",
       "      <td>0.05</td>\n",
       "      <td>0.00</td>\n",
       "      <td>normal</td>\n",
       "    </tr>\n",
       "    <tr>\n",
       "      <th>1</th>\n",
       "      <td>0</td>\n",
       "      <td>udp</td>\n",
       "      <td>other</td>\n",
       "      <td>SF</td>\n",
       "      <td>146</td>\n",
       "      <td>0</td>\n",
       "      <td>0</td>\n",
       "      <td>0</td>\n",
       "      <td>0</td>\n",
       "      <td>0</td>\n",
       "      <td>...</td>\n",
       "      <td>1</td>\n",
       "      <td>0.00</td>\n",
       "      <td>0.60</td>\n",
       "      <td>0.88</td>\n",
       "      <td>0.00</td>\n",
       "      <td>0.00</td>\n",
       "      <td>0.00</td>\n",
       "      <td>0.00</td>\n",
       "      <td>0.00</td>\n",
       "      <td>normal</td>\n",
       "    </tr>\n",
       "    <tr>\n",
       "      <th>2</th>\n",
       "      <td>0</td>\n",
       "      <td>tcp</td>\n",
       "      <td>private</td>\n",
       "      <td>S0</td>\n",
       "      <td>0</td>\n",
       "      <td>0</td>\n",
       "      <td>0</td>\n",
       "      <td>0</td>\n",
       "      <td>0</td>\n",
       "      <td>0</td>\n",
       "      <td>...</td>\n",
       "      <td>26</td>\n",
       "      <td>0.10</td>\n",
       "      <td>0.05</td>\n",
       "      <td>0.00</td>\n",
       "      <td>0.00</td>\n",
       "      <td>1.00</td>\n",
       "      <td>1.00</td>\n",
       "      <td>0.00</td>\n",
       "      <td>0.00</td>\n",
       "      <td>neptune</td>\n",
       "    </tr>\n",
       "    <tr>\n",
       "      <th>3</th>\n",
       "      <td>0</td>\n",
       "      <td>tcp</td>\n",
       "      <td>http</td>\n",
       "      <td>SF</td>\n",
       "      <td>232</td>\n",
       "      <td>8153</td>\n",
       "      <td>0</td>\n",
       "      <td>0</td>\n",
       "      <td>0</td>\n",
       "      <td>0</td>\n",
       "      <td>...</td>\n",
       "      <td>255</td>\n",
       "      <td>1.00</td>\n",
       "      <td>0.00</td>\n",
       "      <td>0.03</td>\n",
       "      <td>0.04</td>\n",
       "      <td>0.03</td>\n",
       "      <td>0.01</td>\n",
       "      <td>0.00</td>\n",
       "      <td>0.01</td>\n",
       "      <td>normal</td>\n",
       "    </tr>\n",
       "    <tr>\n",
       "      <th>4</th>\n",
       "      <td>0</td>\n",
       "      <td>tcp</td>\n",
       "      <td>http</td>\n",
       "      <td>SF</td>\n",
       "      <td>199</td>\n",
       "      <td>420</td>\n",
       "      <td>0</td>\n",
       "      <td>0</td>\n",
       "      <td>0</td>\n",
       "      <td>0</td>\n",
       "      <td>...</td>\n",
       "      <td>255</td>\n",
       "      <td>1.00</td>\n",
       "      <td>0.00</td>\n",
       "      <td>0.00</td>\n",
       "      <td>0.00</td>\n",
       "      <td>0.00</td>\n",
       "      <td>0.00</td>\n",
       "      <td>0.00</td>\n",
       "      <td>0.00</td>\n",
       "      <td>normal</td>\n",
       "    </tr>\n",
       "  </tbody>\n",
       "</table>\n",
       "<p>5 rows × 42 columns</p>\n",
       "</div>"
      ],
      "text/plain": [
       "   duration protocol_type   service flag  src_bytes  dst_bytes  land  \\\n",
       "0         0           tcp  ftp_data   SF        491          0     0   \n",
       "1         0           udp     other   SF        146          0     0   \n",
       "2         0           tcp   private   S0          0          0     0   \n",
       "3         0           tcp      http   SF        232       8153     0   \n",
       "4         0           tcp      http   SF        199        420     0   \n",
       "\n",
       "   wrong_fragment  urgent  hot  ...  dst_host_srv_count  \\\n",
       "0               0       0    0  ...                  25   \n",
       "1               0       0    0  ...                   1   \n",
       "2               0       0    0  ...                  26   \n",
       "3               0       0    0  ...                 255   \n",
       "4               0       0    0  ...                 255   \n",
       "\n",
       "   dst_host_same_srv_rate  dst_host_diff_srv_rate  \\\n",
       "0                    0.17                    0.03   \n",
       "1                    0.00                    0.60   \n",
       "2                    0.10                    0.05   \n",
       "3                    1.00                    0.00   \n",
       "4                    1.00                    0.00   \n",
       "\n",
       "   dst_host_same_src_port_rate  dst_host_srv_diff_host_rate  \\\n",
       "0                         0.17                         0.00   \n",
       "1                         0.88                         0.00   \n",
       "2                         0.00                         0.00   \n",
       "3                         0.03                         0.04   \n",
       "4                         0.00                         0.00   \n",
       "\n",
       "   dst_host_serror_rate  dst_host_srv_serror_rate  dst_host_rerror_rate  \\\n",
       "0                  0.00                      0.00                  0.05   \n",
       "1                  0.00                      0.00                  0.00   \n",
       "2                  1.00                      1.00                  0.00   \n",
       "3                  0.03                      0.01                  0.00   \n",
       "4                  0.00                      0.00                  0.00   \n",
       "\n",
       "   dst_host_srv_rerror_rate   target  \n",
       "0                      0.00   normal  \n",
       "1                      0.00   normal  \n",
       "2                      0.00  neptune  \n",
       "3                      0.01   normal  \n",
       "4                      0.00   normal  \n",
       "\n",
       "[5 rows x 42 columns]"
      ]
     },
     "execution_count": 6,
     "metadata": {},
     "output_type": "execute_result"
    }
   ],
   "source": [
    "df.head()"
   ]
  },
  {
   "cell_type": "code",
   "execution_count": 7,
   "id": "55dab8da-b0ab-40d7-a7b8-72fb965459cc",
   "metadata": {},
   "outputs": [],
   "source": [
    "protocol_dict = dict(zip(set(df['protocol_type']),np.arange(len(set(df['protocol_type'])))))\n",
    "service_dict = dict(zip(set(df['service']),np.arange(len(set(df['service'])))))\n",
    "flag_dict = dict(zip(set(df['flag']),np.arange(len(set(df['flag'])))))"
   ]
  },
  {
   "cell_type": "code",
   "execution_count": 8,
   "id": "0bdb4b00-8c4d-41eb-aefc-88c49de6ac8c",
   "metadata": {},
   "outputs": [],
   "source": [
    "# changing attack labels to their respective attack class\n",
    "def change_feature(df):\n",
    "    df.target.replace(['apache2','back','land','neptune','mailbomb','pod','processtable','smurf','teardrop','udpstorm','worm'],'Dos',inplace=True)\n",
    "    df.target.replace(['ftp_write','guess_passwd','httptunnel','imap','multihop','named','phf','sendmail','snmpgetattack','snmpguess','spy','warezclient','warezmaster','xlock','xsnoop'],'R2L',inplace=True)      \n",
    "    df.target.replace(['ipsweep','mscan','nmap','portsweep','saint','satan'],'Probe',inplace=True)\n",
    "    df.target.replace(['buffer_overflow','loadmodule','perl','ps','rootkit','sqlattack','xterm'],'U2R',inplace=True)\n",
    "    \n",
    "    df.protocol_type.replace(protocol_dict.keys(),protocol_dict.values(),inplace=True)\n",
    "    df.service.replace(service_dict.keys(),service_dict.values(),inplace=True)\n",
    "    df.flag.replace(flag_dict.keys(),flag_dict.values(),inplace=True)"
   ]
  },
  {
   "cell_type": "code",
   "execution_count": 9,
   "id": "d7967ffd-6d6d-4ab3-b30e-f42ed7f96d5f",
   "metadata": {},
   "outputs": [],
   "source": [
    "change_feature(df)"
   ]
  },
  {
   "cell_type": "code",
   "execution_count": 10,
   "id": "8b26c684-a757-4180-8e33-82979a2e216a",
   "metadata": {},
   "outputs": [],
   "source": [
    "target_dict = dict(zip(set(df['target']),np.arange(len(set(df['target'])))))"
   ]
  },
  {
   "cell_type": "code",
   "execution_count": 11,
   "id": "410c0811-b1dd-4b02-a3f5-2000c64e7000",
   "metadata": {},
   "outputs": [],
   "source": [
    "def change_target(df):\n",
    "    df.target.replace(target_dict.keys(),target_dict.values(),inplace=True)"
   ]
  },
  {
   "cell_type": "code",
   "execution_count": 12,
   "id": "34dd9a32-72fc-4ff2-a215-ce6bb0fb8086",
   "metadata": {},
   "outputs": [],
   "source": [
    "change_target(df)"
   ]
  },
  {
   "cell_type": "code",
   "execution_count": 13,
   "id": "f15b3693-fd32-4536-9fcd-9cbe1a6c1ec6",
   "metadata": {},
   "outputs": [
    {
     "data": {
      "text/html": [
       "<div>\n",
       "<style scoped>\n",
       "    .dataframe tbody tr th:only-of-type {\n",
       "        vertical-align: middle;\n",
       "    }\n",
       "\n",
       "    .dataframe tbody tr th {\n",
       "        vertical-align: top;\n",
       "    }\n",
       "\n",
       "    .dataframe thead th {\n",
       "        text-align: right;\n",
       "    }\n",
       "</style>\n",
       "<table border=\"1\" class=\"dataframe\">\n",
       "  <thead>\n",
       "    <tr style=\"text-align: right;\">\n",
       "      <th></th>\n",
       "      <th>duration</th>\n",
       "      <th>protocol_type</th>\n",
       "      <th>service</th>\n",
       "      <th>flag</th>\n",
       "      <th>src_bytes</th>\n",
       "      <th>dst_bytes</th>\n",
       "      <th>land</th>\n",
       "      <th>wrong_fragment</th>\n",
       "      <th>urgent</th>\n",
       "      <th>hot</th>\n",
       "      <th>...</th>\n",
       "      <th>dst_host_srv_count</th>\n",
       "      <th>dst_host_same_srv_rate</th>\n",
       "      <th>dst_host_diff_srv_rate</th>\n",
       "      <th>dst_host_same_src_port_rate</th>\n",
       "      <th>dst_host_srv_diff_host_rate</th>\n",
       "      <th>dst_host_serror_rate</th>\n",
       "      <th>dst_host_srv_serror_rate</th>\n",
       "      <th>dst_host_rerror_rate</th>\n",
       "      <th>dst_host_srv_rerror_rate</th>\n",
       "      <th>target</th>\n",
       "    </tr>\n",
       "  </thead>\n",
       "  <tbody>\n",
       "    <tr>\n",
       "      <th>0</th>\n",
       "      <td>0</td>\n",
       "      <td>2</td>\n",
       "      <td>29</td>\n",
       "      <td>7</td>\n",
       "      <td>491</td>\n",
       "      <td>0</td>\n",
       "      <td>0</td>\n",
       "      <td>0</td>\n",
       "      <td>0</td>\n",
       "      <td>0</td>\n",
       "      <td>...</td>\n",
       "      <td>25</td>\n",
       "      <td>0.17</td>\n",
       "      <td>0.03</td>\n",
       "      <td>0.17</td>\n",
       "      <td>0.00</td>\n",
       "      <td>0.00</td>\n",
       "      <td>0.00</td>\n",
       "      <td>0.05</td>\n",
       "      <td>0.00</td>\n",
       "      <td>3</td>\n",
       "    </tr>\n",
       "    <tr>\n",
       "      <th>1</th>\n",
       "      <td>0</td>\n",
       "      <td>0</td>\n",
       "      <td>13</td>\n",
       "      <td>7</td>\n",
       "      <td>146</td>\n",
       "      <td>0</td>\n",
       "      <td>0</td>\n",
       "      <td>0</td>\n",
       "      <td>0</td>\n",
       "      <td>0</td>\n",
       "      <td>...</td>\n",
       "      <td>1</td>\n",
       "      <td>0.00</td>\n",
       "      <td>0.60</td>\n",
       "      <td>0.88</td>\n",
       "      <td>0.00</td>\n",
       "      <td>0.00</td>\n",
       "      <td>0.00</td>\n",
       "      <td>0.00</td>\n",
       "      <td>0.00</td>\n",
       "      <td>3</td>\n",
       "    </tr>\n",
       "    <tr>\n",
       "      <th>2</th>\n",
       "      <td>0</td>\n",
       "      <td>2</td>\n",
       "      <td>22</td>\n",
       "      <td>6</td>\n",
       "      <td>0</td>\n",
       "      <td>0</td>\n",
       "      <td>0</td>\n",
       "      <td>0</td>\n",
       "      <td>0</td>\n",
       "      <td>0</td>\n",
       "      <td>...</td>\n",
       "      <td>26</td>\n",
       "      <td>0.10</td>\n",
       "      <td>0.05</td>\n",
       "      <td>0.00</td>\n",
       "      <td>0.00</td>\n",
       "      <td>1.00</td>\n",
       "      <td>1.00</td>\n",
       "      <td>0.00</td>\n",
       "      <td>0.00</td>\n",
       "      <td>2</td>\n",
       "    </tr>\n",
       "    <tr>\n",
       "      <th>3</th>\n",
       "      <td>0</td>\n",
       "      <td>2</td>\n",
       "      <td>14</td>\n",
       "      <td>7</td>\n",
       "      <td>232</td>\n",
       "      <td>8153</td>\n",
       "      <td>0</td>\n",
       "      <td>0</td>\n",
       "      <td>0</td>\n",
       "      <td>0</td>\n",
       "      <td>...</td>\n",
       "      <td>255</td>\n",
       "      <td>1.00</td>\n",
       "      <td>0.00</td>\n",
       "      <td>0.03</td>\n",
       "      <td>0.04</td>\n",
       "      <td>0.03</td>\n",
       "      <td>0.01</td>\n",
       "      <td>0.00</td>\n",
       "      <td>0.01</td>\n",
       "      <td>3</td>\n",
       "    </tr>\n",
       "    <tr>\n",
       "      <th>4</th>\n",
       "      <td>0</td>\n",
       "      <td>2</td>\n",
       "      <td>14</td>\n",
       "      <td>7</td>\n",
       "      <td>199</td>\n",
       "      <td>420</td>\n",
       "      <td>0</td>\n",
       "      <td>0</td>\n",
       "      <td>0</td>\n",
       "      <td>0</td>\n",
       "      <td>...</td>\n",
       "      <td>255</td>\n",
       "      <td>1.00</td>\n",
       "      <td>0.00</td>\n",
       "      <td>0.00</td>\n",
       "      <td>0.00</td>\n",
       "      <td>0.00</td>\n",
       "      <td>0.00</td>\n",
       "      <td>0.00</td>\n",
       "      <td>0.00</td>\n",
       "      <td>3</td>\n",
       "    </tr>\n",
       "  </tbody>\n",
       "</table>\n",
       "<p>5 rows × 42 columns</p>\n",
       "</div>"
      ],
      "text/plain": [
       "   duration  protocol_type  service  flag  src_bytes  dst_bytes  land  \\\n",
       "0         0              2       29     7        491          0     0   \n",
       "1         0              0       13     7        146          0     0   \n",
       "2         0              2       22     6          0          0     0   \n",
       "3         0              2       14     7        232       8153     0   \n",
       "4         0              2       14     7        199        420     0   \n",
       "\n",
       "   wrong_fragment  urgent  hot  ...  dst_host_srv_count  \\\n",
       "0               0       0    0  ...                  25   \n",
       "1               0       0    0  ...                   1   \n",
       "2               0       0    0  ...                  26   \n",
       "3               0       0    0  ...                 255   \n",
       "4               0       0    0  ...                 255   \n",
       "\n",
       "   dst_host_same_srv_rate  dst_host_diff_srv_rate  \\\n",
       "0                    0.17                    0.03   \n",
       "1                    0.00                    0.60   \n",
       "2                    0.10                    0.05   \n",
       "3                    1.00                    0.00   \n",
       "4                    1.00                    0.00   \n",
       "\n",
       "   dst_host_same_src_port_rate  dst_host_srv_diff_host_rate  \\\n",
       "0                         0.17                         0.00   \n",
       "1                         0.88                         0.00   \n",
       "2                         0.00                         0.00   \n",
       "3                         0.03                         0.04   \n",
       "4                         0.00                         0.00   \n",
       "\n",
       "   dst_host_serror_rate  dst_host_srv_serror_rate  dst_host_rerror_rate  \\\n",
       "0                  0.00                      0.00                  0.05   \n",
       "1                  0.00                      0.00                  0.00   \n",
       "2                  1.00                      1.00                  0.00   \n",
       "3                  0.03                      0.01                  0.00   \n",
       "4                  0.00                      0.00                  0.00   \n",
       "\n",
       "   dst_host_srv_rerror_rate  target  \n",
       "0                      0.00       3  \n",
       "1                      0.00       3  \n",
       "2                      0.00       2  \n",
       "3                      0.01       3  \n",
       "4                      0.00       3  \n",
       "\n",
       "[5 rows x 42 columns]"
      ]
     },
     "execution_count": 13,
     "metadata": {},
     "output_type": "execute_result"
    }
   ],
   "source": [
    "df.head()"
   ]
  },
  {
   "cell_type": "code",
   "execution_count": 14,
   "id": "ab5c5615-fa58-4c6d-8df5-73bcc9d24fa1",
   "metadata": {},
   "outputs": [],
   "source": [
    "df_lis = np.array(df.values.tolist())"
   ]
  },
  {
   "cell_type": "code",
   "execution_count": 15,
   "id": "a707a55d-2191-4b28-853c-a40ebb4f7bb5",
   "metadata": {},
   "outputs": [],
   "source": [
    "from scipy.stats import pearsonr"
   ]
  },
  {
   "cell_type": "code",
   "execution_count": 16,
   "id": "e96b6b0e-e8fb-4d08-a3a9-fe6aaf185ef3",
   "metadata": {},
   "outputs": [],
   "source": [
    "features = np.array(df_lis[:,:-1])\n",
    "labels = np.array(df_lis[:,-1])"
   ]
  },
  {
   "cell_type": "code",
   "execution_count": 17,
   "id": "9a3040b2-73dc-4f35-84be-ea0dd7421534",
   "metadata": {},
   "outputs": [
    {
     "name": "stderr",
     "output_type": "stream",
     "text": [
      "C:\\Users\\ArrunPersonal\\anaconda3\\lib\\site-packages\\scipy\\stats\\stats.py:4023: PearsonRConstantInputWarning: An input array is constant; the correlation coefficient is not defined.\n",
      "  warnings.warn(PearsonRConstantInputWarning())\n"
     ]
    }
   ],
   "source": [
    "scores = [abs(pearsonr(features[:,i],labels)[0]) for i in range(np.shape(features)[1])]"
   ]
  },
  {
   "cell_type": "code",
   "execution_count": 18,
   "id": "7a15f2be-6ab2-4d38-8aaa-4247757c8a9c",
   "metadata": {},
   "outputs": [
    {
     "data": {
      "text/plain": [
       "[0.16646746504799223,\n",
       " 0.03596063187127273,\n",
       " 0.3199581510132861,\n",
       " 0.40837631807557856,\n",
       " 0.014465213814609749,\n",
       " 0.01029818665297428,\n",
       " 0.0013345572081117254,\n",
       " 0.03642846715132537,\n",
       " 0.0060972560344322935,\n",
       " 0.093136143535697,\n",
       " 0.02736683170763886,\n",
       " 0.566304980922801,\n",
       " 0.007911016529420957,\n",
       " 0.014838097287261608,\n",
       " 0.017509007796911745,\n",
       " 0.008777591511100495,\n",
       " 0.016590123356388663,\n",
       " 0.009192399347987195,\n",
       " 0.029917529284365887,\n",
       " 0,\n",
       " 0.00199615097881399,\n",
       " 0.09751429428148603,\n",
       " 0.3204712385512492,\n",
       " 0.041358887719139925,\n",
       " 0.26252657321488737,\n",
       " 0.2592391658762218,\n",
       " 0.3490566319101178,\n",
       " 0.3508939574062942,\n",
       " 0.4145440388308866,\n",
       " 0.3403900942453238,\n",
       " 0.09979427940287663,\n",
       " 0.14773322953567408,\n",
       " 0.5275051840355726,\n",
       " 0.45386043471107274,\n",
       " 0.4886385504279263,\n",
       " 0.36285107877214395,\n",
       " 0.31046073146991715,\n",
       " 0.2614944335081804,\n",
       " 0.2639997918241256,\n",
       " 0.32673214205963896,\n",
       " 0.3521979880096663]"
      ]
     },
     "execution_count": 18,
     "metadata": {},
     "output_type": "execute_result"
    }
   ],
   "source": [
    "scores[19] = 0\n",
    "scores"
   ]
  },
  {
   "cell_type": "code",
   "execution_count": 19,
   "id": "41c1ec72-0258-494c-96c4-ca229b9bbf0c",
   "metadata": {},
   "outputs": [],
   "source": [
    "act_features = []\n",
    "act_indices = []\n",
    "for i in range(len(scores)):\n",
    "    if(scores[i]> 0.1):\n",
    "        act_indices.append(i)\n",
    "        act_features.append(features[:,i])"
   ]
  },
  {
   "cell_type": "code",
   "execution_count": 20,
   "id": "8c323560-d3bb-44a0-9767-2d2dfab4abd9",
   "metadata": {},
   "outputs": [],
   "source": [
    "act_features = np.array(act_features).T"
   ]
  },
  {
   "cell_type": "code",
   "execution_count": 21,
   "id": "0327c182-992c-471d-9ba8-2f3a403f68bc",
   "metadata": {},
   "outputs": [
    {
     "data": {
      "text/plain": [
       "(125973, 21)"
      ]
     },
     "execution_count": 21,
     "metadata": {},
     "output_type": "execute_result"
    }
   ],
   "source": [
    "for i in range(np.shape(act_features)[1]):\n",
    "    if(np.std(act_features[:,i])!=0):\n",
    "        act_features[:,i] = (act_features[:,i]-np.mean(act_features[:,i]))/np.std(act_features[:,i]) \n",
    "    else:\n",
    "        act_features[:,i] = (act_features[:,i]-np.mean(act_features[:,i]))\n",
    "np.shape(act_features)"
   ]
  },
  {
   "cell_type": "code",
   "execution_count": 22,
   "id": "630656a7-3b1e-4940-a8ce-45c6c0b6b89c",
   "metadata": {},
   "outputs": [
    {
     "data": {
      "text/plain": [
       "((125973, 41), (125973,))"
      ]
     },
     "execution_count": 22,
     "metadata": {},
     "output_type": "execute_result"
    }
   ],
   "source": [
    "np.shape(features),np.shape(labels)"
   ]
  },
  {
   "cell_type": "code",
   "execution_count": 23,
   "id": "d3e6c184-a980-46a9-9225-94f044066145",
   "metadata": {},
   "outputs": [],
   "source": [
    "from sklearn.model_selection import train_test_split "
   ]
  },
  {
   "cell_type": "code",
   "execution_count": 24,
   "id": "cb8fe055-378f-4de0-9175-d60f11884caa",
   "metadata": {},
   "outputs": [],
   "source": [
    "train_X, test_X , train_Y ,test_Y = train_test_split(act_features,labels,random_state = 42,test_size = 0.1)"
   ]
  },
  {
   "cell_type": "code",
   "execution_count": 25,
   "id": "47ba8e9a-7891-4de2-a9ab-b1efa262291a",
   "metadata": {},
   "outputs": [
    {
     "name": "stdout",
     "output_type": "stream",
     "text": [
      "(113375, 21) (12598, 21) (113375,) (12598,)\n"
     ]
    }
   ],
   "source": [
    "print(np.shape(train_X),np.shape(test_X),np.shape(train_Y),np.shape(test_Y))"
   ]
  },
  {
   "cell_type": "markdown",
   "id": "a7ca5b2f-40a8-4f6f-9d4d-885632699f7e",
   "metadata": {},
   "source": [
    "# Stacked Convolutional Auto Encoder"
   ]
  },
  {
   "cell_type": "markdown",
   "id": "22de135a-8483-476f-bf21-29658e15e464",
   "metadata": {},
   "source": [
    "### First Stack"
   ]
  },
  {
   "cell_type": "code",
   "execution_count": 26,
   "id": "5cbdc2d6-0d68-43c5-b86d-8789714290ac",
   "metadata": {},
   "outputs": [],
   "source": [
    "from keras.layers import *\n",
    "from keras.models import Model"
   ]
  },
  {
   "cell_type": "code",
   "execution_count": 27,
   "id": "d86da138-a431-47fe-90cf-085690cfafce",
   "metadata": {},
   "outputs": [],
   "source": [
    "batch_size = 64\n",
    "input_dim = (np.shape(train_X)[1],1)\n",
    "input_layer = Input(shape=input_dim, name='input')\n",
    "#Input Layer\n",
    "encoder1 = Conv1D (64,3)(input_layer)\n",
    "encoder1 = MaxPooling1D(2)(encoder1)\n",
    "#Encoder’s first dense layer\n",
    "encoder2 = Conv1D (32,3)(encoder1)\n",
    "encoder2 = MaxPooling1D(2)(encoder2)\n",
    "# Code layer\n",
    "latent_layer = Dense (32, name = 'latent_1')(encoder2)\n",
    "# Decoder’s first dense layer\n",
    "decoder1 = Conv1DTranspose (32,3)(latent_layer)\n",
    "decoder1 = UpSampling1D(2)(decoder1)\n",
    "# Decoder’s Third dense layer\n",
    "decoder2 = Conv1DTranspose (64,3)(decoder1)\n",
    "decoder2 = UpSampling1D(2)(decoder2)\n",
    "flatten = Flatten()(decoder2)\n",
    "# Output Layer\n",
    "output_layer = Dense(input_dim[0])(flatten)\n",
    "output_layer = Reshape((input_dim[0],1), input_shape=(input_dim[0],))(output_layer)"
   ]
  },
  {
   "cell_type": "code",
   "execution_count": 28,
   "id": "44e82ea0-c414-4c62-b6b7-b264d2a8d50d",
   "metadata": {},
   "outputs": [],
   "source": [
    "autoencoder_1 = Model(inputs=input_layer, outputs=output_layer)\n",
    "autoencoder_1.compile(metrics=tf.keras.metrics.RootMeanSquaredError(),loss='mse',optimizer='adam')"
   ]
  },
  {
   "cell_type": "code",
   "execution_count": 29,
   "id": "b2dc9457-16b6-4196-a168-1a68bf872132",
   "metadata": {},
   "outputs": [
    {
     "name": "stdout",
     "output_type": "stream",
     "text": [
      "Model: \"model\"\n",
      "_________________________________________________________________\n",
      " Layer (type)                Output Shape              Param #   \n",
      "=================================================================\n",
      " input (InputLayer)          [(None, 21, 1)]           0         \n",
      "                                                                 \n",
      " conv1d (Conv1D)             (None, 19, 64)            256       \n",
      "                                                                 \n",
      " max_pooling1d (MaxPooling1D  (None, 9, 64)            0         \n",
      " )                                                               \n",
      "                                                                 \n",
      " conv1d_1 (Conv1D)           (None, 7, 32)             6176      \n",
      "                                                                 \n",
      " max_pooling1d_1 (MaxPooling  (None, 3, 32)            0         \n",
      " 1D)                                                             \n",
      "                                                                 \n",
      " latent_1 (Dense)            (None, 3, 32)             1056      \n",
      "                                                                 \n",
      " conv1d_transpose (Conv1DTra  (None, 5, 32)            3104      \n",
      " nspose)                                                         \n",
      "                                                                 \n",
      " up_sampling1d (UpSampling1D  (None, 10, 32)           0         \n",
      " )                                                               \n",
      "                                                                 \n",
      " conv1d_transpose_1 (Conv1DT  (None, 12, 64)           6208      \n",
      " ranspose)                                                       \n",
      "                                                                 \n",
      " up_sampling1d_1 (UpSampling  (None, 24, 64)           0         \n",
      " 1D)                                                             \n",
      "                                                                 \n",
      " flatten (Flatten)           (None, 1536)              0         \n",
      "                                                                 \n",
      " dense (Dense)               (None, 21)                32277     \n",
      "                                                                 \n",
      " reshape (Reshape)           (None, 21, 1)             0         \n",
      "                                                                 \n",
      "=================================================================\n",
      "Total params: 49,077\n",
      "Trainable params: 49,077\n",
      "Non-trainable params: 0\n",
      "_________________________________________________________________\n"
     ]
    }
   ],
   "source": [
    "autoencoder_1.summary()"
   ]
  },
  {
   "cell_type": "code",
   "execution_count": 30,
   "id": "6cc6c2f4-c05d-48eb-b44f-76fcf2b1127a",
   "metadata": {},
   "outputs": [],
   "source": [
    "callback = tf.keras.callbacks.EarlyStopping(monitor='val_loss', patience=8,restore_best_weights=True)"
   ]
  },
  {
   "cell_type": "code",
   "execution_count": 32,
   "id": "e417685c-9443-49e3-8a06-cad73ce75718",
   "metadata": {
    "tags": []
   },
   "outputs": [
    {
     "name": "stdout",
     "output_type": "stream",
     "text": [
      "Epoch 1/100\n",
      "1772/1772 [==============================] - 8s 4ms/step - loss: 0.0053 - root_mean_squared_error: 0.0728 - val_loss: 0.0056 - val_root_mean_squared_error: 0.0750\n",
      "Epoch 2/100\n",
      "1772/1772 [==============================] - 8s 4ms/step - loss: 0.0052 - root_mean_squared_error: 0.0723 - val_loss: 0.0046 - val_root_mean_squared_error: 0.0679\n",
      "Epoch 3/100\n",
      "1772/1772 [==============================] - 8s 4ms/step - loss: 0.0052 - root_mean_squared_error: 0.0720 - val_loss: 0.0047 - val_root_mean_squared_error: 0.0682\n",
      "Epoch 4/100\n",
      "1772/1772 [==============================] - 8s 4ms/step - loss: 0.0052 - root_mean_squared_error: 0.0719 - val_loss: 0.0048 - val_root_mean_squared_error: 0.0692\n",
      "Epoch 5/100\n",
      "1772/1772 [==============================] - 7s 4ms/step - loss: 0.0051 - root_mean_squared_error: 0.0716 - val_loss: 0.0051 - val_root_mean_squared_error: 0.0717\n",
      "Epoch 6/100\n",
      "1772/1772 [==============================] - 7s 4ms/step - loss: 0.0051 - root_mean_squared_error: 0.0717 - val_loss: 0.0048 - val_root_mean_squared_error: 0.0693\n",
      "Epoch 7/100\n",
      "1772/1772 [==============================] - 8s 4ms/step - loss: 0.0051 - root_mean_squared_error: 0.0718 - val_loss: 0.0053 - val_root_mean_squared_error: 0.0731\n",
      "Epoch 8/100\n",
      "1772/1772 [==============================] - 8s 4ms/step - loss: 0.0051 - root_mean_squared_error: 0.0713 - val_loss: 0.0045 - val_root_mean_squared_error: 0.0672\n",
      "Epoch 9/100\n",
      "1772/1772 [==============================] - 8s 4ms/step - loss: 0.0051 - root_mean_squared_error: 0.0713 - val_loss: 0.0047 - val_root_mean_squared_error: 0.0688\n",
      "Epoch 10/100\n",
      "1772/1772 [==============================] - 8s 4ms/step - loss: 0.0050 - root_mean_squared_error: 0.0710 - val_loss: 0.0050 - val_root_mean_squared_error: 0.0705\n",
      "Epoch 11/100\n",
      "1772/1772 [==============================] - 8s 4ms/step - loss: 0.0050 - root_mean_squared_error: 0.0708 - val_loss: 0.0049 - val_root_mean_squared_error: 0.0701\n",
      "Epoch 12/100\n",
      "1772/1772 [==============================] - 8s 4ms/step - loss: 0.0050 - root_mean_squared_error: 0.0708 - val_loss: 0.0046 - val_root_mean_squared_error: 0.0678\n",
      "Epoch 13/100\n",
      "1772/1772 [==============================] - 8s 4ms/step - loss: 0.0050 - root_mean_squared_error: 0.0709 - val_loss: 0.0048 - val_root_mean_squared_error: 0.0692\n",
      "Epoch 14/100\n",
      "1772/1772 [==============================] - 8s 4ms/step - loss: 0.0050 - root_mean_squared_error: 0.0705 - val_loss: 0.0046 - val_root_mean_squared_error: 0.0682\n",
      "Epoch 15/100\n",
      "1772/1772 [==============================] - 8s 4ms/step - loss: 0.0050 - root_mean_squared_error: 0.0704 - val_loss: 0.0047 - val_root_mean_squared_error: 0.0689\n",
      "Epoch 16/100\n",
      "1772/1772 [==============================] - 8s 4ms/step - loss: 0.0050 - root_mean_squared_error: 0.0704 - val_loss: 0.0045 - val_root_mean_squared_error: 0.0674\n"
     ]
    }
   ],
   "source": [
    "stack_1 = autoencoder_1.fit(train_X, train_X, epochs=100, batch_size=batch_size,validation_data = (test_X,test_X),callbacks = [callback])"
   ]
  },
  {
   "cell_type": "code",
   "execution_count": 33,
   "id": "e1649f9d-8bad-4b97-869f-e36ad74dec74",
   "metadata": {},
   "outputs": [
    {
     "name": "stdout",
     "output_type": "stream",
     "text": [
      "3937/3937 [==============================] - 7s 2ms/step\n"
     ]
    }
   ],
   "source": [
    "pred = autoencoder_1.predict(act_features)"
   ]
  },
  {
   "cell_type": "code",
   "execution_count": 34,
   "id": "7120ddc2-e9b4-4b5e-96a7-b349dcc06716",
   "metadata": {},
   "outputs": [],
   "source": [
    "from sklearn.metrics import *\n",
    "import keras"
   ]
  },
  {
   "cell_type": "code",
   "execution_count": 35,
   "id": "68e44617-4d08-4b58-8846-6269ccd65304",
   "metadata": {},
   "outputs": [
    {
     "name": "stdout",
     "output_type": "stream",
     "text": [
      "3937/3937 [==============================] - 5s 1ms/step\n"
     ]
    }
   ],
   "source": [
    "layer_name = 'latent_1'\n",
    "intermediate_layer_model = Model(inputs=autoencoder_1.input,\n",
    "                                 outputs=autoencoder_1.get_layer(layer_name).output)\n",
    "intermediate_output_1 = intermediate_layer_model.predict(act_features)"
   ]
  },
  {
   "cell_type": "markdown",
   "id": "705f51ae-5b72-44fe-9347-a5bc95afe895",
   "metadata": {},
   "source": [
    "### Classifier Model"
   ]
  },
  {
   "cell_type": "code",
   "execution_count": 36,
   "id": "e42990d5-e983-41a8-b543-7de9b750ab74",
   "metadata": {},
   "outputs": [],
   "source": [
    "batch_size = 128\n",
    "input_dim = np.shape(intermediate_output_1)[1:]\n",
    "input_layer = Input(shape=(input_dim), name='input')\n",
    "flatten = Flatten()(input_layer)\n",
    "#Input Layer\n",
    "dense1 = Dense (128, activation='relu')(flatten)\n",
    "dense2 = Dense (64, activation='relu')(dense1)\n",
    "dense3 = Dense (8, activation='relu')(dense2)\n",
    "# Output Layer\n",
    "classifier = Dense(len(set(train_Y)), activation='softmax')(dense3)"
   ]
  },
  {
   "cell_type": "code",
   "execution_count": 37,
   "id": "61b5f89c-da19-4c1d-aeac-6480742079d1",
   "metadata": {},
   "outputs": [],
   "source": [
    "classify = Model(inputs=input_layer, outputs=classifier)\n",
    "classify.compile(metrics=['accuracy'],loss='sparse_categorical_crossentropy',optimizer='adam')"
   ]
  },
  {
   "cell_type": "code",
   "execution_count": 38,
   "id": "3f3d1399-8759-4b4d-a867-f1f0ce3c902d",
   "metadata": {},
   "outputs": [
    {
     "name": "stdout",
     "output_type": "stream",
     "text": [
      "Model: \"model_2\"\n",
      "_________________________________________________________________\n",
      " Layer (type)                Output Shape              Param #   \n",
      "=================================================================\n",
      " input (InputLayer)          [(None, 3, 32)]           0         \n",
      "                                                                 \n",
      " flatten_1 (Flatten)         (None, 96)                0         \n",
      "                                                                 \n",
      " dense_1 (Dense)             (None, 128)               12416     \n",
      "                                                                 \n",
      " dense_2 (Dense)             (None, 64)                8256      \n",
      "                                                                 \n",
      " dense_3 (Dense)             (None, 8)                 520       \n",
      "                                                                 \n",
      " dense_4 (Dense)             (None, 5)                 45        \n",
      "                                                                 \n",
      "=================================================================\n",
      "Total params: 21,237\n",
      "Trainable params: 21,237\n",
      "Non-trainable params: 0\n",
      "_________________________________________________________________\n"
     ]
    }
   ],
   "source": [
    "classify.summary()"
   ]
  },
  {
   "cell_type": "code",
   "execution_count": 39,
   "id": "124775dc-96df-47b1-b96f-e93c2c6aeffa",
   "metadata": {},
   "outputs": [],
   "source": [
    "train_X, test_X , train_Y ,test_Y = train_test_split(intermediate_output_1,labels,random_state = 42,test_size = 0.1)"
   ]
  },
  {
   "cell_type": "code",
   "execution_count": 40,
   "id": "58791707-7c1c-4974-9244-fb445b644ccc",
   "metadata": {
    "tags": []
   },
   "outputs": [
    {
     "name": "stdout",
     "output_type": "stream",
     "text": [
      "Epoch 1/100\n",
      "3543/3543 [==============================] - 8s 2ms/step - loss: 0.0849 - accuracy: 0.9740 - val_loss: 0.0558 - val_accuracy: 0.9833\n",
      "Epoch 2/100\n",
      "3543/3543 [==============================] - 7s 2ms/step - loss: 0.0458 - accuracy: 0.9839 - val_loss: 0.0476 - val_accuracy: 0.9848\n",
      "Epoch 3/100\n",
      "3543/3543 [==============================] - 7s 2ms/step - loss: 0.0391 - accuracy: 0.9862 - val_loss: 0.0466 - val_accuracy: 0.9835\n",
      "Epoch 4/100\n",
      "3543/3543 [==============================] - 7s 2ms/step - loss: 0.0351 - accuracy: 0.9877 - val_loss: 0.0445 - val_accuracy: 0.9856\n",
      "Epoch 5/100\n",
      "3543/3543 [==============================] - 7s 2ms/step - loss: 0.0326 - accuracy: 0.9883 - val_loss: 0.0377 - val_accuracy: 0.9867\n",
      "Epoch 6/100\n",
      "3543/3543 [==============================] - 7s 2ms/step - loss: 0.0308 - accuracy: 0.9891 - val_loss: 0.0425 - val_accuracy: 0.9864\n",
      "Epoch 7/100\n",
      "3543/3543 [==============================] - 7s 2ms/step - loss: 0.0293 - accuracy: 0.9893 - val_loss: 0.0363 - val_accuracy: 0.9883\n",
      "Epoch 8/100\n",
      "3543/3543 [==============================] - 7s 2ms/step - loss: 0.0286 - accuracy: 0.9894 - val_loss: 0.0347 - val_accuracy: 0.9885\n",
      "Epoch 9/100\n",
      "3543/3543 [==============================] - 8s 2ms/step - loss: 0.0272 - accuracy: 0.9904 - val_loss: 0.0367 - val_accuracy: 0.9877\n",
      "Epoch 10/100\n",
      "3543/3543 [==============================] - 7s 2ms/step - loss: 0.0269 - accuracy: 0.9904 - val_loss: 0.0383 - val_accuracy: 0.9860\n",
      "Epoch 11/100\n",
      "3543/3543 [==============================] - 7s 2ms/step - loss: 0.0258 - accuracy: 0.9909 - val_loss: 0.0333 - val_accuracy: 0.9885\n",
      "Epoch 12/100\n",
      "3543/3543 [==============================] - 7s 2ms/step - loss: 0.0256 - accuracy: 0.9907 - val_loss: 0.0349 - val_accuracy: 0.9902\n",
      "Epoch 13/100\n",
      "3543/3543 [==============================] - 7s 2ms/step - loss: 0.0254 - accuracy: 0.9909 - val_loss: 0.0337 - val_accuracy: 0.9882\n",
      "Epoch 14/100\n",
      "3543/3543 [==============================] - 7s 2ms/step - loss: 0.0243 - accuracy: 0.9911 - val_loss: 0.0319 - val_accuracy: 0.9897\n",
      "Epoch 15/100\n",
      "3543/3543 [==============================] - 8s 2ms/step - loss: 0.0242 - accuracy: 0.9912 - val_loss: 0.0347 - val_accuracy: 0.9883\n",
      "Epoch 16/100\n",
      "3543/3543 [==============================] - 9s 3ms/step - loss: 0.0233 - accuracy: 0.9915 - val_loss: 0.0342 - val_accuracy: 0.9892\n",
      "Epoch 17/100\n",
      "3543/3543 [==============================] - 8s 2ms/step - loss: 0.0237 - accuracy: 0.9915 - val_loss: 0.0332 - val_accuracy: 0.9894\n",
      "Epoch 18/100\n",
      "3543/3543 [==============================] - 8s 2ms/step - loss: 0.0231 - accuracy: 0.9914 - val_loss: 0.0334 - val_accuracy: 0.9891\n",
      "Epoch 19/100\n",
      "3543/3543 [==============================] - 7s 2ms/step - loss: 0.0226 - accuracy: 0.9916 - val_loss: 0.0319 - val_accuracy: 0.9886\n",
      "Epoch 20/100\n",
      "3543/3543 [==============================] - 8s 2ms/step - loss: 0.0223 - accuracy: 0.9917 - val_loss: 0.0312 - val_accuracy: 0.9910\n",
      "Epoch 21/100\n",
      "3543/3543 [==============================] - 7s 2ms/step - loss: 0.0219 - accuracy: 0.9919 - val_loss: 0.0294 - val_accuracy: 0.9909\n",
      "Epoch 22/100\n",
      "3543/3543 [==============================] - 7s 2ms/step - loss: 0.0214 - accuracy: 0.9921 - val_loss: 0.0304 - val_accuracy: 0.9903\n",
      "Epoch 23/100\n",
      "3543/3543 [==============================] - 7s 2ms/step - loss: 0.0217 - accuracy: 0.9922 - val_loss: 0.0306 - val_accuracy: 0.9898\n",
      "Epoch 24/100\n",
      "3543/3543 [==============================] - 7s 2ms/step - loss: 0.0210 - accuracy: 0.9923 - val_loss: 0.0321 - val_accuracy: 0.9901\n",
      "Epoch 25/100\n",
      "3543/3543 [==============================] - 8s 2ms/step - loss: 0.0212 - accuracy: 0.9922 - val_loss: 0.0370 - val_accuracy: 0.9894\n",
      "Epoch 26/100\n",
      "3543/3543 [==============================] - 7s 2ms/step - loss: 0.0208 - accuracy: 0.9922 - val_loss: 0.0332 - val_accuracy: 0.9896\n",
      "Epoch 27/100\n",
      "3543/3543 [==============================] - 7s 2ms/step - loss: 0.0210 - accuracy: 0.9925 - val_loss: 0.0306 - val_accuracy: 0.9900\n",
      "Epoch 28/100\n",
      "3543/3543 [==============================] - 7s 2ms/step - loss: 0.0204 - accuracy: 0.9925 - val_loss: 0.0361 - val_accuracy: 0.9895\n",
      "Epoch 29/100\n",
      "3543/3543 [==============================] - 7s 2ms/step - loss: 0.0203 - accuracy: 0.9926 - val_loss: 0.0356 - val_accuracy: 0.9890\n"
     ]
    }
   ],
   "source": [
    "history = classify.fit(train_X, train_Y, epochs=100, batch_size=32,callbacks = [callback],validation_data = (test_X, test_Y))"
   ]
  },
  {
   "cell_type": "code",
   "execution_count": 41,
   "id": "3835f939-1e47-4ed9-9e94-41a990119a5a",
   "metadata": {},
   "outputs": [
    {
     "name": "stdout",
     "output_type": "stream",
     "text": [
      "394/394 [==============================] - 0s 830us/step\n"
     ]
    }
   ],
   "source": [
    "preds = classify.predict(test_X)"
   ]
  },
  {
   "cell_type": "code",
   "execution_count": 42,
   "id": "2d90d8aa-687a-437a-ba87-33e74ed2e502",
   "metadata": {},
   "outputs": [
    {
     "data": {
      "text/plain": [
       "((12598, 5), (12598,))"
      ]
     },
     "execution_count": 42,
     "metadata": {},
     "output_type": "execute_result"
    }
   ],
   "source": [
    "np.shape(preds),np.shape(test_Y)"
   ]
  },
  {
   "cell_type": "code",
   "execution_count": 43,
   "id": "827db2ea-1075-4822-a90e-db2b000a51e3",
   "metadata": {},
   "outputs": [
    {
     "data": {
      "text/plain": [
       "{0.0, 1.0, 2.0, 3.0, 4.0}"
      ]
     },
     "execution_count": 43,
     "metadata": {},
     "output_type": "execute_result"
    }
   ],
   "source": [
    "set(labels)"
   ]
  },
  {
   "cell_type": "code",
   "execution_count": 44,
   "id": "66420e44-e3ac-49a0-b475-7ac3892e68a6",
   "metadata": {},
   "outputs": [],
   "source": [
    "from sklearn.metrics import confusion_matrix\n",
    "conf_mat = confusion_matrix(np.argmax(preds,axis = 1), test_Y)"
   ]
  },
  {
   "cell_type": "code",
   "execution_count": 45,
   "id": "aecb4100-b725-4108-81a4-af4a9b435fd6",
   "metadata": {},
   "outputs": [
    {
     "name": "stdout",
     "output_type": "stream",
     "text": [
      "0.9908715669153834\n",
      "0.7566941611554874\n",
      "0.7767748298616735\n",
      "0.7661061928385025\n"
     ]
    },
    {
     "name": "stderr",
     "output_type": "stream",
     "text": [
      "C:\\Users\\ArrunPersonal\\anaconda3\\lib\\site-packages\\sklearn\\metrics\\_classification.py:1344: UndefinedMetricWarning: Recall is ill-defined and being set to 0.0 in labels with no true samples. Use `zero_division` parameter to control this behavior.\n",
      "  _warn_prf(average, modifier, msg_start, len(result))\n"
     ]
    }
   ],
   "source": [
    "print(accuracy_score(np.argmax(preds,axis = 1),test_Y))\n",
    "print(precision_score(np.argmax(preds,axis = 1),test_Y,average = 'macro'))\n",
    "print(recall_score(np.argmax(preds,axis = 1),test_Y,average = 'macro'))\n",
    "print(f1_score(np.argmax(preds,axis = 1),test_Y,average = 'macro'))"
   ]
  },
  {
   "cell_type": "code",
   "execution_count": 46,
   "id": "5582266a-40c3-49cf-bf08-81fef2e5ec2f",
   "metadata": {},
   "outputs": [],
   "source": [
    "import seaborn as sns"
   ]
  },
  {
   "cell_type": "code",
   "execution_count": 47,
   "id": "f8fd906d-887d-4ad9-ab88-c4350bb4b179",
   "metadata": {},
   "outputs": [
    {
     "data": {
      "text/plain": [
       "<AxesSubplot:>"
      ]
     },
     "execution_count": 47,
     "metadata": {},
     "output_type": "execute_result"
    },
    {
     "data": {
      "image/png": "[encoded data removed]",
      "text/plain": [
       "<Figure size 432x288 with 2 Axes>"
      ]
     },
     "metadata": {
      "needs_background": "light"
     },
     "output_type": "display_data"
    }
   ],
   "source": [
    "sns.heatmap(conf_mat, annot=True)"
   ]
  },
  {
   "cell_type": "code",
   "execution_count": 48,
   "id": "0481e1f8-e151-4b72-96ab-dc45d603f092",
   "metadata": {},
   "outputs": [],
   "source": [
    "preds = np.argmax(preds,axis = 1)"
   ]
  },
  {
   "cell_type": "code",
   "execution_count": 49,
   "id": "549fbbf8-d2d8-49de-b44a-f833b59f830d",
   "metadata": {},
   "outputs": [
    {
     "data": {
      "text/plain": [
       "array([3, 2, 2, ..., 3, 2, 3], dtype=int64)"
      ]
     },
     "execution_count": 49,
     "metadata": {},
     "output_type": "execute_result"
    }
   ],
   "source": [
    "preds"
   ]
  },
  {
   "cell_type": "code",
   "execution_count": 50,
   "id": "81c558a7-4fbe-4840-9041-ece87bc8afa1",
   "metadata": {},
   "outputs": [],
   "source": [
    "from sklearn.preprocessing import OneHotEncoder"
   ]
  },
  {
   "cell_type": "code",
   "execution_count": 51,
   "id": "90c60a88-4467-4cba-893d-eed1dae2cfee",
   "metadata": {},
   "outputs": [
    {
     "data": {
      "text/plain": [
       "array([3., 3., 2., ..., 3., 2., 3.])"
      ]
     },
     "execution_count": 51,
     "metadata": {},
     "output_type": "execute_result"
    }
   ],
   "source": [
    "labels"
   ]
  },
  {
   "cell_type": "code",
   "execution_count": 52,
   "id": "b1f63772-4d8b-41f0-9c7f-af4878bdd49e",
   "metadata": {},
   "outputs": [],
   "source": [
    "new_labels = np.array(np.zeros((len(test_Y),5)),dtype = 'int64')"
   ]
  },
  {
   "cell_type": "code",
   "execution_count": 53,
   "id": "0d60c712-a686-4b5b-b8da-efff9c4aad53",
   "metadata": {},
   "outputs": [],
   "source": [
    "for i in range(len(new_labels)):\n",
    "    new_labels[i,int(test_Y[i])] = 1"
   ]
  },
  {
   "cell_type": "code",
   "execution_count": 54,
   "id": "993dea84-7278-41c2-935a-e3554302f472",
   "metadata": {},
   "outputs": [
    {
     "data": {
      "text/plain": [
       "array([[0, 0, 0, 1, 0],\n",
       "       [0, 0, 1, 0, 0],\n",
       "       [0, 0, 1, 0, 0],\n",
       "       ...,\n",
       "       [0, 0, 0, 1, 0],\n",
       "       [0, 0, 1, 0, 0],\n",
       "       [0, 0, 0, 1, 0]], dtype=int64)"
      ]
     },
     "execution_count": 54,
     "metadata": {},
     "output_type": "execute_result"
    }
   ],
   "source": [
    "new_labels"
   ]
  },
  {
   "cell_type": "code",
   "execution_count": 55,
   "id": "4d394f1c-a432-44b5-accd-c14e178c5ef1",
   "metadata": {},
   "outputs": [],
   "source": [
    "new_preds = np.array(np.zeros((len(test_Y),5)),dtype = 'int64')\n",
    "\n",
    "for i in range(len(new_preds)):\n",
    "    new_preds[i,int(preds[i])] = 1"
   ]
  },
  {
   "cell_type": "code",
   "execution_count": 56,
   "id": "a9a8f005-9381-444c-a784-214ec8a70c24",
   "metadata": {},
   "outputs": [
    {
     "data": {
      "image/png": "[encoded data removed]",
      "text/plain": [
       "<Figure size 432x288 with 1 Axes>"
      ]
     },
     "metadata": {
      "needs_background": "light"
     },
     "output_type": "display_data"
    }
   ],
   "source": [
    "from sklearn.metrics import roc_curve, auc\n",
    "from sklearn.preprocessing import label_binarize\n",
    "import matplotlib.pyplot as plt\n",
    "# roc curve for classes\n",
    "fpr = {}\n",
    "tpr = {}\n",
    "roc_auc ={}\n",
    "\n",
    "preds = label_binarize(preds, classes=np.arange(5))\n",
    "#labels = label_binarize(labels, classes=np.arange(5))\n",
    "for i in range(5):\n",
    "    fpr[i], tpr[i],_ = roc_curve(new_labels[:, i], new_preds[:, i])\n",
    "    roc_auc[i] = auc(fpr[i], tpr[i])\n",
    "\n",
    "# Compute micro-average ROC curve and ROC area\n",
    "fpr[\"micro\"], tpr[\"micro\"], _ = roc_curve(new_labels.ravel(), new_preds.ravel())\n",
    "roc_auc[\"micro\"] = auc(fpr[\"micro\"], tpr[\"micro\"])\n",
    "\n",
    "# plotting    \n",
    "plt.plot(fpr[0], tpr[0], linestyle='--',color='orange', label='Normal vs Rest')\n",
    "plt.plot(fpr[1], tpr[1], linestyle='--',color='blue', label='DOS vs Rest')\n",
    "plt.plot(fpr[2], tpr[2], linestyle='--',color='green', label='U2R vs Rest')\n",
    "plt.plot(fpr[3], tpr[3], linestyle='--',color='black', label='R2L vs Rest')\n",
    "plt.plot(fpr[4], tpr[4], linestyle='--',color='red', label='Probe vs Rest')\n",
    "\n",
    "plt.title('CAAE ROC curve')\n",
    "plt.xlabel('False Positive Rate')\n",
    "plt.ylabel('True Positive rate')\n",
    "plt.legend(loc='best')\n",
    "plt.show()"
   ]
  },
  {
   "cell_type": "code",
   "execution_count": 57,
   "id": "e45a20eb-da2d-42b8-9947-7f94304dae04",
   "metadata": {},
   "outputs": [
    {
     "data": {
      "text/plain": [
       "0.9918670718511498"
      ]
     },
     "execution_count": 57,
     "metadata": {},
     "output_type": "execute_result"
    }
   ],
   "source": [
    "#roc auc score\n",
    "from sklearn.metrics import roc_auc_score,roc_curve\n",
    "from sklearn.metrics import roc_curve, auc\n",
    "roc_auc_score(new_labels, preds, multi_class='ovo', average='weighted')"
   ]
  }
 ],
 "metadata": {
  "kernelspec": {
   "display_name": "Python 3 (ipykernel)",
   "language": "python",
   "name": "python3"
  },
  "language_info": {
   "codemirror_mode": {
    "name": "ipython",
    "version": 3
   },
   "file_extension": ".py",
   "mimetype": "text/x-python",
   "name": "python",
   "nbconvert_exporter": "python",
   "pygments_lexer": "ipython3",
   "version": "3.9.7"
  }
 },
 "nbformat": 4,
 "nbformat_minor": 5
}
