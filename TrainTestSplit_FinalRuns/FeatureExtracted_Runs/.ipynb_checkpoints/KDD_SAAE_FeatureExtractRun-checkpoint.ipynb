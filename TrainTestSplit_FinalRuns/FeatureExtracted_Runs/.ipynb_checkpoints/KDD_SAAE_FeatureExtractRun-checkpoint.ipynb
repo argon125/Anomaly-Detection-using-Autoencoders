{
 "cells": [
  {
   "cell_type": "code",
   "execution_count": 1,
   "id": "1bf0b868-c909-466a-8382-431edfb1ca3c",
   "metadata": {},
   "outputs": [
    {
     "name": "stdout",
     "output_type": "stream",
     "text": [
      "WARNING:tensorflow:Please fix your imports. Module tensorflow.python.training.saving.functional_saver has been moved to tensorflow.python.checkpoint.functional_saver. The old module will be deleted in version 2.11.\n",
      "WARNING:tensorflow:Please fix your imports. Module tensorflow.python.training.saving.checkpoint_options has been moved to tensorflow.python.checkpoint.checkpoint_options. The old module will be deleted in version 2.11.\n"
     ]
    }
   ],
   "source": [
    "import numpy as np\n",
    "import pandas as pd\n",
    "import matplotlib.pyplot as plt\n",
    "import os\n",
    "import tensorflow as tf"
   ]
  },
  {
   "cell_type": "code",
   "execution_count": 2,
   "id": "c01bb8b3-930c-4bd9-9a3f-5d07ce77b4ac",
   "metadata": {},
   "outputs": [],
   "source": [
    "feature = [\"duration\",\"protocol_type\",\"service\",\"flag\",\"src_bytes\",\n",
    "    \"dst_bytes\",\"land\",\"wrong_fragment\",\"urgent\",\"hot\",\"num_failed_logins\",\n",
    "    \"logged_in\",\"num_compromised\",\"root_shell\",\"su_attempted\",\"num_root\",\n",
    "    \"num_file_creations\",\"num_shells\",\"num_access_files\",\"num_outbound_cmds\",\n",
    "    \"is_host_login\",\"is_guest_login\",\"count\",\"srv_count\",\"serror_rate\",\n",
    "    \"srv_serror_rate\",\"rerror_rate\",\"srv_rerror_rate\",\"same_srv_rate\",\n",
    "    \"diff_srv_rate\",\"srv_diff_host_rate\",\"dst_host_count\",\"dst_host_srv_count\",\n",
    "    \"dst_host_same_srv_rate\",\"dst_host_diff_srv_rate\",\"dst_host_same_src_port_rate\",\n",
    "    \"dst_host_srv_diff_host_rate\",\"dst_host_serror_rate\",\"dst_host_srv_serror_rate\",\n",
    "    \"dst_host_rerror_rate\",\"dst_host_srv_rerror_rate\",\"target\",\"junk\"]"
   ]
  },
  {
   "cell_type": "code",
   "execution_count": 3,
   "id": "40536131-3ade-4777-9ac3-c1f2e6025ac7",
   "metadata": {},
   "outputs": [],
   "source": [
    "os.chdir(\"C:/Users/ArrunPersonal/Codes/Semester7/IDS/NSL-KDD\")"
   ]
  },
  {
   "cell_type": "code",
   "execution_count": 4,
   "id": "84364c10-8b89-45fa-8a3a-881de73b44aa",
   "metadata": {},
   "outputs": [],
   "source": [
    "df1 = pd.read_csv(\"KDDTrain+.csv\", names = feature)\n",
    "df2 = pd.read_csv(\"KDDTest+.csv\", names = feature)\n",
    "df = pd.concat([df1, df2], axis=0)\n",
    "df.drop([\"junk\"],axis = 1,inplace = True)"
   ]
  },
  {
   "cell_type": "code",
   "execution_count": 5,
   "id": "3fbe8575-19ab-460a-ad78-e5cff17205a5",
   "metadata": {},
   "outputs": [
    {
     "data": {
      "text/plain": [
       "False"
      ]
     },
     "execution_count": 5,
     "metadata": {},
     "output_type": "execute_result"
    }
   ],
   "source": [
    "df2.isnull().values.any()"
   ]
  },
  {
   "cell_type": "code",
   "execution_count": 6,
   "id": "5156c38d-0cd4-4fe0-b633-eaa3f29769a5",
   "metadata": {},
   "outputs": [
    {
     "data": {
      "text/html": [
       "<div>\n",
       "<style scoped>\n",
       "    .dataframe tbody tr th:only-of-type {\n",
       "        vertical-align: middle;\n",
       "    }\n",
       "\n",
       "    .dataframe tbody tr th {\n",
       "        vertical-align: top;\n",
       "    }\n",
       "\n",
       "    .dataframe thead th {\n",
       "        text-align: right;\n",
       "    }\n",
       "</style>\n",
       "<table border=\"1\" class=\"dataframe\">\n",
       "  <thead>\n",
       "    <tr style=\"text-align: right;\">\n",
       "      <th></th>\n",
       "      <th>duration</th>\n",
       "      <th>protocol_type</th>\n",
       "      <th>service</th>\n",
       "      <th>flag</th>\n",
       "      <th>src_bytes</th>\n",
       "      <th>dst_bytes</th>\n",
       "      <th>land</th>\n",
       "      <th>wrong_fragment</th>\n",
       "      <th>urgent</th>\n",
       "      <th>hot</th>\n",
       "      <th>...</th>\n",
       "      <th>dst_host_srv_count</th>\n",
       "      <th>dst_host_same_srv_rate</th>\n",
       "      <th>dst_host_diff_srv_rate</th>\n",
       "      <th>dst_host_same_src_port_rate</th>\n",
       "      <th>dst_host_srv_diff_host_rate</th>\n",
       "      <th>dst_host_serror_rate</th>\n",
       "      <th>dst_host_srv_serror_rate</th>\n",
       "      <th>dst_host_rerror_rate</th>\n",
       "      <th>dst_host_srv_rerror_rate</th>\n",
       "      <th>target</th>\n",
       "    </tr>\n",
       "  </thead>\n",
       "  <tbody>\n",
       "    <tr>\n",
       "      <th>0</th>\n",
       "      <td>0</td>\n",
       "      <td>tcp</td>\n",
       "      <td>ftp_data</td>\n",
       "      <td>SF</td>\n",
       "      <td>491</td>\n",
       "      <td>0</td>\n",
       "      <td>0</td>\n",
       "      <td>0</td>\n",
       "      <td>0</td>\n",
       "      <td>0</td>\n",
       "      <td>...</td>\n",
       "      <td>25</td>\n",
       "      <td>0.17</td>\n",
       "      <td>0.03</td>\n",
       "      <td>0.17</td>\n",
       "      <td>0.00</td>\n",
       "      <td>0.00</td>\n",
       "      <td>0.00</td>\n",
       "      <td>0.05</td>\n",
       "      <td>0.00</td>\n",
       "      <td>normal</td>\n",
       "    </tr>\n",
       "    <tr>\n",
       "      <th>1</th>\n",
       "      <td>0</td>\n",
       "      <td>udp</td>\n",
       "      <td>other</td>\n",
       "      <td>SF</td>\n",
       "      <td>146</td>\n",
       "      <td>0</td>\n",
       "      <td>0</td>\n",
       "      <td>0</td>\n",
       "      <td>0</td>\n",
       "      <td>0</td>\n",
       "      <td>...</td>\n",
       "      <td>1</td>\n",
       "      <td>0.00</td>\n",
       "      <td>0.60</td>\n",
       "      <td>0.88</td>\n",
       "      <td>0.00</td>\n",
       "      <td>0.00</td>\n",
       "      <td>0.00</td>\n",
       "      <td>0.00</td>\n",
       "      <td>0.00</td>\n",
       "      <td>normal</td>\n",
       "    </tr>\n",
       "    <tr>\n",
       "      <th>2</th>\n",
       "      <td>0</td>\n",
       "      <td>tcp</td>\n",
       "      <td>private</td>\n",
       "      <td>S0</td>\n",
       "      <td>0</td>\n",
       "      <td>0</td>\n",
       "      <td>0</td>\n",
       "      <td>0</td>\n",
       "      <td>0</td>\n",
       "      <td>0</td>\n",
       "      <td>...</td>\n",
       "      <td>26</td>\n",
       "      <td>0.10</td>\n",
       "      <td>0.05</td>\n",
       "      <td>0.00</td>\n",
       "      <td>0.00</td>\n",
       "      <td>1.00</td>\n",
       "      <td>1.00</td>\n",
       "      <td>0.00</td>\n",
       "      <td>0.00</td>\n",
       "      <td>neptune</td>\n",
       "    </tr>\n",
       "    <tr>\n",
       "      <th>3</th>\n",
       "      <td>0</td>\n",
       "      <td>tcp</td>\n",
       "      <td>http</td>\n",
       "      <td>SF</td>\n",
       "      <td>232</td>\n",
       "      <td>8153</td>\n",
       "      <td>0</td>\n",
       "      <td>0</td>\n",
       "      <td>0</td>\n",
       "      <td>0</td>\n",
       "      <td>...</td>\n",
       "      <td>255</td>\n",
       "      <td>1.00</td>\n",
       "      <td>0.00</td>\n",
       "      <td>0.03</td>\n",
       "      <td>0.04</td>\n",
       "      <td>0.03</td>\n",
       "      <td>0.01</td>\n",
       "      <td>0.00</td>\n",
       "      <td>0.01</td>\n",
       "      <td>normal</td>\n",
       "    </tr>\n",
       "    <tr>\n",
       "      <th>4</th>\n",
       "      <td>0</td>\n",
       "      <td>tcp</td>\n",
       "      <td>http</td>\n",
       "      <td>SF</td>\n",
       "      <td>199</td>\n",
       "      <td>420</td>\n",
       "      <td>0</td>\n",
       "      <td>0</td>\n",
       "      <td>0</td>\n",
       "      <td>0</td>\n",
       "      <td>...</td>\n",
       "      <td>255</td>\n",
       "      <td>1.00</td>\n",
       "      <td>0.00</td>\n",
       "      <td>0.00</td>\n",
       "      <td>0.00</td>\n",
       "      <td>0.00</td>\n",
       "      <td>0.00</td>\n",
       "      <td>0.00</td>\n",
       "      <td>0.00</td>\n",
       "      <td>normal</td>\n",
       "    </tr>\n",
       "  </tbody>\n",
       "</table>\n",
       "<p>5 rows × 42 columns</p>\n",
       "</div>"
      ],
      "text/plain": [
       "   duration protocol_type   service flag  src_bytes  dst_bytes  land  \\\n",
       "0         0           tcp  ftp_data   SF        491          0     0   \n",
       "1         0           udp     other   SF        146          0     0   \n",
       "2         0           tcp   private   S0          0          0     0   \n",
       "3         0           tcp      http   SF        232       8153     0   \n",
       "4         0           tcp      http   SF        199        420     0   \n",
       "\n",
       "   wrong_fragment  urgent  hot  ...  dst_host_srv_count  \\\n",
       "0               0       0    0  ...                  25   \n",
       "1               0       0    0  ...                   1   \n",
       "2               0       0    0  ...                  26   \n",
       "3               0       0    0  ...                 255   \n",
       "4               0       0    0  ...                 255   \n",
       "\n",
       "   dst_host_same_srv_rate  dst_host_diff_srv_rate  \\\n",
       "0                    0.17                    0.03   \n",
       "1                    0.00                    0.60   \n",
       "2                    0.10                    0.05   \n",
       "3                    1.00                    0.00   \n",
       "4                    1.00                    0.00   \n",
       "\n",
       "   dst_host_same_src_port_rate  dst_host_srv_diff_host_rate  \\\n",
       "0                         0.17                         0.00   \n",
       "1                         0.88                         0.00   \n",
       "2                         0.00                         0.00   \n",
       "3                         0.03                         0.04   \n",
       "4                         0.00                         0.00   \n",
       "\n",
       "   dst_host_serror_rate  dst_host_srv_serror_rate  dst_host_rerror_rate  \\\n",
       "0                  0.00                      0.00                  0.05   \n",
       "1                  0.00                      0.00                  0.00   \n",
       "2                  1.00                      1.00                  0.00   \n",
       "3                  0.03                      0.01                  0.00   \n",
       "4                  0.00                      0.00                  0.00   \n",
       "\n",
       "   dst_host_srv_rerror_rate   target  \n",
       "0                      0.00   normal  \n",
       "1                      0.00   normal  \n",
       "2                      0.00  neptune  \n",
       "3                      0.01   normal  \n",
       "4                      0.00   normal  \n",
       "\n",
       "[5 rows x 42 columns]"
      ]
     },
     "execution_count": 6,
     "metadata": {},
     "output_type": "execute_result"
    }
   ],
   "source": [
    "df.head()"
   ]
  },
  {
   "cell_type": "code",
   "execution_count": 7,
   "id": "55dab8da-b0ab-40d7-a7b8-72fb965459cc",
   "metadata": {},
   "outputs": [],
   "source": [
    "protocol_dict = dict(zip(set(df['protocol_type']),np.arange(len(set(df['protocol_type'])))))\n",
    "service_dict = dict(zip(set(df['service']),np.arange(len(set(df['service'])))))\n",
    "flag_dict = dict(zip(set(df['flag']),np.arange(len(set(df['flag'])))))"
   ]
  },
  {
   "cell_type": "code",
   "execution_count": 8,
   "id": "0bdb4b00-8c4d-41eb-aefc-88c49de6ac8c",
   "metadata": {},
   "outputs": [],
   "source": [
    "# changing attack labels to their respective attack class\n",
    "def change_feature(df):\n",
    "    df.target.replace(['apache2','back','land','neptune','mailbomb','pod','processtable','smurf','teardrop','udpstorm','worm'],'Dos',inplace=True)\n",
    "    df.target.replace(['ftp_write','guess_passwd','httptunnel','imap','multihop','named','phf','sendmail','snmpgetattack','snmpguess','spy','warezclient','warezmaster','xlock','xsnoop'],'R2L',inplace=True)      \n",
    "    df.target.replace(['ipsweep','mscan','nmap','portsweep','saint','satan'],'Probe',inplace=True)\n",
    "    df.target.replace(['buffer_overflow','loadmodule','perl','ps','rootkit','sqlattack','xterm'],'U2R',inplace=True)\n",
    "    \n",
    "    df.protocol_type.replace(protocol_dict.keys(),protocol_dict.values(),inplace=True)\n",
    "    df.service.replace(service_dict.keys(),service_dict.values(),inplace=True)\n",
    "    df.flag.replace(flag_dict.keys(),flag_dict.values(),inplace=True)"
   ]
  },
  {
   "cell_type": "code",
   "execution_count": 9,
   "id": "d7967ffd-6d6d-4ab3-b30e-f42ed7f96d5f",
   "metadata": {},
   "outputs": [],
   "source": [
    "change_feature(df)"
   ]
  },
  {
   "cell_type": "code",
   "execution_count": 10,
   "id": "8b26c684-a757-4180-8e33-82979a2e216a",
   "metadata": {},
   "outputs": [],
   "source": [
    "target_dict = dict(zip(set(df['target']),np.arange(len(set(df['target'])))))"
   ]
  },
  {
   "cell_type": "code",
   "execution_count": 11,
   "id": "410c0811-b1dd-4b02-a3f5-2000c64e7000",
   "metadata": {},
   "outputs": [],
   "source": [
    "def change_target(df):\n",
    "    df.target.replace(target_dict.keys(),target_dict.values(),inplace=True)"
   ]
  },
  {
   "cell_type": "code",
   "execution_count": 12,
   "id": "34dd9a32-72fc-4ff2-a215-ce6bb0fb8086",
   "metadata": {},
   "outputs": [],
   "source": [
    "change_target(df)"
   ]
  },
  {
   "cell_type": "code",
   "execution_count": 13,
   "id": "f15b3693-fd32-4536-9fcd-9cbe1a6c1ec6",
   "metadata": {},
   "outputs": [
    {
     "data": {
      "text/html": [
       "<div>\n",
       "<style scoped>\n",
       "    .dataframe tbody tr th:only-of-type {\n",
       "        vertical-align: middle;\n",
       "    }\n",
       "\n",
       "    .dataframe tbody tr th {\n",
       "        vertical-align: top;\n",
       "    }\n",
       "\n",
       "    .dataframe thead th {\n",
       "        text-align: right;\n",
       "    }\n",
       "</style>\n",
       "<table border=\"1\" class=\"dataframe\">\n",
       "  <thead>\n",
       "    <tr style=\"text-align: right;\">\n",
       "      <th></th>\n",
       "      <th>duration</th>\n",
       "      <th>protocol_type</th>\n",
       "      <th>service</th>\n",
       "      <th>flag</th>\n",
       "      <th>src_bytes</th>\n",
       "      <th>dst_bytes</th>\n",
       "      <th>land</th>\n",
       "      <th>wrong_fragment</th>\n",
       "      <th>urgent</th>\n",
       "      <th>hot</th>\n",
       "      <th>...</th>\n",
       "      <th>dst_host_srv_count</th>\n",
       "      <th>dst_host_same_srv_rate</th>\n",
       "      <th>dst_host_diff_srv_rate</th>\n",
       "      <th>dst_host_same_src_port_rate</th>\n",
       "      <th>dst_host_srv_diff_host_rate</th>\n",
       "      <th>dst_host_serror_rate</th>\n",
       "      <th>dst_host_srv_serror_rate</th>\n",
       "      <th>dst_host_rerror_rate</th>\n",
       "      <th>dst_host_srv_rerror_rate</th>\n",
       "      <th>target</th>\n",
       "    </tr>\n",
       "  </thead>\n",
       "  <tbody>\n",
       "    <tr>\n",
       "      <th>0</th>\n",
       "      <td>0</td>\n",
       "      <td>1</td>\n",
       "      <td>44</td>\n",
       "      <td>7</td>\n",
       "      <td>491</td>\n",
       "      <td>0</td>\n",
       "      <td>0</td>\n",
       "      <td>0</td>\n",
       "      <td>0</td>\n",
       "      <td>0</td>\n",
       "      <td>...</td>\n",
       "      <td>25</td>\n",
       "      <td>0.17</td>\n",
       "      <td>0.03</td>\n",
       "      <td>0.17</td>\n",
       "      <td>0.00</td>\n",
       "      <td>0.00</td>\n",
       "      <td>0.00</td>\n",
       "      <td>0.05</td>\n",
       "      <td>0.00</td>\n",
       "      <td>0</td>\n",
       "    </tr>\n",
       "    <tr>\n",
       "      <th>1</th>\n",
       "      <td>0</td>\n",
       "      <td>0</td>\n",
       "      <td>35</td>\n",
       "      <td>7</td>\n",
       "      <td>146</td>\n",
       "      <td>0</td>\n",
       "      <td>0</td>\n",
       "      <td>0</td>\n",
       "      <td>0</td>\n",
       "      <td>0</td>\n",
       "      <td>...</td>\n",
       "      <td>1</td>\n",
       "      <td>0.00</td>\n",
       "      <td>0.60</td>\n",
       "      <td>0.88</td>\n",
       "      <td>0.00</td>\n",
       "      <td>0.00</td>\n",
       "      <td>0.00</td>\n",
       "      <td>0.00</td>\n",
       "      <td>0.00</td>\n",
       "      <td>0</td>\n",
       "    </tr>\n",
       "    <tr>\n",
       "      <th>2</th>\n",
       "      <td>0</td>\n",
       "      <td>1</td>\n",
       "      <td>27</td>\n",
       "      <td>5</td>\n",
       "      <td>0</td>\n",
       "      <td>0</td>\n",
       "      <td>0</td>\n",
       "      <td>0</td>\n",
       "      <td>0</td>\n",
       "      <td>0</td>\n",
       "      <td>...</td>\n",
       "      <td>26</td>\n",
       "      <td>0.10</td>\n",
       "      <td>0.05</td>\n",
       "      <td>0.00</td>\n",
       "      <td>0.00</td>\n",
       "      <td>1.00</td>\n",
       "      <td>1.00</td>\n",
       "      <td>0.00</td>\n",
       "      <td>0.00</td>\n",
       "      <td>3</td>\n",
       "    </tr>\n",
       "    <tr>\n",
       "      <th>3</th>\n",
       "      <td>0</td>\n",
       "      <td>1</td>\n",
       "      <td>42</td>\n",
       "      <td>7</td>\n",
       "      <td>232</td>\n",
       "      <td>8153</td>\n",
       "      <td>0</td>\n",
       "      <td>0</td>\n",
       "      <td>0</td>\n",
       "      <td>0</td>\n",
       "      <td>...</td>\n",
       "      <td>255</td>\n",
       "      <td>1.00</td>\n",
       "      <td>0.00</td>\n",
       "      <td>0.03</td>\n",
       "      <td>0.04</td>\n",
       "      <td>0.03</td>\n",
       "      <td>0.01</td>\n",
       "      <td>0.00</td>\n",
       "      <td>0.01</td>\n",
       "      <td>0</td>\n",
       "    </tr>\n",
       "    <tr>\n",
       "      <th>4</th>\n",
       "      <td>0</td>\n",
       "      <td>1</td>\n",
       "      <td>42</td>\n",
       "      <td>7</td>\n",
       "      <td>199</td>\n",
       "      <td>420</td>\n",
       "      <td>0</td>\n",
       "      <td>0</td>\n",
       "      <td>0</td>\n",
       "      <td>0</td>\n",
       "      <td>...</td>\n",
       "      <td>255</td>\n",
       "      <td>1.00</td>\n",
       "      <td>0.00</td>\n",
       "      <td>0.00</td>\n",
       "      <td>0.00</td>\n",
       "      <td>0.00</td>\n",
       "      <td>0.00</td>\n",
       "      <td>0.00</td>\n",
       "      <td>0.00</td>\n",
       "      <td>0</td>\n",
       "    </tr>\n",
       "  </tbody>\n",
       "</table>\n",
       "<p>5 rows × 42 columns</p>\n",
       "</div>"
      ],
      "text/plain": [
       "   duration  protocol_type  service  flag  src_bytes  dst_bytes  land  \\\n",
       "0         0              1       44     7        491          0     0   \n",
       "1         0              0       35     7        146          0     0   \n",
       "2         0              1       27     5          0          0     0   \n",
       "3         0              1       42     7        232       8153     0   \n",
       "4         0              1       42     7        199        420     0   \n",
       "\n",
       "   wrong_fragment  urgent  hot  ...  dst_host_srv_count  \\\n",
       "0               0       0    0  ...                  25   \n",
       "1               0       0    0  ...                   1   \n",
       "2               0       0    0  ...                  26   \n",
       "3               0       0    0  ...                 255   \n",
       "4               0       0    0  ...                 255   \n",
       "\n",
       "   dst_host_same_srv_rate  dst_host_diff_srv_rate  \\\n",
       "0                    0.17                    0.03   \n",
       "1                    0.00                    0.60   \n",
       "2                    0.10                    0.05   \n",
       "3                    1.00                    0.00   \n",
       "4                    1.00                    0.00   \n",
       "\n",
       "   dst_host_same_src_port_rate  dst_host_srv_diff_host_rate  \\\n",
       "0                         0.17                         0.00   \n",
       "1                         0.88                         0.00   \n",
       "2                         0.00                         0.00   \n",
       "3                         0.03                         0.04   \n",
       "4                         0.00                         0.00   \n",
       "\n",
       "   dst_host_serror_rate  dst_host_srv_serror_rate  dst_host_rerror_rate  \\\n",
       "0                  0.00                      0.00                  0.05   \n",
       "1                  0.00                      0.00                  0.00   \n",
       "2                  1.00                      1.00                  0.00   \n",
       "3                  0.03                      0.01                  0.00   \n",
       "4                  0.00                      0.00                  0.00   \n",
       "\n",
       "   dst_host_srv_rerror_rate  target  \n",
       "0                      0.00       0  \n",
       "1                      0.00       0  \n",
       "2                      0.00       3  \n",
       "3                      0.01       0  \n",
       "4                      0.00       0  \n",
       "\n",
       "[5 rows x 42 columns]"
      ]
     },
     "execution_count": 13,
     "metadata": {},
     "output_type": "execute_result"
    }
   ],
   "source": [
    "df.head()"
   ]
  },
  {
   "cell_type": "code",
   "execution_count": 14,
   "id": "ab5c5615-fa58-4c6d-8df5-73bcc9d24fa1",
   "metadata": {},
   "outputs": [],
   "source": [
    "df_lis = np.array(df.values.tolist())"
   ]
  },
  {
   "cell_type": "code",
   "execution_count": 15,
   "id": "a707a55d-2191-4b28-853c-a40ebb4f7bb5",
   "metadata": {},
   "outputs": [],
   "source": [
    "from scipy.stats import pearsonr"
   ]
  },
  {
   "cell_type": "code",
   "execution_count": 16,
   "id": "e96b6b0e-e8fb-4d08-a3a9-fe6aaf185ef3",
   "metadata": {},
   "outputs": [],
   "source": [
    "features = np.array(df_lis[:,:-1])\n",
    "labels = np.array(df_lis[:,-1])"
   ]
  },
  {
   "cell_type": "code",
   "execution_count": 17,
   "id": "9a3040b2-73dc-4f35-84be-ea0dd7421534",
   "metadata": {},
   "outputs": [
    {
     "name": "stderr",
     "output_type": "stream",
     "text": [
      "C:\\Users\\ArrunPersonal\\anaconda3\\lib\\site-packages\\scipy\\stats\\stats.py:4023: PearsonRConstantInputWarning: An input array is constant; the correlation coefficient is not defined.\n",
      "  warnings.warn(PearsonRConstantInputWarning())\n"
     ]
    }
   ],
   "source": [
    "scores = [abs(pearsonr(features[:,i],labels)[0]) for i in range(np.shape(features)[1])]"
   ]
  },
  {
   "cell_type": "code",
   "execution_count": 18,
   "id": "7a15f2be-6ab2-4d38-8aaa-4247757c8a9c",
   "metadata": {
    "scrolled": true,
    "tags": []
   },
   "outputs": [
    {
     "data": {
      "text/plain": [
       "[0.08384822613326526,\n",
       " 0.10243737234047398,\n",
       " 0.06580710560582508,\n",
       " 0.5406806122772196,\n",
       " 0.007668200051459377,\n",
       " 0.005427877794275414,\n",
       " 0.007853669426472198,\n",
       " 0.0740882928286793,\n",
       " 0.0018493365876142535,\n",
       " 0.050892627135214294,\n",
       " 0.023204054383280187,\n",
       " 0.6782512948020872,\n",
       " 0.009696593340691968,\n",
       " 0.02267348680666157,\n",
       " 0.02112015407276567,\n",
       " 0.01091503747425152,\n",
       " 0.018620060393673858,\n",
       " 0.00755116444812976,\n",
       " 0.03687858595366482,\n",
       " 0,\n",
       " 0.0013178986123340958,\n",
       " 0.06854060527705248,\n",
       " 0.5142990685256942,\n",
       " 0.016632383242400746,\n",
       " 0.541926746177335,\n",
       " 0.5397707504043375,\n",
       " 0.346277655992756,\n",
       " 0.344581442947588,\n",
       " 0.6882866997418182,\n",
       " 0.2849556588918608,\n",
       " 0.04519341794862984,\n",
       " 0.3371071664354282,\n",
       " 0.6829904403542697,\n",
       " 0.6582334225151546,\n",
       " 0.3327973366946587,\n",
       " 0.14903084183756596,\n",
       " 0.12024254222660634,\n",
       " 0.5422307992942642,\n",
       " 0.5463514742755254,\n",
       " 0.33913360193875014,\n",
       " 0.34477232770266214]"
      ]
     },
     "execution_count": 18,
     "metadata": {},
     "output_type": "execute_result"
    }
   ],
   "source": [
    "scores[19] = 0\n",
    "scores"
   ]
  },
  {
   "cell_type": "code",
   "execution_count": 19,
   "id": "41c1ec72-0258-494c-96c4-ca229b9bbf0c",
   "metadata": {},
   "outputs": [],
   "source": [
    "act_features = []\n",
    "act_indices = []\n",
    "for i in range(len(scores)):\n",
    "    if(scores[i]> 0.1):\n",
    "        act_indices.append(i)\n",
    "        act_features.append(features[:,i])"
   ]
  },
  {
   "cell_type": "code",
   "execution_count": 20,
   "id": "8c323560-d3bb-44a0-9767-2d2dfab4abd9",
   "metadata": {},
   "outputs": [],
   "source": [
    "act_features = np.array(act_features).T"
   ]
  },
  {
   "cell_type": "code",
   "execution_count": 21,
   "id": "0327c182-992c-471d-9ba8-2f3a403f68bc",
   "metadata": {},
   "outputs": [
    {
     "data": {
      "text/plain": [
       "(148517, 20)"
      ]
     },
     "execution_count": 21,
     "metadata": {},
     "output_type": "execute_result"
    }
   ],
   "source": [
    "for i in range(np.shape(act_features)[1]):\n",
    "    if(np.std(act_features[:,i])!=0):\n",
    "        act_features[:,i] = (act_features[:,i]-np.mean(act_features[:,i]))/np.std(act_features[:,i]) \n",
    "    else:\n",
    "        act_features[:,i] = (act_features[:,i]-np.mean(act_features[:,i]))\n",
    "np.shape(act_features)"
   ]
  },
  {
   "cell_type": "code",
   "execution_count": 22,
   "id": "630656a7-3b1e-4940-a8ce-45c6c0b6b89c",
   "metadata": {},
   "outputs": [
    {
     "data": {
      "text/plain": [
       "((148517, 41), (148517,))"
      ]
     },
     "execution_count": 22,
     "metadata": {},
     "output_type": "execute_result"
    }
   ],
   "source": [
    "np.shape(features),np.shape(labels)"
   ]
  },
  {
   "cell_type": "code",
   "execution_count": 23,
   "id": "e714b21b-68ca-4606-9f87-c13ff5a0bd13",
   "metadata": {},
   "outputs": [],
   "source": [
    "train_X = act_features[:len(df1)]\n",
    "test_X = act_features[len(df1):]\n",
    "train_Y = labels[:len(df1)]\n",
    "test_Y = labels[len(df1):]"
   ]
  },
  {
   "cell_type": "code",
   "execution_count": 24,
   "id": "d78baa13-62d0-44f9-9d21-6aa62fc80008",
   "metadata": {},
   "outputs": [],
   "source": [
    "from sklearn.model_selection import train_test_split "
   ]
  },
  {
   "cell_type": "code",
   "execution_count": 25,
   "id": "f8b46c82-300e-4cc2-ae5c-f1c485578633",
   "metadata": {},
   "outputs": [],
   "source": [
    "train_X, val_X , train_Y ,val_Y = train_test_split(train_X,train_Y,random_state = 42,test_size = 0.1)"
   ]
  },
  {
   "cell_type": "code",
   "execution_count": 26,
   "id": "cb8fe055-378f-4de0-9175-d60f11884caa",
   "metadata": {},
   "outputs": [
    {
     "data": {
      "text/plain": [
       "{0.0, 1.0, 2.0, 3.0, 4.0}"
      ]
     },
     "execution_count": 26,
     "metadata": {},
     "output_type": "execute_result"
    }
   ],
   "source": [
    "set(train_Y)"
   ]
  },
  {
   "cell_type": "code",
   "execution_count": 27,
   "id": "47ba8e9a-7891-4de2-a9ab-b1efa262291a",
   "metadata": {},
   "outputs": [
    {
     "name": "stdout",
     "output_type": "stream",
     "text": [
      "(113375, 20) (22544, 20) (12598, 20) (113375,) (22544,) (12598,)\n"
     ]
    }
   ],
   "source": [
    "print(np.shape(train_X),np.shape(test_X),np.shape(val_X),np.shape(train_Y),np.shape(test_Y),np.shape(val_Y))"
   ]
  },
  {
   "cell_type": "markdown",
   "id": "a7ca5b2f-40a8-4f6f-9d4d-885632699f7e",
   "metadata": {},
   "source": [
    "# Stacked Attention Auto Encoder"
   ]
  },
  {
   "cell_type": "markdown",
   "id": "22de135a-8483-476f-bf21-29658e15e464",
   "metadata": {},
   "source": [
    "### First Stack"
   ]
  },
  {
   "cell_type": "code",
   "execution_count": 28,
   "id": "5cbdc2d6-0d68-43c5-b86d-8789714290ac",
   "metadata": {},
   "outputs": [],
   "source": [
    "from keras.layers import *\n",
    "from keras.models import Model\n",
    "from keras_self_attention import SeqSelfAttention"
   ]
  },
  {
   "cell_type": "code",
   "execution_count": 29,
   "id": "d86da138-a431-47fe-90cf-085690cfafce",
   "metadata": {},
   "outputs": [
    {
     "name": "stderr",
     "output_type": "stream",
     "text": [
      "C:\\Users\\ArrunPersonal\\anaconda3\\lib\\site-packages\\keras\\initializers\\initializers_v2.py:120: UserWarning: The initializer GlorotNormal is unseeded and being called multiple times, which will return identical values  each time (even if the initializer is unseeded). Please update your code to provide a seed to the initializer, or avoid using the same initalizer instance more than once.\n",
      "  warnings.warn(\n"
     ]
    }
   ],
   "source": [
    "batch_size = 32\n",
    "input_dim = np.shape(train_X)[1]\n",
    "#Input Layer\n",
    "\n",
    "input_layer = Input(shape=(input_dim,1), name='input')\n",
    "#Attention Mechanism\n",
    "embedding = Embedding(input_dim=input_dim, output_dim=256)(input_layer)\n",
    "LSTM_layer = LSTM(units=128,return_sequences=True)(input_layer)\n",
    "attention = SeqSelfAttention(attention_activation='sigmoid')(input_layer)\n",
    "flatten = Flatten()(attention)\n",
    "#Encoder’s first dense layer\n",
    "encoder = Dense (128, activation='relu')(flatten)\n",
    "#Encoder’s second dense layer\n",
    "encoder = Dense (64, activation='relu')(encoder)\n",
    "# Code layer\n",
    "latent_layer = Dense (32, activation='relu',name = 'latent_1')(encoder)\n",
    "# Decoder’s first dense layer\n",
    "decoder = Dense(64, activation='relu')(latent_layer)\n",
    "# Decoder’s second dense layer\n",
    "decoder = Dense(128, activation='relu')(decoder)\n",
    "# Decoder’s Third dense layer\n",
    "decoder = Dense(256, activation='relu')(decoder)\n",
    "# Output Layer\n",
    "decoder = Dense(input_dim, activation='relu')(decoder)"
   ]
  },
  {
   "cell_type": "code",
   "execution_count": 30,
   "id": "44e82ea0-c414-4c62-b6b7-b264d2a8d50d",
   "metadata": {},
   "outputs": [],
   "source": [
    "autoencoder_1 = Model(inputs=input_layer, outputs=decoder)\n",
    "autoencoder_1.compile(metrics=['accuracy'],loss='mse',optimizer='adam')"
   ]
  },
  {
   "cell_type": "code",
   "execution_count": 31,
   "id": "b2dc9457-16b6-4196-a168-1a68bf872132",
   "metadata": {},
   "outputs": [
    {
     "name": "stdout",
     "output_type": "stream",
     "text": [
      "Model: \"model\"\n",
      "_________________________________________________________________\n",
      " Layer (type)                Output Shape              Param #   \n",
      "=================================================================\n",
      " input (InputLayer)          [(None, 20, 1)]           0         \n",
      "                                                                 \n",
      " seq_self_attention (SeqSelf  (None, 20, 1)            129       \n",
      " Attention)                                                      \n",
      "                                                                 \n",
      " flatten (Flatten)           (None, 20)                0         \n",
      "                                                                 \n",
      " dense (Dense)               (None, 128)               2688      \n",
      "                                                                 \n",
      " dense_1 (Dense)             (None, 64)                8256      \n",
      "                                                                 \n",
      " latent_1 (Dense)            (None, 32)                2080      \n",
      "                                                                 \n",
      " dense_2 (Dense)             (None, 64)                2112      \n",
      "                                                                 \n",
      " dense_3 (Dense)             (None, 128)               8320      \n",
      "                                                                 \n",
      " dense_4 (Dense)             (None, 256)               33024     \n",
      "                                                                 \n",
      " dense_5 (Dense)             (None, 20)                5140      \n",
      "                                                                 \n",
      "=================================================================\n",
      "Total params: 61,749\n",
      "Trainable params: 61,749\n",
      "Non-trainable params: 0\n",
      "_________________________________________________________________\n"
     ]
    }
   ],
   "source": [
    "autoencoder_1.summary()"
   ]
  },
  {
   "cell_type": "code",
   "execution_count": 32,
   "id": "6cc6c2f4-c05d-48eb-b44f-76fcf2b1127a",
   "metadata": {},
   "outputs": [],
   "source": [
    "callback = tf.keras.callbacks.EarlyStopping(monitor='val_loss', patience=8,restore_best_weights=True)"
   ]
  },
  {
   "cell_type": "code",
   "execution_count": 33,
   "id": "e417685c-9443-49e3-8a06-cad73ce75718",
   "metadata": {
    "tags": []
   },
   "outputs": [
    {
     "name": "stdout",
     "output_type": "stream",
     "text": [
      "Epoch 1/100\n",
      "3543/3543 [==============================] - 14s 4ms/step - loss: 0.4605 - accuracy: 0.5867 - val_loss: 0.4447 - val_accuracy: 0.3688\n",
      "Epoch 2/100\n",
      "3543/3543 [==============================] - 13s 4ms/step - loss: 0.3993 - accuracy: 0.6290 - val_loss: 0.4000 - val_accuracy: 0.4480\n",
      "Epoch 3/100\n",
      "3543/3543 [==============================] - 16s 4ms/step - loss: 0.3964 - accuracy: 0.6354 - val_loss: 0.3987 - val_accuracy: 0.8786\n",
      "Epoch 4/100\n",
      "3543/3543 [==============================] - 16s 4ms/step - loss: 0.3958 - accuracy: 0.6531 - val_loss: 0.3993 - val_accuracy: 0.6663\n",
      "Epoch 5/100\n",
      "3543/3543 [==============================] - 15s 4ms/step - loss: 0.3955 - accuracy: 0.6623 - val_loss: 0.3989 - val_accuracy: 0.7135\n",
      "Epoch 6/100\n",
      "3543/3543 [==============================] - 14s 4ms/step - loss: 0.3952 - accuracy: 0.6720 - val_loss: 0.3987 - val_accuracy: 0.5784\n",
      "Epoch 7/100\n",
      "3543/3543 [==============================] - 14s 4ms/step - loss: 0.3951 - accuracy: 0.6847 - val_loss: 0.3988 - val_accuracy: 0.5495\n",
      "Epoch 8/100\n",
      "3543/3543 [==============================] - 15s 4ms/step - loss: 0.3947 - accuracy: 0.6957 - val_loss: 0.3982 - val_accuracy: 0.7518\n",
      "Epoch 9/100\n",
      "3543/3543 [==============================] - 15s 4ms/step - loss: 0.3947 - accuracy: 0.6954 - val_loss: 0.3985 - val_accuracy: 0.6580\n",
      "Epoch 10/100\n",
      "3543/3543 [==============================] - 14s 4ms/step - loss: 0.3947 - accuracy: 0.7022 - val_loss: 0.3991 - val_accuracy: 0.4929\n",
      "Epoch 11/100\n",
      "3543/3543 [==============================] - 15s 4ms/step - loss: 0.3945 - accuracy: 0.7067 - val_loss: 0.3981 - val_accuracy: 0.8978\n",
      "Epoch 12/100\n",
      "3543/3543 [==============================] - 14s 4ms/step - loss: 0.3943 - accuracy: 0.7120 - val_loss: 0.3976 - val_accuracy: 0.7431\n",
      "Epoch 13/100\n",
      "3543/3543 [==============================] - 15s 4ms/step - loss: 0.3942 - accuracy: 0.7124 - val_loss: 0.3978 - val_accuracy: 0.4673\n",
      "Epoch 14/100\n",
      "3543/3543 [==============================] - 16s 4ms/step - loss: 0.3941 - accuracy: 0.7110 - val_loss: 0.3978 - val_accuracy: 0.7826\n",
      "Epoch 15/100\n",
      "3543/3543 [==============================] - 17s 5ms/step - loss: 0.3942 - accuracy: 0.7098 - val_loss: 0.3986 - val_accuracy: 0.6728\n",
      "Epoch 16/100\n",
      "3543/3543 [==============================] - 17s 5ms/step - loss: 0.3940 - accuracy: 0.7180 - val_loss: 0.3979 - val_accuracy: 0.7001\n",
      "Epoch 17/100\n",
      "3543/3543 [==============================] - 14s 4ms/step - loss: 0.3938 - accuracy: 0.7201 - val_loss: 0.3972 - val_accuracy: 0.8383\n",
      "Epoch 18/100\n",
      "3543/3543 [==============================] - 15s 4ms/step - loss: 0.3939 - accuracy: 0.7175 - val_loss: 0.3975 - val_accuracy: 0.6778\n",
      "Epoch 19/100\n",
      "3543/3543 [==============================] - 15s 4ms/step - loss: 0.3938 - accuracy: 0.7180 - val_loss: 0.3975 - val_accuracy: 0.6449\n",
      "Epoch 20/100\n",
      "3543/3543 [==============================] - 14s 4ms/step - loss: 0.3937 - accuracy: 0.7206 - val_loss: 0.3975 - val_accuracy: 0.6799\n",
      "Epoch 21/100\n",
      "3543/3543 [==============================] - 13s 4ms/step - loss: 0.3937 - accuracy: 0.7230 - val_loss: 0.3983 - val_accuracy: 0.6561\n",
      "Epoch 22/100\n",
      "3543/3543 [==============================] - 15s 4ms/step - loss: 0.3937 - accuracy: 0.7294 - val_loss: 0.3971 - val_accuracy: 0.7615\n",
      "Epoch 23/100\n",
      "3543/3543 [==============================] - 14s 4ms/step - loss: 0.3936 - accuracy: 0.7298 - val_loss: 0.3975 - val_accuracy: 0.7429\n",
      "Epoch 24/100\n",
      "3543/3543 [==============================] - 16s 4ms/step - loss: 0.3936 - accuracy: 0.7267 - val_loss: 0.3976 - val_accuracy: 0.6049\n",
      "Epoch 25/100\n",
      "3543/3543 [==============================] - 15s 4ms/step - loss: 0.3936 - accuracy: 0.7279 - val_loss: 0.3975 - val_accuracy: 0.5014\n",
      "Epoch 26/100\n",
      "3543/3543 [==============================] - 16s 4ms/step - loss: 0.3935 - accuracy: 0.7268 - val_loss: 0.3969 - val_accuracy: 0.8205\n",
      "Epoch 27/100\n",
      "3543/3543 [==============================] - 13s 4ms/step - loss: 0.3936 - accuracy: 0.7234 - val_loss: 0.3972 - val_accuracy: 0.6962\n",
      "Epoch 28/100\n",
      "3543/3543 [==============================] - 14s 4ms/step - loss: 0.3935 - accuracy: 0.7323 - val_loss: 0.3974 - val_accuracy: 0.6904\n",
      "Epoch 29/100\n",
      "3543/3543 [==============================] - 14s 4ms/step - loss: 0.3935 - accuracy: 0.7335 - val_loss: 0.3972 - val_accuracy: 0.6849\n",
      "Epoch 30/100\n",
      "3543/3543 [==============================] - 14s 4ms/step - loss: 0.3936 - accuracy: 0.7308 - val_loss: 0.3971 - val_accuracy: 0.6905\n",
      "Epoch 31/100\n",
      "3543/3543 [==============================] - 14s 4ms/step - loss: 0.3936 - accuracy: 0.7374 - val_loss: 0.3971 - val_accuracy: 0.9007\n",
      "Epoch 32/100\n",
      "3543/3543 [==============================] - 15s 4ms/step - loss: 0.3934 - accuracy: 0.7387 - val_loss: 0.3974 - val_accuracy: 0.7414\n",
      "Epoch 33/100\n",
      "3543/3543 [==============================] - 15s 4ms/step - loss: 0.3936 - accuracy: 0.7349 - val_loss: 0.3974 - val_accuracy: 0.6953\n",
      "Epoch 34/100\n",
      "3543/3543 [==============================] - 13s 4ms/step - loss: 0.3934 - accuracy: 0.7372 - val_loss: 0.3969 - val_accuracy: 0.9352\n",
      "Epoch 35/100\n",
      "3543/3543 [==============================] - 16s 4ms/step - loss: 0.3934 - accuracy: 0.7362 - val_loss: 0.3969 - val_accuracy: 0.6998\n",
      "Epoch 36/100\n",
      "3543/3543 [==============================] - 13s 4ms/step - loss: 0.3935 - accuracy: 0.7386 - val_loss: 0.3973 - val_accuracy: 0.5007\n",
      "Epoch 37/100\n",
      "3543/3543 [==============================] - 14s 4ms/step - loss: 0.3934 - accuracy: 0.7442 - val_loss: 0.3976 - val_accuracy: 0.8522\n",
      "Epoch 38/100\n",
      "3543/3543 [==============================] - 13s 4ms/step - loss: 0.3935 - accuracy: 0.7424 - val_loss: 0.3984 - val_accuracy: 0.7935\n",
      "Epoch 39/100\n",
      "3543/3543 [==============================] - 13s 4ms/step - loss: 0.3934 - accuracy: 0.7468 - val_loss: 0.3970 - val_accuracy: 0.7136\n",
      "Epoch 40/100\n",
      "3543/3543 [==============================] - 14s 4ms/step - loss: 0.3624 - accuracy: 0.7374 - val_loss: 0.3537 - val_accuracy: 0.9432\n",
      "Epoch 41/100\n",
      "3543/3543 [==============================] - 13s 4ms/step - loss: 0.3514 - accuracy: 0.7593 - val_loss: 0.3536 - val_accuracy: 0.7271\n",
      "Epoch 42/100\n",
      "3543/3543 [==============================] - 15s 4ms/step - loss: 0.3513 - accuracy: 0.7655 - val_loss: 0.3530 - val_accuracy: 0.7424\n",
      "Epoch 43/100\n",
      "3543/3543 [==============================] - 14s 4ms/step - loss: 0.3513 - accuracy: 0.7634 - val_loss: 0.3535 - val_accuracy: 0.7435\n",
      "Epoch 44/100\n",
      "3543/3543 [==============================] - 15s 4ms/step - loss: 0.3512 - accuracy: 0.7646 - val_loss: 0.3546 - val_accuracy: 0.8273\n",
      "Epoch 45/100\n",
      "3543/3543 [==============================] - 14s 4ms/step - loss: 0.3512 - accuracy: 0.7701 - val_loss: 0.3528 - val_accuracy: 0.5531\n",
      "Epoch 46/100\n",
      "3543/3543 [==============================] - 15s 4ms/step - loss: 0.3510 - accuracy: 0.7688 - val_loss: 0.3532 - val_accuracy: 0.5137\n",
      "Epoch 47/100\n",
      "3543/3543 [==============================] - 15s 4ms/step - loss: 0.3511 - accuracy: 0.7758 - val_loss: 0.3533 - val_accuracy: 0.8075\n",
      "Epoch 48/100\n",
      "3543/3543 [==============================] - 13s 4ms/step - loss: 0.3511 - accuracy: 0.7757 - val_loss: 0.3527 - val_accuracy: 0.7535\n",
      "Epoch 49/100\n",
      "3543/3543 [==============================] - 13s 4ms/step - loss: 0.3511 - accuracy: 0.7742 - val_loss: 0.3540 - val_accuracy: 0.8984\n",
      "Epoch 50/100\n",
      "3543/3543 [==============================] - 15s 4ms/step - loss: 0.3510 - accuracy: 0.7741 - val_loss: 0.3530 - val_accuracy: 0.7977\n",
      "Epoch 51/100\n",
      "3543/3543 [==============================] - 16s 4ms/step - loss: 0.3510 - accuracy: 0.7819 - val_loss: 0.3529 - val_accuracy: 0.7212\n",
      "Epoch 52/100\n",
      "3543/3543 [==============================] - 15s 4ms/step - loss: 0.3510 - accuracy: 0.7726 - val_loss: 0.3531 - val_accuracy: 0.6655\n",
      "Epoch 53/100\n",
      "3543/3543 [==============================] - 15s 4ms/step - loss: 0.3510 - accuracy: 0.7788 - val_loss: 0.3534 - val_accuracy: 0.6344\n",
      "Epoch 54/100\n",
      "3543/3543 [==============================] - 15s 4ms/step - loss: 0.3509 - accuracy: 0.7771 - val_loss: 0.3536 - val_accuracy: 0.7850\n",
      "Epoch 55/100\n",
      "3543/3543 [==============================] - 13s 4ms/step - loss: 0.3509 - accuracy: 0.7767 - val_loss: 0.3534 - val_accuracy: 0.6080\n",
      "Epoch 56/100\n",
      "3543/3543 [==============================] - 15s 4ms/step - loss: 0.3509 - accuracy: 0.7761 - val_loss: 0.3527 - val_accuracy: 0.8320\n",
      "Epoch 57/100\n",
      "3543/3543 [==============================] - 14s 4ms/step - loss: 0.3509 - accuracy: 0.7837 - val_loss: 0.3527 - val_accuracy: 0.9030\n",
      "Epoch 58/100\n",
      "3543/3543 [==============================] - 15s 4ms/step - loss: 0.3508 - accuracy: 0.7840 - val_loss: 0.3527 - val_accuracy: 0.9386\n",
      "Epoch 59/100\n",
      "3543/3543 [==============================] - 13s 4ms/step - loss: 0.3509 - accuracy: 0.7801 - val_loss: 0.3535 - val_accuracy: 0.7921\n",
      "Epoch 60/100\n",
      "3543/3543 [==============================] - 15s 4ms/step - loss: 0.3509 - accuracy: 0.7792 - val_loss: 0.3535 - val_accuracy: 0.9286\n",
      "Epoch 61/100\n",
      "3543/3543 [==============================] - 15s 4ms/step - loss: 0.3510 - accuracy: 0.7832 - val_loss: 0.3538 - val_accuracy: 0.7706\n",
      "Epoch 62/100\n",
      "3543/3543 [==============================] - 13s 4ms/step - loss: 0.3509 - accuracy: 0.7877 - val_loss: 0.3537 - val_accuracy: 0.7076\n",
      "Epoch 63/100\n",
      "3543/3543 [==============================] - 15s 4ms/step - loss: 0.3509 - accuracy: 0.7846 - val_loss: 0.3527 - val_accuracy: 0.7993\n",
      "Epoch 64/100\n",
      "3543/3543 [==============================] - 15s 4ms/step - loss: 0.3508 - accuracy: 0.7877 - val_loss: 0.3548 - val_accuracy: 0.7097\n"
     ]
    }
   ],
   "source": [
    "stack_1 = autoencoder_1.fit(train_X, train_X, epochs=100, batch_size=batch_size,validation_data = (val_X,val_X),callbacks = [callback])"
   ]
  },
  {
   "cell_type": "code",
   "execution_count": 34,
   "id": "e1649f9d-8bad-4b97-869f-e36ad74dec74",
   "metadata": {},
   "outputs": [
    {
     "name": "stdout",
     "output_type": "stream",
     "text": [
      "4642/4642 [==============================] - 5s 1ms/step\n"
     ]
    }
   ],
   "source": [
    "pred = autoencoder_1.predict(act_features)"
   ]
  },
  {
   "cell_type": "code",
   "execution_count": 35,
   "id": "7120ddc2-e9b4-4b5e-96a7-b349dcc06716",
   "metadata": {},
   "outputs": [],
   "source": [
    "from sklearn.metrics import *\n",
    "import keras"
   ]
  },
  {
   "cell_type": "code",
   "execution_count": 36,
   "id": "17b7ee1c-a309-40c0-ae0d-e23f39a29744",
   "metadata": {},
   "outputs": [
    {
     "data": {
      "text/plain": [
       "0.35433488693713594"
      ]
     },
     "execution_count": 36,
     "metadata": {},
     "output_type": "execute_result"
    }
   ],
   "source": [
    "np.sum(keras.losses.mean_squared_error(pred,act_features))/len(act_features)"
   ]
  },
  {
   "cell_type": "code",
   "execution_count": 37,
   "id": "b22d38f4-e1fd-4e56-a414-465025eff830",
   "metadata": {},
   "outputs": [],
   "source": [
    "os.chdir(\"C:/Users/ArrunPersonal/Codes/Semester7/IDS/SAAE_ClubbedRun\")"
   ]
  },
  {
   "cell_type": "code",
   "execution_count": 38,
   "id": "f146dbfc-e57c-4544-aadb-0b2c6e470a9f",
   "metadata": {},
   "outputs": [],
   "source": [
    "autoencoder_1.save(\"sae1_c.h5\")"
   ]
  },
  {
   "cell_type": "code",
   "execution_count": 39,
   "id": "68e44617-4d08-4b58-8846-6269ccd65304",
   "metadata": {},
   "outputs": [
    {
     "name": "stdout",
     "output_type": "stream",
     "text": [
      "4642/4642 [==============================] - 5s 951us/step\n"
     ]
    }
   ],
   "source": [
    "layer_name = 'latent_1'\n",
    "intermediate_layer_model = Model(inputs=autoencoder_1.input,\n",
    "                                 outputs=autoencoder_1.get_layer(layer_name).output)\n",
    "intermediate_output_1 = intermediate_layer_model.predict(act_features)"
   ]
  },
  {
   "cell_type": "code",
   "execution_count": 40,
   "id": "88fc42b0-456f-4dce-a2d7-e632b684450d",
   "metadata": {},
   "outputs": [],
   "source": [
    "np.save(arr = intermediate_output_1,file = \"SAAE_Latent_1.npy\")"
   ]
  },
  {
   "cell_type": "markdown",
   "id": "51066f18-39f8-4893-b3bc-04e17551dfff",
   "metadata": {},
   "source": [
    "### Second Stack"
   ]
  },
  {
   "cell_type": "code",
   "execution_count": 41,
   "id": "abdc2508-a574-4e06-bd97-8ba907761bc4",
   "metadata": {},
   "outputs": [],
   "source": [
    "batch_size = 32\n",
    "input_dim = np.shape(intermediate_output_1)[1]\n",
    "input_layer = Input(shape=(input_dim), name='input')\n",
    "#Input Layer\n",
    "encoder = Dense (128, activation='relu')(input_layer)\n",
    "#Encoder’s first dense layer\n",
    "encoder = Dense (64, activation='relu')(encoder)\n",
    "#Encoder’s second dense layer\n",
    "encoder = Dense (32, activation='relu')(encoder)\n",
    "# Code layer\n",
    "latent_layer = Dense (16, activation='relu',name = 'latent_2')(encoder)\n",
    "# Decoder’s first dense layer\n",
    "decoder = Dense(32, activation='relu')(latent_layer)\n",
    "# Decoder’s second dense layer\n",
    "decoder = Dense(64, activation='relu')(decoder)\n",
    "# Decoder’s Third dense layer\n",
    "decoder = Dense(128, activation='relu')(decoder)\n",
    "# Output Layer\n",
    "decoder = Dense(input_dim, activation='relu')(decoder)"
   ]
  },
  {
   "cell_type": "code",
   "execution_count": 42,
   "id": "703f25f3-52e9-40e7-b309-c949994785e1",
   "metadata": {},
   "outputs": [],
   "source": [
    "autoencoder_2 = Model(inputs=input_layer, outputs=decoder)\n",
    "autoencoder_2.compile(metrics=['accuracy'],loss='mse',optimizer='adam')"
   ]
  },
  {
   "cell_type": "code",
   "execution_count": 43,
   "id": "ecf05aa1-441f-4d6e-a1d4-1ac548d99d34",
   "metadata": {},
   "outputs": [
    {
     "name": "stdout",
     "output_type": "stream",
     "text": [
      "Model: \"model_2\"\n",
      "_________________________________________________________________\n",
      " Layer (type)                Output Shape              Param #   \n",
      "=================================================================\n",
      " input (InputLayer)          [(None, 32)]              0         \n",
      "                                                                 \n",
      " dense_6 (Dense)             (None, 128)               4224      \n",
      "                                                                 \n",
      " dense_7 (Dense)             (None, 64)                8256      \n",
      "                                                                 \n",
      " dense_8 (Dense)             (None, 32)                2080      \n",
      "                                                                 \n",
      " latent_2 (Dense)            (None, 16)                528       \n",
      "                                                                 \n",
      " dense_9 (Dense)             (None, 32)                544       \n",
      "                                                                 \n",
      " dense_10 (Dense)            (None, 64)                2112      \n",
      "                                                                 \n",
      " dense_11 (Dense)            (None, 128)               8320      \n",
      "                                                                 \n",
      " dense_12 (Dense)            (None, 32)                4128      \n",
      "                                                                 \n",
      "=================================================================\n",
      "Total params: 30,192\n",
      "Trainable params: 30,192\n",
      "Non-trainable params: 0\n",
      "_________________________________________________________________\n"
     ]
    }
   ],
   "source": [
    "autoencoder_2.summary()"
   ]
  },
  {
   "cell_type": "code",
   "execution_count": 44,
   "id": "c4e67d55-9610-437c-b8ef-a2bbf58d3091",
   "metadata": {},
   "outputs": [],
   "source": [
    "callback = tf.keras.callbacks.EarlyStopping(monitor='val_loss', patience=8,restore_best_weights=True)"
   ]
  },
  {
   "cell_type": "code",
   "execution_count": 45,
   "id": "fe7aeaa6-e26b-4844-84ab-d26473ebe51d",
   "metadata": {},
   "outputs": [],
   "source": [
    "train_intX = intermediate_output_1[:len(df1)]\n",
    "test_intX = intermediate_output_1[len(df1):]\n",
    "train_intY = labels[:len(df1)]\n",
    "test_intY = labels[len(df1):]"
   ]
  },
  {
   "cell_type": "code",
   "execution_count": 46,
   "id": "33ea8da0-7bc1-4089-9d5e-11baadae5f6d",
   "metadata": {},
   "outputs": [],
   "source": [
    "train_intX, val_intX , train_intY ,val_intY = train_test_split(train_intX,train_intY,random_state = 42,test_size = 0.1)"
   ]
  },
  {
   "cell_type": "code",
   "execution_count": 47,
   "id": "b6519236-ab54-4bdb-be55-5cbb3a5a1fc6",
   "metadata": {
    "tags": []
   },
   "outputs": [
    {
     "name": "stdout",
     "output_type": "stream",
     "text": [
      "Epoch 1/100\n",
      "3543/3543 [==============================] - 13s 4ms/step - loss: 0.0201 - accuracy: 0.9017 - val_loss: 0.0172 - val_accuracy: 0.9297\n",
      "Epoch 2/100\n",
      "3543/3543 [==============================] - 12s 3ms/step - loss: 0.0123 - accuracy: 0.9446 - val_loss: 0.0083 - val_accuracy: 0.9597\n",
      "Epoch 3/100\n",
      "3543/3543 [==============================] - 12s 3ms/step - loss: 0.0084 - accuracy: 0.9590 - val_loss: 0.0082 - val_accuracy: 0.9617\n",
      "Epoch 4/100\n",
      "3543/3543 [==============================] - 12s 3ms/step - loss: 0.0083 - accuracy: 0.9599 - val_loss: 0.0086 - val_accuracy: 0.9525\n",
      "Epoch 5/100\n",
      "3543/3543 [==============================] - 12s 3ms/step - loss: 0.0083 - accuracy: 0.9633 - val_loss: 0.0083 - val_accuracy: 0.9624\n",
      "Epoch 6/100\n",
      "3543/3543 [==============================] - 12s 3ms/step - loss: 0.0083 - accuracy: 0.9629 - val_loss: 0.0081 - val_accuracy: 0.9686\n",
      "Epoch 7/100\n",
      "3543/3543 [==============================] - 13s 4ms/step - loss: 0.0083 - accuracy: 0.9632 - val_loss: 0.0084 - val_accuracy: 0.9547\n",
      "Epoch 8/100\n",
      "3543/3543 [==============================] - 12s 3ms/step - loss: 0.0082 - accuracy: 0.9649 - val_loss: 0.0082 - val_accuracy: 0.9632\n",
      "Epoch 9/100\n",
      "3543/3543 [==============================] - 12s 3ms/step - loss: 0.0082 - accuracy: 0.9650 - val_loss: 0.0083 - val_accuracy: 0.9627\n",
      "Epoch 10/100\n",
      "3543/3543 [==============================] - 12s 3ms/step - loss: 0.0082 - accuracy: 0.9654 - val_loss: 0.0083 - val_accuracy: 0.9610\n",
      "Epoch 11/100\n",
      "3543/3543 [==============================] - 10s 3ms/step - loss: 0.0082 - accuracy: 0.9654 - val_loss: 0.0082 - val_accuracy: 0.9569\n",
      "Epoch 12/100\n",
      "3543/3543 [==============================] - 13s 4ms/step - loss: 0.0082 - accuracy: 0.9655 - val_loss: 0.0081 - val_accuracy: 0.9687\n",
      "Epoch 13/100\n",
      "3543/3543 [==============================] - 12s 3ms/step - loss: 0.0082 - accuracy: 0.9654 - val_loss: 0.0081 - val_accuracy: 0.9718\n",
      "Epoch 14/100\n",
      "3543/3543 [==============================] - 12s 3ms/step - loss: 0.0082 - accuracy: 0.9668 - val_loss: 0.0081 - val_accuracy: 0.9667\n",
      "Epoch 15/100\n",
      "3543/3543 [==============================] - 12s 3ms/step - loss: 0.0082 - accuracy: 0.9661 - val_loss: 0.0082 - val_accuracy: 0.9649\n",
      "Epoch 16/100\n",
      "3543/3543 [==============================] - 10s 3ms/step - loss: 0.0082 - accuracy: 0.9663 - val_loss: 0.0082 - val_accuracy: 0.9709\n",
      "Epoch 17/100\n",
      "3543/3543 [==============================] - 12s 3ms/step - loss: 0.0082 - accuracy: 0.9670 - val_loss: 0.0081 - val_accuracy: 0.9698\n",
      "Epoch 18/100\n",
      "3543/3543 [==============================] - 12s 3ms/step - loss: 0.0082 - accuracy: 0.9662 - val_loss: 0.0081 - val_accuracy: 0.9682\n",
      "Epoch 19/100\n",
      "3543/3543 [==============================] - 12s 3ms/step - loss: 0.0081 - accuracy: 0.9684 - val_loss: 0.0081 - val_accuracy: 0.9770\n",
      "Epoch 20/100\n",
      "3543/3543 [==============================] - 12s 3ms/step - loss: 0.0081 - accuracy: 0.9678 - val_loss: 0.0081 - val_accuracy: 0.9718\n",
      "Epoch 21/100\n",
      "3543/3543 [==============================] - 12s 3ms/step - loss: 0.0081 - accuracy: 0.9681 - val_loss: 0.0081 - val_accuracy: 0.9673\n",
      "Epoch 22/100\n",
      "3543/3543 [==============================] - 12s 3ms/step - loss: 0.0081 - accuracy: 0.9680 - val_loss: 0.0081 - val_accuracy: 0.9738\n",
      "Epoch 23/100\n",
      "3543/3543 [==============================] - 12s 3ms/step - loss: 0.0081 - accuracy: 0.9697 - val_loss: 0.0081 - val_accuracy: 0.9718\n",
      "Epoch 24/100\n",
      "3543/3543 [==============================] - 12s 3ms/step - loss: 0.0081 - accuracy: 0.9688 - val_loss: 0.0082 - val_accuracy: 0.9670\n",
      "Epoch 25/100\n",
      "3543/3543 [==============================] - 12s 3ms/step - loss: 0.0081 - accuracy: 0.9681 - val_loss: 0.0081 - val_accuracy: 0.9706\n",
      "Epoch 26/100\n",
      "3543/3543 [==============================] - 12s 3ms/step - loss: 0.0082 - accuracy: 0.9685 - val_loss: 0.0082 - val_accuracy: 0.9725\n",
      "Epoch 27/100\n",
      "3543/3543 [==============================] - 11s 3ms/step - loss: 0.0081 - accuracy: 0.9690 - val_loss: 0.0081 - val_accuracy: 0.9700\n",
      "Epoch 28/100\n",
      "3543/3543 [==============================] - 12s 3ms/step - loss: 0.0081 - accuracy: 0.9683 - val_loss: 0.0082 - val_accuracy: 0.9677\n",
      "Epoch 29/100\n",
      "3543/3543 [==============================] - 12s 3ms/step - loss: 0.0081 - accuracy: 0.9682 - val_loss: 0.0081 - val_accuracy: 0.9691\n",
      "Epoch 30/100\n",
      "3543/3543 [==============================] - 12s 3ms/step - loss: 0.0081 - accuracy: 0.9683 - val_loss: 0.0081 - val_accuracy: 0.9656\n",
      "Epoch 31/100\n",
      "3543/3543 [==============================] - 13s 4ms/step - loss: 0.0081 - accuracy: 0.9690 - val_loss: 0.0081 - val_accuracy: 0.9698\n",
      "Epoch 32/100\n",
      "3543/3543 [==============================] - 12s 3ms/step - loss: 0.0081 - accuracy: 0.9689 - val_loss: 0.0081 - val_accuracy: 0.9714\n",
      "Epoch 33/100\n",
      "3543/3543 [==============================] - 11s 3ms/step - loss: 0.0081 - accuracy: 0.9698 - val_loss: 0.0081 - val_accuracy: 0.9701\n",
      "Epoch 34/100\n",
      "3543/3543 [==============================] - 12s 3ms/step - loss: 0.0081 - accuracy: 0.9690 - val_loss: 0.0082 - val_accuracy: 0.9709\n",
      "Epoch 35/100\n",
      "3543/3543 [==============================] - 12s 3ms/step - loss: 0.0081 - accuracy: 0.9687 - val_loss: 0.0081 - val_accuracy: 0.9763\n",
      "Epoch 36/100\n",
      "3543/3543 [==============================] - 12s 3ms/step - loss: 0.0081 - accuracy: 0.9685 - val_loss: 0.0081 - val_accuracy: 0.9749\n",
      "Epoch 37/100\n",
      "3543/3543 [==============================] - 12s 3ms/step - loss: 0.0081 - accuracy: 0.9710 - val_loss: 0.0081 - val_accuracy: 0.9744\n",
      "Epoch 38/100\n",
      "3543/3543 [==============================] - 12s 3ms/step - loss: 0.0081 - accuracy: 0.9707 - val_loss: 0.0081 - val_accuracy: 0.9728\n",
      "Epoch 39/100\n",
      "3543/3543 [==============================] - 12s 3ms/step - loss: 0.0081 - accuracy: 0.9698 - val_loss: 0.0081 - val_accuracy: 0.9690\n",
      "Epoch 40/100\n",
      "3543/3543 [==============================] - 12s 3ms/step - loss: 0.0076 - accuracy: 0.9688 - val_loss: 0.0075 - val_accuracy: 0.9679\n",
      "Epoch 41/100\n",
      "3543/3543 [==============================] - 12s 3ms/step - loss: 0.0075 - accuracy: 0.9696 - val_loss: 0.0074 - val_accuracy: 0.9721\n",
      "Epoch 42/100\n",
      "3543/3543 [==============================] - 12s 3ms/step - loss: 0.0075 - accuracy: 0.9701 - val_loss: 0.0074 - val_accuracy: 0.9725\n",
      "Epoch 43/100\n",
      "3543/3543 [==============================] - 12s 3ms/step - loss: 0.0074 - accuracy: 0.9705 - val_loss: 0.0074 - val_accuracy: 0.9700\n",
      "Epoch 44/100\n",
      "3543/3543 [==============================] - 12s 3ms/step - loss: 0.0075 - accuracy: 0.9702 - val_loss: 0.0074 - val_accuracy: 0.9692\n",
      "Epoch 45/100\n",
      "3543/3543 [==============================] - 11s 3ms/step - loss: 0.0074 - accuracy: 0.9711 - val_loss: 0.0074 - val_accuracy: 0.9740\n",
      "Epoch 46/100\n",
      "3543/3543 [==============================] - 12s 3ms/step - loss: 0.0074 - accuracy: 0.9713 - val_loss: 0.0075 - val_accuracy: 0.9684\n",
      "Epoch 47/100\n",
      "3543/3543 [==============================] - 13s 4ms/step - loss: 0.0074 - accuracy: 0.9714 - val_loss: 0.0074 - val_accuracy: 0.9752\n",
      "Epoch 48/100\n",
      "3543/3543 [==============================] - 12s 4ms/step - loss: 0.0074 - accuracy: 0.9707 - val_loss: 0.0074 - val_accuracy: 0.9758\n",
      "Epoch 49/100\n",
      "3543/3543 [==============================] - 12s 3ms/step - loss: 0.0074 - accuracy: 0.9710 - val_loss: 0.0074 - val_accuracy: 0.9697\n",
      "Epoch 50/100\n",
      "3543/3543 [==============================] - 12s 3ms/step - loss: 0.0074 - accuracy: 0.9708 - val_loss: 0.0074 - val_accuracy: 0.9721\n",
      "Epoch 51/100\n",
      "3543/3543 [==============================] - 11s 3ms/step - loss: 0.0031 - accuracy: 0.9732 - val_loss: 0.0026 - val_accuracy: 0.9742\n",
      "Epoch 52/100\n",
      "3543/3543 [==============================] - 12s 3ms/step - loss: 0.0026 - accuracy: 0.9755 - val_loss: 0.0027 - val_accuracy: 0.9719\n",
      "Epoch 53/100\n",
      "3543/3543 [==============================] - 12s 3ms/step - loss: 0.0026 - accuracy: 0.9756 - val_loss: 0.0027 - val_accuracy: 0.9735\n",
      "Epoch 54/100\n",
      "3543/3543 [==============================] - 12s 3ms/step - loss: 0.0026 - accuracy: 0.9758 - val_loss: 0.0028 - val_accuracy: 0.9722\n",
      "Epoch 55/100\n",
      "3543/3543 [==============================] - 12s 3ms/step - loss: 0.0026 - accuracy: 0.9765 - val_loss: 0.0026 - val_accuracy: 0.9791\n",
      "Epoch 56/100\n",
      "3543/3543 [==============================] - 12s 3ms/step - loss: 0.0026 - accuracy: 0.9756 - val_loss: 0.0026 - val_accuracy: 0.9799\n",
      "Epoch 57/100\n",
      "3543/3543 [==============================] - 12s 3ms/step - loss: 0.0026 - accuracy: 0.9751 - val_loss: 0.0027 - val_accuracy: 0.9694\n",
      "Epoch 58/100\n",
      "3543/3543 [==============================] - 12s 3ms/step - loss: 0.0026 - accuracy: 0.9772 - val_loss: 0.0027 - val_accuracy: 0.9783\n",
      "Epoch 59/100\n",
      "3543/3543 [==============================] - 11s 3ms/step - loss: 0.0026 - accuracy: 0.9770 - val_loss: 0.0027 - val_accuracy: 0.9767\n"
     ]
    }
   ],
   "source": [
    "stack_2 = autoencoder_2.fit(train_intX, train_intX, epochs=100, batch_size=32,callbacks = [callback],validation_data = (val_intX, val_intX))"
   ]
  },
  {
   "cell_type": "code",
   "execution_count": 48,
   "id": "4f2309d5-91d1-4c0a-b6ee-971076df0011",
   "metadata": {},
   "outputs": [
    {
     "name": "stdout",
     "output_type": "stream",
     "text": [
      "4642/4642 [==============================] - 5s 1ms/step\n"
     ]
    }
   ],
   "source": [
    "pred = autoencoder_2.predict(intermediate_output_1)"
   ]
  },
  {
   "cell_type": "code",
   "execution_count": 49,
   "id": "67886a6b-8950-4fdf-9258-974ed368a4f0",
   "metadata": {},
   "outputs": [
    {
     "data": {
      "text/plain": [
       "0.0029175266611156047"
      ]
     },
     "execution_count": 49,
     "metadata": {},
     "output_type": "execute_result"
    }
   ],
   "source": [
    "np.sum(keras.losses.mean_squared_error(pred,intermediate_output_1))/len(intermediate_output_1)"
   ]
  },
  {
   "cell_type": "code",
   "execution_count": 50,
   "id": "95531a96-7fa0-446f-997d-2b12fc2a52ba",
   "metadata": {},
   "outputs": [],
   "source": [
    "autoencoder_2.save(\"saae2_c.h5\")"
   ]
  },
  {
   "cell_type": "code",
   "execution_count": 51,
   "id": "82f9cf66-1bbc-4188-9ab3-e4a6fc8eeefc",
   "metadata": {},
   "outputs": [
    {
     "name": "stdout",
     "output_type": "stream",
     "text": [
      "4642/4642 [==============================] - 3s 723us/step\n"
     ]
    }
   ],
   "source": [
    "layer_name = 'latent_2'\n",
    "intermediate_layer_model = Model(inputs=autoencoder_2.input,\n",
    "                                 outputs=autoencoder_2.get_layer(layer_name).output)\n",
    "intermediate_output_2 = intermediate_layer_model.predict(intermediate_output_1)"
   ]
  },
  {
   "cell_type": "code",
   "execution_count": 52,
   "id": "0e46dee8-2bd2-42d1-8e9c-38d4db3a1790",
   "metadata": {},
   "outputs": [],
   "source": [
    "np.save(arr = intermediate_output_2,file = \"SAEE_Latent_2.npy\")"
   ]
  },
  {
   "cell_type": "markdown",
   "id": "705f51ae-5b72-44fe-9347-a5bc95afe895",
   "metadata": {},
   "source": [
    "### Classifier Model"
   ]
  },
  {
   "cell_type": "code",
   "execution_count": 59,
   "id": "e42990d5-e983-41a8-b543-7de9b750ab74",
   "metadata": {},
   "outputs": [],
   "source": [
    "batch_size = 32\n",
    "input_dim = np.shape(intermediate_output_2)[1]\n",
    "input_layer = Input(shape=(input_dim), name='input')\n",
    "#Input Layer\n",
    "dense1 = Dense (128, activation='relu')(input_layer)\n",
    "dense2 = Dense (64, activation='relu')(dense1)\n",
    "dense3 = Dense (8, activation='relu')(dense2)\n",
    "# Output Layer\n",
    "classifier = Dense(len(set(train_Y)), activation='softmax')(dense3)"
   ]
  },
  {
   "cell_type": "code",
   "execution_count": 60,
   "id": "61b5f89c-da19-4c1d-aeac-6480742079d1",
   "metadata": {},
   "outputs": [],
   "source": [
    "classify = Model(inputs=input_layer, outputs=classifier)\n",
    "classify.compile(metrics=['accuracy'],loss='sparse_categorical_crossentropy',optimizer='adam')"
   ]
  },
  {
   "cell_type": "code",
   "execution_count": 61,
   "id": "5f16222d-bbaf-41ca-a946-3878215bbb03",
   "metadata": {},
   "outputs": [],
   "source": [
    "train_intX = intermediate_output_2[:len(df1)]\n",
    "test_intX = intermediate_output_2[len(df1):]\n",
    "train_intY = labels[:len(df1)]\n",
    "test_intY = labels[len(df1):]"
   ]
  },
  {
   "cell_type": "code",
   "execution_count": 62,
   "id": "6fa99d49-fcff-4da8-baa3-81b120677889",
   "metadata": {},
   "outputs": [],
   "source": [
    "train_intX, val_intX , train_intY ,val_intY = train_test_split(train_intX,train_intY,random_state = 42,test_size = 0.1)"
   ]
  },
  {
   "cell_type": "code",
   "execution_count": 63,
   "id": "58791707-7c1c-4974-9244-fb445b644ccc",
   "metadata": {
    "tags": []
   },
   "outputs": [
    {
     "name": "stdout",
     "output_type": "stream",
     "text": [
      "Epoch 1/100\n",
      "3543/3543 [==============================] - 9s 2ms/step - loss: 0.1498 - accuracy: 0.9532 - val_loss: 0.0881 - val_accuracy: 0.9729\n",
      "Epoch 2/100\n",
      "3543/3543 [==============================] - 8s 2ms/step - loss: 0.0789 - accuracy: 0.9745 - val_loss: 0.0799 - val_accuracy: 0.9722\n",
      "Epoch 3/100\n",
      "3543/3543 [==============================] - 8s 2ms/step - loss: 0.0665 - accuracy: 0.9781 - val_loss: 0.0694 - val_accuracy: 0.9775\n",
      "Epoch 4/100\n",
      "3543/3543 [==============================] - 8s 2ms/step - loss: 0.0611 - accuracy: 0.9791 - val_loss: 0.0603 - val_accuracy: 0.9802\n",
      "Epoch 5/100\n",
      "3543/3543 [==============================] - 8s 2ms/step - loss: 0.0574 - accuracy: 0.9808 - val_loss: 0.0682 - val_accuracy: 0.9763\n",
      "Epoch 6/100\n",
      "3543/3543 [==============================] - 8s 2ms/step - loss: 0.0545 - accuracy: 0.9811 - val_loss: 0.0621 - val_accuracy: 0.9789\n",
      "Epoch 7/100\n",
      "3543/3543 [==============================] - 8s 2ms/step - loss: 0.0524 - accuracy: 0.9817 - val_loss: 0.0576 - val_accuracy: 0.9821\n",
      "Epoch 8/100\n",
      "3543/3543 [==============================] - 8s 2ms/step - loss: 0.0515 - accuracy: 0.9820 - val_loss: 0.0555 - val_accuracy: 0.9822\n",
      "Epoch 9/100\n",
      "3543/3543 [==============================] - 8s 2ms/step - loss: 0.0497 - accuracy: 0.9827 - val_loss: 0.0534 - val_accuracy: 0.9809\n",
      "Epoch 10/100\n",
      "3543/3543 [==============================] - 8s 2ms/step - loss: 0.0480 - accuracy: 0.9834 - val_loss: 0.0520 - val_accuracy: 0.9818\n",
      "Epoch 11/100\n",
      "3543/3543 [==============================] - 8s 2ms/step - loss: 0.0466 - accuracy: 0.9835 - val_loss: 0.0563 - val_accuracy: 0.9819\n",
      "Epoch 12/100\n",
      "3543/3543 [==============================] - 8s 2ms/step - loss: 0.0455 - accuracy: 0.9840 - val_loss: 0.0509 - val_accuracy: 0.9820\n",
      "Epoch 13/100\n",
      "3543/3543 [==============================] - 8s 2ms/step - loss: 0.0445 - accuracy: 0.9839 - val_loss: 0.0494 - val_accuracy: 0.9829\n",
      "Epoch 14/100\n",
      "3543/3543 [==============================] - 8s 2ms/step - loss: 0.0441 - accuracy: 0.9841 - val_loss: 0.0487 - val_accuracy: 0.9835\n",
      "Epoch 15/100\n",
      "3543/3543 [==============================] - 8s 2ms/step - loss: 0.0430 - accuracy: 0.9847 - val_loss: 0.0555 - val_accuracy: 0.9820\n",
      "Epoch 16/100\n",
      "3543/3543 [==============================] - 8s 2ms/step - loss: 0.0425 - accuracy: 0.9850 - val_loss: 0.0566 - val_accuracy: 0.9813\n",
      "Epoch 17/100\n",
      "3543/3543 [==============================] - 8s 2ms/step - loss: 0.0419 - accuracy: 0.9845 - val_loss: 0.0501 - val_accuracy: 0.9829\n",
      "Epoch 18/100\n",
      "3543/3543 [==============================] - 8s 2ms/step - loss: 0.0412 - accuracy: 0.9851 - val_loss: 0.0495 - val_accuracy: 0.9829\n",
      "Epoch 19/100\n",
      "3543/3543 [==============================] - 8s 2ms/step - loss: 0.0410 - accuracy: 0.9851 - val_loss: 0.0485 - val_accuracy: 0.9821\n",
      "Epoch 20/100\n",
      "3543/3543 [==============================] - 8s 2ms/step - loss: 0.0403 - accuracy: 0.9851 - val_loss: 0.0559 - val_accuracy: 0.9806\n",
      "Epoch 21/100\n",
      "3543/3543 [==============================] - 8s 2ms/step - loss: 0.0401 - accuracy: 0.9854 - val_loss: 0.0465 - val_accuracy: 0.9843\n",
      "Epoch 22/100\n",
      "3543/3543 [==============================] - 8s 2ms/step - loss: 0.0392 - accuracy: 0.9856 - val_loss: 0.0485 - val_accuracy: 0.9819\n",
      "Epoch 23/100\n",
      "3543/3543 [==============================] - 8s 2ms/step - loss: 0.0387 - accuracy: 0.9859 - val_loss: 0.0492 - val_accuracy: 0.9825\n",
      "Epoch 24/100\n",
      "3543/3543 [==============================] - 8s 2ms/step - loss: 0.0389 - accuracy: 0.9856 - val_loss: 0.0495 - val_accuracy: 0.9827\n",
      "Epoch 25/100\n",
      "3543/3543 [==============================] - 8s 2ms/step - loss: 0.0383 - accuracy: 0.9857 - val_loss: 0.0466 - val_accuracy: 0.9851\n",
      "Epoch 26/100\n",
      "3543/3543 [==============================] - 8s 2ms/step - loss: 0.0382 - accuracy: 0.9858 - val_loss: 0.0514 - val_accuracy: 0.9834\n",
      "Epoch 27/100\n",
      "3543/3543 [==============================] - 8s 2ms/step - loss: 0.0376 - accuracy: 0.9860 - val_loss: 0.0455 - val_accuracy: 0.9849\n",
      "Epoch 28/100\n",
      "3543/3543 [==============================] - 8s 2ms/step - loss: 0.0371 - accuracy: 0.9864 - val_loss: 0.0473 - val_accuracy: 0.9842\n",
      "Epoch 29/100\n",
      "3543/3543 [==============================] - 8s 2ms/step - loss: 0.0370 - accuracy: 0.9862 - val_loss: 0.0459 - val_accuracy: 0.9860\n",
      "Epoch 30/100\n",
      "3543/3543 [==============================] - 8s 2ms/step - loss: 0.0366 - accuracy: 0.9862 - val_loss: 0.0479 - val_accuracy: 0.9842\n",
      "Epoch 31/100\n",
      "3543/3543 [==============================] - 8s 2ms/step - loss: 0.0361 - accuracy: 0.9862 - val_loss: 0.0474 - val_accuracy: 0.9833\n",
      "Epoch 32/100\n",
      "3543/3543 [==============================] - 8s 2ms/step - loss: 0.0363 - accuracy: 0.9863 - val_loss: 0.0446 - val_accuracy: 0.9857\n",
      "Epoch 33/100\n",
      "3543/3543 [==============================] - 8s 2ms/step - loss: 0.0355 - accuracy: 0.9867 - val_loss: 0.0446 - val_accuracy: 0.9844\n",
      "Epoch 34/100\n",
      "3543/3543 [==============================] - 8s 2ms/step - loss: 0.0358 - accuracy: 0.9866 - val_loss: 0.0443 - val_accuracy: 0.9863\n",
      "Epoch 35/100\n",
      "3543/3543 [==============================] - 8s 2ms/step - loss: 0.0354 - accuracy: 0.9867 - val_loss: 0.0450 - val_accuracy: 0.9850\n",
      "Epoch 36/100\n",
      "3543/3543 [==============================] - 8s 2ms/step - loss: 0.0352 - accuracy: 0.9868 - val_loss: 0.0463 - val_accuracy: 0.9834\n",
      "Epoch 37/100\n",
      "3543/3543 [==============================] - 8s 2ms/step - loss: 0.0353 - accuracy: 0.9868 - val_loss: 0.0504 - val_accuracy: 0.9836\n",
      "Epoch 38/100\n",
      "3543/3543 [==============================] - 8s 2ms/step - loss: 0.0345 - accuracy: 0.9870 - val_loss: 0.0424 - val_accuracy: 0.9857\n",
      "Epoch 39/100\n",
      "3543/3543 [==============================] - 8s 2ms/step - loss: 0.0344 - accuracy: 0.9871 - val_loss: 0.0490 - val_accuracy: 0.9832\n",
      "Epoch 40/100\n",
      "3543/3543 [==============================] - 8s 2ms/step - loss: 0.0340 - accuracy: 0.9872 - val_loss: 0.0449 - val_accuracy: 0.9845\n",
      "Epoch 41/100\n",
      "3543/3543 [==============================] - 8s 2ms/step - loss: 0.0339 - accuracy: 0.9871 - val_loss: 0.0467 - val_accuracy: 0.9845\n",
      "Epoch 42/100\n",
      "3543/3543 [==============================] - 9s 3ms/step - loss: 0.0342 - accuracy: 0.9870 - val_loss: 0.0436 - val_accuracy: 0.9860\n",
      "Epoch 43/100\n",
      "3543/3543 [==============================] - 9s 2ms/step - loss: 0.0339 - accuracy: 0.9868 - val_loss: 0.0434 - val_accuracy: 0.9863\n",
      "Epoch 44/100\n",
      "3543/3543 [==============================] - 9s 2ms/step - loss: 0.0336 - accuracy: 0.9870 - val_loss: 0.0447 - val_accuracy: 0.9848\n",
      "Epoch 45/100\n",
      "3543/3543 [==============================] - 8s 2ms/step - loss: 0.0339 - accuracy: 0.9870 - val_loss: 0.0436 - val_accuracy: 0.9858\n",
      "Epoch 46/100\n",
      "3543/3543 [==============================] - 8s 2ms/step - loss: 0.0331 - accuracy: 0.9874 - val_loss: 0.0434 - val_accuracy: 0.9852\n"
     ]
    }
   ],
   "source": [
    "history = classify.fit(train_intX, train_intY, epochs=100, batch_size=32,callbacks = [callback],validation_data = (val_intX, val_intY))"
   ]
  },
  {
   "cell_type": "code",
   "execution_count": 64,
   "id": "3835f939-1e47-4ed9-9e94-41a990119a5a",
   "metadata": {},
   "outputs": [
    {
     "name": "stdout",
     "output_type": "stream",
     "text": [
      "4642/4642 [==============================] - 4s 771us/step\n"
     ]
    }
   ],
   "source": [
    "preds = classify.predict(intermediate_output_2)"
   ]
  },
  {
   "cell_type": "code",
   "execution_count": 65,
   "id": "2d90d8aa-687a-437a-ba87-33e74ed2e502",
   "metadata": {},
   "outputs": [
    {
     "data": {
      "text/plain": [
       "((148517, 5), (148517,))"
      ]
     },
     "execution_count": 65,
     "metadata": {},
     "output_type": "execute_result"
    }
   ],
   "source": [
    "np.shape(preds),np.shape(labels)"
   ]
  },
  {
   "cell_type": "code",
   "execution_count": 66,
   "id": "827db2ea-1075-4822-a90e-db2b000a51e3",
   "metadata": {},
   "outputs": [
    {
     "data": {
      "text/plain": [
       "{0.0, 1.0, 2.0, 3.0, 4.0}"
      ]
     },
     "execution_count": 66,
     "metadata": {},
     "output_type": "execute_result"
    }
   ],
   "source": [
    "set(labels)"
   ]
  },
  {
   "cell_type": "code",
   "execution_count": 67,
   "id": "66420e44-e3ac-49a0-b475-7ac3892e68a6",
   "metadata": {},
   "outputs": [],
   "source": [
    "from sklearn.metrics import confusion_matrix\n",
    "conf_mat = confusion_matrix(np.argmax(preds,axis = 1), labels)"
   ]
  },
  {
   "cell_type": "code",
   "execution_count": 68,
   "id": "80596a4f-2000-4f04-bb7b-0815b7ced17d",
   "metadata": {},
   "outputs": [
    {
     "name": "stdout",
     "output_type": "stream",
     "text": [
      "0.950968575987934\n",
      "0.6317723394442195\n",
      "0.9174740757657581\n",
      "0.6627516644746384\n"
     ]
    }
   ],
   "source": [
    "print(accuracy_score(np.argmax(preds,axis = 1),labels))\n",
    "print(precision_score(np.argmax(preds,axis = 1),labels,average = 'macro'))\n",
    "print(recall_score(np.argmax(preds,axis = 1),labels,average = 'macro'))\n",
    "print(f1_score(np.argmax(preds,axis = 1),labels,average = 'macro'))"
   ]
  },
  {
   "cell_type": "code",
   "execution_count": 69,
   "id": "5582266a-40c3-49cf-bf08-81fef2e5ec2f",
   "metadata": {},
   "outputs": [],
   "source": [
    "import seaborn as sns"
   ]
  },
  {
   "cell_type": "code",
   "execution_count": 70,
   "id": "f8fd906d-887d-4ad9-ab88-c4350bb4b179",
   "metadata": {},
   "outputs": [
    {
     "data": {
      "text/plain": [
       "<AxesSubplot:>"
      ]
     },
     "execution_count": 70,
     "metadata": {},
     "output_type": "execute_result"
    },
    {
     "data": {
      "image/png": "[encoded data removed]",
      "text/plain": [
       "<Figure size 432x288 with 2 Axes>"
      ]
     },
     "metadata": {
      "needs_background": "light"
     },
     "output_type": "display_data"
    }
   ],
   "source": [
    "sns.heatmap(conf_mat, annot=True)"
   ]
  },
  {
   "cell_type": "markdown",
   "id": "8bf93326-3c79-4868-8be2-a6ad6f8b126f",
   "metadata": {},
   "source": [
    "# Testing on KDD Test"
   ]
  },
  {
   "cell_type": "code",
   "execution_count": 71,
   "id": "c2b492f7-7c3c-49f0-86a8-1e6658fc6900",
   "metadata": {},
   "outputs": [],
   "source": [
    "features = act_features[len(df1):]\n",
    "labels = labels[len(df1):]"
   ]
  },
  {
   "cell_type": "code",
   "execution_count": 72,
   "id": "4f9e069f-4f24-4f43-997a-7dc349f27d52",
   "metadata": {},
   "outputs": [
    {
     "name": "stdout",
     "output_type": "stream",
     "text": [
      "(22544, 20) (22544,)\n"
     ]
    }
   ],
   "source": [
    "print(np.shape(features),np.shape(labels))"
   ]
  },
  {
   "cell_type": "code",
   "execution_count": 73,
   "id": "1bdfdb2d-4bd5-4c50-82c6-9a464782005a",
   "metadata": {},
   "outputs": [
    {
     "name": "stdout",
     "output_type": "stream",
     "text": [
      "705/705 [==============================] - 1s 891us/step\n"
     ]
    }
   ],
   "source": [
    "layer_name = 'latent_1'\n",
    "intermediate_layer_model = Model(inputs=autoencoder_1.input,\n",
    "                                 outputs=autoencoder_1.get_layer(layer_name).output)\n",
    "intermediate_output_1 = intermediate_layer_model.predict(features)"
   ]
  },
  {
   "cell_type": "code",
   "execution_count": 74,
   "id": "8d88ece9-a881-4c81-b376-efe5a03ae4b8",
   "metadata": {},
   "outputs": [
    {
     "data": {
      "text/plain": [
       "(22544, 32)"
      ]
     },
     "execution_count": 74,
     "metadata": {},
     "output_type": "execute_result"
    }
   ],
   "source": [
    "np.shape(intermediate_output_1)"
   ]
  },
  {
   "cell_type": "code",
   "execution_count": 75,
   "id": "83be1f62-bb01-4878-bdde-be3af1fb9d50",
   "metadata": {},
   "outputs": [
    {
     "name": "stdout",
     "output_type": "stream",
     "text": [
      "705/705 [==============================] - 0s 652us/step\n"
     ]
    }
   ],
   "source": [
    "layer_name = 'latent_2'\n",
    "intermediate_layer_model = Model(inputs=autoencoder_2.input,\n",
    "                                 outputs=autoencoder_2.get_layer(layer_name).output)\n",
    "intermediate_output_2 = intermediate_layer_model.predict(intermediate_output_1)"
   ]
  },
  {
   "cell_type": "code",
   "execution_count": 76,
   "id": "576c3c81-3dc5-45be-8a56-6acbe0c0c7e5",
   "metadata": {},
   "outputs": [
    {
     "data": {
      "text/plain": [
       "(22544, 16)"
      ]
     },
     "execution_count": 76,
     "metadata": {},
     "output_type": "execute_result"
    }
   ],
   "source": [
    "np.shape(intermediate_output_2)"
   ]
  },
  {
   "cell_type": "code",
   "execution_count": 77,
   "id": "e57a1baf-8941-4675-8aff-6ba685c7f031",
   "metadata": {},
   "outputs": [
    {
     "name": "stdout",
     "output_type": "stream",
     "text": [
      "705/705 [==============================] - 1s 749us/step\n"
     ]
    }
   ],
   "source": [
    "final_prediction = classify.predict(intermediate_output_2)"
   ]
  },
  {
   "cell_type": "code",
   "execution_count": 78,
   "id": "f3dd30b1-882b-44bb-a6ae-1c80156dd70c",
   "metadata": {},
   "outputs": [
    {
     "data": {
      "text/plain": [
       "((22544, 5), (22544,))"
      ]
     },
     "execution_count": 78,
     "metadata": {},
     "output_type": "execute_result"
    }
   ],
   "source": [
    "np.shape(final_prediction),np.shape(labels)"
   ]
  },
  {
   "cell_type": "code",
   "execution_count": 79,
   "id": "e7841f76-54d1-4b0a-8687-6b61a5ee2879",
   "metadata": {},
   "outputs": [],
   "source": [
    "from sklearn.metrics import confusion_matrix\n",
    "conf_mat = confusion_matrix(np.argmax(final_prediction,axis = 1), labels)"
   ]
  },
  {
   "cell_type": "code",
   "execution_count": 80,
   "id": "abe67e02-fc48-4bc2-b4bd-b09638e70d30",
   "metadata": {},
   "outputs": [
    {
     "data": {
      "text/plain": [
       "<AxesSubplot:>"
      ]
     },
     "execution_count": 80,
     "metadata": {},
     "output_type": "execute_result"
    },
    {
     "data": {
      "image/png": "[encoded data removed]",
      "text/plain": [
       "<Figure size 432x288 with 2 Axes>"
      ]
     },
     "metadata": {
      "needs_background": "light"
     },
     "output_type": "display_data"
    }
   ],
   "source": [
    "sns.heatmap(conf_mat, annot=True)"
   ]
  },
  {
   "cell_type": "code",
   "execution_count": 81,
   "id": "77938fb2-dfdf-4412-b264-d7b777f83cc7",
   "metadata": {},
   "outputs": [
    {
     "name": "stdout",
     "output_type": "stream",
     "text": [
      "0.7463626685592619\n",
      "0.49158638350913114\n",
      "0.606868453441628\n",
      "0.4919266109137381\n"
     ]
    },
    {
     "name": "stderr",
     "output_type": "stream",
     "text": [
      "C:\\Users\\ArrunPersonal\\anaconda3\\lib\\site-packages\\sklearn\\metrics\\_classification.py:1248: UndefinedMetricWarning: Recall is ill-defined and being set to 0.0 in labels with no true samples. Use `zero_division` parameter to control this behavior.\n",
      "  _warn_prf(average, modifier, msg_start, len(result))\n"
     ]
    }
   ],
   "source": [
    "print(accuracy_score(np.argmax(final_prediction,axis = 1),labels))\n",
    "print(precision_score(np.argmax(final_prediction,axis = 1),labels,average = 'macro'))\n",
    "print(recall_score(np.argmax(final_prediction,axis = 1),labels,average = 'macro'))\n",
    "print(f1_score(np.argmax(final_prediction,axis = 1),labels,average = 'macro'))"
   ]
  },
  {
   "cell_type": "code",
   "execution_count": null,
   "id": "443201a2-7c4b-4cf6-a843-627d82418fe1",
   "metadata": {},
   "outputs": [],
   "source": []
  }
 ],
 "metadata": {
  "kernelspec": {
   "display_name": "Python 3 (ipykernel)",
   "language": "python",
   "name": "python3"
  },
  "language_info": {
   "codemirror_mode": {
    "name": "ipython",
    "version": 3
   },
   "file_extension": ".py",
   "mimetype": "text/x-python",
   "name": "python",
   "nbconvert_exporter": "python",
   "pygments_lexer": "ipython3",
   "version": "3.9.7"
  }
 },
 "nbformat": 4,
 "nbformat_minor": 5
}
