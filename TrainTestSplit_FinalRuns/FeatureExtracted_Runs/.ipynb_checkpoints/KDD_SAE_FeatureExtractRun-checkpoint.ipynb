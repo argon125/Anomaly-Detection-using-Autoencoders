{
 "cells": [
  {
   "cell_type": "code",
   "execution_count": 1,
   "id": "1bf0b868-c909-466a-8382-431edfb1ca3c",
   "metadata": {},
   "outputs": [
    {
     "name": "stdout",
     "output_type": "stream",
     "text": [
      "WARNING:tensorflow:Please fix your imports. Module tensorflow.python.training.saving.functional_saver has been moved to tensorflow.python.checkpoint.functional_saver. The old module will be deleted in version 2.11.\n",
      "WARNING:tensorflow:Please fix your imports. Module tensorflow.python.training.saving.checkpoint_options has been moved to tensorflow.python.checkpoint.checkpoint_options. The old module will be deleted in version 2.11.\n"
     ]
    }
   ],
   "source": [
    "import numpy as np\n",
    "import pandas as pd\n",
    "import matplotlib.pyplot as plt\n",
    "import os\n",
    "import tensorflow as tf"
   ]
  },
  {
   "cell_type": "code",
   "execution_count": 2,
   "id": "c01bb8b3-930c-4bd9-9a3f-5d07ce77b4ac",
   "metadata": {},
   "outputs": [],
   "source": [
    "feature = [\"duration\",\"protocol_type\",\"service\",\"flag\",\"src_bytes\",\n",
    "    \"dst_bytes\",\"land\",\"wrong_fragment\",\"urgent\",\"hot\",\"num_failed_logins\",\n",
    "    \"logged_in\",\"num_compromised\",\"root_shell\",\"su_attempted\",\"num_root\",\n",
    "    \"num_file_creations\",\"num_shells\",\"num_access_files\",\"num_outbound_cmds\",\n",
    "    \"is_host_login\",\"is_guest_login\",\"count\",\"srv_count\",\"serror_rate\",\n",
    "    \"srv_serror_rate\",\"rerror_rate\",\"srv_rerror_rate\",\"same_srv_rate\",\n",
    "    \"diff_srv_rate\",\"srv_diff_host_rate\",\"dst_host_count\",\"dst_host_srv_count\",\n",
    "    \"dst_host_same_srv_rate\",\"dst_host_diff_srv_rate\",\"dst_host_same_src_port_rate\",\n",
    "    \"dst_host_srv_diff_host_rate\",\"dst_host_serror_rate\",\"dst_host_srv_serror_rate\",\n",
    "    \"dst_host_rerror_rate\",\"dst_host_srv_rerror_rate\",\"target\",\"junk\"]"
   ]
  },
  {
   "cell_type": "code",
   "execution_count": 3,
   "id": "40536131-3ade-4777-9ac3-c1f2e6025ac7",
   "metadata": {},
   "outputs": [],
   "source": [
    "os.chdir(\"C:/Users/ArrunPersonal/Codes/Semester7/IDS/NSL-KDD\")"
   ]
  },
  {
   "cell_type": "code",
   "execution_count": 4,
   "id": "84364c10-8b89-45fa-8a3a-881de73b44aa",
   "metadata": {},
   "outputs": [],
   "source": [
    "df1 = pd.read_csv(\"KDDTrain+.csv\", names = feature)\n",
    "df2 = pd.read_csv(\"KDDTest+.csv\", names = feature)\n",
    "df = pd.concat([df1, df2], axis=0)\n",
    "df.drop([\"junk\"],axis = 1,inplace = True)"
   ]
  },
  {
   "cell_type": "code",
   "execution_count": 5,
   "id": "3fbe8575-19ab-460a-ad78-e5cff17205a5",
   "metadata": {},
   "outputs": [
    {
     "data": {
      "text/plain": [
       "False"
      ]
     },
     "execution_count": 5,
     "metadata": {},
     "output_type": "execute_result"
    }
   ],
   "source": [
    "df2.isnull().values.any()"
   ]
  },
  {
   "cell_type": "code",
   "execution_count": 6,
   "id": "5156c38d-0cd4-4fe0-b633-eaa3f29769a5",
   "metadata": {},
   "outputs": [
    {
     "data": {
      "text/html": [
       "<div>\n",
       "<style scoped>\n",
       "    .dataframe tbody tr th:only-of-type {\n",
       "        vertical-align: middle;\n",
       "    }\n",
       "\n",
       "    .dataframe tbody tr th {\n",
       "        vertical-align: top;\n",
       "    }\n",
       "\n",
       "    .dataframe thead th {\n",
       "        text-align: right;\n",
       "    }\n",
       "</style>\n",
       "<table border=\"1\" class=\"dataframe\">\n",
       "  <thead>\n",
       "    <tr style=\"text-align: right;\">\n",
       "      <th></th>\n",
       "      <th>duration</th>\n",
       "      <th>protocol_type</th>\n",
       "      <th>service</th>\n",
       "      <th>flag</th>\n",
       "      <th>src_bytes</th>\n",
       "      <th>dst_bytes</th>\n",
       "      <th>land</th>\n",
       "      <th>wrong_fragment</th>\n",
       "      <th>urgent</th>\n",
       "      <th>hot</th>\n",
       "      <th>...</th>\n",
       "      <th>dst_host_srv_count</th>\n",
       "      <th>dst_host_same_srv_rate</th>\n",
       "      <th>dst_host_diff_srv_rate</th>\n",
       "      <th>dst_host_same_src_port_rate</th>\n",
       "      <th>dst_host_srv_diff_host_rate</th>\n",
       "      <th>dst_host_serror_rate</th>\n",
       "      <th>dst_host_srv_serror_rate</th>\n",
       "      <th>dst_host_rerror_rate</th>\n",
       "      <th>dst_host_srv_rerror_rate</th>\n",
       "      <th>target</th>\n",
       "    </tr>\n",
       "  </thead>\n",
       "  <tbody>\n",
       "    <tr>\n",
       "      <th>0</th>\n",
       "      <td>0</td>\n",
       "      <td>tcp</td>\n",
       "      <td>ftp_data</td>\n",
       "      <td>SF</td>\n",
       "      <td>491</td>\n",
       "      <td>0</td>\n",
       "      <td>0</td>\n",
       "      <td>0</td>\n",
       "      <td>0</td>\n",
       "      <td>0</td>\n",
       "      <td>...</td>\n",
       "      <td>25</td>\n",
       "      <td>0.17</td>\n",
       "      <td>0.03</td>\n",
       "      <td>0.17</td>\n",
       "      <td>0.00</td>\n",
       "      <td>0.00</td>\n",
       "      <td>0.00</td>\n",
       "      <td>0.05</td>\n",
       "      <td>0.00</td>\n",
       "      <td>normal</td>\n",
       "    </tr>\n",
       "    <tr>\n",
       "      <th>1</th>\n",
       "      <td>0</td>\n",
       "      <td>udp</td>\n",
       "      <td>other</td>\n",
       "      <td>SF</td>\n",
       "      <td>146</td>\n",
       "      <td>0</td>\n",
       "      <td>0</td>\n",
       "      <td>0</td>\n",
       "      <td>0</td>\n",
       "      <td>0</td>\n",
       "      <td>...</td>\n",
       "      <td>1</td>\n",
       "      <td>0.00</td>\n",
       "      <td>0.60</td>\n",
       "      <td>0.88</td>\n",
       "      <td>0.00</td>\n",
       "      <td>0.00</td>\n",
       "      <td>0.00</td>\n",
       "      <td>0.00</td>\n",
       "      <td>0.00</td>\n",
       "      <td>normal</td>\n",
       "    </tr>\n",
       "    <tr>\n",
       "      <th>2</th>\n",
       "      <td>0</td>\n",
       "      <td>tcp</td>\n",
       "      <td>private</td>\n",
       "      <td>S0</td>\n",
       "      <td>0</td>\n",
       "      <td>0</td>\n",
       "      <td>0</td>\n",
       "      <td>0</td>\n",
       "      <td>0</td>\n",
       "      <td>0</td>\n",
       "      <td>...</td>\n",
       "      <td>26</td>\n",
       "      <td>0.10</td>\n",
       "      <td>0.05</td>\n",
       "      <td>0.00</td>\n",
       "      <td>0.00</td>\n",
       "      <td>1.00</td>\n",
       "      <td>1.00</td>\n",
       "      <td>0.00</td>\n",
       "      <td>0.00</td>\n",
       "      <td>neptune</td>\n",
       "    </tr>\n",
       "    <tr>\n",
       "      <th>3</th>\n",
       "      <td>0</td>\n",
       "      <td>tcp</td>\n",
       "      <td>http</td>\n",
       "      <td>SF</td>\n",
       "      <td>232</td>\n",
       "      <td>8153</td>\n",
       "      <td>0</td>\n",
       "      <td>0</td>\n",
       "      <td>0</td>\n",
       "      <td>0</td>\n",
       "      <td>...</td>\n",
       "      <td>255</td>\n",
       "      <td>1.00</td>\n",
       "      <td>0.00</td>\n",
       "      <td>0.03</td>\n",
       "      <td>0.04</td>\n",
       "      <td>0.03</td>\n",
       "      <td>0.01</td>\n",
       "      <td>0.00</td>\n",
       "      <td>0.01</td>\n",
       "      <td>normal</td>\n",
       "    </tr>\n",
       "    <tr>\n",
       "      <th>4</th>\n",
       "      <td>0</td>\n",
       "      <td>tcp</td>\n",
       "      <td>http</td>\n",
       "      <td>SF</td>\n",
       "      <td>199</td>\n",
       "      <td>420</td>\n",
       "      <td>0</td>\n",
       "      <td>0</td>\n",
       "      <td>0</td>\n",
       "      <td>0</td>\n",
       "      <td>...</td>\n",
       "      <td>255</td>\n",
       "      <td>1.00</td>\n",
       "      <td>0.00</td>\n",
       "      <td>0.00</td>\n",
       "      <td>0.00</td>\n",
       "      <td>0.00</td>\n",
       "      <td>0.00</td>\n",
       "      <td>0.00</td>\n",
       "      <td>0.00</td>\n",
       "      <td>normal</td>\n",
       "    </tr>\n",
       "  </tbody>\n",
       "</table>\n",
       "<p>5 rows × 42 columns</p>\n",
       "</div>"
      ],
      "text/plain": [
       "   duration protocol_type   service flag  src_bytes  dst_bytes  land  \\\n",
       "0         0           tcp  ftp_data   SF        491          0     0   \n",
       "1         0           udp     other   SF        146          0     0   \n",
       "2         0           tcp   private   S0          0          0     0   \n",
       "3         0           tcp      http   SF        232       8153     0   \n",
       "4         0           tcp      http   SF        199        420     0   \n",
       "\n",
       "   wrong_fragment  urgent  hot  ...  dst_host_srv_count  \\\n",
       "0               0       0    0  ...                  25   \n",
       "1               0       0    0  ...                   1   \n",
       "2               0       0    0  ...                  26   \n",
       "3               0       0    0  ...                 255   \n",
       "4               0       0    0  ...                 255   \n",
       "\n",
       "   dst_host_same_srv_rate  dst_host_diff_srv_rate  \\\n",
       "0                    0.17                    0.03   \n",
       "1                    0.00                    0.60   \n",
       "2                    0.10                    0.05   \n",
       "3                    1.00                    0.00   \n",
       "4                    1.00                    0.00   \n",
       "\n",
       "   dst_host_same_src_port_rate  dst_host_srv_diff_host_rate  \\\n",
       "0                         0.17                         0.00   \n",
       "1                         0.88                         0.00   \n",
       "2                         0.00                         0.00   \n",
       "3                         0.03                         0.04   \n",
       "4                         0.00                         0.00   \n",
       "\n",
       "   dst_host_serror_rate  dst_host_srv_serror_rate  dst_host_rerror_rate  \\\n",
       "0                  0.00                      0.00                  0.05   \n",
       "1                  0.00                      0.00                  0.00   \n",
       "2                  1.00                      1.00                  0.00   \n",
       "3                  0.03                      0.01                  0.00   \n",
       "4                  0.00                      0.00                  0.00   \n",
       "\n",
       "   dst_host_srv_rerror_rate   target  \n",
       "0                      0.00   normal  \n",
       "1                      0.00   normal  \n",
       "2                      0.00  neptune  \n",
       "3                      0.01   normal  \n",
       "4                      0.00   normal  \n",
       "\n",
       "[5 rows x 42 columns]"
      ]
     },
     "execution_count": 6,
     "metadata": {},
     "output_type": "execute_result"
    }
   ],
   "source": [
    "df.head()"
   ]
  },
  {
   "cell_type": "code",
   "execution_count": 7,
   "id": "55dab8da-b0ab-40d7-a7b8-72fb965459cc",
   "metadata": {},
   "outputs": [],
   "source": [
    "protocol_dict = dict(zip(set(df['protocol_type']),np.arange(len(set(df['protocol_type'])))))\n",
    "service_dict = dict(zip(set(df['service']),np.arange(len(set(df['service'])))))\n",
    "flag_dict = dict(zip(set(df['flag']),np.arange(len(set(df['flag'])))))"
   ]
  },
  {
   "cell_type": "code",
   "execution_count": 8,
   "id": "0bdb4b00-8c4d-41eb-aefc-88c49de6ac8c",
   "metadata": {},
   "outputs": [],
   "source": [
    "# changing attack labels to their respective attack class\n",
    "def change_feature(df):\n",
    "    df.target.replace(['apache2','back','land','neptune','mailbomb','pod','processtable','smurf','teardrop','udpstorm','worm'],'Dos',inplace=True)\n",
    "    df.target.replace(['ftp_write','guess_passwd','httptunnel','imap','multihop','named','phf','sendmail','snmpgetattack','snmpguess','spy','warezclient','warezmaster','xlock','xsnoop'],'R2L',inplace=True)      \n",
    "    df.target.replace(['ipsweep','mscan','nmap','portsweep','saint','satan'],'Probe',inplace=True)\n",
    "    df.target.replace(['buffer_overflow','loadmodule','perl','ps','rootkit','sqlattack','xterm'],'U2R',inplace=True)\n",
    "    \n",
    "    df.protocol_type.replace(protocol_dict.keys(),protocol_dict.values(),inplace=True)\n",
    "    df.service.replace(service_dict.keys(),service_dict.values(),inplace=True)\n",
    "    df.flag.replace(flag_dict.keys(),flag_dict.values(),inplace=True)"
   ]
  },
  {
   "cell_type": "code",
   "execution_count": 9,
   "id": "d7967ffd-6d6d-4ab3-b30e-f42ed7f96d5f",
   "metadata": {},
   "outputs": [],
   "source": [
    "change_feature(df)"
   ]
  },
  {
   "cell_type": "code",
   "execution_count": 10,
   "id": "8b26c684-a757-4180-8e33-82979a2e216a",
   "metadata": {},
   "outputs": [],
   "source": [
    "target_dict = dict(zip(set(df['target']),np.arange(len(set(df['target'])))))"
   ]
  },
  {
   "cell_type": "code",
   "execution_count": 11,
   "id": "410c0811-b1dd-4b02-a3f5-2000c64e7000",
   "metadata": {},
   "outputs": [],
   "source": [
    "def change_target(df):\n",
    "    df.target.replace(target_dict.keys(),target_dict.values(),inplace=True)"
   ]
  },
  {
   "cell_type": "code",
   "execution_count": 12,
   "id": "34dd9a32-72fc-4ff2-a215-ce6bb0fb8086",
   "metadata": {},
   "outputs": [],
   "source": [
    "change_target(df)"
   ]
  },
  {
   "cell_type": "code",
   "execution_count": 13,
   "id": "f15b3693-fd32-4536-9fcd-9cbe1a6c1ec6",
   "metadata": {},
   "outputs": [
    {
     "data": {
      "text/html": [
       "<div>\n",
       "<style scoped>\n",
       "    .dataframe tbody tr th:only-of-type {\n",
       "        vertical-align: middle;\n",
       "    }\n",
       "\n",
       "    .dataframe tbody tr th {\n",
       "        vertical-align: top;\n",
       "    }\n",
       "\n",
       "    .dataframe thead th {\n",
       "        text-align: right;\n",
       "    }\n",
       "</style>\n",
       "<table border=\"1\" class=\"dataframe\">\n",
       "  <thead>\n",
       "    <tr style=\"text-align: right;\">\n",
       "      <th></th>\n",
       "      <th>duration</th>\n",
       "      <th>protocol_type</th>\n",
       "      <th>service</th>\n",
       "      <th>flag</th>\n",
       "      <th>src_bytes</th>\n",
       "      <th>dst_bytes</th>\n",
       "      <th>land</th>\n",
       "      <th>wrong_fragment</th>\n",
       "      <th>urgent</th>\n",
       "      <th>hot</th>\n",
       "      <th>...</th>\n",
       "      <th>dst_host_srv_count</th>\n",
       "      <th>dst_host_same_srv_rate</th>\n",
       "      <th>dst_host_diff_srv_rate</th>\n",
       "      <th>dst_host_same_src_port_rate</th>\n",
       "      <th>dst_host_srv_diff_host_rate</th>\n",
       "      <th>dst_host_serror_rate</th>\n",
       "      <th>dst_host_srv_serror_rate</th>\n",
       "      <th>dst_host_rerror_rate</th>\n",
       "      <th>dst_host_srv_rerror_rate</th>\n",
       "      <th>target</th>\n",
       "    </tr>\n",
       "  </thead>\n",
       "  <tbody>\n",
       "    <tr>\n",
       "      <th>0</th>\n",
       "      <td>0</td>\n",
       "      <td>2</td>\n",
       "      <td>63</td>\n",
       "      <td>8</td>\n",
       "      <td>491</td>\n",
       "      <td>0</td>\n",
       "      <td>0</td>\n",
       "      <td>0</td>\n",
       "      <td>0</td>\n",
       "      <td>0</td>\n",
       "      <td>...</td>\n",
       "      <td>25</td>\n",
       "      <td>0.17</td>\n",
       "      <td>0.03</td>\n",
       "      <td>0.17</td>\n",
       "      <td>0.00</td>\n",
       "      <td>0.00</td>\n",
       "      <td>0.00</td>\n",
       "      <td>0.05</td>\n",
       "      <td>0.00</td>\n",
       "      <td>0</td>\n",
       "    </tr>\n",
       "    <tr>\n",
       "      <th>1</th>\n",
       "      <td>0</td>\n",
       "      <td>1</td>\n",
       "      <td>69</td>\n",
       "      <td>8</td>\n",
       "      <td>146</td>\n",
       "      <td>0</td>\n",
       "      <td>0</td>\n",
       "      <td>0</td>\n",
       "      <td>0</td>\n",
       "      <td>0</td>\n",
       "      <td>...</td>\n",
       "      <td>1</td>\n",
       "      <td>0.00</td>\n",
       "      <td>0.60</td>\n",
       "      <td>0.88</td>\n",
       "      <td>0.00</td>\n",
       "      <td>0.00</td>\n",
       "      <td>0.00</td>\n",
       "      <td>0.00</td>\n",
       "      <td>0.00</td>\n",
       "      <td>0</td>\n",
       "    </tr>\n",
       "    <tr>\n",
       "      <th>2</th>\n",
       "      <td>0</td>\n",
       "      <td>2</td>\n",
       "      <td>67</td>\n",
       "      <td>7</td>\n",
       "      <td>0</td>\n",
       "      <td>0</td>\n",
       "      <td>0</td>\n",
       "      <td>0</td>\n",
       "      <td>0</td>\n",
       "      <td>0</td>\n",
       "      <td>...</td>\n",
       "      <td>26</td>\n",
       "      <td>0.10</td>\n",
       "      <td>0.05</td>\n",
       "      <td>0.00</td>\n",
       "      <td>0.00</td>\n",
       "      <td>1.00</td>\n",
       "      <td>1.00</td>\n",
       "      <td>0.00</td>\n",
       "      <td>0.00</td>\n",
       "      <td>4</td>\n",
       "    </tr>\n",
       "    <tr>\n",
       "      <th>3</th>\n",
       "      <td>0</td>\n",
       "      <td>2</td>\n",
       "      <td>40</td>\n",
       "      <td>8</td>\n",
       "      <td>232</td>\n",
       "      <td>8153</td>\n",
       "      <td>0</td>\n",
       "      <td>0</td>\n",
       "      <td>0</td>\n",
       "      <td>0</td>\n",
       "      <td>...</td>\n",
       "      <td>255</td>\n",
       "      <td>1.00</td>\n",
       "      <td>0.00</td>\n",
       "      <td>0.03</td>\n",
       "      <td>0.04</td>\n",
       "      <td>0.03</td>\n",
       "      <td>0.01</td>\n",
       "      <td>0.00</td>\n",
       "      <td>0.01</td>\n",
       "      <td>0</td>\n",
       "    </tr>\n",
       "    <tr>\n",
       "      <th>4</th>\n",
       "      <td>0</td>\n",
       "      <td>2</td>\n",
       "      <td>40</td>\n",
       "      <td>8</td>\n",
       "      <td>199</td>\n",
       "      <td>420</td>\n",
       "      <td>0</td>\n",
       "      <td>0</td>\n",
       "      <td>0</td>\n",
       "      <td>0</td>\n",
       "      <td>...</td>\n",
       "      <td>255</td>\n",
       "      <td>1.00</td>\n",
       "      <td>0.00</td>\n",
       "      <td>0.00</td>\n",
       "      <td>0.00</td>\n",
       "      <td>0.00</td>\n",
       "      <td>0.00</td>\n",
       "      <td>0.00</td>\n",
       "      <td>0.00</td>\n",
       "      <td>0</td>\n",
       "    </tr>\n",
       "  </tbody>\n",
       "</table>\n",
       "<p>5 rows × 42 columns</p>\n",
       "</div>"
      ],
      "text/plain": [
       "   duration  protocol_type  service  flag  src_bytes  dst_bytes  land  \\\n",
       "0         0              2       63     8        491          0     0   \n",
       "1         0              1       69     8        146          0     0   \n",
       "2         0              2       67     7          0          0     0   \n",
       "3         0              2       40     8        232       8153     0   \n",
       "4         0              2       40     8        199        420     0   \n",
       "\n",
       "   wrong_fragment  urgent  hot  ...  dst_host_srv_count  \\\n",
       "0               0       0    0  ...                  25   \n",
       "1               0       0    0  ...                   1   \n",
       "2               0       0    0  ...                  26   \n",
       "3               0       0    0  ...                 255   \n",
       "4               0       0    0  ...                 255   \n",
       "\n",
       "   dst_host_same_srv_rate  dst_host_diff_srv_rate  \\\n",
       "0                    0.17                    0.03   \n",
       "1                    0.00                    0.60   \n",
       "2                    0.10                    0.05   \n",
       "3                    1.00                    0.00   \n",
       "4                    1.00                    0.00   \n",
       "\n",
       "   dst_host_same_src_port_rate  dst_host_srv_diff_host_rate  \\\n",
       "0                         0.17                         0.00   \n",
       "1                         0.88                         0.00   \n",
       "2                         0.00                         0.00   \n",
       "3                         0.03                         0.04   \n",
       "4                         0.00                         0.00   \n",
       "\n",
       "   dst_host_serror_rate  dst_host_srv_serror_rate  dst_host_rerror_rate  \\\n",
       "0                  0.00                      0.00                  0.05   \n",
       "1                  0.00                      0.00                  0.00   \n",
       "2                  1.00                      1.00                  0.00   \n",
       "3                  0.03                      0.01                  0.00   \n",
       "4                  0.00                      0.00                  0.00   \n",
       "\n",
       "   dst_host_srv_rerror_rate  target  \n",
       "0                      0.00       0  \n",
       "1                      0.00       0  \n",
       "2                      0.00       4  \n",
       "3                      0.01       0  \n",
       "4                      0.00       0  \n",
       "\n",
       "[5 rows x 42 columns]"
      ]
     },
     "execution_count": 13,
     "metadata": {},
     "output_type": "execute_result"
    }
   ],
   "source": [
    "df.head()"
   ]
  },
  {
   "cell_type": "code",
   "execution_count": 14,
   "id": "ab5c5615-fa58-4c6d-8df5-73bcc9d24fa1",
   "metadata": {},
   "outputs": [],
   "source": [
    "df_lis = np.array(df.values.tolist())"
   ]
  },
  {
   "cell_type": "code",
   "execution_count": 15,
   "id": "a707a55d-2191-4b28-853c-a40ebb4f7bb5",
   "metadata": {},
   "outputs": [],
   "source": [
    "from scipy.stats import pearsonr"
   ]
  },
  {
   "cell_type": "code",
   "execution_count": 16,
   "id": "e96b6b0e-e8fb-4d08-a3a9-fe6aaf185ef3",
   "metadata": {},
   "outputs": [],
   "source": [
    "features = np.array(df_lis[:,:-1])\n",
    "labels = np.array(df_lis[:,-1])"
   ]
  },
  {
   "cell_type": "code",
   "execution_count": 17,
   "id": "9a3040b2-73dc-4f35-84be-ea0dd7421534",
   "metadata": {},
   "outputs": [
    {
     "name": "stderr",
     "output_type": "stream",
     "text": [
      "C:\\Users\\ArrunPersonal\\anaconda3\\lib\\site-packages\\scipy\\stats\\stats.py:4023: PearsonRConstantInputWarning: An input array is constant; the correlation coefficient is not defined.\n",
      "  warnings.warn(PearsonRConstantInputWarning())\n"
     ]
    }
   ],
   "source": [
    "scores = [abs(pearsonr(features[:,i],labels)[0]) for i in range(np.shape(features)[1])]"
   ]
  },
  {
   "cell_type": "code",
   "execution_count": 19,
   "id": "7a15f2be-6ab2-4d38-8aaa-4247757c8a9c",
   "metadata": {},
   "outputs": [
    {
     "data": {
      "text/plain": [
       "[0.033154301277901047,\n",
       " 0.08968526054394282,\n",
       " 0.10225512306424966,\n",
       " 0.17343068123225905,\n",
       " 0.0024432649397296688,\n",
       " 0.0016714593545312244,\n",
       " 0.01217372344723723,\n",
       " 0.10360784071779952,\n",
       " 0.0015672817934957524,\n",
       " 0.027541916331915363,\n",
       " 0.0028622387612665516,\n",
       " 0.604444090171496,\n",
       " 0.008717796120490857,\n",
       " 0.015303960868955904,\n",
       " 0.019373412791300858,\n",
       " 0.009991921656228663,\n",
       " 0.016646325318778025,\n",
       " 0.002727894915331888,\n",
       " 0.03286054625296876,\n",
       " 0,\n",
       " 0.00280859210816065,\n",
       " 0.03558742447462009,\n",
       " 0.5808168920276496,\n",
       " 0.030780146558607488,\n",
       " 0.7210542171335125,\n",
       " 0.7198473798529372,\n",
       " 0.18402116571082025,\n",
       " 0.18274887750128507,\n",
       " 0.7780627283416132,\n",
       " 0.04062699304228319,\n",
       " 0.24048410158086964,\n",
       " 0.4596857434307014,\n",
       " 0.6331685147333105,\n",
       " 0.6689367411816391,\n",
       " 0.011548931346163093,\n",
       " 0.14393755026054975,\n",
       " 0.13776611953277323,\n",
       " 0.7227917845621397,\n",
       " 0.726543839247268,\n",
       " 0.20168059399999866,\n",
       " 0.17866485818380706]"
      ]
     },
     "execution_count": 19,
     "metadata": {},
     "output_type": "execute_result"
    }
   ],
   "source": [
    "scores[19] = 0\n",
    "scores"
   ]
  },
  {
   "cell_type": "code",
   "execution_count": 20,
   "id": "41c1ec72-0258-494c-96c4-ca229b9bbf0c",
   "metadata": {},
   "outputs": [],
   "source": [
    "act_features = []\n",
    "act_indices = []\n",
    "for i in range(len(scores)):\n",
    "    if(scores[i]> 0.1):\n",
    "        act_indices.append(i)\n",
    "        act_features.append(features[:,i])"
   ]
  },
  {
   "cell_type": "code",
   "execution_count": 21,
   "id": "8c323560-d3bb-44a0-9767-2d2dfab4abd9",
   "metadata": {},
   "outputs": [],
   "source": [
    "act_features = np.array(act_features).T"
   ]
  },
  {
   "cell_type": "code",
   "execution_count": 22,
   "id": "0327c182-992c-471d-9ba8-2f3a403f68bc",
   "metadata": {},
   "outputs": [
    {
     "data": {
      "text/plain": [
       "(148517, 20)"
      ]
     },
     "execution_count": 22,
     "metadata": {},
     "output_type": "execute_result"
    }
   ],
   "source": [
    "for i in range(np.shape(act_features)[1]):\n",
    "    if(np.std(act_features[:,i])!=0):\n",
    "        act_features[:,i] = (act_features[:,i]-np.mean(act_features[:,i]))/np.std(act_features[:,i]) \n",
    "    else:\n",
    "        act_features[:,i] = (act_features[:,i]-np.mean(act_features[:,i]))\n",
    "np.shape(act_features)"
   ]
  },
  {
   "cell_type": "code",
   "execution_count": 23,
   "id": "630656a7-3b1e-4940-a8ce-45c6c0b6b89c",
   "metadata": {},
   "outputs": [
    {
     "data": {
      "text/plain": [
       "((148517, 41), (148517,))"
      ]
     },
     "execution_count": 23,
     "metadata": {},
     "output_type": "execute_result"
    }
   ],
   "source": [
    "np.shape(features),np.shape(labels)"
   ]
  },
  {
   "cell_type": "code",
   "execution_count": 27,
   "id": "e714b21b-68ca-4606-9f87-c13ff5a0bd13",
   "metadata": {},
   "outputs": [],
   "source": [
    "train_X = act_features[:len(df1)]\n",
    "test_X = act_features[len(df1):]\n",
    "train_Y = labels[:len(df1)]\n",
    "test_Y = labels[len(df1):]"
   ]
  },
  {
   "cell_type": "code",
   "execution_count": 28,
   "id": "cb8fe055-378f-4de0-9175-d60f11884caa",
   "metadata": {},
   "outputs": [
    {
     "data": {
      "text/plain": [
       "{0.0, 1.0, 2.0, 3.0, 4.0}"
      ]
     },
     "execution_count": 28,
     "metadata": {},
     "output_type": "execute_result"
    }
   ],
   "source": [
    "set(train_Y)"
   ]
  },
  {
   "cell_type": "code",
   "execution_count": 29,
   "id": "47ba8e9a-7891-4de2-a9ab-b1efa262291a",
   "metadata": {},
   "outputs": [
    {
     "name": "stdout",
     "output_type": "stream",
     "text": [
      "(125973, 20) (22544, 20) (125973,) (22544,)\n"
     ]
    }
   ],
   "source": [
    "print(np.shape(train_X),np.shape(test_X),np.shape(train_Y),np.shape(test_Y))"
   ]
  },
  {
   "cell_type": "markdown",
   "id": "a7ca5b2f-40a8-4f6f-9d4d-885632699f7e",
   "metadata": {},
   "source": [
    "# Stacked Auto Encoder"
   ]
  },
  {
   "cell_type": "markdown",
   "id": "22de135a-8483-476f-bf21-29658e15e464",
   "metadata": {},
   "source": [
    "### First Stack"
   ]
  },
  {
   "cell_type": "code",
   "execution_count": 30,
   "id": "5cbdc2d6-0d68-43c5-b86d-8789714290ac",
   "metadata": {},
   "outputs": [],
   "source": [
    "from keras.layers import *\n",
    "from keras.models import Model"
   ]
  },
  {
   "cell_type": "code",
   "execution_count": 31,
   "id": "d86da138-a431-47fe-90cf-085690cfafce",
   "metadata": {},
   "outputs": [],
   "source": [
    "batch_size = 32\n",
    "input_dim = np.shape(train_X)[1]\n",
    "input_layer = Input(shape=(input_dim), name='input')\n",
    "#Input Layer\n",
    "encoder = Dense (256, activation='relu')(input_layer)\n",
    "#Encoder’s first dense layer\n",
    "encoder = Dense (128, activation='relu')(encoder)\n",
    "#Encoder’s second dense layer\n",
    "encoder = Dense (64, activation='relu')(encoder)\n",
    "# Code layer\n",
    "latent_layer = Dense (32, activation='relu',name = 'latent_1')(encoder)\n",
    "# Decoder’s first dense layer\n",
    "decoder = Dense(64, activation='relu')(latent_layer)\n",
    "# Decoder’s second dense layer\n",
    "decoder = Dense(128, activation='relu')(decoder)\n",
    "# Decoder’s Third dense layer\n",
    "decoder = Dense(256, activation='relu')(decoder)\n",
    "# Output Layer\n",
    "decoder = Dense(input_dim, activation='relu')(decoder)"
   ]
  },
  {
   "cell_type": "code",
   "execution_count": 32,
   "id": "44e82ea0-c414-4c62-b6b7-b264d2a8d50d",
   "metadata": {},
   "outputs": [],
   "source": [
    "autoencoder_1 = Model(inputs=input_layer, outputs=decoder)\n",
    "autoencoder_1.compile(metrics=['accuracy'],loss='mse',optimizer='adam')"
   ]
  },
  {
   "cell_type": "code",
   "execution_count": 33,
   "id": "b2dc9457-16b6-4196-a168-1a68bf872132",
   "metadata": {},
   "outputs": [
    {
     "name": "stdout",
     "output_type": "stream",
     "text": [
      "Model: \"model\"\n",
      "_________________________________________________________________\n",
      " Layer (type)                Output Shape              Param #   \n",
      "=================================================================\n",
      " input (InputLayer)          [(None, 20)]              0         \n",
      "                                                                 \n",
      " dense (Dense)               (None, 256)               5376      \n",
      "                                                                 \n",
      " dense_1 (Dense)             (None, 128)               32896     \n",
      "                                                                 \n",
      " dense_2 (Dense)             (None, 64)                8256      \n",
      "                                                                 \n",
      " latent_1 (Dense)            (None, 32)                2080      \n",
      "                                                                 \n",
      " dense_3 (Dense)             (None, 64)                2112      \n",
      "                                                                 \n",
      " dense_4 (Dense)             (None, 128)               8320      \n",
      "                                                                 \n",
      " dense_5 (Dense)             (None, 256)               33024     \n",
      "                                                                 \n",
      " dense_6 (Dense)             (None, 20)                5140      \n",
      "                                                                 \n",
      "=================================================================\n",
      "Total params: 97,204\n",
      "Trainable params: 97,204\n",
      "Non-trainable params: 0\n",
      "_________________________________________________________________\n"
     ]
    }
   ],
   "source": [
    "autoencoder_1.summary()"
   ]
  },
  {
   "cell_type": "code",
   "execution_count": 34,
   "id": "6cc6c2f4-c05d-48eb-b44f-76fcf2b1127a",
   "metadata": {},
   "outputs": [],
   "source": [
    "callback = tf.keras.callbacks.EarlyStopping(monitor='val_loss', patience=8,restore_best_weights=True)"
   ]
  },
  {
   "cell_type": "code",
   "execution_count": 37,
   "id": "e417685c-9443-49e3-8a06-cad73ce75718",
   "metadata": {
    "tags": []
   },
   "outputs": [
    {
     "name": "stdout",
     "output_type": "stream",
     "text": [
      "Epoch 1/100\n",
      "3937/3937 [==============================] - 13s 3ms/step - loss: 0.3877 - accuracy: 0.5887 - val_loss: 0.3666 - val_accuracy: 0.6415\n",
      "Epoch 2/100\n",
      "3937/3937 [==============================] - 14s 4ms/step - loss: 0.3877 - accuracy: 0.5909 - val_loss: 0.3673 - val_accuracy: 0.6333\n",
      "Epoch 3/100\n",
      "3937/3937 [==============================] - 14s 4ms/step - loss: 0.3877 - accuracy: 0.5895 - val_loss: 0.3666 - val_accuracy: 0.6381\n",
      "Epoch 4/100\n",
      "3937/3937 [==============================] - 14s 4ms/step - loss: 0.3877 - accuracy: 0.5915 - val_loss: 0.3667 - val_accuracy: 0.6450\n",
      "Epoch 5/100\n",
      "3937/3937 [==============================] - 12s 3ms/step - loss: 0.3877 - accuracy: 0.5938 - val_loss: 0.3669 - val_accuracy: 0.6455\n",
      "Epoch 6/100\n",
      "3937/3937 [==============================] - 14s 4ms/step - loss: 0.3877 - accuracy: 0.5990 - val_loss: 0.3657 - val_accuracy: 0.5835\n",
      "Epoch 7/100\n",
      "3937/3937 [==============================] - 14s 3ms/step - loss: 0.3878 - accuracy: 0.5936 - val_loss: 0.3664 - val_accuracy: 0.6538\n",
      "Epoch 8/100\n",
      "3937/3937 [==============================] - 15s 4ms/step - loss: 0.3877 - accuracy: 0.5991 - val_loss: 0.3657 - val_accuracy: 0.6468\n",
      "Epoch 9/100\n",
      "3937/3937 [==============================] - 15s 4ms/step - loss: 0.3877 - accuracy: 0.5971 - val_loss: 0.3668 - val_accuracy: 0.6009\n",
      "Epoch 10/100\n",
      "3937/3937 [==============================] - 15s 4ms/step - loss: 0.3877 - accuracy: 0.5990 - val_loss: 0.3657 - val_accuracy: 0.6482\n",
      "Epoch 11/100\n",
      "3937/3937 [==============================] - 15s 4ms/step - loss: 0.3876 - accuracy: 0.5981 - val_loss: 0.3674 - val_accuracy: 0.6296\n",
      "Epoch 12/100\n",
      "3937/3937 [==============================] - 14s 4ms/step - loss: 0.3876 - accuracy: 0.6064 - val_loss: 0.3670 - val_accuracy: 0.6481\n",
      "Epoch 13/100\n",
      "3937/3937 [==============================] - 14s 4ms/step - loss: 0.3876 - accuracy: 0.6030 - val_loss: 0.3663 - val_accuracy: 0.6111\n",
      "Epoch 14/100\n",
      "3937/3937 [==============================] - 12s 3ms/step - loss: 0.3877 - accuracy: 0.6018 - val_loss: 0.3672 - val_accuracy: 0.6420\n",
      "Epoch 15/100\n",
      "3937/3937 [==============================] - 14s 4ms/step - loss: 0.3876 - accuracy: 0.6033 - val_loss: 0.3671 - val_accuracy: 0.6503\n",
      "Epoch 16/100\n",
      "3937/3937 [==============================] - 14s 4ms/step - loss: 0.3877 - accuracy: 0.5997 - val_loss: 0.3668 - val_accuracy: 0.5970\n"
     ]
    }
   ],
   "source": [
    "stack_1 = autoencoder_1.fit(train_X, train_X, epochs=100, batch_size=batch_size,validation_data = (test_X,test_X),callbacks = [callback])"
   ]
  },
  {
   "cell_type": "code",
   "execution_count": 57,
   "id": "e1649f9d-8bad-4b97-869f-e36ad74dec74",
   "metadata": {},
   "outputs": [
    {
     "name": "stdout",
     "output_type": "stream",
     "text": [
      "4642/4642 [==============================] - 4s 871us/step\n"
     ]
    }
   ],
   "source": [
    "pred = autoencoder_1.predict(act_features)"
   ]
  },
  {
   "cell_type": "code",
   "execution_count": 58,
   "id": "7120ddc2-e9b4-4b5e-96a7-b349dcc06716",
   "metadata": {},
   "outputs": [],
   "source": [
    "from sklearn.metrics import *\n",
    "import keras"
   ]
  },
  {
   "cell_type": "code",
   "execution_count": 59,
   "id": "17b7ee1c-a309-40c0-ae0d-e23f39a29744",
   "metadata": {},
   "outputs": [
    {
     "data": {
      "text/plain": [
       "0.38418927960173077"
      ]
     },
     "execution_count": 59,
     "metadata": {},
     "output_type": "execute_result"
    }
   ],
   "source": [
    "np.sum(keras.losses.mean_squared_error(pred,act_features))/len(act_features)"
   ]
  },
  {
   "cell_type": "code",
   "execution_count": 60,
   "id": "b22d38f4-e1fd-4e56-a414-465025eff830",
   "metadata": {},
   "outputs": [],
   "source": [
    "os.chdir(\"C:/Users/ArrunPersonal/Codes/Semester7/IDS/SAE_ClubbedRun\")"
   ]
  },
  {
   "cell_type": "code",
   "execution_count": 61,
   "id": "f146dbfc-e57c-4544-aadb-0b2c6e470a9f",
   "metadata": {},
   "outputs": [],
   "source": [
    "autoencoder_1.save(\"sae1_c.h5\")"
   ]
  },
  {
   "cell_type": "code",
   "execution_count": 62,
   "id": "68e44617-4d08-4b58-8846-6269ccd65304",
   "metadata": {},
   "outputs": [
    {
     "name": "stdout",
     "output_type": "stream",
     "text": [
      "4642/4642 [==============================] - 3s 628us/step\n"
     ]
    }
   ],
   "source": [
    "layer_name = 'latent_1'\n",
    "intermediate_layer_model = Model(inputs=autoencoder_1.input,\n",
    "                                 outputs=autoencoder_1.get_layer(layer_name).output)\n",
    "intermediate_output_1 = intermediate_layer_model.predict(act_features)"
   ]
  },
  {
   "cell_type": "code",
   "execution_count": 63,
   "id": "88fc42b0-456f-4dce-a2d7-e632b684450d",
   "metadata": {},
   "outputs": [],
   "source": [
    "np.save(arr = intermediate_output_1,file = \"Latent_1.npy\")"
   ]
  },
  {
   "cell_type": "markdown",
   "id": "51066f18-39f8-4893-b3bc-04e17551dfff",
   "metadata": {},
   "source": [
    "### Second Stack"
   ]
  },
  {
   "cell_type": "code",
   "execution_count": 64,
   "id": "abdc2508-a574-4e06-bd97-8ba907761bc4",
   "metadata": {},
   "outputs": [],
   "source": [
    "batch_size = 32\n",
    "input_dim = np.shape(intermediate_output_1)[1]\n",
    "input_layer = Input(shape=(input_dim), name='input')\n",
    "#Input Layer\n",
    "encoder = Dense (128, activation='relu')(input_layer)\n",
    "#Encoder’s first dense layer\n",
    "encoder = Dense (64, activation='relu')(encoder)\n",
    "#Encoder’s second dense layer\n",
    "encoder = Dense (32, activation='relu')(encoder)\n",
    "# Code layer\n",
    "latent_layer = Dense (16, activation='relu',name = 'latent_2')(encoder)\n",
    "# Decoder’s first dense layer\n",
    "decoder = Dense(32, activation='relu')(latent_layer)\n",
    "# Decoder’s second dense layer\n",
    "decoder = Dense(64, activation='relu')(decoder)\n",
    "# Decoder’s Third dense layer\n",
    "decoder = Dense(128, activation='relu')(decoder)\n",
    "# Output Layer\n",
    "decoder = Dense(input_dim, activation='relu')(decoder)"
   ]
  },
  {
   "cell_type": "code",
   "execution_count": 65,
   "id": "703f25f3-52e9-40e7-b309-c949994785e1",
   "metadata": {},
   "outputs": [],
   "source": [
    "autoencoder_2 = Model(inputs=input_layer, outputs=decoder)\n",
    "autoencoder_2.compile(metrics=['accuracy'],loss='mse',optimizer='adam')"
   ]
  },
  {
   "cell_type": "code",
   "execution_count": 66,
   "id": "ecf05aa1-441f-4d6e-a1d4-1ac548d99d34",
   "metadata": {},
   "outputs": [
    {
     "name": "stdout",
     "output_type": "stream",
     "text": [
      "Model: \"model_5\"\n",
      "_________________________________________________________________\n",
      " Layer (type)                Output Shape              Param #   \n",
      "=================================================================\n",
      " input (InputLayer)          [(None, 32)]              0         \n",
      "                                                                 \n",
      " dense_14 (Dense)            (None, 128)               4224      \n",
      "                                                                 \n",
      " dense_15 (Dense)            (None, 64)                8256      \n",
      "                                                                 \n",
      " dense_16 (Dense)            (None, 32)                2080      \n",
      "                                                                 \n",
      " latent_2 (Dense)            (None, 16)                528       \n",
      "                                                                 \n",
      " dense_17 (Dense)            (None, 32)                544       \n",
      "                                                                 \n",
      " dense_18 (Dense)            (None, 64)                2112      \n",
      "                                                                 \n",
      " dense_19 (Dense)            (None, 128)               8320      \n",
      "                                                                 \n",
      " dense_20 (Dense)            (None, 32)                4128      \n",
      "                                                                 \n",
      "=================================================================\n",
      "Total params: 30,192\n",
      "Trainable params: 30,192\n",
      "Non-trainable params: 0\n",
      "_________________________________________________________________\n"
     ]
    }
   ],
   "source": [
    "autoencoder_2.summary()"
   ]
  },
  {
   "cell_type": "code",
   "execution_count": 67,
   "id": "c4e67d55-9610-437c-b8ef-a2bbf58d3091",
   "metadata": {},
   "outputs": [],
   "source": [
    "callback = tf.keras.callbacks.EarlyStopping(monitor='val_loss', patience=8,restore_best_weights=True)"
   ]
  },
  {
   "cell_type": "code",
   "execution_count": 70,
   "id": "fe7aeaa6-e26b-4844-84ab-d26473ebe51d",
   "metadata": {},
   "outputs": [],
   "source": [
    "train_intX = intermediate_output_1[:len(df1)]\n",
    "test_intX = intermediate_output_1[len(df1):]\n",
    "train_intY = labels[:len(df1)]\n",
    "test_intY = labels[len(df1):]"
   ]
  },
  {
   "cell_type": "code",
   "execution_count": 71,
   "id": "b6519236-ab54-4bdb-be55-5cbb3a5a1fc6",
   "metadata": {
    "tags": []
   },
   "outputs": [
    {
     "name": "stdout",
     "output_type": "stream",
     "text": [
      "Epoch 1/100\n",
      "3937/3937 [==============================] - 13s 3ms/step - loss: 0.0702 - accuracy: 0.5896 - val_loss: 0.0722 - val_accuracy: 0.5715\n",
      "Epoch 2/100\n",
      "3937/3937 [==============================] - 12s 3ms/step - loss: 0.0461 - accuracy: 0.6538 - val_loss: 0.0660 - val_accuracy: 0.5940\n",
      "Epoch 3/100\n",
      "3937/3937 [==============================] - 12s 3ms/step - loss: 0.0455 - accuracy: 0.6589 - val_loss: 0.0666 - val_accuracy: 0.5850\n",
      "Epoch 4/100\n",
      "3937/3937 [==============================] - 12s 3ms/step - loss: 0.0450 - accuracy: 0.6637 - val_loss: 0.0647 - val_accuracy: 0.5994\n",
      "Epoch 5/100\n",
      "3937/3937 [==============================] - 12s 3ms/step - loss: 0.0448 - accuracy: 0.6652 - val_loss: 0.0636 - val_accuracy: 0.6105\n",
      "Epoch 6/100\n",
      "3937/3937 [==============================] - 12s 3ms/step - loss: 0.0447 - accuracy: 0.6669 - val_loss: 0.0647 - val_accuracy: 0.5995\n",
      "Epoch 7/100\n",
      "3937/3937 [==============================] - 12s 3ms/step - loss: 0.0447 - accuracy: 0.6680 - val_loss: 0.0642 - val_accuracy: 0.6081\n",
      "Epoch 8/100\n",
      "3937/3937 [==============================] - 12s 3ms/step - loss: 0.0446 - accuracy: 0.6688 - val_loss: 0.0634 - val_accuracy: 0.6034\n",
      "Epoch 9/100\n",
      "3937/3937 [==============================] - 13s 3ms/step - loss: 0.0446 - accuracy: 0.6696 - val_loss: 0.0643 - val_accuracy: 0.5946\n",
      "Epoch 10/100\n",
      "3937/3937 [==============================] - 12s 3ms/step - loss: 0.0446 - accuracy: 0.6704 - val_loss: 0.0637 - val_accuracy: 0.5955\n",
      "Epoch 11/100\n",
      "3937/3937 [==============================] - 12s 3ms/step - loss: 0.0446 - accuracy: 0.6681 - val_loss: 0.0632 - val_accuracy: 0.6060\n",
      "Epoch 12/100\n",
      "3937/3937 [==============================] - 12s 3ms/step - loss: 0.0445 - accuracy: 0.6701 - val_loss: 0.0632 - val_accuracy: 0.6113\n",
      "Epoch 13/100\n",
      "3937/3937 [==============================] - 12s 3ms/step - loss: 0.0445 - accuracy: 0.6705 - val_loss: 0.0632 - val_accuracy: 0.6098\n",
      "Epoch 14/100\n",
      "3937/3937 [==============================] - 12s 3ms/step - loss: 0.0445 - accuracy: 0.6714 - val_loss: 0.0633 - val_accuracy: 0.6100\n",
      "Epoch 15/100\n",
      "3937/3937 [==============================] - 12s 3ms/step - loss: 0.0444 - accuracy: 0.6719 - val_loss: 0.0631 - val_accuracy: 0.6115\n",
      "Epoch 16/100\n",
      "3937/3937 [==============================] - 12s 3ms/step - loss: 0.0444 - accuracy: 0.6726 - val_loss: 0.0633 - val_accuracy: 0.6142\n",
      "Epoch 17/100\n",
      "3937/3937 [==============================] - 12s 3ms/step - loss: 0.0444 - accuracy: 0.6722 - val_loss: 0.0626 - val_accuracy: 0.6140\n",
      "Epoch 18/100\n",
      "3937/3937 [==============================] - 12s 3ms/step - loss: 0.0235 - accuracy: 0.8090 - val_loss: 0.0047 - val_accuracy: 0.9577\n",
      "Epoch 19/100\n",
      "3937/3937 [==============================] - 12s 3ms/step - loss: 9.1338e-04 - accuracy: 0.9637 - val_loss: 0.0045 - val_accuracy: 0.9517\n",
      "Epoch 20/100\n",
      "3937/3937 [==============================] - 12s 3ms/step - loss: 8.4981e-04 - accuracy: 0.9653 - val_loss: 0.0040 - val_accuracy: 0.9678\n",
      "Epoch 21/100\n",
      "3937/3937 [==============================] - 12s 3ms/step - loss: 8.0638e-04 - accuracy: 0.9664 - val_loss: 0.0037 - val_accuracy: 0.9703\n",
      "Epoch 22/100\n",
      "3937/3937 [==============================] - 12s 3ms/step - loss: 7.9647e-04 - accuracy: 0.9651 - val_loss: 0.0040 - val_accuracy: 0.9476\n",
      "Epoch 23/100\n",
      "3937/3937 [==============================] - 12s 3ms/step - loss: 7.8797e-04 - accuracy: 0.9675 - val_loss: 0.0031 - val_accuracy: 0.9720\n",
      "Epoch 24/100\n",
      "3937/3937 [==============================] - 12s 3ms/step - loss: 7.5866e-04 - accuracy: 0.9682 - val_loss: 0.0040 - val_accuracy: 0.9610\n",
      "Epoch 25/100\n",
      "3937/3937 [==============================] - 12s 3ms/step - loss: 7.8399e-04 - accuracy: 0.9677 - val_loss: 0.0033 - val_accuracy: 0.9660\n",
      "Epoch 26/100\n",
      "3937/3937 [==============================] - 12s 3ms/step - loss: 7.2307e-04 - accuracy: 0.9690 - val_loss: 0.0043 - val_accuracy: 0.9542\n",
      "Epoch 27/100\n",
      "3937/3937 [==============================] - 12s 3ms/step - loss: 7.8243e-04 - accuracy: 0.9675 - val_loss: 0.0039 - val_accuracy: 0.9632\n",
      "Epoch 28/100\n",
      "3937/3937 [==============================] - 14s 4ms/step - loss: 6.7296e-04 - accuracy: 0.9695 - val_loss: 0.0035 - val_accuracy: 0.9573\n",
      "Epoch 29/100\n",
      "3937/3937 [==============================] - 14s 4ms/step - loss: 6.9121e-04 - accuracy: 0.9691 - val_loss: 0.0030 - val_accuracy: 0.9502\n",
      "Epoch 30/100\n",
      "3937/3937 [==============================] - 14s 4ms/step - loss: 6.7199e-04 - accuracy: 0.9705 - val_loss: 0.0030 - val_accuracy: 0.9239\n",
      "Epoch 31/100\n",
      "3937/3937 [==============================] - 13s 3ms/step - loss: 6.8228e-04 - accuracy: 0.9696 - val_loss: 0.0029 - val_accuracy: 0.9557\n",
      "Epoch 32/100\n",
      "3937/3937 [==============================] - 14s 3ms/step - loss: 6.7061e-04 - accuracy: 0.9700 - val_loss: 0.0032 - val_accuracy: 0.9609\n",
      "Epoch 33/100\n",
      "3937/3937 [==============================] - 13s 3ms/step - loss: 6.6242e-04 - accuracy: 0.9701 - val_loss: 0.0033 - val_accuracy: 0.9735\n",
      "Epoch 34/100\n",
      "3937/3937 [==============================] - 14s 4ms/step - loss: 6.0940e-04 - accuracy: 0.9716 - val_loss: 0.0030 - val_accuracy: 0.9684\n",
      "Epoch 35/100\n",
      "3937/3937 [==============================] - 14s 4ms/step - loss: 6.4555e-04 - accuracy: 0.9708 - val_loss: 0.0030 - val_accuracy: 0.9605\n",
      "Epoch 36/100\n",
      "3937/3937 [==============================] - 14s 4ms/step - loss: 6.1892e-04 - accuracy: 0.9723 - val_loss: 0.0031 - val_accuracy: 0.9692\n",
      "Epoch 37/100\n",
      "3937/3937 [==============================] - 14s 3ms/step - loss: 6.8599e-04 - accuracy: 0.9710 - val_loss: 0.0028 - val_accuracy: 0.9650\n",
      "Epoch 38/100\n",
      "3937/3937 [==============================] - 14s 4ms/step - loss: 6.0141e-04 - accuracy: 0.9728 - val_loss: 0.0030 - val_accuracy: 0.9641\n",
      "Epoch 39/100\n",
      "3937/3937 [==============================] - 13s 3ms/step - loss: 6.2905e-04 - accuracy: 0.9727 - val_loss: 0.0028 - val_accuracy: 0.9757\n",
      "Epoch 40/100\n",
      "3937/3937 [==============================] - 12s 3ms/step - loss: 5.8396e-04 - accuracy: 0.9717 - val_loss: 0.0036 - val_accuracy: 0.9630\n",
      "Epoch 41/100\n",
      "3937/3937 [==============================] - 13s 3ms/step - loss: 6.0935e-04 - accuracy: 0.9720 - val_loss: 0.0027 - val_accuracy: 0.9544\n",
      "Epoch 42/100\n",
      "3937/3937 [==============================] - 14s 4ms/step - loss: 6.0756e-04 - accuracy: 0.9725 - val_loss: 0.0029 - val_accuracy: 0.9710\n",
      "Epoch 43/100\n",
      "3937/3937 [==============================] - 14s 4ms/step - loss: 5.9505e-04 - accuracy: 0.9719 - val_loss: 0.0032 - val_accuracy: 0.9586\n",
      "Epoch 44/100\n",
      "3937/3937 [==============================] - 14s 4ms/step - loss: 5.9080e-04 - accuracy: 0.9725 - val_loss: 0.0027 - val_accuracy: 0.9763\n",
      "Epoch 45/100\n",
      "3937/3937 [==============================] - 14s 4ms/step - loss: 5.7257e-04 - accuracy: 0.9734 - val_loss: 0.0030 - val_accuracy: 0.9601\n",
      "Epoch 46/100\n",
      "3937/3937 [==============================] - 14s 3ms/step - loss: 5.9752e-04 - accuracy: 0.9726 - val_loss: 0.0030 - val_accuracy: 0.9675\n",
      "Epoch 47/100\n",
      "3937/3937 [==============================] - 14s 4ms/step - loss: 5.8038e-04 - accuracy: 0.9728 - val_loss: 0.0033 - val_accuracy: 0.9618\n",
      "Epoch 48/100\n",
      "3937/3937 [==============================] - 13s 3ms/step - loss: 5.8377e-04 - accuracy: 0.9740 - val_loss: 0.0038 - val_accuracy: 0.9230\n",
      "Epoch 49/100\n",
      "3937/3937 [==============================] - 14s 4ms/step - loss: 5.5917e-04 - accuracy: 0.9740 - val_loss: 0.0033 - val_accuracy: 0.9686\n",
      "Epoch 50/100\n",
      "3937/3937 [==============================] - 13s 3ms/step - loss: 5.7179e-04 - accuracy: 0.9734 - val_loss: 0.0038 - val_accuracy: 0.9448\n",
      "Epoch 51/100\n",
      "3937/3937 [==============================] - 14s 4ms/step - loss: 5.6531e-04 - accuracy: 0.9724 - val_loss: 0.0042 - val_accuracy: 0.9547\n",
      "Epoch 52/100\n",
      "3937/3937 [==============================] - 14s 4ms/step - loss: 5.6368e-04 - accuracy: 0.9732 - val_loss: 0.0032 - val_accuracy: 0.9648\n"
     ]
    }
   ],
   "source": [
    "stack_2 = autoencoder_2.fit(train_intX, train_intX, epochs=100, batch_size=32,callbacks = [callback],validation_data = (test_intX, test_intX))"
   ]
  },
  {
   "cell_type": "code",
   "execution_count": 72,
   "id": "4f2309d5-91d1-4c0a-b6ee-971076df0011",
   "metadata": {},
   "outputs": [
    {
     "name": "stdout",
     "output_type": "stream",
     "text": [
      "4642/4642 [==============================] - 4s 933us/step\n"
     ]
    }
   ],
   "source": [
    "pred = autoencoder_2.predict(intermediate_output_1)"
   ]
  },
  {
   "cell_type": "code",
   "execution_count": 73,
   "id": "67886a6b-8950-4fdf-9258-974ed368a4f0",
   "metadata": {},
   "outputs": [
    {
     "data": {
      "text/plain": [
       "0.0006944355379389965"
      ]
     },
     "execution_count": 73,
     "metadata": {},
     "output_type": "execute_result"
    }
   ],
   "source": [
    "np.sum(keras.losses.mean_squared_error(pred,intermediate_output_1))/len(intermediate_output_1)"
   ]
  },
  {
   "cell_type": "code",
   "execution_count": 74,
   "id": "95531a96-7fa0-446f-997d-2b12fc2a52ba",
   "metadata": {},
   "outputs": [],
   "source": [
    "autoencoder_2.save(\"ae2.h5\")"
   ]
  },
  {
   "cell_type": "code",
   "execution_count": 79,
   "id": "82f9cf66-1bbc-4188-9ab3-e4a6fc8eeefc",
   "metadata": {},
   "outputs": [
    {
     "name": "stdout",
     "output_type": "stream",
     "text": [
      "4642/4642 [==============================] - 4s 846us/step\n"
     ]
    }
   ],
   "source": [
    "layer_name = 'latent_2'\n",
    "intermediate_layer_model = Model(inputs=autoencoder_2.input,\n",
    "                                 outputs=autoencoder_2.get_layer(layer_name).output)\n",
    "intermediate_output_2 = intermediate_layer_model.predict(intermediate_output_1)"
   ]
  },
  {
   "cell_type": "code",
   "execution_count": 80,
   "id": "0e46dee8-2bd2-42d1-8e9c-38d4db3a1790",
   "metadata": {},
   "outputs": [],
   "source": [
    "np.save(arr = intermediate_output_2,file = \"Latent_2.npy\")"
   ]
  },
  {
   "cell_type": "markdown",
   "id": "705f51ae-5b72-44fe-9347-a5bc95afe895",
   "metadata": {},
   "source": [
    "### Classifier Model"
   ]
  },
  {
   "cell_type": "code",
   "execution_count": 81,
   "id": "e42990d5-e983-41a8-b543-7de9b750ab74",
   "metadata": {},
   "outputs": [],
   "source": [
    "batch_size = 32\n",
    "input_dim = np.shape(intermediate_output)[1]\n",
    "input_layer = Input(shape=(input_dim), name='input')\n",
    "#Input Layer\n",
    "dense1 = Dense (128, activation='relu')(input_layer)\n",
    "dense2 = Dense (64, activation='relu')(dense1)\n",
    "dense3 = Dense (8, activation='relu')(dense2)\n",
    "# Output Layer\n",
    "classifier = Dense(len(set(train_Y)), activation='softmax')(dense3)"
   ]
  },
  {
   "cell_type": "code",
   "execution_count": 82,
   "id": "61b5f89c-da19-4c1d-aeac-6480742079d1",
   "metadata": {},
   "outputs": [],
   "source": [
    "classify = Model(inputs=input_layer, outputs=classifier)\n",
    "classify.compile(metrics=['accuracy'],loss='sparse_categorical_crossentropy',optimizer='adam')"
   ]
  },
  {
   "cell_type": "code",
   "execution_count": 85,
   "id": "5f16222d-bbaf-41ca-a946-3878215bbb03",
   "metadata": {},
   "outputs": [],
   "source": [
    "train_X = intermediate_output_2[:len(df1)]\n",
    "test_X = intermediate_output_2[len(df1):]\n",
    "train_Y = labels[:len(df1)]\n",
    "test_Y = labels[len(df1):]"
   ]
  },
  {
   "cell_type": "code",
   "execution_count": 88,
   "id": "58791707-7c1c-4974-9244-fb445b644ccc",
   "metadata": {
    "tags": []
   },
   "outputs": [
    {
     "name": "stdout",
     "output_type": "stream",
     "text": [
      "Epoch 1/100\n",
      "3937/3937 [==============================] - 10s 3ms/step - loss: 0.0560 - accuracy: 0.9815 - val_loss: 1.8824 - val_accuracy: 0.7340\n",
      "Epoch 2/100\n",
      "3937/3937 [==============================] - 10s 2ms/step - loss: 0.0526 - accuracy: 0.9818 - val_loss: 1.8680 - val_accuracy: 0.7451\n",
      "Epoch 3/100\n",
      "3937/3937 [==============================] - 10s 2ms/step - loss: 0.0505 - accuracy: 0.9828 - val_loss: 1.9006 - val_accuracy: 0.7471\n",
      "Epoch 4/100\n",
      "3937/3937 [==============================] - 9s 2ms/step - loss: 0.0479 - accuracy: 0.9832 - val_loss: 2.1251 - val_accuracy: 0.7388\n",
      "Epoch 5/100\n",
      "3937/3937 [==============================] - 9s 2ms/step - loss: 0.0459 - accuracy: 0.9839 - val_loss: 1.9729 - val_accuracy: 0.7429\n",
      "Epoch 6/100\n",
      "3937/3937 [==============================] - 9s 2ms/step - loss: 0.0449 - accuracy: 0.9839 - val_loss: 1.8748 - val_accuracy: 0.7653\n",
      "Epoch 7/100\n",
      "3937/3937 [==============================] - 9s 2ms/step - loss: 0.0429 - accuracy: 0.9846 - val_loss: 1.8374 - val_accuracy: 0.7624\n",
      "Epoch 8/100\n",
      "3937/3937 [==============================] - 9s 2ms/step - loss: 0.0419 - accuracy: 0.9851 - val_loss: 2.1253 - val_accuracy: 0.7516\n",
      "Epoch 9/100\n",
      "3937/3937 [==============================] - 9s 2ms/step - loss: 0.0405 - accuracy: 0.9854 - val_loss: 1.9946 - val_accuracy: 0.7514\n",
      "Epoch 10/100\n",
      "3937/3937 [==============================] - 9s 2ms/step - loss: 0.0397 - accuracy: 0.9857 - val_loss: 2.2408 - val_accuracy: 0.7570\n",
      "Epoch 11/100\n",
      "3937/3937 [==============================] - 9s 2ms/step - loss: 0.0389 - accuracy: 0.9858 - val_loss: 2.2787 - val_accuracy: 0.7531\n",
      "Epoch 12/100\n",
      "3937/3937 [==============================] - 10s 2ms/step - loss: 0.0378 - accuracy: 0.9865 - val_loss: 2.2467 - val_accuracy: 0.7559\n",
      "Epoch 13/100\n",
      "3937/3937 [==============================] - 9s 2ms/step - loss: 0.0375 - accuracy: 0.9863 - val_loss: 2.1979 - val_accuracy: 0.7566\n",
      "Epoch 14/100\n",
      "3937/3937 [==============================] - 10s 2ms/step - loss: 0.0368 - accuracy: 0.9864 - val_loss: 2.4586 - val_accuracy: 0.7516\n",
      "Epoch 15/100\n",
      "3937/3937 [==============================] - 9s 2ms/step - loss: 0.0359 - accuracy: 0.9869 - val_loss: 2.4196 - val_accuracy: 0.7500\n"
     ]
    }
   ],
   "source": [
    "history = classify.fit(train_X, train_Y, epochs=100, batch_size=32,callbacks = [callback],validation_data = (test_X, test_Y))"
   ]
  },
  {
   "cell_type": "code",
   "execution_count": 90,
   "id": "3835f939-1e47-4ed9-9e94-41a990119a5a",
   "metadata": {},
   "outputs": [
    {
     "name": "stdout",
     "output_type": "stream",
     "text": [
      "4642/4642 [==============================] - 4s 772us/step\n"
     ]
    }
   ],
   "source": [
    "preds = classify.predict(intermediate_output_2)"
   ]
  },
  {
   "cell_type": "code",
   "execution_count": 91,
   "id": "2d90d8aa-687a-437a-ba87-33e74ed2e502",
   "metadata": {},
   "outputs": [
    {
     "data": {
      "text/plain": [
       "((148517, 5), (148517,))"
      ]
     },
     "execution_count": 91,
     "metadata": {},
     "output_type": "execute_result"
    }
   ],
   "source": [
    "np.shape(preds),np.shape(labels)"
   ]
  },
  {
   "cell_type": "code",
   "execution_count": 92,
   "id": "827db2ea-1075-4822-a90e-db2b000a51e3",
   "metadata": {},
   "outputs": [
    {
     "data": {
      "text/plain": [
       "{0.0, 1.0, 2.0, 3.0, 4.0}"
      ]
     },
     "execution_count": 92,
     "metadata": {},
     "output_type": "execute_result"
    }
   ],
   "source": [
    "set(labels)"
   ]
  },
  {
   "cell_type": "code",
   "execution_count": 93,
   "id": "66420e44-e3ac-49a0-b475-7ac3892e68a6",
   "metadata": {},
   "outputs": [],
   "source": [
    "from sklearn.metrics import confusion_matrix\n",
    "conf_mat = confusion_matrix(np.argmax(preds,axis = 1), labels)"
   ]
  },
  {
   "cell_type": "code",
   "execution_count": 94,
   "id": "80596a4f-2000-4f04-bb7b-0815b7ced17d",
   "metadata": {},
   "outputs": [
    {
     "name": "stdout",
     "output_type": "stream",
     "text": [
      "0.9508002450897877\n",
      "0.6346211691769142\n",
      "0.7240264736858423\n",
      "0.6618127535909017\n"
     ]
    },
    {
     "name": "stderr",
     "output_type": "stream",
     "text": [
      "C:\\Users\\ArrunPersonal\\anaconda3\\lib\\site-packages\\sklearn\\metrics\\_classification.py:1248: UndefinedMetricWarning: Recall is ill-defined and being set to 0.0 in labels with no true samples. Use `zero_division` parameter to control this behavior.\n",
      "  _warn_prf(average, modifier, msg_start, len(result))\n"
     ]
    }
   ],
   "source": [
    "print(accuracy_score(np.argmax(preds,axis = 1),labels))\n",
    "print(precision_score(np.argmax(preds,axis = 1),labels,average = 'macro'))\n",
    "print(recall_score(np.argmax(preds,axis = 1),labels,average = 'macro'))\n",
    "print(f1_score(np.argmax(preds,axis = 1),labels,average = 'macro'))"
   ]
  },
  {
   "cell_type": "code",
   "execution_count": 95,
   "id": "5582266a-40c3-49cf-bf08-81fef2e5ec2f",
   "metadata": {},
   "outputs": [],
   "source": [
    "import seaborn as sns"
   ]
  },
  {
   "cell_type": "code",
   "execution_count": 96,
   "id": "f8fd906d-887d-4ad9-ab88-c4350bb4b179",
   "metadata": {},
   "outputs": [
    {
     "data": {
      "text/plain": [
       "<AxesSubplot:>"
      ]
     },
     "execution_count": 96,
     "metadata": {},
     "output_type": "execute_result"
    },
    {
     "data": {
      "image/png": "[encoded data removed]",
      "text/plain": [
       "<Figure size 432x288 with 2 Axes>"
      ]
     },
     "metadata": {
      "needs_background": "light"
     },
     "output_type": "display_data"
    }
   ],
   "source": [
    "sns.heatmap(conf_mat, annot=True)"
   ]
  },
  {
   "cell_type": "markdown",
   "id": "8bf93326-3c79-4868-8be2-a6ad6f8b126f",
   "metadata": {},
   "source": [
    "# Testing on KDD Test"
   ]
  },
  {
   "cell_type": "code",
   "execution_count": 102,
   "id": "c2b492f7-7c3c-49f0-86a8-1e6658fc6900",
   "metadata": {},
   "outputs": [],
   "source": [
    "features = act_features[len(df1):]\n",
    "labels = labels[len(df1):]"
   ]
  },
  {
   "cell_type": "code",
   "execution_count": 103,
   "id": "4f9e069f-4f24-4f43-997a-7dc349f27d52",
   "metadata": {},
   "outputs": [
    {
     "name": "stdout",
     "output_type": "stream",
     "text": [
      "(22544, 20) (22544,)\n"
     ]
    }
   ],
   "source": [
    "print(np.shape(features),np.shape(labels))"
   ]
  },
  {
   "cell_type": "code",
   "execution_count": 104,
   "id": "1bdfdb2d-4bd5-4c50-82c6-9a464782005a",
   "metadata": {},
   "outputs": [
    {
     "name": "stdout",
     "output_type": "stream",
     "text": [
      "705/705 [==============================] - 1s 733us/step\n"
     ]
    }
   ],
   "source": [
    "layer_name = 'latent_1'\n",
    "intermediate_layer_model = Model(inputs=autoencoder_1.input,\n",
    "                                 outputs=autoencoder_1.get_layer(layer_name).output)\n",
    "intermediate_output_1 = intermediate_layer_model.predict(features)"
   ]
  },
  {
   "cell_type": "code",
   "execution_count": 105,
   "id": "8d88ece9-a881-4c81-b376-efe5a03ae4b8",
   "metadata": {},
   "outputs": [
    {
     "data": {
      "text/plain": [
       "(22544, 32)"
      ]
     },
     "execution_count": 105,
     "metadata": {},
     "output_type": "execute_result"
    }
   ],
   "source": [
    "np.shape(intermediate_output_1)"
   ]
  },
  {
   "cell_type": "code",
   "execution_count": 106,
   "id": "83be1f62-bb01-4878-bdde-be3af1fb9d50",
   "metadata": {},
   "outputs": [
    {
     "name": "stdout",
     "output_type": "stream",
     "text": [
      "705/705 [==============================] - 1s 710us/step\n"
     ]
    }
   ],
   "source": [
    "layer_name = 'latent_2'\n",
    "intermediate_layer_model = Model(inputs=autoencoder_2.input,\n",
    "                                 outputs=autoencoder_2.get_layer(layer_name).output)\n",
    "intermediate_output_2 = intermediate_layer_model.predict(intermediate_output_1)"
   ]
  },
  {
   "cell_type": "code",
   "execution_count": 107,
   "id": "576c3c81-3dc5-45be-8a56-6acbe0c0c7e5",
   "metadata": {},
   "outputs": [
    {
     "data": {
      "text/plain": [
       "(22544, 16)"
      ]
     },
     "execution_count": 107,
     "metadata": {},
     "output_type": "execute_result"
    }
   ],
   "source": [
    "np.shape(intermediate_output_2)"
   ]
  },
  {
   "cell_type": "code",
   "execution_count": 108,
   "id": "e57a1baf-8941-4675-8aff-6ba685c7f031",
   "metadata": {},
   "outputs": [
    {
     "name": "stdout",
     "output_type": "stream",
     "text": [
      "705/705 [==============================] - 1s 870us/step\n"
     ]
    }
   ],
   "source": [
    "final_prediction = classify.predict(intermediate_output_2)"
   ]
  },
  {
   "cell_type": "code",
   "execution_count": 109,
   "id": "f3dd30b1-882b-44bb-a6ae-1c80156dd70c",
   "metadata": {},
   "outputs": [
    {
     "data": {
      "text/plain": [
       "((22544, 5), (22544,))"
      ]
     },
     "execution_count": 109,
     "metadata": {},
     "output_type": "execute_result"
    }
   ],
   "source": [
    "np.shape(final_prediction),np.shape(labels)"
   ]
  },
  {
   "cell_type": "code",
   "execution_count": 110,
   "id": "e7841f76-54d1-4b0a-8687-6b61a5ee2879",
   "metadata": {},
   "outputs": [],
   "source": [
    "from sklearn.metrics import confusion_matrix\n",
    "conf_mat = confusion_matrix(np.argmax(final_prediction,axis = 1), labels)"
   ]
  },
  {
   "cell_type": "code",
   "execution_count": 111,
   "id": "abe67e02-fc48-4bc2-b4bd-b09638e70d30",
   "metadata": {},
   "outputs": [
    {
     "data": {
      "text/plain": [
       "<AxesSubplot:>"
      ]
     },
     "execution_count": 111,
     "metadata": {},
     "output_type": "execute_result"
    },
    {
     "data": {
      "image/png": "[encoded data removed]",
      "text/plain": [
       "<Figure size 432x288 with 2 Axes>"
      ]
     },
     "metadata": {
      "needs_background": "light"
     },
     "output_type": "display_data"
    }
   ],
   "source": [
    "sns.heatmap(conf_mat, annot=True)"
   ]
  },
  {
   "cell_type": "code",
   "execution_count": 112,
   "id": "77938fb2-dfdf-4412-b264-d7b777f83cc7",
   "metadata": {},
   "outputs": [
    {
     "name": "stdout",
     "output_type": "stream",
     "text": [
      "0.7624201561391057\n",
      "0.5064583027958555\n",
      "0.6699943744488832\n",
      "0.521965893247516\n"
     ]
    },
    {
     "name": "stderr",
     "output_type": "stream",
     "text": [
      "C:\\Users\\ArrunPersonal\\anaconda3\\lib\\site-packages\\sklearn\\metrics\\_classification.py:1248: UndefinedMetricWarning: Recall is ill-defined and being set to 0.0 in labels with no true samples. Use `zero_division` parameter to control this behavior.\n",
      "  _warn_prf(average, modifier, msg_start, len(result))\n"
     ]
    }
   ],
   "source": [
    "print(accuracy_score(np.argmax(final_prediction,axis = 1),labels))\n",
    "print(precision_score(np.argmax(final_prediction,axis = 1),labels,average = 'macro'))\n",
    "print(recall_score(np.argmax(final_prediction,axis = 1),labels,average = 'macro'))\n",
    "print(f1_score(np.argmax(final_prediction,axis = 1),labels,average = 'macro'))"
   ]
  }
 ],
 "metadata": {
  "kernelspec": {
   "display_name": "Python 3 (ipykernel)",
   "language": "python",
   "name": "python3"
  },
  "language_info": {
   "codemirror_mode": {
    "name": "ipython",
    "version": 3
   },
   "file_extension": ".py",
   "mimetype": "text/x-python",
   "name": "python",
   "nbconvert_exporter": "python",
   "pygments_lexer": "ipython3",
   "version": "3.9.7"
  }
 },
 "nbformat": 4,
 "nbformat_minor": 5
}
