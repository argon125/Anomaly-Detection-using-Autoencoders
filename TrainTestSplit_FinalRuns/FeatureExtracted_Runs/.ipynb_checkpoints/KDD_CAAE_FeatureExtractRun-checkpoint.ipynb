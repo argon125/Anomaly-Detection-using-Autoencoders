{
 "cells": [
  {
   "cell_type": "code",
   "execution_count": 1,
   "id": "1bf0b868-c909-466a-8382-431edfb1ca3c",
   "metadata": {},
   "outputs": [],
   "source": [
    "import numpy as np\n",
    "import pandas as pd\n",
    "import matplotlib.pyplot as plt\n",
    "import os\n",
    "import tensorflow as tf"
   ]
  },
  {
   "cell_type": "code",
   "execution_count": 2,
   "id": "c01bb8b3-930c-4bd9-9a3f-5d07ce77b4ac",
   "metadata": {},
   "outputs": [],
   "source": [
    "feature = [\"duration\",\"protocol_type\",\"service\",\"flag\",\"src_bytes\",\n",
    "    \"dst_bytes\",\"land\",\"wrong_fragment\",\"urgent\",\"hot\",\"num_failed_logins\",\n",
    "    \"logged_in\",\"num_compromised\",\"root_shell\",\"su_attempted\",\"num_root\",\n",
    "    \"num_file_creations\",\"num_shells\",\"num_access_files\",\"num_outbound_cmds\",\n",
    "    \"is_host_login\",\"is_guest_login\",\"count\",\"srv_count\",\"serror_rate\",\n",
    "    \"srv_serror_rate\",\"rerror_rate\",\"srv_rerror_rate\",\"same_srv_rate\",\n",
    "    \"diff_srv_rate\",\"srv_diff_host_rate\",\"dst_host_count\",\"dst_host_srv_count\",\n",
    "    \"dst_host_same_srv_rate\",\"dst_host_diff_srv_rate\",\"dst_host_same_src_port_rate\",\n",
    "    \"dst_host_srv_diff_host_rate\",\"dst_host_serror_rate\",\"dst_host_srv_serror_rate\",\n",
    "    \"dst_host_rerror_rate\",\"dst_host_srv_rerror_rate\",\"target\",\"junk\"]"
   ]
  },
  {
   "cell_type": "code",
   "execution_count": 3,
   "id": "40536131-3ade-4777-9ac3-c1f2e6025ac7",
   "metadata": {},
   "outputs": [],
   "source": [
    "os.chdir(\"C:/Users/ArrunPersonal/Codes/Semester7/IDS/NSL-KDD\")"
   ]
  },
  {
   "cell_type": "code",
   "execution_count": 4,
   "id": "84364c10-8b89-45fa-8a3a-881de73b44aa",
   "metadata": {},
   "outputs": [],
   "source": [
    "df = pd.read_csv(\"KDDTrain+.csv\", names = feature)\n",
    "df.drop([\"junk\"],axis = 1,inplace = True)"
   ]
  },
  {
   "cell_type": "code",
   "execution_count": 5,
   "id": "3fbe8575-19ab-460a-ad78-e5cff17205a5",
   "metadata": {},
   "outputs": [
    {
     "data": {
      "text/plain": [
       "False"
      ]
     },
     "execution_count": 5,
     "metadata": {},
     "output_type": "execute_result"
    }
   ],
   "source": [
    "df.isnull().values.any()"
   ]
  },
  {
   "cell_type": "code",
   "execution_count": 6,
   "id": "5156c38d-0cd4-4fe0-b633-eaa3f29769a5",
   "metadata": {},
   "outputs": [
    {
     "data": {
      "text/html": [
       "<div>\n",
       "<style scoped>\n",
       "    .dataframe tbody tr th:only-of-type {\n",
       "        vertical-align: middle;\n",
       "    }\n",
       "\n",
       "    .dataframe tbody tr th {\n",
       "        vertical-align: top;\n",
       "    }\n",
       "\n",
       "    .dataframe thead th {\n",
       "        text-align: right;\n",
       "    }\n",
       "</style>\n",
       "<table border=\"1\" class=\"dataframe\">\n",
       "  <thead>\n",
       "    <tr style=\"text-align: right;\">\n",
       "      <th></th>\n",
       "      <th>duration</th>\n",
       "      <th>protocol_type</th>\n",
       "      <th>service</th>\n",
       "      <th>flag</th>\n",
       "      <th>src_bytes</th>\n",
       "      <th>dst_bytes</th>\n",
       "      <th>land</th>\n",
       "      <th>wrong_fragment</th>\n",
       "      <th>urgent</th>\n",
       "      <th>hot</th>\n",
       "      <th>...</th>\n",
       "      <th>dst_host_srv_count</th>\n",
       "      <th>dst_host_same_srv_rate</th>\n",
       "      <th>dst_host_diff_srv_rate</th>\n",
       "      <th>dst_host_same_src_port_rate</th>\n",
       "      <th>dst_host_srv_diff_host_rate</th>\n",
       "      <th>dst_host_serror_rate</th>\n",
       "      <th>dst_host_srv_serror_rate</th>\n",
       "      <th>dst_host_rerror_rate</th>\n",
       "      <th>dst_host_srv_rerror_rate</th>\n",
       "      <th>target</th>\n",
       "    </tr>\n",
       "  </thead>\n",
       "  <tbody>\n",
       "    <tr>\n",
       "      <th>0</th>\n",
       "      <td>0</td>\n",
       "      <td>tcp</td>\n",
       "      <td>ftp_data</td>\n",
       "      <td>SF</td>\n",
       "      <td>491</td>\n",
       "      <td>0</td>\n",
       "      <td>0</td>\n",
       "      <td>0</td>\n",
       "      <td>0</td>\n",
       "      <td>0</td>\n",
       "      <td>...</td>\n",
       "      <td>25</td>\n",
       "      <td>0.17</td>\n",
       "      <td>0.03</td>\n",
       "      <td>0.17</td>\n",
       "      <td>0.00</td>\n",
       "      <td>0.00</td>\n",
       "      <td>0.00</td>\n",
       "      <td>0.05</td>\n",
       "      <td>0.00</td>\n",
       "      <td>normal</td>\n",
       "    </tr>\n",
       "    <tr>\n",
       "      <th>1</th>\n",
       "      <td>0</td>\n",
       "      <td>udp</td>\n",
       "      <td>other</td>\n",
       "      <td>SF</td>\n",
       "      <td>146</td>\n",
       "      <td>0</td>\n",
       "      <td>0</td>\n",
       "      <td>0</td>\n",
       "      <td>0</td>\n",
       "      <td>0</td>\n",
       "      <td>...</td>\n",
       "      <td>1</td>\n",
       "      <td>0.00</td>\n",
       "      <td>0.60</td>\n",
       "      <td>0.88</td>\n",
       "      <td>0.00</td>\n",
       "      <td>0.00</td>\n",
       "      <td>0.00</td>\n",
       "      <td>0.00</td>\n",
       "      <td>0.00</td>\n",
       "      <td>normal</td>\n",
       "    </tr>\n",
       "    <tr>\n",
       "      <th>2</th>\n",
       "      <td>0</td>\n",
       "      <td>tcp</td>\n",
       "      <td>private</td>\n",
       "      <td>S0</td>\n",
       "      <td>0</td>\n",
       "      <td>0</td>\n",
       "      <td>0</td>\n",
       "      <td>0</td>\n",
       "      <td>0</td>\n",
       "      <td>0</td>\n",
       "      <td>...</td>\n",
       "      <td>26</td>\n",
       "      <td>0.10</td>\n",
       "      <td>0.05</td>\n",
       "      <td>0.00</td>\n",
       "      <td>0.00</td>\n",
       "      <td>1.00</td>\n",
       "      <td>1.00</td>\n",
       "      <td>0.00</td>\n",
       "      <td>0.00</td>\n",
       "      <td>neptune</td>\n",
       "    </tr>\n",
       "    <tr>\n",
       "      <th>3</th>\n",
       "      <td>0</td>\n",
       "      <td>tcp</td>\n",
       "      <td>http</td>\n",
       "      <td>SF</td>\n",
       "      <td>232</td>\n",
       "      <td>8153</td>\n",
       "      <td>0</td>\n",
       "      <td>0</td>\n",
       "      <td>0</td>\n",
       "      <td>0</td>\n",
       "      <td>...</td>\n",
       "      <td>255</td>\n",
       "      <td>1.00</td>\n",
       "      <td>0.00</td>\n",
       "      <td>0.03</td>\n",
       "      <td>0.04</td>\n",
       "      <td>0.03</td>\n",
       "      <td>0.01</td>\n",
       "      <td>0.00</td>\n",
       "      <td>0.01</td>\n",
       "      <td>normal</td>\n",
       "    </tr>\n",
       "    <tr>\n",
       "      <th>4</th>\n",
       "      <td>0</td>\n",
       "      <td>tcp</td>\n",
       "      <td>http</td>\n",
       "      <td>SF</td>\n",
       "      <td>199</td>\n",
       "      <td>420</td>\n",
       "      <td>0</td>\n",
       "      <td>0</td>\n",
       "      <td>0</td>\n",
       "      <td>0</td>\n",
       "      <td>...</td>\n",
       "      <td>255</td>\n",
       "      <td>1.00</td>\n",
       "      <td>0.00</td>\n",
       "      <td>0.00</td>\n",
       "      <td>0.00</td>\n",
       "      <td>0.00</td>\n",
       "      <td>0.00</td>\n",
       "      <td>0.00</td>\n",
       "      <td>0.00</td>\n",
       "      <td>normal</td>\n",
       "    </tr>\n",
       "  </tbody>\n",
       "</table>\n",
       "<p>5 rows × 42 columns</p>\n",
       "</div>"
      ],
      "text/plain": [
       "   duration protocol_type   service flag  src_bytes  dst_bytes  land  \\\n",
       "0         0           tcp  ftp_data   SF        491          0     0   \n",
       "1         0           udp     other   SF        146          0     0   \n",
       "2         0           tcp   private   S0          0          0     0   \n",
       "3         0           tcp      http   SF        232       8153     0   \n",
       "4         0           tcp      http   SF        199        420     0   \n",
       "\n",
       "   wrong_fragment  urgent  hot  ...  dst_host_srv_count  \\\n",
       "0               0       0    0  ...                  25   \n",
       "1               0       0    0  ...                   1   \n",
       "2               0       0    0  ...                  26   \n",
       "3               0       0    0  ...                 255   \n",
       "4               0       0    0  ...                 255   \n",
       "\n",
       "   dst_host_same_srv_rate  dst_host_diff_srv_rate  \\\n",
       "0                    0.17                    0.03   \n",
       "1                    0.00                    0.60   \n",
       "2                    0.10                    0.05   \n",
       "3                    1.00                    0.00   \n",
       "4                    1.00                    0.00   \n",
       "\n",
       "   dst_host_same_src_port_rate  dst_host_srv_diff_host_rate  \\\n",
       "0                         0.17                         0.00   \n",
       "1                         0.88                         0.00   \n",
       "2                         0.00                         0.00   \n",
       "3                         0.03                         0.04   \n",
       "4                         0.00                         0.00   \n",
       "\n",
       "   dst_host_serror_rate  dst_host_srv_serror_rate  dst_host_rerror_rate  \\\n",
       "0                  0.00                      0.00                  0.05   \n",
       "1                  0.00                      0.00                  0.00   \n",
       "2                  1.00                      1.00                  0.00   \n",
       "3                  0.03                      0.01                  0.00   \n",
       "4                  0.00                      0.00                  0.00   \n",
       "\n",
       "   dst_host_srv_rerror_rate   target  \n",
       "0                      0.00   normal  \n",
       "1                      0.00   normal  \n",
       "2                      0.00  neptune  \n",
       "3                      0.01   normal  \n",
       "4                      0.00   normal  \n",
       "\n",
       "[5 rows x 42 columns]"
      ]
     },
     "execution_count": 6,
     "metadata": {},
     "output_type": "execute_result"
    }
   ],
   "source": [
    "df.head()"
   ]
  },
  {
   "cell_type": "code",
   "execution_count": 7,
   "id": "55dab8da-b0ab-40d7-a7b8-72fb965459cc",
   "metadata": {},
   "outputs": [],
   "source": [
    "protocol_dict = dict(zip(set(df['protocol_type']),np.arange(len(set(df['protocol_type'])))))\n",
    "service_dict = dict(zip(set(df['service']),np.arange(len(set(df['service'])))))\n",
    "flag_dict = dict(zip(set(df['flag']),np.arange(len(set(df['flag'])))))"
   ]
  },
  {
   "cell_type": "code",
   "execution_count": 8,
   "id": "0bdb4b00-8c4d-41eb-aefc-88c49de6ac8c",
   "metadata": {},
   "outputs": [],
   "source": [
    "# changing attack labels to their respective attack class\n",
    "def change_feature(df):\n",
    "    df.target.replace(['apache2','back','land','neptune','mailbomb','pod','processtable','smurf','teardrop','udpstorm','worm'],'Dos',inplace=True)\n",
    "    df.target.replace(['ftp_write','guess_passwd','httptunnel','imap','multihop','named','phf','sendmail','snmpgetattack','snmpguess','spy','warezclient','warezmaster','xlock','xsnoop'],'R2L',inplace=True)      \n",
    "    df.target.replace(['ipsweep','mscan','nmap','portsweep','saint','satan'],'Probe',inplace=True)\n",
    "    df.target.replace(['buffer_overflow','loadmodule','perl','ps','rootkit','sqlattack','xterm'],'U2R',inplace=True)\n",
    "    \n",
    "    df.protocol_type.replace(protocol_dict.keys(),protocol_dict.values(),inplace=True)\n",
    "    df.service.replace(service_dict.keys(),service_dict.values(),inplace=True)\n",
    "    df.flag.replace(flag_dict.keys(),flag_dict.values(),inplace=True)"
   ]
  },
  {
   "cell_type": "code",
   "execution_count": 9,
   "id": "d7967ffd-6d6d-4ab3-b30e-f42ed7f96d5f",
   "metadata": {},
   "outputs": [],
   "source": [
    "change_feature(df)"
   ]
  },
  {
   "cell_type": "code",
   "execution_count": 10,
   "id": "8b26c684-a757-4180-8e33-82979a2e216a",
   "metadata": {},
   "outputs": [],
   "source": [
    "target_dict = dict(zip(set(df['target']),np.arange(len(set(df['target'])))))"
   ]
  },
  {
   "cell_type": "code",
   "execution_count": 11,
   "id": "410c0811-b1dd-4b02-a3f5-2000c64e7000",
   "metadata": {},
   "outputs": [],
   "source": [
    "def change_target(df):\n",
    "    df.target.replace(target_dict.keys(),target_dict.values(),inplace=True)"
   ]
  },
  {
   "cell_type": "code",
   "execution_count": 12,
   "id": "34dd9a32-72fc-4ff2-a215-ce6bb0fb8086",
   "metadata": {},
   "outputs": [],
   "source": [
    "change_target(df)"
   ]
  },
  {
   "cell_type": "code",
   "execution_count": 13,
   "id": "f15b3693-fd32-4536-9fcd-9cbe1a6c1ec6",
   "metadata": {},
   "outputs": [
    {
     "data": {
      "text/html": [
       "<div>\n",
       "<style scoped>\n",
       "    .dataframe tbody tr th:only-of-type {\n",
       "        vertical-align: middle;\n",
       "    }\n",
       "\n",
       "    .dataframe tbody tr th {\n",
       "        vertical-align: top;\n",
       "    }\n",
       "\n",
       "    .dataframe thead th {\n",
       "        text-align: right;\n",
       "    }\n",
       "</style>\n",
       "<table border=\"1\" class=\"dataframe\">\n",
       "  <thead>\n",
       "    <tr style=\"text-align: right;\">\n",
       "      <th></th>\n",
       "      <th>duration</th>\n",
       "      <th>protocol_type</th>\n",
       "      <th>service</th>\n",
       "      <th>flag</th>\n",
       "      <th>src_bytes</th>\n",
       "      <th>dst_bytes</th>\n",
       "      <th>land</th>\n",
       "      <th>wrong_fragment</th>\n",
       "      <th>urgent</th>\n",
       "      <th>hot</th>\n",
       "      <th>...</th>\n",
       "      <th>dst_host_srv_count</th>\n",
       "      <th>dst_host_same_srv_rate</th>\n",
       "      <th>dst_host_diff_srv_rate</th>\n",
       "      <th>dst_host_same_src_port_rate</th>\n",
       "      <th>dst_host_srv_diff_host_rate</th>\n",
       "      <th>dst_host_serror_rate</th>\n",
       "      <th>dst_host_srv_serror_rate</th>\n",
       "      <th>dst_host_rerror_rate</th>\n",
       "      <th>dst_host_srv_rerror_rate</th>\n",
       "      <th>target</th>\n",
       "    </tr>\n",
       "  </thead>\n",
       "  <tbody>\n",
       "    <tr>\n",
       "      <th>0</th>\n",
       "      <td>0</td>\n",
       "      <td>0</td>\n",
       "      <td>34</td>\n",
       "      <td>9</td>\n",
       "      <td>491</td>\n",
       "      <td>0</td>\n",
       "      <td>0</td>\n",
       "      <td>0</td>\n",
       "      <td>0</td>\n",
       "      <td>0</td>\n",
       "      <td>...</td>\n",
       "      <td>25</td>\n",
       "      <td>0.17</td>\n",
       "      <td>0.03</td>\n",
       "      <td>0.17</td>\n",
       "      <td>0.00</td>\n",
       "      <td>0.00</td>\n",
       "      <td>0.00</td>\n",
       "      <td>0.05</td>\n",
       "      <td>0.00</td>\n",
       "      <td>4</td>\n",
       "    </tr>\n",
       "    <tr>\n",
       "      <th>1</th>\n",
       "      <td>0</td>\n",
       "      <td>2</td>\n",
       "      <td>17</td>\n",
       "      <td>9</td>\n",
       "      <td>146</td>\n",
       "      <td>0</td>\n",
       "      <td>0</td>\n",
       "      <td>0</td>\n",
       "      <td>0</td>\n",
       "      <td>0</td>\n",
       "      <td>...</td>\n",
       "      <td>1</td>\n",
       "      <td>0.00</td>\n",
       "      <td>0.60</td>\n",
       "      <td>0.88</td>\n",
       "      <td>0.00</td>\n",
       "      <td>0.00</td>\n",
       "      <td>0.00</td>\n",
       "      <td>0.00</td>\n",
       "      <td>0.00</td>\n",
       "      <td>4</td>\n",
       "    </tr>\n",
       "    <tr>\n",
       "      <th>2</th>\n",
       "      <td>0</td>\n",
       "      <td>0</td>\n",
       "      <td>65</td>\n",
       "      <td>2</td>\n",
       "      <td>0</td>\n",
       "      <td>0</td>\n",
       "      <td>0</td>\n",
       "      <td>0</td>\n",
       "      <td>0</td>\n",
       "      <td>0</td>\n",
       "      <td>...</td>\n",
       "      <td>26</td>\n",
       "      <td>0.10</td>\n",
       "      <td>0.05</td>\n",
       "      <td>0.00</td>\n",
       "      <td>0.00</td>\n",
       "      <td>1.00</td>\n",
       "      <td>1.00</td>\n",
       "      <td>0.00</td>\n",
       "      <td>0.00</td>\n",
       "      <td>3</td>\n",
       "    </tr>\n",
       "    <tr>\n",
       "      <th>3</th>\n",
       "      <td>0</td>\n",
       "      <td>0</td>\n",
       "      <td>28</td>\n",
       "      <td>9</td>\n",
       "      <td>232</td>\n",
       "      <td>8153</td>\n",
       "      <td>0</td>\n",
       "      <td>0</td>\n",
       "      <td>0</td>\n",
       "      <td>0</td>\n",
       "      <td>...</td>\n",
       "      <td>255</td>\n",
       "      <td>1.00</td>\n",
       "      <td>0.00</td>\n",
       "      <td>0.03</td>\n",
       "      <td>0.04</td>\n",
       "      <td>0.03</td>\n",
       "      <td>0.01</td>\n",
       "      <td>0.00</td>\n",
       "      <td>0.01</td>\n",
       "      <td>4</td>\n",
       "    </tr>\n",
       "    <tr>\n",
       "      <th>4</th>\n",
       "      <td>0</td>\n",
       "      <td>0</td>\n",
       "      <td>28</td>\n",
       "      <td>9</td>\n",
       "      <td>199</td>\n",
       "      <td>420</td>\n",
       "      <td>0</td>\n",
       "      <td>0</td>\n",
       "      <td>0</td>\n",
       "      <td>0</td>\n",
       "      <td>...</td>\n",
       "      <td>255</td>\n",
       "      <td>1.00</td>\n",
       "      <td>0.00</td>\n",
       "      <td>0.00</td>\n",
       "      <td>0.00</td>\n",
       "      <td>0.00</td>\n",
       "      <td>0.00</td>\n",
       "      <td>0.00</td>\n",
       "      <td>0.00</td>\n",
       "      <td>4</td>\n",
       "    </tr>\n",
       "  </tbody>\n",
       "</table>\n",
       "<p>5 rows × 42 columns</p>\n",
       "</div>"
      ],
      "text/plain": [
       "   duration  protocol_type  service  flag  src_bytes  dst_bytes  land  \\\n",
       "0         0              0       34     9        491          0     0   \n",
       "1         0              2       17     9        146          0     0   \n",
       "2         0              0       65     2          0          0     0   \n",
       "3         0              0       28     9        232       8153     0   \n",
       "4         0              0       28     9        199        420     0   \n",
       "\n",
       "   wrong_fragment  urgent  hot  ...  dst_host_srv_count  \\\n",
       "0               0       0    0  ...                  25   \n",
       "1               0       0    0  ...                   1   \n",
       "2               0       0    0  ...                  26   \n",
       "3               0       0    0  ...                 255   \n",
       "4               0       0    0  ...                 255   \n",
       "\n",
       "   dst_host_same_srv_rate  dst_host_diff_srv_rate  \\\n",
       "0                    0.17                    0.03   \n",
       "1                    0.00                    0.60   \n",
       "2                    0.10                    0.05   \n",
       "3                    1.00                    0.00   \n",
       "4                    1.00                    0.00   \n",
       "\n",
       "   dst_host_same_src_port_rate  dst_host_srv_diff_host_rate  \\\n",
       "0                         0.17                         0.00   \n",
       "1                         0.88                         0.00   \n",
       "2                         0.00                         0.00   \n",
       "3                         0.03                         0.04   \n",
       "4                         0.00                         0.00   \n",
       "\n",
       "   dst_host_serror_rate  dst_host_srv_serror_rate  dst_host_rerror_rate  \\\n",
       "0                  0.00                      0.00                  0.05   \n",
       "1                  0.00                      0.00                  0.00   \n",
       "2                  1.00                      1.00                  0.00   \n",
       "3                  0.03                      0.01                  0.00   \n",
       "4                  0.00                      0.00                  0.00   \n",
       "\n",
       "   dst_host_srv_rerror_rate  target  \n",
       "0                      0.00       4  \n",
       "1                      0.00       4  \n",
       "2                      0.00       3  \n",
       "3                      0.01       4  \n",
       "4                      0.00       4  \n",
       "\n",
       "[5 rows x 42 columns]"
      ]
     },
     "execution_count": 13,
     "metadata": {},
     "output_type": "execute_result"
    }
   ],
   "source": [
    "df.head()"
   ]
  },
  {
   "cell_type": "code",
   "execution_count": 14,
   "id": "ab5c5615-fa58-4c6d-8df5-73bcc9d24fa1",
   "metadata": {},
   "outputs": [],
   "source": [
    "df_lis = np.array(df.values.tolist())"
   ]
  },
  {
   "cell_type": "code",
   "execution_count": 15,
   "id": "a707a55d-2191-4b28-853c-a40ebb4f7bb5",
   "metadata": {},
   "outputs": [],
   "source": [
    "from scipy.stats import pearsonr"
   ]
  },
  {
   "cell_type": "code",
   "execution_count": 16,
   "id": "e96b6b0e-e8fb-4d08-a3a9-fe6aaf185ef3",
   "metadata": {},
   "outputs": [],
   "source": [
    "features = np.array(df_lis[:,:-1])\n",
    "labels = np.array(df_lis[:,-1])"
   ]
  },
  {
   "cell_type": "code",
   "execution_count": 17,
   "id": "9a3040b2-73dc-4f35-84be-ea0dd7421534",
   "metadata": {},
   "outputs": [
    {
     "name": "stderr",
     "output_type": "stream",
     "text": [
      "C:\\Users\\ArrunPersonal\\anaconda3\\lib\\site-packages\\scipy\\stats\\stats.py:4023: PearsonRConstantInputWarning: An input array is constant; the correlation coefficient is not defined.\n",
      "  warnings.warn(PearsonRConstantInputWarning())\n"
     ]
    }
   ],
   "source": [
    "scores = [abs(pearsonr(features[:,i],labels)[0]) for i in range(np.shape(features)[1])]"
   ]
  },
  {
   "cell_type": "code",
   "execution_count": 18,
   "id": "7a15f2be-6ab2-4d38-8aaa-4247757c8a9c",
   "metadata": {},
   "outputs": [
    {
     "data": {
      "text/plain": [
       "[0.12944321590629626,\n",
       " 0.041406473511398895,\n",
       " 0.10667770597211552,\n",
       " 0.44034391905435694,\n",
       " 0.012981496154695262,\n",
       " 0.00865063155145927,\n",
       " 0.002943592699970567,\n",
       " 0.05479521772467203,\n",
       " 0.003940881921702896,\n",
       " 0.06508512336972314,\n",
       " 0.023119823071220593,\n",
       " 0.5760311668787576,\n",
       " 0.009002723983129408,\n",
       " 0.007757705161830135,\n",
       " 0.01948286965077917,\n",
       " 0.01002009040140494,\n",
       " 0.014384494084941267,\n",
       " 0.005208137230493894,\n",
       " 0.030233659861354494,\n",
       " 0,\n",
       " 0.002333955114358238,\n",
       " 0.03060031817303325,\n",
       " 0.38835772720342476,\n",
       " 0.038853271473720516,\n",
       " 0.38164609043424425,\n",
       " 0.3786690213875595,\n",
       " 0.30866843207746153,\n",
       " 0.3099085670555762,\n",
       " 0.5108711524184926,\n",
       " 0.2823143342118419,\n",
       " 0.01045637069492599,\n",
       " 0.19610219252748928,\n",
       " 0.6242410452709632,\n",
       " 0.5258291025578283,\n",
       " 0.3913276578225546,\n",
       " 0.3190955197825875,\n",
       " 0.23964598185550015,\n",
       " 0.3821180214303018,\n",
       " 0.3847957995513289,\n",
       " 0.2938048514778186,\n",
       " 0.3102272434742394]"
      ]
     },
     "execution_count": 18,
     "metadata": {},
     "output_type": "execute_result"
    }
   ],
   "source": [
    "scores[19] = 0\n",
    "scores"
   ]
  },
  {
   "cell_type": "code",
   "execution_count": 19,
   "id": "41c1ec72-0258-494c-96c4-ca229b9bbf0c",
   "metadata": {},
   "outputs": [],
   "source": [
    "act_features = []\n",
    "act_indices = []\n",
    "for i in range(len(scores)):\n",
    "    if(scores[i]> 0.1):\n",
    "        act_indices.append(i)\n",
    "        act_features.append(features[:,i])"
   ]
  },
  {
   "cell_type": "code",
   "execution_count": 20,
   "id": "8c323560-d3bb-44a0-9767-2d2dfab4abd9",
   "metadata": {},
   "outputs": [],
   "source": [
    "act_features = np.array(act_features).T"
   ]
  },
  {
   "cell_type": "code",
   "execution_count": 21,
   "id": "0327c182-992c-471d-9ba8-2f3a403f68bc",
   "metadata": {},
   "outputs": [
    {
     "data": {
      "text/plain": [
       "(125973, 21)"
      ]
     },
     "execution_count": 21,
     "metadata": {},
     "output_type": "execute_result"
    }
   ],
   "source": [
    "for i in range(np.shape(act_features)[1]):\n",
    "    if(np.std(act_features[:,i])!=0):\n",
    "        act_features[:,i] = (act_features[:,i]-np.mean(act_features[:,i]))/np.std(act_features[:,i]) \n",
    "    else:\n",
    "        act_features[:,i] = (act_features[:,i]-np.mean(act_features[:,i]))\n",
    "np.shape(act_features)"
   ]
  },
  {
   "cell_type": "code",
   "execution_count": 22,
   "id": "630656a7-3b1e-4940-a8ce-45c6c0b6b89c",
   "metadata": {},
   "outputs": [
    {
     "data": {
      "text/plain": [
       "((125973, 41), (125973,))"
      ]
     },
     "execution_count": 22,
     "metadata": {},
     "output_type": "execute_result"
    }
   ],
   "source": [
    "np.shape(features),np.shape(labels)"
   ]
  },
  {
   "cell_type": "code",
   "execution_count": 23,
   "id": "bfb31786-9b36-4e57-a2a3-c976c1b67aba",
   "metadata": {},
   "outputs": [],
   "source": [
    "from sklearn.model_selection import train_test_split "
   ]
  },
  {
   "cell_type": "code",
   "execution_count": 24,
   "id": "cb8fe055-378f-4de0-9175-d60f11884caa",
   "metadata": {},
   "outputs": [],
   "source": [
    "train_X, test_X , train_Y ,test_Y = train_test_split(act_features,labels,random_state = 42,test_size = 0.1)"
   ]
  },
  {
   "cell_type": "code",
   "execution_count": 25,
   "id": "47ba8e9a-7891-4de2-a9ab-b1efa262291a",
   "metadata": {},
   "outputs": [
    {
     "name": "stdout",
     "output_type": "stream",
     "text": [
      "(113375, 21) (12598, 21) (113375,) (12598,)\n"
     ]
    }
   ],
   "source": [
    "print(np.shape(train_X),np.shape(test_X),np.shape(train_Y),np.shape(test_Y))"
   ]
  },
  {
   "cell_type": "markdown",
   "id": "a7ca5b2f-40a8-4f6f-9d4d-885632699f7e",
   "metadata": {},
   "source": [
    "# Stacked Convolutional Auto Encoder"
   ]
  },
  {
   "cell_type": "markdown",
   "id": "22de135a-8483-476f-bf21-29658e15e464",
   "metadata": {},
   "source": [
    "### First Stack"
   ]
  },
  {
   "cell_type": "code",
   "execution_count": 26,
   "id": "5cbdc2d6-0d68-43c5-b86d-8789714290ac",
   "metadata": {},
   "outputs": [],
   "source": [
    "from keras.layers import *\n",
    "from keras.models import Model\n",
    "from keras_self_attention import SeqSelfAttention"
   ]
  },
  {
   "cell_type": "code",
   "execution_count": 27,
   "id": "d86da138-a431-47fe-90cf-085690cfafce",
   "metadata": {},
   "outputs": [
    {
     "name": "stderr",
     "output_type": "stream",
     "text": [
      "C:\\Users\\ArrunPersonal\\anaconda3\\lib\\site-packages\\keras\\initializers\\initializers_v2.py:120: UserWarning: The initializer GlorotNormal is unseeded and being called multiple times, which will return identical values  each time (even if the initializer is unseeded). Please update your code to provide a seed to the initializer, or avoid using the same initalizer instance more than once.\n",
      "  warnings.warn(\n"
     ]
    }
   ],
   "source": [
    "batch_size = 128\n",
    "input_dim = (np.shape(train_X)[1],1)\n",
    "input_layer = Input(shape=input_dim, name='input')\n",
    "#Input Layer\n",
    "LSTM_layer = LSTM(units=64,return_sequences=True)(input_layer)\n",
    "attention = SeqSelfAttention(attention_activation='sigmoid')(LSTM_layer)\n",
    "encoder1 = Conv1D (64,3)(attention)\n",
    "encoder1 = MaxPooling1D(2)(encoder1)\n",
    "#Encoder’s first dense layer\n",
    "encoder2 = Conv1D (32,3)(encoder1)\n",
    "encoder2 = MaxPooling1D(2)(encoder2)\n",
    "# Code layer\n",
    "latent_layer = Dense (32, name = 'latent_1')(encoder2)\n",
    "# Decoder’s first dense layer\n",
    "decoder1 = Conv1DTranspose (32,3)(latent_layer)\n",
    "decoder1 = UpSampling1D(2)(decoder1)\n",
    "# Decoder’s Third dense layer\n",
    "decoder2 = Conv1DTranspose (64,3)(decoder1)\n",
    "decoder2 = UpSampling1D(2)(decoder2)\n",
    "flatten = Flatten()(decoder2)\n",
    "# Output Layer\n",
    "output_layer = Dense(input_dim[0])(flatten)\n",
    "output_layer = Reshape((np.shape(train_X)[1],1), input_shape=(np.shape(train_X)[1],))(output_layer)"
   ]
  },
  {
   "cell_type": "code",
   "execution_count": 28,
   "id": "44e82ea0-c414-4c62-b6b7-b264d2a8d50d",
   "metadata": {},
   "outputs": [],
   "source": [
    "autoencoder_1 = Model(inputs=input_layer, outputs=output_layer)\n",
    "autoencoder_1.compile(metrics=tf.keras.metrics.RootMeanSquaredError(),loss='mse',optimizer='adam')"
   ]
  },
  {
   "cell_type": "code",
   "execution_count": 29,
   "id": "b2dc9457-16b6-4196-a168-1a68bf872132",
   "metadata": {},
   "outputs": [
    {
     "name": "stdout",
     "output_type": "stream",
     "text": [
      "Model: \"model\"\n",
      "_________________________________________________________________\n",
      " Layer (type)                Output Shape              Param #   \n",
      "=================================================================\n",
      " input (InputLayer)          [(None, 21, 1)]           0         \n",
      "                                                                 \n",
      " lstm (LSTM)                 (None, 21, 64)            16896     \n",
      "                                                                 \n",
      " seq_self_attention (SeqSelf  (None, 21, 64)           4161      \n",
      " Attention)                                                      \n",
      "                                                                 \n",
      " conv1d (Conv1D)             (None, 19, 64)            12352     \n",
      "                                                                 \n",
      " max_pooling1d (MaxPooling1D  (None, 9, 64)            0         \n",
      " )                                                               \n",
      "                                                                 \n",
      " conv1d_1 (Conv1D)           (None, 7, 32)             6176      \n",
      "                                                                 \n",
      " max_pooling1d_1 (MaxPooling  (None, 3, 32)            0         \n",
      " 1D)                                                             \n",
      "                                                                 \n",
      " latent_1 (Dense)            (None, 3, 32)             1056      \n",
      "                                                                 \n",
      " conv1d_transpose (Conv1DTra  (None, 5, 32)            3104      \n",
      " nspose)                                                         \n",
      "                                                                 \n",
      " up_sampling1d (UpSampling1D  (None, 10, 32)           0         \n",
      " )                                                               \n",
      "                                                                 \n",
      " conv1d_transpose_1 (Conv1DT  (None, 12, 64)           6208      \n",
      " ranspose)                                                       \n",
      "                                                                 \n",
      " up_sampling1d_1 (UpSampling  (None, 24, 64)           0         \n",
      " 1D)                                                             \n",
      "                                                                 \n",
      " flatten (Flatten)           (None, 1536)              0         \n",
      "                                                                 \n",
      " dense (Dense)               (None, 21)                32277     \n",
      "                                                                 \n",
      " reshape (Reshape)           (None, 21, 1)             0         \n",
      "                                                                 \n",
      "=================================================================\n",
      "Total params: 82,230\n",
      "Trainable params: 82,230\n",
      "Non-trainable params: 0\n",
      "_________________________________________________________________\n"
     ]
    }
   ],
   "source": [
    "autoencoder_1.summary()"
   ]
  },
  {
   "cell_type": "code",
   "execution_count": 30,
   "id": "6cc6c2f4-c05d-48eb-b44f-76fcf2b1127a",
   "metadata": {},
   "outputs": [],
   "source": [
    "callback = tf.keras.callbacks.EarlyStopping(monitor='val_loss', patience=8,restore_best_weights=True)"
   ]
  },
  {
   "cell_type": "code",
   "execution_count": 31,
   "id": "dde3c41f-4399-4fec-9193-bff83779be18",
   "metadata": {
    "tags": []
   },
   "outputs": [
    {
     "name": "stdout",
     "output_type": "stream",
     "text": [
      "Epoch 1/100\n",
      "886/886 [==============================] - 13s 10ms/step - loss: 0.2424 - root_mean_squared_error: 0.4924 - val_loss: 0.0767 - val_root_mean_squared_error: 0.2769\n",
      "Epoch 2/100\n",
      "886/886 [==============================] - 8s 9ms/step - loss: 0.0481 - root_mean_squared_error: 0.2194 - val_loss: 0.0371 - val_root_mean_squared_error: 0.1927\n",
      "Epoch 3/100\n",
      "886/886 [==============================] - 8s 9ms/step - loss: 0.0286 - root_mean_squared_error: 0.1692 - val_loss: 0.0239 - val_root_mean_squared_error: 0.1547\n",
      "Epoch 4/100\n",
      "886/886 [==============================] - 8s 10ms/step - loss: 0.0197 - root_mean_squared_error: 0.1403 - val_loss: 0.0167 - val_root_mean_squared_error: 0.1294\n",
      "Epoch 5/100\n",
      "886/886 [==============================] - 8s 9ms/step - loss: 0.0142 - root_mean_squared_error: 0.1193 - val_loss: 0.0127 - val_root_mean_squared_error: 0.1127\n",
      "Epoch 6/100\n",
      "886/886 [==============================] - 8s 9ms/step - loss: 0.0111 - root_mean_squared_error: 0.1055 - val_loss: 0.0102 - val_root_mean_squared_error: 0.1012\n",
      "Epoch 7/100\n",
      "886/886 [==============================] - 8s 9ms/step - loss: 0.0089 - root_mean_squared_error: 0.0946 - val_loss: 0.0084 - val_root_mean_squared_error: 0.0919\n",
      "Epoch 8/100\n",
      "886/886 [==============================] - 8s 10ms/step - loss: 0.0075 - root_mean_squared_error: 0.0868 - val_loss: 0.0068 - val_root_mean_squared_error: 0.0823\n",
      "Epoch 9/100\n",
      "886/886 [==============================] - 8s 10ms/step - loss: 0.0064 - root_mean_squared_error: 0.0803 - val_loss: 0.0059 - val_root_mean_squared_error: 0.0771\n",
      "Epoch 10/100\n",
      "886/886 [==============================] - 8s 9ms/step - loss: 0.0058 - root_mean_squared_error: 0.0760 - val_loss: 0.0053 - val_root_mean_squared_error: 0.0725\n",
      "Epoch 11/100\n",
      "886/886 [==============================] - 8s 10ms/step - loss: 0.0050 - root_mean_squared_error: 0.0708 - val_loss: 0.0049 - val_root_mean_squared_error: 0.0702\n",
      "Epoch 12/100\n",
      "886/886 [==============================] - 8s 9ms/step - loss: 0.0045 - root_mean_squared_error: 0.0670 - val_loss: 0.0042 - val_root_mean_squared_error: 0.0647\n",
      "Epoch 13/100\n",
      "886/886 [==============================] - 8s 9ms/step - loss: 0.0040 - root_mean_squared_error: 0.0631 - val_loss: 0.0034 - val_root_mean_squared_error: 0.0584\n",
      "Epoch 14/100\n",
      "886/886 [==============================] - 8s 9ms/step - loss: 0.0036 - root_mean_squared_error: 0.0599 - val_loss: 0.0029 - val_root_mean_squared_error: 0.0538\n",
      "Epoch 15/100\n",
      "886/886 [==============================] - 8s 9ms/step - loss: 0.0032 - root_mean_squared_error: 0.0564 - val_loss: 0.0029 - val_root_mean_squared_error: 0.0540\n",
      "Epoch 16/100\n",
      "886/886 [==============================] - 8s 9ms/step - loss: 0.0029 - root_mean_squared_error: 0.0535 - val_loss: 0.0028 - val_root_mean_squared_error: 0.0533\n",
      "Epoch 17/100\n",
      "886/886 [==============================] - 8s 9ms/step - loss: 0.0026 - root_mean_squared_error: 0.0508 - val_loss: 0.0026 - val_root_mean_squared_error: 0.0509\n",
      "Epoch 18/100\n",
      "886/886 [==============================] - 8s 9ms/step - loss: 0.0024 - root_mean_squared_error: 0.0487 - val_loss: 0.0021 - val_root_mean_squared_error: 0.0453\n",
      "Epoch 19/100\n",
      "886/886 [==============================] - 8s 9ms/step - loss: 0.0022 - root_mean_squared_error: 0.0473 - val_loss: 0.0020 - val_root_mean_squared_error: 0.0444\n",
      "Epoch 20/100\n",
      "886/886 [==============================] - 8s 9ms/step - loss: 0.0021 - root_mean_squared_error: 0.0458 - val_loss: 0.0021 - val_root_mean_squared_error: 0.0460\n",
      "Epoch 21/100\n",
      "886/886 [==============================] - 8s 9ms/step - loss: 0.0019 - root_mean_squared_error: 0.0437 - val_loss: 0.0015 - val_root_mean_squared_error: 0.0390\n",
      "Epoch 22/100\n",
      "886/886 [==============================] - 8s 9ms/step - loss: 0.0018 - root_mean_squared_error: 0.0421 - val_loss: 0.0015 - val_root_mean_squared_error: 0.0392\n",
      "Epoch 23/100\n",
      "886/886 [==============================] - 8s 9ms/step - loss: 0.0017 - root_mean_squared_error: 0.0417 - val_loss: 0.0014 - val_root_mean_squared_error: 0.0376\n",
      "Epoch 24/100\n",
      "886/886 [==============================] - 8s 9ms/step - loss: 0.0016 - root_mean_squared_error: 0.0400 - val_loss: 0.0015 - val_root_mean_squared_error: 0.0389\n",
      "Epoch 25/100\n",
      "886/886 [==============================] - 8s 9ms/step - loss: 0.0015 - root_mean_squared_error: 0.0383 - val_loss: 0.0020 - val_root_mean_squared_error: 0.0450\n",
      "Epoch 26/100\n",
      "886/886 [==============================] - 8s 9ms/step - loss: 0.0015 - root_mean_squared_error: 0.0384 - val_loss: 0.0014 - val_root_mean_squared_error: 0.0376\n",
      "Epoch 27/100\n",
      "886/886 [==============================] - 8s 9ms/step - loss: 0.0014 - root_mean_squared_error: 0.0369 - val_loss: 0.0013 - val_root_mean_squared_error: 0.0364\n",
      "Epoch 28/100\n",
      "886/886 [==============================] - 8s 9ms/step - loss: 0.0013 - root_mean_squared_error: 0.0359 - val_loss: 0.0012 - val_root_mean_squared_error: 0.0341\n",
      "Epoch 29/100\n",
      "886/886 [==============================] - 8s 9ms/step - loss: 0.0012 - root_mean_squared_error: 0.0347 - val_loss: 0.0013 - val_root_mean_squared_error: 0.0360\n",
      "Epoch 30/100\n",
      "886/886 [==============================] - 8s 9ms/step - loss: 0.0013 - root_mean_squared_error: 0.0354 - val_loss: 0.0014 - val_root_mean_squared_error: 0.0374\n",
      "Epoch 31/100\n",
      "886/886 [==============================] - 8s 9ms/step - loss: 0.0011 - root_mean_squared_error: 0.0337 - val_loss: 0.0012 - val_root_mean_squared_error: 0.0352\n",
      "Epoch 32/100\n",
      "886/886 [==============================] - 8s 9ms/step - loss: 0.0012 - root_mean_squared_error: 0.0342 - val_loss: 0.0012 - val_root_mean_squared_error: 0.0342\n",
      "Epoch 33/100\n",
      "886/886 [==============================] - 8s 9ms/step - loss: 0.0010 - root_mean_squared_error: 0.0324 - val_loss: 0.0010 - val_root_mean_squared_error: 0.0322\n",
      "Epoch 34/100\n",
      "886/886 [==============================] - 8s 9ms/step - loss: 0.0010 - root_mean_squared_error: 0.0322 - val_loss: 9.8063e-04 - val_root_mean_squared_error: 0.0313\n",
      "Epoch 35/100\n",
      "886/886 [==============================] - 8s 9ms/step - loss: 0.0011 - root_mean_squared_error: 0.0325 - val_loss: 9.0476e-04 - val_root_mean_squared_error: 0.0301\n",
      "Epoch 36/100\n",
      "886/886 [==============================] - 8s 9ms/step - loss: 0.0011 - root_mean_squared_error: 0.0327 - val_loss: 9.0384e-04 - val_root_mean_squared_error: 0.0301\n",
      "Epoch 37/100\n",
      "886/886 [==============================] - 8s 9ms/step - loss: 8.8549e-04 - root_mean_squared_error: 0.0298 - val_loss: 9.5052e-04 - val_root_mean_squared_error: 0.0308\n",
      "Epoch 38/100\n",
      "886/886 [==============================] - 8s 9ms/step - loss: 9.0561e-04 - root_mean_squared_error: 0.0301 - val_loss: 9.6716e-04 - val_root_mean_squared_error: 0.0311\n",
      "Epoch 39/100\n",
      "886/886 [==============================] - 8s 9ms/step - loss: 8.7562e-04 - root_mean_squared_error: 0.0296 - val_loss: 7.9422e-04 - val_root_mean_squared_error: 0.0282\n",
      "Epoch 40/100\n",
      "886/886 [==============================] - 8s 9ms/step - loss: 8.8183e-04 - root_mean_squared_error: 0.0297 - val_loss: 9.4239e-04 - val_root_mean_squared_error: 0.0307\n",
      "Epoch 41/100\n",
      "886/886 [==============================] - 8s 9ms/step - loss: 8.4925e-04 - root_mean_squared_error: 0.0291 - val_loss: 7.2263e-04 - val_root_mean_squared_error: 0.0269\n",
      "Epoch 42/100\n",
      "886/886 [==============================] - 8s 9ms/step - loss: 7.7361e-04 - root_mean_squared_error: 0.0278 - val_loss: 8.3273e-04 - val_root_mean_squared_error: 0.0289\n",
      "Epoch 43/100\n",
      "886/886 [==============================] - 8s 9ms/step - loss: 7.8677e-04 - root_mean_squared_error: 0.0280 - val_loss: 7.4390e-04 - val_root_mean_squared_error: 0.0273\n",
      "Epoch 44/100\n",
      "886/886 [==============================] - 8s 9ms/step - loss: 7.5392e-04 - root_mean_squared_error: 0.0275 - val_loss: 7.4347e-04 - val_root_mean_squared_error: 0.0273\n",
      "Epoch 45/100\n",
      "886/886 [==============================] - 8s 9ms/step - loss: 7.4730e-04 - root_mean_squared_error: 0.0273 - val_loss: 0.0011 - val_root_mean_squared_error: 0.0326\n",
      "Epoch 46/100\n",
      "886/886 [==============================] - 8s 9ms/step - loss: 7.1315e-04 - root_mean_squared_error: 0.0267 - val_loss: 5.9100e-04 - val_root_mean_squared_error: 0.0243\n",
      "Epoch 47/100\n",
      "886/886 [==============================] - 9s 10ms/step - loss: 7.3965e-04 - root_mean_squared_error: 0.0272 - val_loss: 7.4053e-04 - val_root_mean_squared_error: 0.0272\n",
      "Epoch 48/100\n",
      "886/886 [==============================] - 9s 11ms/step - loss: 7.1048e-04 - root_mean_squared_error: 0.0267 - val_loss: 6.6802e-04 - val_root_mean_squared_error: 0.0258\n",
      "Epoch 49/100\n",
      "886/886 [==============================] - 9s 10ms/step - loss: 6.7506e-04 - root_mean_squared_error: 0.0260 - val_loss: 5.9064e-04 - val_root_mean_squared_error: 0.0243\n",
      "Epoch 50/100\n",
      "886/886 [==============================] - 8s 9ms/step - loss: 6.4989e-04 - root_mean_squared_error: 0.0255 - val_loss: 5.3789e-04 - val_root_mean_squared_error: 0.0232\n",
      "Epoch 51/100\n",
      "886/886 [==============================] - 8s 9ms/step - loss: 6.3077e-04 - root_mean_squared_error: 0.0251 - val_loss: 7.1486e-04 - val_root_mean_squared_error: 0.0267\n",
      "Epoch 52/100\n",
      "886/886 [==============================] - 8s 9ms/step - loss: 6.4938e-04 - root_mean_squared_error: 0.0255 - val_loss: 7.9668e-04 - val_root_mean_squared_error: 0.0282\n",
      "Epoch 53/100\n",
      "886/886 [==============================] - 8s 9ms/step - loss: 6.9220e-04 - root_mean_squared_error: 0.0263 - val_loss: 5.4512e-04 - val_root_mean_squared_error: 0.0233\n",
      "Epoch 54/100\n",
      "886/886 [==============================] - 8s 9ms/step - loss: 6.0813e-04 - root_mean_squared_error: 0.0247 - val_loss: 6.5584e-04 - val_root_mean_squared_error: 0.0256\n",
      "Epoch 55/100\n",
      "886/886 [==============================] - 8s 9ms/step - loss: 6.2651e-04 - root_mean_squared_error: 0.0250 - val_loss: 6.8017e-04 - val_root_mean_squared_error: 0.0261\n",
      "Epoch 56/100\n",
      "886/886 [==============================] - 8s 9ms/step - loss: 5.7022e-04 - root_mean_squared_error: 0.0239 - val_loss: 6.2773e-04 - val_root_mean_squared_error: 0.0251\n",
      "Epoch 57/100\n",
      "886/886 [==============================] - 8s 9ms/step - loss: 5.5499e-04 - root_mean_squared_error: 0.0236 - val_loss: 5.4954e-04 - val_root_mean_squared_error: 0.0234\n",
      "Epoch 58/100\n",
      "886/886 [==============================] - 8s 9ms/step - loss: 6.3706e-04 - root_mean_squared_error: 0.0252 - val_loss: 7.8509e-04 - val_root_mean_squared_error: 0.0280\n"
     ]
    }
   ],
   "source": [
    "stack_1 = autoencoder_1.fit(train_X, train_X, epochs=100, batch_size=batch_size,validation_data = (test_X,test_X),callbacks = [callback])"
   ]
  },
  {
   "cell_type": "code",
   "execution_count": 32,
   "id": "e1649f9d-8bad-4b97-869f-e36ad74dec74",
   "metadata": {},
   "outputs": [
    {
     "name": "stdout",
     "output_type": "stream",
     "text": [
      "3937/3937 [==============================] - 12s 3ms/step\n"
     ]
    }
   ],
   "source": [
    "pred = autoencoder_1.predict(act_features)"
   ]
  },
  {
   "cell_type": "code",
   "execution_count": 33,
   "id": "a1c91552-2916-4a81-933c-6c060358fdfc",
   "metadata": {},
   "outputs": [
    {
     "data": {
      "text/plain": [
       "(125973, 21, 1)"
      ]
     },
     "execution_count": 33,
     "metadata": {},
     "output_type": "execute_result"
    }
   ],
   "source": [
    "np.shape(pred)"
   ]
  },
  {
   "cell_type": "code",
   "execution_count": 34,
   "id": "68e44617-4d08-4b58-8846-6269ccd65304",
   "metadata": {},
   "outputs": [
    {
     "name": "stdout",
     "output_type": "stream",
     "text": [
      "3937/3937 [==============================] - 9s 2ms/step\n"
     ]
    }
   ],
   "source": [
    "layer_name = 'latent_1'\n",
    "intermediate_layer_model = Model(inputs=autoencoder_1.input,\n",
    "                                 outputs=autoencoder_1.get_layer(layer_name).output)\n",
    "intermediate_output_1 = intermediate_layer_model.predict(act_features)"
   ]
  },
  {
   "cell_type": "markdown",
   "id": "705f51ae-5b72-44fe-9347-a5bc95afe895",
   "metadata": {},
   "source": [
    "### Classifier Model"
   ]
  },
  {
   "cell_type": "code",
   "execution_count": 35,
   "id": "e42990d5-e983-41a8-b543-7de9b750ab74",
   "metadata": {},
   "outputs": [],
   "source": [
    "batch_size = 128\n",
    "input_dim = np.shape(intermediate_output_1)[1:]\n",
    "input_layer = Input(shape=(input_dim), name='input')\n",
    "flatten = Flatten()(input_layer)\n",
    "#Input Layer\n",
    "dense1 = Dense (128, activation='relu')(flatten)\n",
    "dense2 = Dense (64, activation='relu')(dense1)\n",
    "dense3 = Dense (8, activation='relu')(dense2)\n",
    "# Output Layer\n",
    "classifier = Dense(len(set(train_Y)), activation='softmax')(dense3)"
   ]
  },
  {
   "cell_type": "code",
   "execution_count": 36,
   "id": "61b5f89c-da19-4c1d-aeac-6480742079d1",
   "metadata": {},
   "outputs": [],
   "source": [
    "classify = Model(inputs=input_layer, outputs=classifier)\n",
    "classify.compile(metrics=['accuracy'],loss='sparse_categorical_crossentropy',optimizer='adam')"
   ]
  },
  {
   "cell_type": "code",
   "execution_count": 37,
   "id": "3f3d1399-8759-4b4d-a867-f1f0ce3c902d",
   "metadata": {},
   "outputs": [
    {
     "name": "stdout",
     "output_type": "stream",
     "text": [
      "Model: \"model_2\"\n",
      "_________________________________________________________________\n",
      " Layer (type)                Output Shape              Param #   \n",
      "=================================================================\n",
      " input (InputLayer)          [(None, 3, 32)]           0         \n",
      "                                                                 \n",
      " flatten_1 (Flatten)         (None, 96)                0         \n",
      "                                                                 \n",
      " dense_1 (Dense)             (None, 128)               12416     \n",
      "                                                                 \n",
      " dense_2 (Dense)             (None, 64)                8256      \n",
      "                                                                 \n",
      " dense_3 (Dense)             (None, 8)                 520       \n",
      "                                                                 \n",
      " dense_4 (Dense)             (None, 5)                 45        \n",
      "                                                                 \n",
      "=================================================================\n",
      "Total params: 21,237\n",
      "Trainable params: 21,237\n",
      "Non-trainable params: 0\n",
      "_________________________________________________________________\n"
     ]
    }
   ],
   "source": [
    "classify.summary()"
   ]
  },
  {
   "cell_type": "code",
   "execution_count": 38,
   "id": "ebe223a4-35ef-49bf-9196-4f186f3e9fc3",
   "metadata": {},
   "outputs": [],
   "source": [
    "train_X, test_X , train_Y ,test_Y = train_test_split(intermediate_output_1,labels,random_state = 42,test_size = 0.1)"
   ]
  },
  {
   "cell_type": "code",
   "execution_count": 45,
   "id": "58791707-7c1c-4974-9244-fb445b644ccc",
   "metadata": {
    "tags": []
   },
   "outputs": [
    {
     "name": "stdout",
     "output_type": "stream",
     "text": [
      "Epoch 1/100\n",
      "3543/3543 [==============================] - 8s 2ms/step - loss: 0.0218 - accuracy: 0.9921 - val_loss: 0.0316 - val_accuracy: 0.9902\n",
      "Epoch 2/100\n",
      "3543/3543 [==============================] - 7s 2ms/step - loss: 0.0205 - accuracy: 0.9926 - val_loss: 0.0428 - val_accuracy: 0.9883\n",
      "Epoch 3/100\n",
      "3543/3543 [==============================] - 7s 2ms/step - loss: 0.0204 - accuracy: 0.9924 - val_loss: 0.0378 - val_accuracy: 0.9875\n",
      "Epoch 4/100\n",
      "3543/3543 [==============================] - 8s 2ms/step - loss: 0.0199 - accuracy: 0.9928 - val_loss: 0.0302 - val_accuracy: 0.9908\n",
      "Epoch 5/100\n",
      "3543/3543 [==============================] - 7s 2ms/step - loss: 0.0199 - accuracy: 0.9927 - val_loss: 0.0306 - val_accuracy: 0.9906\n",
      "Epoch 6/100\n",
      "3543/3543 [==============================] - 7s 2ms/step - loss: 0.0195 - accuracy: 0.9929 - val_loss: 0.0324 - val_accuracy: 0.9906\n",
      "Epoch 7/100\n",
      "3543/3543 [==============================] - 7s 2ms/step - loss: 0.0192 - accuracy: 0.9929 - val_loss: 0.0303 - val_accuracy: 0.9912\n",
      "Epoch 8/100\n",
      "3543/3543 [==============================] - 7s 2ms/step - loss: 0.0188 - accuracy: 0.9927 - val_loss: 0.0329 - val_accuracy: 0.9902\n",
      "Epoch 9/100\n",
      "3543/3543 [==============================] - 7s 2ms/step - loss: 0.0188 - accuracy: 0.9932 - val_loss: 0.0305 - val_accuracy: 0.9910\n",
      "Epoch 10/100\n",
      "3543/3543 [==============================] - 7s 2ms/step - loss: 0.0181 - accuracy: 0.9934 - val_loss: 0.0279 - val_accuracy: 0.9917\n",
      "Epoch 11/100\n",
      "3543/3543 [==============================] - 7s 2ms/step - loss: 0.0184 - accuracy: 0.9933 - val_loss: 0.0313 - val_accuracy: 0.9908\n",
      "Epoch 12/100\n",
      "3543/3543 [==============================] - 7s 2ms/step - loss: 0.0178 - accuracy: 0.9935 - val_loss: 0.0286 - val_accuracy: 0.9916\n",
      "Epoch 13/100\n",
      "3543/3543 [==============================] - 8s 2ms/step - loss: 0.0180 - accuracy: 0.9936 - val_loss: 0.0316 - val_accuracy: 0.9902\n",
      "Epoch 14/100\n",
      "3543/3543 [==============================] - 11s 3ms/step - loss: 0.0172 - accuracy: 0.9936 - val_loss: 0.0320 - val_accuracy: 0.9896\n",
      "Epoch 15/100\n",
      "3543/3543 [==============================] - 12s 3ms/step - loss: 0.0175 - accuracy: 0.9934 - val_loss: 0.0292 - val_accuracy: 0.9921\n",
      "Epoch 16/100\n",
      "3543/3543 [==============================] - 12s 3ms/step - loss: 0.0174 - accuracy: 0.9938 - val_loss: 0.0338 - val_accuracy: 0.9900\n",
      "Epoch 17/100\n",
      "3543/3543 [==============================] - 12s 3ms/step - loss: 0.0170 - accuracy: 0.9939 - val_loss: 0.0300 - val_accuracy: 0.9910\n",
      "Epoch 18/100\n",
      "3543/3543 [==============================] - 12s 3ms/step - loss: 0.0168 - accuracy: 0.9938 - val_loss: 0.0297 - val_accuracy: 0.9921\n"
     ]
    }
   ],
   "source": [
    "history = classify.fit(train_X, train_Y, epochs=100, batch_size=32,callbacks = [callback],validation_data = (test_X, test_Y))"
   ]
  },
  {
   "cell_type": "code",
   "execution_count": 46,
   "id": "3835f939-1e47-4ed9-9e94-41a990119a5a",
   "metadata": {},
   "outputs": [
    {
     "name": "stdout",
     "output_type": "stream",
     "text": [
      "394/394 [==============================] - 1s 1ms/step\n"
     ]
    }
   ],
   "source": [
    "preds = classify.predict(test_X)"
   ]
  },
  {
   "cell_type": "code",
   "execution_count": 47,
   "id": "2d90d8aa-687a-437a-ba87-33e74ed2e502",
   "metadata": {},
   "outputs": [
    {
     "data": {
      "text/plain": [
       "((12598, 5), (12598,))"
      ]
     },
     "execution_count": 47,
     "metadata": {},
     "output_type": "execute_result"
    }
   ],
   "source": [
    "np.shape(preds),np.shape(test_Y)"
   ]
  },
  {
   "cell_type": "code",
   "execution_count": 48,
   "id": "827db2ea-1075-4822-a90e-db2b000a51e3",
   "metadata": {},
   "outputs": [
    {
     "data": {
      "text/plain": [
       "{0.0, 1.0, 2.0, 3.0, 4.0}"
      ]
     },
     "execution_count": 48,
     "metadata": {},
     "output_type": "execute_result"
    }
   ],
   "source": [
    "set(labels)"
   ]
  },
  {
   "cell_type": "code",
   "execution_count": 49,
   "id": "66420e44-e3ac-49a0-b475-7ac3892e68a6",
   "metadata": {},
   "outputs": [],
   "source": [
    "from sklearn.metrics import *\n",
    "conf_mat = confusion_matrix(np.argmax(preds,axis = 1), test_Y)"
   ]
  },
  {
   "cell_type": "code",
   "execution_count": 50,
   "id": "8c12f398-eb48-43d6-987e-3ab9905c43d6",
   "metadata": {},
   "outputs": [
    {
     "name": "stdout",
     "output_type": "stream",
     "text": [
      "0.9916653437053501\n",
      "0.754699396779534\n",
      "0.7710351569317386\n",
      "0.7624348126234113\n"
     ]
    },
    {
     "name": "stderr",
     "output_type": "stream",
     "text": [
      "C:\\Users\\ArrunPersonal\\anaconda3\\lib\\site-packages\\sklearn\\metrics\\_classification.py:1344: UndefinedMetricWarning: Recall is ill-defined and being set to 0.0 in labels with no true samples. Use `zero_division` parameter to control this behavior.\n",
      "  _warn_prf(average, modifier, msg_start, len(result))\n"
     ]
    }
   ],
   "source": [
    "print(accuracy_score(np.argmax(preds,axis = 1),test_Y))\n",
    "print(precision_score(np.argmax(preds,axis = 1),test_Y,average = 'macro'))\n",
    "print(recall_score(np.argmax(preds,axis = 1),test_Y,average = 'macro'))\n",
    "print(f1_score(np.argmax(preds,axis = 1),test_Y,average = 'macro'))"
   ]
  },
  {
   "cell_type": "code",
   "execution_count": 51,
   "id": "5582266a-40c3-49cf-bf08-81fef2e5ec2f",
   "metadata": {},
   "outputs": [],
   "source": [
    "import seaborn as sns"
   ]
  },
  {
   "cell_type": "code",
   "execution_count": 52,
   "id": "f8fd906d-887d-4ad9-ab88-c4350bb4b179",
   "metadata": {},
   "outputs": [
    {
     "data": {
      "text/plain": [
       "<AxesSubplot:>"
      ]
     },
     "execution_count": 52,
     "metadata": {},
     "output_type": "execute_result"
    },
    {
     "data": {
      "image/png": "[encoded data removed]",
      "text/plain": [
       "<Figure size 432x288 with 2 Axes>"
      ]
     },
     "metadata": {
      "needs_background": "light"
     },
     "output_type": "display_data"
    }
   ],
   "source": [
    "sns.heatmap(conf_mat, annot=True)"
   ]
  }
 ],
 "metadata": {
  "kernelspec": {
   "display_name": "Python 3 (ipykernel)",
   "language": "python",
   "name": "python3"
  },
  "language_info": {
   "codemirror_mode": {
    "name": "ipython",
    "version": 3
   },
   "file_extension": ".py",
   "mimetype": "text/x-python",
   "name": "python",
   "nbconvert_exporter": "python",
   "pygments_lexer": "ipython3",
   "version": "3.9.7"
  }
 },
 "nbformat": 4,
 "nbformat_minor": 5
}
