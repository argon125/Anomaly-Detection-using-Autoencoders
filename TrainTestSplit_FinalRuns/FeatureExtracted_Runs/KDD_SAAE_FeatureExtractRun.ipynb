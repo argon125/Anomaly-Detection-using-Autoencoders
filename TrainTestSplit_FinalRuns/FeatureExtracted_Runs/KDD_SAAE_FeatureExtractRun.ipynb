{
 "cells": [
  {
   "cell_type": "code",
   "execution_count": 1,
   "id": "1bf0b868-c909-466a-8382-431edfb1ca3c",
   "metadata": {},
   "outputs": [],
   "source": [
    "import numpy as np\n",
    "import pandas as pd\n",
    "import matplotlib.pyplot as plt\n",
    "import os\n",
    "import tensorflow as tf"
   ]
  },
  {
   "cell_type": "code",
   "execution_count": 2,
   "id": "c01bb8b3-930c-4bd9-9a3f-5d07ce77b4ac",
   "metadata": {},
   "outputs": [],
   "source": [
    "feature = [\"duration\",\"protocol_type\",\"service\",\"flag\",\"src_bytes\",\n",
    "    \"dst_bytes\",\"land\",\"wrong_fragment\",\"urgent\",\"hot\",\"num_failed_logins\",\n",
    "    \"logged_in\",\"num_compromised\",\"root_shell\",\"su_attempted\",\"num_root\",\n",
    "    \"num_file_creations\",\"num_shells\",\"num_access_files\",\"num_outbound_cmds\",\n",
    "    \"is_host_login\",\"is_guest_login\",\"count\",\"srv_count\",\"serror_rate\",\n",
    "    \"srv_serror_rate\",\"rerror_rate\",\"srv_rerror_rate\",\"same_srv_rate\",\n",
    "    \"diff_srv_rate\",\"srv_diff_host_rate\",\"dst_host_count\",\"dst_host_srv_count\",\n",
    "    \"dst_host_same_srv_rate\",\"dst_host_diff_srv_rate\",\"dst_host_same_src_port_rate\",\n",
    "    \"dst_host_srv_diff_host_rate\",\"dst_host_serror_rate\",\"dst_host_srv_serror_rate\",\n",
    "    \"dst_host_rerror_rate\",\"dst_host_srv_rerror_rate\",\"target\",\"junk\"]"
   ]
  },
  {
   "cell_type": "code",
   "execution_count": 3,
   "id": "40536131-3ade-4777-9ac3-c1f2e6025ac7",
   "metadata": {},
   "outputs": [],
   "source": [
    "os.chdir(\"C:/Users/ArrunPersonal/Codes/Semester7/IDS/NSL-KDD\")"
   ]
  },
  {
   "cell_type": "code",
   "execution_count": 4,
   "id": "84364c10-8b89-45fa-8a3a-881de73b44aa",
   "metadata": {},
   "outputs": [],
   "source": [
    "df = pd.read_csv(\"KDDTrain+.csv\", names = feature)\n",
    "df.drop([\"junk\"],axis = 1,inplace = True)"
   ]
  },
  {
   "cell_type": "code",
   "execution_count": 5,
   "id": "3fbe8575-19ab-460a-ad78-e5cff17205a5",
   "metadata": {},
   "outputs": [
    {
     "data": {
      "text/plain": [
       "False"
      ]
     },
     "execution_count": 5,
     "metadata": {},
     "output_type": "execute_result"
    }
   ],
   "source": [
    "df.isnull().values.any()"
   ]
  },
  {
   "cell_type": "code",
   "execution_count": 6,
   "id": "5156c38d-0cd4-4fe0-b633-eaa3f29769a5",
   "metadata": {},
   "outputs": [
    {
     "data": {
      "text/html": [
       "<div>\n",
       "<style scoped>\n",
       "    .dataframe tbody tr th:only-of-type {\n",
       "        vertical-align: middle;\n",
       "    }\n",
       "\n",
       "    .dataframe tbody tr th {\n",
       "        vertical-align: top;\n",
       "    }\n",
       "\n",
       "    .dataframe thead th {\n",
       "        text-align: right;\n",
       "    }\n",
       "</style>\n",
       "<table border=\"1\" class=\"dataframe\">\n",
       "  <thead>\n",
       "    <tr style=\"text-align: right;\">\n",
       "      <th></th>\n",
       "      <th>duration</th>\n",
       "      <th>protocol_type</th>\n",
       "      <th>service</th>\n",
       "      <th>flag</th>\n",
       "      <th>src_bytes</th>\n",
       "      <th>dst_bytes</th>\n",
       "      <th>land</th>\n",
       "      <th>wrong_fragment</th>\n",
       "      <th>urgent</th>\n",
       "      <th>hot</th>\n",
       "      <th>...</th>\n",
       "      <th>dst_host_srv_count</th>\n",
       "      <th>dst_host_same_srv_rate</th>\n",
       "      <th>dst_host_diff_srv_rate</th>\n",
       "      <th>dst_host_same_src_port_rate</th>\n",
       "      <th>dst_host_srv_diff_host_rate</th>\n",
       "      <th>dst_host_serror_rate</th>\n",
       "      <th>dst_host_srv_serror_rate</th>\n",
       "      <th>dst_host_rerror_rate</th>\n",
       "      <th>dst_host_srv_rerror_rate</th>\n",
       "      <th>target</th>\n",
       "    </tr>\n",
       "  </thead>\n",
       "  <tbody>\n",
       "    <tr>\n",
       "      <th>0</th>\n",
       "      <td>0</td>\n",
       "      <td>tcp</td>\n",
       "      <td>ftp_data</td>\n",
       "      <td>SF</td>\n",
       "      <td>491</td>\n",
       "      <td>0</td>\n",
       "      <td>0</td>\n",
       "      <td>0</td>\n",
       "      <td>0</td>\n",
       "      <td>0</td>\n",
       "      <td>...</td>\n",
       "      <td>25</td>\n",
       "      <td>0.17</td>\n",
       "      <td>0.03</td>\n",
       "      <td>0.17</td>\n",
       "      <td>0.00</td>\n",
       "      <td>0.00</td>\n",
       "      <td>0.00</td>\n",
       "      <td>0.05</td>\n",
       "      <td>0.00</td>\n",
       "      <td>normal</td>\n",
       "    </tr>\n",
       "    <tr>\n",
       "      <th>1</th>\n",
       "      <td>0</td>\n",
       "      <td>udp</td>\n",
       "      <td>other</td>\n",
       "      <td>SF</td>\n",
       "      <td>146</td>\n",
       "      <td>0</td>\n",
       "      <td>0</td>\n",
       "      <td>0</td>\n",
       "      <td>0</td>\n",
       "      <td>0</td>\n",
       "      <td>...</td>\n",
       "      <td>1</td>\n",
       "      <td>0.00</td>\n",
       "      <td>0.60</td>\n",
       "      <td>0.88</td>\n",
       "      <td>0.00</td>\n",
       "      <td>0.00</td>\n",
       "      <td>0.00</td>\n",
       "      <td>0.00</td>\n",
       "      <td>0.00</td>\n",
       "      <td>normal</td>\n",
       "    </tr>\n",
       "    <tr>\n",
       "      <th>2</th>\n",
       "      <td>0</td>\n",
       "      <td>tcp</td>\n",
       "      <td>private</td>\n",
       "      <td>S0</td>\n",
       "      <td>0</td>\n",
       "      <td>0</td>\n",
       "      <td>0</td>\n",
       "      <td>0</td>\n",
       "      <td>0</td>\n",
       "      <td>0</td>\n",
       "      <td>...</td>\n",
       "      <td>26</td>\n",
       "      <td>0.10</td>\n",
       "      <td>0.05</td>\n",
       "      <td>0.00</td>\n",
       "      <td>0.00</td>\n",
       "      <td>1.00</td>\n",
       "      <td>1.00</td>\n",
       "      <td>0.00</td>\n",
       "      <td>0.00</td>\n",
       "      <td>neptune</td>\n",
       "    </tr>\n",
       "    <tr>\n",
       "      <th>3</th>\n",
       "      <td>0</td>\n",
       "      <td>tcp</td>\n",
       "      <td>http</td>\n",
       "      <td>SF</td>\n",
       "      <td>232</td>\n",
       "      <td>8153</td>\n",
       "      <td>0</td>\n",
       "      <td>0</td>\n",
       "      <td>0</td>\n",
       "      <td>0</td>\n",
       "      <td>...</td>\n",
       "      <td>255</td>\n",
       "      <td>1.00</td>\n",
       "      <td>0.00</td>\n",
       "      <td>0.03</td>\n",
       "      <td>0.04</td>\n",
       "      <td>0.03</td>\n",
       "      <td>0.01</td>\n",
       "      <td>0.00</td>\n",
       "      <td>0.01</td>\n",
       "      <td>normal</td>\n",
       "    </tr>\n",
       "    <tr>\n",
       "      <th>4</th>\n",
       "      <td>0</td>\n",
       "      <td>tcp</td>\n",
       "      <td>http</td>\n",
       "      <td>SF</td>\n",
       "      <td>199</td>\n",
       "      <td>420</td>\n",
       "      <td>0</td>\n",
       "      <td>0</td>\n",
       "      <td>0</td>\n",
       "      <td>0</td>\n",
       "      <td>...</td>\n",
       "      <td>255</td>\n",
       "      <td>1.00</td>\n",
       "      <td>0.00</td>\n",
       "      <td>0.00</td>\n",
       "      <td>0.00</td>\n",
       "      <td>0.00</td>\n",
       "      <td>0.00</td>\n",
       "      <td>0.00</td>\n",
       "      <td>0.00</td>\n",
       "      <td>normal</td>\n",
       "    </tr>\n",
       "  </tbody>\n",
       "</table>\n",
       "<p>5 rows × 42 columns</p>\n",
       "</div>"
      ],
      "text/plain": [
       "   duration protocol_type   service flag  src_bytes  dst_bytes  land  \\\n",
       "0         0           tcp  ftp_data   SF        491          0     0   \n",
       "1         0           udp     other   SF        146          0     0   \n",
       "2         0           tcp   private   S0          0          0     0   \n",
       "3         0           tcp      http   SF        232       8153     0   \n",
       "4         0           tcp      http   SF        199        420     0   \n",
       "\n",
       "   wrong_fragment  urgent  hot  ...  dst_host_srv_count  \\\n",
       "0               0       0    0  ...                  25   \n",
       "1               0       0    0  ...                   1   \n",
       "2               0       0    0  ...                  26   \n",
       "3               0       0    0  ...                 255   \n",
       "4               0       0    0  ...                 255   \n",
       "\n",
       "   dst_host_same_srv_rate  dst_host_diff_srv_rate  \\\n",
       "0                    0.17                    0.03   \n",
       "1                    0.00                    0.60   \n",
       "2                    0.10                    0.05   \n",
       "3                    1.00                    0.00   \n",
       "4                    1.00                    0.00   \n",
       "\n",
       "   dst_host_same_src_port_rate  dst_host_srv_diff_host_rate  \\\n",
       "0                         0.17                         0.00   \n",
       "1                         0.88                         0.00   \n",
       "2                         0.00                         0.00   \n",
       "3                         0.03                         0.04   \n",
       "4                         0.00                         0.00   \n",
       "\n",
       "   dst_host_serror_rate  dst_host_srv_serror_rate  dst_host_rerror_rate  \\\n",
       "0                  0.00                      0.00                  0.05   \n",
       "1                  0.00                      0.00                  0.00   \n",
       "2                  1.00                      1.00                  0.00   \n",
       "3                  0.03                      0.01                  0.00   \n",
       "4                  0.00                      0.00                  0.00   \n",
       "\n",
       "   dst_host_srv_rerror_rate   target  \n",
       "0                      0.00   normal  \n",
       "1                      0.00   normal  \n",
       "2                      0.00  neptune  \n",
       "3                      0.01   normal  \n",
       "4                      0.00   normal  \n",
       "\n",
       "[5 rows x 42 columns]"
      ]
     },
     "execution_count": 6,
     "metadata": {},
     "output_type": "execute_result"
    }
   ],
   "source": [
    "df.head()"
   ]
  },
  {
   "cell_type": "code",
   "execution_count": 7,
   "id": "55dab8da-b0ab-40d7-a7b8-72fb965459cc",
   "metadata": {},
   "outputs": [],
   "source": [
    "protocol_dict = dict(zip(set(df['protocol_type']),np.arange(len(set(df['protocol_type'])))))\n",
    "service_dict = dict(zip(set(df['service']),np.arange(len(set(df['service'])))))\n",
    "flag_dict = dict(zip(set(df['flag']),np.arange(len(set(df['flag'])))))"
   ]
  },
  {
   "cell_type": "code",
   "execution_count": 8,
   "id": "0bdb4b00-8c4d-41eb-aefc-88c49de6ac8c",
   "metadata": {},
   "outputs": [],
   "source": [
    "# changing attack labels to their respective attack class\n",
    "def change_feature(df):\n",
    "    df.target.replace(['apache2','back','land','neptune','mailbomb','pod','processtable','smurf','teardrop','udpstorm','worm'],'Dos',inplace=True)\n",
    "    df.target.replace(['ftp_write','guess_passwd','httptunnel','imap','multihop','named','phf','sendmail','snmpgetattack','snmpguess','spy','warezclient','warezmaster','xlock','xsnoop'],'R2L',inplace=True)      \n",
    "    df.target.replace(['ipsweep','mscan','nmap','portsweep','saint','satan'],'Probe',inplace=True)\n",
    "    df.target.replace(['buffer_overflow','loadmodule','perl','ps','rootkit','sqlattack','xterm'],'U2R',inplace=True)\n",
    "    \n",
    "    df.protocol_type.replace(protocol_dict.keys(),protocol_dict.values(),inplace=True)\n",
    "    df.service.replace(service_dict.keys(),service_dict.values(),inplace=True)\n",
    "    df.flag.replace(flag_dict.keys(),flag_dict.values(),inplace=True)"
   ]
  },
  {
   "cell_type": "code",
   "execution_count": 9,
   "id": "d7967ffd-6d6d-4ab3-b30e-f42ed7f96d5f",
   "metadata": {},
   "outputs": [],
   "source": [
    "change_feature(df)"
   ]
  },
  {
   "cell_type": "code",
   "execution_count": 10,
   "id": "8b26c684-a757-4180-8e33-82979a2e216a",
   "metadata": {},
   "outputs": [],
   "source": [
    "target_dict = dict(zip(set(df['target']),np.arange(len(set(df['target'])))))"
   ]
  },
  {
   "cell_type": "code",
   "execution_count": 11,
   "id": "410c0811-b1dd-4b02-a3f5-2000c64e7000",
   "metadata": {},
   "outputs": [],
   "source": [
    "def change_target(df):\n",
    "    df.target.replace(target_dict.keys(),target_dict.values(),inplace=True)"
   ]
  },
  {
   "cell_type": "code",
   "execution_count": 12,
   "id": "34dd9a32-72fc-4ff2-a215-ce6bb0fb8086",
   "metadata": {},
   "outputs": [],
   "source": [
    "change_target(df)"
   ]
  },
  {
   "cell_type": "code",
   "execution_count": 13,
   "id": "f15b3693-fd32-4536-9fcd-9cbe1a6c1ec6",
   "metadata": {},
   "outputs": [
    {
     "data": {
      "text/html": [
       "<div>\n",
       "<style scoped>\n",
       "    .dataframe tbody tr th:only-of-type {\n",
       "        vertical-align: middle;\n",
       "    }\n",
       "\n",
       "    .dataframe tbody tr th {\n",
       "        vertical-align: top;\n",
       "    }\n",
       "\n",
       "    .dataframe thead th {\n",
       "        text-align: right;\n",
       "    }\n",
       "</style>\n",
       "<table border=\"1\" class=\"dataframe\">\n",
       "  <thead>\n",
       "    <tr style=\"text-align: right;\">\n",
       "      <th></th>\n",
       "      <th>duration</th>\n",
       "      <th>protocol_type</th>\n",
       "      <th>service</th>\n",
       "      <th>flag</th>\n",
       "      <th>src_bytes</th>\n",
       "      <th>dst_bytes</th>\n",
       "      <th>land</th>\n",
       "      <th>wrong_fragment</th>\n",
       "      <th>urgent</th>\n",
       "      <th>hot</th>\n",
       "      <th>...</th>\n",
       "      <th>dst_host_srv_count</th>\n",
       "      <th>dst_host_same_srv_rate</th>\n",
       "      <th>dst_host_diff_srv_rate</th>\n",
       "      <th>dst_host_same_src_port_rate</th>\n",
       "      <th>dst_host_srv_diff_host_rate</th>\n",
       "      <th>dst_host_serror_rate</th>\n",
       "      <th>dst_host_srv_serror_rate</th>\n",
       "      <th>dst_host_rerror_rate</th>\n",
       "      <th>dst_host_srv_rerror_rate</th>\n",
       "      <th>target</th>\n",
       "    </tr>\n",
       "  </thead>\n",
       "  <tbody>\n",
       "    <tr>\n",
       "      <th>0</th>\n",
       "      <td>0</td>\n",
       "      <td>1</td>\n",
       "      <td>7</td>\n",
       "      <td>7</td>\n",
       "      <td>491</td>\n",
       "      <td>0</td>\n",
       "      <td>0</td>\n",
       "      <td>0</td>\n",
       "      <td>0</td>\n",
       "      <td>0</td>\n",
       "      <td>...</td>\n",
       "      <td>25</td>\n",
       "      <td>0.17</td>\n",
       "      <td>0.03</td>\n",
       "      <td>0.17</td>\n",
       "      <td>0.00</td>\n",
       "      <td>0.00</td>\n",
       "      <td>0.00</td>\n",
       "      <td>0.05</td>\n",
       "      <td>0.00</td>\n",
       "      <td>0</td>\n",
       "    </tr>\n",
       "    <tr>\n",
       "      <th>1</th>\n",
       "      <td>0</td>\n",
       "      <td>0</td>\n",
       "      <td>55</td>\n",
       "      <td>7</td>\n",
       "      <td>146</td>\n",
       "      <td>0</td>\n",
       "      <td>0</td>\n",
       "      <td>0</td>\n",
       "      <td>0</td>\n",
       "      <td>0</td>\n",
       "      <td>...</td>\n",
       "      <td>1</td>\n",
       "      <td>0.00</td>\n",
       "      <td>0.60</td>\n",
       "      <td>0.88</td>\n",
       "      <td>0.00</td>\n",
       "      <td>0.00</td>\n",
       "      <td>0.00</td>\n",
       "      <td>0.00</td>\n",
       "      <td>0.00</td>\n",
       "      <td>0</td>\n",
       "    </tr>\n",
       "    <tr>\n",
       "      <th>2</th>\n",
       "      <td>0</td>\n",
       "      <td>1</td>\n",
       "      <td>67</td>\n",
       "      <td>8</td>\n",
       "      <td>0</td>\n",
       "      <td>0</td>\n",
       "      <td>0</td>\n",
       "      <td>0</td>\n",
       "      <td>0</td>\n",
       "      <td>0</td>\n",
       "      <td>...</td>\n",
       "      <td>26</td>\n",
       "      <td>0.10</td>\n",
       "      <td>0.05</td>\n",
       "      <td>0.00</td>\n",
       "      <td>0.00</td>\n",
       "      <td>1.00</td>\n",
       "      <td>1.00</td>\n",
       "      <td>0.00</td>\n",
       "      <td>0.00</td>\n",
       "      <td>2</td>\n",
       "    </tr>\n",
       "    <tr>\n",
       "      <th>3</th>\n",
       "      <td>0</td>\n",
       "      <td>1</td>\n",
       "      <td>17</td>\n",
       "      <td>7</td>\n",
       "      <td>232</td>\n",
       "      <td>8153</td>\n",
       "      <td>0</td>\n",
       "      <td>0</td>\n",
       "      <td>0</td>\n",
       "      <td>0</td>\n",
       "      <td>...</td>\n",
       "      <td>255</td>\n",
       "      <td>1.00</td>\n",
       "      <td>0.00</td>\n",
       "      <td>0.03</td>\n",
       "      <td>0.04</td>\n",
       "      <td>0.03</td>\n",
       "      <td>0.01</td>\n",
       "      <td>0.00</td>\n",
       "      <td>0.01</td>\n",
       "      <td>0</td>\n",
       "    </tr>\n",
       "    <tr>\n",
       "      <th>4</th>\n",
       "      <td>0</td>\n",
       "      <td>1</td>\n",
       "      <td>17</td>\n",
       "      <td>7</td>\n",
       "      <td>199</td>\n",
       "      <td>420</td>\n",
       "      <td>0</td>\n",
       "      <td>0</td>\n",
       "      <td>0</td>\n",
       "      <td>0</td>\n",
       "      <td>...</td>\n",
       "      <td>255</td>\n",
       "      <td>1.00</td>\n",
       "      <td>0.00</td>\n",
       "      <td>0.00</td>\n",
       "      <td>0.00</td>\n",
       "      <td>0.00</td>\n",
       "      <td>0.00</td>\n",
       "      <td>0.00</td>\n",
       "      <td>0.00</td>\n",
       "      <td>0</td>\n",
       "    </tr>\n",
       "  </tbody>\n",
       "</table>\n",
       "<p>5 rows × 42 columns</p>\n",
       "</div>"
      ],
      "text/plain": [
       "   duration  protocol_type  service  flag  src_bytes  dst_bytes  land  \\\n",
       "0         0              1        7     7        491          0     0   \n",
       "1         0              0       55     7        146          0     0   \n",
       "2         0              1       67     8          0          0     0   \n",
       "3         0              1       17     7        232       8153     0   \n",
       "4         0              1       17     7        199        420     0   \n",
       "\n",
       "   wrong_fragment  urgent  hot  ...  dst_host_srv_count  \\\n",
       "0               0       0    0  ...                  25   \n",
       "1               0       0    0  ...                   1   \n",
       "2               0       0    0  ...                  26   \n",
       "3               0       0    0  ...                 255   \n",
       "4               0       0    0  ...                 255   \n",
       "\n",
       "   dst_host_same_srv_rate  dst_host_diff_srv_rate  \\\n",
       "0                    0.17                    0.03   \n",
       "1                    0.00                    0.60   \n",
       "2                    0.10                    0.05   \n",
       "3                    1.00                    0.00   \n",
       "4                    1.00                    0.00   \n",
       "\n",
       "   dst_host_same_src_port_rate  dst_host_srv_diff_host_rate  \\\n",
       "0                         0.17                         0.00   \n",
       "1                         0.88                         0.00   \n",
       "2                         0.00                         0.00   \n",
       "3                         0.03                         0.04   \n",
       "4                         0.00                         0.00   \n",
       "\n",
       "   dst_host_serror_rate  dst_host_srv_serror_rate  dst_host_rerror_rate  \\\n",
       "0                  0.00                      0.00                  0.05   \n",
       "1                  0.00                      0.00                  0.00   \n",
       "2                  1.00                      1.00                  0.00   \n",
       "3                  0.03                      0.01                  0.00   \n",
       "4                  0.00                      0.00                  0.00   \n",
       "\n",
       "   dst_host_srv_rerror_rate  target  \n",
       "0                      0.00       0  \n",
       "1                      0.00       0  \n",
       "2                      0.00       2  \n",
       "3                      0.01       0  \n",
       "4                      0.00       0  \n",
       "\n",
       "[5 rows x 42 columns]"
      ]
     },
     "execution_count": 13,
     "metadata": {},
     "output_type": "execute_result"
    }
   ],
   "source": [
    "df.head()"
   ]
  },
  {
   "cell_type": "code",
   "execution_count": 14,
   "id": "ab5c5615-fa58-4c6d-8df5-73bcc9d24fa1",
   "metadata": {},
   "outputs": [],
   "source": [
    "df_lis = np.array(df.values.tolist())"
   ]
  },
  {
   "cell_type": "code",
   "execution_count": 15,
   "id": "a707a55d-2191-4b28-853c-a40ebb4f7bb5",
   "metadata": {},
   "outputs": [],
   "source": [
    "from scipy.stats import pearsonr"
   ]
  },
  {
   "cell_type": "code",
   "execution_count": 16,
   "id": "e96b6b0e-e8fb-4d08-a3a9-fe6aaf185ef3",
   "metadata": {},
   "outputs": [],
   "source": [
    "features = np.array(df_lis[:,:-1])\n",
    "labels = np.array(df_lis[:,-1])"
   ]
  },
  {
   "cell_type": "code",
   "execution_count": 17,
   "id": "9a3040b2-73dc-4f35-84be-ea0dd7421534",
   "metadata": {},
   "outputs": [
    {
     "name": "stderr",
     "output_type": "stream",
     "text": [
      "C:\\Users\\ArrunPersonal\\anaconda3\\lib\\site-packages\\scipy\\stats\\stats.py:4023: PearsonRConstantInputWarning: An input array is constant; the correlation coefficient is not defined.\n",
      "  warnings.warn(PearsonRConstantInputWarning())\n"
     ]
    }
   ],
   "source": [
    "scores = [abs(pearsonr(features[:,i],labels)[0]) for i in range(np.shape(features)[1])]"
   ]
  },
  {
   "cell_type": "code",
   "execution_count": 18,
   "id": "7a15f2be-6ab2-4d38-8aaa-4247757c8a9c",
   "metadata": {
    "scrolled": true,
    "tags": []
   },
   "outputs": [
    {
     "data": {
      "text/plain": [
       "[0.09879249098157111,\n",
       " 0.29398987893450257,\n",
       " 0.5810029318291994,\n",
       " 0.11343758185911926,\n",
       " 0.01035063735364418,\n",
       " 0.006969440882500329,\n",
       " 0.004885692782676939,\n",
       " 0.07434092627500252,\n",
       " 0.0007365994723351796,\n",
       " 0.03260639773773422,\n",
       " 0.011682072174486564,\n",
       " 0.6444911029702094,\n",
       " 0.009852352298868848,\n",
       " 0.02353165942269988,\n",
       " 0.021329476673873724,\n",
       " 0.01097616123943684,\n",
       " 0.020085866886687915,\n",
       " 0.009592738754889326,\n",
       " 0.03417455978123474,\n",
       " 0,\n",
       " 0.0025293292280558427,\n",
       " 0.0015628080293833711,\n",
       " 0.48243517466329183,\n",
       " 0.02245462957892648,\n",
       " 0.5102107392755244,\n",
       " 0.5075202303053715,\n",
       " 0.2948864717371978,\n",
       " 0.2956354371442021,\n",
       " 0.6314716823001727,\n",
       " 0.2571413079590463,\n",
       " 0.04465460955785791,\n",
       " 0.28124735413498475,\n",
       " 0.6845725807514023,\n",
       " 0.6153417066873342,\n",
       " 0.33977904829344063,\n",
       " 0.22932764918963175,\n",
       " 0.1700103661263052,\n",
       " 0.51113157487048,\n",
       " 0.5140568288132346,\n",
       " 0.2854887928614002,\n",
       " 0.2957973200159718]"
      ]
     },
     "execution_count": 18,
     "metadata": {},
     "output_type": "execute_result"
    }
   ],
   "source": [
    "scores[19] = 0\n",
    "scores"
   ]
  },
  {
   "cell_type": "code",
   "execution_count": 19,
   "id": "41c1ec72-0258-494c-96c4-ca229b9bbf0c",
   "metadata": {},
   "outputs": [],
   "source": [
    "act_features = []\n",
    "act_indices = []\n",
    "for i in range(len(scores)):\n",
    "    if(scores[i]> 0.1):\n",
    "        act_indices.append(i)\n",
    "        act_features.append(features[:,i])"
   ]
  },
  {
   "cell_type": "code",
   "execution_count": 20,
   "id": "8c323560-d3bb-44a0-9767-2d2dfab4abd9",
   "metadata": {},
   "outputs": [],
   "source": [
    "act_features = np.array(act_features).T"
   ]
  },
  {
   "cell_type": "code",
   "execution_count": 21,
   "id": "0327c182-992c-471d-9ba8-2f3a403f68bc",
   "metadata": {},
   "outputs": [
    {
     "data": {
      "text/plain": [
       "(125973, 21)"
      ]
     },
     "execution_count": 21,
     "metadata": {},
     "output_type": "execute_result"
    }
   ],
   "source": [
    "for i in range(np.shape(act_features)[1]):\n",
    "    if(np.std(act_features[:,i])!=0):\n",
    "        act_features[:,i] = (act_features[:,i]-np.mean(act_features[:,i]))/np.std(act_features[:,i]) \n",
    "    else:\n",
    "        act_features[:,i] = (act_features[:,i]-np.mean(act_features[:,i]))\n",
    "np.shape(act_features)"
   ]
  },
  {
   "cell_type": "code",
   "execution_count": 23,
   "id": "630656a7-3b1e-4940-a8ce-45c6c0b6b89c",
   "metadata": {},
   "outputs": [
    {
     "data": {
      "text/plain": [
       "((125973, 21), (125973,))"
      ]
     },
     "execution_count": 23,
     "metadata": {},
     "output_type": "execute_result"
    }
   ],
   "source": [
    "np.shape(act_features),np.shape(labels)"
   ]
  },
  {
   "cell_type": "code",
   "execution_count": 24,
   "id": "d78baa13-62d0-44f9-9d21-6aa62fc80008",
   "metadata": {},
   "outputs": [],
   "source": [
    "from sklearn.model_selection import train_test_split "
   ]
  },
  {
   "cell_type": "code",
   "execution_count": 28,
   "id": "f8b46c82-300e-4cc2-ae5c-f1c485578633",
   "metadata": {},
   "outputs": [],
   "source": [
    "train_X, test_X , train_Y ,test_Y = train_test_split(act_features,labels,random_state = 42,test_size = 0.1)"
   ]
  },
  {
   "cell_type": "code",
   "execution_count": 29,
   "id": "cb8fe055-378f-4de0-9175-d60f11884caa",
   "metadata": {},
   "outputs": [
    {
     "data": {
      "text/plain": [
       "{0.0, 1.0, 2.0, 3.0, 4.0}"
      ]
     },
     "execution_count": 29,
     "metadata": {},
     "output_type": "execute_result"
    }
   ],
   "source": [
    "set(train_Y)"
   ]
  },
  {
   "cell_type": "code",
   "execution_count": 30,
   "id": "47ba8e9a-7891-4de2-a9ab-b1efa262291a",
   "metadata": {},
   "outputs": [
    {
     "name": "stdout",
     "output_type": "stream",
     "text": [
      "(113375, 21) (12598, 21) (113375,) (12598,)\n"
     ]
    }
   ],
   "source": [
    "print(np.shape(train_X),np.shape(test_X),np.shape(train_Y),np.shape(test_Y))"
   ]
  },
  {
   "cell_type": "markdown",
   "id": "a7ca5b2f-40a8-4f6f-9d4d-885632699f7e",
   "metadata": {},
   "source": [
    "# Stacked Attention Auto Encoder"
   ]
  },
  {
   "cell_type": "markdown",
   "id": "22de135a-8483-476f-bf21-29658e15e464",
   "metadata": {},
   "source": [
    "### First Stack"
   ]
  },
  {
   "cell_type": "code",
   "execution_count": 31,
   "id": "5cbdc2d6-0d68-43c5-b86d-8789714290ac",
   "metadata": {},
   "outputs": [],
   "source": [
    "from keras.layers import *\n",
    "from keras.models import Model\n",
    "from keras_self_attention import SeqSelfAttention"
   ]
  },
  {
   "cell_type": "code",
   "execution_count": 32,
   "id": "d86da138-a431-47fe-90cf-085690cfafce",
   "metadata": {},
   "outputs": [
    {
     "name": "stderr",
     "output_type": "stream",
     "text": [
      "C:\\Users\\ArrunPersonal\\anaconda3\\lib\\site-packages\\keras\\initializers\\initializers_v2.py:120: UserWarning: The initializer GlorotNormal is unseeded and being called multiple times, which will return identical values  each time (even if the initializer is unseeded). Please update your code to provide a seed to the initializer, or avoid using the same initalizer instance more than once.\n",
      "  warnings.warn(\n"
     ]
    }
   ],
   "source": [
    "batch_size = 32\n",
    "input_dim = np.shape(train_X)[1]\n",
    "#Input Layer\n",
    "\n",
    "input_layer = Input(shape=(input_dim,1), name='input')\n",
    "#Attention Mechanism\n",
    "embedding = Embedding(input_dim=input_dim, output_dim=256)(input_layer)\n",
    "LSTM_layer = LSTM(units=128,return_sequences=True)(input_layer)\n",
    "attention = SeqSelfAttention(attention_activation='sigmoid')(input_layer)\n",
    "flatten = Flatten()(attention)\n",
    "#Encoder’s first dense layer\n",
    "encoder = Dense (128, activation='relu')(flatten)\n",
    "#Encoder’s second dense layer\n",
    "encoder = Dense (64, activation='relu')(encoder)\n",
    "# Code layer\n",
    "latent_layer = Dense (32, activation='relu',name = 'latent_1')(encoder)\n",
    "# Decoder’s first dense layer\n",
    "decoder = Dense(64, activation='relu')(latent_layer)\n",
    "# Decoder’s second dense layer\n",
    "decoder = Dense(128, activation='relu')(decoder)\n",
    "# Decoder’s Third dense layer\n",
    "decoder = Dense(256, activation='relu')(decoder)\n",
    "# Output Layer\n",
    "decoder = Dense(input_dim, activation='relu')(decoder)"
   ]
  },
  {
   "cell_type": "code",
   "execution_count": 33,
   "id": "44e82ea0-c414-4c62-b6b7-b264d2a8d50d",
   "metadata": {},
   "outputs": [],
   "source": [
    "autoencoder_1 = Model(inputs=input_layer, outputs=decoder)\n",
    "autoencoder_1.compile(metrics=['accuracy'],loss='mse',optimizer='adam')"
   ]
  },
  {
   "cell_type": "code",
   "execution_count": 34,
   "id": "b2dc9457-16b6-4196-a168-1a68bf872132",
   "metadata": {},
   "outputs": [
    {
     "name": "stdout",
     "output_type": "stream",
     "text": [
      "Model: \"model\"\n",
      "_________________________________________________________________\n",
      " Layer (type)                Output Shape              Param #   \n",
      "=================================================================\n",
      " input (InputLayer)          [(None, 21, 1)]           0         \n",
      "                                                                 \n",
      " seq_self_attention (SeqSelf  (None, 21, 1)            129       \n",
      " Attention)                                                      \n",
      "                                                                 \n",
      " flatten (Flatten)           (None, 21)                0         \n",
      "                                                                 \n",
      " dense (Dense)               (None, 128)               2816      \n",
      "                                                                 \n",
      " dense_1 (Dense)             (None, 64)                8256      \n",
      "                                                                 \n",
      " latent_1 (Dense)            (None, 32)                2080      \n",
      "                                                                 \n",
      " dense_2 (Dense)             (None, 64)                2112      \n",
      "                                                                 \n",
      " dense_3 (Dense)             (None, 128)               8320      \n",
      "                                                                 \n",
      " dense_4 (Dense)             (None, 256)               33024     \n",
      "                                                                 \n",
      " dense_5 (Dense)             (None, 21)                5397      \n",
      "                                                                 \n",
      "=================================================================\n",
      "Total params: 62,134\n",
      "Trainable params: 62,134\n",
      "Non-trainable params: 0\n",
      "_________________________________________________________________\n"
     ]
    }
   ],
   "source": [
    "autoencoder_1.summary()"
   ]
  },
  {
   "cell_type": "code",
   "execution_count": 35,
   "id": "6cc6c2f4-c05d-48eb-b44f-76fcf2b1127a",
   "metadata": {},
   "outputs": [],
   "source": [
    "callback = tf.keras.callbacks.EarlyStopping(monitor='val_loss', patience=8,restore_best_weights=True)"
   ]
  },
  {
   "cell_type": "code",
   "execution_count": 36,
   "id": "e417685c-9443-49e3-8a06-cad73ce75718",
   "metadata": {
    "tags": []
   },
   "outputs": [
    {
     "name": "stdout",
     "output_type": "stream",
     "text": [
      "Epoch 1/100\n",
      "3543/3543 [==============================] - 29s 7ms/step - loss: 0.6679 - accuracy: 0.4260 - val_loss: 0.6558 - val_accuracy: 0.4205\n",
      "Epoch 2/100\n",
      "3543/3543 [==============================] - 26s 7ms/step - loss: 0.6527 - accuracy: 0.4431 - val_loss: 0.6555 - val_accuracy: 0.4515\n",
      "Epoch 3/100\n",
      "3543/3543 [==============================] - 26s 7ms/step - loss: 0.6469 - accuracy: 0.4458 - val_loss: 0.6346 - val_accuracy: 0.4602\n",
      "Epoch 4/100\n",
      "3543/3543 [==============================] - 26s 7ms/step - loss: 0.6325 - accuracy: 0.4537 - val_loss: 0.6343 - val_accuracy: 0.4490\n",
      "Epoch 5/100\n",
      "3543/3543 [==============================] - 26s 7ms/step - loss: 0.6321 - accuracy: 0.4557 - val_loss: 0.6330 - val_accuracy: 0.4555\n",
      "Epoch 6/100\n",
      "3543/3543 [==============================] - 26s 7ms/step - loss: 0.6312 - accuracy: 0.4562 - val_loss: 0.6339 - val_accuracy: 0.4583\n",
      "Epoch 7/100\n",
      "3543/3543 [==============================] - 26s 7ms/step - loss: 0.6312 - accuracy: 0.4566 - val_loss: 0.6331 - val_accuracy: 0.4498\n",
      "Epoch 8/100\n",
      "3543/3543 [==============================] - 27s 8ms/step - loss: 0.6308 - accuracy: 0.4582 - val_loss: 0.6330 - val_accuracy: 0.4609\n",
      "Epoch 9/100\n",
      "3543/3543 [==============================] - 27s 8ms/step - loss: 0.6309 - accuracy: 0.4578 - val_loss: 0.6336 - val_accuracy: 0.4599\n",
      "Epoch 10/100\n",
      "3543/3543 [==============================] - 27s 8ms/step - loss: 0.6307 - accuracy: 0.4578 - val_loss: 0.6325 - val_accuracy: 0.4484\n",
      "Epoch 11/100\n",
      "3543/3543 [==============================] - 27s 8ms/step - loss: 0.6306 - accuracy: 0.4590 - val_loss: 0.6334 - val_accuracy: 0.4592\n",
      "Epoch 12/100\n",
      "3543/3543 [==============================] - 27s 7ms/step - loss: 0.6305 - accuracy: 0.4592 - val_loss: 0.6322 - val_accuracy: 0.4553\n",
      "Epoch 13/100\n",
      "3543/3543 [==============================] - 26s 7ms/step - loss: 0.6263 - accuracy: 0.4640 - val_loss: 0.5930 - val_accuracy: 0.5282\n",
      "Epoch 14/100\n",
      "3543/3543 [==============================] - 27s 7ms/step - loss: 0.5754 - accuracy: 0.5854 - val_loss: 0.5578 - val_accuracy: 0.6830\n",
      "Epoch 15/100\n",
      "3543/3543 [==============================] - 26s 7ms/step - loss: 0.5550 - accuracy: 0.6820 - val_loss: 0.5579 - val_accuracy: 0.7210\n",
      "Epoch 16/100\n",
      "3543/3543 [==============================] - 27s 8ms/step - loss: 0.5547 - accuracy: 0.6888 - val_loss: 0.5576 - val_accuracy: 0.5737\n",
      "Epoch 17/100\n",
      "3543/3543 [==============================] - 27s 7ms/step - loss: 0.5406 - accuracy: 0.6747 - val_loss: 0.5239 - val_accuracy: 0.7440\n",
      "Epoch 18/100\n",
      "3543/3543 [==============================] - 27s 8ms/step - loss: 0.5210 - accuracy: 0.6599 - val_loss: 0.5237 - val_accuracy: 0.6195\n",
      "Epoch 19/100\n",
      "3543/3543 [==============================] - 27s 8ms/step - loss: 0.5209 - accuracy: 0.6684 - val_loss: 0.5238 - val_accuracy: 0.7317\n",
      "Epoch 20/100\n",
      "3543/3543 [==============================] - 26s 7ms/step - loss: 0.5207 - accuracy: 0.6815 - val_loss: 0.5239 - val_accuracy: 0.7082\n",
      "Epoch 21/100\n",
      "3543/3543 [==============================] - 20s 6ms/step - loss: 0.5208 - accuracy: 0.6818 - val_loss: 0.5236 - val_accuracy: 0.7353\n",
      "Epoch 22/100\n",
      "3543/3543 [==============================] - 14s 4ms/step - loss: 0.5208 - accuracy: 0.6826 - val_loss: 0.5353 - val_accuracy: 0.5358\n",
      "Epoch 23/100\n",
      "3543/3543 [==============================] - 16s 4ms/step - loss: 0.5208 - accuracy: 0.6902 - val_loss: 0.5236 - val_accuracy: 0.6126\n",
      "Epoch 24/100\n",
      "3543/3543 [==============================] - 29s 8ms/step - loss: 0.5207 - accuracy: 0.6789 - val_loss: 0.5239 - val_accuracy: 0.5308\n",
      "Epoch 25/100\n",
      "3543/3543 [==============================] - 28s 8ms/step - loss: 0.5205 - accuracy: 0.6865 - val_loss: 0.5232 - val_accuracy: 0.6807\n",
      "Epoch 26/100\n",
      "3543/3543 [==============================] - 27s 8ms/step - loss: 0.5202 - accuracy: 0.6854 - val_loss: 0.5230 - val_accuracy: 0.7505\n",
      "Epoch 27/100\n",
      "3543/3543 [==============================] - 27s 8ms/step - loss: 0.5203 - accuracy: 0.6867 - val_loss: 0.5235 - val_accuracy: 0.7232\n",
      "Epoch 28/100\n",
      "3543/3543 [==============================] - 27s 8ms/step - loss: 0.5202 - accuracy: 0.6938 - val_loss: 0.5230 - val_accuracy: 0.7202\n",
      "Epoch 29/100\n",
      "3543/3543 [==============================] - 27s 8ms/step - loss: 0.5202 - accuracy: 0.6955 - val_loss: 0.5236 - val_accuracy: 0.5430\n",
      "Epoch 30/100\n",
      "3543/3543 [==============================] - 27s 8ms/step - loss: 0.5201 - accuracy: 0.6917 - val_loss: 0.5231 - val_accuracy: 0.6881\n",
      "Epoch 31/100\n",
      "3543/3543 [==============================] - 27s 8ms/step - loss: 0.5201 - accuracy: 0.6955 - val_loss: 0.5235 - val_accuracy: 0.6099\n",
      "Epoch 32/100\n",
      "3543/3543 [==============================] - 27s 8ms/step - loss: 0.5201 - accuracy: 0.6930 - val_loss: 0.5228 - val_accuracy: 0.7252\n",
      "Epoch 33/100\n",
      "3543/3543 [==============================] - 27s 8ms/step - loss: 0.5201 - accuracy: 0.6941 - val_loss: 0.5239 - val_accuracy: 0.6701\n",
      "Epoch 34/100\n",
      "3543/3543 [==============================] - 27s 8ms/step - loss: 0.5200 - accuracy: 0.6959 - val_loss: 0.5229 - val_accuracy: 0.7294\n",
      "Epoch 35/100\n",
      "3543/3543 [==============================] - 27s 8ms/step - loss: 0.5200 - accuracy: 0.7021 - val_loss: 0.5228 - val_accuracy: 0.7374\n",
      "Epoch 36/100\n",
      "3543/3543 [==============================] - 27s 8ms/step - loss: 0.5200 - accuracy: 0.7013 - val_loss: 0.5230 - val_accuracy: 0.7319\n",
      "Epoch 37/100\n",
      "3543/3543 [==============================] - 27s 8ms/step - loss: 0.5200 - accuracy: 0.6996 - val_loss: 0.5224 - val_accuracy: 0.7219\n",
      "Epoch 38/100\n",
      "3543/3543 [==============================] - 27s 8ms/step - loss: 0.5191 - accuracy: 0.7035 - val_loss: 0.5223 - val_accuracy: 0.6548\n",
      "Epoch 39/100\n",
      "3543/3543 [==============================] - 28s 8ms/step - loss: 0.5191 - accuracy: 0.7070 - val_loss: 0.5231 - val_accuracy: 0.6284\n",
      "Epoch 40/100\n",
      "3543/3543 [==============================] - 27s 8ms/step - loss: 0.5193 - accuracy: 0.7033 - val_loss: 0.5222 - val_accuracy: 0.7543\n",
      "Epoch 41/100\n",
      "3543/3543 [==============================] - 27s 8ms/step - loss: 0.5193 - accuracy: 0.6967 - val_loss: 0.5223 - val_accuracy: 0.7114\n",
      "Epoch 42/100\n",
      "3543/3543 [==============================] - 27s 8ms/step - loss: 0.5192 - accuracy: 0.7096 - val_loss: 0.5222 - val_accuracy: 0.7519\n",
      "Epoch 43/100\n",
      "3543/3543 [==============================] - 26s 7ms/step - loss: 0.5191 - accuracy: 0.7109 - val_loss: 0.5222 - val_accuracy: 0.7598\n",
      "Epoch 44/100\n",
      "3543/3543 [==============================] - 27s 8ms/step - loss: 0.5191 - accuracy: 0.7090 - val_loss: 0.5228 - val_accuracy: 0.6767\n",
      "Epoch 45/100\n",
      "3543/3543 [==============================] - 27s 8ms/step - loss: 0.5192 - accuracy: 0.7083 - val_loss: 0.5222 - val_accuracy: 0.7548\n",
      "Epoch 46/100\n",
      "3543/3543 [==============================] - 27s 7ms/step - loss: 0.5193 - accuracy: 0.7066 - val_loss: 0.5227 - val_accuracy: 0.6162\n",
      "Epoch 47/100\n",
      "3543/3543 [==============================] - 27s 8ms/step - loss: 0.5191 - accuracy: 0.7119 - val_loss: 0.5222 - val_accuracy: 0.6828\n",
      "Epoch 48/100\n",
      "3543/3543 [==============================] - 27s 8ms/step - loss: 0.5190 - accuracy: 0.7115 - val_loss: 0.5220 - val_accuracy: 0.7453\n",
      "Epoch 49/100\n",
      "3543/3543 [==============================] - 27s 8ms/step - loss: 0.5191 - accuracy: 0.7134 - val_loss: 0.5222 - val_accuracy: 0.5637\n",
      "Epoch 50/100\n",
      "3543/3543 [==============================] - 27s 8ms/step - loss: 0.5191 - accuracy: 0.7093 - val_loss: 0.5222 - val_accuracy: 0.7548\n",
      "Epoch 51/100\n",
      "3543/3543 [==============================] - 27s 8ms/step - loss: 0.5192 - accuracy: 0.7082 - val_loss: 0.5229 - val_accuracy: 0.6052\n",
      "Epoch 52/100\n",
      "3543/3543 [==============================] - 27s 8ms/step - loss: 0.5191 - accuracy: 0.7070 - val_loss: 0.5221 - val_accuracy: 0.5800\n",
      "Epoch 53/100\n",
      "3543/3543 [==============================] - 27s 8ms/step - loss: 0.4857 - accuracy: 0.7406 - val_loss: 0.4822 - val_accuracy: 0.7314\n",
      "Epoch 54/100\n",
      "3543/3543 [==============================] - 27s 8ms/step - loss: 0.4803 - accuracy: 0.7556 - val_loss: 0.4824 - val_accuracy: 0.8012\n",
      "Epoch 55/100\n",
      "3543/3543 [==============================] - 27s 8ms/step - loss: 0.4798 - accuracy: 0.7583 - val_loss: 0.4813 - val_accuracy: 0.7689\n",
      "Epoch 56/100\n",
      "3543/3543 [==============================] - 27s 8ms/step - loss: 0.4795 - accuracy: 0.7648 - val_loss: 0.4816 - val_accuracy: 0.7562\n",
      "Epoch 57/100\n",
      "3543/3543 [==============================] - 27s 8ms/step - loss: 0.4795 - accuracy: 0.7571 - val_loss: 0.4814 - val_accuracy: 0.7870\n",
      "Epoch 58/100\n",
      "3543/3543 [==============================] - 27s 8ms/step - loss: 0.4794 - accuracy: 0.7604 - val_loss: 0.4815 - val_accuracy: 0.7057\n",
      "Epoch 59/100\n",
      "3543/3543 [==============================] - 27s 8ms/step - loss: 0.4793 - accuracy: 0.7640 - val_loss: 0.4816 - val_accuracy: 0.7257\n",
      "Epoch 60/100\n",
      "3543/3543 [==============================] - 27s 8ms/step - loss: 0.4794 - accuracy: 0.7619 - val_loss: 0.4812 - val_accuracy: 0.8035\n",
      "Epoch 61/100\n",
      "3543/3543 [==============================] - 27s 8ms/step - loss: 0.4794 - accuracy: 0.7620 - val_loss: 0.4821 - val_accuracy: 0.8006\n",
      "Epoch 62/100\n",
      "3543/3543 [==============================] - 27s 8ms/step - loss: 0.4794 - accuracy: 0.7661 - val_loss: 0.4812 - val_accuracy: 0.8044\n",
      "Epoch 63/100\n",
      "3543/3543 [==============================] - 27s 8ms/step - loss: 0.4793 - accuracy: 0.7656 - val_loss: 0.4829 - val_accuracy: 0.6619\n",
      "Epoch 64/100\n",
      "3543/3543 [==============================] - 27s 8ms/step - loss: 0.4793 - accuracy: 0.7684 - val_loss: 0.4818 - val_accuracy: 0.7079\n",
      "Epoch 65/100\n",
      "3543/3543 [==============================] - 27s 8ms/step - loss: 0.4794 - accuracy: 0.7652 - val_loss: 0.4825 - val_accuracy: 0.7930\n",
      "Epoch 66/100\n",
      "3543/3543 [==============================] - 27s 8ms/step - loss: 0.4793 - accuracy: 0.7715 - val_loss: 0.4814 - val_accuracy: 0.7553\n",
      "Epoch 67/100\n",
      "3543/3543 [==============================] - 19s 5ms/step - loss: 0.4792 - accuracy: 0.7704 - val_loss: 0.4811 - val_accuracy: 0.8107\n",
      "Epoch 68/100\n",
      "3543/3543 [==============================] - 14s 4ms/step - loss: 0.4792 - accuracy: 0.7660 - val_loss: 0.4815 - val_accuracy: 0.6946\n",
      "Epoch 69/100\n",
      "3543/3543 [==============================] - 19s 5ms/step - loss: 0.4792 - accuracy: 0.7683 - val_loss: 0.4815 - val_accuracy: 0.7363\n",
      "Epoch 70/100\n",
      "3543/3543 [==============================] - 27s 8ms/step - loss: 0.4793 - accuracy: 0.7686 - val_loss: 0.4811 - val_accuracy: 0.8071\n",
      "Epoch 71/100\n",
      "3543/3543 [==============================] - 28s 8ms/step - loss: 0.4791 - accuracy: 0.7722 - val_loss: 0.4811 - val_accuracy: 0.8136\n",
      "Epoch 72/100\n",
      "3543/3543 [==============================] - 27s 8ms/step - loss: 0.4794 - accuracy: 0.7681 - val_loss: 0.4809 - val_accuracy: 0.8158\n",
      "Epoch 73/100\n",
      "3543/3543 [==============================] - 27s 8ms/step - loss: 0.4792 - accuracy: 0.7736 - val_loss: 0.4811 - val_accuracy: 0.8060\n",
      "Epoch 74/100\n",
      "3543/3543 [==============================] - 30s 9ms/step - loss: 0.4793 - accuracy: 0.7692 - val_loss: 0.4812 - val_accuracy: 0.8130\n",
      "Epoch 75/100\n",
      "3543/3543 [==============================] - 29s 8ms/step - loss: 0.4792 - accuracy: 0.7681 - val_loss: 0.4815 - val_accuracy: 0.8081\n",
      "Epoch 76/100\n",
      "3543/3543 [==============================] - 28s 8ms/step - loss: 0.4792 - accuracy: 0.7719 - val_loss: 0.4811 - val_accuracy: 0.8144\n",
      "Epoch 77/100\n",
      "3543/3543 [==============================] - 27s 8ms/step - loss: 0.4792 - accuracy: 0.7767 - val_loss: 0.4811 - val_accuracy: 0.8185\n",
      "Epoch 78/100\n",
      "3543/3543 [==============================] - 28s 8ms/step - loss: 0.4794 - accuracy: 0.7607 - val_loss: 0.4812 - val_accuracy: 0.6846\n",
      "Epoch 79/100\n",
      "3543/3543 [==============================] - 27s 8ms/step - loss: 0.4791 - accuracy: 0.7811 - val_loss: 0.4810 - val_accuracy: 0.7748\n",
      "Epoch 80/100\n",
      "3543/3543 [==============================] - 28s 8ms/step - loss: 0.4793 - accuracy: 0.7702 - val_loss: 0.4812 - val_accuracy: 0.8151\n"
     ]
    }
   ],
   "source": [
    "stack_1 = autoencoder_1.fit(train_X, train_X, epochs=100, batch_size=batch_size,validation_data = (test_X,test_X),callbacks = [callback])"
   ]
  },
  {
   "cell_type": "code",
   "execution_count": 37,
   "id": "e1649f9d-8bad-4b97-869f-e36ad74dec74",
   "metadata": {},
   "outputs": [
    {
     "name": "stdout",
     "output_type": "stream",
     "text": [
      "3937/3937 [==============================] - 14s 3ms/step\n"
     ]
    }
   ],
   "source": [
    "pred = autoencoder_1.predict(act_features)"
   ]
  },
  {
   "cell_type": "code",
   "execution_count": 38,
   "id": "7120ddc2-e9b4-4b5e-96a7-b349dcc06716",
   "metadata": {},
   "outputs": [],
   "source": [
    "from sklearn.metrics import *\n",
    "import keras"
   ]
  },
  {
   "cell_type": "code",
   "execution_count": 39,
   "id": "17b7ee1c-a309-40c0-ae0d-e23f39a29744",
   "metadata": {},
   "outputs": [
    {
     "data": {
      "text/plain": [
       "0.4791004895182531"
      ]
     },
     "execution_count": 39,
     "metadata": {},
     "output_type": "execute_result"
    }
   ],
   "source": [
    "np.sum(keras.losses.mean_squared_error(pred,act_features))/len(act_features)"
   ]
  },
  {
   "cell_type": "code",
   "execution_count": 40,
   "id": "68e44617-4d08-4b58-8846-6269ccd65304",
   "metadata": {},
   "outputs": [
    {
     "name": "stdout",
     "output_type": "stream",
     "text": [
      "3937/3937 [==============================] - 11s 3ms/step\n"
     ]
    }
   ],
   "source": [
    "layer_name = 'latent_1'\n",
    "intermediate_layer_model = Model(inputs=autoencoder_1.input,\n",
    "                                 outputs=autoencoder_1.get_layer(layer_name).output)\n",
    "intermediate_output_1 = intermediate_layer_model.predict(act_features)"
   ]
  },
  {
   "cell_type": "markdown",
   "id": "51066f18-39f8-4893-b3bc-04e17551dfff",
   "metadata": {},
   "source": [
    "### Second Stack"
   ]
  },
  {
   "cell_type": "code",
   "execution_count": 41,
   "id": "abdc2508-a574-4e06-bd97-8ba907761bc4",
   "metadata": {},
   "outputs": [],
   "source": [
    "batch_size = 32\n",
    "input_dim = np.shape(intermediate_output_1)[1]\n",
    "input_layer = Input(shape=(input_dim), name='input')\n",
    "#Input Layer\n",
    "encoder = Dense (128, activation='relu')(input_layer)\n",
    "#Encoder’s first dense layer\n",
    "encoder = Dense (64, activation='relu')(encoder)\n",
    "#Encoder’s second dense layer\n",
    "encoder = Dense (32, activation='relu')(encoder)\n",
    "# Code layer\n",
    "latent_layer = Dense (16, activation='relu',name = 'latent_2')(encoder)\n",
    "# Decoder’s first dense layer\n",
    "decoder = Dense(32, activation='relu')(latent_layer)\n",
    "# Decoder’s second dense layer\n",
    "decoder = Dense(64, activation='relu')(decoder)\n",
    "# Decoder’s Third dense layer\n",
    "decoder = Dense(128, activation='relu')(decoder)\n",
    "# Output Layer\n",
    "decoder = Dense(input_dim, activation='relu')(decoder)"
   ]
  },
  {
   "cell_type": "code",
   "execution_count": 42,
   "id": "703f25f3-52e9-40e7-b309-c949994785e1",
   "metadata": {},
   "outputs": [],
   "source": [
    "autoencoder_2 = Model(inputs=input_layer, outputs=decoder)\n",
    "autoencoder_2.compile(metrics=['accuracy'],loss='mse',optimizer='adam')"
   ]
  },
  {
   "cell_type": "code",
   "execution_count": 43,
   "id": "ecf05aa1-441f-4d6e-a1d4-1ac548d99d34",
   "metadata": {},
   "outputs": [
    {
     "name": "stdout",
     "output_type": "stream",
     "text": [
      "Model: \"model_2\"\n",
      "_________________________________________________________________\n",
      " Layer (type)                Output Shape              Param #   \n",
      "=================================================================\n",
      " input (InputLayer)          [(None, 32)]              0         \n",
      "                                                                 \n",
      " dense_6 (Dense)             (None, 128)               4224      \n",
      "                                                                 \n",
      " dense_7 (Dense)             (None, 64)                8256      \n",
      "                                                                 \n",
      " dense_8 (Dense)             (None, 32)                2080      \n",
      "                                                                 \n",
      " latent_2 (Dense)            (None, 16)                528       \n",
      "                                                                 \n",
      " dense_9 (Dense)             (None, 32)                544       \n",
      "                                                                 \n",
      " dense_10 (Dense)            (None, 64)                2112      \n",
      "                                                                 \n",
      " dense_11 (Dense)            (None, 128)               8320      \n",
      "                                                                 \n",
      " dense_12 (Dense)            (None, 32)                4128      \n",
      "                                                                 \n",
      "=================================================================\n",
      "Total params: 30,192\n",
      "Trainable params: 30,192\n",
      "Non-trainable params: 0\n",
      "_________________________________________________________________\n"
     ]
    }
   ],
   "source": [
    "autoencoder_2.summary()"
   ]
  },
  {
   "cell_type": "code",
   "execution_count": 44,
   "id": "c4e67d55-9610-437c-b8ef-a2bbf58d3091",
   "metadata": {},
   "outputs": [],
   "source": [
    "callback = tf.keras.callbacks.EarlyStopping(monitor='val_loss', patience=8,restore_best_weights=True)"
   ]
  },
  {
   "cell_type": "code",
   "execution_count": 45,
   "id": "33ea8da0-7bc1-4089-9d5e-11baadae5f6d",
   "metadata": {},
   "outputs": [],
   "source": [
    "train_intX, test_intX , train_intY ,test_intY = train_test_split(intermediate_output_1,labels,random_state = 42,test_size = 0.1)"
   ]
  },
  {
   "cell_type": "code",
   "execution_count": 46,
   "id": "b6519236-ab54-4bdb-be55-5cbb3a5a1fc6",
   "metadata": {
    "tags": []
   },
   "outputs": [
    {
     "name": "stdout",
     "output_type": "stream",
     "text": [
      "Epoch 1/100\n",
      "3543/3543 [==============================] - 26s 7ms/step - loss: 0.0166 - accuracy: 0.8782 - val_loss: 0.0133 - val_accuracy: 0.9111\n",
      "Epoch 2/100\n",
      "3543/3543 [==============================] - 24s 7ms/step - loss: 0.0133 - accuracy: 0.9304 - val_loss: 0.0133 - val_accuracy: 0.9048\n",
      "Epoch 3/100\n",
      "3543/3543 [==============================] - 24s 7ms/step - loss: 0.0131 - accuracy: 0.9381 - val_loss: 0.0130 - val_accuracy: 0.9241\n",
      "Epoch 4/100\n",
      "3543/3543 [==============================] - 24s 7ms/step - loss: 0.0130 - accuracy: 0.9443 - val_loss: 0.0132 - val_accuracy: 0.9582\n",
      "Epoch 5/100\n",
      "3543/3543 [==============================] - 24s 7ms/step - loss: 0.0130 - accuracy: 0.9420 - val_loss: 0.0129 - val_accuracy: 0.9502\n",
      "Epoch 6/100\n",
      "3543/3543 [==============================] - 24s 7ms/step - loss: 0.0130 - accuracy: 0.9450 - val_loss: 0.0130 - val_accuracy: 0.9501\n",
      "Epoch 7/100\n",
      "3543/3543 [==============================] - 24s 7ms/step - loss: 0.0129 - accuracy: 0.9489 - val_loss: 0.0130 - val_accuracy: 0.9500\n",
      "Epoch 8/100\n",
      "3543/3543 [==============================] - 24s 7ms/step - loss: 0.0129 - accuracy: 0.9487 - val_loss: 0.0129 - val_accuracy: 0.9641\n",
      "Epoch 9/100\n",
      "3543/3543 [==============================] - 24s 7ms/step - loss: 0.0129 - accuracy: 0.9507 - val_loss: 0.0130 - val_accuracy: 0.9563\n",
      "Epoch 10/100\n",
      "3543/3543 [==============================] - 24s 7ms/step - loss: 0.0129 - accuracy: 0.9531 - val_loss: 0.0130 - val_accuracy: 0.9663\n",
      "Epoch 11/100\n",
      "3543/3543 [==============================] - 25s 7ms/step - loss: 0.0128 - accuracy: 0.9508 - val_loss: 0.0129 - val_accuracy: 0.9375\n",
      "Epoch 12/100\n",
      "3543/3543 [==============================] - 24s 7ms/step - loss: 0.0127 - accuracy: 0.9544 - val_loss: 0.0127 - val_accuracy: 0.9710\n",
      "Epoch 13/100\n",
      "3543/3543 [==============================] - 25s 7ms/step - loss: 0.0127 - accuracy: 0.9539 - val_loss: 0.0127 - val_accuracy: 0.9732\n",
      "Epoch 14/100\n",
      "3543/3543 [==============================] - 24s 7ms/step - loss: 0.0127 - accuracy: 0.9553 - val_loss: 0.0128 - val_accuracy: 0.9311\n",
      "Epoch 15/100\n",
      "3543/3543 [==============================] - 25s 7ms/step - loss: 0.0127 - accuracy: 0.9554 - val_loss: 0.0127 - val_accuracy: 0.9716\n",
      "Epoch 16/100\n",
      "3543/3543 [==============================] - 23s 7ms/step - loss: 0.0127 - accuracy: 0.9567 - val_loss: 0.0128 - val_accuracy: 0.9436\n",
      "Epoch 17/100\n",
      "3543/3543 [==============================] - 24s 7ms/step - loss: 0.0127 - accuracy: 0.9580 - val_loss: 0.0127 - val_accuracy: 0.9654\n",
      "Epoch 18/100\n",
      "3543/3543 [==============================] - 23s 7ms/step - loss: 0.0127 - accuracy: 0.9575 - val_loss: 0.0127 - val_accuracy: 0.9650\n",
      "Epoch 19/100\n",
      "3543/3543 [==============================] - 24s 7ms/step - loss: 0.0127 - accuracy: 0.9584 - val_loss: 0.0130 - val_accuracy: 0.9166\n",
      "Epoch 20/100\n",
      "3543/3543 [==============================] - 24s 7ms/step - loss: 0.0127 - accuracy: 0.9594 - val_loss: 0.0128 - val_accuracy: 0.9703\n",
      "Epoch 21/100\n",
      "3543/3543 [==============================] - 24s 7ms/step - loss: 0.0127 - accuracy: 0.9587 - val_loss: 0.0127 - val_accuracy: 0.9634\n",
      "Epoch 22/100\n",
      "3543/3543 [==============================] - 25s 7ms/step - loss: 0.0127 - accuracy: 0.9611 - val_loss: 0.0127 - val_accuracy: 0.9631\n",
      "Epoch 23/100\n",
      "3543/3543 [==============================] - 26s 7ms/step - loss: 0.0127 - accuracy: 0.9604 - val_loss: 0.0127 - val_accuracy: 0.9637\n",
      "Epoch 24/100\n",
      "3543/3543 [==============================] - 25s 7ms/step - loss: 0.0127 - accuracy: 0.9619 - val_loss: 0.0127 - val_accuracy: 0.9659\n",
      "Epoch 25/100\n",
      "3543/3543 [==============================] - 24s 7ms/step - loss: 0.0127 - accuracy: 0.9607 - val_loss: 0.0127 - val_accuracy: 0.9754\n",
      "Epoch 26/100\n",
      "3543/3543 [==============================] - 24s 7ms/step - loss: 0.0127 - accuracy: 0.9629 - val_loss: 0.0127 - val_accuracy: 0.9767\n",
      "Epoch 27/100\n",
      "3543/3543 [==============================] - 24s 7ms/step - loss: 0.0127 - accuracy: 0.9619 - val_loss: 0.0127 - val_accuracy: 0.9494\n",
      "Epoch 28/100\n",
      "3543/3543 [==============================] - 25s 7ms/step - loss: 0.0127 - accuracy: 0.9625 - val_loss: 0.0127 - val_accuracy: 0.9747\n",
      "Epoch 29/100\n",
      "3543/3543 [==============================] - 24s 7ms/step - loss: 0.0127 - accuracy: 0.9629 - val_loss: 0.0127 - val_accuracy: 0.9693\n",
      "Epoch 30/100\n",
      "3543/3543 [==============================] - 24s 7ms/step - loss: 0.0127 - accuracy: 0.9629 - val_loss: 0.0128 - val_accuracy: 0.9717\n",
      "Epoch 31/100\n",
      "3543/3543 [==============================] - 24s 7ms/step - loss: 0.0127 - accuracy: 0.9622 - val_loss: 0.0127 - val_accuracy: 0.9743\n",
      "Epoch 32/100\n",
      "3543/3543 [==============================] - 24s 7ms/step - loss: 0.0127 - accuracy: 0.9620 - val_loss: 0.0127 - val_accuracy: 0.9743\n",
      "Epoch 33/100\n",
      "3543/3543 [==============================] - 21s 6ms/step - loss: 0.0127 - accuracy: 0.9636 - val_loss: 0.0127 - val_accuracy: 0.9615\n"
     ]
    }
   ],
   "source": [
    "stack_2 = autoencoder_2.fit(train_intX, train_intX, epochs=100, batch_size=32,callbacks = [callback],validation_data = (test_intX, test_intX))"
   ]
  },
  {
   "cell_type": "code",
   "execution_count": 47,
   "id": "4f2309d5-91d1-4c0a-b6ee-971076df0011",
   "metadata": {},
   "outputs": [
    {
     "name": "stdout",
     "output_type": "stream",
     "text": [
      "3937/3937 [==============================] - 4s 1ms/step\n"
     ]
    }
   ],
   "source": [
    "pred = autoencoder_2.predict(intermediate_output_1)"
   ]
  },
  {
   "cell_type": "code",
   "execution_count": 48,
   "id": "67886a6b-8950-4fdf-9258-974ed368a4f0",
   "metadata": {},
   "outputs": [
    {
     "data": {
      "text/plain": [
       "0.012592238848738916"
      ]
     },
     "execution_count": 48,
     "metadata": {},
     "output_type": "execute_result"
    }
   ],
   "source": [
    "np.sum(keras.losses.mean_squared_error(pred,intermediate_output_1))/len(intermediate_output_1)"
   ]
  },
  {
   "cell_type": "code",
   "execution_count": 49,
   "id": "82f9cf66-1bbc-4188-9ab3-e4a6fc8eeefc",
   "metadata": {},
   "outputs": [
    {
     "name": "stdout",
     "output_type": "stream",
     "text": [
      "3937/3937 [==============================] - 3s 754us/step\n"
     ]
    }
   ],
   "source": [
    "layer_name = 'latent_2'\n",
    "intermediate_layer_model = Model(inputs=autoencoder_2.input,\n",
    "                                 outputs=autoencoder_2.get_layer(layer_name).output)\n",
    "intermediate_output_2 = intermediate_layer_model.predict(intermediate_output_1)"
   ]
  },
  {
   "cell_type": "markdown",
   "id": "705f51ae-5b72-44fe-9347-a5bc95afe895",
   "metadata": {},
   "source": [
    "### Classifier Model"
   ]
  },
  {
   "cell_type": "code",
   "execution_count": 50,
   "id": "e42990d5-e983-41a8-b543-7de9b750ab74",
   "metadata": {},
   "outputs": [],
   "source": [
    "batch_size = 32\n",
    "input_dim = np.shape(intermediate_output_2)[1]\n",
    "input_layer = Input(shape=(input_dim), name='input')\n",
    "#Input Layer\n",
    "dense1 = Dense (128, activation='relu')(input_layer)\n",
    "dense2 = Dense (64, activation='relu')(dense1)\n",
    "dense3 = Dense (8, activation='relu')(dense2)\n",
    "# Output Layer\n",
    "classifier = Dense(len(set(train_Y)), activation='softmax')(dense3)"
   ]
  },
  {
   "cell_type": "code",
   "execution_count": 51,
   "id": "61b5f89c-da19-4c1d-aeac-6480742079d1",
   "metadata": {},
   "outputs": [],
   "source": [
    "classify = Model(inputs=input_layer, outputs=classifier)\n",
    "classify.compile(metrics=['accuracy'],loss='sparse_categorical_crossentropy',optimizer='adam')"
   ]
  },
  {
   "cell_type": "code",
   "execution_count": 52,
   "id": "6fa99d49-fcff-4da8-baa3-81b120677889",
   "metadata": {},
   "outputs": [],
   "source": [
    "train_intX, test_intX , train_intY ,test_intY = train_test_split(intermediate_output_2,labels,random_state = 42,test_size = 0.1)"
   ]
  },
  {
   "cell_type": "code",
   "execution_count": 62,
   "id": "58791707-7c1c-4974-9244-fb445b644ccc",
   "metadata": {
    "tags": []
   },
   "outputs": [
    {
     "name": "stdout",
     "output_type": "stream",
     "text": [
      "Epoch 1/100\n",
      "3543/3543 [==============================] - 7s 2ms/step - loss: 0.0311 - accuracy: 0.9882 - val_loss: 0.0410 - val_accuracy: 0.9861\n",
      "Epoch 2/100\n",
      "3543/3543 [==============================] - 7s 2ms/step - loss: 0.0311 - accuracy: 0.9882 - val_loss: 0.0447 - val_accuracy: 0.9846\n",
      "Epoch 3/100\n",
      "3543/3543 [==============================] - 7s 2ms/step - loss: 0.0302 - accuracy: 0.9885 - val_loss: 0.0404 - val_accuracy: 0.9863\n",
      "Epoch 4/100\n",
      "3543/3543 [==============================] - 7s 2ms/step - loss: 0.0304 - accuracy: 0.9885 - val_loss: 0.0402 - val_accuracy: 0.9861\n",
      "Epoch 5/100\n",
      "3543/3543 [==============================] - 7s 2ms/step - loss: 0.0304 - accuracy: 0.9885 - val_loss: 0.0406 - val_accuracy: 0.9863\n",
      "Epoch 6/100\n",
      "3543/3543 [==============================] - 7s 2ms/step - loss: 0.0297 - accuracy: 0.9887 - val_loss: 0.0404 - val_accuracy: 0.9864\n",
      "Epoch 7/100\n",
      "3543/3543 [==============================] - 7s 2ms/step - loss: 0.0302 - accuracy: 0.9888 - val_loss: 0.0401 - val_accuracy: 0.9871\n",
      "Epoch 8/100\n",
      "3543/3543 [==============================] - 7s 2ms/step - loss: 0.0293 - accuracy: 0.9891 - val_loss: 0.0409 - val_accuracy: 0.9859\n",
      "Epoch 9/100\n",
      "3543/3543 [==============================] - 7s 2ms/step - loss: 0.0289 - accuracy: 0.9891 - val_loss: 0.0421 - val_accuracy: 0.9858\n",
      "Epoch 10/100\n",
      "3543/3543 [==============================] - 7s 2ms/step - loss: 0.0292 - accuracy: 0.9887 - val_loss: 0.0430 - val_accuracy: 0.9859\n",
      "Epoch 11/100\n",
      "3543/3543 [==============================] - 7s 2ms/step - loss: 0.0285 - accuracy: 0.9890 - val_loss: 0.0404 - val_accuracy: 0.9875\n",
      "Epoch 12/100\n",
      "3543/3543 [==============================] - 7s 2ms/step - loss: 0.0284 - accuracy: 0.9888 - val_loss: 0.0453 - val_accuracy: 0.9862\n",
      "Epoch 13/100\n",
      "3543/3543 [==============================] - 7s 2ms/step - loss: 0.0286 - accuracy: 0.9891 - val_loss: 0.0414 - val_accuracy: 0.9876\n",
      "Epoch 14/100\n",
      "3543/3543 [==============================] - 7s 2ms/step - loss: 0.0281 - accuracy: 0.9891 - val_loss: 0.0392 - val_accuracy: 0.9865\n",
      "Epoch 15/100\n",
      "3543/3543 [==============================] - 7s 2ms/step - loss: 0.0281 - accuracy: 0.9891 - val_loss: 0.0433 - val_accuracy: 0.9856\n",
      "Epoch 16/100\n",
      "3543/3543 [==============================] - 7s 2ms/step - loss: 0.0277 - accuracy: 0.9895 - val_loss: 0.0397 - val_accuracy: 0.9863\n",
      "Epoch 17/100\n",
      "3543/3543 [==============================] - 7s 2ms/step - loss: 0.0279 - accuracy: 0.9890 - val_loss: 0.0399 - val_accuracy: 0.9863\n",
      "Epoch 18/100\n",
      "3543/3543 [==============================] - 7s 2ms/step - loss: 0.0273 - accuracy: 0.9895 - val_loss: 0.0442 - val_accuracy: 0.9860\n",
      "Epoch 19/100\n",
      "3543/3543 [==============================] - 7s 2ms/step - loss: 0.0272 - accuracy: 0.9894 - val_loss: 0.0416 - val_accuracy: 0.9864\n",
      "Epoch 20/100\n",
      "3543/3543 [==============================] - 8s 2ms/step - loss: 0.0275 - accuracy: 0.9892 - val_loss: 0.0467 - val_accuracy: 0.9844\n",
      "Epoch 21/100\n",
      "3543/3543 [==============================] - 9s 2ms/step - loss: 0.0269 - accuracy: 0.9896 - val_loss: 0.0431 - val_accuracy: 0.9862\n",
      "Epoch 22/100\n",
      "3543/3543 [==============================] - 7s 2ms/step - loss: 0.0272 - accuracy: 0.9895 - val_loss: 0.0414 - val_accuracy: 0.9875\n"
     ]
    }
   ],
   "source": [
    "history = classify.fit(train_intX, train_intY, epochs=100, batch_size=32,callbacks = [callback],validation_data = (test_intX, test_intY))"
   ]
  },
  {
   "cell_type": "code",
   "execution_count": 63,
   "id": "3835f939-1e47-4ed9-9e94-41a990119a5a",
   "metadata": {},
   "outputs": [
    {
     "name": "stdout",
     "output_type": "stream",
     "text": [
      "394/394 [==============================] - 0s 936us/step\n"
     ]
    }
   ],
   "source": [
    "preds = classify.predict(test_intX)"
   ]
  },
  {
   "cell_type": "code",
   "execution_count": 64,
   "id": "2d90d8aa-687a-437a-ba87-33e74ed2e502",
   "metadata": {},
   "outputs": [
    {
     "data": {
      "text/plain": [
       "((12598, 5), (12598,))"
      ]
     },
     "execution_count": 64,
     "metadata": {},
     "output_type": "execute_result"
    }
   ],
   "source": [
    "np.shape(preds),np.shape(test_intY)"
   ]
  },
  {
   "cell_type": "code",
   "execution_count": 65,
   "id": "827db2ea-1075-4822-a90e-db2b000a51e3",
   "metadata": {},
   "outputs": [
    {
     "data": {
      "text/plain": [
       "{0.0, 1.0, 2.0, 3.0, 4.0}"
      ]
     },
     "execution_count": 65,
     "metadata": {},
     "output_type": "execute_result"
    }
   ],
   "source": [
    "set(labels)"
   ]
  },
  {
   "cell_type": "code",
   "execution_count": 66,
   "id": "66420e44-e3ac-49a0-b475-7ac3892e68a6",
   "metadata": {},
   "outputs": [],
   "source": [
    "from sklearn.metrics import confusion_matrix\n",
    "conf_mat = confusion_matrix(np.argmax(preds,axis = 1), test_intY)"
   ]
  },
  {
   "cell_type": "code",
   "execution_count": 67,
   "id": "80596a4f-2000-4f04-bb7b-0815b7ced17d",
   "metadata": {},
   "outputs": [
    {
     "name": "stdout",
     "output_type": "stream",
     "text": [
      "0.9865057945705668\n",
      "0.7359508225231419\n",
      "0.7644118336917619\n",
      "0.7488673128719125\n"
     ]
    },
    {
     "name": "stderr",
     "output_type": "stream",
     "text": [
      "C:\\Users\\ArrunPersonal\\anaconda3\\lib\\site-packages\\sklearn\\metrics\\_classification.py:1344: UndefinedMetricWarning: Recall is ill-defined and being set to 0.0 in labels with no true samples. Use `zero_division` parameter to control this behavior.\n",
      "  _warn_prf(average, modifier, msg_start, len(result))\n"
     ]
    }
   ],
   "source": [
    "print(accuracy_score(np.argmax(preds,axis = 1),test_intY))\n",
    "print(precision_score(np.argmax(preds,axis = 1),test_intY,average = 'macro'))\n",
    "print(recall_score(np.argmax(preds,axis = 1),test_intY,average = 'macro'))\n",
    "print(f1_score(np.argmax(preds,axis = 1),test_intY,average = 'macro'))"
   ]
  },
  {
   "cell_type": "code",
   "execution_count": 68,
   "id": "5582266a-40c3-49cf-bf08-81fef2e5ec2f",
   "metadata": {},
   "outputs": [],
   "source": [
    "import seaborn as sns"
   ]
  },
  {
   "cell_type": "code",
   "execution_count": 69,
   "id": "f8fd906d-887d-4ad9-ab88-c4350bb4b179",
   "metadata": {},
   "outputs": [
    {
     "data": {
      "text/plain": [
       "<AxesSubplot:>"
      ]
     },
     "execution_count": 69,
     "metadata": {},
     "output_type": "execute_result"
    },
    {
     "data": {
      "image/png": "[encoded data removed]",
      "text/plain": [
       "<Figure size 432x288 with 2 Axes>"
      ]
     },
     "metadata": {
      "needs_background": "light"
     },
     "output_type": "display_data"
    }
   ],
   "source": [
    "sns.heatmap(conf_mat, annot=True)"
   ]
  },
  {
   "cell_type": "code",
   "execution_count": null,
   "id": "75f6b480-b2b6-424d-9b0b-eb90d87cdbe6",
   "metadata": {},
   "outputs": [],
   "source": []
  }
 ],
 "metadata": {
  "kernelspec": {
   "display_name": "Python 3 (ipykernel)",
   "language": "python",
   "name": "python3"
  },
  "language_info": {
   "codemirror_mode": {
    "name": "ipython",
    "version": 3
   },
   "file_extension": ".py",
   "mimetype": "text/x-python",
   "name": "python",
   "nbconvert_exporter": "python",
   "pygments_lexer": "ipython3",
   "version": "3.9.7"
  }
 },
 "nbformat": 4,
 "nbformat_minor": 5
}
