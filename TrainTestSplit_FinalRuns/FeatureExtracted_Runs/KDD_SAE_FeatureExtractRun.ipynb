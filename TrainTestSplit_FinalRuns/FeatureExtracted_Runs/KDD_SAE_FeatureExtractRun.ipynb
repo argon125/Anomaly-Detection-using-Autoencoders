{
 "cells": [
  {
   "cell_type": "code",
   "execution_count": 1,
   "id": "1bf0b868-c909-466a-8382-431edfb1ca3c",
   "metadata": {},
   "outputs": [],
   "source": [
    "import numpy as np\n",
    "import pandas as pd\n",
    "import matplotlib.pyplot as plt\n",
    "import os\n",
    "import tensorflow as tf"
   ]
  },
  {
   "cell_type": "code",
   "execution_count": 2,
   "id": "c01bb8b3-930c-4bd9-9a3f-5d07ce77b4ac",
   "metadata": {},
   "outputs": [],
   "source": [
    "feature = [\"duration\",\"protocol_type\",\"service\",\"flag\",\"src_bytes\",\n",
    "    \"dst_bytes\",\"land\",\"wrong_fragment\",\"urgent\",\"hot\",\"num_failed_logins\",\n",
    "    \"logged_in\",\"num_compromised\",\"root_shell\",\"su_attempted\",\"num_root\",\n",
    "    \"num_file_creations\",\"num_shells\",\"num_access_files\",\"num_outbound_cmds\",\n",
    "    \"is_host_login\",\"is_guest_login\",\"count\",\"srv_count\",\"serror_rate\",\n",
    "    \"srv_serror_rate\",\"rerror_rate\",\"srv_rerror_rate\",\"same_srv_rate\",\n",
    "    \"diff_srv_rate\",\"srv_diff_host_rate\",\"dst_host_count\",\"dst_host_srv_count\",\n",
    "    \"dst_host_same_srv_rate\",\"dst_host_diff_srv_rate\",\"dst_host_same_src_port_rate\",\n",
    "    \"dst_host_srv_diff_host_rate\",\"dst_host_serror_rate\",\"dst_host_srv_serror_rate\",\n",
    "    \"dst_host_rerror_rate\",\"dst_host_srv_rerror_rate\",\"target\",\"junk\"]"
   ]
  },
  {
   "cell_type": "code",
   "execution_count": 3,
   "id": "40536131-3ade-4777-9ac3-c1f2e6025ac7",
   "metadata": {},
   "outputs": [],
   "source": [
    "os.chdir(\"C:/Users/ArrunPersonal/Codes/Semester7/IDS/NSL-KDD\")"
   ]
  },
  {
   "cell_type": "code",
   "execution_count": 4,
   "id": "84364c10-8b89-45fa-8a3a-881de73b44aa",
   "metadata": {},
   "outputs": [],
   "source": [
    "df = pd.read_csv(\"KDDTrain+.csv\", names = feature)\n",
    "df.drop([\"junk\"],axis = 1,inplace = True)"
   ]
  },
  {
   "cell_type": "code",
   "execution_count": 5,
   "id": "3fbe8575-19ab-460a-ad78-e5cff17205a5",
   "metadata": {},
   "outputs": [
    {
     "data": {
      "text/plain": [
       "False"
      ]
     },
     "execution_count": 5,
     "metadata": {},
     "output_type": "execute_result"
    }
   ],
   "source": [
    "df.isnull().values.any()"
   ]
  },
  {
   "cell_type": "code",
   "execution_count": 6,
   "id": "5156c38d-0cd4-4fe0-b633-eaa3f29769a5",
   "metadata": {},
   "outputs": [
    {
     "data": {
      "text/html": [
       "<div>\n",
       "<style scoped>\n",
       "    .dataframe tbody tr th:only-of-type {\n",
       "        vertical-align: middle;\n",
       "    }\n",
       "\n",
       "    .dataframe tbody tr th {\n",
       "        vertical-align: top;\n",
       "    }\n",
       "\n",
       "    .dataframe thead th {\n",
       "        text-align: right;\n",
       "    }\n",
       "</style>\n",
       "<table border=\"1\" class=\"dataframe\">\n",
       "  <thead>\n",
       "    <tr style=\"text-align: right;\">\n",
       "      <th></th>\n",
       "      <th>duration</th>\n",
       "      <th>protocol_type</th>\n",
       "      <th>service</th>\n",
       "      <th>flag</th>\n",
       "      <th>src_bytes</th>\n",
       "      <th>dst_bytes</th>\n",
       "      <th>land</th>\n",
       "      <th>wrong_fragment</th>\n",
       "      <th>urgent</th>\n",
       "      <th>hot</th>\n",
       "      <th>...</th>\n",
       "      <th>dst_host_srv_count</th>\n",
       "      <th>dst_host_same_srv_rate</th>\n",
       "      <th>dst_host_diff_srv_rate</th>\n",
       "      <th>dst_host_same_src_port_rate</th>\n",
       "      <th>dst_host_srv_diff_host_rate</th>\n",
       "      <th>dst_host_serror_rate</th>\n",
       "      <th>dst_host_srv_serror_rate</th>\n",
       "      <th>dst_host_rerror_rate</th>\n",
       "      <th>dst_host_srv_rerror_rate</th>\n",
       "      <th>target</th>\n",
       "    </tr>\n",
       "  </thead>\n",
       "  <tbody>\n",
       "    <tr>\n",
       "      <th>0</th>\n",
       "      <td>0</td>\n",
       "      <td>tcp</td>\n",
       "      <td>ftp_data</td>\n",
       "      <td>SF</td>\n",
       "      <td>491</td>\n",
       "      <td>0</td>\n",
       "      <td>0</td>\n",
       "      <td>0</td>\n",
       "      <td>0</td>\n",
       "      <td>0</td>\n",
       "      <td>...</td>\n",
       "      <td>25</td>\n",
       "      <td>0.17</td>\n",
       "      <td>0.03</td>\n",
       "      <td>0.17</td>\n",
       "      <td>0.00</td>\n",
       "      <td>0.00</td>\n",
       "      <td>0.00</td>\n",
       "      <td>0.05</td>\n",
       "      <td>0.00</td>\n",
       "      <td>normal</td>\n",
       "    </tr>\n",
       "    <tr>\n",
       "      <th>1</th>\n",
       "      <td>0</td>\n",
       "      <td>udp</td>\n",
       "      <td>other</td>\n",
       "      <td>SF</td>\n",
       "      <td>146</td>\n",
       "      <td>0</td>\n",
       "      <td>0</td>\n",
       "      <td>0</td>\n",
       "      <td>0</td>\n",
       "      <td>0</td>\n",
       "      <td>...</td>\n",
       "      <td>1</td>\n",
       "      <td>0.00</td>\n",
       "      <td>0.60</td>\n",
       "      <td>0.88</td>\n",
       "      <td>0.00</td>\n",
       "      <td>0.00</td>\n",
       "      <td>0.00</td>\n",
       "      <td>0.00</td>\n",
       "      <td>0.00</td>\n",
       "      <td>normal</td>\n",
       "    </tr>\n",
       "    <tr>\n",
       "      <th>2</th>\n",
       "      <td>0</td>\n",
       "      <td>tcp</td>\n",
       "      <td>private</td>\n",
       "      <td>S0</td>\n",
       "      <td>0</td>\n",
       "      <td>0</td>\n",
       "      <td>0</td>\n",
       "      <td>0</td>\n",
       "      <td>0</td>\n",
       "      <td>0</td>\n",
       "      <td>...</td>\n",
       "      <td>26</td>\n",
       "      <td>0.10</td>\n",
       "      <td>0.05</td>\n",
       "      <td>0.00</td>\n",
       "      <td>0.00</td>\n",
       "      <td>1.00</td>\n",
       "      <td>1.00</td>\n",
       "      <td>0.00</td>\n",
       "      <td>0.00</td>\n",
       "      <td>neptune</td>\n",
       "    </tr>\n",
       "    <tr>\n",
       "      <th>3</th>\n",
       "      <td>0</td>\n",
       "      <td>tcp</td>\n",
       "      <td>http</td>\n",
       "      <td>SF</td>\n",
       "      <td>232</td>\n",
       "      <td>8153</td>\n",
       "      <td>0</td>\n",
       "      <td>0</td>\n",
       "      <td>0</td>\n",
       "      <td>0</td>\n",
       "      <td>...</td>\n",
       "      <td>255</td>\n",
       "      <td>1.00</td>\n",
       "      <td>0.00</td>\n",
       "      <td>0.03</td>\n",
       "      <td>0.04</td>\n",
       "      <td>0.03</td>\n",
       "      <td>0.01</td>\n",
       "      <td>0.00</td>\n",
       "      <td>0.01</td>\n",
       "      <td>normal</td>\n",
       "    </tr>\n",
       "    <tr>\n",
       "      <th>4</th>\n",
       "      <td>0</td>\n",
       "      <td>tcp</td>\n",
       "      <td>http</td>\n",
       "      <td>SF</td>\n",
       "      <td>199</td>\n",
       "      <td>420</td>\n",
       "      <td>0</td>\n",
       "      <td>0</td>\n",
       "      <td>0</td>\n",
       "      <td>0</td>\n",
       "      <td>...</td>\n",
       "      <td>255</td>\n",
       "      <td>1.00</td>\n",
       "      <td>0.00</td>\n",
       "      <td>0.00</td>\n",
       "      <td>0.00</td>\n",
       "      <td>0.00</td>\n",
       "      <td>0.00</td>\n",
       "      <td>0.00</td>\n",
       "      <td>0.00</td>\n",
       "      <td>normal</td>\n",
       "    </tr>\n",
       "  </tbody>\n",
       "</table>\n",
       "<p>5 rows × 42 columns</p>\n",
       "</div>"
      ],
      "text/plain": [
       "   duration protocol_type   service flag  src_bytes  dst_bytes  land  \\\n",
       "0         0           tcp  ftp_data   SF        491          0     0   \n",
       "1         0           udp     other   SF        146          0     0   \n",
       "2         0           tcp   private   S0          0          0     0   \n",
       "3         0           tcp      http   SF        232       8153     0   \n",
       "4         0           tcp      http   SF        199        420     0   \n",
       "\n",
       "   wrong_fragment  urgent  hot  ...  dst_host_srv_count  \\\n",
       "0               0       0    0  ...                  25   \n",
       "1               0       0    0  ...                   1   \n",
       "2               0       0    0  ...                  26   \n",
       "3               0       0    0  ...                 255   \n",
       "4               0       0    0  ...                 255   \n",
       "\n",
       "   dst_host_same_srv_rate  dst_host_diff_srv_rate  \\\n",
       "0                    0.17                    0.03   \n",
       "1                    0.00                    0.60   \n",
       "2                    0.10                    0.05   \n",
       "3                    1.00                    0.00   \n",
       "4                    1.00                    0.00   \n",
       "\n",
       "   dst_host_same_src_port_rate  dst_host_srv_diff_host_rate  \\\n",
       "0                         0.17                         0.00   \n",
       "1                         0.88                         0.00   \n",
       "2                         0.00                         0.00   \n",
       "3                         0.03                         0.04   \n",
       "4                         0.00                         0.00   \n",
       "\n",
       "   dst_host_serror_rate  dst_host_srv_serror_rate  dst_host_rerror_rate  \\\n",
       "0                  0.00                      0.00                  0.05   \n",
       "1                  0.00                      0.00                  0.00   \n",
       "2                  1.00                      1.00                  0.00   \n",
       "3                  0.03                      0.01                  0.00   \n",
       "4                  0.00                      0.00                  0.00   \n",
       "\n",
       "   dst_host_srv_rerror_rate   target  \n",
       "0                      0.00   normal  \n",
       "1                      0.00   normal  \n",
       "2                      0.00  neptune  \n",
       "3                      0.01   normal  \n",
       "4                      0.00   normal  \n",
       "\n",
       "[5 rows x 42 columns]"
      ]
     },
     "execution_count": 6,
     "metadata": {},
     "output_type": "execute_result"
    }
   ],
   "source": [
    "df.head()"
   ]
  },
  {
   "cell_type": "code",
   "execution_count": 7,
   "id": "55dab8da-b0ab-40d7-a7b8-72fb965459cc",
   "metadata": {},
   "outputs": [],
   "source": [
    "protocol_dict = dict(zip(set(df['protocol_type']),np.arange(len(set(df['protocol_type'])))))\n",
    "service_dict = dict(zip(set(df['service']),np.arange(len(set(df['service'])))))\n",
    "flag_dict = dict(zip(set(df['flag']),np.arange(len(set(df['flag'])))))"
   ]
  },
  {
   "cell_type": "code",
   "execution_count": 8,
   "id": "0bdb4b00-8c4d-41eb-aefc-88c49de6ac8c",
   "metadata": {},
   "outputs": [],
   "source": [
    "# changing attack labels to their respective attack class\n",
    "def change_feature(df):\n",
    "    df.target.replace(['apache2','back','land','neptune','mailbomb','pod','processtable','smurf','teardrop','udpstorm','worm'],'Dos',inplace=True)\n",
    "    df.target.replace(['ftp_write','guess_passwd','httptunnel','imap','multihop','named','phf','sendmail','snmpgetattack','snmpguess','spy','warezclient','warezmaster','xlock','xsnoop'],'R2L',inplace=True)      \n",
    "    df.target.replace(['ipsweep','mscan','nmap','portsweep','saint','satan'],'Probe',inplace=True)\n",
    "    df.target.replace(['buffer_overflow','loadmodule','perl','ps','rootkit','sqlattack','xterm'],'U2R',inplace=True)\n",
    "    \n",
    "    df.protocol_type.replace(protocol_dict.keys(),protocol_dict.values(),inplace=True)\n",
    "    df.service.replace(service_dict.keys(),service_dict.values(),inplace=True)\n",
    "    df.flag.replace(flag_dict.keys(),flag_dict.values(),inplace=True)"
   ]
  },
  {
   "cell_type": "code",
   "execution_count": 9,
   "id": "d7967ffd-6d6d-4ab3-b30e-f42ed7f96d5f",
   "metadata": {},
   "outputs": [],
   "source": [
    "change_feature(df)"
   ]
  },
  {
   "cell_type": "code",
   "execution_count": 10,
   "id": "8b26c684-a757-4180-8e33-82979a2e216a",
   "metadata": {},
   "outputs": [],
   "source": [
    "target_dict = dict(zip(set(df['target']),np.arange(len(set(df['target'])))))"
   ]
  },
  {
   "cell_type": "code",
   "execution_count": 11,
   "id": "410c0811-b1dd-4b02-a3f5-2000c64e7000",
   "metadata": {},
   "outputs": [],
   "source": [
    "def change_target(df):\n",
    "    df.target.replace(target_dict.keys(),target_dict.values(),inplace=True)"
   ]
  },
  {
   "cell_type": "code",
   "execution_count": 12,
   "id": "34dd9a32-72fc-4ff2-a215-ce6bb0fb8086",
   "metadata": {},
   "outputs": [],
   "source": [
    "change_target(df)"
   ]
  },
  {
   "cell_type": "code",
   "execution_count": 13,
   "id": "f15b3693-fd32-4536-9fcd-9cbe1a6c1ec6",
   "metadata": {},
   "outputs": [
    {
     "data": {
      "text/html": [
       "<div>\n",
       "<style scoped>\n",
       "    .dataframe tbody tr th:only-of-type {\n",
       "        vertical-align: middle;\n",
       "    }\n",
       "\n",
       "    .dataframe tbody tr th {\n",
       "        vertical-align: top;\n",
       "    }\n",
       "\n",
       "    .dataframe thead th {\n",
       "        text-align: right;\n",
       "    }\n",
       "</style>\n",
       "<table border=\"1\" class=\"dataframe\">\n",
       "  <thead>\n",
       "    <tr style=\"text-align: right;\">\n",
       "      <th></th>\n",
       "      <th>duration</th>\n",
       "      <th>protocol_type</th>\n",
       "      <th>service</th>\n",
       "      <th>flag</th>\n",
       "      <th>src_bytes</th>\n",
       "      <th>dst_bytes</th>\n",
       "      <th>land</th>\n",
       "      <th>wrong_fragment</th>\n",
       "      <th>urgent</th>\n",
       "      <th>hot</th>\n",
       "      <th>...</th>\n",
       "      <th>dst_host_srv_count</th>\n",
       "      <th>dst_host_same_srv_rate</th>\n",
       "      <th>dst_host_diff_srv_rate</th>\n",
       "      <th>dst_host_same_src_port_rate</th>\n",
       "      <th>dst_host_srv_diff_host_rate</th>\n",
       "      <th>dst_host_serror_rate</th>\n",
       "      <th>dst_host_srv_serror_rate</th>\n",
       "      <th>dst_host_rerror_rate</th>\n",
       "      <th>dst_host_srv_rerror_rate</th>\n",
       "      <th>target</th>\n",
       "    </tr>\n",
       "  </thead>\n",
       "  <tbody>\n",
       "    <tr>\n",
       "      <th>0</th>\n",
       "      <td>0</td>\n",
       "      <td>2</td>\n",
       "      <td>41</td>\n",
       "      <td>4</td>\n",
       "      <td>491</td>\n",
       "      <td>0</td>\n",
       "      <td>0</td>\n",
       "      <td>0</td>\n",
       "      <td>0</td>\n",
       "      <td>0</td>\n",
       "      <td>...</td>\n",
       "      <td>25</td>\n",
       "      <td>0.17</td>\n",
       "      <td>0.03</td>\n",
       "      <td>0.17</td>\n",
       "      <td>0.00</td>\n",
       "      <td>0.00</td>\n",
       "      <td>0.00</td>\n",
       "      <td>0.05</td>\n",
       "      <td>0.00</td>\n",
       "      <td>4</td>\n",
       "    </tr>\n",
       "    <tr>\n",
       "      <th>1</th>\n",
       "      <td>0</td>\n",
       "      <td>0</td>\n",
       "      <td>30</td>\n",
       "      <td>4</td>\n",
       "      <td>146</td>\n",
       "      <td>0</td>\n",
       "      <td>0</td>\n",
       "      <td>0</td>\n",
       "      <td>0</td>\n",
       "      <td>0</td>\n",
       "      <td>...</td>\n",
       "      <td>1</td>\n",
       "      <td>0.00</td>\n",
       "      <td>0.60</td>\n",
       "      <td>0.88</td>\n",
       "      <td>0.00</td>\n",
       "      <td>0.00</td>\n",
       "      <td>0.00</td>\n",
       "      <td>0.00</td>\n",
       "      <td>0.00</td>\n",
       "      <td>4</td>\n",
       "    </tr>\n",
       "    <tr>\n",
       "      <th>2</th>\n",
       "      <td>0</td>\n",
       "      <td>2</td>\n",
       "      <td>54</td>\n",
       "      <td>7</td>\n",
       "      <td>0</td>\n",
       "      <td>0</td>\n",
       "      <td>0</td>\n",
       "      <td>0</td>\n",
       "      <td>0</td>\n",
       "      <td>0</td>\n",
       "      <td>...</td>\n",
       "      <td>26</td>\n",
       "      <td>0.10</td>\n",
       "      <td>0.05</td>\n",
       "      <td>0.00</td>\n",
       "      <td>0.00</td>\n",
       "      <td>1.00</td>\n",
       "      <td>1.00</td>\n",
       "      <td>0.00</td>\n",
       "      <td>0.00</td>\n",
       "      <td>2</td>\n",
       "    </tr>\n",
       "    <tr>\n",
       "      <th>3</th>\n",
       "      <td>0</td>\n",
       "      <td>2</td>\n",
       "      <td>1</td>\n",
       "      <td>4</td>\n",
       "      <td>232</td>\n",
       "      <td>8153</td>\n",
       "      <td>0</td>\n",
       "      <td>0</td>\n",
       "      <td>0</td>\n",
       "      <td>0</td>\n",
       "      <td>...</td>\n",
       "      <td>255</td>\n",
       "      <td>1.00</td>\n",
       "      <td>0.00</td>\n",
       "      <td>0.03</td>\n",
       "      <td>0.04</td>\n",
       "      <td>0.03</td>\n",
       "      <td>0.01</td>\n",
       "      <td>0.00</td>\n",
       "      <td>0.01</td>\n",
       "      <td>4</td>\n",
       "    </tr>\n",
       "    <tr>\n",
       "      <th>4</th>\n",
       "      <td>0</td>\n",
       "      <td>2</td>\n",
       "      <td>1</td>\n",
       "      <td>4</td>\n",
       "      <td>199</td>\n",
       "      <td>420</td>\n",
       "      <td>0</td>\n",
       "      <td>0</td>\n",
       "      <td>0</td>\n",
       "      <td>0</td>\n",
       "      <td>...</td>\n",
       "      <td>255</td>\n",
       "      <td>1.00</td>\n",
       "      <td>0.00</td>\n",
       "      <td>0.00</td>\n",
       "      <td>0.00</td>\n",
       "      <td>0.00</td>\n",
       "      <td>0.00</td>\n",
       "      <td>0.00</td>\n",
       "      <td>0.00</td>\n",
       "      <td>4</td>\n",
       "    </tr>\n",
       "  </tbody>\n",
       "</table>\n",
       "<p>5 rows × 42 columns</p>\n",
       "</div>"
      ],
      "text/plain": [
       "   duration  protocol_type  service  flag  src_bytes  dst_bytes  land  \\\n",
       "0         0              2       41     4        491          0     0   \n",
       "1         0              0       30     4        146          0     0   \n",
       "2         0              2       54     7          0          0     0   \n",
       "3         0              2        1     4        232       8153     0   \n",
       "4         0              2        1     4        199        420     0   \n",
       "\n",
       "   wrong_fragment  urgent  hot  ...  dst_host_srv_count  \\\n",
       "0               0       0    0  ...                  25   \n",
       "1               0       0    0  ...                   1   \n",
       "2               0       0    0  ...                  26   \n",
       "3               0       0    0  ...                 255   \n",
       "4               0       0    0  ...                 255   \n",
       "\n",
       "   dst_host_same_srv_rate  dst_host_diff_srv_rate  \\\n",
       "0                    0.17                    0.03   \n",
       "1                    0.00                    0.60   \n",
       "2                    0.10                    0.05   \n",
       "3                    1.00                    0.00   \n",
       "4                    1.00                    0.00   \n",
       "\n",
       "   dst_host_same_src_port_rate  dst_host_srv_diff_host_rate  \\\n",
       "0                         0.17                         0.00   \n",
       "1                         0.88                         0.00   \n",
       "2                         0.00                         0.00   \n",
       "3                         0.03                         0.04   \n",
       "4                         0.00                         0.00   \n",
       "\n",
       "   dst_host_serror_rate  dst_host_srv_serror_rate  dst_host_rerror_rate  \\\n",
       "0                  0.00                      0.00                  0.05   \n",
       "1                  0.00                      0.00                  0.00   \n",
       "2                  1.00                      1.00                  0.00   \n",
       "3                  0.03                      0.01                  0.00   \n",
       "4                  0.00                      0.00                  0.00   \n",
       "\n",
       "   dst_host_srv_rerror_rate  target  \n",
       "0                      0.00       4  \n",
       "1                      0.00       4  \n",
       "2                      0.00       2  \n",
       "3                      0.01       4  \n",
       "4                      0.00       4  \n",
       "\n",
       "[5 rows x 42 columns]"
      ]
     },
     "execution_count": 13,
     "metadata": {},
     "output_type": "execute_result"
    }
   ],
   "source": [
    "df.head()"
   ]
  },
  {
   "cell_type": "code",
   "execution_count": 14,
   "id": "ab5c5615-fa58-4c6d-8df5-73bcc9d24fa1",
   "metadata": {},
   "outputs": [],
   "source": [
    "df_lis = np.array(df.values.tolist())"
   ]
  },
  {
   "cell_type": "code",
   "execution_count": 15,
   "id": "a707a55d-2191-4b28-853c-a40ebb4f7bb5",
   "metadata": {},
   "outputs": [],
   "source": [
    "from scipy.stats import pearsonr"
   ]
  },
  {
   "cell_type": "code",
   "execution_count": 16,
   "id": "e96b6b0e-e8fb-4d08-a3a9-fe6aaf185ef3",
   "metadata": {},
   "outputs": [],
   "source": [
    "features = np.array(df_lis[:,:-1])\n",
    "labels = np.array(df_lis[:,-1])"
   ]
  },
  {
   "cell_type": "code",
   "execution_count": 17,
   "id": "9a3040b2-73dc-4f35-84be-ea0dd7421534",
   "metadata": {},
   "outputs": [
    {
     "name": "stderr",
     "output_type": "stream",
     "text": [
      "C:\\Users\\ArrunPersonal\\anaconda3\\lib\\site-packages\\scipy\\stats\\stats.py:4023: PearsonRConstantInputWarning: An input array is constant; the correlation coefficient is not defined.\n",
      "  warnings.warn(PearsonRConstantInputWarning())\n"
     ]
    }
   ],
   "source": [
    "scores = [abs(pearsonr(features[:,i],labels)[0]) for i in range(np.shape(features)[1])]"
   ]
  },
  {
   "cell_type": "code",
   "execution_count": 18,
   "id": "7a15f2be-6ab2-4d38-8aaa-4247757c8a9c",
   "metadata": {},
   "outputs": [
    {
     "data": {
      "text/plain": [
       "[0.09879249098157113,\n",
       " 0.0829110110721515,\n",
       " 0.5643192775762153,\n",
       " 0.46746815907449535,\n",
       " 0.01035063735364418,\n",
       " 0.00696944088250033,\n",
       " 0.00488569278267694,\n",
       " 0.07434092627500254,\n",
       " 0.0007365994723351792,\n",
       " 0.03260639773773422,\n",
       " 0.01168207217448656,\n",
       " 0.6444911029702094,\n",
       " 0.009852352298868848,\n",
       " 0.02353165942269988,\n",
       " 0.02132947667387372,\n",
       " 0.01097616123943684,\n",
       " 0.020085866886687915,\n",
       " 0.009592738754889325,\n",
       " 0.03417455978123473,\n",
       " 0,\n",
       " 0.0025293292280558436,\n",
       " 0.001562808029383379,\n",
       " 0.48243517466329183,\n",
       " 0.022454629578926452,\n",
       " 0.5102107392755243,\n",
       " 0.5075202303053715,\n",
       " 0.2948864717371979,\n",
       " 0.2956354371442021,\n",
       " 0.6314716823001728,\n",
       " 0.2571413079590464,\n",
       " 0.044654609557857904,\n",
       " 0.28124735413498475,\n",
       " 0.6845725807514023,\n",
       " 0.6153417066873347,\n",
       " 0.3397790482934407,\n",
       " 0.22932764918963175,\n",
       " 0.17001036612630405,\n",
       " 0.51113157487048,\n",
       " 0.5140568288132344,\n",
       " 0.2854887928613999,\n",
       " 0.2957973200159718]"
      ]
     },
     "execution_count": 18,
     "metadata": {},
     "output_type": "execute_result"
    }
   ],
   "source": [
    "scores[19] = 0\n",
    "scores"
   ]
  },
  {
   "cell_type": "code",
   "execution_count": 19,
   "id": "41c1ec72-0258-494c-96c4-ca229b9bbf0c",
   "metadata": {},
   "outputs": [],
   "source": [
    "act_features = []\n",
    "act_indices = []\n",
    "for i in range(len(scores)):\n",
    "    if(scores[i]> 0.1):\n",
    "        act_indices.append(i)\n",
    "        act_features.append(features[:,i])"
   ]
  },
  {
   "cell_type": "code",
   "execution_count": 20,
   "id": "8c323560-d3bb-44a0-9767-2d2dfab4abd9",
   "metadata": {},
   "outputs": [],
   "source": [
    "act_features = np.array(act_features).T"
   ]
  },
  {
   "cell_type": "code",
   "execution_count": 21,
   "id": "0327c182-992c-471d-9ba8-2f3a403f68bc",
   "metadata": {},
   "outputs": [
    {
     "data": {
      "text/plain": [
       "(125973, 20)"
      ]
     },
     "execution_count": 21,
     "metadata": {},
     "output_type": "execute_result"
    }
   ],
   "source": [
    "for i in range(np.shape(act_features)[1]):\n",
    "    if(np.std(act_features[:,i])!=0):\n",
    "        act_features[:,i] = (act_features[:,i]-np.mean(act_features[:,i]))/np.std(act_features[:,i]) \n",
    "    else:\n",
    "        act_features[:,i] = (act_features[:,i]-np.mean(act_features[:,i]))\n",
    "np.shape(act_features)"
   ]
  },
  {
   "cell_type": "code",
   "execution_count": 22,
   "id": "630656a7-3b1e-4940-a8ce-45c6c0b6b89c",
   "metadata": {},
   "outputs": [
    {
     "data": {
      "text/plain": [
       "((125973, 20), (125973,))"
      ]
     },
     "execution_count": 22,
     "metadata": {},
     "output_type": "execute_result"
    }
   ],
   "source": [
    "np.shape(act_features),np.shape(labels)"
   ]
  },
  {
   "cell_type": "code",
   "execution_count": 28,
   "id": "cb8fe055-378f-4de0-9175-d60f11884caa",
   "metadata": {},
   "outputs": [
    {
     "data": {
      "text/plain": [
       "{0.0, 1.0, 2.0, 3.0, 4.0}"
      ]
     },
     "execution_count": 28,
     "metadata": {},
     "output_type": "execute_result"
    }
   ],
   "source": [
    "set(train_Y)"
   ]
  },
  {
   "cell_type": "code",
   "execution_count": 23,
   "id": "068f7175-717b-42c6-b26b-cff8c02bac6c",
   "metadata": {},
   "outputs": [],
   "source": [
    "from sklearn.model_selection import train_test_split\n",
    "train_X,test_X,train_Y,test_Y = train_test_split(act_features,labels)"
   ]
  },
  {
   "cell_type": "code",
   "execution_count": 24,
   "id": "47ba8e9a-7891-4de2-a9ab-b1efa262291a",
   "metadata": {},
   "outputs": [
    {
     "name": "stdout",
     "output_type": "stream",
     "text": [
      "(94479, 20) (31494, 20) (94479,) (31494,)\n"
     ]
    }
   ],
   "source": [
    "print(np.shape(train_X),np.shape(test_X),np.shape(train_Y),np.shape(test_Y))"
   ]
  },
  {
   "cell_type": "markdown",
   "id": "a7ca5b2f-40a8-4f6f-9d4d-885632699f7e",
   "metadata": {},
   "source": [
    "# Stacked Auto Encoder"
   ]
  },
  {
   "cell_type": "markdown",
   "id": "22de135a-8483-476f-bf21-29658e15e464",
   "metadata": {},
   "source": [
    "### First Stack"
   ]
  },
  {
   "cell_type": "code",
   "execution_count": 25,
   "id": "5cbdc2d6-0d68-43c5-b86d-8789714290ac",
   "metadata": {},
   "outputs": [],
   "source": [
    "from keras.layers import *\n",
    "from keras.models import Model"
   ]
  },
  {
   "cell_type": "code",
   "execution_count": 26,
   "id": "d86da138-a431-47fe-90cf-085690cfafce",
   "metadata": {},
   "outputs": [],
   "source": [
    "batch_size = 32\n",
    "input_dim = np.shape(train_X)[1]\n",
    "input_layer = Input(shape=(input_dim), name='input')\n",
    "#Input Layer\n",
    "encoder = Dense (256, activation='relu')(input_layer)\n",
    "#Encoder’s first dense layer\n",
    "encoder = Dense (128, activation='relu')(encoder)\n",
    "#Encoder’s second dense layer\n",
    "encoder = Dense (64, activation='relu')(encoder)\n",
    "# Code layer\n",
    "latent_layer = Dense (32, activation='relu',name = 'latent_1')(encoder)\n",
    "# Decoder’s first dense layer\n",
    "decoder = Dense(64, activation='relu')(latent_layer)\n",
    "# Decoder’s second dense layer\n",
    "decoder = Dense(128, activation='relu')(decoder)\n",
    "# Decoder’s Third dense layer\n",
    "decoder = Dense(256, activation='relu')(decoder)\n",
    "# Output Layer\n",
    "decoder = Dense(input_dim, activation='relu')(decoder)"
   ]
  },
  {
   "cell_type": "code",
   "execution_count": 27,
   "id": "44e82ea0-c414-4c62-b6b7-b264d2a8d50d",
   "metadata": {},
   "outputs": [],
   "source": [
    "autoencoder_1 = Model(inputs=input_layer, outputs=decoder)\n",
    "autoencoder_1.compile(metrics=['accuracy'],loss='mse',optimizer='adam')"
   ]
  },
  {
   "cell_type": "code",
   "execution_count": 28,
   "id": "b2dc9457-16b6-4196-a168-1a68bf872132",
   "metadata": {},
   "outputs": [
    {
     "name": "stdout",
     "output_type": "stream",
     "text": [
      "Model: \"model\"\n",
      "_________________________________________________________________\n",
      " Layer (type)                Output Shape              Param #   \n",
      "=================================================================\n",
      " input (InputLayer)          [(None, 20)]              0         \n",
      "                                                                 \n",
      " dense (Dense)               (None, 256)               5376      \n",
      "                                                                 \n",
      " dense_1 (Dense)             (None, 128)               32896     \n",
      "                                                                 \n",
      " dense_2 (Dense)             (None, 64)                8256      \n",
      "                                                                 \n",
      " latent_1 (Dense)            (None, 32)                2080      \n",
      "                                                                 \n",
      " dense_3 (Dense)             (None, 64)                2112      \n",
      "                                                                 \n",
      " dense_4 (Dense)             (None, 128)               8320      \n",
      "                                                                 \n",
      " dense_5 (Dense)             (None, 256)               33024     \n",
      "                                                                 \n",
      " dense_6 (Dense)             (None, 20)                5140      \n",
      "                                                                 \n",
      "=================================================================\n",
      "Total params: 97,204\n",
      "Trainable params: 97,204\n",
      "Non-trainable params: 0\n",
      "_________________________________________________________________\n"
     ]
    }
   ],
   "source": [
    "autoencoder_1.summary()"
   ]
  },
  {
   "cell_type": "code",
   "execution_count": 29,
   "id": "6cc6c2f4-c05d-48eb-b44f-76fcf2b1127a",
   "metadata": {},
   "outputs": [],
   "source": [
    "callback = tf.keras.callbacks.EarlyStopping(monitor='val_loss', patience=8,restore_best_weights=True)"
   ]
  },
  {
   "cell_type": "code",
   "execution_count": 30,
   "id": "e417685c-9443-49e3-8a06-cad73ce75718",
   "metadata": {
    "tags": []
   },
   "outputs": [
    {
     "name": "stdout",
     "output_type": "stream",
     "text": [
      "Epoch 1/100\n",
      "2953/2953 [==============================] - 22s 7ms/step - loss: 0.3719 - accuracy: 0.6958 - val_loss: 0.3634 - val_accuracy: 0.9054\n",
      "Epoch 2/100\n",
      "2953/2953 [==============================] - 19s 6ms/step - loss: 0.3633 - accuracy: 0.7542 - val_loss: 0.3622 - val_accuracy: 0.9191\n",
      "Epoch 3/100\n",
      "2953/2953 [==============================] - 19s 6ms/step - loss: 0.3632 - accuracy: 0.7690 - val_loss: 0.3642 - val_accuracy: 0.6341\n",
      "Epoch 4/100\n",
      "2953/2953 [==============================] - 20s 7ms/step - loss: 0.3612 - accuracy: 0.7878 - val_loss: 0.3603 - val_accuracy: 0.5333\n",
      "Epoch 5/100\n",
      "2953/2953 [==============================] - 19s 6ms/step - loss: 0.3601 - accuracy: 0.8077 - val_loss: 0.3596 - val_accuracy: 0.7798\n",
      "Epoch 6/100\n",
      "2953/2953 [==============================] - 19s 6ms/step - loss: 0.3600 - accuracy: 0.8110 - val_loss: 0.3596 - val_accuracy: 0.9208\n",
      "Epoch 7/100\n",
      "2953/2953 [==============================] - 19s 6ms/step - loss: 0.3598 - accuracy: 0.8223 - val_loss: 0.3591 - val_accuracy: 0.9633\n",
      "Epoch 8/100\n",
      "2953/2953 [==============================] - 19s 6ms/step - loss: 0.3595 - accuracy: 0.8358 - val_loss: 0.3600 - val_accuracy: 0.7910\n",
      "Epoch 9/100\n",
      "2953/2953 [==============================] - 19s 6ms/step - loss: 0.3599 - accuracy: 0.8418 - val_loss: 0.3593 - val_accuracy: 0.8842\n",
      "Epoch 10/100\n",
      "2953/2953 [==============================] - 19s 6ms/step - loss: 0.3595 - accuracy: 0.8475 - val_loss: 0.3587 - val_accuracy: 0.9685\n",
      "Epoch 11/100\n",
      "2953/2953 [==============================] - 19s 6ms/step - loss: 0.3595 - accuracy: 0.8530 - val_loss: 0.3590 - val_accuracy: 0.8645\n",
      "Epoch 12/100\n",
      "2953/2953 [==============================] - 19s 6ms/step - loss: 0.3593 - accuracy: 0.8577 - val_loss: 0.3594 - val_accuracy: 0.7446\n",
      "Epoch 13/100\n",
      "2953/2953 [==============================] - 19s 6ms/step - loss: 0.3593 - accuracy: 0.8588 - val_loss: 0.3587 - val_accuracy: 0.7707\n",
      "Epoch 14/100\n",
      "2953/2953 [==============================] - 19s 6ms/step - loss: 0.3593 - accuracy: 0.8648 - val_loss: 0.3592 - val_accuracy: 0.9427\n",
      "Epoch 15/100\n",
      "2953/2953 [==============================] - 19s 6ms/step - loss: 0.3592 - accuracy: 0.8675 - val_loss: 0.3595 - val_accuracy: 0.8873\n",
      "Epoch 16/100\n",
      "2953/2953 [==============================] - 19s 6ms/step - loss: 0.3591 - accuracy: 0.8723 - val_loss: 0.3591 - val_accuracy: 0.9297\n",
      "Epoch 17/100\n",
      "2953/2953 [==============================] - 19s 7ms/step - loss: 0.3593 - accuracy: 0.8690 - val_loss: 0.3588 - val_accuracy: 0.7928\n",
      "Epoch 18/100\n",
      "2953/2953 [==============================] - 19s 6ms/step - loss: 0.3590 - accuracy: 0.8806 - val_loss: 0.3593 - val_accuracy: 0.7924\n",
      "Epoch 19/100\n",
      "2953/2953 [==============================] - 19s 6ms/step - loss: 0.3592 - accuracy: 0.8739 - val_loss: 0.3587 - val_accuracy: 0.9382\n",
      "Epoch 20/100\n",
      "2953/2953 [==============================] - 20s 7ms/step - loss: 0.3590 - accuracy: 0.8839 - val_loss: 0.3593 - val_accuracy: 0.9502\n",
      "Epoch 21/100\n",
      "2953/2953 [==============================] - 19s 7ms/step - loss: 0.3590 - accuracy: 0.8770 - val_loss: 0.3591 - val_accuracy: 0.7568\n"
     ]
    }
   ],
   "source": [
    "stack_1 = autoencoder_1.fit(train_X, train_X, epochs=100, batch_size=batch_size,validation_data = (test_X,test_X),callbacks = [callback])"
   ]
  },
  {
   "cell_type": "code",
   "execution_count": 31,
   "id": "e1649f9d-8bad-4b97-869f-e36ad74dec74",
   "metadata": {},
   "outputs": [
    {
     "name": "stdout",
     "output_type": "stream",
     "text": [
      "3937/3937 [==============================] - 7s 2ms/step\n"
     ]
    }
   ],
   "source": [
    "pred = autoencoder_1.predict(act_features)"
   ]
  },
  {
   "cell_type": "code",
   "execution_count": 32,
   "id": "7120ddc2-e9b4-4b5e-96a7-b349dcc06716",
   "metadata": {},
   "outputs": [],
   "source": [
    "from sklearn.metrics import *\n",
    "import keras"
   ]
  },
  {
   "cell_type": "code",
   "execution_count": 33,
   "id": "17b7ee1c-a309-40c0-ae0d-e23f39a29744",
   "metadata": {},
   "outputs": [
    {
     "data": {
      "text/plain": [
       "0.35873806454341733"
      ]
     },
     "execution_count": 33,
     "metadata": {},
     "output_type": "execute_result"
    }
   ],
   "source": [
    "np.sum(keras.losses.mean_squared_error(pred,act_features))/len(act_features)"
   ]
  },
  {
   "cell_type": "code",
   "execution_count": 34,
   "id": "68e44617-4d08-4b58-8846-6269ccd65304",
   "metadata": {},
   "outputs": [
    {
     "name": "stdout",
     "output_type": "stream",
     "text": [
      "3937/3937 [==============================] - 5s 1ms/step\n"
     ]
    }
   ],
   "source": [
    "layer_name = 'latent_1'\n",
    "intermediate_layer_model = Model(inputs=autoencoder_1.input,\n",
    "                                 outputs=autoencoder_1.get_layer(layer_name).output)\n",
    "intermediate_output_1 = intermediate_layer_model.predict(act_features)"
   ]
  },
  {
   "cell_type": "markdown",
   "id": "51066f18-39f8-4893-b3bc-04e17551dfff",
   "metadata": {},
   "source": [
    "### Second Stack"
   ]
  },
  {
   "cell_type": "code",
   "execution_count": 35,
   "id": "abdc2508-a574-4e06-bd97-8ba907761bc4",
   "metadata": {},
   "outputs": [],
   "source": [
    "batch_size = 32\n",
    "input_dim = np.shape(intermediate_output_1)[1]\n",
    "input_layer = Input(shape=(input_dim), name='input')\n",
    "#Input Layer\n",
    "encoder = Dense (128, activation='relu')(input_layer)\n",
    "#Encoder’s first dense layer\n",
    "encoder = Dense (64, activation='relu')(encoder)\n",
    "#Encoder’s second dense layer\n",
    "encoder = Dense (32, activation='relu')(encoder)\n",
    "# Code layer\n",
    "latent_layer = Dense (16, activation='relu',name = 'latent_2')(encoder)\n",
    "# Decoder’s first dense layer\n",
    "decoder = Dense(32, activation='relu')(latent_layer)\n",
    "# Decoder’s second dense layer\n",
    "decoder = Dense(64, activation='relu')(decoder)\n",
    "# Decoder’s Third dense layer\n",
    "decoder = Dense(128, activation='relu')(decoder)\n",
    "# Output Layer\n",
    "decoder = Dense(input_dim, activation='relu')(decoder)"
   ]
  },
  {
   "cell_type": "code",
   "execution_count": 36,
   "id": "703f25f3-52e9-40e7-b309-c949994785e1",
   "metadata": {},
   "outputs": [],
   "source": [
    "autoencoder_2 = Model(inputs=input_layer, outputs=decoder)\n",
    "autoencoder_2.compile(metrics=['accuracy'],loss='mse',optimizer='adam')"
   ]
  },
  {
   "cell_type": "code",
   "execution_count": 37,
   "id": "ecf05aa1-441f-4d6e-a1d4-1ac548d99d34",
   "metadata": {},
   "outputs": [
    {
     "name": "stdout",
     "output_type": "stream",
     "text": [
      "Model: \"model_2\"\n",
      "_________________________________________________________________\n",
      " Layer (type)                Output Shape              Param #   \n",
      "=================================================================\n",
      " input (InputLayer)          [(None, 32)]              0         \n",
      "                                                                 \n",
      " dense_7 (Dense)             (None, 128)               4224      \n",
      "                                                                 \n",
      " dense_8 (Dense)             (None, 64)                8256      \n",
      "                                                                 \n",
      " dense_9 (Dense)             (None, 32)                2080      \n",
      "                                                                 \n",
      " latent_2 (Dense)            (None, 16)                528       \n",
      "                                                                 \n",
      " dense_10 (Dense)            (None, 32)                544       \n",
      "                                                                 \n",
      " dense_11 (Dense)            (None, 64)                2112      \n",
      "                                                                 \n",
      " dense_12 (Dense)            (None, 128)               8320      \n",
      "                                                                 \n",
      " dense_13 (Dense)            (None, 32)                4128      \n",
      "                                                                 \n",
      "=================================================================\n",
      "Total params: 30,192\n",
      "Trainable params: 30,192\n",
      "Non-trainable params: 0\n",
      "_________________________________________________________________\n"
     ]
    }
   ],
   "source": [
    "autoencoder_2.summary()"
   ]
  },
  {
   "cell_type": "code",
   "execution_count": 38,
   "id": "c4e67d55-9610-437c-b8ef-a2bbf58d3091",
   "metadata": {},
   "outputs": [],
   "source": [
    "callback = tf.keras.callbacks.EarlyStopping(monitor='val_loss', patience=8,restore_best_weights=True)"
   ]
  },
  {
   "cell_type": "code",
   "execution_count": 39,
   "id": "d3c21c79-b592-4a5b-8d5d-9bbf63950605",
   "metadata": {},
   "outputs": [],
   "source": [
    "train_intX,test_intX,train_intY,test_intY = train_test_split(intermediate_output_1,labels)"
   ]
  },
  {
   "cell_type": "code",
   "execution_count": 40,
   "id": "b6519236-ab54-4bdb-be55-5cbb3a5a1fc6",
   "metadata": {
    "tags": []
   },
   "outputs": [
    {
     "name": "stdout",
     "output_type": "stream",
     "text": [
      "Epoch 1/100\n",
      "2953/2953 [==============================] - 19s 6ms/step - loss: 0.0293 - accuracy: 0.8107 - val_loss: 0.0084 - val_accuracy: 0.9100\n",
      "Epoch 2/100\n",
      "2953/2953 [==============================] - 12s 4ms/step - loss: 0.0067 - accuracy: 0.9315 - val_loss: 0.0060 - val_accuracy: 0.9399\n",
      "Epoch 3/100\n",
      "2953/2953 [==============================] - 10s 3ms/step - loss: 0.0048 - accuracy: 0.9404 - val_loss: 0.0068 - val_accuracy: 0.9325\n",
      "Epoch 4/100\n",
      "2953/2953 [==============================] - 10s 3ms/step - loss: 0.0040 - accuracy: 0.9471 - val_loss: 0.0042 - val_accuracy: 0.9450\n",
      "Epoch 5/100\n",
      "2953/2953 [==============================] - 10s 3ms/step - loss: 0.0035 - accuracy: 0.9515 - val_loss: 0.0036 - val_accuracy: 0.9613\n",
      "Epoch 6/100\n",
      "2953/2953 [==============================] - 9s 3ms/step - loss: 0.0033 - accuracy: 0.9552 - val_loss: 0.0027 - val_accuracy: 0.9627\n",
      "Epoch 7/100\n",
      "2953/2953 [==============================] - 10s 3ms/step - loss: 0.0030 - accuracy: 0.9587 - val_loss: 0.0032 - val_accuracy: 0.9530\n",
      "Epoch 8/100\n",
      "2953/2953 [==============================] - 10s 3ms/step - loss: 0.0029 - accuracy: 0.9586 - val_loss: 0.0030 - val_accuracy: 0.9586\n",
      "Epoch 9/100\n",
      "2953/2953 [==============================] - 10s 3ms/step - loss: 0.0029 - accuracy: 0.9593 - val_loss: 0.0027 - val_accuracy: 0.9609\n",
      "Epoch 10/100\n",
      "2953/2953 [==============================] - 10s 3ms/step - loss: 0.0027 - accuracy: 0.9629 - val_loss: 0.0027 - val_accuracy: 0.9647\n",
      "Epoch 11/100\n",
      "2953/2953 [==============================] - 10s 3ms/step - loss: 0.0027 - accuracy: 0.9622 - val_loss: 0.0035 - val_accuracy: 0.9576\n",
      "Epoch 12/100\n",
      "2953/2953 [==============================] - 10s 3ms/step - loss: 0.0026 - accuracy: 0.9640 - val_loss: 0.0029 - val_accuracy: 0.9635\n",
      "Epoch 13/100\n",
      "2953/2953 [==============================] - 10s 3ms/step - loss: 0.0026 - accuracy: 0.9639 - val_loss: 0.0031 - val_accuracy: 0.9592\n",
      "Epoch 14/100\n",
      "2953/2953 [==============================] - 9s 3ms/step - loss: 0.0025 - accuracy: 0.9649 - val_loss: 0.0026 - val_accuracy: 0.9627\n",
      "Epoch 15/100\n",
      "2953/2953 [==============================] - 10s 3ms/step - loss: 0.0026 - accuracy: 0.9640 - val_loss: 0.0027 - val_accuracy: 0.9560\n",
      "Epoch 16/100\n",
      "2953/2953 [==============================] - 10s 3ms/step - loss: 0.0025 - accuracy: 0.9662 - val_loss: 0.0026 - val_accuracy: 0.9688\n",
      "Epoch 17/100\n",
      "2953/2953 [==============================] - 10s 3ms/step - loss: 0.0025 - accuracy: 0.9654 - val_loss: 0.0026 - val_accuracy: 0.9695\n",
      "Epoch 18/100\n",
      "2953/2953 [==============================] - 10s 3ms/step - loss: 0.0025 - accuracy: 0.9646 - val_loss: 0.0027 - val_accuracy: 0.9672\n",
      "Epoch 19/100\n",
      "2953/2953 [==============================] - 10s 3ms/step - loss: 0.0024 - accuracy: 0.9683 - val_loss: 0.0023 - val_accuracy: 0.9693\n",
      "Epoch 20/100\n",
      "2953/2953 [==============================] - 10s 3ms/step - loss: 0.0024 - accuracy: 0.9670 - val_loss: 0.0029 - val_accuracy: 0.9626\n",
      "Epoch 21/100\n",
      "2953/2953 [==============================] - 10s 3ms/step - loss: 0.0024 - accuracy: 0.9674 - val_loss: 0.0022 - val_accuracy: 0.9728\n",
      "Epoch 22/100\n",
      "2953/2953 [==============================] - 10s 3ms/step - loss: 0.0024 - accuracy: 0.9679 - val_loss: 0.0023 - val_accuracy: 0.9691\n",
      "Epoch 23/100\n",
      "2953/2953 [==============================] - 10s 3ms/step - loss: 0.0023 - accuracy: 0.9692 - val_loss: 0.0021 - val_accuracy: 0.9707\n",
      "Epoch 24/100\n",
      "2953/2953 [==============================] - 10s 3ms/step - loss: 0.0023 - accuracy: 0.9677 - val_loss: 0.0024 - val_accuracy: 0.9656\n",
      "Epoch 25/100\n",
      "2953/2953 [==============================] - 10s 3ms/step - loss: 0.0023 - accuracy: 0.9685 - val_loss: 0.0022 - val_accuracy: 0.9727\n",
      "Epoch 26/100\n",
      "2953/2953 [==============================] - 10s 3ms/step - loss: 0.0023 - accuracy: 0.9687 - val_loss: 0.0032 - val_accuracy: 0.9595\n",
      "Epoch 27/100\n",
      "2953/2953 [==============================] - 9s 3ms/step - loss: 0.0023 - accuracy: 0.9679 - val_loss: 0.0023 - val_accuracy: 0.9734\n",
      "Epoch 28/100\n",
      "2953/2953 [==============================] - 10s 3ms/step - loss: 0.0022 - accuracy: 0.9694 - val_loss: 0.0026 - val_accuracy: 0.9649\n",
      "Epoch 29/100\n",
      "2953/2953 [==============================] - 9s 3ms/step - loss: 0.0022 - accuracy: 0.9684 - val_loss: 0.0024 - val_accuracy: 0.9695\n",
      "Epoch 30/100\n",
      "2953/2953 [==============================] - 9s 3ms/step - loss: 0.0022 - accuracy: 0.9703 - val_loss: 0.0022 - val_accuracy: 0.9731\n",
      "Epoch 31/100\n",
      "2953/2953 [==============================] - 9s 3ms/step - loss: 0.0022 - accuracy: 0.9692 - val_loss: 0.0026 - val_accuracy: 0.9697\n"
     ]
    }
   ],
   "source": [
    "stack_2 = autoencoder_2.fit(train_intX, train_intX, epochs=100, batch_size=32,callbacks = [callback],validation_data = (test_intX, test_intX))"
   ]
  },
  {
   "cell_type": "code",
   "execution_count": 41,
   "id": "4f2309d5-91d1-4c0a-b6ee-971076df0011",
   "metadata": {},
   "outputs": [
    {
     "name": "stdout",
     "output_type": "stream",
     "text": [
      "3937/3937 [==============================] - 4s 912us/step\n"
     ]
    }
   ],
   "source": [
    "pred = autoencoder_2.predict(intermediate_output_1)"
   ]
  },
  {
   "cell_type": "code",
   "execution_count": 42,
   "id": "67886a6b-8950-4fdf-9258-974ed368a4f0",
   "metadata": {},
   "outputs": [
    {
     "data": {
      "text/plain": [
       "0.0020124132560740944"
      ]
     },
     "execution_count": 42,
     "metadata": {},
     "output_type": "execute_result"
    }
   ],
   "source": [
    "np.sum(keras.losses.mean_squared_error(pred,intermediate_output_1))/len(intermediate_output_1)"
   ]
  },
  {
   "cell_type": "code",
   "execution_count": 55,
   "id": "82f9cf66-1bbc-4188-9ab3-e4a6fc8eeefc",
   "metadata": {},
   "outputs": [
    {
     "name": "stdout",
     "output_type": "stream",
     "text": [
      "3937/3937 [==============================] - 7s 2ms/step\n"
     ]
    }
   ],
   "source": [
    "layer_name = 'latent_2'\n",
    "intermediate_layer_model = Model(inputs=autoencoder_2.input,\n",
    "                                 outputs=autoencoder_2.get_layer(layer_name).output)\n",
    "intermediate_output_2 = intermediate_layer_model.predict(intermediate_output_1)"
   ]
  },
  {
   "cell_type": "markdown",
   "id": "705f51ae-5b72-44fe-9347-a5bc95afe895",
   "metadata": {},
   "source": [
    "### Classifier Model"
   ]
  },
  {
   "cell_type": "code",
   "execution_count": 56,
   "id": "e42990d5-e983-41a8-b543-7de9b750ab74",
   "metadata": {},
   "outputs": [],
   "source": [
    "batch_size = 32\n",
    "input_dim = np.shape(intermediate_output_2)[1]\n",
    "input_layer = Input(shape=(input_dim), name='input')\n",
    "#Input Layer\n",
    "dense1 = Dense (128, activation='relu')(input_layer)\n",
    "dense2 = Dense (64, activation='relu')(dense1)\n",
    "dense3 = Dense (8, activation='relu')(dense2)\n",
    "# Output Layer\n",
    "classifier = Dense(len(set(train_Y)), activation='softmax')(dense3)"
   ]
  },
  {
   "cell_type": "code",
   "execution_count": 57,
   "id": "61b5f89c-da19-4c1d-aeac-6480742079d1",
   "metadata": {},
   "outputs": [],
   "source": [
    "classify = Model(inputs=input_layer, outputs=classifier)\n",
    "classify.compile(metrics=['accuracy'],loss='sparse_categorical_crossentropy',optimizer='adam')"
   ]
  },
  {
   "cell_type": "code",
   "execution_count": 58,
   "id": "c3deff5e-3a70-4c40-8d62-8b58ff6ca736",
   "metadata": {},
   "outputs": [
    {
     "name": "stdout",
     "output_type": "stream",
     "text": [
      "Model: \"model_6\"\n",
      "_________________________________________________________________\n",
      " Layer (type)                Output Shape              Param #   \n",
      "=================================================================\n",
      " input (InputLayer)          [(None, 16)]              0         \n",
      "                                                                 \n",
      " dense_18 (Dense)            (None, 128)               2176      \n",
      "                                                                 \n",
      " dense_19 (Dense)            (None, 64)                8256      \n",
      "                                                                 \n",
      " dense_20 (Dense)            (None, 8)                 520       \n",
      "                                                                 \n",
      " dense_21 (Dense)            (None, 5)                 45        \n",
      "                                                                 \n",
      "=================================================================\n",
      "Total params: 10,997\n",
      "Trainable params: 10,997\n",
      "Non-trainable params: 0\n",
      "_________________________________________________________________\n"
     ]
    }
   ],
   "source": [
    "classify.summary()"
   ]
  },
  {
   "cell_type": "code",
   "execution_count": 59,
   "id": "5f16222d-bbaf-41ca-a946-3878215bbb03",
   "metadata": {},
   "outputs": [],
   "source": [
    "train_intX, test_intX , train_intY ,test_intY = train_test_split(intermediate_output_2,labels,random_state = 42,test_size = 0.1)"
   ]
  },
  {
   "cell_type": "code",
   "execution_count": 60,
   "id": "7c684890-71f9-4a4d-95a1-13af063efc47",
   "metadata": {},
   "outputs": [
    {
     "data": {
      "text/plain": [
       "((113375, 16), (12598, 16), (113375,), (12598,))"
      ]
     },
     "execution_count": 60,
     "metadata": {},
     "output_type": "execute_result"
    }
   ],
   "source": [
    "np.shape(train_intX), np.shape(test_intX ), np.shape(train_intY) ,np.shape(test_intY)"
   ]
  },
  {
   "cell_type": "code",
   "execution_count": 61,
   "id": "58791707-7c1c-4974-9244-fb445b644ccc",
   "metadata": {
    "tags": []
   },
   "outputs": [
    {
     "name": "stdout",
     "output_type": "stream",
     "text": [
      "Epoch 1/100\n",
      "3543/3543 [==============================] - 19s 5ms/step - loss: 0.1389 - accuracy: 0.9589 - val_loss: 0.0886 - val_accuracy: 0.9713\n",
      "Epoch 2/100\n",
      "3543/3543 [==============================] - 19s 5ms/step - loss: 0.0768 - accuracy: 0.9755 - val_loss: 0.0782 - val_accuracy: 0.9744\n",
      "Epoch 3/100\n",
      "3543/3543 [==============================] - 19s 5ms/step - loss: 0.0639 - accuracy: 0.9788 - val_loss: 0.0648 - val_accuracy: 0.9794\n",
      "Epoch 4/100\n",
      "3543/3543 [==============================] - 19s 5ms/step - loss: 0.0573 - accuracy: 0.9808 - val_loss: 0.0608 - val_accuracy: 0.9806\n",
      "Epoch 5/100\n",
      "3543/3543 [==============================] - 19s 5ms/step - loss: 0.0524 - accuracy: 0.9819 - val_loss: 0.0611 - val_accuracy: 0.9811\n",
      "Epoch 6/100\n",
      "3543/3543 [==============================] - 19s 5ms/step - loss: 0.0499 - accuracy: 0.9823 - val_loss: 0.0613 - val_accuracy: 0.9817\n",
      "Epoch 7/100\n",
      "3543/3543 [==============================] - 19s 5ms/step - loss: 0.0471 - accuracy: 0.9833 - val_loss: 0.0516 - val_accuracy: 0.9836\n",
      "Epoch 8/100\n",
      "3543/3543 [==============================] - 19s 5ms/step - loss: 0.0444 - accuracy: 0.9840 - val_loss: 0.0517 - val_accuracy: 0.9840\n",
      "Epoch 9/100\n",
      "3543/3543 [==============================] - 19s 5ms/step - loss: 0.0421 - accuracy: 0.9851 - val_loss: 0.0482 - val_accuracy: 0.9844\n",
      "Epoch 10/100\n",
      "3543/3543 [==============================] - 19s 5ms/step - loss: 0.0407 - accuracy: 0.9856 - val_loss: 0.0535 - val_accuracy: 0.9824\n",
      "Epoch 11/100\n",
      "3543/3543 [==============================] - 19s 5ms/step - loss: 0.0398 - accuracy: 0.9859 - val_loss: 0.0496 - val_accuracy: 0.9824\n",
      "Epoch 12/100\n",
      "3543/3543 [==============================] - 19s 5ms/step - loss: 0.0383 - accuracy: 0.9864 - val_loss: 0.0457 - val_accuracy: 0.9860\n",
      "Epoch 13/100\n",
      "3543/3543 [==============================] - 19s 5ms/step - loss: 0.0366 - accuracy: 0.9869 - val_loss: 0.0447 - val_accuracy: 0.9855\n",
      "Epoch 14/100\n",
      "3543/3543 [==============================] - 19s 5ms/step - loss: 0.0370 - accuracy: 0.9869 - val_loss: 0.0465 - val_accuracy: 0.9868\n",
      "Epoch 15/100\n",
      "3543/3543 [==============================] - 19s 5ms/step - loss: 0.0352 - accuracy: 0.9875 - val_loss: 0.0512 - val_accuracy: 0.9841\n",
      "Epoch 16/100\n",
      "3543/3543 [==============================] - 19s 5ms/step - loss: 0.0347 - accuracy: 0.9874 - val_loss: 0.0485 - val_accuracy: 0.9836\n",
      "Epoch 17/100\n",
      "3543/3543 [==============================] - 18s 5ms/step - loss: 0.0342 - accuracy: 0.9879 - val_loss: 0.0453 - val_accuracy: 0.9863\n",
      "Epoch 18/100\n",
      "3543/3543 [==============================] - 18s 5ms/step - loss: 0.0333 - accuracy: 0.9875 - val_loss: 0.0444 - val_accuracy: 0.9868\n",
      "Epoch 19/100\n",
      "3543/3543 [==============================] - 19s 5ms/step - loss: 0.0333 - accuracy: 0.9880 - val_loss: 0.0403 - val_accuracy: 0.9868\n",
      "Epoch 20/100\n",
      "3543/3543 [==============================] - 19s 5ms/step - loss: 0.0320 - accuracy: 0.9883 - val_loss: 0.0388 - val_accuracy: 0.9883\n",
      "Epoch 21/100\n",
      "3543/3543 [==============================] - 19s 5ms/step - loss: 0.0315 - accuracy: 0.9884 - val_loss: 0.0440 - val_accuracy: 0.9868\n",
      "Epoch 22/100\n",
      "3543/3543 [==============================] - 18s 5ms/step - loss: 0.0311 - accuracy: 0.9888 - val_loss: 0.0506 - val_accuracy: 0.9848\n",
      "Epoch 23/100\n",
      "3543/3543 [==============================] - 19s 5ms/step - loss: 0.0317 - accuracy: 0.9884 - val_loss: 0.0416 - val_accuracy: 0.9871\n",
      "Epoch 24/100\n",
      "3543/3543 [==============================] - 19s 5ms/step - loss: 0.0307 - accuracy: 0.9889 - val_loss: 0.0408 - val_accuracy: 0.9886\n",
      "Epoch 25/100\n",
      "3543/3543 [==============================] - 19s 5ms/step - loss: 0.0299 - accuracy: 0.9889 - val_loss: 0.0498 - val_accuracy: 0.9856\n",
      "Epoch 26/100\n",
      "3543/3543 [==============================] - 19s 5ms/step - loss: 0.0300 - accuracy: 0.9887 - val_loss: 0.0383 - val_accuracy: 0.9884\n",
      "Epoch 27/100\n",
      "3543/3543 [==============================] - 19s 5ms/step - loss: 0.0296 - accuracy: 0.9891 - val_loss: 0.0395 - val_accuracy: 0.9883\n",
      "Epoch 28/100\n",
      "3543/3543 [==============================] - 19s 5ms/step - loss: 0.0292 - accuracy: 0.9892 - val_loss: 0.0390 - val_accuracy: 0.9886\n",
      "Epoch 29/100\n",
      "3543/3543 [==============================] - 19s 5ms/step - loss: 0.0292 - accuracy: 0.9891 - val_loss: 0.0380 - val_accuracy: 0.9877\n",
      "Epoch 30/100\n",
      "3543/3543 [==============================] - 19s 5ms/step - loss: 0.0278 - accuracy: 0.9894 - val_loss: 0.0391 - val_accuracy: 0.9871\n",
      "Epoch 31/100\n",
      "3543/3543 [==============================] - 18s 5ms/step - loss: 0.0285 - accuracy: 0.9894 - val_loss: 0.0436 - val_accuracy: 0.9865\n",
      "Epoch 32/100\n",
      "3543/3543 [==============================] - 18s 5ms/step - loss: 0.0282 - accuracy: 0.9896 - val_loss: 0.0375 - val_accuracy: 0.9904\n",
      "Epoch 33/100\n",
      "3543/3543 [==============================] - 18s 5ms/step - loss: 0.0276 - accuracy: 0.9899 - val_loss: 0.0379 - val_accuracy: 0.9874\n",
      "Epoch 34/100\n",
      "3543/3543 [==============================] - 19s 5ms/step - loss: 0.0277 - accuracy: 0.9897 - val_loss: 0.0391 - val_accuracy: 0.9884\n",
      "Epoch 35/100\n",
      "3543/3543 [==============================] - 19s 5ms/step - loss: 0.0280 - accuracy: 0.9896 - val_loss: 0.0392 - val_accuracy: 0.9888\n",
      "Epoch 36/100\n",
      "3543/3543 [==============================] - 19s 5ms/step - loss: 0.0263 - accuracy: 0.9900 - val_loss: 0.0390 - val_accuracy: 0.9875\n",
      "Epoch 37/100\n",
      "3543/3543 [==============================] - 18s 5ms/step - loss: 0.0268 - accuracy: 0.9899 - val_loss: 0.0374 - val_accuracy: 0.9893\n",
      "Epoch 38/100\n",
      "3543/3543 [==============================] - 19s 5ms/step - loss: 0.0267 - accuracy: 0.9900 - val_loss: 0.0358 - val_accuracy: 0.9904\n",
      "Epoch 39/100\n",
      "3543/3543 [==============================] - 19s 5ms/step - loss: 0.0264 - accuracy: 0.9903 - val_loss: 0.0376 - val_accuracy: 0.9897\n",
      "Epoch 40/100\n",
      "3543/3543 [==============================] - 18s 5ms/step - loss: 0.0257 - accuracy: 0.9905 - val_loss: 0.0357 - val_accuracy: 0.9897\n",
      "Epoch 41/100\n",
      "3543/3543 [==============================] - 19s 5ms/step - loss: 0.0259 - accuracy: 0.9908 - val_loss: 0.0360 - val_accuracy: 0.9899\n",
      "Epoch 42/100\n",
      "3543/3543 [==============================] - 19s 5ms/step - loss: 0.0259 - accuracy: 0.9903 - val_loss: 0.0366 - val_accuracy: 0.9904\n",
      "Epoch 43/100\n",
      "3543/3543 [==============================] - 19s 5ms/step - loss: 0.0256 - accuracy: 0.9904 - val_loss: 0.0372 - val_accuracy: 0.9887\n",
      "Epoch 44/100\n",
      "3543/3543 [==============================] - 20s 6ms/step - loss: 0.0252 - accuracy: 0.9904 - val_loss: 0.0376 - val_accuracy: 0.9889\n",
      "Epoch 45/100\n",
      "3543/3543 [==============================] - 20s 6ms/step - loss: 0.0255 - accuracy: 0.9905 - val_loss: 0.0432 - val_accuracy: 0.9882\n",
      "Epoch 46/100\n",
      "3543/3543 [==============================] - 20s 6ms/step - loss: 0.0251 - accuracy: 0.9906 - val_loss: 0.0395 - val_accuracy: 0.9886\n",
      "Epoch 47/100\n",
      "3543/3543 [==============================] - 20s 6ms/step - loss: 0.0247 - accuracy: 0.9906 - val_loss: 0.0387 - val_accuracy: 0.9881\n",
      "Epoch 48/100\n",
      "3543/3543 [==============================] - 21s 6ms/step - loss: 0.0252 - accuracy: 0.9904 - val_loss: 0.0356 - val_accuracy: 0.9893\n",
      "Epoch 49/100\n",
      "3543/3543 [==============================] - 21s 6ms/step - loss: 0.0243 - accuracy: 0.9909 - val_loss: 0.0394 - val_accuracy: 0.9898\n",
      "Epoch 50/100\n",
      "3543/3543 [==============================] - 21s 6ms/step - loss: 0.0246 - accuracy: 0.9908 - val_loss: 0.0369 - val_accuracy: 0.9890\n",
      "Epoch 51/100\n",
      "3543/3543 [==============================] - 14s 4ms/step - loss: 0.0243 - accuracy: 0.9908 - val_loss: 0.0379 - val_accuracy: 0.9887\n",
      "Epoch 52/100\n",
      "3543/3543 [==============================] - 8s 2ms/step - loss: 0.0240 - accuracy: 0.9910 - val_loss: 0.0362 - val_accuracy: 0.9886\n",
      "Epoch 53/100\n",
      "3543/3543 [==============================] - 8s 2ms/step - loss: 0.0245 - accuracy: 0.9910 - val_loss: 0.0372 - val_accuracy: 0.9894\n",
      "Epoch 54/100\n",
      "3543/3543 [==============================] - 9s 2ms/step - loss: 0.0243 - accuracy: 0.9911 - val_loss: 0.0363 - val_accuracy: 0.9901\n",
      "Epoch 55/100\n",
      "3543/3543 [==============================] - 16s 5ms/step - loss: 0.0237 - accuracy: 0.9911 - val_loss: 0.0389 - val_accuracy: 0.9886\n",
      "Epoch 56/100\n",
      "3543/3543 [==============================] - 21s 6ms/step - loss: 0.0238 - accuracy: 0.9912 - val_loss: 0.0338 - val_accuracy: 0.9901\n",
      "Epoch 57/100\n",
      "3543/3543 [==============================] - 21s 6ms/step - loss: 0.0237 - accuracy: 0.9910 - val_loss: 0.0332 - val_accuracy: 0.9902\n",
      "Epoch 58/100\n",
      "3543/3543 [==============================] - 21s 6ms/step - loss: 0.0237 - accuracy: 0.9912 - val_loss: 0.0365 - val_accuracy: 0.9908\n",
      "Epoch 59/100\n",
      "3543/3543 [==============================] - 21s 6ms/step - loss: 0.0237 - accuracy: 0.9911 - val_loss: 0.0381 - val_accuracy: 0.9903\n",
      "Epoch 60/100\n",
      "3543/3543 [==============================] - 21s 6ms/step - loss: 0.0235 - accuracy: 0.9910 - val_loss: 0.0404 - val_accuracy: 0.9891\n",
      "Epoch 61/100\n",
      "3543/3543 [==============================] - 21s 6ms/step - loss: 0.0234 - accuracy: 0.9913 - val_loss: 0.0417 - val_accuracy: 0.9893\n",
      "Epoch 62/100\n",
      "3543/3543 [==============================] - 21s 6ms/step - loss: 0.0234 - accuracy: 0.9911 - val_loss: 0.0382 - val_accuracy: 0.9888\n",
      "Epoch 63/100\n",
      "3543/3543 [==============================] - 21s 6ms/step - loss: 0.0227 - accuracy: 0.9915 - val_loss: 0.0374 - val_accuracy: 0.9886\n",
      "Epoch 64/100\n",
      "3543/3543 [==============================] - 21s 6ms/step - loss: 0.0234 - accuracy: 0.9915 - val_loss: 0.0368 - val_accuracy: 0.9901\n",
      "Epoch 65/100\n",
      "3543/3543 [==============================] - 21s 6ms/step - loss: 0.0230 - accuracy: 0.9912 - val_loss: 0.0412 - val_accuracy: 0.9874\n"
     ]
    }
   ],
   "source": [
    "history = classify.fit(train_intX, train_intY, epochs=100, batch_size=32,callbacks = [callback],validation_data = (test_intX, test_intY))"
   ]
  },
  {
   "cell_type": "code",
   "execution_count": 62,
   "id": "3835f939-1e47-4ed9-9e94-41a990119a5a",
   "metadata": {},
   "outputs": [
    {
     "name": "stdout",
     "output_type": "stream",
     "text": [
      "394/394 [==============================] - 1s 2ms/step\n"
     ]
    }
   ],
   "source": [
    "preds = classify.predict(test_intX)"
   ]
  },
  {
   "cell_type": "code",
   "execution_count": 63,
   "id": "2d90d8aa-687a-437a-ba87-33e74ed2e502",
   "metadata": {},
   "outputs": [
    {
     "data": {
      "text/plain": [
       "((12598, 5), (12598,))"
      ]
     },
     "execution_count": 63,
     "metadata": {},
     "output_type": "execute_result"
    }
   ],
   "source": [
    "np.shape(preds),np.shape(test_intY)"
   ]
  },
  {
   "cell_type": "code",
   "execution_count": 64,
   "id": "827db2ea-1075-4822-a90e-db2b000a51e3",
   "metadata": {},
   "outputs": [
    {
     "data": {
      "text/plain": [
       "{0.0, 1.0, 2.0, 3.0, 4.0}"
      ]
     },
     "execution_count": 64,
     "metadata": {},
     "output_type": "execute_result"
    }
   ],
   "source": [
    "set(labels)"
   ]
  },
  {
   "cell_type": "code",
   "execution_count": 65,
   "id": "66420e44-e3ac-49a0-b475-7ac3892e68a6",
   "metadata": {},
   "outputs": [],
   "source": [
    "from sklearn.metrics import confusion_matrix\n",
    "conf_mat = confusion_matrix(np.argmax(preds,axis = 1), test_intY)"
   ]
  },
  {
   "cell_type": "code",
   "execution_count": 66,
   "id": "80596a4f-2000-4f04-bb7b-0815b7ced17d",
   "metadata": {},
   "outputs": [
    {
     "name": "stdout",
     "output_type": "stream",
     "text": [
      "0.9901571678044134\n",
      "0.7558181113989388\n",
      "0.7692888017531805\n",
      "0.7622682575519264\n"
     ]
    },
    {
     "name": "stderr",
     "output_type": "stream",
     "text": [
      "C:\\Users\\ArrunPersonal\\anaconda3\\lib\\site-packages\\sklearn\\metrics\\_classification.py:1344: UndefinedMetricWarning: Recall is ill-defined and being set to 0.0 in labels with no true samples. Use `zero_division` parameter to control this behavior.\n",
      "  _warn_prf(average, modifier, msg_start, len(result))\n"
     ]
    }
   ],
   "source": [
    "print(accuracy_score(np.argmax(preds,axis = 1),test_intY))\n",
    "print(precision_score(np.argmax(preds,axis = 1),test_intY,average = 'macro'))\n",
    "print(recall_score(np.argmax(preds,axis = 1),test_intY,average = 'macro'))\n",
    "print(f1_score(np.argmax(preds,axis = 1),test_intY,average = 'macro'))"
   ]
  },
  {
   "cell_type": "code",
   "execution_count": 67,
   "id": "5582266a-40c3-49cf-bf08-81fef2e5ec2f",
   "metadata": {},
   "outputs": [],
   "source": [
    "import seaborn as sns"
   ]
  },
  {
   "cell_type": "code",
   "execution_count": 68,
   "id": "f8fd906d-887d-4ad9-ab88-c4350bb4b179",
   "metadata": {},
   "outputs": [
    {
     "data": {
      "text/plain": [
       "<AxesSubplot:>"
      ]
     },
     "execution_count": 68,
     "metadata": {},
     "output_type": "execute_result"
    },
    {
     "data": {
      "image/png": "[encoded data removed]",
      "text/plain": [
       "<Figure size 432x288 with 2 Axes>"
      ]
     },
     "metadata": {
      "needs_background": "light"
     },
     "output_type": "display_data"
    }
   ],
   "source": [
    "sns.heatmap(conf_mat, annot=True)"
   ]
  },
  {
   "cell_type": "code",
   "execution_count": null,
   "id": "069a2500-fbe0-4b39-8568-13285b36fc70",
   "metadata": {},
   "outputs": [],
   "source": []
  }
 ],
 "metadata": {
  "kernelspec": {
   "display_name": "Python 3 (ipykernel)",
   "language": "python",
   "name": "python3"
  },
  "language_info": {
   "codemirror_mode": {
    "name": "ipython",
    "version": 3
   },
   "file_extension": ".py",
   "mimetype": "text/x-python",
   "name": "python",
   "nbconvert_exporter": "python",
   "pygments_lexer": "ipython3",
   "version": "3.9.7"
  }
 },
 "nbformat": 4,
 "nbformat_minor": 5
}
